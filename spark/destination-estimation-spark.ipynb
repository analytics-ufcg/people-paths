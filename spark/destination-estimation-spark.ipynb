{
 "cells": [
  {
   "cell_type": "code",
   "execution_count": 5,
   "metadata": {
    "collapsed": true
   },
   "outputs": [],
   "source": [
    "import pyspark\n",
    "from pyspark import SparkContext\n",
    "from pyspark.sql.window import Window\n",
    "from pyspark.sql import functions as F\n",
    "from pyspark.sql import types as T\n",
    "\n",
    "import json\n",
    "import numpy as np"
   ]
  },
  {
   "cell_type": "code",
   "execution_count": 6,
   "metadata": {
    "collapsed": true
   },
   "outputs": [],
   "source": [
    "def rename_columns(df, list_of_tuples):\n",
    "    for (old_col, new_col) in list_of_tuples:\n",
    "        df = df.withColumnRenamed(old_col, new_col)\n",
    "    return df\n",
    "\n",
    "def read_file(filepath, sqlContext):\n",
    "    data_frame = sqlContext.read.csv(filepath, header=False,\n",
    "                                     inferSchema=True,nullValue=\"-\")\n",
    "    while len(data_frame.columns) < 16:\n",
    "        col_name = \"_c\" + str(len(data_frame.columns))\n",
    "        data_frame = data_frame.withColumn(col_name, F.lit(None))\n",
    "\n",
    "    data_frame = rename_columns(\n",
    "        data_frame,\n",
    "        [\n",
    "            (\"_c0\", \"route\"),\n",
    "            (\"_c1\", \"tripNum\"),\n",
    "            (\"_c2\", \"shapeId\"),\n",
    "            (\"_c3\", \"shapeSequence\"),\n",
    "            (\"_c4\", \"shapeLat\"),\n",
    "            (\"_c5\", \"shapeLon\"),\n",
    "            (\"_c6\", \"distanceTraveledShape\"),\n",
    "            (\"_c7\", \"busCode\"),\n",
    "            (\"_c8\", \"gpsPointId\"),\n",
    "            (\"_c9\", \"gpsLat\"),\n",
    "            (\"_c10\", \"gpsLon\"),\n",
    "            (\"_c11\", \"distanceToShapePoint\"),\n",
    "            (\"_c12\", \"timestamp\"),\n",
    "            (\"_c13\", \"busStopId\"),\n",
    "            (\"_c14\", \"problem\"),\n",
    "            (\"_c15\", \"numPassengers\")\n",
    "        ]\n",
    "    )\n",
    "\n",
    "    date = \"-\".join(filepath.split(\"/\")[-2].split(\"_\")[:3])\n",
    "\n",
    "    data_frame = data_frame.withColumn(\"date\", F.lit(date))\n",
    "\n",
    "    return data_frame\n",
    "\n",
    "def print_df(df,l=10):\n",
    "    return df.limit(l).toPandas()"
   ]
  },
  {
   "cell_type": "markdown",
   "metadata": {
    "collapsed": true
   },
   "source": [
    "### Read GPS Data"
   ]
  },
  {
   "cell_type": "code",
   "execution_count": 7,
   "metadata": {
    "collapsed": true
   },
   "outputs": [],
   "source": [
    "sc = SparkContext.getOrCreate()\n",
    "sqlContext = pyspark.SQLContext(sc)"
   ]
  },
  {
   "cell_type": "code",
   "execution_count": 8,
   "metadata": {},
   "outputs": [],
   "source": [
    "exp_data_folder_path = '/local/tarciso/data/sample-data/'\n",
    "trips_data = read_file(exp_data_folder_path + '/bulma-output/2017_05_11_veiculos.csv/part-00000', sqlContext)"
   ]
  },
  {
   "cell_type": "code",
   "execution_count": 9,
   "metadata": {},
   "outputs": [
    {
     "data": {
      "text/plain": [
       "[Row(route=u'372', tripNum=4, shapeId=1891, shapeSequence=6136916, shapeLat=-25.432724990605614, shapeLon=-49.27218701780396, distanceTraveledShape=10149.88, busCode=u'CC170', gpsPointId=None, gpsLat=None, gpsLon=None, distanceToShapePoint=None, timestamp=u'12:13:43', busStopId=None, problem=u'BETWEEN', numPassengers=None, date=u'2017-05-11'),\n",
       " Row(route=u'372', tripNum=4, shapeId=1891, shapeSequence=6136915, shapeLat=-25.432470122014415, shapeLon=-49.27231020615159, distanceTraveledShape=10119.046, busCode=u'CC170', gpsPointId=None, gpsLat=None, gpsLon=None, distanceToShapePoint=None, timestamp=u'12:45:14', busStopId=None, problem=u'BETWEEN', numPassengers=None, date=u'2017-05-11'),\n",
       " Row(route=u'372', tripNum=1, shapeId=1891, shapeSequence=6136650, shapeLat=-25.413362156585787, shapeLon=-49.20592429766663, distanceTraveledShape=79.983, busCode=u'CC170', gpsPointId=None, gpsLat=-25.413378, gpsLon=-49.205836, distanceToShapePoint=9.041484, timestamp=u'05:41:14', busStopId=None, problem=u'NO_PROBLEM', numPassengers=None, date=u'2017-05-11')]"
      ]
     },
     "execution_count": 9,
     "metadata": {},
     "output_type": "execute_result"
    }
   ],
   "source": [
    "trips_data.head(3)"
   ]
  },
  {
   "cell_type": "code",
   "execution_count": 10,
   "metadata": {},
   "outputs": [
    {
     "name": "stdout",
     "output_type": "stream",
     "text": [
      "root\n",
      " |-- route: string (nullable = true)\n",
      " |-- tripNum: integer (nullable = true)\n",
      " |-- shapeId: integer (nullable = true)\n",
      " |-- shapeSequence: integer (nullable = true)\n",
      " |-- shapeLat: double (nullable = true)\n",
      " |-- shapeLon: double (nullable = true)\n",
      " |-- distanceTraveledShape: double (nullable = true)\n",
      " |-- busCode: string (nullable = true)\n",
      " |-- gpsPointId: string (nullable = true)\n",
      " |-- gpsLat: double (nullable = true)\n",
      " |-- gpsLon: double (nullable = true)\n",
      " |-- distanceToShapePoint: double (nullable = true)\n",
      " |-- timestamp: string (nullable = true)\n",
      " |-- busStopId: integer (nullable = true)\n",
      " |-- problem: string (nullable = true)\n",
      " |-- numPassengers: integer (nullable = true)\n",
      " |-- date: string (nullable = false)\n",
      "\n"
     ]
    }
   ],
   "source": [
    "trips_data.printSchema()"
   ]
  },
  {
   "cell_type": "markdown",
   "metadata": {},
   "source": [
    "### Read Bus Card Data"
   ]
  },
  {
   "cell_type": "code",
   "execution_count": 11,
   "metadata": {
    "collapsed": true
   },
   "outputs": [],
   "source": [
    "ticketing_data = sqlContext.read.json(exp_data_folder_path + '/ticketing-sample/doc1-2017051115.txt')"
   ]
  },
  {
   "cell_type": "code",
   "execution_count": 12,
   "metadata": {
    "collapsed": true
   },
   "outputs": [],
   "source": [
    "#Renaming columns to english\n",
    "ticketing_data = ticketing_data.select(F.col(\"CODLINHA\").alias(\"route\"),\n",
    "                                       F.col(\"CODVEICULO\").alias(\"busCode\"),\n",
    "                                       F.col(\"DATANASCIMENTO\").alias(\"userBirthdate\"),\n",
    "                                       F.col(\"DATAUTILIZACAO\").alias(\"cardTimestamp\"),\n",
    "                                       F.col(\"NOMELINHA\").alias(\"lineName\"),\n",
    "                                       F.col(\"NUMEROCARTAO\").alias(\"cardNum\"),\n",
    "                                       F.col(\"SEXO\").alias(\"gender\"))"
   ]
  },
  {
   "cell_type": "code",
   "execution_count": 13,
   "metadata": {},
   "outputs": [
    {
     "name": "stdout",
     "output_type": "stream",
     "text": [
      "root\n",
      " |-- route: string (nullable = true)\n",
      " |-- busCode: string (nullable = true)\n",
      " |-- userBirthdate: string (nullable = true)\n",
      " |-- cardTimestamp: string (nullable = true)\n",
      " |-- lineName: string (nullable = true)\n",
      " |-- cardNum: string (nullable = true)\n",
      " |-- gender: string (nullable = true)\n",
      "\n"
     ]
    }
   ],
   "source": [
    "ticketing_data.printSchema()"
   ]
  },
  {
   "cell_type": "code",
   "execution_count": 14,
   "metadata": {},
   "outputs": [
    {
     "data": {
      "text/plain": [
       "[Row(route=u'021', busCode=u'08046', userBirthdate=u'26/01/72', cardTimestamp=u'10/05/17 20:15:16,000000', lineName=u'INTERB II ANTI H', cardNum=u'0001937533', gender=u'F'),\n",
       " Row(route=u'021', busCode=u'08027', userBirthdate=u'26/01/72', cardTimestamp=u'10/05/17 13:10:24,000000', lineName=u'INTERB II ANTI H', cardNum=u'0001937533', gender=u'F'),\n",
       " Row(route=u'623', busCode=u'HA022', userBirthdate=u'06/03/71', cardTimestamp=u'10/05/17 08:23:45,000000', lineName=u'PQ.INDUSTRIAL', cardNum=u'0001311020', gender=u'F'),\n",
       " Row(route=u'000', busCode=u'03023', userBirthdate=u'06/03/71', cardTimestamp=u'10/05/17 11:54:19,000000', lineName=u'OPER S/LINHA', cardNum=u'0001311020', gender=u'F'),\n",
       " Row(route=u'TPH', busCode=u'03019', userBirthdate=u'23/11/79', cardTimestamp=u'10/05/17 13:30:10,000000', lineName=u'TERMINAL PINHEIRINHO', cardNum=u'0002425635', gender=u'F')]"
      ]
     },
     "execution_count": 14,
     "metadata": {},
     "output_type": "execute_result"
    }
   ],
   "source": [
    "ticketing_data.head(5)"
   ]
  },
  {
   "cell_type": "markdown",
   "metadata": {},
   "source": [
    "### Pre-processing GPS data"
   ]
  },
  {
   "cell_type": "code",
   "execution_count": 15,
   "metadata": {
    "collapsed": true
   },
   "outputs": [],
   "source": [
    "#Warning: Both data sources dates refer to previous day, not to the day in the file name. Fixing this issue here to match bus card data.\n",
    "trips_data = trips_data.withColumn(\"date\", F.date_sub(F.col(\"date\"), 1))\n",
    "trips_data = trips_data.withColumn(\"gps_timestamp\", F.concat(F.col(\"date\"), F.lit(\" \"), F.col(\"timestamp\")))\n",
    "trips_data = trips_data.withColumn(\"gps_timestamp_in_secs\", F.unix_timestamp(F.col(\"gps_timestamp\"), \"yyyy-MM-dd HH:mm:ss\"))\n",
    "trips_data = trips_data.withColumn(\"gps_date_in_secs\", F.unix_timestamp(F.col(\"date\"), \"yyyy-MM-dd\"))"
   ]
  },
  {
   "cell_type": "code",
   "execution_count": 16,
   "metadata": {
    "collapsed": true
   },
   "outputs": [],
   "source": [
    "#trips_data.select([\"date\",\"gps_date_in_secs\",\"timestamp\",\"gps_timestamp_in_secs\"]).show()"
   ]
  },
  {
   "cell_type": "code",
   "execution_count": 17,
   "metadata": {
    "collapsed": true
   },
   "outputs": [],
   "source": [
    "def get_N_sec_group(timestamp_in_secs,date_in_secs,N):\n",
    "    secs_since_midnight = timestamp_in_secs-date_in_secs\n",
    "    return(F.floor(secs_since_midnight/N))"
   ]
  },
  {
   "cell_type": "code",
   "execution_count": 18,
   "metadata": {
    "collapsed": true
   },
   "outputs": [],
   "source": [
    "trips_data = trips_data.withColumn(\"sec_group\",get_N_sec_group(F.col(\"gps_timestamp_in_secs\"),F.col(\"gps_date_in_secs\"),60))\n",
    "#trips_data.select([\"gps_timestamp\",\"gps_timestamp_in_secs\",\"sec_group\"]).show()"
   ]
  },
  {
   "cell_type": "markdown",
   "metadata": {},
   "source": [
    "## Pre-processing Bus Card data"
   ]
  },
  {
   "cell_type": "code",
   "execution_count": 19,
   "metadata": {
    "collapsed": true
   },
   "outputs": [],
   "source": [
    "ticketing_data = ticketing_data.withColumn(\"card_timestamp_in_secs\", F.unix_timestamp(F.col(\"cardTimestamp\"), \"dd/MM/yy HH:mm:ss\"))\n",
    "ticketing_data = ticketing_data.withColumn(\"date\",F.from_unixtime(F.col(\"card_timestamp_in_secs\"), \"yyyy-MM-dd\"))\n",
    "ticketing_data = ticketing_data.withColumn(\"card_date_in_secs\",F.unix_timestamp(F.col(\"date\"),\"yyyy-MM-dd\"))\n",
    "#ticketing_data.select([\"cardTimestamp\",\"card_timestamp_in_secs\",\"date\",\"card_date_in_secs\"]).show()"
   ]
  },
  {
   "cell_type": "code",
   "execution_count": 20,
   "metadata": {
    "collapsed": true
   },
   "outputs": [],
   "source": [
    "ticketing_data = ticketing_data.withColumn(\"sec_group\",get_N_sec_group(F.col(\"card_timestamp_in_secs\"),F.col(\"card_date_in_secs\"),60))\n",
    "#ticketing_data.select([\"cardTimestamp\",\"card_timestamp_in_secs\",\"sec_group\"]).orderBy(\"card_timestamp_in_secs\").show()"
   ]
  },
  {
   "cell_type": "code",
   "execution_count": 21,
   "metadata": {},
   "outputs": [
    {
     "data": {
      "text/plain": [
       "7900150"
      ]
     },
     "execution_count": 21,
     "metadata": {},
     "output_type": "execute_result"
    }
   ],
   "source": [
    "trips_data.count()"
   ]
  },
  {
   "cell_type": "code",
   "execution_count": 22,
   "metadata": {},
   "outputs": [
    {
     "data": {
      "text/plain": [
       "306906"
      ]
     },
     "execution_count": 22,
     "metadata": {},
     "output_type": "execute_result"
    }
   ],
   "source": [
    "ticketing_data.count()"
   ]
  },
  {
   "cell_type": "markdown",
   "metadata": {},
   "source": [
    "### Removing duplicate GPS records (occurred in the same time period)"
   ]
  },
  {
   "cell_type": "code",
   "execution_count": 23,
   "metadata": {},
   "outputs": [
    {
     "name": "stdout",
     "output_type": "stream",
     "text": [
      "414149\n"
     ]
    }
   ],
   "source": [
    "filtered_trips_data = trips_data.na.drop(subset=[\"route\",\"busCode\",\"busStopId\",\"sec_group\"]).dropDuplicates([\"route\",\"busCode\", \"tripNum\", \"date\",\"sec_group\"])\n",
    "print filtered_trips_data.count()\n",
    "#filtered_trips_data.select([\"route\",\"busCode\", \"tripNum\",\"busStopId\", \"sec_group\"]).orderBy(\"route\",\"busCode\",\"tripNum\",\"busStopId\").limit(20).toPandas()"
   ]
  },
  {
   "cell_type": "markdown",
   "metadata": {},
   "source": [
    "### Removing Duplicate entries in ticketing data"
   ]
  },
  {
   "cell_type": "code",
   "execution_count": 24,
   "metadata": {
    "collapsed": true
   },
   "outputs": [],
   "source": [
    "ticketing_data = ticketing_data.dropDuplicates([\"route\",\"busCode\",\"cardNum\",\"date\",\"sec_group\"])"
   ]
  },
  {
   "cell_type": "code",
   "execution_count": 25,
   "metadata": {},
   "outputs": [
    {
     "data": {
      "text/plain": [
       "292993"
      ]
     },
     "execution_count": 25,
     "metadata": {},
     "output_type": "execute_result"
    }
   ],
   "source": [
    "ticketing_data.count()"
   ]
  },
  {
   "cell_type": "markdown",
   "metadata": {},
   "source": [
    "### Merging GPS and ticketing data "
   ]
  },
  {
   "cell_type": "code",
   "execution_count": 26,
   "metadata": {
    "collapsed": true
   },
   "outputs": [],
   "source": [
    "#ticketing_data.select(['route','busCode','date','sec_group']).orderBy(['route','busCode','sec_group']).limit(20).toPandas()"
   ]
  },
  {
   "cell_type": "code",
   "execution_count": 27,
   "metadata": {
    "collapsed": true
   },
   "outputs": [],
   "source": [
    "#filtered_trips_data.select(['route','busCode','date','sec_group']).orderBy(['route','busCode','sec_group']).limit(20).toPandas()"
   ]
  },
  {
   "cell_type": "code",
   "execution_count": 28,
   "metadata": {
    "collapsed": true
   },
   "outputs": [],
   "source": [
    "user_boardings = ticketing_data.join(filtered_trips_data, ['route','busCode','date','sec_group'], 'inner')"
   ]
  },
  {
   "cell_type": "code",
   "execution_count": 29,
   "metadata": {},
   "outputs": [
    {
     "name": "stdout",
     "output_type": "stream",
     "text": [
      "root\n",
      " |-- route: string (nullable = true)\n",
      " |-- busCode: string (nullable = true)\n",
      " |-- date: string (nullable = true)\n",
      " |-- sec_group: long (nullable = true)\n",
      " |-- userBirthdate: string (nullable = true)\n",
      " |-- cardTimestamp: string (nullable = true)\n",
      " |-- lineName: string (nullable = true)\n",
      " |-- cardNum: string (nullable = true)\n",
      " |-- gender: string (nullable = true)\n",
      " |-- card_timestamp_in_secs: long (nullable = true)\n",
      " |-- card_date_in_secs: long (nullable = true)\n",
      " |-- tripNum: integer (nullable = true)\n",
      " |-- shapeId: integer (nullable = true)\n",
      " |-- shapeSequence: integer (nullable = true)\n",
      " |-- shapeLat: double (nullable = true)\n",
      " |-- shapeLon: double (nullable = true)\n",
      " |-- distanceTraveledShape: double (nullable = true)\n",
      " |-- gpsPointId: string (nullable = true)\n",
      " |-- gpsLat: double (nullable = true)\n",
      " |-- gpsLon: double (nullable = true)\n",
      " |-- distanceToShapePoint: double (nullable = true)\n",
      " |-- timestamp: string (nullable = true)\n",
      " |-- busStopId: integer (nullable = true)\n",
      " |-- problem: string (nullable = true)\n",
      " |-- numPassengers: integer (nullable = true)\n",
      " |-- gps_timestamp: string (nullable = true)\n",
      " |-- gps_timestamp_in_secs: long (nullable = true)\n",
      " |-- gps_date_in_secs: long (nullable = true)\n",
      "\n"
     ]
    }
   ],
   "source": [
    "user_boardings.printSchema()"
   ]
  },
  {
   "cell_type": "code",
   "execution_count": 30,
   "metadata": {
    "collapsed": true
   },
   "outputs": [],
   "source": [
    "#user_boardings.select(['route','busCode','sec_group','timestamp','cardTimestamp']).limit(20).toPandas()"
   ]
  },
  {
   "cell_type": "code",
   "execution_count": 31,
   "metadata": {},
   "outputs": [
    {
     "data": {
      "text/plain": [
       "74187"
      ]
     },
     "execution_count": 31,
     "metadata": {},
     "output_type": "execute_result"
    }
   ],
   "source": [
    "user_boardings.count()"
   ]
  },
  {
   "cell_type": "code",
   "execution_count": 32,
   "metadata": {},
   "outputs": [
    {
     "data": {
      "text/plain": [
       "65960"
      ]
     },
     "execution_count": 32,
     "metadata": {},
     "output_type": "execute_result"
    }
   ],
   "source": [
    "user_boardings.select('cardNum').distinct().count()"
   ]
  },
  {
   "cell_type": "code",
   "execution_count": 33,
   "metadata": {
    "collapsed": true
   },
   "outputs": [],
   "source": [
    "#user_boardings.select(['route','busCode','tripNum','busStopId','sec_group','cardNum','cardTimestamp','gps_timestamp']).orderBy('cardNum','cardTimestamp').limit(20).toPandas()"
   ]
  },
  {
   "cell_type": "markdown",
   "metadata": {},
   "source": [
    "### Removing duplicated boarding data"
   ]
  },
  {
   "cell_type": "code",
   "execution_count": 62,
   "metadata": {},
   "outputs": [],
   "source": [
    "filtered_boardings = user_boardings.dropDuplicates(['cardNum','date','sec_group'])"
   ]
  },
  {
   "cell_type": "code",
   "execution_count": 63,
   "metadata": {},
   "outputs": [
    {
     "name": "stdout",
     "output_type": "stream",
     "text": [
      "74031\n"
     ]
    },
    {
     "data": {
      "text/html": [
       "<div>\n",
       "<style>\n",
       "    .dataframe thead tr:only-child th {\n",
       "        text-align: right;\n",
       "    }\n",
       "\n",
       "    .dataframe thead th {\n",
       "        text-align: left;\n",
       "    }\n",
       "\n",
       "    .dataframe tbody tr th {\n",
       "        vertical-align: top;\n",
       "    }\n",
       "</style>\n",
       "<table border=\"1\" class=\"dataframe\">\n",
       "  <thead>\n",
       "    <tr style=\"text-align: right;\">\n",
       "      <th></th>\n",
       "      <th>route</th>\n",
       "      <th>busCode</th>\n",
       "      <th>date</th>\n",
       "      <th>sec_group</th>\n",
       "      <th>userBirthdate</th>\n",
       "      <th>cardTimestamp</th>\n",
       "      <th>lineName</th>\n",
       "      <th>cardNum</th>\n",
       "      <th>gender</th>\n",
       "      <th>card_timestamp_in_secs</th>\n",
       "      <th>...</th>\n",
       "      <th>gpsLat</th>\n",
       "      <th>gpsLon</th>\n",
       "      <th>distanceToShapePoint</th>\n",
       "      <th>timestamp</th>\n",
       "      <th>busStopId</th>\n",
       "      <th>problem</th>\n",
       "      <th>numPassengers</th>\n",
       "      <th>gps_timestamp</th>\n",
       "      <th>gps_timestamp_in_secs</th>\n",
       "      <th>gps_date_in_secs</th>\n",
       "    </tr>\n",
       "  </thead>\n",
       "  <tbody>\n",
       "    <tr>\n",
       "      <th>0</th>\n",
       "      <td>779</td>\n",
       "      <td>JC864</td>\n",
       "      <td>2017-05-10</td>\n",
       "      <td>440</td>\n",
       "      <td>05/12/77</td>\n",
       "      <td>10/05/17 07:20:43,000000</td>\n",
       "      <td>V.VELHA / BURITI</td>\n",
       "      <td>0000429183</td>\n",
       "      <td>F</td>\n",
       "      <td>1494411643</td>\n",
       "      <td>...</td>\n",
       "      <td>-25.457356</td>\n",
       "      <td>-49.325236</td>\n",
       "      <td>6.807708</td>\n",
       "      <td>07:20:36</td>\n",
       "      <td>33558</td>\n",
       "      <td>NO_PROBLEM</td>\n",
       "      <td>2</td>\n",
       "      <td>2017-05-10 07:20:36</td>\n",
       "      <td>1494411636</td>\n",
       "      <td>1494385200</td>\n",
       "    </tr>\n",
       "    <tr>\n",
       "      <th>1</th>\n",
       "      <td>654</td>\n",
       "      <td>HA014</td>\n",
       "      <td>2017-05-10</td>\n",
       "      <td>1130</td>\n",
       "      <td>01/04/71</td>\n",
       "      <td>10/05/17 18:50:17,000000</td>\n",
       "      <td>CAMPO ALEGRE</td>\n",
       "      <td>0000448669</td>\n",
       "      <td>F</td>\n",
       "      <td>1494453017</td>\n",
       "      <td>...</td>\n",
       "      <td>NaN</td>\n",
       "      <td>NaN</td>\n",
       "      <td>NaN</td>\n",
       "      <td>18:50:18</td>\n",
       "      <td>36082</td>\n",
       "      <td>BETWEEN</td>\n",
       "      <td>1</td>\n",
       "      <td>2017-05-10 18:50:18</td>\n",
       "      <td>1494453018</td>\n",
       "      <td>1494385200</td>\n",
       "    </tr>\n",
       "    <tr>\n",
       "      <th>2</th>\n",
       "      <td>654</td>\n",
       "      <td>HA240</td>\n",
       "      <td>2017-05-10</td>\n",
       "      <td>481</td>\n",
       "      <td>01/07/75</td>\n",
       "      <td>10/05/17 08:01:32,000000</td>\n",
       "      <td>CAMPO ALEGRE</td>\n",
       "      <td>0000559711</td>\n",
       "      <td>F</td>\n",
       "      <td>1494414092</td>\n",
       "      <td>...</td>\n",
       "      <td>-25.497476</td>\n",
       "      <td>-49.318153</td>\n",
       "      <td>20.220858</td>\n",
       "      <td>08:01:43</td>\n",
       "      <td>36086</td>\n",
       "      <td>NO_PROBLEM</td>\n",
       "      <td>1</td>\n",
       "      <td>2017-05-10 08:01:43</td>\n",
       "      <td>1494414103</td>\n",
       "      <td>1494385200</td>\n",
       "    </tr>\n",
       "    <tr>\n",
       "      <th>3</th>\n",
       "      <td>629</td>\n",
       "      <td>KA698</td>\n",
       "      <td>2017-05-10</td>\n",
       "      <td>779</td>\n",
       "      <td>15/08/52</td>\n",
       "      <td>10/05/17 12:59:01,000000</td>\n",
       "      <td>ALTO BOQUEIRÃO</td>\n",
       "      <td>0000616545</td>\n",
       "      <td>F</td>\n",
       "      <td>1494431941</td>\n",
       "      <td>...</td>\n",
       "      <td>NaN</td>\n",
       "      <td>NaN</td>\n",
       "      <td>NaN</td>\n",
       "      <td>12:59:01</td>\n",
       "      <td>29825</td>\n",
       "      <td>BETWEEN</td>\n",
       "      <td>0</td>\n",
       "      <td>2017-05-10 12:59:01</td>\n",
       "      <td>1494431941</td>\n",
       "      <td>1494385200</td>\n",
       "    </tr>\n",
       "    <tr>\n",
       "      <th>4</th>\n",
       "      <td>658</td>\n",
       "      <td>JA022</td>\n",
       "      <td>2017-05-10</td>\n",
       "      <td>816</td>\n",
       "      <td>09/10/55</td>\n",
       "      <td>10/05/17 13:36:51,000000</td>\n",
       "      <td>C.RASO/CAIUÁ</td>\n",
       "      <td>0000719912</td>\n",
       "      <td>F</td>\n",
       "      <td>1494434211</td>\n",
       "      <td>...</td>\n",
       "      <td>NaN</td>\n",
       "      <td>NaN</td>\n",
       "      <td>NaN</td>\n",
       "      <td>13:36:26</td>\n",
       "      <td>35888</td>\n",
       "      <td>BETWEEN</td>\n",
       "      <td>3</td>\n",
       "      <td>2017-05-10 13:36:26</td>\n",
       "      <td>1494434186</td>\n",
       "      <td>1494385200</td>\n",
       "    </tr>\n",
       "    <tr>\n",
       "      <th>5</th>\n",
       "      <td>040</td>\n",
       "      <td>LB603</td>\n",
       "      <td>2017-05-10</td>\n",
       "      <td>320</td>\n",
       "      <td>03/09/64</td>\n",
       "      <td>10/05/17 05:20:24,000000</td>\n",
       "      <td>INTERBAIRROS IV</td>\n",
       "      <td>0000832937</td>\n",
       "      <td>M</td>\n",
       "      <td>1494404424</td>\n",
       "      <td>...</td>\n",
       "      <td>-25.420408</td>\n",
       "      <td>-49.348453</td>\n",
       "      <td>12.099618</td>\n",
       "      <td>05:20:00</td>\n",
       "      <td>34173</td>\n",
       "      <td>NO_PROBLEM</td>\n",
       "      <td>1</td>\n",
       "      <td>2017-05-10 05:20:00</td>\n",
       "      <td>1494404400</td>\n",
       "      <td>1494385200</td>\n",
       "    </tr>\n",
       "    <tr>\n",
       "      <th>6</th>\n",
       "      <td>020</td>\n",
       "      <td>BB696</td>\n",
       "      <td>2017-05-10</td>\n",
       "      <td>1079</td>\n",
       "      <td>26/07/85</td>\n",
       "      <td>10/05/17 17:59:29,000000</td>\n",
       "      <td>INTERBAIRR II H</td>\n",
       "      <td>0000833222</td>\n",
       "      <td>F</td>\n",
       "      <td>1494449969</td>\n",
       "      <td>...</td>\n",
       "      <td>-25.420213</td>\n",
       "      <td>-49.239881</td>\n",
       "      <td>5.035887</td>\n",
       "      <td>17:59:39</td>\n",
       "      <td>29094</td>\n",
       "      <td>NO_PROBLEM</td>\n",
       "      <td>2</td>\n",
       "      <td>2017-05-10 17:59:39</td>\n",
       "      <td>1494449979</td>\n",
       "      <td>1494385200</td>\n",
       "    </tr>\n",
       "    <tr>\n",
       "      <th>7</th>\n",
       "      <td>542</td>\n",
       "      <td>GA144</td>\n",
       "      <td>2017-05-10</td>\n",
       "      <td>723</td>\n",
       "      <td>15/10/64</td>\n",
       "      <td>10/05/17 12:03:11,000000</td>\n",
       "      <td>BAIRRO NOVO B</td>\n",
       "      <td>0000833735</td>\n",
       "      <td>F</td>\n",
       "      <td>1494428591</td>\n",
       "      <td>...</td>\n",
       "      <td>-25.543178</td>\n",
       "      <td>-49.268458</td>\n",
       "      <td>0.695652</td>\n",
       "      <td>12:03:08</td>\n",
       "      <td>31250</td>\n",
       "      <td>NO_PROBLEM</td>\n",
       "      <td>4</td>\n",
       "      <td>2017-05-10 12:03:08</td>\n",
       "      <td>1494428588</td>\n",
       "      <td>1494385200</td>\n",
       "    </tr>\n",
       "    <tr>\n",
       "      <th>8</th>\n",
       "      <td>522</td>\n",
       "      <td>EA188</td>\n",
       "      <td>2017-05-10</td>\n",
       "      <td>488</td>\n",
       "      <td>05/03/76</td>\n",
       "      <td>10/05/17 08:08:17,000000</td>\n",
       "      <td>MARINGÁ</td>\n",
       "      <td>0000859535</td>\n",
       "      <td>M</td>\n",
       "      <td>1494414497</td>\n",
       "      <td>...</td>\n",
       "      <td>-25.507096</td>\n",
       "      <td>-49.246703</td>\n",
       "      <td>5.863058</td>\n",
       "      <td>08:08:34</td>\n",
       "      <td>32597</td>\n",
       "      <td>NO_PROBLEM</td>\n",
       "      <td>0</td>\n",
       "      <td>2017-05-10 08:08:34</td>\n",
       "      <td>1494414514</td>\n",
       "      <td>1494385200</td>\n",
       "    </tr>\n",
       "    <tr>\n",
       "      <th>9</th>\n",
       "      <td>515</td>\n",
       "      <td>EA198</td>\n",
       "      <td>2017-05-10</td>\n",
       "      <td>502</td>\n",
       "      <td>01/10/86</td>\n",
       "      <td>10/05/17 08:22:17,000000</td>\n",
       "      <td>IGUAPE II</td>\n",
       "      <td>0000868864</td>\n",
       "      <td>F</td>\n",
       "      <td>1494415337</td>\n",
       "      <td>...</td>\n",
       "      <td>-25.515260</td>\n",
       "      <td>-49.223325</td>\n",
       "      <td>57.406258</td>\n",
       "      <td>08:22:10</td>\n",
       "      <td>33521</td>\n",
       "      <td>NO_PROBLEM</td>\n",
       "      <td>1</td>\n",
       "      <td>2017-05-10 08:22:10</td>\n",
       "      <td>1494415330</td>\n",
       "      <td>1494385200</td>\n",
       "    </tr>\n",
       "  </tbody>\n",
       "</table>\n",
       "<p>10 rows × 28 columns</p>\n",
       "</div>"
      ],
      "text/plain": [
       "  route busCode        date  sec_group userBirthdate  \\\n",
       "0   779   JC864  2017-05-10        440      05/12/77   \n",
       "1   654   HA014  2017-05-10       1130      01/04/71   \n",
       "2   654   HA240  2017-05-10        481      01/07/75   \n",
       "3   629   KA698  2017-05-10        779      15/08/52   \n",
       "4   658   JA022  2017-05-10        816      09/10/55   \n",
       "5   040   LB603  2017-05-10        320      03/09/64   \n",
       "6   020   BB696  2017-05-10       1079      26/07/85   \n",
       "7   542   GA144  2017-05-10        723      15/10/64   \n",
       "8   522   EA188  2017-05-10        488      05/03/76   \n",
       "9   515   EA198  2017-05-10        502      01/10/86   \n",
       "\n",
       "              cardTimestamp          lineName     cardNum gender  \\\n",
       "0  10/05/17 07:20:43,000000  V.VELHA / BURITI  0000429183      F   \n",
       "1  10/05/17 18:50:17,000000      CAMPO ALEGRE  0000448669      F   \n",
       "2  10/05/17 08:01:32,000000      CAMPO ALEGRE  0000559711      F   \n",
       "3  10/05/17 12:59:01,000000    ALTO BOQUEIRÃO  0000616545      F   \n",
       "4  10/05/17 13:36:51,000000      C.RASO/CAIUÁ  0000719912      F   \n",
       "5  10/05/17 05:20:24,000000   INTERBAIRROS IV  0000832937      M   \n",
       "6  10/05/17 17:59:29,000000   INTERBAIRR II H  0000833222      F   \n",
       "7  10/05/17 12:03:11,000000     BAIRRO NOVO B  0000833735      F   \n",
       "8  10/05/17 08:08:17,000000           MARINGÁ  0000859535      M   \n",
       "9  10/05/17 08:22:17,000000         IGUAPE II  0000868864      F   \n",
       "\n",
       "   card_timestamp_in_secs        ...            gpsLat     gpsLon  \\\n",
       "0              1494411643        ...        -25.457356 -49.325236   \n",
       "1              1494453017        ...               NaN        NaN   \n",
       "2              1494414092        ...        -25.497476 -49.318153   \n",
       "3              1494431941        ...               NaN        NaN   \n",
       "4              1494434211        ...               NaN        NaN   \n",
       "5              1494404424        ...        -25.420408 -49.348453   \n",
       "6              1494449969        ...        -25.420213 -49.239881   \n",
       "7              1494428591        ...        -25.543178 -49.268458   \n",
       "8              1494414497        ...        -25.507096 -49.246703   \n",
       "9              1494415337        ...        -25.515260 -49.223325   \n",
       "\n",
       "   distanceToShapePoint  timestamp  busStopId     problem  numPassengers  \\\n",
       "0              6.807708   07:20:36      33558  NO_PROBLEM              2   \n",
       "1                   NaN   18:50:18      36082     BETWEEN              1   \n",
       "2             20.220858   08:01:43      36086  NO_PROBLEM              1   \n",
       "3                   NaN   12:59:01      29825     BETWEEN              0   \n",
       "4                   NaN   13:36:26      35888     BETWEEN              3   \n",
       "5             12.099618   05:20:00      34173  NO_PROBLEM              1   \n",
       "6              5.035887   17:59:39      29094  NO_PROBLEM              2   \n",
       "7              0.695652   12:03:08      31250  NO_PROBLEM              4   \n",
       "8              5.863058   08:08:34      32597  NO_PROBLEM              0   \n",
       "9             57.406258   08:22:10      33521  NO_PROBLEM              1   \n",
       "\n",
       "         gps_timestamp  gps_timestamp_in_secs  gps_date_in_secs  \n",
       "0  2017-05-10 07:20:36             1494411636        1494385200  \n",
       "1  2017-05-10 18:50:18             1494453018        1494385200  \n",
       "2  2017-05-10 08:01:43             1494414103        1494385200  \n",
       "3  2017-05-10 12:59:01             1494431941        1494385200  \n",
       "4  2017-05-10 13:36:26             1494434186        1494385200  \n",
       "5  2017-05-10 05:20:00             1494404400        1494385200  \n",
       "6  2017-05-10 17:59:39             1494449979        1494385200  \n",
       "7  2017-05-10 12:03:08             1494428588        1494385200  \n",
       "8  2017-05-10 08:08:34             1494414514        1494385200  \n",
       "9  2017-05-10 08:22:10             1494415330        1494385200  \n",
       "\n",
       "[10 rows x 28 columns]"
      ]
     },
     "execution_count": 63,
     "metadata": {},
     "output_type": "execute_result"
    }
   ],
   "source": [
    "print filtered_boardings.count()\n",
    "print_df(filtered_boardings)"
   ]
  },
  {
   "cell_type": "markdown",
   "metadata": {},
   "source": [
    "### Removing single-trip users records"
   ]
  },
  {
   "cell_type": "code",
   "execution_count": 64,
   "metadata": {
    "collapsed": true
   },
   "outputs": [],
   "source": [
    "boarding_count = filtered_boardings.groupby('cardNum').count()"
   ]
  },
  {
   "cell_type": "code",
   "execution_count": 65,
   "metadata": {
    "collapsed": true
   },
   "outputs": [],
   "source": [
    "#Filtering only users with more than one ride per day\n",
    "multiple_boardings = boarding_count.filter(F.col('count') > 1)"
   ]
  },
  {
   "cell_type": "code",
   "execution_count": 66,
   "metadata": {},
   "outputs": [
    {
     "name": "stdout",
     "output_type": "stream",
     "text": [
      "Total #Passengers: 65960\n"
     ]
    }
   ],
   "source": [
    "total_passengers = user_boardings.select('cardNum').distinct().count()\n",
    "print \"Total #Passengers:\", total_passengers"
   ]
  },
  {
   "cell_type": "code",
   "execution_count": 67,
   "metadata": {},
   "outputs": [
    {
     "name": "stdout",
     "output_type": "stream",
     "text": [
      "Passengers with Multiple Boardings: 7467 ( 11 %)\n",
      "+----------+-----+\n",
      "|   cardNum|count|\n",
      "+----------+-----+\n",
      "|0001600147|    2|\n",
      "|0003359882|    2|\n",
      "|0002699865|    2|\n",
      "|0003598037|    2|\n",
      "|0002633338|    2|\n",
      "|0002786520|    2|\n",
      "|0002986469|    3|\n",
      "|0003605113|    2|\n",
      "|0002167105|    2|\n",
      "|0003372920|    4|\n",
      "|0002578507|    2|\n",
      "|0003397992|    2|\n",
      "|0003269568|    2|\n",
      "|0003801759|    2|\n",
      "|0003408486|    2|\n",
      "|0003759461|    2|\n",
      "|0002602692|    2|\n",
      "|0003637275|    2|\n",
      "|0003205994|    2|\n",
      "|0002651765|    2|\n",
      "+----------+-----+\n",
      "only showing top 20 rows\n",
      "\n"
     ]
    }
   ],
   "source": [
    "passengers_mult_boardings = multiple_boardings.count()\n",
    "prop_mult_boardings = 100*(passengers_mult_boardings)/total_passengers\n",
    "print \"Passengers with Multiple Boardings:\", passengers_mult_boardings, \"(\", prop_mult_boardings, \"%)\" \n",
    "multiple_boardings.show()"
   ]
  },
  {
   "cell_type": "code",
   "execution_count": 68,
   "metadata": {
    "collapsed": true
   },
   "outputs": [],
   "source": [
    "multiple_boardings = multiple_boardings.select(F.col(\"cardNum\").alias(\"cardNum1\"),\n",
    "                                                 F.col(\"count\").alias(\"count1\"))"
   ]
  },
  {
   "cell_type": "code",
   "execution_count": 69,
   "metadata": {},
   "outputs": [],
   "source": [
    "clean_boardings = filtered_boardings.join(multiple_boardings, filtered_boardings.cardNum == multiple_boardings.cardNum1, 'leftsemi')"
   ]
  },
  {
   "cell_type": "code",
   "execution_count": 70,
   "metadata": {},
   "outputs": [
    {
     "data": {
      "text/plain": [
       "15538"
      ]
     },
     "execution_count": 70,
     "metadata": {},
     "output_type": "execute_result"
    }
   ],
   "source": [
    "clean_boardings.count()"
   ]
  },
  {
   "cell_type": "code",
   "execution_count": 71,
   "metadata": {},
   "outputs": [
    {
     "data": {
      "text/html": [
       "<div>\n",
       "<style>\n",
       "    .dataframe thead tr:only-child th {\n",
       "        text-align: right;\n",
       "    }\n",
       "\n",
       "    .dataframe thead th {\n",
       "        text-align: left;\n",
       "    }\n",
       "\n",
       "    .dataframe tbody tr th {\n",
       "        vertical-align: top;\n",
       "    }\n",
       "</style>\n",
       "<table border=\"1\" class=\"dataframe\">\n",
       "  <thead>\n",
       "    <tr style=\"text-align: right;\">\n",
       "      <th></th>\n",
       "      <th>route</th>\n",
       "      <th>busCode</th>\n",
       "      <th>date</th>\n",
       "      <th>sec_group</th>\n",
       "      <th>userBirthdate</th>\n",
       "      <th>cardTimestamp</th>\n",
       "      <th>lineName</th>\n",
       "      <th>cardNum</th>\n",
       "      <th>gender</th>\n",
       "      <th>card_timestamp_in_secs</th>\n",
       "      <th>...</th>\n",
       "      <th>gpsLat</th>\n",
       "      <th>gpsLon</th>\n",
       "      <th>distanceToShapePoint</th>\n",
       "      <th>timestamp</th>\n",
       "      <th>busStopId</th>\n",
       "      <th>problem</th>\n",
       "      <th>numPassengers</th>\n",
       "      <th>gps_timestamp</th>\n",
       "      <th>gps_timestamp_in_secs</th>\n",
       "      <th>gps_date_in_secs</th>\n",
       "    </tr>\n",
       "  </thead>\n",
       "  <tbody>\n",
       "    <tr>\n",
       "      <th>0</th>\n",
       "      <td>625</td>\n",
       "      <td>GA165</td>\n",
       "      <td>2017-05-10</td>\n",
       "      <td>460</td>\n",
       "      <td>01/08/77</td>\n",
       "      <td>10/05/17 07:40:11,000000</td>\n",
       "      <td>GRAMADOS</td>\n",
       "      <td>0001080534</td>\n",
       "      <td>F</td>\n",
       "      <td>1494412811</td>\n",
       "      <td>...</td>\n",
       "      <td>-25.514443</td>\n",
       "      <td>-49.274506</td>\n",
       "      <td>19.577750</td>\n",
       "      <td>07:40:51</td>\n",
       "      <td>35747</td>\n",
       "      <td>NO_PROBLEM</td>\n",
       "      <td>0</td>\n",
       "      <td>2017-05-10 07:40:51</td>\n",
       "      <td>1494412851</td>\n",
       "      <td>1494385200</td>\n",
       "    </tr>\n",
       "    <tr>\n",
       "      <th>1</th>\n",
       "      <td>021</td>\n",
       "      <td>DR102</td>\n",
       "      <td>2017-05-10</td>\n",
       "      <td>507</td>\n",
       "      <td>01/08/77</td>\n",
       "      <td>10/05/17 08:27:29,000000</td>\n",
       "      <td>INTERB II ANTI H</td>\n",
       "      <td>0001080534</td>\n",
       "      <td>F</td>\n",
       "      <td>1494415649</td>\n",
       "      <td>...</td>\n",
       "      <td>-25.428238</td>\n",
       "      <td>-49.230296</td>\n",
       "      <td>39.798256</td>\n",
       "      <td>08:27:55</td>\n",
       "      <td>30192</td>\n",
       "      <td>NO_PROBLEM</td>\n",
       "      <td>0</td>\n",
       "      <td>2017-05-10 08:27:55</td>\n",
       "      <td>1494415675</td>\n",
       "      <td>1494385200</td>\n",
       "    </tr>\n",
       "    <tr>\n",
       "      <th>2</th>\n",
       "      <td>777</td>\n",
       "      <td>JC003</td>\n",
       "      <td>2017-05-10</td>\n",
       "      <td>747</td>\n",
       "      <td>24/08/01</td>\n",
       "      <td>10/05/17 12:27:28,000000</td>\n",
       "      <td>V. VELHA</td>\n",
       "      <td>0001600147</td>\n",
       "      <td>F</td>\n",
       "      <td>1494430048</td>\n",
       "      <td>...</td>\n",
       "      <td>-25.460755</td>\n",
       "      <td>-49.336276</td>\n",
       "      <td>3.516852</td>\n",
       "      <td>12:27:32</td>\n",
       "      <td>33624</td>\n",
       "      <td>NO_PROBLEM</td>\n",
       "      <td>3</td>\n",
       "      <td>2017-05-10 12:27:32</td>\n",
       "      <td>1494430052</td>\n",
       "      <td>1494385200</td>\n",
       "    </tr>\n",
       "    <tr>\n",
       "      <th>3</th>\n",
       "      <td>777</td>\n",
       "      <td>JC008</td>\n",
       "      <td>2017-05-10</td>\n",
       "      <td>1252</td>\n",
       "      <td>24/08/01</td>\n",
       "      <td>10/05/17 20:52:13,000000</td>\n",
       "      <td>V. VELHA</td>\n",
       "      <td>0001600147</td>\n",
       "      <td>F</td>\n",
       "      <td>1494460333</td>\n",
       "      <td>...</td>\n",
       "      <td>NaN</td>\n",
       "      <td>NaN</td>\n",
       "      <td>NaN</td>\n",
       "      <td>20:52:37</td>\n",
       "      <td>32903</td>\n",
       "      <td>BETWEEN</td>\n",
       "      <td>0</td>\n",
       "      <td>2017-05-10 20:52:37</td>\n",
       "      <td>1494460357</td>\n",
       "      <td>1494385200</td>\n",
       "    </tr>\n",
       "    <tr>\n",
       "      <th>4</th>\n",
       "      <td>614</td>\n",
       "      <td>GR403</td>\n",
       "      <td>2017-05-10</td>\n",
       "      <td>1071</td>\n",
       "      <td>01/06/71</td>\n",
       "      <td>10/05/17 17:51:49,000000</td>\n",
       "      <td>FAZENDINHA/PUC</td>\n",
       "      <td>0002083421</td>\n",
       "      <td>F</td>\n",
       "      <td>1494449509</td>\n",
       "      <td>...</td>\n",
       "      <td>-25.477115</td>\n",
       "      <td>-49.323938</td>\n",
       "      <td>16.106558</td>\n",
       "      <td>17:51:15</td>\n",
       "      <td>31636</td>\n",
       "      <td>NO_PROBLEM</td>\n",
       "      <td>0</td>\n",
       "      <td>2017-05-10 17:51:15</td>\n",
       "      <td>1494449475</td>\n",
       "      <td>1494385200</td>\n",
       "    </tr>\n",
       "    <tr>\n",
       "      <th>5</th>\n",
       "      <td>828</td>\n",
       "      <td>LA001</td>\n",
       "      <td>2017-05-10</td>\n",
       "      <td>414</td>\n",
       "      <td>01/06/71</td>\n",
       "      <td>10/05/17 06:54:54,000000</td>\n",
       "      <td>C.COMP/C.RASO</td>\n",
       "      <td>0002083421</td>\n",
       "      <td>F</td>\n",
       "      <td>1494410094</td>\n",
       "      <td>...</td>\n",
       "      <td>-25.479908</td>\n",
       "      <td>-49.324050</td>\n",
       "      <td>6.740887</td>\n",
       "      <td>06:54:15</td>\n",
       "      <td>33811</td>\n",
       "      <td>NO_PROBLEM</td>\n",
       "      <td>0</td>\n",
       "      <td>2017-05-10 06:54:15</td>\n",
       "      <td>1494410055</td>\n",
       "      <td>1494385200</td>\n",
       "    </tr>\n",
       "    <tr>\n",
       "      <th>6</th>\n",
       "      <td>030</td>\n",
       "      <td>KB699</td>\n",
       "      <td>2017-05-10</td>\n",
       "      <td>527</td>\n",
       "      <td>07/08/91</td>\n",
       "      <td>10/05/17 08:47:49,000000</td>\n",
       "      <td>INTERBAIRROS III</td>\n",
       "      <td>0002167105</td>\n",
       "      <td>M</td>\n",
       "      <td>1494416869</td>\n",
       "      <td>...</td>\n",
       "      <td>-25.513500</td>\n",
       "      <td>-49.264663</td>\n",
       "      <td>32.417150</td>\n",
       "      <td>08:47:10</td>\n",
       "      <td>32609</td>\n",
       "      <td>TRIP_PROBLEM</td>\n",
       "      <td>0</td>\n",
       "      <td>2017-05-10 08:47:10</td>\n",
       "      <td>1494416830</td>\n",
       "      <td>1494385200</td>\n",
       "    </tr>\n",
       "    <tr>\n",
       "      <th>7</th>\n",
       "      <td>030</td>\n",
       "      <td>GR123</td>\n",
       "      <td>2017-05-10</td>\n",
       "      <td>704</td>\n",
       "      <td>07/08/91</td>\n",
       "      <td>10/05/17 11:44:57,000000</td>\n",
       "      <td>INTERBAIRROS III</td>\n",
       "      <td>0002167105</td>\n",
       "      <td>M</td>\n",
       "      <td>1494427497</td>\n",
       "      <td>...</td>\n",
       "      <td>-25.513720</td>\n",
       "      <td>-49.265710</td>\n",
       "      <td>75.325790</td>\n",
       "      <td>11:44:32</td>\n",
       "      <td>32848</td>\n",
       "      <td>NO_PROBLEM</td>\n",
       "      <td>0</td>\n",
       "      <td>2017-05-10 11:44:32</td>\n",
       "      <td>1494427472</td>\n",
       "      <td>1494385200</td>\n",
       "    </tr>\n",
       "    <tr>\n",
       "      <th>8</th>\n",
       "      <td>338</td>\n",
       "      <td>EA014</td>\n",
       "      <td>2017-05-10</td>\n",
       "      <td>1097</td>\n",
       "      <td>26/05/71</td>\n",
       "      <td>10/05/17 18:17:10,000000</td>\n",
       "      <td>CENTENÁRIO/HAUER</td>\n",
       "      <td>0002277554</td>\n",
       "      <td>F</td>\n",
       "      <td>1494451030</td>\n",
       "      <td>...</td>\n",
       "      <td>NaN</td>\n",
       "      <td>NaN</td>\n",
       "      <td>NaN</td>\n",
       "      <td>18:17:18</td>\n",
       "      <td>30051</td>\n",
       "      <td>BETWEEN</td>\n",
       "      <td>0</td>\n",
       "      <td>2017-05-10 18:17:18</td>\n",
       "      <td>1494451038</td>\n",
       "      <td>1494385200</td>\n",
       "    </tr>\n",
       "    <tr>\n",
       "      <th>9</th>\n",
       "      <td>338</td>\n",
       "      <td>EA193</td>\n",
       "      <td>2017-05-10</td>\n",
       "      <td>418</td>\n",
       "      <td>26/05/71</td>\n",
       "      <td>10/05/17 06:58:30,000000</td>\n",
       "      <td>CENTENÁRIO/HAUER</td>\n",
       "      <td>0002277554</td>\n",
       "      <td>F</td>\n",
       "      <td>1494410310</td>\n",
       "      <td>...</td>\n",
       "      <td>-25.486555</td>\n",
       "      <td>-49.205793</td>\n",
       "      <td>15.684446</td>\n",
       "      <td>06:58:30</td>\n",
       "      <td>30183</td>\n",
       "      <td>NO_PROBLEM</td>\n",
       "      <td>5</td>\n",
       "      <td>2017-05-10 06:58:30</td>\n",
       "      <td>1494410310</td>\n",
       "      <td>1494385200</td>\n",
       "    </tr>\n",
       "  </tbody>\n",
       "</table>\n",
       "<p>10 rows × 28 columns</p>\n",
       "</div>"
      ],
      "text/plain": [
       "  route busCode        date  sec_group userBirthdate  \\\n",
       "0   625   GA165  2017-05-10        460      01/08/77   \n",
       "1   021   DR102  2017-05-10        507      01/08/77   \n",
       "2   777   JC003  2017-05-10        747      24/08/01   \n",
       "3   777   JC008  2017-05-10       1252      24/08/01   \n",
       "4   614   GR403  2017-05-10       1071      01/06/71   \n",
       "5   828   LA001  2017-05-10        414      01/06/71   \n",
       "6   030   KB699  2017-05-10        527      07/08/91   \n",
       "7   030   GR123  2017-05-10        704      07/08/91   \n",
       "8   338   EA014  2017-05-10       1097      26/05/71   \n",
       "9   338   EA193  2017-05-10        418      26/05/71   \n",
       "\n",
       "              cardTimestamp          lineName     cardNum gender  \\\n",
       "0  10/05/17 07:40:11,000000          GRAMADOS  0001080534      F   \n",
       "1  10/05/17 08:27:29,000000  INTERB II ANTI H  0001080534      F   \n",
       "2  10/05/17 12:27:28,000000          V. VELHA  0001600147      F   \n",
       "3  10/05/17 20:52:13,000000          V. VELHA  0001600147      F   \n",
       "4  10/05/17 17:51:49,000000    FAZENDINHA/PUC  0002083421      F   \n",
       "5  10/05/17 06:54:54,000000     C.COMP/C.RASO  0002083421      F   \n",
       "6  10/05/17 08:47:49,000000  INTERBAIRROS III  0002167105      M   \n",
       "7  10/05/17 11:44:57,000000  INTERBAIRROS III  0002167105      M   \n",
       "8  10/05/17 18:17:10,000000  CENTENÁRIO/HAUER  0002277554      F   \n",
       "9  10/05/17 06:58:30,000000  CENTENÁRIO/HAUER  0002277554      F   \n",
       "\n",
       "   card_timestamp_in_secs        ...            gpsLat     gpsLon  \\\n",
       "0              1494412811        ...        -25.514443 -49.274506   \n",
       "1              1494415649        ...        -25.428238 -49.230296   \n",
       "2              1494430048        ...        -25.460755 -49.336276   \n",
       "3              1494460333        ...               NaN        NaN   \n",
       "4              1494449509        ...        -25.477115 -49.323938   \n",
       "5              1494410094        ...        -25.479908 -49.324050   \n",
       "6              1494416869        ...        -25.513500 -49.264663   \n",
       "7              1494427497        ...        -25.513720 -49.265710   \n",
       "8              1494451030        ...               NaN        NaN   \n",
       "9              1494410310        ...        -25.486555 -49.205793   \n",
       "\n",
       "   distanceToShapePoint  timestamp  busStopId       problem  numPassengers  \\\n",
       "0             19.577750   07:40:51      35747    NO_PROBLEM              0   \n",
       "1             39.798256   08:27:55      30192    NO_PROBLEM              0   \n",
       "2              3.516852   12:27:32      33624    NO_PROBLEM              3   \n",
       "3                   NaN   20:52:37      32903       BETWEEN              0   \n",
       "4             16.106558   17:51:15      31636    NO_PROBLEM              0   \n",
       "5              6.740887   06:54:15      33811    NO_PROBLEM              0   \n",
       "6             32.417150   08:47:10      32609  TRIP_PROBLEM              0   \n",
       "7             75.325790   11:44:32      32848    NO_PROBLEM              0   \n",
       "8                   NaN   18:17:18      30051       BETWEEN              0   \n",
       "9             15.684446   06:58:30      30183    NO_PROBLEM              5   \n",
       "\n",
       "         gps_timestamp  gps_timestamp_in_secs  gps_date_in_secs  \n",
       "0  2017-05-10 07:40:51             1494412851        1494385200  \n",
       "1  2017-05-10 08:27:55             1494415675        1494385200  \n",
       "2  2017-05-10 12:27:32             1494430052        1494385200  \n",
       "3  2017-05-10 20:52:37             1494460357        1494385200  \n",
       "4  2017-05-10 17:51:15             1494449475        1494385200  \n",
       "5  2017-05-10 06:54:15             1494410055        1494385200  \n",
       "6  2017-05-10 08:47:10             1494416830        1494385200  \n",
       "7  2017-05-10 11:44:32             1494427472        1494385200  \n",
       "8  2017-05-10 18:17:18             1494451038        1494385200  \n",
       "9  2017-05-10 06:58:30             1494410310        1494385200  \n",
       "\n",
       "[10 rows x 28 columns]"
      ]
     },
     "execution_count": 71,
     "metadata": {},
     "output_type": "execute_result"
    }
   ],
   "source": [
    "print_df(clean_boardings)"
   ]
  },
  {
   "cell_type": "code",
   "execution_count": 72,
   "metadata": {
    "collapsed": true
   },
   "outputs": [],
   "source": [
    "clean_boardings.write.csv(path=exp_data_folder_path+'/clean_boardings')"
   ]
  },
  {
   "cell_type": "markdown",
   "metadata": {},
   "source": [
    "### Analyzing Boarding data"
   ]
  },
  {
   "cell_type": "code",
   "execution_count": 83,
   "metadata": {
    "collapsed": true
   },
   "outputs": [],
   "source": [
    "user_boarding_w = Window.partitionBy(clean_boardings.cardNum).orderBy(clean_boardings.card_timestamp_in_secs)"
   ]
  },
  {
   "cell_type": "code",
   "execution_count": 93,
   "metadata": {},
   "outputs": [],
   "source": [
    "od_matrix = clean_boardings.withColumn('d_lat',F.lead(F.col('gpsLat')).over(user_boarding_w)). \\\n",
    "                            withColumn('d_lat',F.lead(F.col('gpsLat')).over(user_boarding_w)). \\"
   ]
  },
  {
   "cell_type": "code",
   "execution_count": 94,
   "metadata": {},
   "outputs": [
    {
     "data": {
      "text/html": [
       "<div>\n",
       "<style>\n",
       "    .dataframe thead tr:only-child th {\n",
       "        text-align: right;\n",
       "    }\n",
       "\n",
       "    .dataframe thead th {\n",
       "        text-align: left;\n",
       "    }\n",
       "\n",
       "    .dataframe tbody tr th {\n",
       "        vertical-align: top;\n",
       "    }\n",
       "</style>\n",
       "<table border=\"1\" class=\"dataframe\">\n",
       "  <thead>\n",
       "    <tr style=\"text-align: right;\">\n",
       "      <th></th>\n",
       "      <th>route</th>\n",
       "      <th>busCode</th>\n",
       "      <th>date</th>\n",
       "      <th>sec_group</th>\n",
       "      <th>userBirthdate</th>\n",
       "      <th>cardTimestamp</th>\n",
       "      <th>lineName</th>\n",
       "      <th>cardNum</th>\n",
       "      <th>gender</th>\n",
       "      <th>card_timestamp_in_secs</th>\n",
       "      <th>...</th>\n",
       "      <th>gpsLon</th>\n",
       "      <th>distanceToShapePoint</th>\n",
       "      <th>timestamp</th>\n",
       "      <th>busStopId</th>\n",
       "      <th>problem</th>\n",
       "      <th>numPassengers</th>\n",
       "      <th>gps_timestamp</th>\n",
       "      <th>gps_timestamp_in_secs</th>\n",
       "      <th>gps_date_in_secs</th>\n",
       "      <th>d_lat</th>\n",
       "    </tr>\n",
       "  </thead>\n",
       "  <tbody>\n",
       "    <tr>\n",
       "      <th>0</th>\n",
       "      <td>625</td>\n",
       "      <td>GA165</td>\n",
       "      <td>2017-05-10</td>\n",
       "      <td>460</td>\n",
       "      <td>01/08/77</td>\n",
       "      <td>10/05/17 07:40:11,000000</td>\n",
       "      <td>GRAMADOS</td>\n",
       "      <td>0001080534</td>\n",
       "      <td>F</td>\n",
       "      <td>1494412811</td>\n",
       "      <td>...</td>\n",
       "      <td>-49.274506</td>\n",
       "      <td>19.577750</td>\n",
       "      <td>07:40:51</td>\n",
       "      <td>35747</td>\n",
       "      <td>NO_PROBLEM</td>\n",
       "      <td>0</td>\n",
       "      <td>2017-05-10 07:40:51</td>\n",
       "      <td>1494412851</td>\n",
       "      <td>1494385200</td>\n",
       "      <td>-25.428238</td>\n",
       "    </tr>\n",
       "    <tr>\n",
       "      <th>1</th>\n",
       "      <td>021</td>\n",
       "      <td>DR102</td>\n",
       "      <td>2017-05-10</td>\n",
       "      <td>507</td>\n",
       "      <td>01/08/77</td>\n",
       "      <td>10/05/17 08:27:29,000000</td>\n",
       "      <td>INTERB II ANTI H</td>\n",
       "      <td>0001080534</td>\n",
       "      <td>F</td>\n",
       "      <td>1494415649</td>\n",
       "      <td>...</td>\n",
       "      <td>-49.230296</td>\n",
       "      <td>39.798256</td>\n",
       "      <td>08:27:55</td>\n",
       "      <td>30192</td>\n",
       "      <td>NO_PROBLEM</td>\n",
       "      <td>0</td>\n",
       "      <td>2017-05-10 08:27:55</td>\n",
       "      <td>1494415675</td>\n",
       "      <td>1494385200</td>\n",
       "      <td>NaN</td>\n",
       "    </tr>\n",
       "    <tr>\n",
       "      <th>2</th>\n",
       "      <td>777</td>\n",
       "      <td>JC003</td>\n",
       "      <td>2017-05-10</td>\n",
       "      <td>747</td>\n",
       "      <td>24/08/01</td>\n",
       "      <td>10/05/17 12:27:28,000000</td>\n",
       "      <td>V. VELHA</td>\n",
       "      <td>0001600147</td>\n",
       "      <td>F</td>\n",
       "      <td>1494430048</td>\n",
       "      <td>...</td>\n",
       "      <td>-49.336276</td>\n",
       "      <td>3.516852</td>\n",
       "      <td>12:27:32</td>\n",
       "      <td>33624</td>\n",
       "      <td>NO_PROBLEM</td>\n",
       "      <td>3</td>\n",
       "      <td>2017-05-10 12:27:32</td>\n",
       "      <td>1494430052</td>\n",
       "      <td>1494385200</td>\n",
       "      <td>NaN</td>\n",
       "    </tr>\n",
       "    <tr>\n",
       "      <th>3</th>\n",
       "      <td>777</td>\n",
       "      <td>JC008</td>\n",
       "      <td>2017-05-10</td>\n",
       "      <td>1252</td>\n",
       "      <td>24/08/01</td>\n",
       "      <td>10/05/17 20:52:13,000000</td>\n",
       "      <td>V. VELHA</td>\n",
       "      <td>0001600147</td>\n",
       "      <td>F</td>\n",
       "      <td>1494460333</td>\n",
       "      <td>...</td>\n",
       "      <td>NaN</td>\n",
       "      <td>NaN</td>\n",
       "      <td>20:52:37</td>\n",
       "      <td>32903</td>\n",
       "      <td>BETWEEN</td>\n",
       "      <td>0</td>\n",
       "      <td>2017-05-10 20:52:37</td>\n",
       "      <td>1494460357</td>\n",
       "      <td>1494385200</td>\n",
       "      <td>NaN</td>\n",
       "    </tr>\n",
       "    <tr>\n",
       "      <th>4</th>\n",
       "      <td>828</td>\n",
       "      <td>LA001</td>\n",
       "      <td>2017-05-10</td>\n",
       "      <td>414</td>\n",
       "      <td>01/06/71</td>\n",
       "      <td>10/05/17 06:54:54,000000</td>\n",
       "      <td>C.COMP/C.RASO</td>\n",
       "      <td>0002083421</td>\n",
       "      <td>F</td>\n",
       "      <td>1494410094</td>\n",
       "      <td>...</td>\n",
       "      <td>-49.324050</td>\n",
       "      <td>6.740887</td>\n",
       "      <td>06:54:15</td>\n",
       "      <td>33811</td>\n",
       "      <td>NO_PROBLEM</td>\n",
       "      <td>0</td>\n",
       "      <td>2017-05-10 06:54:15</td>\n",
       "      <td>1494410055</td>\n",
       "      <td>1494385200</td>\n",
       "      <td>-25.477115</td>\n",
       "    </tr>\n",
       "    <tr>\n",
       "      <th>5</th>\n",
       "      <td>614</td>\n",
       "      <td>GR403</td>\n",
       "      <td>2017-05-10</td>\n",
       "      <td>1071</td>\n",
       "      <td>01/06/71</td>\n",
       "      <td>10/05/17 17:51:49,000000</td>\n",
       "      <td>FAZENDINHA/PUC</td>\n",
       "      <td>0002083421</td>\n",
       "      <td>F</td>\n",
       "      <td>1494449509</td>\n",
       "      <td>...</td>\n",
       "      <td>-49.323938</td>\n",
       "      <td>16.106558</td>\n",
       "      <td>17:51:15</td>\n",
       "      <td>31636</td>\n",
       "      <td>NO_PROBLEM</td>\n",
       "      <td>0</td>\n",
       "      <td>2017-05-10 17:51:15</td>\n",
       "      <td>1494449475</td>\n",
       "      <td>1494385200</td>\n",
       "      <td>NaN</td>\n",
       "    </tr>\n",
       "    <tr>\n",
       "      <th>6</th>\n",
       "      <td>030</td>\n",
       "      <td>KB699</td>\n",
       "      <td>2017-05-10</td>\n",
       "      <td>527</td>\n",
       "      <td>07/08/91</td>\n",
       "      <td>10/05/17 08:47:49,000000</td>\n",
       "      <td>INTERBAIRROS III</td>\n",
       "      <td>0002167105</td>\n",
       "      <td>M</td>\n",
       "      <td>1494416869</td>\n",
       "      <td>...</td>\n",
       "      <td>-49.264663</td>\n",
       "      <td>32.417150</td>\n",
       "      <td>08:47:10</td>\n",
       "      <td>32609</td>\n",
       "      <td>TRIP_PROBLEM</td>\n",
       "      <td>0</td>\n",
       "      <td>2017-05-10 08:47:10</td>\n",
       "      <td>1494416830</td>\n",
       "      <td>1494385200</td>\n",
       "      <td>-25.513720</td>\n",
       "    </tr>\n",
       "    <tr>\n",
       "      <th>7</th>\n",
       "      <td>030</td>\n",
       "      <td>GR123</td>\n",
       "      <td>2017-05-10</td>\n",
       "      <td>704</td>\n",
       "      <td>07/08/91</td>\n",
       "      <td>10/05/17 11:44:57,000000</td>\n",
       "      <td>INTERBAIRROS III</td>\n",
       "      <td>0002167105</td>\n",
       "      <td>M</td>\n",
       "      <td>1494427497</td>\n",
       "      <td>...</td>\n",
       "      <td>-49.265710</td>\n",
       "      <td>75.325790</td>\n",
       "      <td>11:44:32</td>\n",
       "      <td>32848</td>\n",
       "      <td>NO_PROBLEM</td>\n",
       "      <td>0</td>\n",
       "      <td>2017-05-10 11:44:32</td>\n",
       "      <td>1494427472</td>\n",
       "      <td>1494385200</td>\n",
       "      <td>NaN</td>\n",
       "    </tr>\n",
       "    <tr>\n",
       "      <th>8</th>\n",
       "      <td>338</td>\n",
       "      <td>EA193</td>\n",
       "      <td>2017-05-10</td>\n",
       "      <td>418</td>\n",
       "      <td>26/05/71</td>\n",
       "      <td>10/05/17 06:58:30,000000</td>\n",
       "      <td>CENTENÁRIO/HAUER</td>\n",
       "      <td>0002277554</td>\n",
       "      <td>F</td>\n",
       "      <td>1494410310</td>\n",
       "      <td>...</td>\n",
       "      <td>-49.205793</td>\n",
       "      <td>15.684446</td>\n",
       "      <td>06:58:30</td>\n",
       "      <td>30183</td>\n",
       "      <td>NO_PROBLEM</td>\n",
       "      <td>5</td>\n",
       "      <td>2017-05-10 06:58:30</td>\n",
       "      <td>1494410310</td>\n",
       "      <td>1494385200</td>\n",
       "      <td>NaN</td>\n",
       "    </tr>\n",
       "    <tr>\n",
       "      <th>9</th>\n",
       "      <td>338</td>\n",
       "      <td>EA014</td>\n",
       "      <td>2017-05-10</td>\n",
       "      <td>1097</td>\n",
       "      <td>26/05/71</td>\n",
       "      <td>10/05/17 18:17:10,000000</td>\n",
       "      <td>CENTENÁRIO/HAUER</td>\n",
       "      <td>0002277554</td>\n",
       "      <td>F</td>\n",
       "      <td>1494451030</td>\n",
       "      <td>...</td>\n",
       "      <td>NaN</td>\n",
       "      <td>NaN</td>\n",
       "      <td>18:17:18</td>\n",
       "      <td>30051</td>\n",
       "      <td>BETWEEN</td>\n",
       "      <td>0</td>\n",
       "      <td>2017-05-10 18:17:18</td>\n",
       "      <td>1494451038</td>\n",
       "      <td>1494385200</td>\n",
       "      <td>NaN</td>\n",
       "    </tr>\n",
       "  </tbody>\n",
       "</table>\n",
       "<p>10 rows × 29 columns</p>\n",
       "</div>"
      ],
      "text/plain": [
       "  route busCode        date  sec_group userBirthdate  \\\n",
       "0   625   GA165  2017-05-10        460      01/08/77   \n",
       "1   021   DR102  2017-05-10        507      01/08/77   \n",
       "2   777   JC003  2017-05-10        747      24/08/01   \n",
       "3   777   JC008  2017-05-10       1252      24/08/01   \n",
       "4   828   LA001  2017-05-10        414      01/06/71   \n",
       "5   614   GR403  2017-05-10       1071      01/06/71   \n",
       "6   030   KB699  2017-05-10        527      07/08/91   \n",
       "7   030   GR123  2017-05-10        704      07/08/91   \n",
       "8   338   EA193  2017-05-10        418      26/05/71   \n",
       "9   338   EA014  2017-05-10       1097      26/05/71   \n",
       "\n",
       "              cardTimestamp          lineName     cardNum gender  \\\n",
       "0  10/05/17 07:40:11,000000          GRAMADOS  0001080534      F   \n",
       "1  10/05/17 08:27:29,000000  INTERB II ANTI H  0001080534      F   \n",
       "2  10/05/17 12:27:28,000000          V. VELHA  0001600147      F   \n",
       "3  10/05/17 20:52:13,000000          V. VELHA  0001600147      F   \n",
       "4  10/05/17 06:54:54,000000     C.COMP/C.RASO  0002083421      F   \n",
       "5  10/05/17 17:51:49,000000    FAZENDINHA/PUC  0002083421      F   \n",
       "6  10/05/17 08:47:49,000000  INTERBAIRROS III  0002167105      M   \n",
       "7  10/05/17 11:44:57,000000  INTERBAIRROS III  0002167105      M   \n",
       "8  10/05/17 06:58:30,000000  CENTENÁRIO/HAUER  0002277554      F   \n",
       "9  10/05/17 18:17:10,000000  CENTENÁRIO/HAUER  0002277554      F   \n",
       "\n",
       "   card_timestamp_in_secs    ...         gpsLon  distanceToShapePoint  \\\n",
       "0              1494412811    ...     -49.274506             19.577750   \n",
       "1              1494415649    ...     -49.230296             39.798256   \n",
       "2              1494430048    ...     -49.336276              3.516852   \n",
       "3              1494460333    ...            NaN                   NaN   \n",
       "4              1494410094    ...     -49.324050              6.740887   \n",
       "5              1494449509    ...     -49.323938             16.106558   \n",
       "6              1494416869    ...     -49.264663             32.417150   \n",
       "7              1494427497    ...     -49.265710             75.325790   \n",
       "8              1494410310    ...     -49.205793             15.684446   \n",
       "9              1494451030    ...            NaN                   NaN   \n",
       "\n",
       "   timestamp  busStopId       problem  numPassengers        gps_timestamp  \\\n",
       "0   07:40:51      35747    NO_PROBLEM              0  2017-05-10 07:40:51   \n",
       "1   08:27:55      30192    NO_PROBLEM              0  2017-05-10 08:27:55   \n",
       "2   12:27:32      33624    NO_PROBLEM              3  2017-05-10 12:27:32   \n",
       "3   20:52:37      32903       BETWEEN              0  2017-05-10 20:52:37   \n",
       "4   06:54:15      33811    NO_PROBLEM              0  2017-05-10 06:54:15   \n",
       "5   17:51:15      31636    NO_PROBLEM              0  2017-05-10 17:51:15   \n",
       "6   08:47:10      32609  TRIP_PROBLEM              0  2017-05-10 08:47:10   \n",
       "7   11:44:32      32848    NO_PROBLEM              0  2017-05-10 11:44:32   \n",
       "8   06:58:30      30183    NO_PROBLEM              5  2017-05-10 06:58:30   \n",
       "9   18:17:18      30051       BETWEEN              0  2017-05-10 18:17:18   \n",
       "\n",
       "  gps_timestamp_in_secs  gps_date_in_secs      d_lat  \n",
       "0            1494412851        1494385200 -25.428238  \n",
       "1            1494415675        1494385200        NaN  \n",
       "2            1494430052        1494385200        NaN  \n",
       "3            1494460357        1494385200        NaN  \n",
       "4            1494410055        1494385200 -25.477115  \n",
       "5            1494449475        1494385200        NaN  \n",
       "6            1494416830        1494385200 -25.513720  \n",
       "7            1494427472        1494385200        NaN  \n",
       "8            1494410310        1494385200        NaN  \n",
       "9            1494451038        1494385200        NaN  \n",
       "\n",
       "[10 rows x 29 columns]"
      ]
     },
     "execution_count": 94,
     "metadata": {},
     "output_type": "execute_result"
    }
   ],
   "source": [
    "print_df(od_matrix)"
   ]
  },
  {
   "cell_type": "code",
   "execution_count": 96,
   "metadata": {},
   "outputs": [
    {
     "ename": "AttributeError",
     "evalue": "'DataFrame' object has no attribute 'd_lat'",
     "output_type": "error",
     "traceback": [
      "\u001b[0;31m---------------------------------------------------------------------------\u001b[0m",
      "\u001b[0;31mAttributeError\u001b[0m                            Traceback (most recent call last)",
      "\u001b[0;32m<ipython-input-96-774f13bc9e5b>\u001b[0m in \u001b[0;36m<module>\u001b[0;34m()\u001b[0m\n\u001b[0;32m----> 1\u001b[0;31m od_matrix = clean_boardings.withColumn('d_lat',F.when(clean_boardings.d_lat == None,\n\u001b[0m\u001b[1;32m      2\u001b[0m                                                       F.first(F.col('gpsLat').over(user_boarding_w))). \\\n\u001b[1;32m      3\u001b[0m                                                        otherwise(clean_boardings.d_lat))\n",
      "\u001b[0;32m/local/tarciso/programs/spark-2.1.0-bin-hadoop2.7/python/pyspark/sql/dataframe.pyc\u001b[0m in \u001b[0;36m__getattr__\u001b[0;34m(self, name)\u001b[0m\n\u001b[1;32m    962\u001b[0m         \u001b[0;32mif\u001b[0m \u001b[0mname\u001b[0m \u001b[0;32mnot\u001b[0m \u001b[0;32min\u001b[0m \u001b[0mself\u001b[0m\u001b[0;34m.\u001b[0m\u001b[0mcolumns\u001b[0m\u001b[0;34m:\u001b[0m\u001b[0;34m\u001b[0m\u001b[0m\n\u001b[1;32m    963\u001b[0m             raise AttributeError(\n\u001b[0;32m--> 964\u001b[0;31m                 \"'%s' object has no attribute '%s'\" % (self.__class__.__name__, name))\n\u001b[0m\u001b[1;32m    965\u001b[0m         \u001b[0mjc\u001b[0m \u001b[0;34m=\u001b[0m \u001b[0mself\u001b[0m\u001b[0;34m.\u001b[0m\u001b[0m_jdf\u001b[0m\u001b[0;34m.\u001b[0m\u001b[0mapply\u001b[0m\u001b[0;34m(\u001b[0m\u001b[0mname\u001b[0m\u001b[0;34m)\u001b[0m\u001b[0;34m\u001b[0m\u001b[0m\n\u001b[1;32m    966\u001b[0m         \u001b[0;32mreturn\u001b[0m \u001b[0mColumn\u001b[0m\u001b[0;34m(\u001b[0m\u001b[0mjc\u001b[0m\u001b[0;34m)\u001b[0m\u001b[0;34m\u001b[0m\u001b[0m\n",
      "\u001b[0;31mAttributeError\u001b[0m: 'DataFrame' object has no attribute 'd_lat'"
     ]
    }
   ],
   "source": [
    "od_matrix = clean_boardings.withColumn('d_lat',F.when(clean_boardings.d_lat == None,\n",
    "                                                      F.first(F.col('gpsLat').over(user_boarding_w))). \\\n",
    "                                                       otherwise(clean_boardings.d_lat))"
   ]
  },
  {
   "cell_type": "code",
   "execution_count": null,
   "metadata": {},
   "outputs": [],
   "source": [
    "#ticketing_data.filter(F.col('cardNum') == '0001080534').toPandas()"
   ]
  },
  {
   "cell_type": "code",
   "execution_count": null,
   "metadata": {},
   "outputs": [],
   "source": [
    "#clean_boardings.count()"
   ]
  },
  {
   "cell_type": "code",
   "execution_count": null,
   "metadata": {},
   "outputs": [],
   "source": [
    "#clean_boardings.select('cardNum').distinct().count()"
   ]
  },
  {
   "cell_type": "code",
   "execution_count": null,
   "metadata": {
    "scrolled": true
   },
   "outputs": [],
   "source": [
    "#Taking a look at a sample:\n",
    "#user_boardings.filter(F.col('cardNum') == '0002986469').limit(20).toPandas()"
   ]
  },
  {
   "cell_type": "code",
   "execution_count": null,
   "metadata": {
    "scrolled": true
   },
   "outputs": [],
   "source": [
    "#Taking a look at a sample:\n",
    "#user_boardings.filter(F.col('cardNum') == '0003372920').limit(20).toPandas()"
   ]
  },
  {
   "cell_type": "code",
   "execution_count": null,
   "metadata": {
    "scrolled": true
   },
   "outputs": [],
   "source": [
    "#Taking a look at a sample:\n",
    "#user_boardings.filter(F.col('cardNum') == '0002986469').limit(20).toPandas()"
   ]
  },
  {
   "cell_type": "code",
   "execution_count": null,
   "metadata": {
    "scrolled": true
   },
   "outputs": [],
   "source": [
    "#Taking a look at a sample:\n",
    "#user_boardings.filter(F.col('cardNum') == '0003372920').limit(20).toPandas()"
   ]
  },
  {
   "cell_type": "code",
   "execution_count": null,
   "metadata": {},
   "outputs": [],
   "source": [
    "#Checking if there are any duplicate boarding entries\n",
    "#duplicate_board_entries = user_boardings.groupby(['cardNum','date','sec_group']).count().filter('count > 1')\n",
    "#print duplicate_board_entries.count()\n",
    "#print_df(duplicate_board_entries)"
   ]
  },
  {
   "cell_type": "code",
   "execution_count": null,
   "metadata": {
    "scrolled": true
   },
   "outputs": [],
   "source": [
    "#Taking a look at a sample:\n",
    "#print_df(user_boardings.filter(F.col('cardNum') == '0001884144'))"
   ]
  },
  {
   "cell_type": "code",
   "execution_count": null,
   "metadata": {},
   "outputs": [],
   "source": [
    "#print_df(user_boardings.filter(F.col('cardNum') == '0001884144').select(['route','busCode','tripNum','date','sec_group','gps_timestamp','problem','timestamp','cardTimestamp']))"
   ]
  },
  {
   "cell_type": "code",
   "execution_count": null,
   "metadata": {},
   "outputs": [],
   "source": [
    "#print_df(user_boardings.filter(F.col('cardNum') == '0003826824').select(['route','busCode','tripNum','date','sec_group','gps_timestamp','problem','timestamp','cardTimestamp']))"
   ]
  },
  {
   "cell_type": "code",
   "execution_count": null,
   "metadata": {},
   "outputs": [],
   "source": [
    "#print_df(user_boardings.filter(F.col('cardNum') == '0002195541').select(['route','busCode','tripNum','date','sec_group','gps_timestamp','problem','timestamp','cardTimestamp']))"
   ]
  },
  {
   "cell_type": "markdown",
   "metadata": {},
   "source": [
    "As we can see above, the duplicated boarding records are due to a problem with the BULMA output, as GPS records which occurred in the same trip are being associated to different trips. We will exclude such entries from our analysis."
   ]
  },
  {
   "cell_type": "code",
   "execution_count": null,
   "metadata": {
    "collapsed": true
   },
   "outputs": [],
   "source": []
  }
 ],
 "metadata": {
  "kernelspec": {
   "display_name": "Python 2",
   "language": "python",
   "name": "python2"
  },
  "language_info": {
   "codemirror_mode": {
    "name": "ipython",
    "version": 2
   },
   "file_extension": ".py",
   "mimetype": "text/x-python",
   "name": "python",
   "nbconvert_exporter": "python",
   "pygments_lexer": "ipython2",
   "version": "2.7.13"
  }
 },
 "nbformat": 4,
 "nbformat_minor": 2
}
