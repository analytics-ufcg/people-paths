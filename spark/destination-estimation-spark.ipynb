{
 "cells": [
  {
   "cell_type": "code",
   "execution_count": 73,
   "metadata": {
    "collapsed": true
   },
   "outputs": [],
   "source": [
    "import pyspark\n",
    "from pyspark import SparkContext\n",
    "from pyspark.sql.window import Window\n",
    "from pyspark.sql import functions as F\n",
    "from pyspark.sql import types as T\n",
    "\n",
    "import json\n",
    "import numpy as np"
   ]
  },
  {
   "cell_type": "code",
   "execution_count": 74,
   "metadata": {
    "collapsed": true
   },
   "outputs": [],
   "source": [
    "def rename_columns(df, list_of_tuples):\n",
    "    for (old_col, new_col) in list_of_tuples:\n",
    "        df = df.withColumnRenamed(old_col, new_col)\n",
    "    return df\n",
    "\n",
    "def read_file(filepath, sqlContext):\n",
    "    data_frame = sqlContext.read.csv(filepath, header=False,\n",
    "                                     inferSchema=True,nullValue=\"-\")\n",
    "    while len(data_frame.columns) < 16:\n",
    "        col_name = \"_c\" + str(len(data_frame.columns))\n",
    "        data_frame = data_frame.withColumn(col_name, F.lit(None))\n",
    "\n",
    "    data_frame = rename_columns(\n",
    "        data_frame,\n",
    "        [\n",
    "            (\"_c0\", \"route\"),\n",
    "            (\"_c1\", \"tripNum\"),\n",
    "            (\"_c2\", \"shapeId\"),\n",
    "            (\"_c3\", \"shapeSequence\"),\n",
    "            (\"_c4\", \"shapeLat\"),\n",
    "            (\"_c5\", \"shapeLon\"),\n",
    "            (\"_c6\", \"distanceTraveledShape\"),\n",
    "            (\"_c7\", \"busCode\"),\n",
    "            (\"_c8\", \"gpsPointId\"),\n",
    "            (\"_c9\", \"gpsLat\"),\n",
    "            (\"_c10\", \"gpsLon\"),\n",
    "            (\"_c11\", \"distanceToShapePoint\"),\n",
    "            (\"_c12\", \"timestamp\"),\n",
    "            (\"_c13\", \"busStopId\"),\n",
    "            (\"_c14\", \"problem\"),\n",
    "            (\"_c15\", \"numPassengers\")\n",
    "        ]\n",
    "    )\n",
    "\n",
    "    date = \"-\".join(filepath.split(\"/\")[-2].split(\"_\")[:3])\n",
    "\n",
    "    data_frame = data_frame.withColumn(\"date\", F.lit(date))\n",
    "\n",
    "    return data_frame\n",
    "\n",
    "def print_df(df,l=10):\n",
    "    return df.limit(l).toPandas()"
   ]
  },
  {
   "cell_type": "markdown",
   "metadata": {
    "collapsed": true
   },
   "source": [
    "### Read GPS Data"
   ]
  },
  {
   "cell_type": "code",
   "execution_count": 75,
   "metadata": {
    "collapsed": true
   },
   "outputs": [],
   "source": [
    "sc = SparkContext.getOrCreate()\n",
    "sqlContext = pyspark.SQLContext(sc)"
   ]
  },
  {
   "cell_type": "code",
   "execution_count": 76,
   "metadata": {
    "collapsed": true
   },
   "outputs": [],
   "source": [
    "exp_data_folder_path = '/local/tarciso/masters/experiments/preliminary-exp/preliminary-exp-sample-data/'\n",
    "trips_data = read_file(exp_data_folder_path + '/bulma-output/2017_05_11_veiculos.csv/part-00000', sqlContext)"
   ]
  },
  {
   "cell_type": "code",
   "execution_count": 77,
   "metadata": {},
   "outputs": [
    {
     "data": {
      "text/plain": [
       "[Row(route=u'372', tripNum=4, shapeId=1891, shapeSequence=6136916, shapeLat=-25.432724990605614, shapeLon=-49.27218701780396, distanceTraveledShape=10149.88, busCode=u'CC170', gpsPointId=None, gpsLat=None, gpsLon=None, distanceToShapePoint=None, timestamp=u'12:13:43', busStopId=None, problem=u'BETWEEN', numPassengers=None, date=u'2017-05-11'),\n",
       " Row(route=u'372', tripNum=4, shapeId=1891, shapeSequence=6136915, shapeLat=-25.432470122014415, shapeLon=-49.27231020615159, distanceTraveledShape=10119.046, busCode=u'CC170', gpsPointId=None, gpsLat=None, gpsLon=None, distanceToShapePoint=None, timestamp=u'12:45:14', busStopId=None, problem=u'BETWEEN', numPassengers=None, date=u'2017-05-11'),\n",
       " Row(route=u'372', tripNum=1, shapeId=1891, shapeSequence=6136650, shapeLat=-25.413362156585787, shapeLon=-49.20592429766663, distanceTraveledShape=79.983, busCode=u'CC170', gpsPointId=None, gpsLat=-25.413378, gpsLon=-49.205836, distanceToShapePoint=9.041484, timestamp=u'05:41:14', busStopId=None, problem=u'NO_PROBLEM', numPassengers=None, date=u'2017-05-11')]"
      ]
     },
     "execution_count": 77,
     "metadata": {},
     "output_type": "execute_result"
    }
   ],
   "source": [
    "trips_data.head(3)"
   ]
  },
  {
   "cell_type": "code",
   "execution_count": 78,
   "metadata": {},
   "outputs": [
    {
     "name": "stdout",
     "output_type": "stream",
     "text": [
      "root\n",
      " |-- route: string (nullable = true)\n",
      " |-- tripNum: integer (nullable = true)\n",
      " |-- shapeId: integer (nullable = true)\n",
      " |-- shapeSequence: integer (nullable = true)\n",
      " |-- shapeLat: double (nullable = true)\n",
      " |-- shapeLon: double (nullable = true)\n",
      " |-- distanceTraveledShape: double (nullable = true)\n",
      " |-- busCode: string (nullable = true)\n",
      " |-- gpsPointId: string (nullable = true)\n",
      " |-- gpsLat: double (nullable = true)\n",
      " |-- gpsLon: double (nullable = true)\n",
      " |-- distanceToShapePoint: double (nullable = true)\n",
      " |-- timestamp: string (nullable = true)\n",
      " |-- busStopId: integer (nullable = true)\n",
      " |-- problem: string (nullable = true)\n",
      " |-- numPassengers: integer (nullable = true)\n",
      " |-- date: string (nullable = false)\n",
      "\n"
     ]
    }
   ],
   "source": [
    "trips_data.printSchema()"
   ]
  },
  {
   "cell_type": "markdown",
   "metadata": {},
   "source": [
    "### Read Bus Card Data"
   ]
  },
  {
   "cell_type": "code",
   "execution_count": 79,
   "metadata": {
    "collapsed": true
   },
   "outputs": [],
   "source": [
    "ticketing_data = sqlContext.read.json(exp_data_folder_path + '/ticketing-sample/doc1-2017051115.txt')"
   ]
  },
  {
   "cell_type": "code",
   "execution_count": 80,
   "metadata": {
    "collapsed": true
   },
   "outputs": [],
   "source": [
    "#Renaming columns to english\n",
    "ticketing_data = ticketing_data.select(F.col(\"CODLINHA\").alias(\"route\"),\n",
    "                                       F.col(\"CODVEICULO\").alias(\"busCode\"),\n",
    "                                       F.col(\"DATANASCIMENTO\").alias(\"userBirthdate\"),\n",
    "                                       F.col(\"DATAUTILIZACAO\").alias(\"cardTimestamp\"),\n",
    "                                       F.col(\"NOMELINHA\").alias(\"lineName\"),\n",
    "                                       F.col(\"NUMEROCARTAO\").alias(\"cardNum\"),\n",
    "                                       F.col(\"SEXO\").alias(\"gender\"))"
   ]
  },
  {
   "cell_type": "code",
   "execution_count": 81,
   "metadata": {},
   "outputs": [
    {
     "name": "stdout",
     "output_type": "stream",
     "text": [
      "root\n",
      " |-- route: string (nullable = true)\n",
      " |-- busCode: string (nullable = true)\n",
      " |-- userBirthdate: string (nullable = true)\n",
      " |-- cardTimestamp: string (nullable = true)\n",
      " |-- lineName: string (nullable = true)\n",
      " |-- cardNum: string (nullable = true)\n",
      " |-- gender: string (nullable = true)\n",
      "\n"
     ]
    }
   ],
   "source": [
    "ticketing_data.printSchema()"
   ]
  },
  {
   "cell_type": "code",
   "execution_count": 82,
   "metadata": {},
   "outputs": [
    {
     "data": {
      "text/plain": [
       "[Row(route=u'021', busCode=u'08046', userBirthdate=u'26/01/72', cardTimestamp=u'10/05/17 20:15:16,000000', lineName=u'INTERB II ANTI H', cardNum=u'0001937533', gender=u'F'),\n",
       " Row(route=u'021', busCode=u'08027', userBirthdate=u'26/01/72', cardTimestamp=u'10/05/17 13:10:24,000000', lineName=u'INTERB II ANTI H', cardNum=u'0001937533', gender=u'F'),\n",
       " Row(route=u'623', busCode=u'HA022', userBirthdate=u'06/03/71', cardTimestamp=u'10/05/17 08:23:45,000000', lineName=u'PQ.INDUSTRIAL', cardNum=u'0001311020', gender=u'F'),\n",
       " Row(route=u'000', busCode=u'03023', userBirthdate=u'06/03/71', cardTimestamp=u'10/05/17 11:54:19,000000', lineName=u'OPER S/LINHA', cardNum=u'0001311020', gender=u'F'),\n",
       " Row(route=u'TPH', busCode=u'03019', userBirthdate=u'23/11/79', cardTimestamp=u'10/05/17 13:30:10,000000', lineName=u'TERMINAL PINHEIRINHO', cardNum=u'0002425635', gender=u'F')]"
      ]
     },
     "execution_count": 82,
     "metadata": {},
     "output_type": "execute_result"
    }
   ],
   "source": [
    "ticketing_data.head(5)"
   ]
  },
  {
   "cell_type": "markdown",
   "metadata": {},
   "source": [
    "### Pre-processing GPS data"
   ]
  },
  {
   "cell_type": "code",
   "execution_count": 83,
   "metadata": {
    "collapsed": true
   },
   "outputs": [],
   "source": [
    "#Warning: Both data sources dates refer to previous day, not to the day in the file name. Fixing this issue here to match bus card data.\n",
    "trips_data = trips_data.withColumn(\"date\", F.date_sub(F.col(\"date\"), 1))\n",
    "trips_data = trips_data.withColumn(\"gps_timestamp\", F.concat(F.col(\"date\"), F.lit(\" \"), F.col(\"timestamp\")))\n",
    "trips_data = trips_data.withColumn(\"gps_timestamp_in_secs\", F.unix_timestamp(F.col(\"gps_timestamp\"), \"yyyy-MM-dd HH:mm:ss\"))\n",
    "trips_data = trips_data.withColumn(\"gps_date_in_secs\", F.unix_timestamp(F.col(\"date\"), \"yyyy-MM-dd\"))"
   ]
  },
  {
   "cell_type": "code",
   "execution_count": 84,
   "metadata": {},
   "outputs": [],
   "source": [
    "#trips_data.select([\"date\",\"gps_date_in_secs\",\"timestamp\",\"gps_timestamp_in_secs\"]).show()"
   ]
  },
  {
   "cell_type": "code",
   "execution_count": 85,
   "metadata": {
    "collapsed": true
   },
   "outputs": [],
   "source": [
    "def get_N_sec_group(timestamp_in_secs,date_in_secs,N):\n",
    "    secs_since_midnight = timestamp_in_secs-date_in_secs\n",
    "    return(F.floor(secs_since_midnight/N))"
   ]
  },
  {
   "cell_type": "code",
   "execution_count": 86,
   "metadata": {},
   "outputs": [],
   "source": [
    "trips_data = trips_data.withColumn(\"sec_group\",get_N_sec_group(F.col(\"gps_timestamp_in_secs\"),F.col(\"gps_date_in_secs\"),60))\n",
    "#trips_data.select([\"gps_timestamp\",\"gps_timestamp_in_secs\",\"sec_group\"]).show()"
   ]
  },
  {
   "cell_type": "markdown",
   "metadata": {},
   "source": [
    "## Pre-processing Bus Card data"
   ]
  },
  {
   "cell_type": "code",
   "execution_count": 87,
   "metadata": {},
   "outputs": [],
   "source": [
    "ticketing_data = ticketing_data.withColumn(\"card_timestamp_in_secs\", F.unix_timestamp(F.col(\"cardTimestamp\"), \"dd/MM/yy HH:mm:ss\"))\n",
    "ticketing_data = ticketing_data.withColumn(\"date\",F.from_unixtime(F.col(\"card_timestamp_in_secs\"), \"yyyy-MM-dd\"))\n",
    "ticketing_data = ticketing_data.withColumn(\"card_date_in_secs\",F.unix_timestamp(F.col(\"date\"),\"yyyy-MM-dd\"))\n",
    "#ticketing_data.select([\"cardTimestamp\",\"card_timestamp_in_secs\",\"date\",\"card_date_in_secs\"]).show()"
   ]
  },
  {
   "cell_type": "code",
   "execution_count": 88,
   "metadata": {},
   "outputs": [],
   "source": [
    "ticketing_data = ticketing_data.withColumn(\"sec_group\",get_N_sec_group(F.col(\"card_timestamp_in_secs\"),F.col(\"card_date_in_secs\"),60))\n",
    "#ticketing_data.select([\"cardTimestamp\",\"card_timestamp_in_secs\",\"sec_group\"]).orderBy(\"card_timestamp_in_secs\").show()"
   ]
  },
  {
   "cell_type": "code",
   "execution_count": 89,
   "metadata": {},
   "outputs": [
    {
     "data": {
      "text/plain": [
       "7900150"
      ]
     },
     "execution_count": 89,
     "metadata": {},
     "output_type": "execute_result"
    }
   ],
   "source": [
    "trips_data.count()"
   ]
  },
  {
   "cell_type": "code",
   "execution_count": 90,
   "metadata": {},
   "outputs": [
    {
     "data": {
      "text/plain": [
       "306906"
      ]
     },
     "execution_count": 90,
     "metadata": {},
     "output_type": "execute_result"
    }
   ],
   "source": [
    "ticketing_data.count()"
   ]
  },
  {
   "cell_type": "markdown",
   "metadata": {},
   "source": [
    "### Removing duplicate GPS records (occurred in the same time period)"
   ]
  },
  {
   "cell_type": "code",
   "execution_count": 91,
   "metadata": {},
   "outputs": [
    {
     "name": "stdout",
     "output_type": "stream",
     "text": [
      "414149\n"
     ]
    }
   ],
   "source": [
    "filtered_trips_data = trips_data.na.drop(subset=[\"route\",\"busCode\",\"busStopId\",\"sec_group\"]).dropDuplicates([\"route\",\"busCode\", \"tripNum\", \"date\",\"sec_group\"])\n",
    "print filtered_trips_data.count()\n",
    "#filtered_trips_data.select([\"route\",\"busCode\", \"tripNum\",\"busStopId\", \"sec_group\"]).orderBy(\"route\",\"busCode\",\"tripNum\",\"busStopId\").limit(20).toPandas()"
   ]
  },
  {
   "cell_type": "markdown",
   "metadata": {},
   "source": [
    "### Removing Duplicate entries in ticketing data"
   ]
  },
  {
   "cell_type": "code",
   "execution_count": 92,
   "metadata": {
    "collapsed": true
   },
   "outputs": [],
   "source": [
    "ticketing_data = ticketing_data.dropDuplicates([\"route\",\"busCode\",\"cardNum\",\"date\",\"sec_group\"])"
   ]
  },
  {
   "cell_type": "code",
   "execution_count": 93,
   "metadata": {},
   "outputs": [
    {
     "data": {
      "text/plain": [
       "292993"
      ]
     },
     "execution_count": 93,
     "metadata": {},
     "output_type": "execute_result"
    }
   ],
   "source": [
    "ticketing_data.count()"
   ]
  },
  {
   "cell_type": "markdown",
   "metadata": {},
   "source": [
    "### Merging GPS and ticketing data "
   ]
  },
  {
   "cell_type": "code",
   "execution_count": 94,
   "metadata": {},
   "outputs": [],
   "source": [
    "#ticketing_data.select(['route','busCode','date','sec_group']).orderBy(['route','busCode','sec_group']).limit(20).toPandas()"
   ]
  },
  {
   "cell_type": "code",
   "execution_count": 95,
   "metadata": {},
   "outputs": [],
   "source": [
    "#filtered_trips_data.select(['route','busCode','date','sec_group']).orderBy(['route','busCode','sec_group']).limit(20).toPandas()"
   ]
  },
  {
   "cell_type": "code",
   "execution_count": 96,
   "metadata": {
    "collapsed": true
   },
   "outputs": [],
   "source": [
    "user_boardings = ticketing_data.join(filtered_trips_data, ['route','busCode','date','sec_group'], 'inner')"
   ]
  },
  {
   "cell_type": "code",
   "execution_count": 97,
   "metadata": {},
   "outputs": [
    {
     "name": "stdout",
     "output_type": "stream",
     "text": [
      "root\n",
      " |-- route: string (nullable = true)\n",
      " |-- busCode: string (nullable = true)\n",
      " |-- date: string (nullable = true)\n",
      " |-- sec_group: long (nullable = true)\n",
      " |-- userBirthdate: string (nullable = true)\n",
      " |-- cardTimestamp: string (nullable = true)\n",
      " |-- lineName: string (nullable = true)\n",
      " |-- cardNum: string (nullable = true)\n",
      " |-- gender: string (nullable = true)\n",
      " |-- card_timestamp_in_secs: long (nullable = true)\n",
      " |-- card_date_in_secs: long (nullable = true)\n",
      " |-- tripNum: integer (nullable = true)\n",
      " |-- shapeId: integer (nullable = true)\n",
      " |-- shapeSequence: integer (nullable = true)\n",
      " |-- shapeLat: double (nullable = true)\n",
      " |-- shapeLon: double (nullable = true)\n",
      " |-- distanceTraveledShape: double (nullable = true)\n",
      " |-- gpsPointId: string (nullable = true)\n",
      " |-- gpsLat: double (nullable = true)\n",
      " |-- gpsLon: double (nullable = true)\n",
      " |-- distanceToShapePoint: double (nullable = true)\n",
      " |-- timestamp: string (nullable = true)\n",
      " |-- busStopId: integer (nullable = true)\n",
      " |-- problem: string (nullable = true)\n",
      " |-- numPassengers: integer (nullable = true)\n",
      " |-- gps_timestamp: string (nullable = true)\n",
      " |-- gps_timestamp_in_secs: long (nullable = true)\n",
      " |-- gps_date_in_secs: long (nullable = true)\n",
      "\n"
     ]
    }
   ],
   "source": [
    "user_boardings.printSchema()"
   ]
  },
  {
   "cell_type": "code",
   "execution_count": 98,
   "metadata": {},
   "outputs": [],
   "source": [
    "#user_boardings.select(['route','busCode','sec_group','timestamp','cardTimestamp']).limit(20).toPandas()"
   ]
  },
  {
   "cell_type": "code",
   "execution_count": 99,
   "metadata": {},
   "outputs": [
    {
     "data": {
      "text/plain": [
       "74187"
      ]
     },
     "execution_count": 99,
     "metadata": {},
     "output_type": "execute_result"
    }
   ],
   "source": [
    "user_boardings.count()"
   ]
  },
  {
   "cell_type": "code",
   "execution_count": 100,
   "metadata": {},
   "outputs": [
    {
     "data": {
      "text/plain": [
       "65960"
      ]
     },
     "execution_count": 100,
     "metadata": {},
     "output_type": "execute_result"
    }
   ],
   "source": [
    "user_boardings.select('cardNum').distinct().count()"
   ]
  },
  {
   "cell_type": "code",
   "execution_count": 101,
   "metadata": {},
   "outputs": [],
   "source": [
    "#user_boardings.select(['route','busCode','tripNum','busStopId','sec_group','cardNum','cardTimestamp','gps_timestamp']).orderBy('cardNum','cardTimestamp').limit(20).toPandas()"
   ]
  },
  {
   "cell_type": "markdown",
   "metadata": {},
   "source": [
    "### Removing duplicated boarding data"
   ]
  },
  {
   "cell_type": "code",
   "execution_count": 102,
   "metadata": {
    "collapsed": true
   },
   "outputs": [],
   "source": [
    "#Keeping only non-duplicated boarding data\n",
    "non_duplicated_boardings = user_boardings.groupby(['cardNum','date','sec_group']).count().filter('count == 1')"
   ]
  },
  {
   "cell_type": "code",
   "execution_count": 126,
   "metadata": {
    "collapsed": true
   },
   "outputs": [],
   "source": [
    "non_duplicated_boardings = non_duplicated_boardings.select(F.col(\"cardNum\").alias(\"cardNum1\"),\n",
    "                                       F.col(\"date\").alias(\"date1\"),\n",
    "                                       F.col(\"sec_group\").alias(\"sec_group1\"),\n",
    "                                       F.col(\"count\").alias(\"count1\"))"
   ]
  },
  {
   "cell_type": "code",
   "execution_count": 127,
   "metadata": {
    "scrolled": true
   },
   "outputs": [
    {
     "name": "stdout",
     "output_type": "stream",
     "text": [
      "+----------+----------+----------+------+\n",
      "|  cardNum1|     date1|sec_group1|count1|\n",
      "+----------+----------+----------+------+\n",
      "|0002793259|2017-05-10|       800|     1|\n",
      "|0003655283|2017-05-10|       495|     1|\n",
      "|0003588558|2017-05-10|       431|     1|\n",
      "|0002401786|2017-05-10|       417|     1|\n",
      "|0002066650|2017-05-10|       457|     1|\n",
      "|0003654850|2017-05-10|       342|     1|\n",
      "|0002650979|2017-05-10|       850|     1|\n",
      "|0003386754|2017-05-10|       403|     1|\n",
      "|0002266612|2017-05-10|       342|     1|\n",
      "|0003813755|2017-05-10|      1152|     1|\n",
      "|0003806918|2017-05-10|       371|     1|\n",
      "|0003098051|2017-05-10|       458|     1|\n",
      "|0003149580|2017-05-10|      1076|     1|\n",
      "|0002935536|2017-05-10|       834|     1|\n",
      "|0003680105|2017-05-10|       432|     1|\n",
      "|0003779782|2017-05-10|       777|     1|\n",
      "|0002082975|2017-05-10|       570|     1|\n",
      "|0001045338|2017-05-10|       562|     1|\n",
      "|0003037502|2017-05-10|       387|     1|\n",
      "|0001578775|2017-05-10|       412|     1|\n",
      "+----------+----------+----------+------+\n",
      "only showing top 20 rows\n",
      "\n"
     ]
    }
   ],
   "source": [
    "non_duplicated_boardings.show()"
   ]
  },
  {
   "cell_type": "code",
   "execution_count": 103,
   "metadata": {},
   "outputs": [
    {
     "data": {
      "text/plain": [
       "65833"
      ]
     },
     "execution_count": 103,
     "metadata": {},
     "output_type": "execute_result"
    }
   ],
   "source": [
    "non_duplicated_boardings.select('cardNum').distinct().count()"
   ]
  },
  {
   "cell_type": "code",
   "execution_count": 104,
   "metadata": {},
   "outputs": [
    {
     "data": {
      "text/plain": [
       "65960"
      ]
     },
     "execution_count": 104,
     "metadata": {},
     "output_type": "execute_result"
    }
   ],
   "source": [
    "user_boardings.select('cardNum').distinct().count()"
   ]
  },
  {
   "cell_type": "code",
   "execution_count": 129,
   "metadata": {},
   "outputs": [],
   "source": [
    "filtered_boardings = user_boardings.join(non_duplicated_boardings, user_boardings.cardNum == non_duplicated_boardings.cardNum1, 'leftsemi')"
   ]
  },
  {
   "cell_type": "code",
   "execution_count": 131,
   "metadata": {},
   "outputs": [
    {
     "name": "stdout",
     "output_type": "stream",
     "text": [
      "73931\n"
     ]
    },
    {
     "data": {
      "text/html": [
       "<div>\n",
       "<style>\n",
       "    .dataframe thead tr:only-child th {\n",
       "        text-align: right;\n",
       "    }\n",
       "\n",
       "    .dataframe thead th {\n",
       "        text-align: left;\n",
       "    }\n",
       "\n",
       "    .dataframe tbody tr th {\n",
       "        vertical-align: top;\n",
       "    }\n",
       "</style>\n",
       "<table border=\"1\" class=\"dataframe\">\n",
       "  <thead>\n",
       "    <tr style=\"text-align: right;\">\n",
       "      <th></th>\n",
       "      <th>route</th>\n",
       "      <th>busCode</th>\n",
       "      <th>date</th>\n",
       "      <th>sec_group</th>\n",
       "      <th>userBirthdate</th>\n",
       "      <th>cardTimestamp</th>\n",
       "      <th>lineName</th>\n",
       "      <th>cardNum</th>\n",
       "      <th>gender</th>\n",
       "      <th>card_timestamp_in_secs</th>\n",
       "      <th>...</th>\n",
       "      <th>gpsLat</th>\n",
       "      <th>gpsLon</th>\n",
       "      <th>distanceToShapePoint</th>\n",
       "      <th>timestamp</th>\n",
       "      <th>busStopId</th>\n",
       "      <th>problem</th>\n",
       "      <th>numPassengers</th>\n",
       "      <th>gps_timestamp</th>\n",
       "      <th>gps_timestamp_in_secs</th>\n",
       "      <th>gps_date_in_secs</th>\n",
       "    </tr>\n",
       "  </thead>\n",
       "  <tbody>\n",
       "    <tr>\n",
       "      <th>0</th>\n",
       "      <td>643</td>\n",
       "      <td>GA164</td>\n",
       "      <td>2017-05-10</td>\n",
       "      <td>715</td>\n",
       "      <td>27/04/84</td>\n",
       "      <td>10/05/17 11:55:20,000000</td>\n",
       "      <td>UMBARÁ</td>\n",
       "      <td>0000328918</td>\n",
       "      <td>F</td>\n",
       "      <td>1494428120</td>\n",
       "      <td>...</td>\n",
       "      <td>-25.537648</td>\n",
       "      <td>-49.294951</td>\n",
       "      <td>10.533369</td>\n",
       "      <td>11:55:17</td>\n",
       "      <td>32046</td>\n",
       "      <td>NO_PROBLEM</td>\n",
       "      <td>1</td>\n",
       "      <td>2017-05-10 11:55:17</td>\n",
       "      <td>1494428117</td>\n",
       "      <td>1494385200</td>\n",
       "    </tr>\n",
       "    <tr>\n",
       "      <th>1</th>\n",
       "      <td>548</td>\n",
       "      <td>GA205</td>\n",
       "      <td>2017-05-10</td>\n",
       "      <td>380</td>\n",
       "      <td>21/01/82</td>\n",
       "      <td>10/05/17 06:20:30,000000</td>\n",
       "      <td>OSTERN/S.CERCADO</td>\n",
       "      <td>0000353208</td>\n",
       "      <td>F</td>\n",
       "      <td>1494408030</td>\n",
       "      <td>...</td>\n",
       "      <td>-25.563181</td>\n",
       "      <td>-49.253741</td>\n",
       "      <td>7.823349</td>\n",
       "      <td>06:20:23</td>\n",
       "      <td>48762</td>\n",
       "      <td>NO_PROBLEM</td>\n",
       "      <td>9</td>\n",
       "      <td>2017-05-10 06:20:23</td>\n",
       "      <td>1494408023</td>\n",
       "      <td>1494385200</td>\n",
       "    </tr>\n",
       "    <tr>\n",
       "      <th>2</th>\n",
       "      <td>876</td>\n",
       "      <td>BC299</td>\n",
       "      <td>2017-05-10</td>\n",
       "      <td>487</td>\n",
       "      <td>12/12/79</td>\n",
       "      <td>10/05/17 08:07:11,000000</td>\n",
       "      <td>SAVÓIA</td>\n",
       "      <td>0000425429</td>\n",
       "      <td>M</td>\n",
       "      <td>1494414431</td>\n",
       "      <td>...</td>\n",
       "      <td>NaN</td>\n",
       "      <td>NaN</td>\n",
       "      <td>NaN</td>\n",
       "      <td>08:07:36</td>\n",
       "      <td>34223</td>\n",
       "      <td>BETWEEN</td>\n",
       "      <td>0</td>\n",
       "      <td>2017-05-10 08:07:36</td>\n",
       "      <td>1494414456</td>\n",
       "      <td>1494385200</td>\n",
       "    </tr>\n",
       "    <tr>\n",
       "      <th>3</th>\n",
       "      <td>332</td>\n",
       "      <td>DA019</td>\n",
       "      <td>2017-05-10</td>\n",
       "      <td>370</td>\n",
       "      <td>28/02/72</td>\n",
       "      <td>10/05/17 06:10:07,000000</td>\n",
       "      <td>ACRÓPOLE</td>\n",
       "      <td>0000430891</td>\n",
       "      <td>F</td>\n",
       "      <td>1494407407</td>\n",
       "      <td>...</td>\n",
       "      <td>-25.466510</td>\n",
       "      <td>-49.195546</td>\n",
       "      <td>8.007099</td>\n",
       "      <td>06:10:50</td>\n",
       "      <td>32836</td>\n",
       "      <td>NO_PROBLEM</td>\n",
       "      <td>0</td>\n",
       "      <td>2017-05-10 06:10:50</td>\n",
       "      <td>1494407450</td>\n",
       "      <td>1494385200</td>\n",
       "    </tr>\n",
       "    <tr>\n",
       "      <th>4</th>\n",
       "      <td>650</td>\n",
       "      <td>HA287</td>\n",
       "      <td>2017-05-10</td>\n",
       "      <td>430</td>\n",
       "      <td>03/05/74</td>\n",
       "      <td>10/05/17 07:10:25,000000</td>\n",
       "      <td>STA.RITA/PINHEIRINHO</td>\n",
       "      <td>0000456908</td>\n",
       "      <td>F</td>\n",
       "      <td>1494411025</td>\n",
       "      <td>...</td>\n",
       "      <td>-25.566778</td>\n",
       "      <td>-49.332958</td>\n",
       "      <td>4.608405</td>\n",
       "      <td>07:10:14</td>\n",
       "      <td>36294</td>\n",
       "      <td>NO_PROBLEM</td>\n",
       "      <td>3</td>\n",
       "      <td>2017-05-10 07:10:14</td>\n",
       "      <td>1494411014</td>\n",
       "      <td>1494385200</td>\n",
       "    </tr>\n",
       "    <tr>\n",
       "      <th>5</th>\n",
       "      <td>366</td>\n",
       "      <td>BC908</td>\n",
       "      <td>2017-05-10</td>\n",
       "      <td>491</td>\n",
       "      <td>11/06/53</td>\n",
       "      <td>10/05/17 08:11:50,000000</td>\n",
       "      <td>ITUPAV/H.MILITAR</td>\n",
       "      <td>0000537146</td>\n",
       "      <td>F</td>\n",
       "      <td>1494414710</td>\n",
       "      <td>...</td>\n",
       "      <td>-25.430113</td>\n",
       "      <td>-49.267255</td>\n",
       "      <td>29.698534</td>\n",
       "      <td>08:11:12</td>\n",
       "      <td>26376</td>\n",
       "      <td>NO_PROBLEM</td>\n",
       "      <td>3</td>\n",
       "      <td>2017-05-10 08:11:12</td>\n",
       "      <td>1494414672</td>\n",
       "      <td>1494385200</td>\n",
       "    </tr>\n",
       "    <tr>\n",
       "      <th>6</th>\n",
       "      <td>020</td>\n",
       "      <td>JB601</td>\n",
       "      <td>2017-05-10</td>\n",
       "      <td>778</td>\n",
       "      <td>09/11/66</td>\n",
       "      <td>10/05/17 12:58:41,000000</td>\n",
       "      <td>INTERBAIRR II H</td>\n",
       "      <td>0000570345</td>\n",
       "      <td>M</td>\n",
       "      <td>1494431921</td>\n",
       "      <td>...</td>\n",
       "      <td>-25.389128</td>\n",
       "      <td>-49.263821</td>\n",
       "      <td>28.195213</td>\n",
       "      <td>12:58:46</td>\n",
       "      <td>32685</td>\n",
       "      <td>NO_PROBLEM</td>\n",
       "      <td>1</td>\n",
       "      <td>2017-05-10 12:58:46</td>\n",
       "      <td>1494431926</td>\n",
       "      <td>1494385200</td>\n",
       "    </tr>\n",
       "    <tr>\n",
       "      <th>7</th>\n",
       "      <td>535</td>\n",
       "      <td>EA076</td>\n",
       "      <td>2017-05-10</td>\n",
       "      <td>391</td>\n",
       "      <td>26/10/60</td>\n",
       "      <td>10/05/17 06:31:08,000000</td>\n",
       "      <td>OSTERNACK/BOQ.</td>\n",
       "      <td>0000594815</td>\n",
       "      <td>F</td>\n",
       "      <td>1494408668</td>\n",
       "      <td>...</td>\n",
       "      <td>-25.549140</td>\n",
       "      <td>-49.246665</td>\n",
       "      <td>8.406152</td>\n",
       "      <td>06:31:08</td>\n",
       "      <td>36724</td>\n",
       "      <td>NO_PROBLEM</td>\n",
       "      <td>7</td>\n",
       "      <td>2017-05-10 06:31:08</td>\n",
       "      <td>1494408668</td>\n",
       "      <td>1494385200</td>\n",
       "    </tr>\n",
       "    <tr>\n",
       "      <th>8</th>\n",
       "      <td>972</td>\n",
       "      <td>MC491</td>\n",
       "      <td>2017-05-10</td>\n",
       "      <td>484</td>\n",
       "      <td>29/11/41</td>\n",
       "      <td>10/05/17 08:04:55,000000</td>\n",
       "      <td>JD. ITÁLIA</td>\n",
       "      <td>0000607182</td>\n",
       "      <td>M</td>\n",
       "      <td>1494414295</td>\n",
       "      <td>...</td>\n",
       "      <td>-25.423941</td>\n",
       "      <td>-49.290993</td>\n",
       "      <td>9.131085</td>\n",
       "      <td>08:04:05</td>\n",
       "      <td>32797</td>\n",
       "      <td>NO_PROBLEM</td>\n",
       "      <td>1</td>\n",
       "      <td>2017-05-10 08:04:05</td>\n",
       "      <td>1494414245</td>\n",
       "      <td>1494385200</td>\n",
       "    </tr>\n",
       "    <tr>\n",
       "      <th>9</th>\n",
       "      <td>703</td>\n",
       "      <td>JC301</td>\n",
       "      <td>2017-05-10</td>\n",
       "      <td>1032</td>\n",
       "      <td>26/01/56</td>\n",
       "      <td>10/05/17 17:12:00,000000</td>\n",
       "      <td>CAIUÁ</td>\n",
       "      <td>0000743319</td>\n",
       "      <td>F</td>\n",
       "      <td>1494447120</td>\n",
       "      <td>...</td>\n",
       "      <td>-25.450145</td>\n",
       "      <td>-49.290473</td>\n",
       "      <td>26.893307</td>\n",
       "      <td>17:12:32</td>\n",
       "      <td>32110</td>\n",
       "      <td>NO_PROBLEM</td>\n",
       "      <td>2</td>\n",
       "      <td>2017-05-10 17:12:32</td>\n",
       "      <td>1494447152</td>\n",
       "      <td>1494385200</td>\n",
       "    </tr>\n",
       "  </tbody>\n",
       "</table>\n",
       "<p>10 rows × 28 columns</p>\n",
       "</div>"
      ],
      "text/plain": [
       "  route busCode        date  sec_group userBirthdate  \\\n",
       "0   643   GA164  2017-05-10        715      27/04/84   \n",
       "1   548   GA205  2017-05-10        380      21/01/82   \n",
       "2   876   BC299  2017-05-10        487      12/12/79   \n",
       "3   332   DA019  2017-05-10        370      28/02/72   \n",
       "4   650   HA287  2017-05-10        430      03/05/74   \n",
       "5   366   BC908  2017-05-10        491      11/06/53   \n",
       "6   020   JB601  2017-05-10        778      09/11/66   \n",
       "7   535   EA076  2017-05-10        391      26/10/60   \n",
       "8   972   MC491  2017-05-10        484      29/11/41   \n",
       "9   703   JC301  2017-05-10       1032      26/01/56   \n",
       "\n",
       "              cardTimestamp              lineName     cardNum gender  \\\n",
       "0  10/05/17 11:55:20,000000                UMBARÁ  0000328918      F   \n",
       "1  10/05/17 06:20:30,000000      OSTERN/S.CERCADO  0000353208      F   \n",
       "2  10/05/17 08:07:11,000000                SAVÓIA  0000425429      M   \n",
       "3  10/05/17 06:10:07,000000              ACRÓPOLE  0000430891      F   \n",
       "4  10/05/17 07:10:25,000000  STA.RITA/PINHEIRINHO  0000456908      F   \n",
       "5  10/05/17 08:11:50,000000      ITUPAV/H.MILITAR  0000537146      F   \n",
       "6  10/05/17 12:58:41,000000       INTERBAIRR II H  0000570345      M   \n",
       "7  10/05/17 06:31:08,000000        OSTERNACK/BOQ.  0000594815      F   \n",
       "8  10/05/17 08:04:55,000000            JD. ITÁLIA  0000607182      M   \n",
       "9  10/05/17 17:12:00,000000                 CAIUÁ  0000743319      F   \n",
       "\n",
       "   card_timestamp_in_secs        ...            gpsLat     gpsLon  \\\n",
       "0              1494428120        ...        -25.537648 -49.294951   \n",
       "1              1494408030        ...        -25.563181 -49.253741   \n",
       "2              1494414431        ...               NaN        NaN   \n",
       "3              1494407407        ...        -25.466510 -49.195546   \n",
       "4              1494411025        ...        -25.566778 -49.332958   \n",
       "5              1494414710        ...        -25.430113 -49.267255   \n",
       "6              1494431921        ...        -25.389128 -49.263821   \n",
       "7              1494408668        ...        -25.549140 -49.246665   \n",
       "8              1494414295        ...        -25.423941 -49.290993   \n",
       "9              1494447120        ...        -25.450145 -49.290473   \n",
       "\n",
       "   distanceToShapePoint  timestamp  busStopId     problem  numPassengers  \\\n",
       "0             10.533369   11:55:17      32046  NO_PROBLEM              1   \n",
       "1              7.823349   06:20:23      48762  NO_PROBLEM              9   \n",
       "2                   NaN   08:07:36      34223     BETWEEN              0   \n",
       "3              8.007099   06:10:50      32836  NO_PROBLEM              0   \n",
       "4              4.608405   07:10:14      36294  NO_PROBLEM              3   \n",
       "5             29.698534   08:11:12      26376  NO_PROBLEM              3   \n",
       "6             28.195213   12:58:46      32685  NO_PROBLEM              1   \n",
       "7              8.406152   06:31:08      36724  NO_PROBLEM              7   \n",
       "8              9.131085   08:04:05      32797  NO_PROBLEM              1   \n",
       "9             26.893307   17:12:32      32110  NO_PROBLEM              2   \n",
       "\n",
       "         gps_timestamp  gps_timestamp_in_secs  gps_date_in_secs  \n",
       "0  2017-05-10 11:55:17             1494428117        1494385200  \n",
       "1  2017-05-10 06:20:23             1494408023        1494385200  \n",
       "2  2017-05-10 08:07:36             1494414456        1494385200  \n",
       "3  2017-05-10 06:10:50             1494407450        1494385200  \n",
       "4  2017-05-10 07:10:14             1494411014        1494385200  \n",
       "5  2017-05-10 08:11:12             1494414672        1494385200  \n",
       "6  2017-05-10 12:58:46             1494431926        1494385200  \n",
       "7  2017-05-10 06:31:08             1494408668        1494385200  \n",
       "8  2017-05-10 08:04:05             1494414245        1494385200  \n",
       "9  2017-05-10 17:12:32             1494447152        1494385200  \n",
       "\n",
       "[10 rows x 28 columns]"
      ]
     },
     "execution_count": 131,
     "metadata": {},
     "output_type": "execute_result"
    }
   ],
   "source": [
    "print filtered_boardings.count()\n",
    "print_df(filtered_boardings)"
   ]
  },
  {
   "cell_type": "markdown",
   "metadata": {},
   "source": [
    "### Removing single-trip users records"
   ]
  },
  {
   "cell_type": "code",
   "execution_count": 132,
   "metadata": {
    "collapsed": true
   },
   "outputs": [],
   "source": [
    "boarding_count = filtered_boardings.groupby('cardNum').count()"
   ]
  },
  {
   "cell_type": "code",
   "execution_count": 133,
   "metadata": {
    "collapsed": true
   },
   "outputs": [],
   "source": [
    "#Filtering only users with more than one ride per day\n",
    "multiple_boardings = boarding_count.filter(F.col('count') > 1)"
   ]
  },
  {
   "cell_type": "code",
   "execution_count": 134,
   "metadata": {},
   "outputs": [
    {
     "name": "stdout",
     "output_type": "stream",
     "text": [
      "Passengers with Multiple Boardings: 7466 ( 11 %)\n",
      "+----------+-----+\n",
      "|   cardNum|count|\n",
      "+----------+-----+\n",
      "|0001080534|    2|\n",
      "|0001600147|    2|\n",
      "|0002083421|    2|\n",
      "|0002167105|    2|\n",
      "|0002277554|    2|\n",
      "|0002306754|    2|\n",
      "|0002578507|    2|\n",
      "|0002602692|    2|\n",
      "|0002633338|    2|\n",
      "|0002651765|    2|\n",
      "|0002699865|    2|\n",
      "|0002752794|    2|\n",
      "|0002786520|    2|\n",
      "|0002986469|    3|\n",
      "|0003118767|    2|\n",
      "|0003205994|    2|\n",
      "|0003269568|    2|\n",
      "|0003276005|    2|\n",
      "|0003359882|    2|\n",
      "|0003372920|    4|\n",
      "+----------+-----+\n",
      "only showing top 20 rows\n",
      "\n"
     ]
    }
   ],
   "source": [
    "passengers_mult_boardings = multiple_boardings.count()\n",
    "prop_mult_boardings = 100*(passengers_mult_boardings)/total_passengers\n",
    "print \"Passengers with Multiple Boardings:\", passengers_mult_boardings, \"(\", prop_mult_boardings, \"%)\" \n",
    "multiple_boardings.show()"
   ]
  },
  {
   "cell_type": "markdown",
   "metadata": {},
   "source": [
    "### Analyzing Boarding data"
   ]
  },
  {
   "cell_type": "code",
   "execution_count": 135,
   "metadata": {},
   "outputs": [
    {
     "name": "stdout",
     "output_type": "stream",
     "text": [
      "Total #Passengers: 65960\n"
     ]
    }
   ],
   "source": [
    "total_passengers = user_boardings.select('cardNum').distinct().count()\n",
    "print \"Total #Passengers:\", total_passengers"
   ]
  },
  {
   "cell_type": "code",
   "execution_count": 136,
   "metadata": {},
   "outputs": [
    {
     "data": {
      "text/html": [
       "<div>\n",
       "<style>\n",
       "    .dataframe thead tr:only-child th {\n",
       "        text-align: right;\n",
       "    }\n",
       "\n",
       "    .dataframe thead th {\n",
       "        text-align: left;\n",
       "    }\n",
       "\n",
       "    .dataframe tbody tr th {\n",
       "        vertical-align: top;\n",
       "    }\n",
       "</style>\n",
       "<table border=\"1\" class=\"dataframe\">\n",
       "  <thead>\n",
       "    <tr style=\"text-align: right;\">\n",
       "      <th></th>\n",
       "      <th>route</th>\n",
       "      <th>busCode</th>\n",
       "      <th>userBirthdate</th>\n",
       "      <th>cardTimestamp</th>\n",
       "      <th>lineName</th>\n",
       "      <th>cardNum</th>\n",
       "      <th>gender</th>\n",
       "      <th>card_timestamp_in_secs</th>\n",
       "      <th>date</th>\n",
       "      <th>card_date_in_secs</th>\n",
       "      <th>sec_group</th>\n",
       "    </tr>\n",
       "  </thead>\n",
       "  <tbody>\n",
       "    <tr>\n",
       "      <th>0</th>\n",
       "      <td>625</td>\n",
       "      <td>GA165</td>\n",
       "      <td>01/08/77</td>\n",
       "      <td>10/05/17 07:40:11,000000</td>\n",
       "      <td>GRAMADOS</td>\n",
       "      <td>0001080534</td>\n",
       "      <td>F</td>\n",
       "      <td>1494412811</td>\n",
       "      <td>2017-05-10</td>\n",
       "      <td>1494385200</td>\n",
       "      <td>460</td>\n",
       "    </tr>\n",
       "    <tr>\n",
       "      <th>1</th>\n",
       "      <td>021</td>\n",
       "      <td>DR102</td>\n",
       "      <td>01/08/77</td>\n",
       "      <td>10/05/17 08:27:29,000000</td>\n",
       "      <td>INTERB II ANTI H</td>\n",
       "      <td>0001080534</td>\n",
       "      <td>F</td>\n",
       "      <td>1494415649</td>\n",
       "      <td>2017-05-10</td>\n",
       "      <td>1494385200</td>\n",
       "      <td>507</td>\n",
       "    </tr>\n",
       "  </tbody>\n",
       "</table>\n",
       "</div>"
      ],
      "text/plain": [
       "  route busCode userBirthdate             cardTimestamp          lineName  \\\n",
       "0   625   GA165      01/08/77  10/05/17 07:40:11,000000          GRAMADOS   \n",
       "1   021   DR102      01/08/77  10/05/17 08:27:29,000000  INTERB II ANTI H   \n",
       "\n",
       "      cardNum gender  card_timestamp_in_secs        date  card_date_in_secs  \\\n",
       "0  0001080534      F              1494412811  2017-05-10         1494385200   \n",
       "1  0001080534      F              1494415649  2017-05-10         1494385200   \n",
       "\n",
       "   sec_group  \n",
       "0        460  \n",
       "1        507  "
      ]
     },
     "execution_count": 136,
     "metadata": {},
     "output_type": "execute_result"
    }
   ],
   "source": [
    "ticketing_data.filter(F.col('cardNum') == '0001080534').toPandas()"
   ]
  },
  {
   "cell_type": "code",
   "execution_count": 49,
   "metadata": {},
   "outputs": [
    {
     "data": {
      "text/plain": [
       "73875"
      ]
     },
     "execution_count": 49,
     "metadata": {},
     "output_type": "execute_result"
    }
   ],
   "source": [
    "clean_boardings.count()"
   ]
  },
  {
   "cell_type": "code",
   "execution_count": 50,
   "metadata": {},
   "outputs": [
    {
     "data": {
      "text/plain": [
       "65833"
      ]
     },
     "execution_count": 50,
     "metadata": {},
     "output_type": "execute_result"
    }
   ],
   "source": [
    "clean_boardings.select('cardNum').distinct().count()"
   ]
  },
  {
   "cell_type": "code",
   "execution_count": 137,
   "metadata": {
    "scrolled": true
   },
   "outputs": [
    {
     "data": {
      "text/html": [
       "<div>\n",
       "<style>\n",
       "    .dataframe thead tr:only-child th {\n",
       "        text-align: right;\n",
       "    }\n",
       "\n",
       "    .dataframe thead th {\n",
       "        text-align: left;\n",
       "    }\n",
       "\n",
       "    .dataframe tbody tr th {\n",
       "        vertical-align: top;\n",
       "    }\n",
       "</style>\n",
       "<table border=\"1\" class=\"dataframe\">\n",
       "  <thead>\n",
       "    <tr style=\"text-align: right;\">\n",
       "      <th></th>\n",
       "      <th>route</th>\n",
       "      <th>busCode</th>\n",
       "      <th>date</th>\n",
       "      <th>sec_group</th>\n",
       "      <th>userBirthdate</th>\n",
       "      <th>cardTimestamp</th>\n",
       "      <th>lineName</th>\n",
       "      <th>cardNum</th>\n",
       "      <th>gender</th>\n",
       "      <th>card_timestamp_in_secs</th>\n",
       "      <th>...</th>\n",
       "      <th>gpsLat</th>\n",
       "      <th>gpsLon</th>\n",
       "      <th>distanceToShapePoint</th>\n",
       "      <th>timestamp</th>\n",
       "      <th>busStopId</th>\n",
       "      <th>problem</th>\n",
       "      <th>numPassengers</th>\n",
       "      <th>gps_timestamp</th>\n",
       "      <th>gps_timestamp_in_secs</th>\n",
       "      <th>gps_date_in_secs</th>\n",
       "    </tr>\n",
       "  </thead>\n",
       "  <tbody>\n",
       "    <tr>\n",
       "      <th>0</th>\n",
       "      <td>182</td>\n",
       "      <td>BC310</td>\n",
       "      <td>2017-05-10</td>\n",
       "      <td>774</td>\n",
       "      <td>18/05/73</td>\n",
       "      <td>10/05/17 12:54:19,000000</td>\n",
       "      <td>ABRANCHES</td>\n",
       "      <td>0002986469</td>\n",
       "      <td>M</td>\n",
       "      <td>1494431659</td>\n",
       "      <td>...</td>\n",
       "      <td>NaN</td>\n",
       "      <td>NaN</td>\n",
       "      <td>NaN</td>\n",
       "      <td>12:54:05</td>\n",
       "      <td>30800</td>\n",
       "      <td>BETWEEN</td>\n",
       "      <td>2</td>\n",
       "      <td>2017-05-10 12:54:05</td>\n",
       "      <td>1494431645</td>\n",
       "      <td>1494385200</td>\n",
       "    </tr>\n",
       "    <tr>\n",
       "      <th>1</th>\n",
       "      <td>243</td>\n",
       "      <td>BA299</td>\n",
       "      <td>2017-05-10</td>\n",
       "      <td>431</td>\n",
       "      <td>18/05/73</td>\n",
       "      <td>10/05/17 07:11:45,000000</td>\n",
       "      <td>STA. TEREZINHA</td>\n",
       "      <td>0002986469</td>\n",
       "      <td>M</td>\n",
       "      <td>1494411105</td>\n",
       "      <td>...</td>\n",
       "      <td>-25.350926</td>\n",
       "      <td>-49.268750</td>\n",
       "      <td>45.491960</td>\n",
       "      <td>07:11:14</td>\n",
       "      <td>34522</td>\n",
       "      <td>NO_PROBLEM</td>\n",
       "      <td>1</td>\n",
       "      <td>2017-05-10 07:11:14</td>\n",
       "      <td>1494411074</td>\n",
       "      <td>1494385200</td>\n",
       "    </tr>\n",
       "    <tr>\n",
       "      <th>2</th>\n",
       "      <td>243</td>\n",
       "      <td>BA299</td>\n",
       "      <td>2017-05-10</td>\n",
       "      <td>810</td>\n",
       "      <td>18/05/73</td>\n",
       "      <td>10/05/17 13:30:54,000000</td>\n",
       "      <td>STA. TEREZINHA</td>\n",
       "      <td>0002986469</td>\n",
       "      <td>M</td>\n",
       "      <td>1494433854</td>\n",
       "      <td>...</td>\n",
       "      <td>-25.350905</td>\n",
       "      <td>-49.268806</td>\n",
       "      <td>39.894855</td>\n",
       "      <td>13:30:24</td>\n",
       "      <td>34522</td>\n",
       "      <td>NO_PROBLEM</td>\n",
       "      <td>0</td>\n",
       "      <td>2017-05-10 13:30:24</td>\n",
       "      <td>1494433824</td>\n",
       "      <td>1494385200</td>\n",
       "    </tr>\n",
       "  </tbody>\n",
       "</table>\n",
       "<p>3 rows × 28 columns</p>\n",
       "</div>"
      ],
      "text/plain": [
       "  route busCode        date  sec_group userBirthdate  \\\n",
       "0   182   BC310  2017-05-10        774      18/05/73   \n",
       "1   243   BA299  2017-05-10        431      18/05/73   \n",
       "2   243   BA299  2017-05-10        810      18/05/73   \n",
       "\n",
       "              cardTimestamp        lineName     cardNum gender  \\\n",
       "0  10/05/17 12:54:19,000000       ABRANCHES  0002986469      M   \n",
       "1  10/05/17 07:11:45,000000  STA. TEREZINHA  0002986469      M   \n",
       "2  10/05/17 13:30:54,000000  STA. TEREZINHA  0002986469      M   \n",
       "\n",
       "   card_timestamp_in_secs        ...            gpsLat     gpsLon  \\\n",
       "0              1494431659        ...               NaN        NaN   \n",
       "1              1494411105        ...        -25.350926 -49.268750   \n",
       "2              1494433854        ...        -25.350905 -49.268806   \n",
       "\n",
       "   distanceToShapePoint  timestamp  busStopId     problem  numPassengers  \\\n",
       "0                   NaN   12:54:05      30800     BETWEEN              2   \n",
       "1             45.491960   07:11:14      34522  NO_PROBLEM              1   \n",
       "2             39.894855   13:30:24      34522  NO_PROBLEM              0   \n",
       "\n",
       "         gps_timestamp  gps_timestamp_in_secs  gps_date_in_secs  \n",
       "0  2017-05-10 12:54:05             1494431645        1494385200  \n",
       "1  2017-05-10 07:11:14             1494411074        1494385200  \n",
       "2  2017-05-10 13:30:24             1494433824        1494385200  \n",
       "\n",
       "[3 rows x 28 columns]"
      ]
     },
     "execution_count": 137,
     "metadata": {},
     "output_type": "execute_result"
    }
   ],
   "source": [
    "#Taking a look at a sample:\n",
    "user_boardings.filter(F.col('cardNum') == '0002986469').limit(20).toPandas()"
   ]
  },
  {
   "cell_type": "code",
   "execution_count": 138,
   "metadata": {
    "scrolled": true
   },
   "outputs": [
    {
     "data": {
      "text/html": [
       "<div>\n",
       "<style>\n",
       "    .dataframe thead tr:only-child th {\n",
       "        text-align: right;\n",
       "    }\n",
       "\n",
       "    .dataframe thead th {\n",
       "        text-align: left;\n",
       "    }\n",
       "\n",
       "    .dataframe tbody tr th {\n",
       "        vertical-align: top;\n",
       "    }\n",
       "</style>\n",
       "<table border=\"1\" class=\"dataframe\">\n",
       "  <thead>\n",
       "    <tr style=\"text-align: right;\">\n",
       "      <th></th>\n",
       "      <th>route</th>\n",
       "      <th>busCode</th>\n",
       "      <th>date</th>\n",
       "      <th>sec_group</th>\n",
       "      <th>userBirthdate</th>\n",
       "      <th>cardTimestamp</th>\n",
       "      <th>lineName</th>\n",
       "      <th>cardNum</th>\n",
       "      <th>gender</th>\n",
       "      <th>card_timestamp_in_secs</th>\n",
       "      <th>...</th>\n",
       "      <th>gpsLat</th>\n",
       "      <th>gpsLon</th>\n",
       "      <th>distanceToShapePoint</th>\n",
       "      <th>timestamp</th>\n",
       "      <th>busStopId</th>\n",
       "      <th>problem</th>\n",
       "      <th>numPassengers</th>\n",
       "      <th>gps_timestamp</th>\n",
       "      <th>gps_timestamp_in_secs</th>\n",
       "      <th>gps_date_in_secs</th>\n",
       "    </tr>\n",
       "  </thead>\n",
       "  <tbody>\n",
       "    <tr>\n",
       "      <th>0</th>\n",
       "      <td>777</td>\n",
       "      <td>JC006</td>\n",
       "      <td>2017-05-10</td>\n",
       "      <td>1049</td>\n",
       "      <td>28/02/70</td>\n",
       "      <td>10/05/17 17:29:47,000000</td>\n",
       "      <td>V. VELHA</td>\n",
       "      <td>0003372920</td>\n",
       "      <td>F</td>\n",
       "      <td>1494448187</td>\n",
       "      <td>...</td>\n",
       "      <td>-25.459850</td>\n",
       "      <td>-49.319845</td>\n",
       "      <td>2.983394</td>\n",
       "      <td>17:29:08</td>\n",
       "      <td>33567</td>\n",
       "      <td>NO_PROBLEM</td>\n",
       "      <td>1</td>\n",
       "      <td>2017-05-10 17:29:08</td>\n",
       "      <td>1494448148</td>\n",
       "      <td>1494385200</td>\n",
       "    </tr>\n",
       "    <tr>\n",
       "      <th>1</th>\n",
       "      <td>703</td>\n",
       "      <td>JC314</td>\n",
       "      <td>2017-05-10</td>\n",
       "      <td>733</td>\n",
       "      <td>28/02/70</td>\n",
       "      <td>10/05/17 12:13:31,000000</td>\n",
       "      <td>CAIUÁ</td>\n",
       "      <td>0003372920</td>\n",
       "      <td>F</td>\n",
       "      <td>1494429211</td>\n",
       "      <td>...</td>\n",
       "      <td>-25.451515</td>\n",
       "      <td>-49.294311</td>\n",
       "      <td>15.038858</td>\n",
       "      <td>12:13:42</td>\n",
       "      <td>32829</td>\n",
       "      <td>NO_PROBLEM</td>\n",
       "      <td>0</td>\n",
       "      <td>2017-05-10 12:13:42</td>\n",
       "      <td>1494429222</td>\n",
       "      <td>1494385200</td>\n",
       "    </tr>\n",
       "    <tr>\n",
       "      <th>2</th>\n",
       "      <td>777</td>\n",
       "      <td>JC008</td>\n",
       "      <td>2017-05-10</td>\n",
       "      <td>1257</td>\n",
       "      <td>28/02/70</td>\n",
       "      <td>10/05/17 20:57:15,000000</td>\n",
       "      <td>V. VELHA</td>\n",
       "      <td>0003372920</td>\n",
       "      <td>F</td>\n",
       "      <td>1494460635</td>\n",
       "      <td>...</td>\n",
       "      <td>NaN</td>\n",
       "      <td>NaN</td>\n",
       "      <td>NaN</td>\n",
       "      <td>20:57:33</td>\n",
       "      <td>32829</td>\n",
       "      <td>BETWEEN</td>\n",
       "      <td>0</td>\n",
       "      <td>2017-05-10 20:57:33</td>\n",
       "      <td>1494460653</td>\n",
       "      <td>1494385200</td>\n",
       "    </tr>\n",
       "    <tr>\n",
       "      <th>3</th>\n",
       "      <td>776</td>\n",
       "      <td>JC002</td>\n",
       "      <td>2017-05-10</td>\n",
       "      <td>384</td>\n",
       "      <td>28/02/70</td>\n",
       "      <td>10/05/17 06:24:52,000000</td>\n",
       "      <td>CARMELA DUTRA</td>\n",
       "      <td>0003372920</td>\n",
       "      <td>F</td>\n",
       "      <td>1494408292</td>\n",
       "      <td>...</td>\n",
       "      <td>NaN</td>\n",
       "      <td>NaN</td>\n",
       "      <td>NaN</td>\n",
       "      <td>06:24:38</td>\n",
       "      <td>33567</td>\n",
       "      <td>BETWEEN</td>\n",
       "      <td>1</td>\n",
       "      <td>2017-05-10 06:24:38</td>\n",
       "      <td>1494408278</td>\n",
       "      <td>1494385200</td>\n",
       "    </tr>\n",
       "  </tbody>\n",
       "</table>\n",
       "<p>4 rows × 28 columns</p>\n",
       "</div>"
      ],
      "text/plain": [
       "  route busCode        date  sec_group userBirthdate  \\\n",
       "0   777   JC006  2017-05-10       1049      28/02/70   \n",
       "1   703   JC314  2017-05-10        733      28/02/70   \n",
       "2   777   JC008  2017-05-10       1257      28/02/70   \n",
       "3   776   JC002  2017-05-10        384      28/02/70   \n",
       "\n",
       "              cardTimestamp       lineName     cardNum gender  \\\n",
       "0  10/05/17 17:29:47,000000       V. VELHA  0003372920      F   \n",
       "1  10/05/17 12:13:31,000000          CAIUÁ  0003372920      F   \n",
       "2  10/05/17 20:57:15,000000       V. VELHA  0003372920      F   \n",
       "3  10/05/17 06:24:52,000000  CARMELA DUTRA  0003372920      F   \n",
       "\n",
       "   card_timestamp_in_secs        ...            gpsLat     gpsLon  \\\n",
       "0              1494448187        ...        -25.459850 -49.319845   \n",
       "1              1494429211        ...        -25.451515 -49.294311   \n",
       "2              1494460635        ...               NaN        NaN   \n",
       "3              1494408292        ...               NaN        NaN   \n",
       "\n",
       "   distanceToShapePoint  timestamp  busStopId     problem  numPassengers  \\\n",
       "0              2.983394   17:29:08      33567  NO_PROBLEM              1   \n",
       "1             15.038858   12:13:42      32829  NO_PROBLEM              0   \n",
       "2                   NaN   20:57:33      32829     BETWEEN              0   \n",
       "3                   NaN   06:24:38      33567     BETWEEN              1   \n",
       "\n",
       "         gps_timestamp  gps_timestamp_in_secs  gps_date_in_secs  \n",
       "0  2017-05-10 17:29:08             1494448148        1494385200  \n",
       "1  2017-05-10 12:13:42             1494429222        1494385200  \n",
       "2  2017-05-10 20:57:33             1494460653        1494385200  \n",
       "3  2017-05-10 06:24:38             1494408278        1494385200  \n",
       "\n",
       "[4 rows x 28 columns]"
      ]
     },
     "execution_count": 138,
     "metadata": {},
     "output_type": "execute_result"
    }
   ],
   "source": [
    "#Taking a look at a sample:\n",
    "user_boardings.filter(F.col('cardNum') == '0003372920').limit(20).toPandas()"
   ]
  },
  {
   "cell_type": "code",
   "execution_count": 40,
   "metadata": {
    "scrolled": true
   },
   "outputs": [
    {
     "data": {
      "text/html": [
       "<div>\n",
       "<style>\n",
       "    .dataframe thead tr:only-child th {\n",
       "        text-align: right;\n",
       "    }\n",
       "\n",
       "    .dataframe thead th {\n",
       "        text-align: left;\n",
       "    }\n",
       "\n",
       "    .dataframe tbody tr th {\n",
       "        vertical-align: top;\n",
       "    }\n",
       "</style>\n",
       "<table border=\"1\" class=\"dataframe\">\n",
       "  <thead>\n",
       "    <tr style=\"text-align: right;\">\n",
       "      <th></th>\n",
       "      <th>route</th>\n",
       "      <th>busCode</th>\n",
       "      <th>date</th>\n",
       "      <th>sec_group</th>\n",
       "      <th>userBirthdate</th>\n",
       "      <th>cardTimestamp</th>\n",
       "      <th>lineName</th>\n",
       "      <th>cardNum</th>\n",
       "      <th>gender</th>\n",
       "      <th>card_timestamp_in_secs</th>\n",
       "      <th>...</th>\n",
       "      <th>gpsLat</th>\n",
       "      <th>gpsLon</th>\n",
       "      <th>distanceToShapePoint</th>\n",
       "      <th>timestamp</th>\n",
       "      <th>busStopId</th>\n",
       "      <th>problem</th>\n",
       "      <th>numPassengers</th>\n",
       "      <th>gps_timestamp</th>\n",
       "      <th>gps_timestamp_in_secs</th>\n",
       "      <th>gps_date_in_secs</th>\n",
       "    </tr>\n",
       "  </thead>\n",
       "  <tbody>\n",
       "    <tr>\n",
       "      <th>0</th>\n",
       "      <td>182</td>\n",
       "      <td>BC310</td>\n",
       "      <td>2017-05-10</td>\n",
       "      <td>774</td>\n",
       "      <td>18/05/73</td>\n",
       "      <td>10/05/17 12:54:19,000000</td>\n",
       "      <td>ABRANCHES</td>\n",
       "      <td>0002986469</td>\n",
       "      <td>M</td>\n",
       "      <td>1494431659</td>\n",
       "      <td>...</td>\n",
       "      <td>NaN</td>\n",
       "      <td>NaN</td>\n",
       "      <td>NaN</td>\n",
       "      <td>12:54:05</td>\n",
       "      <td>30800</td>\n",
       "      <td>BETWEEN</td>\n",
       "      <td>2</td>\n",
       "      <td>2017-05-10 12:54:05</td>\n",
       "      <td>1494431645</td>\n",
       "      <td>1494385200</td>\n",
       "    </tr>\n",
       "    <tr>\n",
       "      <th>1</th>\n",
       "      <td>243</td>\n",
       "      <td>BA299</td>\n",
       "      <td>2017-05-10</td>\n",
       "      <td>431</td>\n",
       "      <td>18/05/73</td>\n",
       "      <td>10/05/17 07:11:45,000000</td>\n",
       "      <td>STA. TEREZINHA</td>\n",
       "      <td>0002986469</td>\n",
       "      <td>M</td>\n",
       "      <td>1494411105</td>\n",
       "      <td>...</td>\n",
       "      <td>-25.350926</td>\n",
       "      <td>-49.268750</td>\n",
       "      <td>45.491960</td>\n",
       "      <td>07:11:14</td>\n",
       "      <td>34522</td>\n",
       "      <td>NO_PROBLEM</td>\n",
       "      <td>1</td>\n",
       "      <td>2017-05-10 07:11:14</td>\n",
       "      <td>1494411074</td>\n",
       "      <td>1494385200</td>\n",
       "    </tr>\n",
       "    <tr>\n",
       "      <th>2</th>\n",
       "      <td>243</td>\n",
       "      <td>BA299</td>\n",
       "      <td>2017-05-10</td>\n",
       "      <td>810</td>\n",
       "      <td>18/05/73</td>\n",
       "      <td>10/05/17 13:30:54,000000</td>\n",
       "      <td>STA. TEREZINHA</td>\n",
       "      <td>0002986469</td>\n",
       "      <td>M</td>\n",
       "      <td>1494433854</td>\n",
       "      <td>...</td>\n",
       "      <td>-25.350905</td>\n",
       "      <td>-49.268806</td>\n",
       "      <td>39.894855</td>\n",
       "      <td>13:30:24</td>\n",
       "      <td>34522</td>\n",
       "      <td>NO_PROBLEM</td>\n",
       "      <td>0</td>\n",
       "      <td>2017-05-10 13:30:24</td>\n",
       "      <td>1494433824</td>\n",
       "      <td>1494385200</td>\n",
       "    </tr>\n",
       "  </tbody>\n",
       "</table>\n",
       "<p>3 rows × 28 columns</p>\n",
       "</div>"
      ],
      "text/plain": [
       "  route busCode        date  sec_group userBirthdate  \\\n",
       "0   182   BC310  2017-05-10        774      18/05/73   \n",
       "1   243   BA299  2017-05-10        431      18/05/73   \n",
       "2   243   BA299  2017-05-10        810      18/05/73   \n",
       "\n",
       "              cardTimestamp        lineName     cardNum gender  \\\n",
       "0  10/05/17 12:54:19,000000       ABRANCHES  0002986469      M   \n",
       "1  10/05/17 07:11:45,000000  STA. TEREZINHA  0002986469      M   \n",
       "2  10/05/17 13:30:54,000000  STA. TEREZINHA  0002986469      M   \n",
       "\n",
       "   card_timestamp_in_secs        ...            gpsLat     gpsLon  \\\n",
       "0              1494431659        ...               NaN        NaN   \n",
       "1              1494411105        ...        -25.350926 -49.268750   \n",
       "2              1494433854        ...        -25.350905 -49.268806   \n",
       "\n",
       "   distanceToShapePoint  timestamp  busStopId     problem  numPassengers  \\\n",
       "0                   NaN   12:54:05      30800     BETWEEN              2   \n",
       "1             45.491960   07:11:14      34522  NO_PROBLEM              1   \n",
       "2             39.894855   13:30:24      34522  NO_PROBLEM              0   \n",
       "\n",
       "         gps_timestamp  gps_timestamp_in_secs  gps_date_in_secs  \n",
       "0  2017-05-10 12:54:05             1494431645        1494385200  \n",
       "1  2017-05-10 07:11:14             1494411074        1494385200  \n",
       "2  2017-05-10 13:30:24             1494433824        1494385200  \n",
       "\n",
       "[3 rows x 28 columns]"
      ]
     },
     "execution_count": 40,
     "metadata": {},
     "output_type": "execute_result"
    }
   ],
   "source": [
    "#Taking a look at a sample:\n",
    "user_boardings.filter(F.col('cardNum') == '0002986469').limit(20).toPandas()"
   ]
  },
  {
   "cell_type": "code",
   "execution_count": 41,
   "metadata": {
    "scrolled": true
   },
   "outputs": [
    {
     "data": {
      "text/html": [
       "<div>\n",
       "<style>\n",
       "    .dataframe thead tr:only-child th {\n",
       "        text-align: right;\n",
       "    }\n",
       "\n",
       "    .dataframe thead th {\n",
       "        text-align: left;\n",
       "    }\n",
       "\n",
       "    .dataframe tbody tr th {\n",
       "        vertical-align: top;\n",
       "    }\n",
       "</style>\n",
       "<table border=\"1\" class=\"dataframe\">\n",
       "  <thead>\n",
       "    <tr style=\"text-align: right;\">\n",
       "      <th></th>\n",
       "      <th>route</th>\n",
       "      <th>busCode</th>\n",
       "      <th>date</th>\n",
       "      <th>sec_group</th>\n",
       "      <th>userBirthdate</th>\n",
       "      <th>cardTimestamp</th>\n",
       "      <th>lineName</th>\n",
       "      <th>cardNum</th>\n",
       "      <th>gender</th>\n",
       "      <th>card_timestamp_in_secs</th>\n",
       "      <th>...</th>\n",
       "      <th>gpsLat</th>\n",
       "      <th>gpsLon</th>\n",
       "      <th>distanceToShapePoint</th>\n",
       "      <th>timestamp</th>\n",
       "      <th>busStopId</th>\n",
       "      <th>problem</th>\n",
       "      <th>numPassengers</th>\n",
       "      <th>gps_timestamp</th>\n",
       "      <th>gps_timestamp_in_secs</th>\n",
       "      <th>gps_date_in_secs</th>\n",
       "    </tr>\n",
       "  </thead>\n",
       "  <tbody>\n",
       "    <tr>\n",
       "      <th>0</th>\n",
       "      <td>777</td>\n",
       "      <td>JC006</td>\n",
       "      <td>2017-05-10</td>\n",
       "      <td>1049</td>\n",
       "      <td>28/02/70</td>\n",
       "      <td>10/05/17 17:29:47,000000</td>\n",
       "      <td>V. VELHA</td>\n",
       "      <td>0003372920</td>\n",
       "      <td>F</td>\n",
       "      <td>1494448187</td>\n",
       "      <td>...</td>\n",
       "      <td>-25.459850</td>\n",
       "      <td>-49.319845</td>\n",
       "      <td>2.983394</td>\n",
       "      <td>17:29:08</td>\n",
       "      <td>33567</td>\n",
       "      <td>NO_PROBLEM</td>\n",
       "      <td>1</td>\n",
       "      <td>2017-05-10 17:29:08</td>\n",
       "      <td>1494448148</td>\n",
       "      <td>1494385200</td>\n",
       "    </tr>\n",
       "    <tr>\n",
       "      <th>1</th>\n",
       "      <td>703</td>\n",
       "      <td>JC314</td>\n",
       "      <td>2017-05-10</td>\n",
       "      <td>733</td>\n",
       "      <td>28/02/70</td>\n",
       "      <td>10/05/17 12:13:31,000000</td>\n",
       "      <td>CAIUÁ</td>\n",
       "      <td>0003372920</td>\n",
       "      <td>F</td>\n",
       "      <td>1494429211</td>\n",
       "      <td>...</td>\n",
       "      <td>-25.451515</td>\n",
       "      <td>-49.294311</td>\n",
       "      <td>15.038858</td>\n",
       "      <td>12:13:42</td>\n",
       "      <td>32829</td>\n",
       "      <td>NO_PROBLEM</td>\n",
       "      <td>0</td>\n",
       "      <td>2017-05-10 12:13:42</td>\n",
       "      <td>1494429222</td>\n",
       "      <td>1494385200</td>\n",
       "    </tr>\n",
       "    <tr>\n",
       "      <th>2</th>\n",
       "      <td>777</td>\n",
       "      <td>JC008</td>\n",
       "      <td>2017-05-10</td>\n",
       "      <td>1257</td>\n",
       "      <td>28/02/70</td>\n",
       "      <td>10/05/17 20:57:15,000000</td>\n",
       "      <td>V. VELHA</td>\n",
       "      <td>0003372920</td>\n",
       "      <td>F</td>\n",
       "      <td>1494460635</td>\n",
       "      <td>...</td>\n",
       "      <td>NaN</td>\n",
       "      <td>NaN</td>\n",
       "      <td>NaN</td>\n",
       "      <td>20:57:33</td>\n",
       "      <td>32829</td>\n",
       "      <td>BETWEEN</td>\n",
       "      <td>0</td>\n",
       "      <td>2017-05-10 20:57:33</td>\n",
       "      <td>1494460653</td>\n",
       "      <td>1494385200</td>\n",
       "    </tr>\n",
       "    <tr>\n",
       "      <th>3</th>\n",
       "      <td>776</td>\n",
       "      <td>JC002</td>\n",
       "      <td>2017-05-10</td>\n",
       "      <td>384</td>\n",
       "      <td>28/02/70</td>\n",
       "      <td>10/05/17 06:24:52,000000</td>\n",
       "      <td>CARMELA DUTRA</td>\n",
       "      <td>0003372920</td>\n",
       "      <td>F</td>\n",
       "      <td>1494408292</td>\n",
       "      <td>...</td>\n",
       "      <td>NaN</td>\n",
       "      <td>NaN</td>\n",
       "      <td>NaN</td>\n",
       "      <td>06:24:38</td>\n",
       "      <td>33567</td>\n",
       "      <td>BETWEEN</td>\n",
       "      <td>1</td>\n",
       "      <td>2017-05-10 06:24:38</td>\n",
       "      <td>1494408278</td>\n",
       "      <td>1494385200</td>\n",
       "    </tr>\n",
       "  </tbody>\n",
       "</table>\n",
       "<p>4 rows × 28 columns</p>\n",
       "</div>"
      ],
      "text/plain": [
       "  route busCode        date  sec_group userBirthdate  \\\n",
       "0   777   JC006  2017-05-10       1049      28/02/70   \n",
       "1   703   JC314  2017-05-10        733      28/02/70   \n",
       "2   777   JC008  2017-05-10       1257      28/02/70   \n",
       "3   776   JC002  2017-05-10        384      28/02/70   \n",
       "\n",
       "              cardTimestamp       lineName     cardNum gender  \\\n",
       "0  10/05/17 17:29:47,000000       V. VELHA  0003372920      F   \n",
       "1  10/05/17 12:13:31,000000          CAIUÁ  0003372920      F   \n",
       "2  10/05/17 20:57:15,000000       V. VELHA  0003372920      F   \n",
       "3  10/05/17 06:24:52,000000  CARMELA DUTRA  0003372920      F   \n",
       "\n",
       "   card_timestamp_in_secs        ...            gpsLat     gpsLon  \\\n",
       "0              1494448187        ...        -25.459850 -49.319845   \n",
       "1              1494429211        ...        -25.451515 -49.294311   \n",
       "2              1494460635        ...               NaN        NaN   \n",
       "3              1494408292        ...               NaN        NaN   \n",
       "\n",
       "   distanceToShapePoint  timestamp  busStopId     problem  numPassengers  \\\n",
       "0              2.983394   17:29:08      33567  NO_PROBLEM              1   \n",
       "1             15.038858   12:13:42      32829  NO_PROBLEM              0   \n",
       "2                   NaN   20:57:33      32829     BETWEEN              0   \n",
       "3                   NaN   06:24:38      33567     BETWEEN              1   \n",
       "\n",
       "         gps_timestamp  gps_timestamp_in_secs  gps_date_in_secs  \n",
       "0  2017-05-10 17:29:08             1494448148        1494385200  \n",
       "1  2017-05-10 12:13:42             1494429222        1494385200  \n",
       "2  2017-05-10 20:57:33             1494460653        1494385200  \n",
       "3  2017-05-10 06:24:38             1494408278        1494385200  \n",
       "\n",
       "[4 rows x 28 columns]"
      ]
     },
     "execution_count": 41,
     "metadata": {},
     "output_type": "execute_result"
    }
   ],
   "source": [
    "#Taking a look at a sample:\n",
    "user_boardings.filter(F.col('cardNum') == '0003372920').limit(20).toPandas()"
   ]
  },
  {
   "cell_type": "code",
   "execution_count": 42,
   "metadata": {},
   "outputs": [
    {
     "name": "stdout",
     "output_type": "stream",
     "text": [
      "156\n"
     ]
    },
    {
     "data": {
      "text/html": [
       "<div>\n",
       "<style>\n",
       "    .dataframe thead tr:only-child th {\n",
       "        text-align: right;\n",
       "    }\n",
       "\n",
       "    .dataframe thead th {\n",
       "        text-align: left;\n",
       "    }\n",
       "\n",
       "    .dataframe tbody tr th {\n",
       "        vertical-align: top;\n",
       "    }\n",
       "</style>\n",
       "<table border=\"1\" class=\"dataframe\">\n",
       "  <thead>\n",
       "    <tr style=\"text-align: right;\">\n",
       "      <th></th>\n",
       "      <th>cardNum</th>\n",
       "      <th>date</th>\n",
       "      <th>sec_group</th>\n",
       "      <th>count</th>\n",
       "    </tr>\n",
       "  </thead>\n",
       "  <tbody>\n",
       "    <tr>\n",
       "      <th>0</th>\n",
       "      <td>0001884144</td>\n",
       "      <td>2017-05-10</td>\n",
       "      <td>496</td>\n",
       "      <td>2</td>\n",
       "    </tr>\n",
       "    <tr>\n",
       "      <th>1</th>\n",
       "      <td>0003826824</td>\n",
       "      <td>2017-05-10</td>\n",
       "      <td>1076</td>\n",
       "      <td>2</td>\n",
       "    </tr>\n",
       "    <tr>\n",
       "      <th>2</th>\n",
       "      <td>0001194455</td>\n",
       "      <td>2017-05-10</td>\n",
       "      <td>500</td>\n",
       "      <td>2</td>\n",
       "    </tr>\n",
       "    <tr>\n",
       "      <th>3</th>\n",
       "      <td>0003534417</td>\n",
       "      <td>2017-05-10</td>\n",
       "      <td>637</td>\n",
       "      <td>2</td>\n",
       "    </tr>\n",
       "    <tr>\n",
       "      <th>4</th>\n",
       "      <td>0003824163</td>\n",
       "      <td>2017-05-10</td>\n",
       "      <td>484</td>\n",
       "      <td>2</td>\n",
       "    </tr>\n",
       "    <tr>\n",
       "      <th>5</th>\n",
       "      <td>0003547094</td>\n",
       "      <td>2017-05-10</td>\n",
       "      <td>803</td>\n",
       "      <td>2</td>\n",
       "    </tr>\n",
       "    <tr>\n",
       "      <th>6</th>\n",
       "      <td>0001735152</td>\n",
       "      <td>2017-05-10</td>\n",
       "      <td>375</td>\n",
       "      <td>2</td>\n",
       "    </tr>\n",
       "    <tr>\n",
       "      <th>7</th>\n",
       "      <td>0002195541</td>\n",
       "      <td>2017-05-10</td>\n",
       "      <td>364</td>\n",
       "      <td>2</td>\n",
       "    </tr>\n",
       "    <tr>\n",
       "      <th>8</th>\n",
       "      <td>0003476589</td>\n",
       "      <td>2017-05-10</td>\n",
       "      <td>810</td>\n",
       "      <td>2</td>\n",
       "    </tr>\n",
       "    <tr>\n",
       "      <th>9</th>\n",
       "      <td>0003562158</td>\n",
       "      <td>2017-05-10</td>\n",
       "      <td>500</td>\n",
       "      <td>2</td>\n",
       "    </tr>\n",
       "    <tr>\n",
       "      <th>10</th>\n",
       "      <td>0002911176</td>\n",
       "      <td>2017-05-10</td>\n",
       "      <td>406</td>\n",
       "      <td>2</td>\n",
       "    </tr>\n",
       "    <tr>\n",
       "      <th>11</th>\n",
       "      <td>0003369127</td>\n",
       "      <td>2017-05-10</td>\n",
       "      <td>753</td>\n",
       "      <td>2</td>\n",
       "    </tr>\n",
       "    <tr>\n",
       "      <th>12</th>\n",
       "      <td>0003821351</td>\n",
       "      <td>2017-05-10</td>\n",
       "      <td>1131</td>\n",
       "      <td>2</td>\n",
       "    </tr>\n",
       "    <tr>\n",
       "      <th>13</th>\n",
       "      <td>0001907760</td>\n",
       "      <td>2017-05-10</td>\n",
       "      <td>726</td>\n",
       "      <td>2</td>\n",
       "    </tr>\n",
       "    <tr>\n",
       "      <th>14</th>\n",
       "      <td>0001954938</td>\n",
       "      <td>2017-05-10</td>\n",
       "      <td>708</td>\n",
       "      <td>2</td>\n",
       "    </tr>\n",
       "    <tr>\n",
       "      <th>15</th>\n",
       "      <td>0002839755</td>\n",
       "      <td>2017-05-10</td>\n",
       "      <td>540</td>\n",
       "      <td>2</td>\n",
       "    </tr>\n",
       "    <tr>\n",
       "      <th>16</th>\n",
       "      <td>0002962084</td>\n",
       "      <td>2017-05-10</td>\n",
       "      <td>991</td>\n",
       "      <td>2</td>\n",
       "    </tr>\n",
       "    <tr>\n",
       "      <th>17</th>\n",
       "      <td>0003766932</td>\n",
       "      <td>2017-05-10</td>\n",
       "      <td>446</td>\n",
       "      <td>2</td>\n",
       "    </tr>\n",
       "    <tr>\n",
       "      <th>18</th>\n",
       "      <td>0001960781</td>\n",
       "      <td>2017-05-10</td>\n",
       "      <td>513</td>\n",
       "      <td>2</td>\n",
       "    </tr>\n",
       "    <tr>\n",
       "      <th>19</th>\n",
       "      <td>0003230319</td>\n",
       "      <td>2017-05-10</td>\n",
       "      <td>1083</td>\n",
       "      <td>2</td>\n",
       "    </tr>\n",
       "  </tbody>\n",
       "</table>\n",
       "</div>"
      ],
      "text/plain": [
       "       cardNum        date  sec_group  count\n",
       "0   0001884144  2017-05-10        496      2\n",
       "1   0003826824  2017-05-10       1076      2\n",
       "2   0001194455  2017-05-10        500      2\n",
       "3   0003534417  2017-05-10        637      2\n",
       "4   0003824163  2017-05-10        484      2\n",
       "5   0003547094  2017-05-10        803      2\n",
       "6   0001735152  2017-05-10        375      2\n",
       "7   0002195541  2017-05-10        364      2\n",
       "8   0003476589  2017-05-10        810      2\n",
       "9   0003562158  2017-05-10        500      2\n",
       "10  0002911176  2017-05-10        406      2\n",
       "11  0003369127  2017-05-10        753      2\n",
       "12  0003821351  2017-05-10       1131      2\n",
       "13  0001907760  2017-05-10        726      2\n",
       "14  0001954938  2017-05-10        708      2\n",
       "15  0002839755  2017-05-10        540      2\n",
       "16  0002962084  2017-05-10        991      2\n",
       "17  0003766932  2017-05-10        446      2\n",
       "18  0001960781  2017-05-10        513      2\n",
       "19  0003230319  2017-05-10       1083      2"
      ]
     },
     "execution_count": 42,
     "metadata": {},
     "output_type": "execute_result"
    }
   ],
   "source": [
    "#Checking if there are any duplicate boarding entries\n",
    "duplicate_board_entries = user_boardings.groupby(['cardNum','date','sec_group']).count().filter('count > 1')\n",
    "print duplicate_board_entries.count()\n",
    "print_df(duplicate_board_entries)"
   ]
  },
  {
   "cell_type": "code",
   "execution_count": 43,
   "metadata": {
    "scrolled": true
   },
   "outputs": [
    {
     "data": {
      "text/html": [
       "<div>\n",
       "<style>\n",
       "    .dataframe thead tr:only-child th {\n",
       "        text-align: right;\n",
       "    }\n",
       "\n",
       "    .dataframe thead th {\n",
       "        text-align: left;\n",
       "    }\n",
       "\n",
       "    .dataframe tbody tr th {\n",
       "        vertical-align: top;\n",
       "    }\n",
       "</style>\n",
       "<table border=\"1\" class=\"dataframe\">\n",
       "  <thead>\n",
       "    <tr style=\"text-align: right;\">\n",
       "      <th></th>\n",
       "      <th>route</th>\n",
       "      <th>busCode</th>\n",
       "      <th>date</th>\n",
       "      <th>sec_group</th>\n",
       "      <th>userBirthdate</th>\n",
       "      <th>cardTimestamp</th>\n",
       "      <th>lineName</th>\n",
       "      <th>cardNum</th>\n",
       "      <th>gender</th>\n",
       "      <th>card_timestamp_in_secs</th>\n",
       "      <th>...</th>\n",
       "      <th>gpsLat</th>\n",
       "      <th>gpsLon</th>\n",
       "      <th>distanceToShapePoint</th>\n",
       "      <th>timestamp</th>\n",
       "      <th>busStopId</th>\n",
       "      <th>problem</th>\n",
       "      <th>numPassengers</th>\n",
       "      <th>gps_timestamp</th>\n",
       "      <th>gps_timestamp_in_secs</th>\n",
       "      <th>gps_date_in_secs</th>\n",
       "    </tr>\n",
       "  </thead>\n",
       "  <tbody>\n",
       "    <tr>\n",
       "      <th>0</th>\n",
       "      <td>205</td>\n",
       "      <td>BC306</td>\n",
       "      <td>2017-05-10</td>\n",
       "      <td>971</td>\n",
       "      <td>02/10/85</td>\n",
       "      <td>10/05/17 16:11:54,000000</td>\n",
       "      <td>BARREIRINHA</td>\n",
       "      <td>0001884144</td>\n",
       "      <td>F</td>\n",
       "      <td>1494443514</td>\n",
       "      <td>...</td>\n",
       "      <td>NaN</td>\n",
       "      <td>NaN</td>\n",
       "      <td>NaN</td>\n",
       "      <td>16:11:11</td>\n",
       "      <td>35642</td>\n",
       "      <td>BETWEEN</td>\n",
       "      <td>2</td>\n",
       "      <td>2017-05-10 16:11:11</td>\n",
       "      <td>1494443471</td>\n",
       "      <td>1494385200</td>\n",
       "    </tr>\n",
       "    <tr>\n",
       "      <th>1</th>\n",
       "      <td>242</td>\n",
       "      <td>BA128</td>\n",
       "      <td>2017-05-10</td>\n",
       "      <td>496</td>\n",
       "      <td>02/10/85</td>\n",
       "      <td>10/05/17 08:16:28,000000</td>\n",
       "      <td>V. LEONICE</td>\n",
       "      <td>0001884144</td>\n",
       "      <td>F</td>\n",
       "      <td>1494414988</td>\n",
       "      <td>...</td>\n",
       "      <td>-25.349963</td>\n",
       "      <td>-49.253775</td>\n",
       "      <td>7.314722</td>\n",
       "      <td>08:16:32</td>\n",
       "      <td>2154</td>\n",
       "      <td>NO_PROBLEM</td>\n",
       "      <td>0</td>\n",
       "      <td>2017-05-10 08:16:32</td>\n",
       "      <td>1494414992</td>\n",
       "      <td>1494385200</td>\n",
       "    </tr>\n",
       "    <tr>\n",
       "      <th>2</th>\n",
       "      <td>242</td>\n",
       "      <td>BA128</td>\n",
       "      <td>2017-05-10</td>\n",
       "      <td>496</td>\n",
       "      <td>02/10/85</td>\n",
       "      <td>10/05/17 08:16:28,000000</td>\n",
       "      <td>V. LEONICE</td>\n",
       "      <td>0001884144</td>\n",
       "      <td>F</td>\n",
       "      <td>1494414988</td>\n",
       "      <td>...</td>\n",
       "      <td>-25.351126</td>\n",
       "      <td>-49.253041</td>\n",
       "      <td>36.294613</td>\n",
       "      <td>08:16:14</td>\n",
       "      <td>33115</td>\n",
       "      <td>NO_PROBLEM</td>\n",
       "      <td>2</td>\n",
       "      <td>2017-05-10 08:16:14</td>\n",
       "      <td>1494414974</td>\n",
       "      <td>1494385200</td>\n",
       "    </tr>\n",
       "  </tbody>\n",
       "</table>\n",
       "<p>3 rows × 28 columns</p>\n",
       "</div>"
      ],
      "text/plain": [
       "  route busCode        date  sec_group userBirthdate  \\\n",
       "0   205   BC306  2017-05-10        971      02/10/85   \n",
       "1   242   BA128  2017-05-10        496      02/10/85   \n",
       "2   242   BA128  2017-05-10        496      02/10/85   \n",
       "\n",
       "              cardTimestamp     lineName     cardNum gender  \\\n",
       "0  10/05/17 16:11:54,000000  BARREIRINHA  0001884144      F   \n",
       "1  10/05/17 08:16:28,000000   V. LEONICE  0001884144      F   \n",
       "2  10/05/17 08:16:28,000000   V. LEONICE  0001884144      F   \n",
       "\n",
       "   card_timestamp_in_secs        ...            gpsLat     gpsLon  \\\n",
       "0              1494443514        ...               NaN        NaN   \n",
       "1              1494414988        ...        -25.349963 -49.253775   \n",
       "2              1494414988        ...        -25.351126 -49.253041   \n",
       "\n",
       "   distanceToShapePoint  timestamp  busStopId     problem  numPassengers  \\\n",
       "0                   NaN   16:11:11      35642     BETWEEN              2   \n",
       "1              7.314722   08:16:32       2154  NO_PROBLEM              0   \n",
       "2             36.294613   08:16:14      33115  NO_PROBLEM              2   \n",
       "\n",
       "         gps_timestamp  gps_timestamp_in_secs  gps_date_in_secs  \n",
       "0  2017-05-10 16:11:11             1494443471        1494385200  \n",
       "1  2017-05-10 08:16:32             1494414992        1494385200  \n",
       "2  2017-05-10 08:16:14             1494414974        1494385200  \n",
       "\n",
       "[3 rows x 28 columns]"
      ]
     },
     "execution_count": 43,
     "metadata": {},
     "output_type": "execute_result"
    }
   ],
   "source": [
    "#Taking a look at a sample:\n",
    "print_df(user_boardings.filter(F.col('cardNum') == '0001884144'))"
   ]
  },
  {
   "cell_type": "code",
   "execution_count": 44,
   "metadata": {},
   "outputs": [
    {
     "data": {
      "text/html": [
       "<div>\n",
       "<style>\n",
       "    .dataframe thead tr:only-child th {\n",
       "        text-align: right;\n",
       "    }\n",
       "\n",
       "    .dataframe thead th {\n",
       "        text-align: left;\n",
       "    }\n",
       "\n",
       "    .dataframe tbody tr th {\n",
       "        vertical-align: top;\n",
       "    }\n",
       "</style>\n",
       "<table border=\"1\" class=\"dataframe\">\n",
       "  <thead>\n",
       "    <tr style=\"text-align: right;\">\n",
       "      <th></th>\n",
       "      <th>route</th>\n",
       "      <th>busCode</th>\n",
       "      <th>tripNum</th>\n",
       "      <th>date</th>\n",
       "      <th>sec_group</th>\n",
       "      <th>gps_timestamp</th>\n",
       "      <th>problem</th>\n",
       "      <th>timestamp</th>\n",
       "      <th>cardTimestamp</th>\n",
       "    </tr>\n",
       "  </thead>\n",
       "  <tbody>\n",
       "    <tr>\n",
       "      <th>0</th>\n",
       "      <td>205</td>\n",
       "      <td>BC306</td>\n",
       "      <td>11</td>\n",
       "      <td>2017-05-10</td>\n",
       "      <td>971</td>\n",
       "      <td>2017-05-10 16:11:11</td>\n",
       "      <td>BETWEEN</td>\n",
       "      <td>16:11:11</td>\n",
       "      <td>10/05/17 16:11:54,000000</td>\n",
       "    </tr>\n",
       "    <tr>\n",
       "      <th>1</th>\n",
       "      <td>242</td>\n",
       "      <td>BA128</td>\n",
       "      <td>4</td>\n",
       "      <td>2017-05-10</td>\n",
       "      <td>496</td>\n",
       "      <td>2017-05-10 08:16:32</td>\n",
       "      <td>NO_PROBLEM</td>\n",
       "      <td>08:16:32</td>\n",
       "      <td>10/05/17 08:16:28,000000</td>\n",
       "    </tr>\n",
       "    <tr>\n",
       "      <th>2</th>\n",
       "      <td>242</td>\n",
       "      <td>BA128</td>\n",
       "      <td>3</td>\n",
       "      <td>2017-05-10</td>\n",
       "      <td>496</td>\n",
       "      <td>2017-05-10 08:16:14</td>\n",
       "      <td>NO_PROBLEM</td>\n",
       "      <td>08:16:14</td>\n",
       "      <td>10/05/17 08:16:28,000000</td>\n",
       "    </tr>\n",
       "  </tbody>\n",
       "</table>\n",
       "</div>"
      ],
      "text/plain": [
       "  route busCode  tripNum        date  sec_group        gps_timestamp  \\\n",
       "0   205   BC306       11  2017-05-10        971  2017-05-10 16:11:11   \n",
       "1   242   BA128        4  2017-05-10        496  2017-05-10 08:16:32   \n",
       "2   242   BA128        3  2017-05-10        496  2017-05-10 08:16:14   \n",
       "\n",
       "      problem timestamp             cardTimestamp  \n",
       "0     BETWEEN  16:11:11  10/05/17 16:11:54,000000  \n",
       "1  NO_PROBLEM  08:16:32  10/05/17 08:16:28,000000  \n",
       "2  NO_PROBLEM  08:16:14  10/05/17 08:16:28,000000  "
      ]
     },
     "execution_count": 44,
     "metadata": {},
     "output_type": "execute_result"
    }
   ],
   "source": [
    "print_df(user_boardings.filter(F.col('cardNum') == '0001884144').select(['route','busCode','tripNum','date','sec_group','gps_timestamp','problem','timestamp','cardTimestamp']))"
   ]
  },
  {
   "cell_type": "code",
   "execution_count": 45,
   "metadata": {},
   "outputs": [
    {
     "data": {
      "text/html": [
       "<div>\n",
       "<style>\n",
       "    .dataframe thead tr:only-child th {\n",
       "        text-align: right;\n",
       "    }\n",
       "\n",
       "    .dataframe thead th {\n",
       "        text-align: left;\n",
       "    }\n",
       "\n",
       "    .dataframe tbody tr th {\n",
       "        vertical-align: top;\n",
       "    }\n",
       "</style>\n",
       "<table border=\"1\" class=\"dataframe\">\n",
       "  <thead>\n",
       "    <tr style=\"text-align: right;\">\n",
       "      <th></th>\n",
       "      <th>route</th>\n",
       "      <th>busCode</th>\n",
       "      <th>tripNum</th>\n",
       "      <th>date</th>\n",
       "      <th>sec_group</th>\n",
       "      <th>gps_timestamp</th>\n",
       "      <th>problem</th>\n",
       "      <th>timestamp</th>\n",
       "      <th>cardTimestamp</th>\n",
       "    </tr>\n",
       "  </thead>\n",
       "  <tbody>\n",
       "    <tr>\n",
       "      <th>0</th>\n",
       "      <td>777</td>\n",
       "      <td>JC008</td>\n",
       "      <td>10</td>\n",
       "      <td>2017-05-10</td>\n",
       "      <td>1076</td>\n",
       "      <td>2017-05-10 17:56:49</td>\n",
       "      <td>NO_PROBLEM</td>\n",
       "      <td>17:56:49</td>\n",
       "      <td>10/05/17 17:56:45,000000</td>\n",
       "    </tr>\n",
       "    <tr>\n",
       "      <th>1</th>\n",
       "      <td>777</td>\n",
       "      <td>JC008</td>\n",
       "      <td>11</td>\n",
       "      <td>2017-05-10</td>\n",
       "      <td>1076</td>\n",
       "      <td>2017-05-10 17:56:49</td>\n",
       "      <td>NO_PROBLEM</td>\n",
       "      <td>17:56:49</td>\n",
       "      <td>10/05/17 17:56:45,000000</td>\n",
       "    </tr>\n",
       "  </tbody>\n",
       "</table>\n",
       "</div>"
      ],
      "text/plain": [
       "  route busCode  tripNum        date  sec_group        gps_timestamp  \\\n",
       "0   777   JC008       10  2017-05-10       1076  2017-05-10 17:56:49   \n",
       "1   777   JC008       11  2017-05-10       1076  2017-05-10 17:56:49   \n",
       "\n",
       "      problem timestamp             cardTimestamp  \n",
       "0  NO_PROBLEM  17:56:49  10/05/17 17:56:45,000000  \n",
       "1  NO_PROBLEM  17:56:49  10/05/17 17:56:45,000000  "
      ]
     },
     "execution_count": 45,
     "metadata": {},
     "output_type": "execute_result"
    }
   ],
   "source": [
    "print_df(user_boardings.filter(F.col('cardNum') == '0003826824').select(['route','busCode','tripNum','date','sec_group','gps_timestamp','problem','timestamp','cardTimestamp']))"
   ]
  },
  {
   "cell_type": "code",
   "execution_count": 46,
   "metadata": {},
   "outputs": [
    {
     "data": {
      "text/html": [
       "<div>\n",
       "<style>\n",
       "    .dataframe thead tr:only-child th {\n",
       "        text-align: right;\n",
       "    }\n",
       "\n",
       "    .dataframe thead th {\n",
       "        text-align: left;\n",
       "    }\n",
       "\n",
       "    .dataframe tbody tr th {\n",
       "        vertical-align: top;\n",
       "    }\n",
       "</style>\n",
       "<table border=\"1\" class=\"dataframe\">\n",
       "  <thead>\n",
       "    <tr style=\"text-align: right;\">\n",
       "      <th></th>\n",
       "      <th>route</th>\n",
       "      <th>busCode</th>\n",
       "      <th>tripNum</th>\n",
       "      <th>date</th>\n",
       "      <th>sec_group</th>\n",
       "      <th>gps_timestamp</th>\n",
       "      <th>problem</th>\n",
       "      <th>timestamp</th>\n",
       "      <th>cardTimestamp</th>\n",
       "    </tr>\n",
       "  </thead>\n",
       "  <tbody>\n",
       "    <tr>\n",
       "      <th>0</th>\n",
       "      <td>684</td>\n",
       "      <td>HA019</td>\n",
       "      <td>2</td>\n",
       "      <td>2017-05-10</td>\n",
       "      <td>364</td>\n",
       "      <td>2017-05-10 06:04:35</td>\n",
       "      <td>TRIP_PROBLEM</td>\n",
       "      <td>06:04:35</td>\n",
       "      <td>10/05/17 06:04:21,000000</td>\n",
       "    </tr>\n",
       "    <tr>\n",
       "      <th>1</th>\n",
       "      <td>684</td>\n",
       "      <td>HA019</td>\n",
       "      <td>1</td>\n",
       "      <td>2017-05-10</td>\n",
       "      <td>364</td>\n",
       "      <td>2017-05-10 06:04:35</td>\n",
       "      <td>NO_PROBLEM</td>\n",
       "      <td>06:04:35</td>\n",
       "      <td>10/05/17 06:04:21,000000</td>\n",
       "    </tr>\n",
       "  </tbody>\n",
       "</table>\n",
       "</div>"
      ],
      "text/plain": [
       "  route busCode  tripNum        date  sec_group        gps_timestamp  \\\n",
       "0   684   HA019        2  2017-05-10        364  2017-05-10 06:04:35   \n",
       "1   684   HA019        1  2017-05-10        364  2017-05-10 06:04:35   \n",
       "\n",
       "        problem timestamp             cardTimestamp  \n",
       "0  TRIP_PROBLEM  06:04:35  10/05/17 06:04:21,000000  \n",
       "1    NO_PROBLEM  06:04:35  10/05/17 06:04:21,000000  "
      ]
     },
     "execution_count": 46,
     "metadata": {},
     "output_type": "execute_result"
    }
   ],
   "source": [
    "print_df(user_boardings.filter(F.col('cardNum') == '0002195541').select(['route','busCode','tripNum','date','sec_group','gps_timestamp','problem','timestamp','cardTimestamp']))"
   ]
  },
  {
   "cell_type": "markdown",
   "metadata": {},
   "source": [
    "As we can see above, the duplicated boarding records are due to a problem with the BULMA output, as GPS records which occurred in the same trip are being associated to different trips. We will exclude such entries from our analysis."
   ]
  },
  {
   "cell_type": "code",
   "execution_count": null,
   "metadata": {
    "collapsed": true
   },
   "outputs": [],
   "source": []
  }
 ],
 "metadata": {
  "kernelspec": {
   "display_name": "Python 2",
   "language": "python",
   "name": "python2"
  },
  "language_info": {
   "codemirror_mode": {
    "name": "ipython",
    "version": 2
   },
   "file_extension": ".py",
   "mimetype": "text/x-python",
   "name": "python",
   "nbconvert_exporter": "python",
   "pygments_lexer": "ipython2",
   "version": "2.7.14"
  }
 },
 "nbformat": 4,
 "nbformat_minor": 2
}
