{
 "cells": [
  {
   "cell_type": "code",
   "execution_count": 19,
   "metadata": {
    "collapsed": true
   },
   "outputs": [],
   "source": [
    "import pyspark\n",
    "from pyspark import SparkContext\n",
    "from pyspark.sql.window import Window\n",
    "from pyspark.sql import functions as F\n",
    "\n",
    "import json\n",
    "#from pyspark.ml.feature import VectorAssembler\n",
    "#from pyspark.ml import Pipeline\n",
    "#from pyspark.ml.feature import StringIndexer\n",
    "#from pyspark.mllib.evaluation import RegressionMetrics"
   ]
  },
  {
   "cell_type": "code",
   "execution_count": 4,
   "metadata": {
    "collapsed": true
   },
   "outputs": [],
   "source": [
    "def rename_columns(df, list_of_tuples):\n",
    "    for (old_col, new_col) in list_of_tuples:\n",
    "        df = df.withColumnRenamed(old_col, new_col)\n",
    "\n",
    "    return df\n",
    "\n",
    "def read_file(filepath, sqlContext):\n",
    "    data_frame = sqlContext.read.format(\"com.databricks.spark.csv\") \\\n",
    "        .option(\"header\", \"false\") \\\n",
    "        .option(\"inferSchema\", \"true\") \\\n",
    "        .option(\"nullValue\", \"-\") \\\n",
    "        .load(filepath)\n",
    "\n",
    "    while len(data_frame.columns) < 16:\n",
    "        col_name = \"_c\" + str(len(data_frame.columns))\n",
    "        data_frame = data_frame.withColumn(col_name, lit(None))\n",
    "\n",
    "    data_frame = rename_columns(\n",
    "        data_frame,\n",
    "        [\n",
    "            (\"_c0\", \"route\"),\n",
    "            (\"_c1\", \"tripNum\"),\n",
    "            (\"_c2\", \"shapeId\"),\n",
    "            (\"_c3\", \"shapeSequence\"),\n",
    "            (\"_c4\", \"shapeLat\"),\n",
    "            (\"_c5\", \"shapeLon\"),\n",
    "            (\"_c6\", \"distanceTraveledShape\"),\n",
    "            (\"_c7\", \"busCode\"),\n",
    "            (\"_c8\", \"gpsPointId\"),\n",
    "            (\"_c9\", \"gpsLat\"),\n",
    "            (\"_c10\", \"gpsLon\"),\n",
    "            (\"_c11\", \"distanceToShapePoint\"),\n",
    "            (\"_c12\", \"timestamp\"),\n",
    "            (\"_c13\", \"busStopId\"),\n",
    "            (\"_c14\", \"problem\"),\n",
    "            (\"_c15\", \"numPassengers\")\n",
    "        ]\n",
    "    )\n",
    "\n",
    "    date = \"-\".join(filepath.split(\"/\")[-2].split(\"_\")[:3])\n",
    "\n",
    "    data_frame = data_frame.withColumn(\"date\", lit(date))\n",
    "\n",
    "    return data_frame"
   ]
  },
  {
   "cell_type": "markdown",
   "metadata": {
    "collapsed": true
   },
   "source": [
    "### Read Input Data"
   ]
  },
  {
   "cell_type": "code",
   "execution_count": 2,
   "metadata": {
    "collapsed": true
   },
   "outputs": [],
   "source": [
    "sc = SparkContext.getOrCreate()\n",
    "sqlContext = pyspark.SQLContext(sc)"
   ]
  },
  {
   "cell_type": "code",
   "execution_count": 5,
   "metadata": {},
   "outputs": [],
   "source": [
    "trips_data = read_file('/local/tarciso/sample-data/bulma-output/2017_05_11_veiculos.csv/part-00000', sqlContext)"
   ]
  },
  {
   "cell_type": "code",
   "execution_count": 17,
   "metadata": {},
   "outputs": [
    {
     "data": {
      "text/plain": [
       "[Row(route=u'372', tripNum=4, shapeId=1891, shapeSequence=6136916, shapeLat=-25.432724990605614, shapeLon=-49.27218701780396, distanceTraveledShape=10149.88, busCode=u'CC170', gpsPointId=None, gpsLat=None, gpsLon=None, distanceToShapePoint=None, timestamp=54823, busStopId=None, problem=u'BETWEEN', numPassengers=None, date=u'2017-05-11'),\n",
       " Row(route=u'372', tripNum=4, shapeId=1891, shapeSequence=6136915, shapeLat=-25.432470122014415, shapeLon=-49.27231020615159, distanceTraveledShape=10119.046, busCode=u'CC170', gpsPointId=None, gpsLat=None, gpsLon=None, distanceToShapePoint=None, timestamp=56714, busStopId=None, problem=u'BETWEEN', numPassengers=None, date=u'2017-05-11'),\n",
       " Row(route=u'372', tripNum=1, shapeId=1891, shapeSequence=6136650, shapeLat=-25.413362156585787, shapeLon=-49.20592429766663, distanceTraveledShape=79.983, busCode=u'CC170', gpsPointId=None, gpsLat=-25.413378, gpsLon=-49.205836, distanceToShapePoint=9.041484, timestamp=31274, busStopId=None, problem=u'NO_PROBLEM', numPassengers=None, date=u'2017-05-11')]"
      ]
     },
     "execution_count": 17,
     "metadata": {},
     "output_type": "execute_result"
    }
   ],
   "source": [
    "trips_data.head(3)"
   ]
  },
  {
   "cell_type": "code",
   "execution_count": 18,
   "metadata": {},
   "outputs": [
    {
     "name": "stdout",
     "output_type": "stream",
     "text": [
      "root\n",
      " |-- route: string (nullable = true)\n",
      " |-- tripNum: integer (nullable = true)\n",
      " |-- shapeId: integer (nullable = true)\n",
      " |-- shapeSequence: integer (nullable = true)\n",
      " |-- shapeLat: double (nullable = true)\n",
      " |-- shapeLon: double (nullable = true)\n",
      " |-- distanceTraveledShape: double (nullable = true)\n",
      " |-- busCode: string (nullable = true)\n",
      " |-- gpsPointId: string (nullable = true)\n",
      " |-- gpsLat: double (nullable = true)\n",
      " |-- gpsLon: double (nullable = true)\n",
      " |-- distanceToShapePoint: double (nullable = true)\n",
      " |-- timestamp: long (nullable = true)\n",
      " |-- busStopId: integer (nullable = true)\n",
      " |-- problem: string (nullable = true)\n",
      " |-- numPassengers: integer (nullable = true)\n",
      " |-- date: string (nullable = false)\n",
      "\n"
     ]
    }
   ],
   "source": [
    "trips_data.printSchema()"
   ]
  },
  {
   "cell_type": "code",
   "execution_count": 21,
   "metadata": {},
   "outputs": [],
   "source": [
    "timestamp_window = Window.partitionBy().orderBy(\"timestamp\")\n",
    "trips_data = trips_data.withColumn(\"prev_timestamp\", F.lag(trips_data.timestamp).over(timestamp_window))\n",
    "trips_data = trips_data.withColumn(\"diff_timestamp\", F.when(F.isnull(trips_data.timestamp - trips_data.prev_timestamp), 0)\n",
    "                              .otherwise(trips_data.timestamp - trips_data.prev_timestamp))"
   ]
  },
  {
   "cell_type": "code",
   "execution_count": 1,
   "metadata": {},
   "outputs": [
    {
     "ename": "NameError",
     "evalue": "name 'trips_data' is not defined",
     "output_type": "error",
     "traceback": [
      "\u001b[0;31m---------------------------------------------------------------------------\u001b[0m",
      "\u001b[0;31mNameError\u001b[0m                                 Traceback (most recent call last)",
      "\u001b[0;32m<ipython-input-1-c3cdea651fc3>\u001b[0m in \u001b[0;36m<module>\u001b[0;34m()\u001b[0m\n\u001b[0;32m----> 1\u001b[0;31m \u001b[0mtrips_data\u001b[0m\u001b[0;34m.\u001b[0m\u001b[0mselect\u001b[0m\u001b[0;34m(\u001b[0m\u001b[0;34m[\u001b[0m\u001b[0;34m\"timestamp\"\u001b[0m\u001b[0;34m,\u001b[0m\u001b[0;34m\"prev_timestamp\"\u001b[0m\u001b[0;34m,\u001b[0m\u001b[0;34m\"diff_timestamp\"\u001b[0m\u001b[0;34m]\u001b[0m\u001b[0;34m)\u001b[0m\u001b[0;34m.\u001b[0m\u001b[0mhead\u001b[0m\u001b[0;34m(\u001b[0m\u001b[0;36m5\u001b[0m\u001b[0;34m)\u001b[0m\u001b[0;34m\u001b[0m\u001b[0m\n\u001b[0m",
      "\u001b[0;31mNameError\u001b[0m: name 'trips_data' is not defined"
     ]
    }
   ],
   "source": [
    "trips_data.select([\"timestamp\",\"prev_timestamp\",\"diff_timestamp\"]).head(5)"
   ]
  },
  {
   "cell_type": "code",
   "execution_count": 9,
   "metadata": {
    "collapsed": true
   },
   "outputs": [],
   "source": [
    "filepath = '/local/tarciso/sample-data/ticketing-sample/doc1-2017051115.txt'\n",
    "ticketing_data = sqlContext.read.json(filepath)"
   ]
  },
  {
   "cell_type": "code",
   "execution_count": 10,
   "metadata": {},
   "outputs": [
    {
     "name": "stdout",
     "output_type": "stream",
     "text": [
      "+--------------------+\n",
      "|      DATAUTILIZACAO|\n",
      "+--------------------+\n",
      "|10/05/17 20:15:16...|\n",
      "|10/05/17 13:10:24...|\n",
      "|10/05/17 08:23:45...|\n",
      "|10/05/17 11:54:19...|\n",
      "|10/05/17 13:30:10...|\n",
      "|10/05/17 07:52:52...|\n",
      "|10/05/17 18:34:06...|\n",
      "|10/05/17 06:15:31...|\n",
      "|10/05/17 17:57:28...|\n",
      "|10/05/17 10:03:56...|\n",
      "|10/05/17 13:35:56...|\n",
      "|10/05/17 07:50:18...|\n",
      "|10/05/17 12:26:01...|\n",
      "|10/05/17 14:34:27...|\n",
      "|10/05/17 14:34:30...|\n",
      "|10/05/17 14:34:32...|\n",
      "|10/05/17 14:02:43...|\n",
      "|10/05/17 11:04:25...|\n",
      "|10/05/17 06:44:08...|\n",
      "|10/05/17 17:38:18...|\n",
      "+--------------------+\n",
      "only showing top 20 rows\n",
      "\n"
     ]
    }
   ],
   "source": [
    "ticketing_data.select(\"DATAUTILIZACAO\").show()"
   ]
  },
  {
   "cell_type": "code",
   "execution_count": 11,
   "metadata": {
    "collapsed": true
   },
   "outputs": [],
   "source": [
    "time_fmt = \"HH:mm:ss\"\n",
    "parse_time = unix_timestamp(\"timestamp\", time_fmt)\n",
    "trips_data = trips_data.withColumn(\"timestamp\", parse_time)"
   ]
  },
  {
   "cell_type": "code",
   "execution_count": 12,
   "metadata": {},
   "outputs": [
    {
     "name": "stdout",
     "output_type": "stream",
     "text": [
      "+---------+\n",
      "|timestamp|\n",
      "+---------+\n",
      "|    54823|\n",
      "|    56714|\n",
      "|    31274|\n",
      "|    31276|\n",
      "|    31280|\n",
      "|    31287|\n",
      "|    31291|\n",
      "|    31293|\n",
      "|    31297|\n",
      "|    31305|\n",
      "|    31307|\n",
      "|    31312|\n",
      "|    31320|\n",
      "|    31323|\n",
      "|    31328|\n",
      "|    31332|\n",
      "|    31337|\n",
      "|    31341|\n",
      "|    31343|\n",
      "|    31345|\n",
      "+---------+\n",
      "only showing top 20 rows\n",
      "\n"
     ]
    }
   ],
   "source": [
    "trips_data.select(\"timestamp\").show()"
   ]
  },
  {
   "cell_type": "code",
   "execution_count": 13,
   "metadata": {
    "collapsed": true
   },
   "outputs": [],
   "source": [
    "time_fmt = \"DD/MM/YY HH:mm:ss\"\n",
    "parse_datetime = unix_timestamp(\"DATAUTILIZACAO\", time_fmt)\n",
    "ticketing_data = ticketing_data.withColumn(\"DATAUTILIZACAO\", regexp_replace(col(\"DATAUTILIZACAO\"), \",000000\", \"\"))\n",
    "ticketing_data = ticketing_data.withColumn(\"DATAUTILIZACAO\", parse_datetime)"
   ]
  },
  {
   "cell_type": "code",
   "execution_count": 14,
   "metadata": {},
   "outputs": [
    {
     "name": "stdout",
     "output_type": "stream",
     "text": [
      "+--------------+\n",
      "|DATAUTILIZACAO|\n",
      "+--------------+\n",
      "|    1483312516|\n",
      "|    1483287024|\n",
      "|    1483269825|\n",
      "|    1483282459|\n",
      "|    1483288210|\n",
      "|    1483267972|\n",
      "|    1483306446|\n",
      "|    1483262131|\n",
      "|    1483304248|\n",
      "|    1483275836|\n",
      "|    1483288556|\n",
      "|    1483267818|\n",
      "|    1483284361|\n",
      "|    1483292067|\n",
      "|    1483292070|\n",
      "|    1483292072|\n",
      "|    1483290163|\n",
      "|    1483279465|\n",
      "|    1483263848|\n",
      "|    1483303098|\n",
      "+--------------+\n",
      "only showing top 20 rows\n",
      "\n"
     ]
    }
   ],
   "source": [
    "ticketing_data.select(\"DATAUTILIZACAO\").show()"
   ]
  },
  {
   "cell_type": "code",
   "execution_count": 15,
   "metadata": {},
   "outputs": [],
   "source": [
    "def get_group_N_min(timestamp,N):\n",
    "    mins_since_midnight = 60*hour(timestamp) + minute(timestamp)\n",
    "    return(floor(mins_since_midnight/N))\n",
    "\n",
    "#ticketing_data = ticketing_data.withColumn(\"DATAUTILIZACAO\",(60*hour(col(\"DATAUTILIZACAO\")) + \n",
    "#                                                             minute(col(\"DATAUTILIZACAO\")))/5)\n",
    "#hour(ticketing_data.select(\"DATAUTILIZACAO\"))"
   ]
  },
  {
   "cell_type": "code",
   "execution_count": null,
   "metadata": {
    "collapsed": true
   },
   "outputs": [],
   "source": []
  },
  {
   "cell_type": "code",
   "execution_count": null,
   "metadata": {
    "collapsed": true
   },
   "outputs": [],
   "source": []
  }
 ],
 "metadata": {
  "kernelspec": {
   "display_name": "Python 2",
   "language": "python",
   "name": "python2"
  },
  "language_info": {
   "codemirror_mode": {
    "name": "ipython",
    "version": 2
   },
   "file_extension": ".py",
   "mimetype": "text/x-python",
   "name": "python",
   "nbconvert_exporter": "python",
   "pygments_lexer": "ipython2",
   "version": "2.7.13"
  }
 },
 "nbformat": 4,
 "nbformat_minor": 2
}
