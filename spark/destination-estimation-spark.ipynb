{
 "cells": [
  {
   "cell_type": "code",
   "execution_count": 1,
   "metadata": {
    "collapsed": true
   },
   "outputs": [],
   "source": [
    "import pyspark\n",
    "from pyspark import SparkContext\n",
    "from pyspark.sql.window import Window\n",
    "from pyspark.sql import functions as F\n",
    "from pyspark.sql import types as T\n",
    "\n",
    "import json\n",
    "import numpy as np"
   ]
  },
  {
   "cell_type": "code",
   "execution_count": 2,
   "metadata": {
    "collapsed": true
   },
   "outputs": [],
   "source": [
    "def rename_columns(df, list_of_tuples):\n",
    "    for (old_col, new_col) in list_of_tuples:\n",
    "        df = df.withColumnRenamed(old_col, new_col)\n",
    "    return df\n",
    "\n",
    "def read_file(filepath, sqlContext):\n",
    "    data_frame = sqlContext.read.csv(filepath, header=False,\n",
    "                                     inferSchema=True,nullValue=\"-\")\n",
    "    while len(data_frame.columns) < 16:\n",
    "        col_name = \"_c\" + str(len(data_frame.columns))\n",
    "        data_frame = data_frame.withColumn(col_name, F.lit(None))\n",
    "\n",
    "    data_frame = rename_columns(\n",
    "        data_frame,\n",
    "        [\n",
    "            (\"_c0\", \"route\"),\n",
    "            (\"_c1\", \"tripNum\"),\n",
    "            (\"_c2\", \"shapeId\"),\n",
    "            (\"_c3\", \"shapeSequence\"),\n",
    "            (\"_c4\", \"shapeLat\"),\n",
    "            (\"_c5\", \"shapeLon\"),\n",
    "            (\"_c6\", \"distanceTraveledShape\"),\n",
    "            (\"_c7\", \"busCode\"),\n",
    "            (\"_c8\", \"gpsPointId\"),\n",
    "            (\"_c9\", \"gpsLat\"),\n",
    "            (\"_c10\", \"gpsLon\"),\n",
    "            (\"_c11\", \"distanceToShapePoint\"),\n",
    "            (\"_c12\", \"timestamp\"),\n",
    "            (\"_c13\", \"busStopId\"),\n",
    "            (\"_c14\", \"problem\"),\n",
    "            (\"_c15\", \"numPassengers\")\n",
    "        ]\n",
    "    )\n",
    "\n",
    "    date = \"-\".join(filepath.split(\"/\")[-2].split(\"_\")[:3])\n",
    "\n",
    "    data_frame = data_frame.withColumn(\"date\", F.lit(date))\n",
    "\n",
    "    return data_frame"
   ]
  },
  {
   "cell_type": "markdown",
   "metadata": {
    "collapsed": true
   },
   "source": [
    "### Read Input Data"
   ]
  },
  {
   "cell_type": "code",
   "execution_count": 3,
   "metadata": {
    "collapsed": true
   },
   "outputs": [],
   "source": [
    "sc = SparkContext.getOrCreate()\n",
    "sqlContext = pyspark.SQLContext(sc)"
   ]
  },
  {
   "cell_type": "code",
   "execution_count": 4,
   "metadata": {
    "collapsed": true
   },
   "outputs": [],
   "source": [
    "exp_data_folder_path = '/local/tarciso/masters/experiments/preliminary-exp/preliminary-exp-sample-data/'\n",
    "trips_data = read_file(exp_data_folder_path + '/bulma-output/2017_05_11_veiculos.csv/part-00000', sqlContext)"
   ]
  },
  {
   "cell_type": "code",
   "execution_count": 5,
   "metadata": {},
   "outputs": [
    {
     "data": {
      "text/plain": [
       "[Row(route=u'372', tripNum=4, shapeId=1891, shapeSequence=6136916, shapeLat=-25.432724990605614, shapeLon=-49.27218701780396, distanceTraveledShape=10149.88, busCode=u'CC170', gpsPointId=None, gpsLat=None, gpsLon=None, distanceToShapePoint=None, timestamp=u'12:13:43', busStopId=None, problem=u'BETWEEN', numPassengers=None, date=u'2017-05-11'),\n",
       " Row(route=u'372', tripNum=4, shapeId=1891, shapeSequence=6136915, shapeLat=-25.432470122014415, shapeLon=-49.27231020615159, distanceTraveledShape=10119.046, busCode=u'CC170', gpsPointId=None, gpsLat=None, gpsLon=None, distanceToShapePoint=None, timestamp=u'12:45:14', busStopId=None, problem=u'BETWEEN', numPassengers=None, date=u'2017-05-11'),\n",
       " Row(route=u'372', tripNum=1, shapeId=1891, shapeSequence=6136650, shapeLat=-25.413362156585787, shapeLon=-49.20592429766663, distanceTraveledShape=79.983, busCode=u'CC170', gpsPointId=None, gpsLat=-25.413378, gpsLon=-49.205836, distanceToShapePoint=9.041484, timestamp=u'05:41:14', busStopId=None, problem=u'NO_PROBLEM', numPassengers=None, date=u'2017-05-11')]"
      ]
     },
     "execution_count": 5,
     "metadata": {},
     "output_type": "execute_result"
    }
   ],
   "source": [
    "trips_data.head(3)"
   ]
  },
  {
   "cell_type": "code",
   "execution_count": 6,
   "metadata": {},
   "outputs": [
    {
     "name": "stdout",
     "output_type": "stream",
     "text": [
      "root\n",
      " |-- route: string (nullable = true)\n",
      " |-- tripNum: integer (nullable = true)\n",
      " |-- shapeId: integer (nullable = true)\n",
      " |-- shapeSequence: integer (nullable = true)\n",
      " |-- shapeLat: double (nullable = true)\n",
      " |-- shapeLon: double (nullable = true)\n",
      " |-- distanceTraveledShape: double (nullable = true)\n",
      " |-- busCode: string (nullable = true)\n",
      " |-- gpsPointId: string (nullable = true)\n",
      " |-- gpsLat: double (nullable = true)\n",
      " |-- gpsLon: double (nullable = true)\n",
      " |-- distanceToShapePoint: double (nullable = true)\n",
      " |-- timestamp: string (nullable = true)\n",
      " |-- busStopId: integer (nullable = true)\n",
      " |-- problem: string (nullable = true)\n",
      " |-- numPassengers: integer (nullable = true)\n",
      " |-- date: string (nullable = false)\n",
      "\n"
     ]
    }
   ],
   "source": [
    "trips_data.printSchema()"
   ]
  },
  {
   "cell_type": "code",
   "execution_count": 7,
   "metadata": {
    "collapsed": true
   },
   "outputs": [],
   "source": [
    "ticketing_data = sqlContext.read.json(exp_data_folder_path + '/ticketing-sample/doc1-2017051115.txt')"
   ]
  },
  {
   "cell_type": "code",
   "execution_count": 8,
   "metadata": {
    "collapsed": true
   },
   "outputs": [],
   "source": [
    "#Renaming columns to english\n",
    "ticketing_data = ticketing_data.select(F.col(\"CODLINHA\").alias(\"route\"),\n",
    "                                       F.col(\"CODVEICULO\").alias(\"busCode\"),\n",
    "                                       F.col(\"DATANASCIMENTO\").alias(\"userBirthdate\"),\n",
    "                                       F.col(\"DATAUTILIZACAO\").alias(\"cardTimestamp\"),\n",
    "                                       F.col(\"NOMELINHA\").alias(\"lineName\"),\n",
    "                                       F.col(\"NUMEROCARTAO\").alias(\"cardNum\"),\n",
    "                                       F.col(\"SEXO\").alias(\"gender\"))"
   ]
  },
  {
   "cell_type": "code",
   "execution_count": 9,
   "metadata": {},
   "outputs": [
    {
     "name": "stdout",
     "output_type": "stream",
     "text": [
      "root\n",
      " |-- route: string (nullable = true)\n",
      " |-- busCode: string (nullable = true)\n",
      " |-- userBirthdate: string (nullable = true)\n",
      " |-- cardTimestamp: string (nullable = true)\n",
      " |-- lineName: string (nullable = true)\n",
      " |-- cardNum: string (nullable = true)\n",
      " |-- gender: string (nullable = true)\n",
      "\n"
     ]
    }
   ],
   "source": [
    "ticketing_data.printSchema()"
   ]
  },
  {
   "cell_type": "code",
   "execution_count": 10,
   "metadata": {},
   "outputs": [
    {
     "data": {
      "text/plain": [
       "[Row(route=u'021', busCode=u'08046', userBirthdate=u'26/01/72', cardTimestamp=u'10/05/17 20:15:16,000000', lineName=u'INTERB II ANTI H', cardNum=u'0001937533', gender=u'F'),\n",
       " Row(route=u'021', busCode=u'08027', userBirthdate=u'26/01/72', cardTimestamp=u'10/05/17 13:10:24,000000', lineName=u'INTERB II ANTI H', cardNum=u'0001937533', gender=u'F'),\n",
       " Row(route=u'623', busCode=u'HA022', userBirthdate=u'06/03/71', cardTimestamp=u'10/05/17 08:23:45,000000', lineName=u'PQ.INDUSTRIAL', cardNum=u'0001311020', gender=u'F'),\n",
       " Row(route=u'000', busCode=u'03023', userBirthdate=u'06/03/71', cardTimestamp=u'10/05/17 11:54:19,000000', lineName=u'OPER S/LINHA', cardNum=u'0001311020', gender=u'F'),\n",
       " Row(route=u'TPH', busCode=u'03019', userBirthdate=u'23/11/79', cardTimestamp=u'10/05/17 13:30:10,000000', lineName=u'TERMINAL PINHEIRINHO', cardNum=u'0002425635', gender=u'F')]"
      ]
     },
     "execution_count": 10,
     "metadata": {},
     "output_type": "execute_result"
    }
   ],
   "source": [
    "ticketing_data.head(5)"
   ]
  },
  {
   "cell_type": "markdown",
   "metadata": {},
   "source": [
    "## Pre-processing data"
   ]
  },
  {
   "cell_type": "code",
   "execution_count": 11,
   "metadata": {
    "collapsed": true
   },
   "outputs": [],
   "source": [
    "trips_data = trips_data.withColumn(\"gps_timestamp\", F.concat(F.col(\"date\"), F.lit(\" \"), F.col(\"timestamp\")))\n",
    "trips_data = trips_data.withColumn(\"gps_timestamp\", F.unix_timestamp(F.col(\"gps_timestamp\"), \"YYYY-MM-DD HH:mm:ss\"))"
   ]
  },
  {
   "cell_type": "code",
   "execution_count": 12,
   "metadata": {},
   "outputs": [
    {
     "name": "stdout",
     "output_type": "stream",
     "text": [
      "+----------+---------+-------------+\n",
      "|      date|timestamp|gps_timestamp|\n",
      "+----------+---------+-------------+\n",
      "|2017-05-11| 12:13:43|   1483283623|\n",
      "|2017-05-11| 12:45:14|   1483285514|\n",
      "|2017-05-11| 05:41:14|   1483260074|\n",
      "|2017-05-11| 05:41:16|   1483260076|\n",
      "|2017-05-11| 05:41:20|   1483260080|\n",
      "|2017-05-11| 05:41:27|   1483260087|\n",
      "|2017-05-11| 05:41:31|   1483260091|\n",
      "|2017-05-11| 05:41:33|   1483260093|\n",
      "|2017-05-11| 05:41:37|   1483260097|\n",
      "|2017-05-11| 05:41:45|   1483260105|\n",
      "|2017-05-11| 05:41:47|   1483260107|\n",
      "|2017-05-11| 05:41:52|   1483260112|\n",
      "|2017-05-11| 05:42:00|   1483260120|\n",
      "|2017-05-11| 05:42:03|   1483260123|\n",
      "|2017-05-11| 05:42:08|   1483260128|\n",
      "|2017-05-11| 05:42:12|   1483260132|\n",
      "|2017-05-11| 05:42:17|   1483260137|\n",
      "|2017-05-11| 05:42:21|   1483260141|\n",
      "|2017-05-11| 05:42:23|   1483260143|\n",
      "|2017-05-11| 05:42:25|   1483260145|\n",
      "+----------+---------+-------------+\n",
      "only showing top 20 rows\n",
      "\n"
     ]
    }
   ],
   "source": [
    "trips_data.select([\"date\",\"timestamp\",\"gps_timestamp\"]).show()"
   ]
  },
  {
   "cell_type": "code",
   "execution_count": 13,
   "metadata": {
    "collapsed": true
   },
   "outputs": [],
   "source": [
    "ticketing_data = ticketing_data.withColumn(\"card_timestamp\", F.unix_timestamp(F.col(\"cardTimestamp\"), \"DD/MM/YY HH:mm:ss\"))"
   ]
  },
  {
   "cell_type": "code",
   "execution_count": 14,
   "metadata": {},
   "outputs": [
    {
     "name": "stdout",
     "output_type": "stream",
     "text": [
      "+--------------------+--------------+\n",
      "|       cardTimestamp|card_timestamp|\n",
      "+--------------------+--------------+\n",
      "|10/05/17 20:15:16...|    1483312516|\n",
      "|10/05/17 13:10:24...|    1483287024|\n",
      "|10/05/17 08:23:45...|    1483269825|\n",
      "|10/05/17 11:54:19...|    1483282459|\n",
      "|10/05/17 13:30:10...|    1483288210|\n",
      "|10/05/17 07:52:52...|    1483267972|\n",
      "|10/05/17 18:34:06...|    1483306446|\n",
      "|10/05/17 06:15:31...|    1483262131|\n",
      "|10/05/17 17:57:28...|    1483304248|\n",
      "|10/05/17 10:03:56...|    1483275836|\n",
      "|10/05/17 13:35:56...|    1483288556|\n",
      "|10/05/17 07:50:18...|    1483267818|\n",
      "|10/05/17 12:26:01...|    1483284361|\n",
      "|10/05/17 14:34:27...|    1483292067|\n",
      "|10/05/17 14:34:30...|    1483292070|\n",
      "|10/05/17 14:34:32...|    1483292072|\n",
      "|10/05/17 14:02:43...|    1483290163|\n",
      "|10/05/17 11:04:25...|    1483279465|\n",
      "|10/05/17 06:44:08...|    1483263848|\n",
      "|10/05/17 17:38:18...|    1483303098|\n",
      "+--------------------+--------------+\n",
      "only showing top 20 rows\n",
      "\n"
     ]
    }
   ],
   "source": [
    "ticketing_data.select([\"cardTimestamp\",\"card_timestamp\"]).show()"
   ]
  },
  {
   "cell_type": "code",
   "execution_count": 15,
   "metadata": {
    "collapsed": true
   },
   "outputs": [],
   "source": [
    "curr_date = trips_data.sample(False, 0.1, seed=0).limit(1).withColumn(\"curr_date\", F.unix_timestamp(F.col(\"date\"), \"YYYY-MM-DD\")).select(\"curr_date\").rdd.flatMap(list).first()"
   ]
  },
  {
   "cell_type": "code",
   "execution_count": 16,
   "metadata": {},
   "outputs": [
    {
     "name": "stdout",
     "output_type": "stream",
     "text": [
      "1483239600\n"
     ]
    }
   ],
   "source": [
    "print curr_date"
   ]
  },
  {
   "cell_type": "code",
   "execution_count": 17,
   "metadata": {
    "collapsed": true
   },
   "outputs": [],
   "source": [
    "def get_group_N_sec(timestamp,curr_date_timestamp,N):\n",
    "    secs_since_midnight = timestamp-curr_date_timestamp\n",
    "    return(F.floor(secs_since_midnight/N))"
   ]
  },
  {
   "cell_type": "code",
   "execution_count": 18,
   "metadata": {},
   "outputs": [
    {
     "name": "stdout",
     "output_type": "stream",
     "text": [
      "+--------------+---------+\n",
      "|card_timestamp|sec_group|\n",
      "+--------------+---------+\n",
      "|    1483312516|     2430|\n",
      "|    1483287024|     1580|\n",
      "|    1483269825|     1007|\n",
      "|    1483282459|     1428|\n",
      "|    1483288210|     1620|\n",
      "|    1483267972|      945|\n",
      "|    1483306446|     2228|\n",
      "|    1483262131|      751|\n",
      "|    1483304248|     2154|\n",
      "|    1483275836|     1207|\n",
      "|    1483288556|     1631|\n",
      "|    1483267818|      940|\n",
      "|    1483284361|     1492|\n",
      "|    1483292067|     1748|\n",
      "|    1483292070|     1749|\n",
      "|    1483292072|     1749|\n",
      "|    1483290163|     1685|\n",
      "|    1483279465|     1328|\n",
      "|    1483263848|      808|\n",
      "|    1483303098|     2116|\n",
      "+--------------+---------+\n",
      "only showing top 20 rows\n",
      "\n"
     ]
    }
   ],
   "source": [
    "ticketing_data = ticketing_data.withColumn(\"sec_group\",get_group_N_sec(F.col(\"card_timestamp\"),curr_date,30))\n",
    "ticketing_data.select([\"card_timestamp\",\"sec_group\"]).show()"
   ]
  },
  {
   "cell_type": "code",
   "execution_count": 19,
   "metadata": {},
   "outputs": [
    {
     "name": "stdout",
     "output_type": "stream",
     "text": [
      "+-------------+---------+\n",
      "|gps_timestamp|sec_group|\n",
      "+-------------+---------+\n",
      "|   1483283623|     1467|\n",
      "|   1483285514|     1530|\n",
      "|   1483260074|      682|\n",
      "|   1483260076|      682|\n",
      "|   1483260080|      682|\n",
      "|   1483260087|      682|\n",
      "|   1483260091|      683|\n",
      "|   1483260093|      683|\n",
      "|   1483260097|      683|\n",
      "|   1483260105|      683|\n",
      "|   1483260107|      683|\n",
      "|   1483260112|      683|\n",
      "|   1483260120|      684|\n",
      "|   1483260123|      684|\n",
      "|   1483260128|      684|\n",
      "|   1483260132|      684|\n",
      "|   1483260137|      684|\n",
      "|   1483260141|      684|\n",
      "|   1483260143|      684|\n",
      "|   1483260145|      684|\n",
      "+-------------+---------+\n",
      "only showing top 20 rows\n",
      "\n"
     ]
    }
   ],
   "source": [
    "trips_data = trips_data.withColumn(\"sec_group\",get_group_N_sec(F.col(\"gps_timestamp\"),curr_date,30))\n",
    "trips_data.select([\"gps_timestamp\",\"sec_group\"]).show()"
   ]
  },
  {
   "cell_type": "code",
   "execution_count": 20,
   "metadata": {},
   "outputs": [
    {
     "data": {
      "text/plain": [
       "7900150"
      ]
     },
     "execution_count": 20,
     "metadata": {},
     "output_type": "execute_result"
    }
   ],
   "source": [
    "trips_data.count()"
   ]
  },
  {
   "cell_type": "code",
   "execution_count": 21,
   "metadata": {},
   "outputs": [
    {
     "data": {
      "text/plain": [
       "306906"
      ]
     },
     "execution_count": 21,
     "metadata": {},
     "output_type": "execute_result"
    }
   ],
   "source": [
    "ticketing_data.count()"
   ]
  },
  {
   "cell_type": "markdown",
   "metadata": {},
   "source": [
    "### Removing duplicate GPS records (occurred in the same time period)"
   ]
  },
  {
   "cell_type": "code",
   "execution_count": 22,
   "metadata": {},
   "outputs": [
    {
     "name": "stdout",
     "output_type": "stream",
     "text": [
      "541266\n"
     ]
    },
    {
     "data": {
      "text/html": [
       "<div>\n",
       "<style>\n",
       "    .dataframe thead tr:only-child th {\n",
       "        text-align: right;\n",
       "    }\n",
       "\n",
       "    .dataframe thead th {\n",
       "        text-align: left;\n",
       "    }\n",
       "\n",
       "    .dataframe tbody tr th {\n",
       "        vertical-align: top;\n",
       "    }\n",
       "</style>\n",
       "<table border=\"1\" class=\"dataframe\">\n",
       "  <thead>\n",
       "    <tr style=\"text-align: right;\">\n",
       "      <th></th>\n",
       "      <th>route</th>\n",
       "      <th>busCode</th>\n",
       "      <th>busStopId</th>\n",
       "      <th>sec_group</th>\n",
       "    </tr>\n",
       "  </thead>\n",
       "  <tbody>\n",
       "    <tr>\n",
       "      <th>0</th>\n",
       "      <td>372</td>\n",
       "      <td>CC170</td>\n",
       "      <td>30174</td>\n",
       "      <td>838</td>\n",
       "    </tr>\n",
       "    <tr>\n",
       "      <th>1</th>\n",
       "      <td>876</td>\n",
       "      <td>BC190</td>\n",
       "      <td>30334</td>\n",
       "      <td>1215</td>\n",
       "    </tr>\n",
       "    <tr>\n",
       "      <th>2</th>\n",
       "      <td>876</td>\n",
       "      <td>BC190</td>\n",
       "      <td>33774</td>\n",
       "      <td>1295</td>\n",
       "    </tr>\n",
       "    <tr>\n",
       "      <th>3</th>\n",
       "      <td>876</td>\n",
       "      <td>BC190</td>\n",
       "      <td>33740</td>\n",
       "      <td>2123</td>\n",
       "    </tr>\n",
       "    <tr>\n",
       "      <th>4</th>\n",
       "      <td>876</td>\n",
       "      <td>BC190</td>\n",
       "      <td>34228</td>\n",
       "      <td>2384</td>\n",
       "    </tr>\n",
       "    <tr>\n",
       "      <th>5</th>\n",
       "      <td>203</td>\n",
       "      <td>GD349</td>\n",
       "      <td>26187</td>\n",
       "      <td>1916</td>\n",
       "    </tr>\n",
       "    <tr>\n",
       "      <th>6</th>\n",
       "      <td>203</td>\n",
       "      <td>GD349</td>\n",
       "      <td>25707</td>\n",
       "      <td>2113</td>\n",
       "    </tr>\n",
       "    <tr>\n",
       "      <th>7</th>\n",
       "      <td>203</td>\n",
       "      <td>GD349</td>\n",
       "      <td>25385</td>\n",
       "      <td>2174</td>\n",
       "    </tr>\n",
       "    <tr>\n",
       "      <th>8</th>\n",
       "      <td>511</td>\n",
       "      <td>EA171</td>\n",
       "      <td>28067</td>\n",
       "      <td>1190</td>\n",
       "    </tr>\n",
       "    <tr>\n",
       "      <th>9</th>\n",
       "      <td>511</td>\n",
       "      <td>EA171</td>\n",
       "      <td>28431</td>\n",
       "      <td>1728</td>\n",
       "    </tr>\n",
       "    <tr>\n",
       "      <th>10</th>\n",
       "      <td>511</td>\n",
       "      <td>EA171</td>\n",
       "      <td>40444</td>\n",
       "      <td>2581</td>\n",
       "    </tr>\n",
       "    <tr>\n",
       "      <th>11</th>\n",
       "      <td>511</td>\n",
       "      <td>EA171</td>\n",
       "      <td>40533</td>\n",
       "      <td>2589</td>\n",
       "    </tr>\n",
       "    <tr>\n",
       "      <th>12</th>\n",
       "      <td>307</td>\n",
       "      <td>ML312</td>\n",
       "      <td>26208</td>\n",
       "      <td>864</td>\n",
       "    </tr>\n",
       "    <tr>\n",
       "      <th>13</th>\n",
       "      <td>307</td>\n",
       "      <td>ML312</td>\n",
       "      <td>25896</td>\n",
       "      <td>2120</td>\n",
       "    </tr>\n",
       "    <tr>\n",
       "      <th>14</th>\n",
       "      <td>503</td>\n",
       "      <td>GD343</td>\n",
       "      <td>25806</td>\n",
       "      <td>2183</td>\n",
       "    </tr>\n",
       "    <tr>\n",
       "      <th>15</th>\n",
       "      <td>503</td>\n",
       "      <td>GD343</td>\n",
       "      <td>25500</td>\n",
       "      <td>2559</td>\n",
       "    </tr>\n",
       "    <tr>\n",
       "      <th>16</th>\n",
       "      <td>542</td>\n",
       "      <td>GA134</td>\n",
       "      <td>31562</td>\n",
       "      <td>853</td>\n",
       "    </tr>\n",
       "    <tr>\n",
       "      <th>17</th>\n",
       "      <td>542</td>\n",
       "      <td>GA134</td>\n",
       "      <td>31259</td>\n",
       "      <td>913</td>\n",
       "    </tr>\n",
       "    <tr>\n",
       "      <th>18</th>\n",
       "      <td>876</td>\n",
       "      <td>BC189</td>\n",
       "      <td>30273</td>\n",
       "      <td>722</td>\n",
       "    </tr>\n",
       "    <tr>\n",
       "      <th>19</th>\n",
       "      <td>876</td>\n",
       "      <td>BC189</td>\n",
       "      <td>34246</td>\n",
       "      <td>1941</td>\n",
       "    </tr>\n",
       "  </tbody>\n",
       "</table>\n",
       "</div>"
      ],
      "text/plain": [
       "   route busCode  busStopId  sec_group\n",
       "0    372   CC170      30174        838\n",
       "1    876   BC190      30334       1215\n",
       "2    876   BC190      33774       1295\n",
       "3    876   BC190      33740       2123\n",
       "4    876   BC190      34228       2384\n",
       "5    203   GD349      26187       1916\n",
       "6    203   GD349      25707       2113\n",
       "7    203   GD349      25385       2174\n",
       "8    511   EA171      28067       1190\n",
       "9    511   EA171      28431       1728\n",
       "10   511   EA171      40444       2581\n",
       "11   511   EA171      40533       2589\n",
       "12   307   ML312      26208        864\n",
       "13   307   ML312      25896       2120\n",
       "14   503   GD343      25806       2183\n",
       "15   503   GD343      25500       2559\n",
       "16   542   GA134      31562        853\n",
       "17   542   GA134      31259        913\n",
       "18   876   BC189      30273        722\n",
       "19   876   BC189      34246       1941"
      ]
     },
     "execution_count": 22,
     "metadata": {},
     "output_type": "execute_result"
    }
   ],
   "source": [
    "filtered_trips_data = trips_data.na.drop(subset=[\"busStopId\"]).dropDuplicates([\"route\",\"busCode\", \"busStopId\", \"sec_group\"])\n",
    "print filtered_trips_data.count()\n",
    "filtered_trips_data.select([\"route\",\"busCode\", \"busStopId\", \"sec_group\"]).limit(20).toPandas()"
   ]
  },
  {
   "cell_type": "markdown",
   "metadata": {},
   "source": [
    "### Removing Duplicate entries in ticketing data"
   ]
  },
  {
   "cell_type": "code",
   "execution_count": 23,
   "metadata": {
    "collapsed": true
   },
   "outputs": [],
   "source": [
    "ticketing_data = ticketing_data.dropDuplicates()"
   ]
  },
  {
   "cell_type": "code",
   "execution_count": 24,
   "metadata": {},
   "outputs": [
    {
     "data": {
      "text/plain": [
       "306904"
      ]
     },
     "execution_count": 24,
     "metadata": {},
     "output_type": "execute_result"
    }
   ],
   "source": [
    "ticketing_data.count()"
   ]
  },
  {
   "cell_type": "markdown",
   "metadata": {},
   "source": [
    "### Merging GPS and ticketing data "
   ]
  },
  {
   "cell_type": "code",
   "execution_count": 25,
   "metadata": {
    "collapsed": true
   },
   "outputs": [],
   "source": [
    "user_boardings = ticketing_data.join(filtered_trips_data, ['route','busCode','sec_group'], 'inner')"
   ]
  },
  {
   "cell_type": "code",
   "execution_count": 26,
   "metadata": {},
   "outputs": [
    {
     "name": "stdout",
     "output_type": "stream",
     "text": [
      "root\n",
      " |-- route: string (nullable = true)\n",
      " |-- busCode: string (nullable = true)\n",
      " |-- sec_group: long (nullable = true)\n",
      " |-- userBirthdate: string (nullable = true)\n",
      " |-- cardTimestamp: string (nullable = true)\n",
      " |-- lineName: string (nullable = true)\n",
      " |-- cardNum: string (nullable = true)\n",
      " |-- gender: string (nullable = true)\n",
      " |-- card_timestamp: long (nullable = true)\n",
      " |-- tripNum: integer (nullable = true)\n",
      " |-- shapeId: integer (nullable = true)\n",
      " |-- shapeSequence: integer (nullable = true)\n",
      " |-- shapeLat: double (nullable = true)\n",
      " |-- shapeLon: double (nullable = true)\n",
      " |-- distanceTraveledShape: double (nullable = true)\n",
      " |-- gpsPointId: string (nullable = true)\n",
      " |-- gpsLat: double (nullable = true)\n",
      " |-- gpsLon: double (nullable = true)\n",
      " |-- distanceToShapePoint: double (nullable = true)\n",
      " |-- timestamp: string (nullable = true)\n",
      " |-- busStopId: integer (nullable = true)\n",
      " |-- problem: string (nullable = true)\n",
      " |-- numPassengers: integer (nullable = true)\n",
      " |-- date: string (nullable = true)\n",
      " |-- gps_timestamp: long (nullable = true)\n",
      "\n"
     ]
    }
   ],
   "source": [
    "user_boardings.printSchema()"
   ]
  },
  {
   "cell_type": "code",
   "execution_count": 27,
   "metadata": {},
   "outputs": [
    {
     "data": {
      "text/html": [
       "<div>\n",
       "<style>\n",
       "    .dataframe thead tr:only-child th {\n",
       "        text-align: right;\n",
       "    }\n",
       "\n",
       "    .dataframe thead th {\n",
       "        text-align: left;\n",
       "    }\n",
       "\n",
       "    .dataframe tbody tr th {\n",
       "        vertical-align: top;\n",
       "    }\n",
       "</style>\n",
       "<table border=\"1\" class=\"dataframe\">\n",
       "  <thead>\n",
       "    <tr style=\"text-align: right;\">\n",
       "      <th></th>\n",
       "      <th>route</th>\n",
       "      <th>busCode</th>\n",
       "      <th>sec_group</th>\n",
       "    </tr>\n",
       "  </thead>\n",
       "  <tbody>\n",
       "    <tr>\n",
       "      <th>0</th>\n",
       "      <td>020</td>\n",
       "      <td>BB300</td>\n",
       "      <td>639</td>\n",
       "    </tr>\n",
       "    <tr>\n",
       "      <th>1</th>\n",
       "      <td>020</td>\n",
       "      <td>CB604</td>\n",
       "      <td>2181</td>\n",
       "    </tr>\n",
       "    <tr>\n",
       "      <th>2</th>\n",
       "      <td>020</td>\n",
       "      <td>CB604</td>\n",
       "      <td>2181</td>\n",
       "    </tr>\n",
       "    <tr>\n",
       "      <th>3</th>\n",
       "      <td>020</td>\n",
       "      <td>CB604</td>\n",
       "      <td>2181</td>\n",
       "    </tr>\n",
       "    <tr>\n",
       "      <th>4</th>\n",
       "      <td>020</td>\n",
       "      <td>CB604</td>\n",
       "      <td>2181</td>\n",
       "    </tr>\n",
       "    <tr>\n",
       "      <th>5</th>\n",
       "      <td>020</td>\n",
       "      <td>CB604</td>\n",
       "      <td>2181</td>\n",
       "    </tr>\n",
       "    <tr>\n",
       "      <th>6</th>\n",
       "      <td>020</td>\n",
       "      <td>CB604</td>\n",
       "      <td>2181</td>\n",
       "    </tr>\n",
       "    <tr>\n",
       "      <th>7</th>\n",
       "      <td>021</td>\n",
       "      <td>BB601</td>\n",
       "      <td>1677</td>\n",
       "    </tr>\n",
       "    <tr>\n",
       "      <th>8</th>\n",
       "      <td>021</td>\n",
       "      <td>CB697</td>\n",
       "      <td>1828</td>\n",
       "    </tr>\n",
       "    <tr>\n",
       "      <th>9</th>\n",
       "      <td>030</td>\n",
       "      <td>BB498</td>\n",
       "      <td>782</td>\n",
       "    </tr>\n",
       "    <tr>\n",
       "      <th>10</th>\n",
       "      <td>030</td>\n",
       "      <td>BB498</td>\n",
       "      <td>782</td>\n",
       "    </tr>\n",
       "    <tr>\n",
       "      <th>11</th>\n",
       "      <td>030</td>\n",
       "      <td>BB498</td>\n",
       "      <td>782</td>\n",
       "    </tr>\n",
       "    <tr>\n",
       "      <th>12</th>\n",
       "      <td>030</td>\n",
       "      <td>BB606</td>\n",
       "      <td>1346</td>\n",
       "    </tr>\n",
       "    <tr>\n",
       "      <th>13</th>\n",
       "      <td>030</td>\n",
       "      <td>CB603</td>\n",
       "      <td>792</td>\n",
       "    </tr>\n",
       "    <tr>\n",
       "      <th>14</th>\n",
       "      <td>030</td>\n",
       "      <td>CB603</td>\n",
       "      <td>1652</td>\n",
       "    </tr>\n",
       "    <tr>\n",
       "      <th>15</th>\n",
       "      <td>030</td>\n",
       "      <td>DR117</td>\n",
       "      <td>2271</td>\n",
       "    </tr>\n",
       "    <tr>\n",
       "      <th>16</th>\n",
       "      <td>030</td>\n",
       "      <td>GB608</td>\n",
       "      <td>2242</td>\n",
       "    </tr>\n",
       "    <tr>\n",
       "      <th>17</th>\n",
       "      <td>030</td>\n",
       "      <td>GR121</td>\n",
       "      <td>967</td>\n",
       "    </tr>\n",
       "    <tr>\n",
       "      <th>18</th>\n",
       "      <td>030</td>\n",
       "      <td>GR121</td>\n",
       "      <td>2003</td>\n",
       "    </tr>\n",
       "    <tr>\n",
       "      <th>19</th>\n",
       "      <td>030</td>\n",
       "      <td>GR121</td>\n",
       "      <td>2003</td>\n",
       "    </tr>\n",
       "  </tbody>\n",
       "</table>\n",
       "</div>"
      ],
      "text/plain": [
       "   route busCode  sec_group\n",
       "0    020   BB300        639\n",
       "1    020   CB604       2181\n",
       "2    020   CB604       2181\n",
       "3    020   CB604       2181\n",
       "4    020   CB604       2181\n",
       "5    020   CB604       2181\n",
       "6    020   CB604       2181\n",
       "7    021   BB601       1677\n",
       "8    021   CB697       1828\n",
       "9    030   BB498        782\n",
       "10   030   BB498        782\n",
       "11   030   BB498        782\n",
       "12   030   BB606       1346\n",
       "13   030   CB603        792\n",
       "14   030   CB603       1652\n",
       "15   030   DR117       2271\n",
       "16   030   GB608       2242\n",
       "17   030   GR121        967\n",
       "18   030   GR121       2003\n",
       "19   030   GR121       2003"
      ]
     },
     "execution_count": 27,
     "metadata": {},
     "output_type": "execute_result"
    }
   ],
   "source": [
    "user_boardings.select(['route','busCode','sec_group']).limit(20).toPandas()"
   ]
  },
  {
   "cell_type": "code",
   "execution_count": 28,
   "metadata": {},
   "outputs": [
    {
     "data": {
      "text/plain": [
       "52071"
      ]
     },
     "execution_count": 28,
     "metadata": {},
     "output_type": "execute_result"
    }
   ],
   "source": [
    "user_boardings.count()"
   ]
  },
  {
   "cell_type": "code",
   "execution_count": 29,
   "metadata": {},
   "outputs": [
    {
     "data": {
      "text/html": [
       "<div>\n",
       "<style>\n",
       "    .dataframe thead tr:only-child th {\n",
       "        text-align: right;\n",
       "    }\n",
       "\n",
       "    .dataframe thead th {\n",
       "        text-align: left;\n",
       "    }\n",
       "\n",
       "    .dataframe tbody tr th {\n",
       "        vertical-align: top;\n",
       "    }\n",
       "</style>\n",
       "<table border=\"1\" class=\"dataframe\">\n",
       "  <thead>\n",
       "    <tr style=\"text-align: right;\">\n",
       "      <th></th>\n",
       "      <th>route</th>\n",
       "      <th>busCode</th>\n",
       "      <th>sec_group</th>\n",
       "      <th>busStopId</th>\n",
       "      <th>cardNum</th>\n",
       "      <th>cardTimestamp</th>\n",
       "    </tr>\n",
       "  </thead>\n",
       "  <tbody>\n",
       "    <tr>\n",
       "      <th>0</th>\n",
       "      <td>828</td>\n",
       "      <td>LA053</td>\n",
       "      <td>1496</td>\n",
       "      <td>35350</td>\n",
       "      <td>0000229948</td>\n",
       "      <td>10/05/17 12:28:19,000000</td>\n",
       "    </tr>\n",
       "    <tr>\n",
       "      <th>1</th>\n",
       "      <td>050</td>\n",
       "      <td>LA054</td>\n",
       "      <td>1458</td>\n",
       "      <td>32417</td>\n",
       "      <td>0000310241</td>\n",
       "      <td>10/05/17 12:09:23,000000</td>\n",
       "    </tr>\n",
       "    <tr>\n",
       "      <th>2</th>\n",
       "      <td>531</td>\n",
       "      <td>EA169</td>\n",
       "      <td>897</td>\n",
       "      <td>29960</td>\n",
       "      <td>0000314357</td>\n",
       "      <td>10/05/17 07:28:31,000000</td>\n",
       "    </tr>\n",
       "    <tr>\n",
       "      <th>3</th>\n",
       "      <td>335</td>\n",
       "      <td>DR406</td>\n",
       "      <td>905</td>\n",
       "      <td>33604</td>\n",
       "      <td>0000314918</td>\n",
       "      <td>10/05/17 07:32:52,000000</td>\n",
       "    </tr>\n",
       "    <tr>\n",
       "      <th>4</th>\n",
       "      <td>216</td>\n",
       "      <td>CA600</td>\n",
       "      <td>2051</td>\n",
       "      <td>29165</td>\n",
       "      <td>0000317896</td>\n",
       "      <td>10/05/17 17:05:57,000000</td>\n",
       "    </tr>\n",
       "    <tr>\n",
       "      <th>5</th>\n",
       "      <td>002</td>\n",
       "      <td>DN029</td>\n",
       "      <td>2270</td>\n",
       "      <td>40026</td>\n",
       "      <td>0000321169</td>\n",
       "      <td>10/05/17 18:55:17,000000</td>\n",
       "    </tr>\n",
       "    <tr>\n",
       "      <th>6</th>\n",
       "      <td>811</td>\n",
       "      <td>BA018</td>\n",
       "      <td>1975</td>\n",
       "      <td>30515</td>\n",
       "      <td>0000321469</td>\n",
       "      <td>10/05/17 16:27:47,000000</td>\n",
       "    </tr>\n",
       "    <tr>\n",
       "      <th>7</th>\n",
       "      <td>779</td>\n",
       "      <td>JC865</td>\n",
       "      <td>710</td>\n",
       "      <td>33571</td>\n",
       "      <td>0000321916</td>\n",
       "      <td>10/05/17 05:55:17,000000</td>\n",
       "    </tr>\n",
       "    <tr>\n",
       "      <th>8</th>\n",
       "      <td>646</td>\n",
       "      <td>HA006</td>\n",
       "      <td>1578</td>\n",
       "      <td>38516</td>\n",
       "      <td>0000322132</td>\n",
       "      <td>10/05/17 13:09:01,000000</td>\n",
       "    </tr>\n",
       "    <tr>\n",
       "      <th>9</th>\n",
       "      <td>205</td>\n",
       "      <td>BC306</td>\n",
       "      <td>984</td>\n",
       "      <td>29085</td>\n",
       "      <td>0000323896</td>\n",
       "      <td>10/05/17 08:12:02,000000</td>\n",
       "    </tr>\n",
       "    <tr>\n",
       "      <th>10</th>\n",
       "      <td>673</td>\n",
       "      <td>HN615</td>\n",
       "      <td>903</td>\n",
       "      <td>32125</td>\n",
       "      <td>0000323978</td>\n",
       "      <td>10/05/17 07:31:54,000000</td>\n",
       "    </tr>\n",
       "    <tr>\n",
       "      <th>11</th>\n",
       "      <td>673</td>\n",
       "      <td>HN615</td>\n",
       "      <td>903</td>\n",
       "      <td>32122</td>\n",
       "      <td>0000323978</td>\n",
       "      <td>10/05/17 07:31:54,000000</td>\n",
       "    </tr>\n",
       "    <tr>\n",
       "      <th>12</th>\n",
       "      <td>371</td>\n",
       "      <td>BC030</td>\n",
       "      <td>854</td>\n",
       "      <td>31802</td>\n",
       "      <td>0000325558</td>\n",
       "      <td>10/05/17 07:07:05,000000</td>\n",
       "    </tr>\n",
       "    <tr>\n",
       "      <th>13</th>\n",
       "      <td>812</td>\n",
       "      <td>BA022</td>\n",
       "      <td>1547</td>\n",
       "      <td>30316</td>\n",
       "      <td>0000326007</td>\n",
       "      <td>10/05/17 12:53:38,000000</td>\n",
       "    </tr>\n",
       "    <tr>\n",
       "      <th>14</th>\n",
       "      <td>285</td>\n",
       "      <td>BN628</td>\n",
       "      <td>862</td>\n",
       "      <td>28991</td>\n",
       "      <td>0000326054</td>\n",
       "      <td>10/05/17 07:11:20,000000</td>\n",
       "    </tr>\n",
       "    <tr>\n",
       "      <th>15</th>\n",
       "      <td>365</td>\n",
       "      <td>BC946</td>\n",
       "      <td>2053</td>\n",
       "      <td>30159</td>\n",
       "      <td>0000326132</td>\n",
       "      <td>10/05/17 17:06:52,000000</td>\n",
       "    </tr>\n",
       "    <tr>\n",
       "      <th>16</th>\n",
       "      <td>777</td>\n",
       "      <td>JC008</td>\n",
       "      <td>1967</td>\n",
       "      <td>32105</td>\n",
       "      <td>0000327103</td>\n",
       "      <td>10/05/17 16:23:50,000000</td>\n",
       "    </tr>\n",
       "    <tr>\n",
       "      <th>17</th>\n",
       "      <td>175</td>\n",
       "      <td>BC018</td>\n",
       "      <td>1532</td>\n",
       "      <td>27254</td>\n",
       "      <td>0000327178</td>\n",
       "      <td>10/05/17 12:46:13,000000</td>\n",
       "    </tr>\n",
       "    <tr>\n",
       "      <th>18</th>\n",
       "      <td>657</td>\n",
       "      <td>EA180</td>\n",
       "      <td>1570</td>\n",
       "      <td>30235</td>\n",
       "      <td>0000327455</td>\n",
       "      <td>10/05/17 13:05:19,000000</td>\n",
       "    </tr>\n",
       "    <tr>\n",
       "      <th>19</th>\n",
       "      <td>657</td>\n",
       "      <td>EA180</td>\n",
       "      <td>1548</td>\n",
       "      <td>38554</td>\n",
       "      <td>0000327791</td>\n",
       "      <td>10/05/17 12:54:17,000000</td>\n",
       "    </tr>\n",
       "  </tbody>\n",
       "</table>\n",
       "</div>"
      ],
      "text/plain": [
       "   route busCode  sec_group  busStopId     cardNum             cardTimestamp\n",
       "0    828   LA053       1496      35350  0000229948  10/05/17 12:28:19,000000\n",
       "1    050   LA054       1458      32417  0000310241  10/05/17 12:09:23,000000\n",
       "2    531   EA169        897      29960  0000314357  10/05/17 07:28:31,000000\n",
       "3    335   DR406        905      33604  0000314918  10/05/17 07:32:52,000000\n",
       "4    216   CA600       2051      29165  0000317896  10/05/17 17:05:57,000000\n",
       "5    002   DN029       2270      40026  0000321169  10/05/17 18:55:17,000000\n",
       "6    811   BA018       1975      30515  0000321469  10/05/17 16:27:47,000000\n",
       "7    779   JC865        710      33571  0000321916  10/05/17 05:55:17,000000\n",
       "8    646   HA006       1578      38516  0000322132  10/05/17 13:09:01,000000\n",
       "9    205   BC306        984      29085  0000323896  10/05/17 08:12:02,000000\n",
       "10   673   HN615        903      32125  0000323978  10/05/17 07:31:54,000000\n",
       "11   673   HN615        903      32122  0000323978  10/05/17 07:31:54,000000\n",
       "12   371   BC030        854      31802  0000325558  10/05/17 07:07:05,000000\n",
       "13   812   BA022       1547      30316  0000326007  10/05/17 12:53:38,000000\n",
       "14   285   BN628        862      28991  0000326054  10/05/17 07:11:20,000000\n",
       "15   365   BC946       2053      30159  0000326132  10/05/17 17:06:52,000000\n",
       "16   777   JC008       1967      32105  0000327103  10/05/17 16:23:50,000000\n",
       "17   175   BC018       1532      27254  0000327178  10/05/17 12:46:13,000000\n",
       "18   657   EA180       1570      30235  0000327455  10/05/17 13:05:19,000000\n",
       "19   657   EA180       1548      38554  0000327791  10/05/17 12:54:17,000000"
      ]
     },
     "execution_count": 29,
     "metadata": {},
     "output_type": "execute_result"
    }
   ],
   "source": [
    "user_boardings.select(['route','busCode','sec_group','busStopId','cardNum','cardTimestamp']).orderBy('cardNum','cardTimestamp').limit(20).toPandas()"
   ]
  },
  {
   "cell_type": "code",
   "execution_count": 30,
   "metadata": {},
   "outputs": [
    {
     "name": "stdout",
     "output_type": "stream",
     "text": [
      "+-----+-------+-------------+--------------------+------------+----------+------+--------------+---------+\n",
      "|route|busCode|userBirthdate|       cardTimestamp|    lineName|   cardNum|gender|card_timestamp|sec_group|\n",
      "+-----+-------+-------------+--------------------+------------+----------+------+--------------+---------+\n",
      "|  673|  HN615|     01/03/59|10/05/17 07:31:54...|     FORMOSA|0000323978|     F|    1483266714|      903|\n",
      "|  000|  03009|     01/03/59|10/05/17 18:25:10...|OPER S/LINHA|0000323978|     F|    1483305910|     2210|\n",
      "|  665|  EC011|     01/03/59|10/05/17 17:01:34...|      V. REX|0000323978|     F|    1483300894|     2043|\n",
      "+-----+-------+-------------+--------------------+------------+----------+------+--------------+---------+\n",
      "\n"
     ]
    }
   ],
   "source": [
    "ticketing_data.filter(F.col('cardNum') == '0000323978').show()"
   ]
  },
  {
   "cell_type": "code",
   "execution_count": 31,
   "metadata": {
    "collapsed": true
   },
   "outputs": [],
   "source": [
    "single_located_buses = filtered_trips_data.dropDuplicates(subset=['route','busCode','gps_timestamp']).count()"
   ]
  },
  {
   "cell_type": "code",
   "execution_count": 32,
   "metadata": {},
   "outputs": [
    {
     "ename": "AttributeError",
     "evalue": "'int' object has no attribute '_jdf'",
     "output_type": "error",
     "traceback": [
      "\u001b[0;31m---------------------------------------------------------------------------\u001b[0m",
      "\u001b[0;31mAttributeError\u001b[0m                            Traceback (most recent call last)",
      "\u001b[0;32m<ipython-input-32-39e11a4f1ef6>\u001b[0m in \u001b[0;36m<module>\u001b[0;34m()\u001b[0m\n\u001b[0;32m----> 1\u001b[0;31m \u001b[0mmulti_located_buses\u001b[0m \u001b[0;34m=\u001b[0m \u001b[0mfiltered_trips_data\u001b[0m\u001b[0;34m.\u001b[0m\u001b[0msubtract\u001b[0m\u001b[0;34m(\u001b[0m\u001b[0msingle_located_buses\u001b[0m\u001b[0;34m)\u001b[0m\u001b[0;34m\u001b[0m\u001b[0m\n\u001b[0m\u001b[1;32m      2\u001b[0m \u001b[0mmulti_located_buses\u001b[0m\u001b[0;34m.\u001b[0m\u001b[0mlimit\u001b[0m\u001b[0;34m(\u001b[0m\u001b[0;36m40\u001b[0m\u001b[0;34m)\u001b[0m\u001b[0;34m.\u001b[0m\u001b[0mtoPandas\u001b[0m\u001b[0;34m(\u001b[0m\u001b[0;34m)\u001b[0m\u001b[0;34m\u001b[0m\u001b[0m\n",
      "\u001b[0;32m/local/tarciso/programs/spark-2.1.0-bin-hadoop2.7/python/pyspark/sql/dataframe.pyc\u001b[0m in \u001b[0;36msubtract\u001b[0;34m(self, other)\u001b[0m\n\u001b[1;32m   1144\u001b[0m         \u001b[0mThis\u001b[0m \u001b[0;32mis\u001b[0m \u001b[0mequivalent\u001b[0m \u001b[0mto\u001b[0m \u001b[0;34m`\u001b[0m\u001b[0mEXCEPT\u001b[0m\u001b[0;34m`\u001b[0m \u001b[0;32min\u001b[0m \u001b[0mSQL\u001b[0m\u001b[0;34m.\u001b[0m\u001b[0;34m\u001b[0m\u001b[0m\n\u001b[1;32m   1145\u001b[0m         \"\"\"\n\u001b[0;32m-> 1146\u001b[0;31m         \u001b[0;32mreturn\u001b[0m \u001b[0mDataFrame\u001b[0m\u001b[0;34m(\u001b[0m\u001b[0mgetattr\u001b[0m\u001b[0;34m(\u001b[0m\u001b[0mself\u001b[0m\u001b[0;34m.\u001b[0m\u001b[0m_jdf\u001b[0m\u001b[0;34m,\u001b[0m \u001b[0;34m\"except\"\u001b[0m\u001b[0;34m)\u001b[0m\u001b[0;34m(\u001b[0m\u001b[0mother\u001b[0m\u001b[0;34m.\u001b[0m\u001b[0m_jdf\u001b[0m\u001b[0;34m)\u001b[0m\u001b[0;34m,\u001b[0m \u001b[0mself\u001b[0m\u001b[0;34m.\u001b[0m\u001b[0msql_ctx\u001b[0m\u001b[0;34m)\u001b[0m\u001b[0;34m\u001b[0m\u001b[0m\n\u001b[0m\u001b[1;32m   1147\u001b[0m \u001b[0;34m\u001b[0m\u001b[0m\n\u001b[1;32m   1148\u001b[0m     \u001b[0;34m@\u001b[0m\u001b[0msince\u001b[0m\u001b[0;34m(\u001b[0m\u001b[0;36m1.4\u001b[0m\u001b[0;34m)\u001b[0m\u001b[0;34m\u001b[0m\u001b[0m\n",
      "\u001b[0;31mAttributeError\u001b[0m: 'int' object has no attribute '_jdf'"
     ]
    }
   ],
   "source": [
    "multi_located_buses = filtered_trips_data.subtract(single_located_buses)\n",
    "multi_located_buses.limit(40).toPandas()"
   ]
  },
  {
   "cell_type": "code",
   "execution_count": null,
   "metadata": {
    "collapsed": true
   },
   "outputs": [],
   "source": [
    "boarding_count = user_boardings.groupby('cardNum').count()"
   ]
  },
  {
   "cell_type": "code",
   "execution_count": null,
   "metadata": {},
   "outputs": [],
   "source": [
    "total_passengers = user_boardings.select('cardNum').distinct().count()\n",
    "print \"Total #Passengers:\", total_passengers"
   ]
  },
  {
   "cell_type": "code",
   "execution_count": null,
   "metadata": {
    "collapsed": true
   },
   "outputs": [],
   "source": [
    "#Filtering only users with more than one ride per day\n",
    "multiple_boardings = boarding_count.filter(F.col('count') > 1)"
   ]
  },
  {
   "cell_type": "code",
   "execution_count": null,
   "metadata": {},
   "outputs": [],
   "source": [
    "passengers_mult_boardings = multiple_boardings.count()\n",
    "prop_mult_boardings = 100*(passengers_mult_boardings)/total_passengers\n",
    "print \"Passengers with Multiple Boardings:\", passengers_mult_boardings, \"(\", prop_mult_boardings, \"%)\" \n",
    "multiple_boardings.show()"
   ]
  },
  {
   "cell_type": "code",
   "execution_count": null,
   "metadata": {
    "scrolled": true
   },
   "outputs": [],
   "source": [
    "#Taking a look at a sample:\n",
    "user_boardings.filter(F.col('cardNum') == '0002167105').limit(20).toPandas()"
   ]
  },
  {
   "cell_type": "code",
   "execution_count": null,
   "metadata": {
    "collapsed": true
   },
   "outputs": [],
   "source": []
  }
 ],
 "metadata": {
  "kernelspec": {
   "display_name": "Python 2",
   "language": "python",
   "name": "python2"
  },
  "language_info": {
   "codemirror_mode": {
    "name": "ipython",
    "version": 2
   },
   "file_extension": ".py",
   "mimetype": "text/x-python",
   "name": "python",
   "nbconvert_exporter": "python",
   "pygments_lexer": "ipython2",
   "version": "2.7.14"
  }
 },
 "nbformat": 4,
 "nbformat_minor": 2
}
