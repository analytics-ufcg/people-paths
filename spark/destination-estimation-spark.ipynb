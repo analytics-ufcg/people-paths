{
 "cells": [
  {
   "cell_type": "code",
   "execution_count": 3,
   "metadata": {
    "collapsed": true
   },
   "outputs": [],
   "source": [
    "import pyspark\n",
    "from pyspark import SparkContext\n",
    "from pyspark.sql.window import Window\n",
    "from pyspark.sql import functions as F\n",
    "from pyspark.sql import types as T\n",
    "\n",
    "import json\n",
    "import numpy as np\n",
    "#from pyspark.ml.feature import VectorAssembler\n",
    "#from pyspark.ml import Pipeline\n",
    "#from pyspark.ml.feature import StringIndexer\n",
    "#from pyspark.mllib.evaluation import RegressionMetrics"
   ]
  },
  {
   "cell_type": "code",
   "execution_count": 4,
   "metadata": {
    "collapsed": true
   },
   "outputs": [],
   "source": [
    "def rename_columns(df, list_of_tuples):\n",
    "    for (old_col, new_col) in list_of_tuples:\n",
    "        df = df.withColumnRenamed(old_col, new_col)\n",
    "\n",
    "    return df\n",
    "\n",
    "def read_file(filepath, sqlContext):\n",
    "    data_frame = sqlContext.read.format(\"com.databricks.spark.csv\") \\\n",
    "        .option(\"header\", \"false\") \\\n",
    "        .option(\"inferSchema\", \"true\") \\\n",
    "        .option(\"nullValue\", \"-\") \\\n",
    "        .load(filepath)\n",
    "\n",
    "    while len(data_frame.columns) < 16:\n",
    "        col_name = \"_c\" + str(len(data_frame.columns))\n",
    "        data_frame = data_frame.withColumn(col_name, F.lit(None))\n",
    "\n",
    "    data_frame = rename_columns(\n",
    "        data_frame,\n",
    "        [\n",
    "            (\"_c0\", \"route\"),\n",
    "            (\"_c1\", \"tripNum\"),\n",
    "            (\"_c2\", \"shapeId\"),\n",
    "            (\"_c3\", \"shapeSequence\"),\n",
    "            (\"_c4\", \"shapeLat\"),\n",
    "            (\"_c5\", \"shapeLon\"),\n",
    "            (\"_c6\", \"distanceTraveledShape\"),\n",
    "            (\"_c7\", \"busCode\"),\n",
    "            (\"_c8\", \"gpsPointId\"),\n",
    "            (\"_c9\", \"gpsLat\"),\n",
    "            (\"_c10\", \"gpsLon\"),\n",
    "            (\"_c11\", \"distanceToShapePoint\"),\n",
    "            (\"_c12\", \"timestamp\"),\n",
    "            (\"_c13\", \"busStopId\"),\n",
    "            (\"_c14\", \"problem\"),\n",
    "            (\"_c15\", \"numPassengers\")\n",
    "        ]\n",
    "    )\n",
    "\n",
    "    date = \"-\".join(filepath.split(\"/\")[-2].split(\"_\")[:3])\n",
    "\n",
    "    data_frame = data_frame.withColumn(\"date\", F.lit(date))\n",
    "\n",
    "    return data_frame"
   ]
  },
  {
   "cell_type": "markdown",
   "metadata": {
    "collapsed": true
   },
   "source": [
    "### Read Input Data"
   ]
  },
  {
   "cell_type": "code",
   "execution_count": 5,
   "metadata": {},
   "outputs": [],
   "source": [
    "sc = SparkContext.getOrCreate()\n",
    "sqlContext = pyspark.SQLContext(sc)"
   ]
  },
  {
   "cell_type": "code",
   "execution_count": 6,
   "metadata": {
    "collapsed": true
   },
   "outputs": [],
   "source": [
    "trips_data = read_file('/local/tarciso/data/sample-data/bulma-output/2017_05_11_veiculos.csv/part-00000', sqlContext)"
   ]
  },
  {
   "cell_type": "code",
   "execution_count": 7,
   "metadata": {},
   "outputs": [
    {
     "data": {
      "text/plain": [
       "[Row(route=u'372', tripNum=4, shapeId=1891, shapeSequence=6136916, shapeLat=-25.432724990605614, shapeLon=-49.27218701780396, distanceTraveledShape=10149.88, busCode=u'CC170', gpsPointId=None, gpsLat=None, gpsLon=None, distanceToShapePoint=None, timestamp=u'12:13:43', busStopId=None, problem=u'BETWEEN', numPassengers=None, date=u'2017-05-11'),\n",
       " Row(route=u'372', tripNum=4, shapeId=1891, shapeSequence=6136915, shapeLat=-25.432470122014415, shapeLon=-49.27231020615159, distanceTraveledShape=10119.046, busCode=u'CC170', gpsPointId=None, gpsLat=None, gpsLon=None, distanceToShapePoint=None, timestamp=u'12:45:14', busStopId=None, problem=u'BETWEEN', numPassengers=None, date=u'2017-05-11'),\n",
       " Row(route=u'372', tripNum=1, shapeId=1891, shapeSequence=6136650, shapeLat=-25.413362156585787, shapeLon=-49.20592429766663, distanceTraveledShape=79.983, busCode=u'CC170', gpsPointId=None, gpsLat=-25.413378, gpsLon=-49.205836, distanceToShapePoint=9.041484, timestamp=u'05:41:14', busStopId=None, problem=u'NO_PROBLEM', numPassengers=None, date=u'2017-05-11')]"
      ]
     },
     "execution_count": 7,
     "metadata": {},
     "output_type": "execute_result"
    }
   ],
   "source": [
    "trips_data.head(3)"
   ]
  },
  {
   "cell_type": "code",
   "execution_count": 8,
   "metadata": {},
   "outputs": [
    {
     "name": "stdout",
     "output_type": "stream",
     "text": [
      "root\n",
      " |-- route: string (nullable = true)\n",
      " |-- tripNum: integer (nullable = true)\n",
      " |-- shapeId: integer (nullable = true)\n",
      " |-- shapeSequence: integer (nullable = true)\n",
      " |-- shapeLat: double (nullable = true)\n",
      " |-- shapeLon: double (nullable = true)\n",
      " |-- distanceTraveledShape: double (nullable = true)\n",
      " |-- busCode: string (nullable = true)\n",
      " |-- gpsPointId: string (nullable = true)\n",
      " |-- gpsLat: double (nullable = true)\n",
      " |-- gpsLon: double (nullable = true)\n",
      " |-- distanceToShapePoint: double (nullable = true)\n",
      " |-- timestamp: string (nullable = true)\n",
      " |-- busStopId: integer (nullable = true)\n",
      " |-- problem: string (nullable = true)\n",
      " |-- numPassengers: integer (nullable = true)\n",
      " |-- date: string (nullable = false)\n",
      "\n"
     ]
    }
   ],
   "source": [
    "trips_data.printSchema()"
   ]
  },
  {
   "cell_type": "code",
   "execution_count": 9,
   "metadata": {},
   "outputs": [],
   "source": [
    "filepath = '/local/tarciso/data/sample-data/ticketing-sample/doc1-2017051115.txt'\n",
    "ticketing_data = sqlContext.read.json(filepath)"
   ]
  },
  {
   "cell_type": "code",
   "execution_count": 25,
   "metadata": {},
   "outputs": [
    {
     "name": "stdout",
     "output_type": "stream",
     "text": [
      "root\n",
      " |-- CODLINHA: string (nullable = true)\n",
      " |-- CODVEICULO: string (nullable = true)\n",
      " |-- DATANASCIMENTO: string (nullable = true)\n",
      " |-- DATAUTILIZACAO: string (nullable = true)\n",
      " |-- NOMELINHA: string (nullable = true)\n",
      " |-- NUMEROCARTAO: string (nullable = true)\n",
      " |-- SEXO: string (nullable = true)\n",
      " |-- new_DATAUTILIZACAO: long (nullable = true)\n",
      "\n"
     ]
    }
   ],
   "source": [
    "ticketing_data.printSchema()"
   ]
  },
  {
   "cell_type": "code",
   "execution_count": 26,
   "metadata": {},
   "outputs": [
    {
     "data": {
      "text/plain": [
       "[Row(CODLINHA=u'021', CODVEICULO=u'08046', DATANASCIMENTO=u'26/01/72', DATAUTILIZACAO=u'10/05/17 20:15:16,000000', NOMELINHA=u'INTERB II ANTI H', NUMEROCARTAO=u'0001937533', SEXO=u'F', new_DATAUTILIZACAO=1483312516),\n",
       " Row(CODLINHA=u'021', CODVEICULO=u'08027', DATANASCIMENTO=u'26/01/72', DATAUTILIZACAO=u'10/05/17 13:10:24,000000', NOMELINHA=u'INTERB II ANTI H', NUMEROCARTAO=u'0001937533', SEXO=u'F', new_DATAUTILIZACAO=1483287024),\n",
       " Row(CODLINHA=u'623', CODVEICULO=u'HA022', DATANASCIMENTO=u'06/03/71', DATAUTILIZACAO=u'10/05/17 08:23:45,000000', NOMELINHA=u'PQ.INDUSTRIAL', NUMEROCARTAO=u'0001311020', SEXO=u'F', new_DATAUTILIZACAO=1483269825),\n",
       " Row(CODLINHA=u'000', CODVEICULO=u'03023', DATANASCIMENTO=u'06/03/71', DATAUTILIZACAO=u'10/05/17 11:54:19,000000', NOMELINHA=u'OPER S/LINHA', NUMEROCARTAO=u'0001311020', SEXO=u'F', new_DATAUTILIZACAO=1483282459),\n",
       " Row(CODLINHA=u'TPH', CODVEICULO=u'03019', DATANASCIMENTO=u'23/11/79', DATAUTILIZACAO=u'10/05/17 13:30:10,000000', NOMELINHA=u'TERMINAL PINHEIRINHO', NUMEROCARTAO=u'0002425635', SEXO=u'F', new_DATAUTILIZACAO=1483288210)]"
      ]
     },
     "execution_count": 26,
     "metadata": {},
     "output_type": "execute_result"
    }
   ],
   "source": [
    "ticketing_data.head(5)"
   ]
  },
  {
   "cell_type": "markdown",
   "metadata": {},
   "source": [
    "## Pre-processing data"
   ]
  },
  {
   "cell_type": "code",
   "execution_count": 20,
   "metadata": {},
   "outputs": [],
   "source": [
    "trips_data = trips_data.withColumn(\"gps_timestamp\", F.concat(F.col(\"date\"), F.lit(\" \"), F.col(\"timestamp\")))\n",
    "trips_data = trips_data.withColumn(\"gps_timestamp\", F.unix_timestamp(F.col(\"gps_timestamp\"), \"YYYY-MM-DD HH:mm:ss\"))"
   ]
  },
  {
   "cell_type": "code",
   "execution_count": 22,
   "metadata": {},
   "outputs": [
    {
     "name": "stdout",
     "output_type": "stream",
     "text": [
      "+----------+---------+-------------+\n",
      "|      date|timestamp|gps_timestamp|\n",
      "+----------+---------+-------------+\n",
      "|2017-05-11| 12:13:43|   1483283623|\n",
      "|2017-05-11| 12:45:14|   1483285514|\n",
      "|2017-05-11| 05:41:14|   1483260074|\n",
      "|2017-05-11| 05:41:16|   1483260076|\n",
      "|2017-05-11| 05:41:20|   1483260080|\n",
      "|2017-05-11| 05:41:27|   1483260087|\n",
      "|2017-05-11| 05:41:31|   1483260091|\n",
      "|2017-05-11| 05:41:33|   1483260093|\n",
      "|2017-05-11| 05:41:37|   1483260097|\n",
      "|2017-05-11| 05:41:45|   1483260105|\n",
      "|2017-05-11| 05:41:47|   1483260107|\n",
      "|2017-05-11| 05:41:52|   1483260112|\n",
      "|2017-05-11| 05:42:00|   1483260120|\n",
      "|2017-05-11| 05:42:03|   1483260123|\n",
      "|2017-05-11| 05:42:08|   1483260128|\n",
      "|2017-05-11| 05:42:12|   1483260132|\n",
      "|2017-05-11| 05:42:17|   1483260137|\n",
      "|2017-05-11| 05:42:21|   1483260141|\n",
      "|2017-05-11| 05:42:23|   1483260143|\n",
      "|2017-05-11| 05:42:25|   1483260145|\n",
      "+----------+---------+-------------+\n",
      "only showing top 20 rows\n",
      "\n"
     ]
    }
   ],
   "source": [
    "trips_data.select([\"date\",\"timestamp\",\"gps_timestamp\"]).show()"
   ]
  },
  {
   "cell_type": "code",
   "execution_count": 27,
   "metadata": {
    "collapsed": true
   },
   "outputs": [],
   "source": [
    "ticketing_data = ticketing_data.withColumn(\"card_timestamp\", F.unix_timestamp(F.col(\"DATAUTILIZACAO\"), \"DD/MM/YY HH:mm:ss\"))"
   ]
  },
  {
   "cell_type": "code",
   "execution_count": 28,
   "metadata": {},
   "outputs": [
    {
     "name": "stdout",
     "output_type": "stream",
     "text": [
      "+--------------------+--------------+\n",
      "|      DATAUTILIZACAO|card_timestamp|\n",
      "+--------------------+--------------+\n",
      "|10/05/17 20:15:16...|    1483312516|\n",
      "|10/05/17 13:10:24...|    1483287024|\n",
      "|10/05/17 08:23:45...|    1483269825|\n",
      "|10/05/17 11:54:19...|    1483282459|\n",
      "|10/05/17 13:30:10...|    1483288210|\n",
      "|10/05/17 07:52:52...|    1483267972|\n",
      "|10/05/17 18:34:06...|    1483306446|\n",
      "|10/05/17 06:15:31...|    1483262131|\n",
      "|10/05/17 17:57:28...|    1483304248|\n",
      "|10/05/17 10:03:56...|    1483275836|\n",
      "|10/05/17 13:35:56...|    1483288556|\n",
      "|10/05/17 07:50:18...|    1483267818|\n",
      "|10/05/17 12:26:01...|    1483284361|\n",
      "|10/05/17 14:34:27...|    1483292067|\n",
      "|10/05/17 14:34:30...|    1483292070|\n",
      "|10/05/17 14:34:32...|    1483292072|\n",
      "|10/05/17 14:02:43...|    1483290163|\n",
      "|10/05/17 11:04:25...|    1483279465|\n",
      "|10/05/17 06:44:08...|    1483263848|\n",
      "|10/05/17 17:38:18...|    1483303098|\n",
      "+--------------------+--------------+\n",
      "only showing top 20 rows\n",
      "\n"
     ]
    }
   ],
   "source": [
    "ticketing_data.select([\"DATAUTILIZACAO\",\"card_timestamp\"]).show()"
   ]
  },
  {
   "cell_type": "code",
   "execution_count": 39,
   "metadata": {},
   "outputs": [],
   "source": [
    "curr_date = trips_data.sample(False, 0.1, seed=0).limit(1).withColumn(\"curr_date\", F.unix_timestamp(F.col(\"date\"), \"YYYY-MM-DD\")).select(\"curr_date\").rdd.flatMap(list).first()"
   ]
  },
  {
   "cell_type": "code",
   "execution_count": 40,
   "metadata": {},
   "outputs": [
    {
     "name": "stdout",
     "output_type": "stream",
     "text": [
      "1483239600\n"
     ]
    }
   ],
   "source": [
    "print curr_date"
   ]
  },
  {
   "cell_type": "code",
   "execution_count": 42,
   "metadata": {},
   "outputs": [],
   "source": [
    "def get_group_N_sec(timestamp,curr_date_timestamp,N):\n",
    "    secs_since_midnight = timestamp-curr_date_timestamp\n",
    "    return(F.floor(secs_since_midnight/N))"
   ]
  },
  {
   "cell_type": "code",
   "execution_count": 43,
   "metadata": {},
   "outputs": [
    {
     "name": "stdout",
     "output_type": "stream",
     "text": [
      "+--------------+---------+\n",
      "|card_timestamp|sec_group|\n",
      "+--------------+---------+\n",
      "|    1483312516|     2430|\n",
      "|    1483287024|     1580|\n",
      "|    1483269825|     1007|\n",
      "|    1483282459|     1428|\n",
      "|    1483288210|     1620|\n",
      "|    1483267972|      945|\n",
      "|    1483306446|     2228|\n",
      "|    1483262131|      751|\n",
      "|    1483304248|     2154|\n",
      "|    1483275836|     1207|\n",
      "|    1483288556|     1631|\n",
      "|    1483267818|      940|\n",
      "|    1483284361|     1492|\n",
      "|    1483292067|     1748|\n",
      "|    1483292070|     1749|\n",
      "|    1483292072|     1749|\n",
      "|    1483290163|     1685|\n",
      "|    1483279465|     1328|\n",
      "|    1483263848|      808|\n",
      "|    1483303098|     2116|\n",
      "+--------------+---------+\n",
      "only showing top 20 rows\n",
      "\n"
     ]
    }
   ],
   "source": [
    "ticketing_data = ticketing_data.withColumn(\"sec_group\",get_group_N_sec(F.col(\"card_timestamp\"),curr_date,30))\n",
    "ticketing_data.select([\"card_timestamp\",\"sec_group\"]).show()"
   ]
  },
  {
   "cell_type": "code",
   "execution_count": 44,
   "metadata": {},
   "outputs": [
    {
     "name": "stdout",
     "output_type": "stream",
     "text": [
      "+-------------+---------+\n",
      "|gps_timestamp|sec_group|\n",
      "+-------------+---------+\n",
      "|   1483283623|     1467|\n",
      "|   1483285514|     1530|\n",
      "|   1483260074|      682|\n",
      "|   1483260076|      682|\n",
      "|   1483260080|      682|\n",
      "|   1483260087|      682|\n",
      "|   1483260091|      683|\n",
      "|   1483260093|      683|\n",
      "|   1483260097|      683|\n",
      "|   1483260105|      683|\n",
      "|   1483260107|      683|\n",
      "|   1483260112|      683|\n",
      "|   1483260120|      684|\n",
      "|   1483260123|      684|\n",
      "|   1483260128|      684|\n",
      "|   1483260132|      684|\n",
      "|   1483260137|      684|\n",
      "|   1483260141|      684|\n",
      "|   1483260143|      684|\n",
      "|   1483260145|      684|\n",
      "+-------------+---------+\n",
      "only showing top 20 rows\n",
      "\n"
     ]
    }
   ],
   "source": [
    "trips_data = trips_data.withColumn(\"sec_group\",get_group_N_sec(F.col(\"gps_timestamp\"),curr_date,30))\n",
    "trips_data.select([\"gps_timestamp\",\"sec_group\"]).show()"
   ]
  },
  {
   "cell_type": "code",
   "execution_count": null,
   "metadata": {
    "collapsed": true
   },
   "outputs": [],
   "source": []
  }
 ],
 "metadata": {
  "kernelspec": {
   "display_name": "Python 2",
   "language": "python",
   "name": "python2"
  },
  "language_info": {
   "codemirror_mode": {
    "name": "ipython",
    "version": 2
   },
   "file_extension": ".py",
   "mimetype": "text/x-python",
   "name": "python",
   "nbconvert_exporter": "python",
   "pygments_lexer": "ipython2",
   "version": "2.7.13"
  }
 },
 "nbformat": 4,
 "nbformat_minor": 2
}
