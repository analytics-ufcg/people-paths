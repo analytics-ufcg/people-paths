{
 "cells": [
  {
   "cell_type": "code",
   "execution_count": 2,
   "metadata": {
    "collapsed": true
   },
   "outputs": [],
   "source": [
    "import pyspark\n",
    "from pyspark import SparkContext\n",
    "from pyspark.sql.window import Window\n",
    "from pyspark.sql import functions as F\n",
    "from pyspark.sql import types as T\n",
    "\n",
    "import json\n",
    "import numpy as np"
   ]
  },
  {
   "cell_type": "code",
   "execution_count": 45,
   "metadata": {
    "collapsed": true
   },
   "outputs": [],
   "source": [
    "def rename_columns(df, list_of_tuples):\n",
    "    for (old_col, new_col) in list_of_tuples:\n",
    "        df = df.withColumnRenamed(old_col, new_col)\n",
    "    return df\n",
    "\n",
    "def read_hdfs_folder(sqlContext, folderpath):\n",
    "    data_frame = sqlContext.read.format(\"com.databricks.spark.csv\")\\\n",
    "        .option(\"header\", \"true\")\\\n",
    "        .option(\"inferSchema\", \"true\") \\\n",
    "        .option(\"nullValue\", \"-\")\\\n",
    "        .load(folderpath)\n",
    "        \n",
    "    data_frame = rename_columns(\n",
    "        data_frame,\n",
    "        [\n",
    "            (\"cardNum18\", \"cardNum\"),\n",
    "            (\"cardNum19\", \"userGender\"),\n",
    "        ]\n",
    "    )\n",
    "    \n",
    "    date = \"-\".join(folderpath.split(\"/\")[-2].split(\"_\")[:3])\n",
    "\n",
    "    data_frame = data_frame.withColumn(\"date\", F.lit(date))\n",
    "    data_frame = data_frame.withColumn(\"date\", F.date_sub(F.col(\"date\"),1))\n",
    "\n",
    "    return data_frame\n",
    "\n",
    "def read_buste_data_v3(sqlContext, filepath):\n",
    "    data_frame = sqlContext.read.csv(filepath, header=True,\n",
    "                                     inferSchema=True,nullValue=\"-\")\n",
    "    \n",
    "    date = \"-\".join(filepath.split(\"/\")[-2].split(\"_\")[:3])\n",
    "\n",
    "    data_frame = data_frame.withColumn(\"date\", F.lit(date))\n",
    "    data_frame = data_frame.withColumn(\"date\", F.unix_timestamp(F.date_sub(F.col(\"date\"),1),'yyyy-MM-dd'))\n",
    "    \n",
    "    return data_frame\n",
    "\n",
    "def printdf(df,l=10):\n",
    "    return df.limit(l).toPandas()"
   ]
  },
  {
   "cell_type": "code",
   "execution_count": null,
   "metadata": {
    "collapsed": true
   },
   "outputs": [],
   "source": []
  }
 ],
 "metadata": {
  "kernelspec": {
   "display_name": "Python 2",
   "language": "python",
   "name": "python2"
  },
  "language_info": {
   "codemirror_mode": {
    "name": "ipython",
    "version": 2
   },
   "file_extension": ".py",
   "mimetype": "text/x-python",
   "name": "python",
   "nbconvert_exporter": "python",
   "pygments_lexer": "ipython2",
   "version": "2.7.14"
  }
 },
 "nbformat": 4,
 "nbformat_minor": 2
}
