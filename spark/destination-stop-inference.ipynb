{
 "cells": [
  {
   "cell_type": "code",
   "execution_count": null,
   "metadata": {
    "collapsed": true
   },
   "outputs": [],
   "source": [
    "import pyspark\n",
    "from pyspark import SparkContext\n",
    "from pyspark.sql.window import Window\n",
    "from pyspark.sql import functions as F\n",
    "from pyspark.sql import types as T\n",
    "\n",
    "import json\n",
    "import numpy as np\n",
    "import time"
   ]
  },
  {
   "cell_type": "code",
   "execution_count": null,
   "metadata": {
    "collapsed": true
   },
   "outputs": [],
   "source": [
    "def rename_columns(df, list_of_tuples):\n",
    "    for (old_col, new_col) in list_of_tuples:\n",
    "        df = df.withColumnRenamed(old_col, new_col)\n",
    "    return df\n",
    "\n",
    "def read_data(sqlContext, filepath):\n",
    "    df = sqlContext.read.format(\"com.databricks.spark.csv\")\\\n",
    "        .option(\"header\", \"true\")\\\n",
    "        .option(\"inferSchema\", \"true\") \\\n",
    "        .option(\"nullValue\", \"-\")\\\n",
    "        .load(filepath)\n",
    "\n",
    "    return df\n",
    "\n",
    "def read_buste_data_v3(filepath, sqlContext):\n",
    "    data_frame = sqlContext.read.csv(filepath, header=False,\n",
    "                                     inferSchema=True,nullValue=\"-\")\n",
    "    while len(data_frame.columns) < 16:\n",
    "        col_name = \"_c\" + str(len(data_frame.columns))\n",
    "        data_frame = data_frame.withColumn(col_name, F.lit(None))\n",
    "\n",
    "    data_frame = rename_columns(\n",
    "        data_frame,\n",
    "        [\n",
    "            (\"_c0\", \"route\"),\n",
    "            (\"_c1\", \"tripNum\"),\n",
    "            (\"_c2\", \"shapeId\"),\n",
    "            (\"_c3\", \"shapeSequence\"),\n",
    "            (\"_c4\", \"shapeLat\"),\n",
    "            (\"_c5\", \"shapeLon\"),\n",
    "            (\"_c6\", \"distanceTraveledShape\"),\n",
    "            (\"_c7\", \"busCode\"),\n",
    "            (\"_c8\", \"gpsPointId\"),\n",
    "            (\"_c9\", \"gpsLat\"),\n",
    "            (\"_c10\", \"gpsLon\"),\n",
    "            (\"_c11\", \"distanceToShapePoint\"),\n",
    "            (\"_c12\", \"timestamp\"),\n",
    "            (\"_c13\", \"busStopId\"),\n",
    "            (\"_c14\", \"problem\"),\n",
    "            (\"_c15\", \"userBirthdate\"),\n",
    "            (\"_c16\", \"cardTimestamp\"),\n",
    "            (\"_c17\", \"lineName\"),\n",
    "            (\"_c18\", \"cardNum\"),\n",
    "            (\"_c19\", \"userGender\"),\n",
    "        ]\n",
    "    )\n",
    "\n",
    "    date = \"-\".join(filepath.split(\"/\")[-2].split(\"_\")[:3])\n",
    "\n",
    "    data_frame = data_frame.withColumn(\"date\", F.lit(date))\n",
    "    data_frame = data_frame.withColumn(\"date\", F.date_sub(F.col(\"date\"),1))\n",
    "    \n",
    "    return data_frame\n",
    "\n",
    "def read_buste_data_old(filepath, sqlContext):\n",
    "    data_frame = sqlContext.read.csv(filepath, header=False,\n",
    "                                     inferSchema=True,nullValue=\"-\")\n",
    "    while len(data_frame.columns) < 16:\n",
    "        col_name = \"_c\" + str(len(data_frame.columns))\n",
    "        data_frame = data_frame.withColumn(col_name, F.lit(None))\n",
    "\n",
    "    data_frame = rename_columns(\n",
    "        data_frame,\n",
    "        [\n",
    "            (\"_c0\", \"route\"),\n",
    "            (\"_c1\", \"tripNum\"),\n",
    "            (\"_c2\", \"shapeId\"),\n",
    "            (\"_c3\", \"shapeSequence\"),\n",
    "            (\"_c4\", \"shapeLat\"),\n",
    "            (\"_c5\", \"shapeLon\"),\n",
    "            (\"_c6\", \"distanceTraveledShape\"),\n",
    "            (\"_c7\", \"busCode\"),\n",
    "            (\"_c8\", \"gpsPointId\"),\n",
    "            (\"_c9\", \"gpsLat\"),\n",
    "            (\"_c10\", \"gpsLon\"),\n",
    "            (\"_c11\", \"distanceToShapePoint\"),\n",
    "            (\"_c12\", \"timestamp\"),\n",
    "            (\"_c13\", \"busStopId\"),\n",
    "            (\"_c14\", \"problem\"),\n",
    "            (\"_c15\", \"numPassengers\")\n",
    "        ]\n",
    "    )\n",
    "\n",
    "    date = \"-\".join(filepath.split(\"/\")[-2].split(\"_\")[:3])\n",
    "\n",
    "    data_frame = data_frame.withColumn(\"date\", F.lit(date))\n",
    "    data_frame = data_frame.withColumn(\"date\", F.date_sub(F.col(\"date\"),1))\n",
    "    \n",
    "    return data_frame\n",
    "\n",
    "def print_df(df,l=10):\n",
    "    return df.limit(l).toPandas()"
   ]
  },
  {
   "cell_type": "markdown",
   "metadata": {},
   "source": [
    "### Read Pre-OD Data"
   ]
  },
  {
   "cell_type": "code",
   "execution_count": null,
   "metadata": {
    "collapsed": true
   },
   "outputs": [],
   "source": [
    "sc = SparkContext.getOrCreate()\n",
    "sqlContext = pyspark.SQLContext(sc)"
   ]
  },
  {
   "cell_type": "code",
   "execution_count": null,
   "metadata": {},
   "outputs": [],
   "source": [
    "exp_data_folder_path = '/local/tarciso/masters/experiments/preliminary-exp/preliminary-exp-sample-data/'\n",
    "pre_od_data = read_data(sqlContext,exp_data_folder_path + 'pre_od_matrix') \\\n",
    "                .orderBy(['cardNum','o_date','o_timestamp'])"
   ]
  },
  {
   "cell_type": "code",
   "execution_count": null,
   "metadata": {},
   "outputs": [],
   "source": [
    "print_df(pre_od_data)"
   ]
  },
  {
   "cell_type": "code",
   "execution_count": null,
   "metadata": {},
   "outputs": [],
   "source": [
    "pre_od_data.columns"
   ]
  },
  {
   "cell_type": "markdown",
   "metadata": {},
   "source": [
    "### Reading Bus Trip Data"
   ]
  },
  {
   "cell_type": "code",
   "execution_count": null,
   "metadata": {
    "collapsed": true
   },
   "outputs": [],
   "source": [
    "old_exp_data_folder_path = '/local/tarciso/masters/experiments/preliminary-exp/preliminary-exp-sample-data/back-bulma-output'\n",
    "bus_trip_data = read_buste_data_old(old_exp_data_folder_path + '/2017_05_11_veiculos.csv/part-00000', sqlContext)"
   ]
  },
  {
   "cell_type": "code",
   "execution_count": null,
   "metadata": {
    "collapsed": true
   },
   "outputs": [],
   "source": [
    "bus_trip_data = bus_trip_data.withColumn(\"date\", F.date_sub(F.col(\"date\"), 1))\n",
    "bus_trip_data = bus_trip_data.withColumn(\"gps_timestamp\", F.concat(F.col(\"date\"), F.lit(\" \"), F.col(\"timestamp\")))\n",
    "bus_trip_data = bus_trip_data.withColumn(\"gps_timestamp_in_secs\", F.unix_timestamp(F.col(\"gps_timestamp\"), \"yyyy-MM-dd HH:mm:ss\"))"
   ]
  },
  {
   "cell_type": "code",
   "execution_count": null,
   "metadata": {
    "collapsed": true
   },
   "outputs": [],
   "source": [
    "bus_trip_data = bus_trip_data.na.drop(subset=[\"route\",\"busCode\",\"busStopId\",\"gps_timestamp_in_secs\",\"tripNum\"]) \\\n",
    "                             .dropDuplicates(['route','busCode','tripNum','busStopId']) \\\n",
    "                             .orderBy(['route','busCode','tripNum','gps_timestamp_in_secs']) \\\n",
    "                             .withColumn('id',F.monotonically_increasing_id()) \\\n",
    "                             .withColumn('route', F.col('route').cast(T.IntegerType()))"
   ]
  },
  {
   "cell_type": "code",
   "execution_count": null,
   "metadata": {
    "scrolled": false
   },
   "outputs": [],
   "source": [
    "print_df(bus_trip_data)"
   ]
  },
  {
   "cell_type": "markdown",
   "metadata": {},
   "source": [
    "### Testing with new BUSTE data"
   ]
  },
  {
   "cell_type": "code",
   "execution_count": null,
   "metadata": {
    "collapsed": true
   },
   "outputs": [],
   "source": [
    "#bus_trip_data_new = read_file(exp_data_folder_path + '/bulma-output/2017_05_11_veiculos.csv/part-00000', sqlContext) \\\n",
    "#                    .na.drop(subset=[\"route\",\"busCode\",\"busStopId\",\"timestamp\",\"tripNum\"])"
   ]
  },
  {
   "cell_type": "code",
   "execution_count": null,
   "metadata": {
    "collapsed": true
   },
   "outputs": [],
   "source": [
    "#print_df(bus_trip_data_new.select(['route','busCode','tripNum','busStopId','timestamp']) \\\n",
    "#         .filter('route == 022') \\\n",
    "#         .orderBy(['route','busCode','tripNum','busStopId','timestamp']), l=40)"
   ]
  },
  {
   "cell_type": "markdown",
   "metadata": {},
   "source": [
    "### Building stops-distance table"
   ]
  },
  {
   "cell_type": "code",
   "execution_count": null,
   "metadata": {
    "collapsed": true
   },
   "outputs": [],
   "source": [
    "#busStops = bus_trip_data.select(['busStopId','shapeLat','shapeLon']).dropDuplicates(['busStopId'])"
   ]
  },
  {
   "cell_type": "code",
   "execution_count": null,
   "metadata": {
    "collapsed": true
   },
   "outputs": [],
   "source": [
    "#print busStops.count()\n",
    "#print_df(busStops)"
   ]
  },
  {
   "cell_type": "code",
   "execution_count": null,
   "metadata": {
    "collapsed": true
   },
   "outputs": [],
   "source": [
    "#o_busStops = rename_columns(\n",
    "#        busStops,\n",
    "#        [\n",
    "#            (\"busStopId\", \"o_busStopId\"),\n",
    "#            (\"shapeLat\", \"o_shapeLat\"),\n",
    "#            (\"shapeLon\", \"o_shapeLon\")\n",
    "#        ]\n",
    "#    )\n",
    "#\n",
    "#d_busStops = rename_columns(\n",
    "#        busStops,\n",
    "#        [\n",
    "#            (\"busStopId\", \"d_busStopId\"),\n",
    "#            (\"shapeLat\", \"d_shapeLat\"),\n",
    "#            (\"shapeLon\", \"d_shapeLon\")\n",
    "#        ]\n",
    "#    )"
   ]
  },
  {
   "cell_type": "code",
   "execution_count": null,
   "metadata": {
    "collapsed": true
   },
   "outputs": [],
   "source": [
    "#print_df(o_busStops)"
   ]
  },
  {
   "cell_type": "code",
   "execution_count": null,
   "metadata": {
    "collapsed": true
   },
   "outputs": [],
   "source": [
    "#print_df(d_busStops)"
   ]
  },
  {
   "cell_type": "code",
   "execution_count": null,
   "metadata": {
    "collapsed": true
   },
   "outputs": [],
   "source": [
    "#stops_dist_table = o_busStops.crossJoin(d_busStops)"
   ]
  },
  {
   "cell_type": "code",
   "execution_count": null,
   "metadata": {
    "collapsed": true
   },
   "outputs": [],
   "source": [
    "#print_df(stops_dist_table)"
   ]
  },
  {
   "cell_type": "code",
   "execution_count": null,
   "metadata": {
    "collapsed": true
   },
   "outputs": [],
   "source": [
    "#stops_dist_table.count()"
   ]
  },
  {
   "cell_type": "code",
   "execution_count": null,
   "metadata": {
    "collapsed": true
   },
   "outputs": [],
   "source": [
    "def dist(long_x, lat_x, long_y, lat_y):\n",
    "    return F.acos(\n",
    "        F.sin(F.toRadians(lat_x)) * F.sin(F.toRadians(lat_y)) + \n",
    "        F.cos(F.toRadians(lat_x)) * F.cos(F.toRadians(lat_y)) * \n",
    "            F.cos(F.toRadians(long_x) - F.toRadians(long_y))\n",
    "    ) * F.lit(6371.0)"
   ]
  },
  {
   "cell_type": "code",
   "execution_count": null,
   "metadata": {
    "collapsed": true
   },
   "outputs": [],
   "source": [
    "#stops_dist_table = stops_dist_table.withColumn(\"dist\", dist('o_shapeLon', 'o_shapeLat','d_shapeLon','d_shapeLat'))"
   ]
  },
  {
   "cell_type": "code",
   "execution_count": null,
   "metadata": {
    "collapsed": true
   },
   "outputs": [],
   "source": [
    "#print_df(stops_dist_table)"
   ]
  },
  {
   "cell_type": "code",
   "execution_count": null,
   "metadata": {
    "collapsed": true
   },
   "outputs": [],
   "source": [
    "def get_stops_dist(stops_dist_df,stopA,stopB):\n",
    "    return stops_dist_df.where(\n",
    "        (F.col('o_busStopId') == stopA) &\n",
    "        (F.col('d_busStopId') == stopB)).select('dist').collect()[0][0]\n",
    "\n",
    "get_stops_dist_udf = F.udf(get_stops_dist)"
   ]
  },
  {
   "cell_type": "code",
   "execution_count": null,
   "metadata": {
    "collapsed": true
   },
   "outputs": [],
   "source": [
    "#get_stops_dist(stops_dist_table,31261,33717)"
   ]
  },
  {
   "cell_type": "markdown",
   "metadata": {},
   "source": [
    "### Finding the closest alighting stop to next trip boarding"
   ]
  },
  {
   "cell_type": "code",
   "execution_count": null,
   "metadata": {
    "collapsed": true
   },
   "outputs": [],
   "source": [
    "trips_data = read_data(sqlContext,'/local/tarciso/data/gtfs/curitiba/trips.txt')"
   ]
  },
  {
   "cell_type": "code",
   "execution_count": null,
   "metadata": {},
   "outputs": [],
   "source": [
    "#print_df(trips_data)"
   ]
  },
  {
   "cell_type": "code",
   "execution_count": null,
   "metadata": {
    "collapsed": true
   },
   "outputs": [],
   "source": [
    "stops_data = read_data(sqlContext,'/local/tarciso/data/gtfs/curitiba/stops.txt')"
   ]
  },
  {
   "cell_type": "code",
   "execution_count": null,
   "metadata": {
    "scrolled": true
   },
   "outputs": [],
   "source": [
    "#print_df(stops_data)"
   ]
  },
  {
   "cell_type": "code",
   "execution_count": null,
   "metadata": {
    "collapsed": true
   },
   "outputs": [],
   "source": [
    "stop_times_data = read_data(sqlContext,'/local/tarciso/data/gtfs/curitiba/stop_times.txt')"
   ]
  },
  {
   "cell_type": "code",
   "execution_count": null,
   "metadata": {},
   "outputs": [],
   "source": [
    "#print_df(stop_times_data)"
   ]
  },
  {
   "cell_type": "code",
   "execution_count": null,
   "metadata": {
    "collapsed": true
   },
   "outputs": [],
   "source": [
    "shapes_stops = trips_data.join(stop_times_data,'trip_id', 'inner') \\\n",
    "                    .join(stops_data, 'stop_id', 'inner') \\\n",
    "                    .select(['shape_id','stop_id','stop_sequence', 'stop_lat','stop_lon']) \\\n",
    "                    .dropDuplicates(['shape_id','stop_id','stop_sequence']) \\\n",
    "                    .orderBy(['shape_id','stop_sequence'])"
   ]
  },
  {
   "cell_type": "code",
   "execution_count": null,
   "metadata": {
    "collapsed": true
   },
   "outputs": [],
   "source": [
    "def get_trip_next_stops(shape_stops_df,o_shape_id,o_stop_id):\n",
    "    shape_stops = shape_stops_df.filter((F.col('shape_id') == o_shape_id))\n",
    "    o_shape_stop = shape_stops.filter(F.col('stop_id') == o_stop_id).first()\n",
    "    \n",
    "    if (o_shape_stop == None):\n",
    "        print \"Stop\", o_stop_id, \"could not be found in shape\", o_shape_id\n",
    "        return None\n",
    "\n",
    "    o_stop_seq = o_shape_stop['stop_sequence']\n",
    "    return shape_stops.filter(F.col('stop_sequence') > o_stop_seq)"
   ]
  },
  {
   "cell_type": "code",
   "execution_count": null,
   "metadata": {
    "collapsed": true
   },
   "outputs": [],
   "source": [
    "def get_stop_lat_long(shape_stops_df,stop_id):\n",
    "    d_stop_df = shape_stops_df.filter(F.col('stop_id') == stop_id).first()\n",
    "    \n",
    "    if (d_stop_df == None):\n",
    "        print \"Stop\", o_stop_id, \"could not be found\"\n",
    "        return None\n",
    "    \n",
    "    return (d_stop_df['stop_lat'],d_stop_df['stop_lon'])"
   ]
  },
  {
   "cell_type": "code",
   "execution_count": null,
   "metadata": {
    "collapsed": true
   },
   "outputs": [],
   "source": [
    "def get_closest_next_stop(next_stops,d_stop_lat,d_stop_lon):\n",
    "    shape_next_stops = next_stops.withColumn('d_stop_lat',F.lit(d_stop_lat)) \\\n",
    "                                 .withColumn('d_stop_lon',F.lit(d_stop_lon))    \n",
    "    return shape_next_stops.withColumn('dist',dist('stop_lat', 'stop_lon','d_stop_lat','d_stop_lon')) \\\n",
    "                        .orderBy('dist') \\\n",
    "                        .select(['stop_lat', 'stop_lon','d_stop_lat','d_stop_lon','stop_id','dist']) \\\n",
    "                        .first()\n",
    "    "
   ]
  },
  {
   "cell_type": "code",
   "execution_count": null,
   "metadata": {},
   "outputs": [],
   "source": [
    "#tuple(value for value in pre_od_data.first()) + (1,)"
   ]
  },
  {
   "cell_type": "code",
   "execution_count": null,
   "metadata": {},
   "outputs": [],
   "source": [
    "#(None,)*6 + (-2,)"
   ]
  },
  {
   "cell_type": "code",
   "execution_count": null,
   "metadata": {},
   "outputs": [],
   "source": [
    "size_limit = 1\n",
    "\n",
    "destinations = [None] * size_limit\n",
    "index = 0\n",
    "\n",
    "for row in pre_od_data.limit(size_limit).rdd.collect():\n",
    "    orig_lat_long = get_stop_lat_long(shapes_stops,row['o_stop_id'])\n",
    "    \n",
    "    next_stops = get_trip_next_stops(shapes_stops,row['o_shape_id'],row['o_stop_id'])\n",
    "    \n",
    "    if (next_stops == None):\n",
    "        destinations[index] = (None,)*6 + (-1,)\n",
    "    else:\n",
    "        dest_lat_long = get_stop_lat_long(shapes_stops,row['d_stop_id'])\n",
    "\n",
    "        if dest_lat_long == None:\n",
    "            destinations[index] = (None,)*6 + (-2,)\n",
    "        else:\n",
    "            closest_next_stop = get_closest_next_stop(next_stops,dest_lat_long[0],dest_lat_long[1])\n",
    "            if closest_next_stop == None:\n",
    "                #print \"No Stop found!\"\n",
    "                destinations[index] = (None,)*6 + (-3,)\n",
    "            else:\n",
    "                print closest_next_stop\n",
    "                if closest_next_stop['dist'] <= 1:\n",
    "                    #print \"OK!\"\n",
    "                    #destinations[index] = (closest_next_stop['stop_id'],closest_next_stop['dist'],1)\n",
    "                    destinations[index] = tuple(v for v in closest_next_stop) + (1,)\n",
    "                else:\n",
    "                    #print \"Too far!\"\n",
    "                    destinations[index] = tuple(v for v in closest_next_stop) + (0,)\n",
    "                    \n",
    "                \n",
    "            \n",
    "    index+=1\n",
    "    \n",
    "\n",
    "    \n",
    "schema = T.StructType([\n",
    "    T.StructField(\"d_stop_id\", T.IntegerType(), True),\n",
    "    T.StructField(\"dist_to_next_o\", T.DoubleType(), True),\n",
    "    T.StructField(\"result\", T.IntegerType(), True)\n",
    "])\n",
    "\n",
    "destinations_df = sqlContext.createDataFrame([((tup[0]), (tup[1]), (tup[2])) for tup in destinations],schema)"
   ]
  },
  {
   "cell_type": "code",
   "execution_count": null,
   "metadata": {},
   "outputs": [],
   "source": [
    "print_df(destinations_df)"
   ]
  },
  {
   "cell_type": "code",
   "execution_count": null,
   "metadata": {
    "collapsed": true
   },
   "outputs": [],
   "source": [
    "destinations_df = rename_columns(destinations_df,[(\"d_stop_id\", \"est_d_stop_id\")])"
   ]
  },
  {
   "cell_type": "code",
   "execution_count": null,
   "metadata": {},
   "outputs": [],
   "source": [
    "pre_od_data_sample = pre_od_data.limit(200).withColumn('id', F.monotonically_increasing_id())\n",
    "destinations_sample = destinations_df.withColumn('id', F.monotonically_increasing_id())\n",
    "\n",
    "od_matrix_sample = pre_od_data_sample.join(destinations_sample, 'id', 'inner')"
   ]
  },
  {
   "cell_type": "code",
   "execution_count": null,
   "metadata": {},
   "outputs": [],
   "source": [
    "print_df(od_matrix_sample)"
   ]
  },
  {
   "cell_type": "code",
   "execution_count": null,
   "metadata": {},
   "outputs": [],
   "source": [
    "pre_od_data.count()"
   ]
  },
  {
   "cell_type": "markdown",
   "metadata": {},
   "source": [
    "### Trying with BUSTE trip lookup"
   ]
  },
  {
   "cell_type": "code",
   "execution_count": null,
   "metadata": {
    "collapsed": true
   },
   "outputs": [],
   "source": [
    "def get_buste_trip_next_stops(trips_df,route,bus_code,trip_num,o_stop_id,o_timestamp):\n",
    "    return trips_df.filter(((F.col('route') == route) & (F.col('busCode') == bus_code)) &\n",
    "                                 ((F.col('tripNum') == trip_num) & (F.col('gps_timestamp_in_secs') > o_timestamp)))"
   ]
  },
  {
   "cell_type": "code",
   "execution_count": null,
   "metadata": {},
   "outputs": [],
   "source": [
    "def get_buste_trip_next_stops2(trips_df,route,bus_code,trip_num,o_stop_id,o_timestamp):\n",
    "    w = Window.partitionBy([F.col('date'),F.col('route'),F.col('busCode'),F.col('tripNum')]) \\\n",
    "              .orderBy(F.col('gps_timestamp_in_secs'))\n",
    "    return trips_df.filter(((F.col('route') == route) & (F.col('busCode') == bus_code)) &\n",
    "                                 ((F.col('tripNum') == trip_num) & (F.col('gps_timestamp_in_secs') > o_timestamp)) \\\n",
    "                    .over(w))"
   ]
  },
  {
   "cell_type": "code",
   "execution_count": null,
   "metadata": {
    "collapsed": true
   },
   "outputs": [],
   "source": [
    "def get_closest_buste_trip_next_stop(next_stops,next_o_stop_lat,next_o_stop_lon):\n",
    "    trip_next_stops = next_stops.withColumn('next_o_stop_lat',F.lit(next_o_stop_lat)) \\\n",
    "                                 .withColumn('next_o_stop_lon',F.lit(next_o_stop_lon))    \n",
    "    return trip_next_stops.withColumn('dist',dist('shapeLat', 'shapeLon','next_o_stop_lat','next_o_stop_lon')) \\\n",
    "                        .orderBy('dist') \\\n",
    "                        .select(['id','dist']) \\\n",
    "                        .first()\n",
    "    "
   ]
  },
  {
   "cell_type": "code",
   "execution_count": null,
   "metadata": {},
   "outputs": [],
   "source": [
    "print_df(pre_od_data.limit(size_limit))"
   ]
  },
  {
   "cell_type": "code",
   "execution_count": null,
   "metadata": {},
   "outputs": [],
   "source": [
    "size_limit = 4\n",
    "\n",
    "destinations = [None] * size_limit\n",
    "index = 0\n",
    "\n",
    "for row in pre_od_data.limit(size_limit).rdd.collect():\n",
    "    st1 = time.time()\n",
    "    #next_stops = get_buste_trip_next_stops(bus_trip_data,row['o_route'],row['o_bus_code'],row['o_tripNum'],row['o_stop_id'],row['o_unixtimestamp'])\n",
    "    next_stops = get_buste_trip_next_stops2(bus_trip_data,row['o_route'],row['o_bus_code'],row['o_tripNum'],row['o_stop_id'],row['o_unixtimestamp'])\n",
    "    \n",
    "    if (next_stops.rdd.isEmpty()):\n",
    "        print \"No next stops found\"\n",
    "        print \"Time to run next stops:\", time.time() - st1\n",
    "#         destinations[index] = (None,)*6 + (-1,)\n",
    "    else:\n",
    "        print next_stops.count(), \"next stops found!\"\n",
    "        next_stops.show()\n",
    "        print \"Time to run next stops:\", time.time() - st1\n",
    "\n",
    "#         st2 = time.time()\n",
    "#         closest_next_stop = get_closest_buste_trip_next_stop(next_stops,row['next_o_shape_lat'],row['next_o_shape_lon'])\n",
    "#         closest_next_stop['id']\n",
    "#         print \"Time to run closest stop:\", time.time() - st2\n",
    "        \n",
    "        #if closest_next_stop == None:\n",
    "        #    print \"No Stop found!\"\n",
    "            #destinations[index] = (None,)*6 + (-3,)\n",
    "        #else:\n",
    "            #print closest_next_stop\n",
    "#                 if closest_next_stop['dist'] <= 1:\n",
    "#                     #print \"OK!\"\n",
    "#                     #destinations[index] = (closest_next_stop['stop_id'],closest_next_stop['dist'],1)\n",
    "#                     destinations[index] = tuple(v for v in closest_next_stop) + (1,)\n",
    "#                 else:\n",
    "#                     #print \"Too far!\"\n",
    "#                     destinations[index] = tuple(v for v in closest_next_stop) + (0,)\n",
    "                    \n",
    "                \n",
    "            \n",
    "#     index+=1\n",
    "    \n",
    "\n",
    "    \n",
    "# schema = T.StructType([\n",
    "#     T.StructField(\"d_stop_id\", T.IntegerType(), True),\n",
    "#     T.StructField(\"dist_to_next_o\", T.DoubleType(), True),\n",
    "#     T.StructField(\"result\", T.IntegerType(), True)\n",
    "# ])\n",
    "\n",
    "# destinations_df = sqlContext.createDataFrame([((tup[0]), (tup[1]), (tup[2])) for tup in destinations],schema)"
   ]
  },
  {
   "cell_type": "code",
   "execution_count": null,
   "metadata": {},
   "outputs": [],
   "source": [
    "get_buste_trip_next_stops(bus_trip_data,175,'BC289',10,31749,72165).show()"
   ]
  },
  {
   "cell_type": "code",
   "execution_count": null,
   "metadata": {},
   "outputs": [],
   "source": [
    "pre_od_data.columns"
   ]
  },
  {
   "cell_type": "code",
   "execution_count": null,
   "metadata": {},
   "outputs": [],
   "source": [
    "bus_trip_data.columns"
   ]
  },
  {
   "cell_type": "code",
   "execution_count": null,
   "metadata": {
    "collapsed": true
   },
   "outputs": [],
   "source": [
    "next_stops = get_trip_next_stops(bus_trip_data,'022','BL307',1,1494324183)\n",
    "print_df(next_stops)"
   ]
  },
  {
   "cell_type": "code",
   "execution_count": null,
   "metadata": {
    "collapsed": true
   },
   "outputs": [],
   "source": [
    "8 \t022 \tBL307 \t1 \t25821 \t1494324731 \t07:12:11\n",
    "9 \t022 \tBL307 \t1 \t26246 \t1494325361 \t07:22:41\n",
    "10 \t022 \tBL307 \t1 \t26240 \t1494325564 \t07:26:04\n",
    "11 \t022 \tBL307 \t1 \t25681 \t1494326340 \t07:39:00\n",
    "12 \t022 \tBL307 \t1 \t26284 \t1494326896 \t07:48:16"
   ]
  },
  {
   "cell_type": "code",
   "execution_count": null,
   "metadata": {
    "collapsed": true
   },
   "outputs": [],
   "source": [
    "next_stops = next_stops.withColumn('d_stopId',F.lit(33717))"
   ]
  },
  {
   "cell_type": "code",
   "execution_count": null,
   "metadata": {
    "collapsed": true
   },
   "outputs": [],
   "source": [
    "print_df(next_stops)"
   ]
  },
  {
   "cell_type": "code",
   "execution_count": null,
   "metadata": {
    "collapsed": true
   },
   "outputs": [],
   "source": [
    "#next_stops = next_stops.withColumn('dist',get_stops_dist(stops_dist_table,next_stops.busStopId,next_stops.d_stopid))"
   ]
  },
  {
   "cell_type": "code",
   "execution_count": null,
   "metadata": {
    "collapsed": true
   },
   "outputs": [],
   "source": [
    "next_stops_dist = next_stops.join(stops_dist_table, (next_stops.busStopId == stops_dist_table.o_busStopId) & (next_stops.d_stopId == stops_dist_table.d_busStopId), 'inner') \\\n",
    "                    .select(['route','busCode','tripNum','o_busStopId','o_shapeLat','o_shapeLon','d_busStopId','d_shapeLat','d_shapeLon','timestamp','dist']) \\\n",
    "                    .orderBy('dist').first()"
   ]
  },
  {
   "cell_type": "code",
   "execution_count": null,
   "metadata": {
    "collapsed": true
   },
   "outputs": [],
   "source": [
    "next_stops_dist['dist']"
   ]
  }
 ],
 "metadata": {
  "kernelspec": {
   "display_name": "Python 2",
   "language": "python",
   "name": "python2"
  },
  "language_info": {
   "codemirror_mode": {
    "name": "ipython",
    "version": 2
   },
   "file_extension": ".py",
   "mimetype": "text/x-python",
   "name": "python",
   "nbconvert_exporter": "python",
   "pygments_lexer": "ipython2",
   "version": "2.7.14"
  }
 },
 "nbformat": 4,
 "nbformat_minor": 2
}
