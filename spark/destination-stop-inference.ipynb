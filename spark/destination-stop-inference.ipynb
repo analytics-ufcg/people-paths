{
 "cells": [
  {
   "cell_type": "code",
   "execution_count": 1,
   "metadata": {
    "collapsed": true
   },
   "outputs": [],
   "source": [
    "import pyspark\n",
    "from pyspark import SparkContext\n",
    "from pyspark.sql.window import Window\n",
    "from pyspark.sql import functions as F\n",
    "from pyspark.sql import types as T\n",
    "\n",
    "import json\n",
    "import numpy as np"
   ]
  },
  {
   "cell_type": "code",
   "execution_count": 2,
   "metadata": {
    "collapsed": true
   },
   "outputs": [],
   "source": [
    "def rename_columns(df, list_of_tuples):\n",
    "    for (old_col, new_col) in list_of_tuples:\n",
    "        df = df.withColumnRenamed(old_col, new_col)\n",
    "    return df\n",
    "\n",
    "def read_data(sqlContext, filepath):\n",
    "    df = sqlContext.read.format(\"com.databricks.spark.csv\")\\\n",
    "        .option(\"header\", \"true\")\\\n",
    "        .option(\"inferSchema\", \"true\") \\\n",
    "        .option(\"nullValue\", \"-\")\\\n",
    "        .load(filepath)\n",
    "\n",
    "    return df\n",
    "\n",
    "def read_file(filepath, sqlContext):\n",
    "    data_frame = sqlContext.read.csv(filepath, header=False,\n",
    "                                     inferSchema=True,nullValue=\"-\")\n",
    "    while len(data_frame.columns) < 16:\n",
    "        col_name = \"_c\" + str(len(data_frame.columns))\n",
    "        data_frame = data_frame.withColumn(col_name, F.lit(None))\n",
    "\n",
    "    data_frame = rename_columns(\n",
    "        data_frame,\n",
    "        [\n",
    "            (\"_c0\", \"route\"),\n",
    "            (\"_c1\", \"tripNum\"),\n",
    "            (\"_c2\", \"shapeId\"),\n",
    "            (\"_c3\", \"shapeSequence\"),\n",
    "            (\"_c4\", \"shapeLat\"),\n",
    "            (\"_c5\", \"shapeLon\"),\n",
    "            (\"_c6\", \"distanceTraveledShape\"),\n",
    "            (\"_c7\", \"busCode\"),\n",
    "            (\"_c8\", \"gpsPointId\"),\n",
    "            (\"_c9\", \"gpsLat\"),\n",
    "            (\"_c10\", \"gpsLon\"),\n",
    "            (\"_c11\", \"distanceToShapePoint\"),\n",
    "            (\"_c12\", \"timestamp\"),\n",
    "            (\"_c13\", \"busStopId\"),\n",
    "            (\"_c14\", \"problem\"),\n",
    "            (\"_c15\", \"userBirthdate\"),\n",
    "            (\"_c16\", \"cardTimestamp\"),\n",
    "            (\"_c17\", \"lineName\"),\n",
    "            (\"_c18\", \"cardNum\"),\n",
    "            (\"_c19\", \"userGender\"),\n",
    "        ]\n",
    "    )\n",
    "\n",
    "    date = \"-\".join(filepath.split(\"/\")[-2].split(\"_\")[:3])\n",
    "\n",
    "    data_frame = data_frame.withColumn(\"date\", F.lit(date))\n",
    "    data_frame = data_frame.withColumn(\"date\", F.date_sub(F.col(\"date\"),1))\n",
    "    \n",
    "    return data_frame\n",
    "\n",
    "def print_df(df,l=10):\n",
    "    return df.limit(l).toPandas()"
   ]
  },
  {
   "cell_type": "markdown",
   "metadata": {},
   "source": [
    "### Read Pre-OD Data"
   ]
  },
  {
   "cell_type": "code",
   "execution_count": 3,
   "metadata": {
    "collapsed": true
   },
   "outputs": [],
   "source": [
    "sc = SparkContext.getOrCreate()\n",
    "sqlContext = pyspark.SQLContext(sc)"
   ]
  },
  {
   "cell_type": "code",
   "execution_count": 4,
   "metadata": {
    "collapsed": true
   },
   "outputs": [],
   "source": [
    "exp_data_folder_path = '/local/tarciso/masters/experiments/preliminary-exp/preliminary-exp-sample-data/'\n",
    "pre_od_data = read_data(sqlContext,exp_data_folder_path + 'pre_od_matrix')"
   ]
  },
  {
   "cell_type": "code",
   "execution_count": 5,
   "metadata": {
    "collapsed": true
   },
   "outputs": [],
   "source": [
    "#print_df(pre_od_data)"
   ]
  },
  {
   "cell_type": "markdown",
   "metadata": {},
   "source": [
    "### Reading Bus Trip Data"
   ]
  },
  {
   "cell_type": "code",
   "execution_count": 6,
   "metadata": {
    "collapsed": true
   },
   "outputs": [],
   "source": [
    "old_exp_data_folder_path = '/local/tarciso/masters/experiments/preliminary-exp/preliminary-exp-sample-data/back-bulma-output'\n",
    "bus_trip_data = read_file(old_exp_data_folder_path + '/2017_05_11_veiculos.csv/part-00000', sqlContext)"
   ]
  },
  {
   "cell_type": "code",
   "execution_count": 7,
   "metadata": {
    "collapsed": true
   },
   "outputs": [],
   "source": [
    "bus_trip_data = bus_trip_data.withColumn(\"date\", F.date_sub(F.col(\"date\"), 1))\n",
    "bus_trip_data = bus_trip_data.withColumn(\"gps_timestamp\", F.concat(F.col(\"date\"), F.lit(\" \"), F.col(\"timestamp\")))\n",
    "bus_trip_data = bus_trip_data.withColumn(\"gps_timestamp_in_secs\", F.unix_timestamp(F.col(\"gps_timestamp\"), \"yyyy-MM-dd HH:mm:ss\"))"
   ]
  },
  {
   "cell_type": "code",
   "execution_count": 8,
   "metadata": {
    "collapsed": true
   },
   "outputs": [],
   "source": [
    "bus_trip_data = bus_trip_data.na.drop(subset=[\"route\",\"busCode\",\"busStopId\",\"gps_timestamp_in_secs\",\"tripNum\"]) \\\n",
    "                             .dropDuplicates(['route','busCode','tripNum','busStopId']) \\\n",
    "                             .orderBy(['route','busCode','tripNum','gps_timestamp_in_secs'])"
   ]
  },
  {
   "cell_type": "code",
   "execution_count": 9,
   "metadata": {
    "collapsed": true,
    "scrolled": false
   },
   "outputs": [],
   "source": [
    "#print_df(bus_trip_data, l=40)"
   ]
  },
  {
   "cell_type": "code",
   "execution_count": 10,
   "metadata": {
    "collapsed": true
   },
   "outputs": [],
   "source": [
    "bus_trip_data = bus_trip_data.withColumn('route', F.col('route').cast(T.IntegerType()))"
   ]
  },
  {
   "cell_type": "markdown",
   "metadata": {},
   "source": [
    "### Testing with new BUSTE data"
   ]
  },
  {
   "cell_type": "code",
   "execution_count": null,
   "metadata": {
    "collapsed": true
   },
   "outputs": [],
   "source": [
    "#bus_trip_data_new = read_file(exp_data_folder_path + '/bulma-output/2017_05_11_veiculos.csv/part-00000', sqlContext) \\\n",
    "#                    .na.drop(subset=[\"route\",\"busCode\",\"busStopId\",\"timestamp\",\"tripNum\"])"
   ]
  },
  {
   "cell_type": "code",
   "execution_count": null,
   "metadata": {
    "collapsed": true
   },
   "outputs": [],
   "source": [
    "#print_df(bus_trip_data_new.select(['route','busCode','tripNum','busStopId','timestamp']) \\\n",
    "#         .filter('route == 022') \\\n",
    "#         .orderBy(['route','busCode','tripNum','busStopId','timestamp']), l=40)"
   ]
  },
  {
   "cell_type": "markdown",
   "metadata": {},
   "source": [
    "### Building stops-distance table"
   ]
  },
  {
   "cell_type": "code",
   "execution_count": 11,
   "metadata": {
    "collapsed": true
   },
   "outputs": [],
   "source": [
    "#busStops = bus_trip_data.select(['busStopId','shapeLat','shapeLon']).dropDuplicates(['busStopId'])"
   ]
  },
  {
   "cell_type": "code",
   "execution_count": 12,
   "metadata": {
    "collapsed": true
   },
   "outputs": [],
   "source": [
    "#print busStops.count()\n",
    "#print_df(busStops)"
   ]
  },
  {
   "cell_type": "code",
   "execution_count": 13,
   "metadata": {
    "collapsed": true
   },
   "outputs": [],
   "source": [
    "#o_busStops = rename_columns(\n",
    "#        busStops,\n",
    "#        [\n",
    "#            (\"busStopId\", \"o_busStopId\"),\n",
    "#            (\"shapeLat\", \"o_shapeLat\"),\n",
    "#            (\"shapeLon\", \"o_shapeLon\")\n",
    "#        ]\n",
    "#    )\n",
    "#\n",
    "#d_busStops = rename_columns(\n",
    "#        busStops,\n",
    "#        [\n",
    "#            (\"busStopId\", \"d_busStopId\"),\n",
    "#            (\"shapeLat\", \"d_shapeLat\"),\n",
    "#            (\"shapeLon\", \"d_shapeLon\")\n",
    "#        ]\n",
    "#    )"
   ]
  },
  {
   "cell_type": "code",
   "execution_count": 14,
   "metadata": {
    "collapsed": true
   },
   "outputs": [],
   "source": [
    "#print_df(o_busStops)"
   ]
  },
  {
   "cell_type": "code",
   "execution_count": 15,
   "metadata": {
    "collapsed": true
   },
   "outputs": [],
   "source": [
    "#print_df(d_busStops)"
   ]
  },
  {
   "cell_type": "code",
   "execution_count": 16,
   "metadata": {
    "collapsed": true
   },
   "outputs": [],
   "source": [
    "#stops_dist_table = o_busStops.crossJoin(d_busStops)"
   ]
  },
  {
   "cell_type": "code",
   "execution_count": 17,
   "metadata": {
    "collapsed": true
   },
   "outputs": [],
   "source": [
    "#print_df(stops_dist_table)"
   ]
  },
  {
   "cell_type": "code",
   "execution_count": 18,
   "metadata": {
    "collapsed": true
   },
   "outputs": [],
   "source": [
    "#stops_dist_table.count()"
   ]
  },
  {
   "cell_type": "code",
   "execution_count": 19,
   "metadata": {
    "collapsed": true
   },
   "outputs": [],
   "source": [
    "def dist(long_x, lat_x, long_y, lat_y):\n",
    "    return F.acos(\n",
    "        F.sin(F.toRadians(lat_x)) * F.sin(F.toRadians(lat_y)) + \n",
    "        F.cos(F.toRadians(lat_x)) * F.cos(F.toRadians(lat_y)) * \n",
    "            F.cos(F.toRadians(long_x) - F.toRadians(long_y))\n",
    "    ) * F.lit(6371.0)"
   ]
  },
  {
   "cell_type": "code",
   "execution_count": 20,
   "metadata": {
    "collapsed": true
   },
   "outputs": [],
   "source": [
    "#stops_dist_table = stops_dist_table.withColumn(\"dist\", dist('o_shapeLon', 'o_shapeLat','d_shapeLon','d_shapeLat'))"
   ]
  },
  {
   "cell_type": "code",
   "execution_count": 22,
   "metadata": {
    "collapsed": true
   },
   "outputs": [],
   "source": [
    "#print_df(stops_dist_table)"
   ]
  },
  {
   "cell_type": "code",
   "execution_count": 23,
   "metadata": {
    "collapsed": true
   },
   "outputs": [],
   "source": [
    "def get_stops_dist(stops_dist_df,stopA,stopB):\n",
    "    return stops_dist_df.where(\n",
    "        (F.col('o_busStopId') == stopA) &\n",
    "        (F.col('d_busStopId') == stopB)).select('dist').collect()[0][0]\n",
    "\n",
    "get_stops_dist_udf = F.udf(get_stops_dist)"
   ]
  },
  {
   "cell_type": "code",
   "execution_count": 24,
   "metadata": {
    "collapsed": true
   },
   "outputs": [],
   "source": [
    "#get_stops_dist(stops_dist_table,31261,33717)"
   ]
  },
  {
   "cell_type": "markdown",
   "metadata": {},
   "source": [
    "### Finding the closest alighting stop to next trip boarding"
   ]
  },
  {
   "cell_type": "code",
   "execution_count": 31,
   "metadata": {
    "collapsed": true
   },
   "outputs": [],
   "source": [
    "trips_data = read_data(sqlContext,'/local/tarciso/data/gtfs/curitiba/trips.txt')"
   ]
  },
  {
   "cell_type": "code",
   "execution_count": 32,
   "metadata": {},
   "outputs": [],
   "source": [
    "#print_df(trips_data)"
   ]
  },
  {
   "cell_type": "code",
   "execution_count": 33,
   "metadata": {
    "collapsed": true
   },
   "outputs": [],
   "source": [
    "stops_data = read_data(sqlContext,'/local/tarciso/data/gtfs/curitiba/stops.txt')"
   ]
  },
  {
   "cell_type": "code",
   "execution_count": 34,
   "metadata": {
    "scrolled": true
   },
   "outputs": [],
   "source": [
    "#print_df(stops_data)"
   ]
  },
  {
   "cell_type": "code",
   "execution_count": 35,
   "metadata": {
    "collapsed": true
   },
   "outputs": [],
   "source": [
    "stop_times_data = read_data(sqlContext,'/local/tarciso/data/gtfs/curitiba/stop_times.txt')"
   ]
  },
  {
   "cell_type": "code",
   "execution_count": 36,
   "metadata": {},
   "outputs": [],
   "source": [
    "#print_df(stop_times_data)"
   ]
  },
  {
   "cell_type": "code",
   "execution_count": 37,
   "metadata": {
    "collapsed": true
   },
   "outputs": [],
   "source": [
    "shapes_stops = trips_data.join(stop_times_data,'trip_id', 'inner') \\\n",
    "                    .join(stops_data, 'stop_id', 'inner') \\\n",
    "                    .select(['shape_id','stop_id','stop_sequence', 'stop_lat','stop_lon']) \\\n",
    "                    .dropDuplicates(['shape_id','stop_id','stop_sequence']) \\\n",
    "                    .orderBy(['shape_id','stop_sequence'])"
   ]
  },
  {
   "cell_type": "code",
   "execution_count": 67,
   "metadata": {
    "collapsed": true
   },
   "outputs": [],
   "source": [
    "def get_trip_next_stops(shape_stops_df,o_shape_id,o_stop_id):\n",
    "    shape_stops = shape_stops_df.filter((F.col('shape_id') == o_shape_id))\n",
    "    o_shape_stop = shape_stops.filter(F.col('stop_id') == o_stop_id).first()\n",
    "    \n",
    "    if (o_shape_stop == None):\n",
    "        print \"Stop\", o_stop_id, \"could not be found in shape\", o_shape_id\n",
    "        return None\n",
    "\n",
    "    o_stop_seq = o_shape_stop['stop_sequence']\n",
    "    return shape_stops.filter(F.col('stop_sequence') > o_stop_seq)"
   ]
  },
  {
   "cell_type": "code",
   "execution_count": 68,
   "metadata": {
    "collapsed": true
   },
   "outputs": [],
   "source": [
    "def get_stop_lat_long(shape_stops_df,stop_id):\n",
    "    d_stop_df = shape_stops_df.filter(F.col('stop_id') == stop_id).first()\n",
    "    \n",
    "    if (d_stop_df == None):\n",
    "        print \"Stop\", o_stop_id, \"could not be found\"\n",
    "        return None\n",
    "    \n",
    "    return (d_stop_df['stop_lat'],d_stop_df['stop_lon'])"
   ]
  },
  {
   "cell_type": "code",
   "execution_count": 69,
   "metadata": {
    "collapsed": true
   },
   "outputs": [],
   "source": [
    "def get_closest_next_stop(next_stops,d_stop_lat,d_stop_lon):\n",
    "    shape_next_stops = next_stops.withColumn('d_stop_lat',F.lit(d_stop_lat)) \\\n",
    "                                 .withColumn('d_stop_lon',F.lit(d_stop_lon))    \n",
    "    return shape_next_stops.withColumn('dist',dist('stop_lat', 'stop_lon','d_stop_lat','d_stop_lon')) \\\n",
    "                        .orderBy('dist').select(['stop_id','dist']).first()\n",
    "    "
   ]
  },
  {
   "cell_type": "code",
   "execution_count": 70,
   "metadata": {},
   "outputs": [
    {
     "data": {
      "text/html": [
       "<div>\n",
       "<style>\n",
       "    .dataframe thead tr:only-child th {\n",
       "        text-align: right;\n",
       "    }\n",
       "\n",
       "    .dataframe thead th {\n",
       "        text-align: left;\n",
       "    }\n",
       "\n",
       "    .dataframe tbody tr th {\n",
       "        vertical-align: top;\n",
       "    }\n",
       "</style>\n",
       "<table border=\"1\" class=\"dataframe\">\n",
       "  <thead>\n",
       "    <tr style=\"text-align: right;\">\n",
       "      <th></th>\n",
       "      <th>o_route</th>\n",
       "      <th>o_bus_code</th>\n",
       "      <th>o_date</th>\n",
       "      <th>o_tripNum</th>\n",
       "      <th>o_timestamp</th>\n",
       "      <th>o_shape_id</th>\n",
       "      <th>o_shape_seq</th>\n",
       "      <th>o_shape_lat</th>\n",
       "      <th>o_shape_lon</th>\n",
       "      <th>o_stop_id</th>\n",
       "      <th>...</th>\n",
       "      <th>d_timestamp</th>\n",
       "      <th>d_shape_id</th>\n",
       "      <th>d_shape_seq</th>\n",
       "      <th>d_shape_lat</th>\n",
       "      <th>d_shape_lon</th>\n",
       "      <th>d_stop_id</th>\n",
       "      <th>d_boarding_id</th>\n",
       "      <th>o_unixtimestamp</th>\n",
       "      <th>d_unixtimestamp</th>\n",
       "      <th>leg_duration</th>\n",
       "    </tr>\n",
       "  </thead>\n",
       "  <tbody>\n",
       "    <tr>\n",
       "      <th>0</th>\n",
       "      <td>50</td>\n",
       "      <td>JB605</td>\n",
       "      <td>2017-05-10</td>\n",
       "      <td>7</td>\n",
       "      <td>19:12:26</td>\n",
       "      <td>1720</td>\n",
       "      <td>5304847</td>\n",
       "      <td>-25.455303</td>\n",
       "      <td>-49.267471</td>\n",
       "      <td>29142</td>\n",
       "      <td>...</td>\n",
       "      <td>08:16:08</td>\n",
       "      <td>2073</td>\n",
       "      <td>6491312</td>\n",
       "      <td>-25.551371</td>\n",
       "      <td>-49.274145</td>\n",
       "      <td>38165</td>\n",
       "      <td>919123001529</td>\n",
       "      <td>79946</td>\n",
       "      <td>40568</td>\n",
       "      <td>-1.000000</td>\n",
       "    </tr>\n",
       "    <tr>\n",
       "      <th>1</th>\n",
       "      <td>40</td>\n",
       "      <td>GR110</td>\n",
       "      <td>2017-05-10</td>\n",
       "      <td>1</td>\n",
       "      <td>07:18:48</td>\n",
       "      <td>1717</td>\n",
       "      <td>3366595</td>\n",
       "      <td>-25.404101</td>\n",
       "      <td>-49.335440</td>\n",
       "      <td>34157</td>\n",
       "      <td>...</td>\n",
       "      <td>14:11:17</td>\n",
       "      <td>2236</td>\n",
       "      <td>4887443</td>\n",
       "      <td>-25.449524</td>\n",
       "      <td>-49.358804</td>\n",
       "      <td>40623</td>\n",
       "      <td>927712935938</td>\n",
       "      <td>37128</td>\n",
       "      <td>61877</td>\n",
       "      <td>412.483333</td>\n",
       "    </tr>\n",
       "  </tbody>\n",
       "</table>\n",
       "<p>2 rows × 28 columns</p>\n",
       "</div>"
      ],
      "text/plain": [
       "   o_route o_bus_code     o_date  o_tripNum o_timestamp  o_shape_id  \\\n",
       "0       50      JB605 2017-05-10          7    19:12:26        1720   \n",
       "1       40      GR110 2017-05-10          1    07:18:48        1717   \n",
       "\n",
       "   o_shape_seq  o_shape_lat  o_shape_lon  o_stop_id      ...       \\\n",
       "0      5304847   -25.455303   -49.267471      29142      ...        \n",
       "1      3366595   -25.404101   -49.335440      34157      ...        \n",
       "\n",
       "   d_timestamp  d_shape_id  d_shape_seq  d_shape_lat  d_shape_lon d_stop_id  \\\n",
       "0     08:16:08        2073      6491312   -25.551371   -49.274145     38165   \n",
       "1     14:11:17        2236      4887443   -25.449524   -49.358804     40623   \n",
       "\n",
       "  d_boarding_id  o_unixtimestamp d_unixtimestamp  leg_duration  \n",
       "0  919123001529            79946           40568     -1.000000  \n",
       "1  927712935938            37128           61877    412.483333  \n",
       "\n",
       "[2 rows x 28 columns]"
      ]
     },
     "execution_count": 70,
     "metadata": {},
     "output_type": "execute_result"
    }
   ],
   "source": [
    "print_df(pre_od_data.limit(2))"
   ]
  },
  {
   "cell_type": "code",
   "execution_count": null,
   "metadata": {},
   "outputs": [],
   "source": [
    "size_limit = 200\n",
    "\n",
    "destinations = [None] * size_limit\n",
    "index = 0\n",
    "\n",
    "for row in pre_od_data.limit(size_limit).rdd.collect():\n",
    "    next_stops = get_trip_next_stops(shapes_stops,row['o_shape_id'],row['o_stop_id'])\n",
    "    \n",
    "    if (next_stops == None):\n",
    "        destinations[index] = (None,None,-2)\n",
    "    else:\n",
    "        dest_lat_long = get_stop_lat_long(shapes_stops,row['d_stop_id'])\n",
    "\n",
    "        if dest_lat_long == None:\n",
    "            destinations[index] = (None,None,-3)\n",
    "        else:\n",
    "            closest_next_stop = get_closest_next_stop(next_stops,dest_lat_long[0],dest_lat_long[1])\n",
    "            if closest_next_stop == None:\n",
    "                #print \"No Stop found!\"\n",
    "                destinations[index] = (None,None,-1)\n",
    "            else:\n",
    "                if closest_next_stop['dist'] <= 1:\n",
    "                    #print \"OK!\"\n",
    "                    destinations[index] = (closest_next_stop['stop_id'],closest_next_stop['dist'],1)\n",
    "                else:\n",
    "                    #print \"Too far!\"\n",
    "                    destinations[index] = (closest_next_stop['stop_id'],closest_next_stop['dist'],0)\n",
    "            \n",
    "    index+=1\n",
    "    \n",
    "\n",
    "    \n",
    "schema = T.StructType([\n",
    "    T.StructField(\"d_stop_id\", T.IntegerType(), True),\n",
    "    T.StructField(\"dist_to_next_o\", T.DoubleType(), True),\n",
    "    T.StructField(\"result\", T.IntegerType(), True)\n",
    "])\n",
    "\n",
    "destinations_df = sqlContext.createDataFrame([((tup[0]), (tup[1]), (tup[2])) for tup in destinations],schema)"
   ]
  },
  {
   "cell_type": "code",
   "execution_count": null,
   "metadata": {},
   "outputs": [],
   "source": [
    "print_df(destinations_df)"
   ]
  },
  {
   "cell_type": "code",
   "execution_count": null,
   "metadata": {
    "collapsed": true
   },
   "outputs": [],
   "source": [
    "print_df(shapes_stops.filter((F.col('shape_id') == 1720)),l=50)"
   ]
  },
  {
   "cell_type": "code",
   "execution_count": null,
   "metadata": {
    "collapsed": true
   },
   "outputs": [],
   "source": [
    "def df_loop(df):\n",
    "    i = 0\n",
    "    for row in df.rdd.collect():\n",
    "        if i > 10:\n",
    "            break\n",
    "        print row['d_busStopId']\n",
    "        i+=1"
   ]
  },
  {
   "cell_type": "code",
   "execution_count": null,
   "metadata": {
    "collapsed": true
   },
   "outputs": [],
   "source": [
    "df_loop(d_busStops)"
   ]
  },
  {
   "cell_type": "code",
   "execution_count": null,
   "metadata": {
    "collapsed": true
   },
   "outputs": [],
   "source": [
    "next_stops = get_trip_next_stops(bus_trip_data,'022','BL307',1,1494324183)\n",
    "print_df(next_stops)"
   ]
  },
  {
   "cell_type": "code",
   "execution_count": null,
   "metadata": {
    "collapsed": true
   },
   "outputs": [],
   "source": [
    "8 \t022 \tBL307 \t1 \t25821 \t1494324731 \t07:12:11\n",
    "9 \t022 \tBL307 \t1 \t26246 \t1494325361 \t07:22:41\n",
    "10 \t022 \tBL307 \t1 \t26240 \t1494325564 \t07:26:04\n",
    "11 \t022 \tBL307 \t1 \t25681 \t1494326340 \t07:39:00\n",
    "12 \t022 \tBL307 \t1 \t26284 \t1494326896 \t07:48:16"
   ]
  },
  {
   "cell_type": "code",
   "execution_count": null,
   "metadata": {
    "collapsed": true
   },
   "outputs": [],
   "source": [
    "next_stops = next_stops.withColumn('d_stopId',F.lit(33717))"
   ]
  },
  {
   "cell_type": "code",
   "execution_count": null,
   "metadata": {
    "collapsed": true
   },
   "outputs": [],
   "source": [
    "print_df(next_stops)"
   ]
  },
  {
   "cell_type": "code",
   "execution_count": null,
   "metadata": {
    "collapsed": true
   },
   "outputs": [],
   "source": [
    "#next_stops = next_stops.withColumn('dist',get_stops_dist(stops_dist_table,next_stops.busStopId,next_stops.d_stopid))"
   ]
  },
  {
   "cell_type": "code",
   "execution_count": null,
   "metadata": {
    "collapsed": true
   },
   "outputs": [],
   "source": [
    "next_stops_dist = next_stops.join(stops_dist_table, (next_stops.busStopId == stops_dist_table.o_busStopId) & (next_stops.d_stopId == stops_dist_table.d_busStopId), 'inner') \\\n",
    "                    .select(['route','busCode','tripNum','o_busStopId','o_shapeLat','o_shapeLon','d_busStopId','d_shapeLat','d_shapeLon','timestamp','dist']) \\\n",
    "                    .orderBy('dist').first()"
   ]
  },
  {
   "cell_type": "code",
   "execution_count": null,
   "metadata": {
    "collapsed": true
   },
   "outputs": [],
   "source": [
    "next_stops_dist['dist']"
   ]
  }
 ],
 "metadata": {
  "kernelspec": {
   "display_name": "Python 2",
   "language": "python",
   "name": "python2"
  },
  "language_info": {
   "codemirror_mode": {
    "name": "ipython",
    "version": 2
   },
   "file_extension": ".py",
   "mimetype": "text/x-python",
   "name": "python",
   "nbconvert_exporter": "python",
   "pygments_lexer": "ipython2",
   "version": "2.7.14"
  }
 },
 "nbformat": 4,
 "nbformat_minor": 2
}
