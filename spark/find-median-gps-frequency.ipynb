{
 "cells": [
  {
   "cell_type": "code",
   "execution_count": 39,
   "metadata": {
    "collapsed": true
   },
   "outputs": [],
   "source": [
    "import pyspark\n",
    "from pyspark import SparkContext\n",
    "from pyspark.sql.window import Window\n",
    "from pyspark.sql import functions as F\n",
    "from pyspark.sql import types as T\n",
    "\n",
    "import json\n",
    "import numpy as np"
   ]
  },
  {
   "cell_type": "code",
   "execution_count": 42,
   "metadata": {},
   "outputs": [],
   "source": [
    "def rename_columns(df, list_of_tuples):\n",
    "    for (old_col, new_col) in list_of_tuples:\n",
    "        df = df.withColumnRenamed(old_col, new_col)\n",
    "\n",
    "    return df\n",
    "\n",
    "def read_file(filepath, sqlContext):\n",
    "    data_frame = sqlContext.read.format(\"com.databricks.spark.csv\") \\\n",
    "        .option(\"header\", \"false\") \\\n",
    "        .option(\"inferSchema\", \"true\") \\\n",
    "        .option(\"nullValue\", \"-\") \\\n",
    "        .load(filepath)\n",
    "\n",
    "    while len(data_frame.columns) < 16:\n",
    "        col_name = \"_c\" + str(len(data_frame.columns))\n",
    "        data_frame = data_frame.withColumn(col_name, F.lit(None))\n",
    "\n",
    "    data_frame = rename_columns(\n",
    "        data_frame,\n",
    "        [\n",
    "            (\"_c0\", \"route\"),\n",
    "            (\"_c1\", \"tripNum\"),\n",
    "            (\"_c2\", \"shapeId\"),\n",
    "            (\"_c3\", \"shapeSequence\"),\n",
    "            (\"_c4\", \"shapeLat\"),\n",
    "            (\"_c5\", \"shapeLon\"),\n",
    "            (\"_c6\", \"distanceTraveledShape\"),\n",
    "            (\"_c7\", \"busCode\"),\n",
    "            (\"_c8\", \"gpsPointId\"),\n",
    "            (\"_c9\", \"gpsLat\"),\n",
    "            (\"_c10\", \"gpsLon\"),\n",
    "            (\"_c11\", \"distanceToShapePoint\"),\n",
    "            (\"_c12\", \"timestamp\"),\n",
    "            (\"_c13\", \"busStopId\"),\n",
    "            (\"_c14\", \"problem\"),\n",
    "            (\"_c15\", \"numPassengers\")\n",
    "        ]\n",
    "    )\n",
    "\n",
    "    date = \"-\".join(filepath.split(\"/\")[-2].split(\"_\")[:3])\n",
    "\n",
    "    data_frame = data_frame.withColumn(\"date\", F.lit(date))\n",
    "\n",
    "    return data_frame"
   ]
  },
  {
   "cell_type": "markdown",
   "metadata": {
    "collapsed": true
   },
   "source": [
    "### Read Input Data"
   ]
  },
  {
   "cell_type": "code",
   "execution_count": 3,
   "metadata": {
    "collapsed": true
   },
   "outputs": [],
   "source": [
    "sc = SparkContext.getOrCreate()\n",
    "sqlContext = pyspark.SQLContext(sc)"
   ]
  },
  {
   "cell_type": "code",
   "execution_count": 43,
   "metadata": {},
   "outputs": [],
   "source": [
    "trips_data = read_file('/local/tarciso/data/sample-data/bulma-output/2017_05_11_veiculos.csv/part-00000', sqlContext)"
   ]
  },
  {
   "cell_type": "code",
   "execution_count": 44,
   "metadata": {},
   "outputs": [
    {
     "data": {
      "text/plain": [
       "[Row(route=u'372', tripNum=4, shapeId=1891, shapeSequence=6136916, shapeLat=-25.432724990605614, shapeLon=-49.27218701780396, distanceTraveledShape=10149.88, busCode=u'CC170', gpsPointId=None, gpsLat=None, gpsLon=None, distanceToShapePoint=None, timestamp=u'12:13:43', busStopId=None, problem=u'BETWEEN', numPassengers=None, date=u'2017-05-11'),\n",
       " Row(route=u'372', tripNum=4, shapeId=1891, shapeSequence=6136915, shapeLat=-25.432470122014415, shapeLon=-49.27231020615159, distanceTraveledShape=10119.046, busCode=u'CC170', gpsPointId=None, gpsLat=None, gpsLon=None, distanceToShapePoint=None, timestamp=u'12:45:14', busStopId=None, problem=u'BETWEEN', numPassengers=None, date=u'2017-05-11'),\n",
       " Row(route=u'372', tripNum=1, shapeId=1891, shapeSequence=6136650, shapeLat=-25.413362156585787, shapeLon=-49.20592429766663, distanceTraveledShape=79.983, busCode=u'CC170', gpsPointId=None, gpsLat=-25.413378, gpsLon=-49.205836, distanceToShapePoint=9.041484, timestamp=u'05:41:14', busStopId=None, problem=u'NO_PROBLEM', numPassengers=None, date=u'2017-05-11')]"
      ]
     },
     "execution_count": 44,
     "metadata": {},
     "output_type": "execute_result"
    }
   ],
   "source": [
    "trips_data.head(3)"
   ]
  },
  {
   "cell_type": "code",
   "execution_count": 45,
   "metadata": {},
   "outputs": [
    {
     "data": {
      "text/plain": [
       "[Row(timestamp=u'12:13:43'),\n",
       " Row(timestamp=u'12:45:14'),\n",
       " Row(timestamp=u'05:41:14'),\n",
       " Row(timestamp=u'05:41:16'),\n",
       " Row(timestamp=u'05:41:20')]"
      ]
     },
     "execution_count": 45,
     "metadata": {},
     "output_type": "execute_result"
    }
   ],
   "source": [
    "trips_data.select(\"timestamp\").head(5)"
   ]
  },
  {
   "cell_type": "code",
   "execution_count": 46,
   "metadata": {},
   "outputs": [
    {
     "data": {
      "text/plain": [
       "[Row(new_timestamp=54823),\n",
       " Row(new_timestamp=56714),\n",
       " Row(new_timestamp=31274),\n",
       " Row(new_timestamp=31276),\n",
       " Row(new_timestamp=31280)]"
      ]
     },
     "execution_count": 46,
     "metadata": {},
     "output_type": "execute_result"
    }
   ],
   "source": [
    "trips_data = trips_data.withColumn(\"new_timestamp\", F.unix_timestamp(F.col(\"timestamp\"), \"HH:mm:ss\"))\n",
    "trips_data.select(\"new_timestamp\").head(5)"
   ]
  },
  {
   "cell_type": "code",
   "execution_count": 47,
   "metadata": {},
   "outputs": [
    {
     "name": "stdout",
     "output_type": "stream",
     "text": [
      "root\n",
      " |-- route: string (nullable = true)\n",
      " |-- tripNum: integer (nullable = true)\n",
      " |-- shapeId: integer (nullable = true)\n",
      " |-- shapeSequence: integer (nullable = true)\n",
      " |-- shapeLat: double (nullable = true)\n",
      " |-- shapeLon: double (nullable = true)\n",
      " |-- distanceTraveledShape: double (nullable = true)\n",
      " |-- busCode: string (nullable = true)\n",
      " |-- gpsPointId: string (nullable = true)\n",
      " |-- gpsLat: double (nullable = true)\n",
      " |-- gpsLon: double (nullable = true)\n",
      " |-- distanceToShapePoint: double (nullable = true)\n",
      " |-- timestamp: string (nullable = true)\n",
      " |-- busStopId: integer (nullable = true)\n",
      " |-- problem: string (nullable = true)\n",
      " |-- numPassengers: integer (nullable = true)\n",
      " |-- date: string (nullable = false)\n",
      " |-- new_timestamp: long (nullable = true)\n",
      "\n"
     ]
    }
   ],
   "source": [
    "trips_data.printSchema()"
   ]
  },
  {
   "cell_type": "code",
   "execution_count": 48,
   "metadata": {},
   "outputs": [
    {
     "name": "stdout",
     "output_type": "stream",
     "text": [
      "+-----+-------+------------------+\n",
      "|route|tripNum|avg(new_timestamp)|\n",
      "+-----+-------+------------------+\n",
      "|  646|      7|  58207.4257221458|\n",
      "|  650|      9| 72151.01580354972|\n",
      "|  638|      6|56234.409443725744|\n",
      "|  561|      7|51830.629664179105|\n",
      "|  652|     19| 75122.97798742139|\n",
      "|  671|      4|48615.761233480174|\n",
      "|  658|      3| 49221.17559808613|\n",
      "|  644|      5| 41852.36443661972|\n",
      "|  657|     18| 72637.45272969374|\n",
      "|  811|     18| 80897.59565522075|\n",
      "|  610|      2| 36077.42105263158|\n",
      "|  684|     15| 76872.37625329815|\n",
      "|  024|      3| 76129.83539094651|\n",
      "|  513|     15| 79788.97517730496|\n",
      "|  681|     12|     72234.3328125|\n",
      "|  913|     15| 63734.27101200686|\n",
      "|  718|     42| 91960.52525252526|\n",
      "|  829|   null|              null|\n",
      "|  467|   null|              null|\n",
      "|  366|      3|43975.903930131004|\n",
      "+-----+-------+------------------+\n",
      "only showing top 20 rows\n",
      "\n"
     ]
    }
   ],
   "source": [
    "test = trips_data.groupby([\"route\",\"tripNum\"]).avg(\"new_timestamp\").show()"
   ]
  },
  {
   "cell_type": "code",
   "execution_count": 49,
   "metadata": {},
   "outputs": [
    {
     "name": "stdout",
     "output_type": "stream",
     "text": [
      "+-----+-------+---------+--------+\n",
      "|route|tripNum|timestamp|timediff|\n",
      "+-----+-------+---------+--------+\n",
      "|  024|      3|     null|    null|\n",
      "|  024|      3|     null|    null|\n",
      "|  024|      3|     null|    null|\n",
      "|  024|      3|     null|    null|\n",
      "|  024|      3|     null|    null|\n",
      "|  024|      3|     null|    null|\n",
      "|  024|      3|     null|    null|\n",
      "|  024|      3|     null|    null|\n",
      "|  024|      3|     null|    null|\n",
      "|  024|      3|     null|    null|\n",
      "|  024|      3|     null|    null|\n",
      "|  024|      3|     null|    null|\n",
      "|  024|      3|     null|    null|\n",
      "|  024|      3|     null|    null|\n",
      "|  024|      3|     null|    null|\n",
      "|  024|      3|     null|    null|\n",
      "|  024|      3|     null|    null|\n",
      "|  024|      3|     null|    null|\n",
      "|  024|      3|     null|    null|\n",
      "|  024|      3| 17:32:47|    null|\n",
      "+-----+-------+---------+--------+\n",
      "only showing top 20 rows\n",
      "\n"
     ]
    }
   ],
   "source": [
    "trips_data = trips_data.withColumn(\"timediff\",(trips_data.new_timestamp - F.lag(trips_data.new_timestamp)\n",
    ".over(Window.partitionBy([\"route\",\"tripNum\"]) \\\n",
    ".orderBy(\"new_timestamp\"))))\n",
    "\n",
    "trips_data.select([\"route\",\"tripNum\",\"timestamp\",\"timediff\"]).show()"
   ]
  },
  {
   "cell_type": "code",
   "execution_count": 50,
   "metadata": {},
   "outputs": [],
   "source": [
    "def find_median(values_list):\n",
    "    try:\n",
    "        median = np.median(values_list) #get the median of values in a list in each row\n",
    "        return round(float(median),2)\n",
    "    except Exception:\n",
    "        return None #if there is anything wrong with the given values\n",
    "\n",
    "median_finder = F.udf(find_median,T.FloatType())"
   ]
  },
  {
   "cell_type": "code",
   "execution_count": 51,
   "metadata": {},
   "outputs": [
    {
     "name": "stdout",
     "output_type": "stream",
     "text": [
      "+-----+-------+--------------------+------+\n",
      "|route|tripNum|           timediffs|median|\n",
      "+-----+-------+--------------------+------+\n",
      "|  024|      3|[108, 2, 5, 2, 1,...|   3.0|\n",
      "|  366|      3|[4, 2, 11, 8, 21,...|   3.0|\n",
      "|  467|   null|                  []|   NaN|\n",
      "|  513|     15|[6, 83, 4, 11, 8,...|   4.0|\n",
      "|  561|      7|[8, 9, 26, 2, 8, ...|   4.0|\n",
      "|  610|      2|[1, 2, 0, 5, 4, 7...|   2.0|\n",
      "|  638|      6|[3, 4, 9, 9, 2, 3...|   3.0|\n",
      "|  644|      5|[15, 0, 2, 1, 3, ...|   2.0|\n",
      "|  646|      7|[6, 1, 2, 3, 2, 3...|   1.0|\n",
      "|  650|      9|[7, 23, 5, 2, 3, ...|   1.0|\n",
      "|  652|     19|[15, 6, 5, 4, 6, ...|   3.0|\n",
      "|  657|     18|[19, 16, 4, 12, 6...|   2.0|\n",
      "|  658|      3|[247, 42, 6, 87, ...|   2.0|\n",
      "|  671|      4|[5, 2, 2, 2, 5, 4...|   3.0|\n",
      "|  681|     12|[2, 5, 8, 7, 3, 1...|   3.0|\n",
      "|  684|     15|[6, 4, 4, 2, 1, 1...|   2.0|\n",
      "|  718|     42|[1, 1, 4, 6, 2, 6...|   4.0|\n",
      "|  811|     18|[2, 3, 1, 1, 2, 1...|   1.0|\n",
      "|  829|   null|                  []|   NaN|\n",
      "|  913|     15|[42, 1, 4, 2, 1, ...|   2.0|\n",
      "+-----+-------+--------------------+------+\n",
      "only showing top 20 rows\n",
      "\n"
     ]
    }
   ],
   "source": [
    "timediffs_list = trips_data.groupby([\"route\",\"tripNum\"]).agg(F.collect_list(\"timediff\").alias(\"timediffs\"))\n",
    "timediffs_list = timediffs_list.withColumn(\"median\",median_finder(\"timediffs\"))\n",
    "timediffs_list.show()"
   ]
  },
  {
   "cell_type": "code",
   "execution_count": 58,
   "metadata": {},
   "outputs": [],
   "source": [
    "medians = timediffs_list.select(\"median\").collect()"
   ]
  },
  {
   "cell_type": "code",
   "execution_count": 63,
   "metadata": {},
   "outputs": [
    {
     "data": {
      "text/plain": [
       "3.0"
      ]
     },
     "execution_count": 63,
     "metadata": {},
     "output_type": "execute_result"
    }
   ],
   "source": [
    "np.nanmedian(medians)"
   ]
  }
 ],
 "metadata": {
  "kernelspec": {
   "display_name": "Python 2",
   "language": "python",
   "name": "python2"
  },
  "language_info": {
   "codemirror_mode": {
    "name": "ipython",
    "version": 2
   },
   "file_extension": ".py",
   "mimetype": "text/x-python",
   "name": "python",
   "nbconvert_exporter": "python",
   "pygments_lexer": "ipython2",
   "version": "2.7.13"
  }
 },
 "nbformat": 4,
 "nbformat_minor": 2
}
