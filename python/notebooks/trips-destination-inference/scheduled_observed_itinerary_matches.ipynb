{
 "cells": [
  {
   "cell_type": "code",
   "execution_count": 1,
   "metadata": {},
   "outputs": [],
   "source": [
    "def prepare_otp_data(otp_data):\n",
    "        #Fixing prefix\n",
    "        otp_data.columns = otp_data.columns.str.replace('otp_','')\n",
    "        otp_data = otp_data.add_prefix('otp_')\n",
    "        \n",
    "        #Fixing Timezone difference - when needed\n",
    "        otp_data['otp_start_time'] = otp_data['otp_start_time'] - pd.Timedelta('10800 s')\n",
    "        otp_data['otp_end_time'] = otp_data['otp_end_time'] - pd.Timedelta('10800 s')\n",
    "        \n",
    "        #Adjusting route format to have 3 numbers\n",
    "        otp_data['otp_route'] = otp_data['otp_route'].astype(str)\n",
    "        otp_data['otp_route'] = np.where(otp_data['otp_mode'] == 'BUS',\n",
    "                            otp_data['otp_route'].astype(str).str.replace(\"\\.0\",'').str.zfill(3),\n",
    "                            otp_data['otp_route'])\n",
    "\n",
    "        return otp_data"
   ]
  },
  {
   "cell_type": "code",
   "execution_count": null,
   "metadata": {},
   "outputs": [],
   "source": [
    "        # Prepare OTP data for analysis\n",
    "        otp_suggestions = prepare_otp_data(otp_suggestions_raw)\n",
    "\n",
    "        # Read stops data\n",
    "        stops_filepath = gtfs_base_folderpath + os.sep + get_router_id(file_date) + os.sep + 'stops.txt'\n",
    "        stops_df = pd.read_csv(stops_filepath)\n",
    "\n",
    "        # Adding Parent Stop data to OTP Suggestions\n",
    "        stops_parent_stations = stops_df[['stop_id','parent_station']]\n",
    "        otp_suggestions = otp_suggestions.merge(stops_parent_stations.add_prefix('from_'),\n",
    "                                                left_on='otp_from_stop_id',\n",
    "                                                right_on='from_stop_id',\n",
    "                                                how='left') \\\n",
    "                                        .merge(stops_parent_stations.add_prefix('to_'),\n",
    "                                                left_on='otp_to_stop_id',\n",
    "                                                right_on='to_stop_id',\n",
    "                                                how='left') \\\n",
    "                                        .drop(['from_stop_id','to_stop_id'], axis=1) \\\n",
    "                                        .rename(index=str, columns={'from_parent_station':'otp_from_parent_station',\n",
    "                                                                    'to_parent_station':'otp_to_parent_station'})\n",
    "        \n",
    "        otp_suggestions_bus_legs = otp_suggestions[otp_suggestions['otp_mode'] == 'BUS']\n",
    "        otp_suggestions_walk_legs = otp_suggestions[otp_suggestions['otp_mode'] == 'WALK']\n"
   ]
  },
  {
   "cell_type": "code",
   "execution_count": null,
   "metadata": {},
   "outputs": [],
   "source": [
    "otp_suggestions.head()"
   ]
  },
  {
   "cell_type": "code",
   "execution_count": null,
   "metadata": {},
   "outputs": [],
   "source": [
    "        # Find OTP Suggested Itineraries in BUSTE Data\n",
    "        bus_trips_filepath = bus_trips_folderpath + os.sep + file_date_str + '_bus_trips.csv'\n",
    "        bus_trips = pd.read_csv(bus_trips_filepath, dtype={'route': object},parse_dates=['gps_datetime']) \\\n",
    "                                        .sort_values(['route','busCode','tripNum','gps_datetime']) \\\n",
    "                                        .assign(route = lambda x: x['route'].astype(str).str.replace(\"\\.0\",'').str.zfill(3))\n"
   ]
  },
  {
   "cell_type": "code",
   "execution_count": null,
   "metadata": {},
   "outputs": [],
   "source": [
    "bus_trips.head()"
   ]
  },
  {
   "cell_type": "code",
   "execution_count": null,
   "metadata": {},
   "outputs": [],
   "source": [
    "scheduled_itin_observed_od = otp_suggestions_bus_legs.merge(bus_trips.add_prefix('bt_from_'),\n",
    "                                left_on=['otp_route','otp_from_stop_id'],\n",
    "                                right_on=['bt_from_route','bt_from_stopPointId'],\n",
    "                                how='inner') \\\n",
    "                                .assign(sched_obs_start_timediff = \n",
    "                                        lambda x: np.absolute(x['bt_from_gps_datetime'] - x['otp_start_time']))\n",
    "scheduled_itin_observed_od = scheduled_itin_observed_od[scheduled_itin_observed_od['sched_obs_start_timediff'] <= pd.Timedelta(minutes=60)]"
   ]
  },
  {
   "cell_type": "code",
   "execution_count": null,
   "metadata": {},
   "outputs": [],
   "source": [
    "scheduled_itin_observed_od = scheduled_itin_observed_od.merge(bus_trips.add_prefix('bt_to_'),\n",
    "                                left_on=['otp_route','bt_from_busCode','bt_from_tripNum','otp_to_stop_id'],\n",
    "                                right_on=['bt_to_route','bt_to_busCode','bt_to_tripNum','bt_to_stopPointId'],\n",
    "                                how='inner') \\\n",
    "                                .assign(sched_obs_end_timediff = \n",
    "                                        lambda x: np.absolute(x['bt_to_gps_datetime'] - x['otp_end_time'])) \\\n",
    "                                .sort_values(['otp_user_trip_id','otp_itinerary_id','otp_leg_id','sched_obs_start_timediff','sched_obs_end_timediff'])\n",
    "scheduled_itin_observed_od = scheduled_itin_observed_od[scheduled_itin_observed_od['sched_obs_end_timediff'] <= pd.Timedelta(minutes=60)]"
   ]
  },
  {
   "cell_type": "code",
   "execution_count": null,
   "metadata": {},
   "outputs": [],
   "source": [
    "scheduled_itin_observed_od_full = pd.concat([scheduled_itin_observed_od,otp_suggestions_walk_legs], sort=False)"
   ]
  },
  {
   "cell_type": "code",
   "execution_count": null,
   "metadata": {},
   "outputs": [],
   "source": [
    "scheduled_itin_observed_od_full.filter(['otp_user_trip_id','otp_itinerary_id','otp_leg_id','otp_route','bt_from_busCode','bt_from_tripNum','bt_from_stopPointId','otp_start_time','bt_from_gps_datetime','sched_obs_start_timediff','bt_to_stopPointId','otp_end_time','bt_to_gps_datetime','sched_obs_end_timediff']) \\\n",
    "                            .sort_values(['otp_user_trip_id','otp_itinerary_id','otp_leg_id'])"
   ]
  },
  {
   "cell_type": "code",
   "execution_count": null,
   "metadata": {},
   "outputs": [],
   "source": [
    "scheduled_itin_observed_od_earliest = scheduled_itin_observed_od_full.sort_values(['otp_user_trip_id','otp_itinerary_id','otp_leg_id','sched_obs_start_timediff','sched_obs_end_timediff']) \\\n",
    "                        .groupby(['otp_user_trip_id','otp_itinerary_id','otp_leg_id']) \\\n",
    "                        .first() \\\n",
    "                        .filter(['otp_route','otp_mode','stopPointId','otp_start_time','bt_from_gps_datetime','sched_obs_start_timediff','sched_obs_end_timediff']) \\\n",
    "                        .reset_index()"
   ]
  },
  {
   "cell_type": "code",
   "execution_count": null,
   "metadata": {},
   "outputs": [],
   "source": [
    "scheduled_itin_observed_od_earliest"
   ]
  },
  {
   "cell_type": "code",
   "execution_count": null,
   "metadata": {},
   "outputs": [],
   "source": [
    "scheduled_itin_observed_od_earliest[scheduled_itin_observed_od_earliest['otp_mode'] == 'BUS'].sched_obs_start_timediff.quantile(.95)"
   ]
  }
 ],
 "metadata": {
  "kernelspec": {
   "display_name": "Python 2",
   "language": "python",
   "name": "python2"
  },
  "language_info": {
   "codemirror_mode": {
    "name": "ipython",
    "version": 2
   },
   "file_extension": ".py",
   "mimetype": "text/x-python",
   "name": "python",
   "nbconvert_exporter": "python",
   "pygments_lexer": "ipython2",
   "version": "2.7.15"
  }
 },
 "nbformat": 4,
 "nbformat_minor": 2
}
