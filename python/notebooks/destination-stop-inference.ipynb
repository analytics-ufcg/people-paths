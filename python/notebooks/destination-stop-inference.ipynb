{
 "cells": [
  {
   "cell_type": "code",
   "execution_count": 1,
   "metadata": {
    "collapsed": true
   },
   "outputs": [],
   "source": [
    "import pyspark\n",
    "from pyspark import SparkContext\n",
    "from pyspark.sql.window import Window\n",
    "from pyspark.sql import functions as F\n",
    "from pyspark.sql import types as T\n",
    "\n",
    "import json\n",
    "import numpy as np\n",
    "import time"
   ]
  },
  {
   "cell_type": "code",
   "execution_count": 2,
   "metadata": {
    "collapsed": true
   },
   "outputs": [],
   "source": [
    "def rename_columns(df, list_of_tuples):\n",
    "    for (old_col, new_col) in list_of_tuples:\n",
    "        df = df.withColumnRenamed(old_col, new_col)\n",
    "    return df\n",
    "\n",
    "def read_data(sqlContext, filepath):\n",
    "    df = sqlContext.read.format(\"com.databricks.spark.csv\")\\\n",
    "        .option(\"header\", \"true\")\\\n",
    "        .option(\"inferSchema\", \"true\") \\\n",
    "        .option(\"nullValue\", \"-\")\\\n",
    "        .load(filepath)\n",
    "\n",
    "    return df\n",
    "\n",
    "def read_buste_data_v3(filepath, sqlContext):\n",
    "    data_frame = sqlContext.read.csv(filepath, header=False,\n",
    "                                     inferSchema=True,nullValue=\"-\")\n",
    "    while len(data_frame.columns) < 16:\n",
    "        col_name = \"_c\" + str(len(data_frame.columns))\n",
    "        data_frame = data_frame.withColumn(col_name, F.lit(None))\n",
    "\n",
    "    data_frame = rename_columns(\n",
    "        data_frame,\n",
    "        [\n",
    "            (\"_c0\", \"route\"),\n",
    "            (\"_c1\", \"tripNum\"),\n",
    "            (\"_c2\", \"shapeId\"),\n",
    "            (\"_c3\", \"shapeSequence\"),\n",
    "            (\"_c4\", \"shapeLat\"),\n",
    "            (\"_c5\", \"shapeLon\"),\n",
    "            (\"_c6\", \"distanceTraveledShape\"),\n",
    "            (\"_c7\", \"busCode\"),\n",
    "            (\"_c8\", \"gpsPointId\"),\n",
    "            (\"_c9\", \"gpsLat\"),\n",
    "            (\"_c10\", \"gpsLon\"),\n",
    "            (\"_c11\", \"distanceToShapePoint\"),\n",
    "            (\"_c12\", \"timestamp\"),\n",
    "            (\"_c13\", \"busStopId\"),\n",
    "            (\"_c14\", \"problem\"),\n",
    "            (\"_c15\", \"userBirthdate\"),\n",
    "            (\"_c16\", \"cardTimestamp\"),\n",
    "            (\"_c17\", \"lineName\"),\n",
    "            (\"_c18\", \"cardNum\"),\n",
    "            (\"_c19\", \"userGender\"),\n",
    "        ]\n",
    "    )\n",
    "\n",
    "    date = \"-\".join(filepath.split(\"/\")[-2].split(\"_\")[:3])\n",
    "\n",
    "    data_frame = data_frame.withColumn(\"date\", F.lit(date))\n",
    "    data_frame = data_frame.withColumn(\"date\", F.date_sub(F.col(\"date\"),1))\n",
    "    \n",
    "    return data_frame\n",
    "\n",
    "def read_buste_data_old(filepath, sqlContext):\n",
    "    data_frame = sqlContext.read.csv(filepath, header=False,\n",
    "                                     inferSchema=True,nullValue=\"-\")\n",
    "    while len(data_frame.columns) < 16:\n",
    "        col_name = \"_c\" + str(len(data_frame.columns))\n",
    "        data_frame = data_frame.withColumn(col_name, F.lit(None))\n",
    "\n",
    "    data_frame = rename_columns(\n",
    "        data_frame,\n",
    "        [\n",
    "            (\"_c0\", \"route\"),\n",
    "            (\"_c1\", \"tripNum\"),\n",
    "            (\"_c2\", \"shapeId\"),\n",
    "            (\"_c3\", \"shapeSequence\"),\n",
    "            (\"_c4\", \"shapeLat\"),\n",
    "            (\"_c5\", \"shapeLon\"),\n",
    "            (\"_c6\", \"distanceTraveledShape\"),\n",
    "            (\"_c7\", \"busCode\"),\n",
    "            (\"_c8\", \"gpsPointId\"),\n",
    "            (\"_c9\", \"gpsLat\"),\n",
    "            (\"_c10\", \"gpsLon\"),\n",
    "            (\"_c11\", \"distanceToShapePoint\"),\n",
    "            (\"_c12\", \"timestamp\"),\n",
    "            (\"_c13\", \"busStopId\"),\n",
    "            (\"_c14\", \"problem\"),\n",
    "            (\"_c15\", \"numPassengers\")\n",
    "        ]\n",
    "    )\n",
    "\n",
    "    date = \"-\".join(filepath.split(\"/\")[-2].split(\"_\")[:3])\n",
    "\n",
    "    data_frame = data_frame.withColumn(\"date\", F.lit(date))\n",
    "    data_frame = data_frame.withColumn(\"date\", F.date_sub(F.col(\"date\"),1))\n",
    "    \n",
    "    return data_frame\n",
    "\n",
    "def print_df(df,l=10):\n",
    "    return df.limit(l).toPandas()"
   ]
  },
  {
   "cell_type": "markdown",
   "metadata": {},
   "source": [
    "### Read Pre-OD Data"
   ]
  },
  {
   "cell_type": "code",
   "execution_count": 3,
   "metadata": {
    "collapsed": true
   },
   "outputs": [],
   "source": [
    "sc = SparkContext.getOrCreate()\n",
    "sqlContext = pyspark.SQLContext(sc)"
   ]
  },
  {
   "cell_type": "code",
   "execution_count": 4,
   "metadata": {},
   "outputs": [],
   "source": [
    "exp_data_folder_path = '/local/tarciso/masters/experiments/preliminary-exp/preliminary-exp-sample-data/'\n",
    "pre_od_data = read_data(sqlContext,exp_data_folder_path + 'pre_od_matrix') \\\n",
    "                .orderBy(['cardNum','o_date','o_timestamp'])"
   ]
  },
  {
   "cell_type": "code",
   "execution_count": null,
   "metadata": {},
   "outputs": [],
   "source": [
    "#print_df(pre_od_data)"
   ]
  },
  {
   "cell_type": "code",
   "execution_count": null,
   "metadata": {},
   "outputs": [],
   "source": [
    "#pre_od_data.columns"
   ]
  },
  {
   "cell_type": "markdown",
   "metadata": {},
   "source": [
    "### Reading Bus Trip Data"
   ]
  },
  {
   "cell_type": "code",
   "execution_count": 5,
   "metadata": {
    "collapsed": true
   },
   "outputs": [],
   "source": [
    "old_exp_data_folder_path = '/local/tarciso/masters/experiments/preliminary-exp/preliminary-exp-sample-data/back-bulma-output'\n",
    "bus_trip_data = read_buste_data_old(old_exp_data_folder_path + '/2017_05_11_veiculos.csv/part-00000', sqlContext)"
   ]
  },
  {
   "cell_type": "code",
   "execution_count": 6,
   "metadata": {
    "collapsed": true
   },
   "outputs": [],
   "source": [
    "bus_trip_data = bus_trip_data.withColumn(\"date\", F.date_sub(F.col(\"date\"), 1))\n",
    "bus_trip_data = bus_trip_data.withColumn(\"gps_timestamp\", F.concat(F.col(\"date\"), F.lit(\" \"), F.col(\"timestamp\")))\n",
    "bus_trip_data = bus_trip_data.withColumn(\"gps_timestamp_in_secs\", F.unix_timestamp(F.col(\"gps_timestamp\"), \"yyyy-MM-dd HH:mm:ss\"))"
   ]
  },
  {
   "cell_type": "code",
   "execution_count": 7,
   "metadata": {
    "collapsed": true
   },
   "outputs": [],
   "source": [
    "bus_trip_data = bus_trip_data.na.drop(subset=[\"route\",\"busCode\",\"busStopId\",\"gps_timestamp_in_secs\",\"tripNum\"]) \\\n",
    "                             .dropDuplicates(['route','busCode','tripNum','busStopId']) \\\n",
    "                             .orderBy(['route','busCode','tripNum','gps_timestamp_in_secs']) \\\n",
    "                             .withColumn('id',F.monotonically_increasing_id()) \\\n",
    "                             .withColumn('route', F.col('route').cast(T.IntegerType()))"
   ]
  },
  {
   "cell_type": "code",
   "execution_count": null,
   "metadata": {
    "scrolled": false
   },
   "outputs": [],
   "source": [
    "print_df(bus_trip_data)"
   ]
  },
  {
   "cell_type": "markdown",
   "metadata": {},
   "source": [
    "### Testing with new BUSTE data"
   ]
  },
  {
   "cell_type": "code",
   "execution_count": null,
   "metadata": {
    "collapsed": true
   },
   "outputs": [],
   "source": [
    "#bus_trip_data_new = read_file(exp_data_folder_path + '/bulma-output/2017_05_11_veiculos.csv/part-00000', sqlContext) \\\n",
    "#                    .na.drop(subset=[\"route\",\"busCode\",\"busStopId\",\"timestamp\",\"tripNum\"])"
   ]
  },
  {
   "cell_type": "code",
   "execution_count": null,
   "metadata": {
    "collapsed": true
   },
   "outputs": [],
   "source": [
    "#print_df(bus_trip_data_new.select(['route','busCode','tripNum','busStopId','timestamp']) \\\n",
    "#         .filter('route == 022') \\\n",
    "#         .orderBy(['route','busCode','tripNum','busStopId','timestamp']), l=40)"
   ]
  },
  {
   "cell_type": "markdown",
   "metadata": {},
   "source": [
    "### Building stops-distance table"
   ]
  },
  {
   "cell_type": "code",
   "execution_count": null,
   "metadata": {
    "collapsed": true
   },
   "outputs": [],
   "source": [
    "#busStops = bus_trip_data.select(['busStopId','shapeLat','shapeLon']).dropDuplicates(['busStopId'])"
   ]
  },
  {
   "cell_type": "code",
   "execution_count": null,
   "metadata": {
    "collapsed": true
   },
   "outputs": [],
   "source": [
    "#print busStops.count()\n",
    "#print_df(busStops)"
   ]
  },
  {
   "cell_type": "code",
   "execution_count": null,
   "metadata": {
    "collapsed": true
   },
   "outputs": [],
   "source": [
    "#o_busStops = rename_columns(\n",
    "#        busStops,\n",
    "#        [\n",
    "#            (\"busStopId\", \"o_busStopId\"),\n",
    "#            (\"shapeLat\", \"o_shapeLat\"),\n",
    "#            (\"shapeLon\", \"o_shapeLon\")\n",
    "#        ]\n",
    "#    )\n",
    "#\n",
    "#d_busStops = rename_columns(\n",
    "#        busStops,\n",
    "#        [\n",
    "#            (\"busStopId\", \"d_busStopId\"),\n",
    "#            (\"shapeLat\", \"d_shapeLat\"),\n",
    "#            (\"shapeLon\", \"d_shapeLon\")\n",
    "#        ]\n",
    "#    )"
   ]
  },
  {
   "cell_type": "code",
   "execution_count": null,
   "metadata": {
    "collapsed": true
   },
   "outputs": [],
   "source": [
    "#print_df(o_busStops)"
   ]
  },
  {
   "cell_type": "code",
   "execution_count": null,
   "metadata": {
    "collapsed": true
   },
   "outputs": [],
   "source": [
    "#print_df(d_busStops)"
   ]
  },
  {
   "cell_type": "code",
   "execution_count": null,
   "metadata": {
    "collapsed": true
   },
   "outputs": [],
   "source": [
    "#stops_dist_table = o_busStops.crossJoin(d_busStops)"
   ]
  },
  {
   "cell_type": "code",
   "execution_count": null,
   "metadata": {
    "collapsed": true
   },
   "outputs": [],
   "source": [
    "#print_df(stops_dist_table)"
   ]
  },
  {
   "cell_type": "code",
   "execution_count": null,
   "metadata": {
    "collapsed": true
   },
   "outputs": [],
   "source": [
    "#stops_dist_table.count()"
   ]
  },
  {
   "cell_type": "code",
   "execution_count": null,
   "metadata": {
    "collapsed": true
   },
   "outputs": [],
   "source": [
    "def dist(long_x, lat_x, long_y, lat_y):\n",
    "    return F.acos(\n",
    "        F.sin(F.toRadians(lat_x)) * F.sin(F.toRadians(lat_y)) + \n",
    "        F.cos(F.toRadians(lat_x)) * F.cos(F.toRadians(lat_y)) * \n",
    "            F.cos(F.toRadians(long_x) - F.toRadians(long_y))\n",
    "    ) * F.lit(6371.0)"
   ]
  },
  {
   "cell_type": "code",
   "execution_count": null,
   "metadata": {
    "collapsed": true
   },
   "outputs": [],
   "source": [
    "#stops_dist_table = stops_dist_table.withColumn(\"dist\", dist('o_shapeLon', 'o_shapeLat','d_shapeLon','d_shapeLat'))"
   ]
  },
  {
   "cell_type": "code",
   "execution_count": null,
   "metadata": {
    "collapsed": true
   },
   "outputs": [],
   "source": [
    "#print_df(stops_dist_table)"
   ]
  },
  {
   "cell_type": "code",
   "execution_count": null,
   "metadata": {
    "collapsed": true
   },
   "outputs": [],
   "source": [
    "def get_stops_dist(stops_dist_df,stopA,stopB):\n",
    "    return stops_dist_df.where(\n",
    "        (F.col('o_busStopId') == stopA) &\n",
    "        (F.col('d_busStopId') == stopB)).select('dist').collect()[0][0]\n",
    "\n",
    "get_stops_dist_udf = F.udf(get_stops_dist)"
   ]
  },
  {
   "cell_type": "code",
   "execution_count": null,
   "metadata": {
    "collapsed": true
   },
   "outputs": [],
   "source": [
    "#get_stops_dist(stops_dist_table,31261,33717)"
   ]
  },
  {
   "cell_type": "markdown",
   "metadata": {},
   "source": [
    "### Finding the closest alighting stop to next trip boarding"
   ]
  },
  {
   "cell_type": "code",
   "execution_count": null,
   "metadata": {
    "collapsed": true
   },
   "outputs": [],
   "source": [
    "trips_data = read_data(sqlContext,'/local/tarciso/data/gtfs/curitiba/trips.txt')"
   ]
  },
  {
   "cell_type": "code",
   "execution_count": null,
   "metadata": {},
   "outputs": [],
   "source": [
    "#print_df(trips_data)"
   ]
  },
  {
   "cell_type": "code",
   "execution_count": null,
   "metadata": {
    "collapsed": true
   },
   "outputs": [],
   "source": [
    "stops_data = read_data(sqlContext,'/local/tarciso/data/gtfs/curitiba/stops.txt')"
   ]
  },
  {
   "cell_type": "code",
   "execution_count": null,
   "metadata": {
    "scrolled": true
   },
   "outputs": [],
   "source": [
    "#print_df(stops_data)"
   ]
  },
  {
   "cell_type": "code",
   "execution_count": null,
   "metadata": {
    "collapsed": true
   },
   "outputs": [],
   "source": [
    "stop_times_data = read_data(sqlContext,'/local/tarciso/data/gtfs/curitiba/stop_times.txt')"
   ]
  },
  {
   "cell_type": "code",
   "execution_count": null,
   "metadata": {},
   "outputs": [],
   "source": [
    "#print_df(stop_times_data)"
   ]
  },
  {
   "cell_type": "code",
   "execution_count": null,
   "metadata": {
    "collapsed": true
   },
   "outputs": [],
   "source": [
    "shapes_stops = trips_data.join(stop_times_data,'trip_id', 'inner') \\\n",
    "                    .join(stops_data, 'stop_id', 'inner') \\\n",
    "                    .select(['shape_id','stop_id','stop_sequence', 'stop_lat','stop_lon']) \\\n",
    "                    .dropDuplicates(['shape_id','stop_id','stop_sequence']) \\\n",
    "                    .orderBy(['shape_id','stop_sequence'])"
   ]
  },
  {
   "cell_type": "code",
   "execution_count": null,
   "metadata": {
    "collapsed": true
   },
   "outputs": [],
   "source": [
    "def get_trip_next_stops(shape_stops_df,o_shape_id,o_stop_id):\n",
    "    shape_stops = shape_stops_df.filter((F.col('shape_id') == o_shape_id))\n",
    "    o_shape_stop = shape_stops.filter(F.col('stop_id') == o_stop_id).first()\n",
    "    \n",
    "    if (o_shape_stop == None):\n",
    "        print \"Stop\", o_stop_id, \"could not be found in shape\", o_shape_id\n",
    "        return None\n",
    "\n",
    "    o_stop_seq = o_shape_stop['stop_sequence']\n",
    "    return shape_stops.filter(F.col('stop_sequence') > o_stop_seq)"
   ]
  },
  {
   "cell_type": "code",
   "execution_count": null,
   "metadata": {
    "collapsed": true
   },
   "outputs": [],
   "source": [
    "def get_stop_lat_long(shape_stops_df,stop_id):\n",
    "    d_stop_df = shape_stops_df.filter(F.col('stop_id') == stop_id).first()\n",
    "    \n",
    "    if (d_stop_df == None):\n",
    "        print \"Stop\", o_stop_id, \"could not be found\"\n",
    "        return None\n",
    "    \n",
    "    return (d_stop_df['stop_lat'],d_stop_df['stop_lon'])"
   ]
  },
  {
   "cell_type": "code",
   "execution_count": null,
   "metadata": {
    "collapsed": true
   },
   "outputs": [],
   "source": [
    "def get_closest_next_stop(next_stops,d_stop_lat,d_stop_lon):\n",
    "    shape_next_stops = next_stops.withColumn('d_stop_lat',F.lit(d_stop_lat)) \\\n",
    "                                 .withColumn('d_stop_lon',F.lit(d_stop_lon))    \n",
    "    return shape_next_stops.withColumn('dist',dist('stop_lat', 'stop_lon','d_stop_lat','d_stop_lon')) \\\n",
    "                        .orderBy('dist') \\\n",
    "                        .select(['stop_lat', 'stop_lon','d_stop_lat','d_stop_lon','stop_id','dist']) \\\n",
    "                        .first()\n",
    "    "
   ]
  },
  {
   "cell_type": "code",
   "execution_count": null,
   "metadata": {},
   "outputs": [],
   "source": [
    "#tuple(value for value in pre_od_data.first()) + (1,)"
   ]
  },
  {
   "cell_type": "code",
   "execution_count": null,
   "metadata": {},
   "outputs": [],
   "source": [
    "#(None,)*6 + (-2,)"
   ]
  },
  {
   "cell_type": "code",
   "execution_count": null,
   "metadata": {},
   "outputs": [],
   "source": [
    "size_limit = 1\n",
    "\n",
    "destinations = [None] * size_limit\n",
    "index = 0\n",
    "\n",
    "for row in pre_od_data.limit(size_limit).rdd.collect():\n",
    "    orig_lat_long = get_stop_lat_long(shapes_stops,row['o_stop_id'])\n",
    "    \n",
    "    next_stops = get_trip_next_stops(shapes_stops,row['o_shape_id'],row['o_stop_id'])\n",
    "    \n",
    "    if (next_stops == None):\n",
    "        destinations[index] = (None,)*6 + (-1,)\n",
    "    else:\n",
    "        dest_lat_long = get_stop_lat_long(shapes_stops,row['d_stop_id'])\n",
    "\n",
    "        if dest_lat_long == None:\n",
    "            destinations[index] = (None,)*6 + (-2,)\n",
    "        else:\n",
    "            closest_next_stop = get_closest_next_stop(next_stops,dest_lat_long[0],dest_lat_long[1])\n",
    "            if closest_next_stop == None:\n",
    "                #print \"No Stop found!\"\n",
    "                destinations[index] = (None,)*6 + (-3,)\n",
    "            else:\n",
    "                print closest_next_stop\n",
    "                if closest_next_stop['dist'] <= 1:\n",
    "                    #print \"OK!\"\n",
    "                    #destinations[index] = (closest_next_stop['stop_id'],closest_next_stop['dist'],1)\n",
    "                    destinations[index] = tuple(v for v in closest_next_stop) + (1,)\n",
    "                else:\n",
    "                    #print \"Too far!\"\n",
    "                    destinations[index] = tuple(v for v in closest_next_stop) + (0,)\n",
    "                    \n",
    "                \n",
    "            \n",
    "    index+=1\n",
    "    \n",
    "\n",
    "    \n",
    "schema = T.StructType([\n",
    "    T.StructField(\"d_stop_id\", T.IntegerType(), True),\n",
    "    T.StructField(\"dist_to_next_o\", T.DoubleType(), True),\n",
    "    T.StructField(\"result\", T.IntegerType(), True)\n",
    "])\n",
    "\n",
    "destinations_df = sqlContext.createDataFrame([((tup[0]), (tup[1]), (tup[2])) for tup in destinations],schema)"
   ]
  },
  {
   "cell_type": "code",
   "execution_count": null,
   "metadata": {},
   "outputs": [],
   "source": [
    "print_df(destinations_df)"
   ]
  },
  {
   "cell_type": "code",
   "execution_count": null,
   "metadata": {
    "collapsed": true
   },
   "outputs": [],
   "source": [
    "destinations_df = rename_columns(destinations_df,[(\"d_stop_id\", \"est_d_stop_id\")])"
   ]
  },
  {
   "cell_type": "code",
   "execution_count": null,
   "metadata": {},
   "outputs": [],
   "source": [
    "pre_od_data_sample = pre_od_data.limit(200).withColumn('id', F.monotonically_increasing_id())\n",
    "destinations_sample = destinations_df.withColumn('id', F.monotonically_increasing_id())\n",
    "\n",
    "od_matrix_sample = pre_od_data_sample.join(destinations_sample, 'id', 'inner')"
   ]
  },
  {
   "cell_type": "code",
   "execution_count": null,
   "metadata": {},
   "outputs": [],
   "source": [
    "print_df(od_matrix_sample)"
   ]
  },
  {
   "cell_type": "code",
   "execution_count": null,
   "metadata": {},
   "outputs": [],
   "source": [
    "pre_od_data.count()"
   ]
  },
  {
   "cell_type": "markdown",
   "metadata": {},
   "source": [
    "### Trying with BUSTE trip lookup"
   ]
  },
  {
   "cell_type": "code",
   "execution_count": null,
   "metadata": {
    "collapsed": true
   },
   "outputs": [],
   "source": [
    "def get_buste_trip_next_stops(trips_df,route,bus_code,trip_num,o_stop_id,o_timestamp):\n",
    "    return trips_df.filter(((F.col('route') == route) & (F.col('busCode') == bus_code)) &\n",
    "                                 ((F.col('tripNum') == trip_num) & (F.col('gps_timestamp_in_secs') > o_timestamp)))"
   ]
  },
  {
   "cell_type": "code",
   "execution_count": null,
   "metadata": {},
   "outputs": [],
   "source": [
    "def get_buste_trip_next_stops2(trips_df,route,bus_code,trip_num,o_stop_id,o_timestamp):\n",
    "    w = Window.partitionBy([F.col('date'),F.col('route'),F.col('busCode'),F.col('tripNum')]) \\\n",
    "              .orderBy(F.col('gps_timestamp_in_secs'))\n",
    "    return trips_df.filter(((F.col('route') == route) & (F.col('busCode') == bus_code)) &\n",
    "                                 ((F.col('tripNum') == trip_num) & (F.col('gps_timestamp_in_secs') > o_timestamp)) \\\n",
    "                    .over(w))"
   ]
  },
  {
   "cell_type": "code",
   "execution_count": null,
   "metadata": {
    "collapsed": true
   },
   "outputs": [],
   "source": [
    "def get_closest_buste_trip_next_stop(next_stops,next_o_stop_lat,next_o_stop_lon):\n",
    "    trip_next_stops = next_stops.withColumn('next_o_stop_lat',F.lit(next_o_stop_lat)) \\\n",
    "                                 .withColumn('next_o_stop_lon',F.lit(next_o_stop_lon))    \n",
    "    return trip_next_stops.withColumn('dist',dist('shapeLat', 'shapeLon','next_o_stop_lat','next_o_stop_lon')) \\\n",
    "                        .orderBy('dist') \\\n",
    "                        .select(['id','dist']) \\\n",
    "                        .first()\n",
    "    "
   ]
  },
  {
   "cell_type": "code",
   "execution_count": null,
   "metadata": {},
   "outputs": [],
   "source": [
    "print_df(pre_od_data.limit(size_limit))"
   ]
  },
  {
   "cell_type": "code",
   "execution_count": null,
   "metadata": {},
   "outputs": [],
   "source": [
    "size_limit = 4\n",
    "\n",
    "destinations = [None] * size_limit\n",
    "index = 0\n",
    "\n",
    "for row in pre_od_data.limit(size_limit).rdd.collect():\n",
    "    st1 = time.time()\n",
    "    #next_stops = get_buste_trip_next_stops(bus_trip_data,row['o_route'],row['o_bus_code'],row['o_tripNum'],row['o_stop_id'],row['o_unixtimestamp'])\n",
    "    next_stops = get_buste_trip_next_stops2(bus_trip_data,row['o_route'],row['o_bus_code'],row['o_tripNum'],row['o_stop_id'],row['o_unixtimestamp'])\n",
    "    \n",
    "    if (next_stops.rdd.isEmpty()):\n",
    "        print \"No next stops found\"\n",
    "        print \"Time to run next stops:\", time.time() - st1\n",
    "#         destinations[index] = (None,)*6 + (-1,)\n",
    "    else:\n",
    "        print next_stops.count(), \"next stops found!\"\n",
    "        next_stops.show()\n",
    "        print \"Time to run next stops:\", time.time() - st1\n",
    "\n",
    "#         st2 = time.time()\n",
    "#         closest_next_stop = get_closest_buste_trip_next_stop(next_stops,row['next_o_shape_lat'],row['next_o_shape_lon'])\n",
    "#         closest_next_stop['id']\n",
    "#         print \"Time to run closest stop:\", time.time() - st2\n",
    "        \n",
    "        #if closest_next_stop == None:\n",
    "        #    print \"No Stop found!\"\n",
    "            #destinations[index] = (None,)*6 + (-3,)\n",
    "        #else:\n",
    "            #print closest_next_stop\n",
    "#                 if closest_next_stop['dist'] <= 1:\n",
    "#                     #print \"OK!\"\n",
    "#                     #destinations[index] = (closest_next_stop['stop_id'],closest_next_stop['dist'],1)\n",
    "#                     destinations[index] = tuple(v for v in closest_next_stop) + (1,)\n",
    "#                 else:\n",
    "#                     #print \"Too far!\"\n",
    "#                     destinations[index] = tuple(v for v in closest_next_stop) + (0,)\n",
    "                    \n",
    "                \n",
    "            \n",
    "#     index+=1\n",
    "    \n",
    "\n",
    "    \n",
    "# schema = T.StructType([\n",
    "#     T.StructField(\"d_stop_id\", T.IntegerType(), True),\n",
    "#     T.StructField(\"dist_to_next_o\", T.DoubleType(), True),\n",
    "#     T.StructField(\"result\", T.IntegerType(), True)\n",
    "# ])\n",
    "\n",
    "# destinations_df = sqlContext.createDataFrame([((tup[0]), (tup[1]), (tup[2])) for tup in destinations],schema)"
   ]
  },
  {
   "cell_type": "code",
   "execution_count": null,
   "metadata": {},
   "outputs": [],
   "source": [
    "get_buste_trip_next_stops(bus_trip_data,175,'BC289',10,31749,72165).show()"
   ]
  },
  {
   "cell_type": "code",
   "execution_count": null,
   "metadata": {},
   "outputs": [],
   "source": [
    "pre_od_data.columns"
   ]
  },
  {
   "cell_type": "code",
   "execution_count": null,
   "metadata": {},
   "outputs": [],
   "source": [
    "bus_trip_data.columns"
   ]
  },
  {
   "cell_type": "code",
   "execution_count": null,
   "metadata": {
    "collapsed": true
   },
   "outputs": [],
   "source": [
    "next_stops = get_trip_next_stops(bus_trip_data,'022','BL307',1,1494324183)\n",
    "print_df(next_stops)"
   ]
  },
  {
   "cell_type": "code",
   "execution_count": null,
   "metadata": {
    "collapsed": true
   },
   "outputs": [],
   "source": [
    "8 \t022 \tBL307 \t1 \t25821 \t1494324731 \t07:12:11\n",
    "9 \t022 \tBL307 \t1 \t26246 \t1494325361 \t07:22:41\n",
    "10 \t022 \tBL307 \t1 \t26240 \t1494325564 \t07:26:04\n",
    "11 \t022 \tBL307 \t1 \t25681 \t1494326340 \t07:39:00\n",
    "12 \t022 \tBL307 \t1 \t26284 \t1494326896 \t07:48:16"
   ]
  },
  {
   "cell_type": "code",
   "execution_count": null,
   "metadata": {
    "collapsed": true
   },
   "outputs": [],
   "source": [
    "next_stops = next_stops.withColumn('d_stopId',F.lit(33717))"
   ]
  },
  {
   "cell_type": "code",
   "execution_count": null,
   "metadata": {
    "collapsed": true
   },
   "outputs": [],
   "source": [
    "print_df(next_stops)"
   ]
  },
  {
   "cell_type": "code",
   "execution_count": null,
   "metadata": {
    "collapsed": true
   },
   "outputs": [],
   "source": [
    "#next_stops = next_stops.withColumn('dist',get_stops_dist(stops_dist_table,next_stops.busStopId,next_stops.d_stopid))"
   ]
  },
  {
   "cell_type": "code",
   "execution_count": null,
   "metadata": {
    "collapsed": true
   },
   "outputs": [],
   "source": [
    "next_stops_dist = next_stops.join(stops_dist_table, (next_stops.busStopId == stops_dist_table.o_busStopId) & (next_stops.d_stopId == stops_dist_table.d_busStopId), 'inner') \\\n",
    "                    .select(['route','busCode','tripNum','o_busStopId','o_shapeLat','o_shapeLon','d_busStopId','d_shapeLat','d_shapeLon','timestamp','dist']) \\\n",
    "                    .orderBy('dist').first()"
   ]
  },
  {
   "cell_type": "code",
   "execution_count": null,
   "metadata": {
    "collapsed": true
   },
   "outputs": [],
   "source": [
    "next_stops_dist['dist']"
   ]
  },
  {
   "cell_type": "markdown",
   "metadata": {},
   "source": [
    "### Trying a different approach"
   ]
  },
  {
   "cell_type": "code",
   "execution_count": 8,
   "metadata": {},
   "outputs": [
    {
     "data": {
      "text/plain": [
       "['o_route',\n",
       " 'o_bus_code',\n",
       " 'o_date',\n",
       " 'o_tripNum',\n",
       " 'o_timestamp',\n",
       " 'o_shape_id',\n",
       " 'o_shape_seq',\n",
       " 'o_shape_lat',\n",
       " 'o_shape_lon',\n",
       " 'o_stop_id',\n",
       " 'o_boarding_id',\n",
       " 'cardNum',\n",
       " 'next_o_route',\n",
       " 'next_o_bus_code',\n",
       " 'next_o_date',\n",
       " 'next_o_tripNum',\n",
       " 'next_o_timestamp',\n",
       " 'next_o_shape_id',\n",
       " 'next_o_shape_seq',\n",
       " 'next_o_shape_lat',\n",
       " 'next_o_shape_lon',\n",
       " 'next_o_stop_id',\n",
       " 'next_o_boarding_id',\n",
       " 'o_unixtimestamp',\n",
       " 'next_o_unixtimestamp',\n",
       " 'leg_duration']"
      ]
     },
     "execution_count": 8,
     "metadata": {},
     "output_type": "execute_result"
    }
   ],
   "source": [
    "pre_od_data.columns"
   ]
  },
  {
   "cell_type": "code",
   "execution_count": 9,
   "metadata": {
    "scrolled": true
   },
   "outputs": [
    {
     "data": {
      "text/plain": [
       "['route',\n",
       " 'tripNum',\n",
       " 'shapeId',\n",
       " 'shapeSequence',\n",
       " 'shapeLat',\n",
       " 'shapeLon',\n",
       " 'distanceTraveledShape',\n",
       " 'busCode',\n",
       " 'gpsPointId',\n",
       " 'gpsLat',\n",
       " 'gpsLon',\n",
       " 'distanceToShapePoint',\n",
       " 'timestamp',\n",
       " 'busStopId',\n",
       " 'problem',\n",
       " 'numPassengers',\n",
       " 'date',\n",
       " 'gps_timestamp',\n",
       " 'gps_timestamp_in_secs',\n",
       " 'id']"
      ]
     },
     "execution_count": 9,
     "metadata": {},
     "output_type": "execute_result"
    }
   ],
   "source": [
    "bus_trip_data.columns"
   ]
  },
  {
   "cell_type": "code",
   "execution_count": 10,
   "metadata": {
    "collapsed": true
   },
   "outputs": [],
   "source": [
    "pre_od_data_sample = pre_od_data.limit(10)"
   ]
  },
  {
   "cell_type": "code",
   "execution_count": 11,
   "metadata": {
    "collapsed": true
   },
   "outputs": [],
   "source": [
    "cond = [bus_trip_data.route == pre_od_data_sample.o_route, \n",
    "        bus_trip_data.busCode == pre_od_data_sample.o_bus_code, \n",
    "        bus_trip_data.date == pre_od_data_sample.o_date,\n",
    "        bus_trip_data.tripNum == pre_od_data_sample.o_tripNum,\n",
    "        bus_trip_data.busStopId == pre_od_data_sample.o_stop_id]\n",
    "od_trips = bus_trip_data.join(pre_od_data_sample, cond, 'left')"
   ]
  },
  {
   "cell_type": "code",
   "execution_count": 12,
   "metadata": {},
   "outputs": [
    {
     "data": {
      "text/html": [
       "<div>\n",
       "<style>\n",
       "    .dataframe thead tr:only-child th {\n",
       "        text-align: right;\n",
       "    }\n",
       "\n",
       "    .dataframe thead th {\n",
       "        text-align: left;\n",
       "    }\n",
       "\n",
       "    .dataframe tbody tr th {\n",
       "        vertical-align: top;\n",
       "    }\n",
       "</style>\n",
       "<table border=\"1\" class=\"dataframe\">\n",
       "  <thead>\n",
       "    <tr style=\"text-align: right;\">\n",
       "      <th></th>\n",
       "      <th>route</th>\n",
       "      <th>tripNum</th>\n",
       "      <th>shapeId</th>\n",
       "      <th>shapeSequence</th>\n",
       "      <th>shapeLat</th>\n",
       "      <th>shapeLon</th>\n",
       "      <th>distanceTraveledShape</th>\n",
       "      <th>busCode</th>\n",
       "      <th>gpsPointId</th>\n",
       "      <th>gpsLat</th>\n",
       "      <th>...</th>\n",
       "      <th>next_o_timestamp</th>\n",
       "      <th>next_o_shape_id</th>\n",
       "      <th>next_o_shape_seq</th>\n",
       "      <th>next_o_shape_lat</th>\n",
       "      <th>next_o_shape_lon</th>\n",
       "      <th>next_o_stop_id</th>\n",
       "      <th>next_o_boarding_id</th>\n",
       "      <th>o_unixtimestamp</th>\n",
       "      <th>next_o_unixtimestamp</th>\n",
       "      <th>leg_duration</th>\n",
       "    </tr>\n",
       "  </thead>\n",
       "  <tbody>\n",
       "    <tr>\n",
       "      <th>0</th>\n",
       "      <td>NaN</td>\n",
       "      <td>1</td>\n",
       "      <td>2934</td>\n",
       "      <td>6446501</td>\n",
       "      <td>-25.452183</td>\n",
       "      <td>-49.224040</td>\n",
       "      <td>0.000</td>\n",
       "      <td>DC852</td>\n",
       "      <td>None</td>\n",
       "      <td>-25.452220</td>\n",
       "      <td>...</td>\n",
       "      <td>None</td>\n",
       "      <td>None</td>\n",
       "      <td>None</td>\n",
       "      <td>None</td>\n",
       "      <td>None</td>\n",
       "      <td>None</td>\n",
       "      <td>None</td>\n",
       "      <td>None</td>\n",
       "      <td>None</td>\n",
       "      <td>None</td>\n",
       "    </tr>\n",
       "    <tr>\n",
       "      <th>1</th>\n",
       "      <td>NaN</td>\n",
       "      <td>1</td>\n",
       "      <td>2934</td>\n",
       "      <td>6447496</td>\n",
       "      <td>-25.450932</td>\n",
       "      <td>-49.219970</td>\n",
       "      <td>432.312</td>\n",
       "      <td>DC852</td>\n",
       "      <td>None</td>\n",
       "      <td>-25.450976</td>\n",
       "      <td>...</td>\n",
       "      <td>None</td>\n",
       "      <td>None</td>\n",
       "      <td>None</td>\n",
       "      <td>None</td>\n",
       "      <td>None</td>\n",
       "      <td>None</td>\n",
       "      <td>None</td>\n",
       "      <td>None</td>\n",
       "      <td>None</td>\n",
       "      <td>None</td>\n",
       "    </tr>\n",
       "    <tr>\n",
       "      <th>2</th>\n",
       "      <td>NaN</td>\n",
       "      <td>1</td>\n",
       "      <td>2934</td>\n",
       "      <td>6447510</td>\n",
       "      <td>-25.448710</td>\n",
       "      <td>-49.220020</td>\n",
       "      <td>739.771</td>\n",
       "      <td>DC852</td>\n",
       "      <td>None</td>\n",
       "      <td>-25.448616</td>\n",
       "      <td>...</td>\n",
       "      <td>None</td>\n",
       "      <td>None</td>\n",
       "      <td>None</td>\n",
       "      <td>None</td>\n",
       "      <td>None</td>\n",
       "      <td>None</td>\n",
       "      <td>None</td>\n",
       "      <td>None</td>\n",
       "      <td>None</td>\n",
       "      <td>None</td>\n",
       "    </tr>\n",
       "    <tr>\n",
       "      <th>3</th>\n",
       "      <td>NaN</td>\n",
       "      <td>1</td>\n",
       "      <td>2934</td>\n",
       "      <td>6447525</td>\n",
       "      <td>-25.446724</td>\n",
       "      <td>-49.221252</td>\n",
       "      <td>1001.839</td>\n",
       "      <td>DC852</td>\n",
       "      <td>None</td>\n",
       "      <td>-25.446655</td>\n",
       "      <td>...</td>\n",
       "      <td>None</td>\n",
       "      <td>None</td>\n",
       "      <td>None</td>\n",
       "      <td>None</td>\n",
       "      <td>None</td>\n",
       "      <td>None</td>\n",
       "      <td>None</td>\n",
       "      <td>None</td>\n",
       "      <td>None</td>\n",
       "      <td>None</td>\n",
       "    </tr>\n",
       "    <tr>\n",
       "      <th>4</th>\n",
       "      <td>NaN</td>\n",
       "      <td>1</td>\n",
       "      <td>2934</td>\n",
       "      <td>6447538</td>\n",
       "      <td>-25.444639</td>\n",
       "      <td>-49.223163</td>\n",
       "      <td>1393.901</td>\n",
       "      <td>DC852</td>\n",
       "      <td>None</td>\n",
       "      <td>-25.444756</td>\n",
       "      <td>...</td>\n",
       "      <td>None</td>\n",
       "      <td>None</td>\n",
       "      <td>None</td>\n",
       "      <td>None</td>\n",
       "      <td>None</td>\n",
       "      <td>None</td>\n",
       "      <td>None</td>\n",
       "      <td>None</td>\n",
       "      <td>None</td>\n",
       "      <td>None</td>\n",
       "    </tr>\n",
       "    <tr>\n",
       "      <th>5</th>\n",
       "      <td>NaN</td>\n",
       "      <td>1</td>\n",
       "      <td>2934</td>\n",
       "      <td>6447574</td>\n",
       "      <td>-25.440200</td>\n",
       "      <td>-49.221386</td>\n",
       "      <td>2247.402</td>\n",
       "      <td>DC852</td>\n",
       "      <td>None</td>\n",
       "      <td>-25.440206</td>\n",
       "      <td>...</td>\n",
       "      <td>None</td>\n",
       "      <td>None</td>\n",
       "      <td>None</td>\n",
       "      <td>None</td>\n",
       "      <td>None</td>\n",
       "      <td>None</td>\n",
       "      <td>None</td>\n",
       "      <td>None</td>\n",
       "      <td>None</td>\n",
       "      <td>None</td>\n",
       "    </tr>\n",
       "    <tr>\n",
       "      <th>6</th>\n",
       "      <td>1.0</td>\n",
       "      <td>1</td>\n",
       "      <td>2938</td>\n",
       "      <td>6451385</td>\n",
       "      <td>-25.428133</td>\n",
       "      <td>-49.264531</td>\n",
       "      <td>338.081</td>\n",
       "      <td>BN997</td>\n",
       "      <td>None</td>\n",
       "      <td>-25.428198</td>\n",
       "      <td>...</td>\n",
       "      <td>None</td>\n",
       "      <td>None</td>\n",
       "      <td>None</td>\n",
       "      <td>None</td>\n",
       "      <td>None</td>\n",
       "      <td>None</td>\n",
       "      <td>None</td>\n",
       "      <td>None</td>\n",
       "      <td>None</td>\n",
       "      <td>None</td>\n",
       "    </tr>\n",
       "    <tr>\n",
       "      <th>7</th>\n",
       "      <td>1.0</td>\n",
       "      <td>1</td>\n",
       "      <td>2938</td>\n",
       "      <td>6451394</td>\n",
       "      <td>-25.430622</td>\n",
       "      <td>-49.263426</td>\n",
       "      <td>635.815</td>\n",
       "      <td>BN997</td>\n",
       "      <td>None</td>\n",
       "      <td>-25.430830</td>\n",
       "      <td>...</td>\n",
       "      <td>None</td>\n",
       "      <td>None</td>\n",
       "      <td>None</td>\n",
       "      <td>None</td>\n",
       "      <td>None</td>\n",
       "      <td>None</td>\n",
       "      <td>None</td>\n",
       "      <td>None</td>\n",
       "      <td>None</td>\n",
       "      <td>None</td>\n",
       "    </tr>\n",
       "    <tr>\n",
       "      <th>8</th>\n",
       "      <td>1.0</td>\n",
       "      <td>1</td>\n",
       "      <td>2938</td>\n",
       "      <td>6451403</td>\n",
       "      <td>-25.433455</td>\n",
       "      <td>-49.262219</td>\n",
       "      <td>972.378</td>\n",
       "      <td>BN997</td>\n",
       "      <td>None</td>\n",
       "      <td>NaN</td>\n",
       "      <td>...</td>\n",
       "      <td>None</td>\n",
       "      <td>None</td>\n",
       "      <td>None</td>\n",
       "      <td>None</td>\n",
       "      <td>None</td>\n",
       "      <td>None</td>\n",
       "      <td>None</td>\n",
       "      <td>None</td>\n",
       "      <td>None</td>\n",
       "      <td>None</td>\n",
       "    </tr>\n",
       "    <tr>\n",
       "      <th>9</th>\n",
       "      <td>1.0</td>\n",
       "      <td>1</td>\n",
       "      <td>2938</td>\n",
       "      <td>6451415</td>\n",
       "      <td>-25.435452</td>\n",
       "      <td>-49.265462</td>\n",
       "      <td>1428.729</td>\n",
       "      <td>BN997</td>\n",
       "      <td>None</td>\n",
       "      <td>-25.435406</td>\n",
       "      <td>...</td>\n",
       "      <td>None</td>\n",
       "      <td>None</td>\n",
       "      <td>None</td>\n",
       "      <td>None</td>\n",
       "      <td>None</td>\n",
       "      <td>None</td>\n",
       "      <td>None</td>\n",
       "      <td>None</td>\n",
       "      <td>None</td>\n",
       "      <td>None</td>\n",
       "    </tr>\n",
       "  </tbody>\n",
       "</table>\n",
       "<p>10 rows × 46 columns</p>\n",
       "</div>"
      ],
      "text/plain": [
       "   route  tripNum  shapeId  shapeSequence   shapeLat   shapeLon  \\\n",
       "0    NaN        1     2934        6446501 -25.452183 -49.224040   \n",
       "1    NaN        1     2934        6447496 -25.450932 -49.219970   \n",
       "2    NaN        1     2934        6447510 -25.448710 -49.220020   \n",
       "3    NaN        1     2934        6447525 -25.446724 -49.221252   \n",
       "4    NaN        1     2934        6447538 -25.444639 -49.223163   \n",
       "5    NaN        1     2934        6447574 -25.440200 -49.221386   \n",
       "6    1.0        1     2938        6451385 -25.428133 -49.264531   \n",
       "7    1.0        1     2938        6451394 -25.430622 -49.263426   \n",
       "8    1.0        1     2938        6451403 -25.433455 -49.262219   \n",
       "9    1.0        1     2938        6451415 -25.435452 -49.265462   \n",
       "\n",
       "   distanceTraveledShape busCode gpsPointId     gpsLat      ...       \\\n",
       "0                  0.000   DC852       None -25.452220      ...        \n",
       "1                432.312   DC852       None -25.450976      ...        \n",
       "2                739.771   DC852       None -25.448616      ...        \n",
       "3               1001.839   DC852       None -25.446655      ...        \n",
       "4               1393.901   DC852       None -25.444756      ...        \n",
       "5               2247.402   DC852       None -25.440206      ...        \n",
       "6                338.081   BN997       None -25.428198      ...        \n",
       "7                635.815   BN997       None -25.430830      ...        \n",
       "8                972.378   BN997       None        NaN      ...        \n",
       "9               1428.729   BN997       None -25.435406      ...        \n",
       "\n",
       "   next_o_timestamp  next_o_shape_id next_o_shape_seq  next_o_shape_lat  \\\n",
       "0              None             None             None              None   \n",
       "1              None             None             None              None   \n",
       "2              None             None             None              None   \n",
       "3              None             None             None              None   \n",
       "4              None             None             None              None   \n",
       "5              None             None             None              None   \n",
       "6              None             None             None              None   \n",
       "7              None             None             None              None   \n",
       "8              None             None             None              None   \n",
       "9              None             None             None              None   \n",
       "\n",
       "  next_o_shape_lon  next_o_stop_id next_o_boarding_id o_unixtimestamp  \\\n",
       "0             None            None               None            None   \n",
       "1             None            None               None            None   \n",
       "2             None            None               None            None   \n",
       "3             None            None               None            None   \n",
       "4             None            None               None            None   \n",
       "5             None            None               None            None   \n",
       "6             None            None               None            None   \n",
       "7             None            None               None            None   \n",
       "8             None            None               None            None   \n",
       "9             None            None               None            None   \n",
       "\n",
       "   next_o_unixtimestamp  leg_duration  \n",
       "0                  None          None  \n",
       "1                  None          None  \n",
       "2                  None          None  \n",
       "3                  None          None  \n",
       "4                  None          None  \n",
       "5                  None          None  \n",
       "6                  None          None  \n",
       "7                  None          None  \n",
       "8                  None          None  \n",
       "9                  None          None  \n",
       "\n",
       "[10 rows x 46 columns]"
      ]
     },
     "execution_count": 12,
     "metadata": {},
     "output_type": "execute_result"
    }
   ],
   "source": [
    "print_df(od_trips.orderBy(['route','busCode','tripNum','gps_timestamp_in_secs']))"
   ]
  },
  {
   "cell_type": "code",
   "execution_count": 18,
   "metadata": {},
   "outputs": [
    {
     "data": {
      "text/html": [
       "<div>\n",
       "<style>\n",
       "    .dataframe thead tr:only-child th {\n",
       "        text-align: right;\n",
       "    }\n",
       "\n",
       "    .dataframe thead th {\n",
       "        text-align: left;\n",
       "    }\n",
       "\n",
       "    .dataframe tbody tr th {\n",
       "        vertical-align: top;\n",
       "    }\n",
       "</style>\n",
       "<table border=\"1\" class=\"dataframe\">\n",
       "  <thead>\n",
       "    <tr style=\"text-align: right;\">\n",
       "      <th></th>\n",
       "      <th>route</th>\n",
       "      <th>tripNum</th>\n",
       "      <th>shapeId</th>\n",
       "      <th>shapeSequence</th>\n",
       "      <th>shapeLat</th>\n",
       "      <th>shapeLon</th>\n",
       "      <th>distanceTraveledShape</th>\n",
       "      <th>busCode</th>\n",
       "      <th>gpsPointId</th>\n",
       "      <th>gpsLat</th>\n",
       "      <th>gpsLon</th>\n",
       "      <th>distanceToShapePoint</th>\n",
       "      <th>timestamp</th>\n",
       "      <th>busStopId</th>\n",
       "      <th>problem</th>\n",
       "      <th>numPassengers</th>\n",
       "      <th>date</th>\n",
       "      <th>gps_timestamp</th>\n",
       "      <th>gps_timestamp_in_secs</th>\n",
       "      <th>id</th>\n",
       "    </tr>\n",
       "  </thead>\n",
       "  <tbody>\n",
       "    <tr>\n",
       "      <th>0</th>\n",
       "      <td>NaN</td>\n",
       "      <td>1</td>\n",
       "      <td>2934</td>\n",
       "      <td>6446501</td>\n",
       "      <td>-25.452183</td>\n",
       "      <td>-49.224040</td>\n",
       "      <td>0.000</td>\n",
       "      <td>DC852</td>\n",
       "      <td>None</td>\n",
       "      <td>-25.452220</td>\n",
       "      <td>-49.224016</td>\n",
       "      <td>4.743753</td>\n",
       "      <td>07:39:06</td>\n",
       "      <td>14404</td>\n",
       "      <td>NO_PROBLEM</td>\n",
       "      <td>0</td>\n",
       "      <td>2017-05-09</td>\n",
       "      <td>2017-05-09 07:39:06</td>\n",
       "      <td>1494326346</td>\n",
       "      <td>1709396986661</td>\n",
       "    </tr>\n",
       "    <tr>\n",
       "      <th>1</th>\n",
       "      <td>NaN</td>\n",
       "      <td>1</td>\n",
       "      <td>2934</td>\n",
       "      <td>6447496</td>\n",
       "      <td>-25.450932</td>\n",
       "      <td>-49.219970</td>\n",
       "      <td>432.312</td>\n",
       "      <td>DC852</td>\n",
       "      <td>None</td>\n",
       "      <td>-25.450976</td>\n",
       "      <td>-49.220008</td>\n",
       "      <td>6.208857</td>\n",
       "      <td>07:40:11</td>\n",
       "      <td>32415</td>\n",
       "      <td>NO_PROBLEM</td>\n",
       "      <td>0</td>\n",
       "      <td>2017-05-09</td>\n",
       "      <td>2017-05-09 07:40:11</td>\n",
       "      <td>1494326411</td>\n",
       "      <td>1709396986662</td>\n",
       "    </tr>\n",
       "    <tr>\n",
       "      <th>2</th>\n",
       "      <td>NaN</td>\n",
       "      <td>1</td>\n",
       "      <td>2934</td>\n",
       "      <td>6447510</td>\n",
       "      <td>-25.448710</td>\n",
       "      <td>-49.220020</td>\n",
       "      <td>739.771</td>\n",
       "      <td>DC852</td>\n",
       "      <td>None</td>\n",
       "      <td>-25.448616</td>\n",
       "      <td>-49.220005</td>\n",
       "      <td>10.545214</td>\n",
       "      <td>07:40:58</td>\n",
       "      <td>32413</td>\n",
       "      <td>NO_PROBLEM</td>\n",
       "      <td>0</td>\n",
       "      <td>2017-05-09</td>\n",
       "      <td>2017-05-09 07:40:58</td>\n",
       "      <td>1494326458</td>\n",
       "      <td>1709396986663</td>\n",
       "    </tr>\n",
       "    <tr>\n",
       "      <th>3</th>\n",
       "      <td>NaN</td>\n",
       "      <td>1</td>\n",
       "      <td>2934</td>\n",
       "      <td>6447525</td>\n",
       "      <td>-25.446724</td>\n",
       "      <td>-49.221252</td>\n",
       "      <td>1001.839</td>\n",
       "      <td>DC852</td>\n",
       "      <td>None</td>\n",
       "      <td>-25.446655</td>\n",
       "      <td>-49.221266</td>\n",
       "      <td>7.777327</td>\n",
       "      <td>07:41:54</td>\n",
       "      <td>32412</td>\n",
       "      <td>NO_PROBLEM</td>\n",
       "      <td>0</td>\n",
       "      <td>2017-05-09</td>\n",
       "      <td>2017-05-09 07:41:54</td>\n",
       "      <td>1494326514</td>\n",
       "      <td>1709396986664</td>\n",
       "    </tr>\n",
       "    <tr>\n",
       "      <th>4</th>\n",
       "      <td>NaN</td>\n",
       "      <td>1</td>\n",
       "      <td>2934</td>\n",
       "      <td>6447538</td>\n",
       "      <td>-25.444639</td>\n",
       "      <td>-49.223163</td>\n",
       "      <td>1393.901</td>\n",
       "      <td>DC852</td>\n",
       "      <td>None</td>\n",
       "      <td>-25.444756</td>\n",
       "      <td>-49.223120</td>\n",
       "      <td>13.686690</td>\n",
       "      <td>07:42:55</td>\n",
       "      <td>33024</td>\n",
       "      <td>NO_PROBLEM</td>\n",
       "      <td>0</td>\n",
       "      <td>2017-05-09</td>\n",
       "      <td>2017-05-09 07:42:55</td>\n",
       "      <td>1494326575</td>\n",
       "      <td>1709396986665</td>\n",
       "    </tr>\n",
       "    <tr>\n",
       "      <th>5</th>\n",
       "      <td>NaN</td>\n",
       "      <td>1</td>\n",
       "      <td>2934</td>\n",
       "      <td>6447574</td>\n",
       "      <td>-25.440200</td>\n",
       "      <td>-49.221386</td>\n",
       "      <td>2247.402</td>\n",
       "      <td>DC852</td>\n",
       "      <td>None</td>\n",
       "      <td>-25.440206</td>\n",
       "      <td>-49.221395</td>\n",
       "      <td>1.111246</td>\n",
       "      <td>07:46:37</td>\n",
       "      <td>27959</td>\n",
       "      <td>NO_PROBLEM</td>\n",
       "      <td>0</td>\n",
       "      <td>2017-05-09</td>\n",
       "      <td>2017-05-09 07:46:37</td>\n",
       "      <td>1494326797</td>\n",
       "      <td>1709396986666</td>\n",
       "    </tr>\n",
       "    <tr>\n",
       "      <th>6</th>\n",
       "      <td>1.0</td>\n",
       "      <td>1</td>\n",
       "      <td>2938</td>\n",
       "      <td>6451385</td>\n",
       "      <td>-25.428133</td>\n",
       "      <td>-49.264531</td>\n",
       "      <td>338.081</td>\n",
       "      <td>BN997</td>\n",
       "      <td>None</td>\n",
       "      <td>-25.428198</td>\n",
       "      <td>-49.264428</td>\n",
       "      <td>12.657534</td>\n",
       "      <td>06:21:08</td>\n",
       "      <td>29887</td>\n",
       "      <td>NO_PROBLEM</td>\n",
       "      <td>0</td>\n",
       "      <td>2017-05-09</td>\n",
       "      <td>2017-05-09 06:21:08</td>\n",
       "      <td>1494321668</td>\n",
       "      <td>0</td>\n",
       "    </tr>\n",
       "    <tr>\n",
       "      <th>7</th>\n",
       "      <td>1.0</td>\n",
       "      <td>1</td>\n",
       "      <td>2938</td>\n",
       "      <td>6451394</td>\n",
       "      <td>-25.430622</td>\n",
       "      <td>-49.263426</td>\n",
       "      <td>635.815</td>\n",
       "      <td>BN997</td>\n",
       "      <td>None</td>\n",
       "      <td>-25.430830</td>\n",
       "      <td>-49.263316</td>\n",
       "      <td>25.616758</td>\n",
       "      <td>06:22:10</td>\n",
       "      <td>31453</td>\n",
       "      <td>NO_PROBLEM</td>\n",
       "      <td>0</td>\n",
       "      <td>2017-05-09</td>\n",
       "      <td>2017-05-09 06:22:10</td>\n",
       "      <td>1494321730</td>\n",
       "      <td>1</td>\n",
       "    </tr>\n",
       "    <tr>\n",
       "      <th>8</th>\n",
       "      <td>1.0</td>\n",
       "      <td>1</td>\n",
       "      <td>2938</td>\n",
       "      <td>6451403</td>\n",
       "      <td>-25.433455</td>\n",
       "      <td>-49.262219</td>\n",
       "      <td>972.378</td>\n",
       "      <td>BN997</td>\n",
       "      <td>None</td>\n",
       "      <td>NaN</td>\n",
       "      <td>NaN</td>\n",
       "      <td>NaN</td>\n",
       "      <td>06:22:44</td>\n",
       "      <td>31454</td>\n",
       "      <td>BETWEEN</td>\n",
       "      <td>0</td>\n",
       "      <td>2017-05-09</td>\n",
       "      <td>2017-05-09 06:22:44</td>\n",
       "      <td>1494321764</td>\n",
       "      <td>2</td>\n",
       "    </tr>\n",
       "    <tr>\n",
       "      <th>9</th>\n",
       "      <td>1.0</td>\n",
       "      <td>1</td>\n",
       "      <td>2938</td>\n",
       "      <td>6451415</td>\n",
       "      <td>-25.435452</td>\n",
       "      <td>-49.265462</td>\n",
       "      <td>1428.729</td>\n",
       "      <td>BN997</td>\n",
       "      <td>None</td>\n",
       "      <td>-25.435406</td>\n",
       "      <td>-49.265455</td>\n",
       "      <td>5.110665</td>\n",
       "      <td>06:24:42</td>\n",
       "      <td>30748</td>\n",
       "      <td>NO_PROBLEM</td>\n",
       "      <td>0</td>\n",
       "      <td>2017-05-09</td>\n",
       "      <td>2017-05-09 06:24:42</td>\n",
       "      <td>1494321882</td>\n",
       "      <td>3</td>\n",
       "    </tr>\n",
       "  </tbody>\n",
       "</table>\n",
       "</div>"
      ],
      "text/plain": [
       "   route  tripNum  shapeId  shapeSequence   shapeLat   shapeLon  \\\n",
       "0    NaN        1     2934        6446501 -25.452183 -49.224040   \n",
       "1    NaN        1     2934        6447496 -25.450932 -49.219970   \n",
       "2    NaN        1     2934        6447510 -25.448710 -49.220020   \n",
       "3    NaN        1     2934        6447525 -25.446724 -49.221252   \n",
       "4    NaN        1     2934        6447538 -25.444639 -49.223163   \n",
       "5    NaN        1     2934        6447574 -25.440200 -49.221386   \n",
       "6    1.0        1     2938        6451385 -25.428133 -49.264531   \n",
       "7    1.0        1     2938        6451394 -25.430622 -49.263426   \n",
       "8    1.0        1     2938        6451403 -25.433455 -49.262219   \n",
       "9    1.0        1     2938        6451415 -25.435452 -49.265462   \n",
       "\n",
       "   distanceTraveledShape busCode gpsPointId     gpsLat     gpsLon  \\\n",
       "0                  0.000   DC852       None -25.452220 -49.224016   \n",
       "1                432.312   DC852       None -25.450976 -49.220008   \n",
       "2                739.771   DC852       None -25.448616 -49.220005   \n",
       "3               1001.839   DC852       None -25.446655 -49.221266   \n",
       "4               1393.901   DC852       None -25.444756 -49.223120   \n",
       "5               2247.402   DC852       None -25.440206 -49.221395   \n",
       "6                338.081   BN997       None -25.428198 -49.264428   \n",
       "7                635.815   BN997       None -25.430830 -49.263316   \n",
       "8                972.378   BN997       None        NaN        NaN   \n",
       "9               1428.729   BN997       None -25.435406 -49.265455   \n",
       "\n",
       "   distanceToShapePoint timestamp  busStopId     problem  numPassengers  \\\n",
       "0              4.743753  07:39:06      14404  NO_PROBLEM              0   \n",
       "1              6.208857  07:40:11      32415  NO_PROBLEM              0   \n",
       "2             10.545214  07:40:58      32413  NO_PROBLEM              0   \n",
       "3              7.777327  07:41:54      32412  NO_PROBLEM              0   \n",
       "4             13.686690  07:42:55      33024  NO_PROBLEM              0   \n",
       "5              1.111246  07:46:37      27959  NO_PROBLEM              0   \n",
       "6             12.657534  06:21:08      29887  NO_PROBLEM              0   \n",
       "7             25.616758  06:22:10      31453  NO_PROBLEM              0   \n",
       "8                   NaN  06:22:44      31454     BETWEEN              0   \n",
       "9              5.110665  06:24:42      30748  NO_PROBLEM              0   \n",
       "\n",
       "         date        gps_timestamp  gps_timestamp_in_secs             id  \n",
       "0  2017-05-09  2017-05-09 07:39:06             1494326346  1709396986661  \n",
       "1  2017-05-09  2017-05-09 07:40:11             1494326411  1709396986662  \n",
       "2  2017-05-09  2017-05-09 07:40:58             1494326458  1709396986663  \n",
       "3  2017-05-09  2017-05-09 07:41:54             1494326514  1709396986664  \n",
       "4  2017-05-09  2017-05-09 07:42:55             1494326575  1709396986665  \n",
       "5  2017-05-09  2017-05-09 07:46:37             1494326797  1709396986666  \n",
       "6  2017-05-09  2017-05-09 06:21:08             1494321668              0  \n",
       "7  2017-05-09  2017-05-09 06:22:10             1494321730              1  \n",
       "8  2017-05-09  2017-05-09 06:22:44             1494321764              2  \n",
       "9  2017-05-09  2017-05-09 06:24:42             1494321882              3  "
      ]
     },
     "execution_count": 18,
     "metadata": {},
     "output_type": "execute_result"
    }
   ],
   "source": [
    "print_df(bus_trip_data.orderBy(['route','busCode','tripNum','gps_timestamp_in_secs']))"
   ]
  }
 ],
 "metadata": {
  "kernelspec": {
   "display_name": "Python 2",
   "language": "python",
   "name": "python2"
  },
  "language_info": {
   "codemirror_mode": {
    "name": "ipython",
    "version": 2
   },
   "file_extension": ".py",
   "mimetype": "text/x-python",
   "name": "python",
   "nbconvert_exporter": "python",
   "pygments_lexer": "ipython2",
   "version": "2.7.14"
  }
 },
 "nbformat": 4,
 "nbformat_minor": 2
}
