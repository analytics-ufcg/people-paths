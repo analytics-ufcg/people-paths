{
 "cells": [
  {
   "cell_type": "code",
   "execution_count": 1,
   "metadata": {},
   "outputs": [],
   "source": [
    "import pandas as pd\n",
    "import numpy as np\n",
    "import seaborn as sns\n",
    "%matplotlib inline"
   ]
  },
  {
   "cell_type": "code",
   "execution_count": 2,
   "metadata": {},
   "outputs": [],
   "source": [
    "def build_heatmap_from_od_matrix(odmat,color_map,center_val,min_val,max_val,color_label):\n",
    "    heatmap_plt = sns.heatmap(odmat,cmap=color_map,\n",
    "                              center=center_val, vmin=min_val, vmax=max_val,\n",
    "                              cbar_kws={'label': color_label})\n",
    "    heatmap_plt.set(xlabel='Destination Macrozone', ylabel='Origin Macrozone')\n",
    "    #heatmap_plt.set_xticklabels(heatmap_plt.get_xticklabels(), rotation=40)\n",
    "    \n",
    "    return heatmap_plt"
   ]
  },
  {
   "cell_type": "code",
   "execution_count": 3,
   "metadata": {},
   "outputs": [],
   "source": [
    "div_scale_cmap = sns.diverging_palette(240, 0, n=10, as_cmap=True)\n",
    "green_cmap = sns.light_palette(\"green\")\n",
    "min_error = -0.06\n",
    "max_error = 0.06"
   ]
  },
  {
   "cell_type": "markdown",
   "metadata": {},
   "source": [
    "## Macrozones"
   ]
  },
  {
   "cell_type": "markdown",
   "metadata": {},
   "source": [
    "### Read and Prepare OD-Matrices"
   ]
  },
  {
   "cell_type": "markdown",
   "metadata": {},
   "source": [
    "### Naive Population Proportion Baseline"
   ]
  },
  {
   "cell_type": "code",
   "execution_count": 4,
   "metadata": {},
   "outputs": [],
   "source": [
    "naive_pop_prop_baseline_macrozones = pd.read_csv('/local/tarciso/data/od-mat-validation/od-matrices/pop_prop_naive_baseline_odmat_norm_freqs.csv', index_col=0)"
   ]
  },
  {
   "cell_type": "code",
   "execution_count": 5,
   "metadata": {},
   "outputs": [
    {
     "data": {
      "text/html": [
       "<div>\n",
       "<style scoped>\n",
       "    .dataframe tbody tr th:only-of-type {\n",
       "        vertical-align: middle;\n",
       "    }\n",
       "\n",
       "    .dataframe tbody tr th {\n",
       "        vertical-align: top;\n",
       "    }\n",
       "\n",
       "    .dataframe thead th {\n",
       "        text-align: right;\n",
       "    }\n",
       "</style>\n",
       "<table border=\"1\" class=\"dataframe\">\n",
       "  <thead>\n",
       "    <tr style=\"text-align: right;\">\n",
       "      <th></th>\n",
       "      <th>Matriz</th>\n",
       "      <th>Portão</th>\n",
       "      <th>Cajuru</th>\n",
       "      <th>Santa Felicidade</th>\n",
       "      <th>Boa Vista</th>\n",
       "      <th>Boqueirão</th>\n",
       "      <th>Pinheirinho</th>\n",
       "      <th>CIC</th>\n",
       "      <th>Bairro Novo</th>\n",
       "      <th>Tatuquara</th>\n",
       "    </tr>\n",
       "    <tr>\n",
       "      <th>name_macrozone</th>\n",
       "      <th></th>\n",
       "      <th></th>\n",
       "      <th></th>\n",
       "      <th></th>\n",
       "      <th></th>\n",
       "      <th></th>\n",
       "      <th></th>\n",
       "      <th></th>\n",
       "      <th></th>\n",
       "      <th></th>\n",
       "    </tr>\n",
       "  </thead>\n",
       "  <tbody>\n",
       "    <tr>\n",
       "      <th>Matriz</th>\n",
       "      <td>0.012139</td>\n",
       "      <td>0.010729</td>\n",
       "      <td>0.013528</td>\n",
       "      <td>0.009687</td>\n",
       "      <td>0.015622</td>\n",
       "      <td>0.011940</td>\n",
       "      <td>0.008796</td>\n",
       "      <td>0.011650</td>\n",
       "      <td>0.009520</td>\n",
       "      <td>0.006566</td>\n",
       "    </tr>\n",
       "    <tr>\n",
       "      <th>Portão</th>\n",
       "      <td>0.010729</td>\n",
       "      <td>0.009483</td>\n",
       "      <td>0.011957</td>\n",
       "      <td>0.008562</td>\n",
       "      <td>0.013808</td>\n",
       "      <td>0.010553</td>\n",
       "      <td>0.007774</td>\n",
       "      <td>0.010297</td>\n",
       "      <td>0.008414</td>\n",
       "      <td>0.005803</td>\n",
       "    </tr>\n",
       "    <tr>\n",
       "      <th>Cajuru</th>\n",
       "      <td>0.013528</td>\n",
       "      <td>0.011957</td>\n",
       "      <td>0.015077</td>\n",
       "      <td>0.010796</td>\n",
       "      <td>0.017411</td>\n",
       "      <td>0.013306</td>\n",
       "      <td>0.009803</td>\n",
       "      <td>0.012984</td>\n",
       "      <td>0.010610</td>\n",
       "      <td>0.007318</td>\n",
       "    </tr>\n",
       "    <tr>\n",
       "      <th>Santa Felicidade</th>\n",
       "      <td>0.009687</td>\n",
       "      <td>0.008562</td>\n",
       "      <td>0.010796</td>\n",
       "      <td>0.007730</td>\n",
       "      <td>0.012467</td>\n",
       "      <td>0.009528</td>\n",
       "      <td>0.007019</td>\n",
       "      <td>0.009297</td>\n",
       "      <td>0.007597</td>\n",
       "      <td>0.005240</td>\n",
       "    </tr>\n",
       "    <tr>\n",
       "      <th>Boa Vista</th>\n",
       "      <td>0.015622</td>\n",
       "      <td>0.013808</td>\n",
       "      <td>0.017411</td>\n",
       "      <td>0.012467</td>\n",
       "      <td>0.020105</td>\n",
       "      <td>0.015366</td>\n",
       "      <td>0.011320</td>\n",
       "      <td>0.014993</td>\n",
       "      <td>0.012252</td>\n",
       "      <td>0.008450</td>\n",
       "    </tr>\n",
       "    <tr>\n",
       "      <th>Boqueirão</th>\n",
       "      <td>0.011940</td>\n",
       "      <td>0.010553</td>\n",
       "      <td>0.013306</td>\n",
       "      <td>0.009528</td>\n",
       "      <td>0.015366</td>\n",
       "      <td>0.011744</td>\n",
       "      <td>0.008651</td>\n",
       "      <td>0.011459</td>\n",
       "      <td>0.009363</td>\n",
       "      <td>0.006458</td>\n",
       "    </tr>\n",
       "    <tr>\n",
       "      <th>Pinheirinho</th>\n",
       "      <td>0.008796</td>\n",
       "      <td>0.007774</td>\n",
       "      <td>0.009803</td>\n",
       "      <td>0.007019</td>\n",
       "      <td>0.011320</td>\n",
       "      <td>0.008651</td>\n",
       "      <td>0.006373</td>\n",
       "      <td>0.008441</td>\n",
       "      <td>0.006898</td>\n",
       "      <td>0.004758</td>\n",
       "    </tr>\n",
       "    <tr>\n",
       "      <th>CIC</th>\n",
       "      <td>0.011650</td>\n",
       "      <td>0.010297</td>\n",
       "      <td>0.012984</td>\n",
       "      <td>0.009297</td>\n",
       "      <td>0.014993</td>\n",
       "      <td>0.011459</td>\n",
       "      <td>0.008441</td>\n",
       "      <td>0.011181</td>\n",
       "      <td>0.009136</td>\n",
       "      <td>0.006302</td>\n",
       "    </tr>\n",
       "    <tr>\n",
       "      <th>Bairro Novo</th>\n",
       "      <td>0.009520</td>\n",
       "      <td>0.008414</td>\n",
       "      <td>0.010610</td>\n",
       "      <td>0.007597</td>\n",
       "      <td>0.012252</td>\n",
       "      <td>0.009363</td>\n",
       "      <td>0.006898</td>\n",
       "      <td>0.009136</td>\n",
       "      <td>0.007466</td>\n",
       "      <td>0.005149</td>\n",
       "    </tr>\n",
       "    <tr>\n",
       "      <th>Tatuquara</th>\n",
       "      <td>0.006566</td>\n",
       "      <td>0.005803</td>\n",
       "      <td>0.007318</td>\n",
       "      <td>0.005240</td>\n",
       "      <td>0.008450</td>\n",
       "      <td>0.006458</td>\n",
       "      <td>0.004758</td>\n",
       "      <td>0.006302</td>\n",
       "      <td>0.005149</td>\n",
       "      <td>0.003552</td>\n",
       "    </tr>\n",
       "  </tbody>\n",
       "</table>\n",
       "</div>"
      ],
      "text/plain": [
       "                    Matriz    Portão    Cajuru  Santa Felicidade  Boa Vista  \\\n",
       "name_macrozone                                                                \n",
       "Matriz            0.012139  0.010729  0.013528          0.009687   0.015622   \n",
       "Portão            0.010729  0.009483  0.011957          0.008562   0.013808   \n",
       "Cajuru            0.013528  0.011957  0.015077          0.010796   0.017411   \n",
       "Santa Felicidade  0.009687  0.008562  0.010796          0.007730   0.012467   \n",
       "Boa Vista         0.015622  0.013808  0.017411          0.012467   0.020105   \n",
       "Boqueirão         0.011940  0.010553  0.013306          0.009528   0.015366   \n",
       "Pinheirinho       0.008796  0.007774  0.009803          0.007019   0.011320   \n",
       "CIC               0.011650  0.010297  0.012984          0.009297   0.014993   \n",
       "Bairro Novo       0.009520  0.008414  0.010610          0.007597   0.012252   \n",
       "Tatuquara         0.006566  0.005803  0.007318          0.005240   0.008450   \n",
       "\n",
       "                  Boqueirão  Pinheirinho       CIC  Bairro Novo  Tatuquara  \n",
       "name_macrozone                                                              \n",
       "Matriz             0.011940     0.008796  0.011650     0.009520   0.006566  \n",
       "Portão             0.010553     0.007774  0.010297     0.008414   0.005803  \n",
       "Cajuru             0.013306     0.009803  0.012984     0.010610   0.007318  \n",
       "Santa Felicidade   0.009528     0.007019  0.009297     0.007597   0.005240  \n",
       "Boa Vista          0.015366     0.011320  0.014993     0.012252   0.008450  \n",
       "Boqueirão          0.011744     0.008651  0.011459     0.009363   0.006458  \n",
       "Pinheirinho        0.008651     0.006373  0.008441     0.006898   0.004758  \n",
       "CIC                0.011459     0.008441  0.011181     0.009136   0.006302  \n",
       "Bairro Novo        0.009363     0.006898  0.009136     0.007466   0.005149  \n",
       "Tatuquara          0.006458     0.004758  0.006302     0.005149   0.003552  "
      ]
     },
     "execution_count": 5,
     "metadata": {},
     "output_type": "execute_result"
    }
   ],
   "source": [
    "naive_pop_prop_baseline_macrozones"
   ]
  },
  {
   "cell_type": "code",
   "execution_count": 6,
   "metadata": {},
   "outputs": [
    {
     "data": {
      "text/plain": [
       "0.020105263533260705"
      ]
     },
     "execution_count": 6,
     "metadata": {},
     "output_type": "execute_result"
    }
   ],
   "source": [
    "np.max(naive_pop_prop_baseline_macrozones.values)"
   ]
  },
  {
   "cell_type": "code",
   "execution_count": 7,
   "metadata": {},
   "outputs": [
    {
     "data": {
      "image/png": "[encoded data removed]",
      "text/plain": [
       "<Figure size 432x288 with 2 Axes>"
      ]
     },
     "metadata": {
      "needs_background": "light"
     },
     "output_type": "display_data"
    }
   ],
   "source": [
    "naive_pop_prop_baseline_macrozones_heatmap = build_heatmap_from_od_matrix(naive_pop_prop_baseline_macrozones,\n",
    "                                                                                 color_map=green_cmap,\n",
    "                                                                                 center_val=0.04,min_val=0.0,max_val=0.08,\n",
    "                                                                                 color_label='Proportion of Trips (%)')"
   ]
  },
  {
   "cell_type": "code",
   "execution_count": 8,
   "metadata": {},
   "outputs": [],
   "source": [
    "naive_pop_prop_baseline_macrozones_heatmap.get_figure().savefig('/local/tarciso/data/od-mat-validation/heatmaps/od-matrices/naive_pop_prop_baseline_macrozones_heatmap.png', bbox_inches='tight')"
   ]
  },
  {
   "cell_type": "markdown",
   "metadata": {},
   "source": [
    "### BUSTE Population Proportion Baseline"
   ]
  },
  {
   "cell_type": "code",
   "execution_count": 9,
   "metadata": {},
   "outputs": [],
   "source": [
    "pop_prop_buste_baseline_macrozones = pd.read_csv('/local/tarciso/data/od-mat-validation/od-matrices/pop_prop_buste_baseline_norm_freqs.csv', index_col=0)"
   ]
  },
  {
   "cell_type": "code",
   "execution_count": 10,
   "metadata": {
    "scrolled": false
   },
   "outputs": [
    {
     "data": {
      "text/html": [
       "<div>\n",
       "<style scoped>\n",
       "    .dataframe tbody tr th:only-of-type {\n",
       "        vertical-align: middle;\n",
       "    }\n",
       "\n",
       "    .dataframe tbody tr th {\n",
       "        vertical-align: top;\n",
       "    }\n",
       "\n",
       "    .dataframe thead th {\n",
       "        text-align: right;\n",
       "    }\n",
       "</style>\n",
       "<table border=\"1\" class=\"dataframe\">\n",
       "  <thead>\n",
       "    <tr style=\"text-align: right;\">\n",
       "      <th></th>\n",
       "      <th>Matriz</th>\n",
       "      <th>Portão</th>\n",
       "      <th>Cajuru</th>\n",
       "      <th>Santa Felicidade</th>\n",
       "      <th>Boa Vista</th>\n",
       "      <th>Boqueirão</th>\n",
       "      <th>Pinheirinho</th>\n",
       "      <th>CIC</th>\n",
       "      <th>Bairro Novo</th>\n",
       "      <th>Tatuquara</th>\n",
       "    </tr>\n",
       "    <tr>\n",
       "      <th>name_macrozone</th>\n",
       "      <th></th>\n",
       "      <th></th>\n",
       "      <th></th>\n",
       "      <th></th>\n",
       "      <th></th>\n",
       "      <th></th>\n",
       "      <th></th>\n",
       "      <th></th>\n",
       "      <th></th>\n",
       "      <th></th>\n",
       "    </tr>\n",
       "  </thead>\n",
       "  <tbody>\n",
       "    <tr>\n",
       "      <th>Matriz</th>\n",
       "      <td>0.028441</td>\n",
       "      <td>0.025137</td>\n",
       "      <td>0.031696</td>\n",
       "      <td>0.022696</td>\n",
       "      <td>0.036602</td>\n",
       "      <td>0.027974</td>\n",
       "      <td>0.020608</td>\n",
       "      <td>0.027295</td>\n",
       "      <td>0.022304</td>\n",
       "      <td>0.015384</td>\n",
       "    </tr>\n",
       "    <tr>\n",
       "      <th>Portão</th>\n",
       "      <td>0.007904</td>\n",
       "      <td>0.006986</td>\n",
       "      <td>0.008808</td>\n",
       "      <td>0.006307</td>\n",
       "      <td>0.010172</td>\n",
       "      <td>0.007774</td>\n",
       "      <td>0.005727</td>\n",
       "      <td>0.007585</td>\n",
       "      <td>0.006198</td>\n",
       "      <td>0.004275</td>\n",
       "    </tr>\n",
       "    <tr>\n",
       "      <th>Cajuru</th>\n",
       "      <td>0.008750</td>\n",
       "      <td>0.007734</td>\n",
       "      <td>0.009752</td>\n",
       "      <td>0.006983</td>\n",
       "      <td>0.011261</td>\n",
       "      <td>0.008607</td>\n",
       "      <td>0.006340</td>\n",
       "      <td>0.008398</td>\n",
       "      <td>0.006862</td>\n",
       "      <td>0.004733</td>\n",
       "    </tr>\n",
       "    <tr>\n",
       "      <th>Santa Felicidade</th>\n",
       "      <td>0.010661</td>\n",
       "      <td>0.009423</td>\n",
       "      <td>0.011881</td>\n",
       "      <td>0.008508</td>\n",
       "      <td>0.013720</td>\n",
       "      <td>0.010486</td>\n",
       "      <td>0.007725</td>\n",
       "      <td>0.010232</td>\n",
       "      <td>0.008361</td>\n",
       "      <td>0.005767</td>\n",
       "    </tr>\n",
       "    <tr>\n",
       "      <th>Boa Vista</th>\n",
       "      <td>0.014981</td>\n",
       "      <td>0.013241</td>\n",
       "      <td>0.016696</td>\n",
       "      <td>0.011955</td>\n",
       "      <td>0.019280</td>\n",
       "      <td>0.014735</td>\n",
       "      <td>0.010855</td>\n",
       "      <td>0.014378</td>\n",
       "      <td>0.011749</td>\n",
       "      <td>0.008103</td>\n",
       "    </tr>\n",
       "    <tr>\n",
       "      <th>Boqueirão</th>\n",
       "      <td>0.008078</td>\n",
       "      <td>0.007140</td>\n",
       "      <td>0.009003</td>\n",
       "      <td>0.006446</td>\n",
       "      <td>0.010396</td>\n",
       "      <td>0.007946</td>\n",
       "      <td>0.005853</td>\n",
       "      <td>0.007753</td>\n",
       "      <td>0.006335</td>\n",
       "      <td>0.004370</td>\n",
       "    </tr>\n",
       "    <tr>\n",
       "      <th>Pinheirinho</th>\n",
       "      <td>0.006813</td>\n",
       "      <td>0.006022</td>\n",
       "      <td>0.007593</td>\n",
       "      <td>0.005437</td>\n",
       "      <td>0.008768</td>\n",
       "      <td>0.006701</td>\n",
       "      <td>0.004937</td>\n",
       "      <td>0.006539</td>\n",
       "      <td>0.005343</td>\n",
       "      <td>0.003685</td>\n",
       "    </tr>\n",
       "    <tr>\n",
       "      <th>CIC</th>\n",
       "      <td>0.013537</td>\n",
       "      <td>0.011964</td>\n",
       "      <td>0.015086</td>\n",
       "      <td>0.010802</td>\n",
       "      <td>0.017421</td>\n",
       "      <td>0.013314</td>\n",
       "      <td>0.009808</td>\n",
       "      <td>0.012991</td>\n",
       "      <td>0.010616</td>\n",
       "      <td>0.007322</td>\n",
       "    </tr>\n",
       "    <tr>\n",
       "      <th>Bairro Novo</th>\n",
       "      <td>0.005191</td>\n",
       "      <td>0.004588</td>\n",
       "      <td>0.005785</td>\n",
       "      <td>0.004143</td>\n",
       "      <td>0.006681</td>\n",
       "      <td>0.005106</td>\n",
       "      <td>0.003761</td>\n",
       "      <td>0.004982</td>\n",
       "      <td>0.004071</td>\n",
       "      <td>0.002808</td>\n",
       "    </tr>\n",
       "    <tr>\n",
       "      <th>Tatuquara</th>\n",
       "      <td>0.005821</td>\n",
       "      <td>0.005144</td>\n",
       "      <td>0.006487</td>\n",
       "      <td>0.004645</td>\n",
       "      <td>0.007491</td>\n",
       "      <td>0.005725</td>\n",
       "      <td>0.004217</td>\n",
       "      <td>0.005586</td>\n",
       "      <td>0.004565</td>\n",
       "      <td>0.003148</td>\n",
       "    </tr>\n",
       "  </tbody>\n",
       "</table>\n",
       "</div>"
      ],
      "text/plain": [
       "                    Matriz    Portão    Cajuru  Santa Felicidade  Boa Vista  \\\n",
       "name_macrozone                                                                \n",
       "Matriz            0.028441  0.025137  0.031696          0.022696   0.036602   \n",
       "Portão            0.007904  0.006986  0.008808          0.006307   0.010172   \n",
       "Cajuru            0.008750  0.007734  0.009752          0.006983   0.011261   \n",
       "Santa Felicidade  0.010661  0.009423  0.011881          0.008508   0.013720   \n",
       "Boa Vista         0.014981  0.013241  0.016696          0.011955   0.019280   \n",
       "Boqueirão         0.008078  0.007140  0.009003          0.006446   0.010396   \n",
       "Pinheirinho       0.006813  0.006022  0.007593          0.005437   0.008768   \n",
       "CIC               0.013537  0.011964  0.015086          0.010802   0.017421   \n",
       "Bairro Novo       0.005191  0.004588  0.005785          0.004143   0.006681   \n",
       "Tatuquara         0.005821  0.005144  0.006487          0.004645   0.007491   \n",
       "\n",
       "                  Boqueirão  Pinheirinho       CIC  Bairro Novo  Tatuquara  \n",
       "name_macrozone                                                              \n",
       "Matriz             0.027974     0.020608  0.027295     0.022304   0.015384  \n",
       "Portão             0.007774     0.005727  0.007585     0.006198   0.004275  \n",
       "Cajuru             0.008607     0.006340  0.008398     0.006862   0.004733  \n",
       "Santa Felicidade   0.010486     0.007725  0.010232     0.008361   0.005767  \n",
       "Boa Vista          0.014735     0.010855  0.014378     0.011749   0.008103  \n",
       "Boqueirão          0.007946     0.005853  0.007753     0.006335   0.004370  \n",
       "Pinheirinho        0.006701     0.004937  0.006539     0.005343   0.003685  \n",
       "CIC                0.013314     0.009808  0.012991     0.010616   0.007322  \n",
       "Bairro Novo        0.005106     0.003761  0.004982     0.004071   0.002808  \n",
       "Tatuquara          0.005725     0.004217  0.005586     0.004565   0.003148  "
      ]
     },
     "execution_count": 10,
     "metadata": {},
     "output_type": "execute_result"
    }
   ],
   "source": [
    "pop_prop_buste_baseline_macrozones"
   ]
  },
  {
   "cell_type": "code",
   "execution_count": 11,
   "metadata": {},
   "outputs": [
    {
     "data": {
      "text/plain": [
       "0.03660199628935554"
      ]
     },
     "execution_count": 11,
     "metadata": {},
     "output_type": "execute_result"
    }
   ],
   "source": [
    "np.max(pop_prop_buste_baseline_macrozones.values)"
   ]
  },
  {
   "cell_type": "code",
   "execution_count": 12,
   "metadata": {},
   "outputs": [
    {
     "data": {
      "image/png": "[encoded data removed]",
      "text/plain": [
       "<Figure size 432x288 with 2 Axes>"
      ]
     },
     "metadata": {
      "needs_background": "light"
     },
     "output_type": "display_data"
    }
   ],
   "source": [
    "pop_prop_buste_baseline_macrozones_heatmap = build_heatmap_from_od_matrix(pop_prop_buste_baseline_macrozones,\n",
    "                                                                                  color_map=green_cmap,\n",
    "                                                                                 center_val=0.04,min_val=0.0,max_val=0.08,\n",
    "                                                                                 color_label='Proportion of Trips (%)')"
   ]
  },
  {
   "cell_type": "code",
   "execution_count": 13,
   "metadata": {},
   "outputs": [],
   "source": [
    "pop_prop_buste_baseline_macrozones_heatmap.get_figure().savefig('/local/tarciso/data/od-mat-validation/heatmaps/od-matrices/pop_prop_buste_baseline_macrozones_heatmap.png', bbox_inches='tight')"
   ]
  },
  {
   "cell_type": "markdown",
   "metadata": {},
   "source": [
    "### BUSTE Origin Proportion Baseline"
   ]
  },
  {
   "cell_type": "code",
   "execution_count": 14,
   "metadata": {},
   "outputs": [],
   "source": [
    "origin_prop_buste_baseline_macrozones = pd.read_csv('/local/tarciso/data/od-mat-validation/od-matrices/origin_prop_buste_baseline_norm_freqs.csv', index_col=0)"
   ]
  },
  {
   "cell_type": "code",
   "execution_count": 15,
   "metadata": {
    "scrolled": true
   },
   "outputs": [
    {
     "data": {
      "text/html": [
       "<div>\n",
       "<style scoped>\n",
       "    .dataframe tbody tr th:only-of-type {\n",
       "        vertical-align: middle;\n",
       "    }\n",
       "\n",
       "    .dataframe tbody tr th {\n",
       "        vertical-align: top;\n",
       "    }\n",
       "\n",
       "    .dataframe thead th {\n",
       "        text-align: right;\n",
       "    }\n",
       "</style>\n",
       "<table border=\"1\" class=\"dataframe\">\n",
       "  <thead>\n",
       "    <tr style=\"text-align: right;\">\n",
       "      <th></th>\n",
       "      <th>Matriz</th>\n",
       "      <th>Portão</th>\n",
       "      <th>Cajuru</th>\n",
       "      <th>Santa Felicidade</th>\n",
       "      <th>Boa Vista</th>\n",
       "      <th>Boqueirão</th>\n",
       "      <th>Pinheirinho</th>\n",
       "      <th>CIC</th>\n",
       "      <th>Bairro Novo</th>\n",
       "      <th>Tatuquara</th>\n",
       "    </tr>\n",
       "    <tr>\n",
       "      <th>name_macrozone</th>\n",
       "      <th></th>\n",
       "      <th></th>\n",
       "      <th></th>\n",
       "      <th></th>\n",
       "      <th></th>\n",
       "      <th></th>\n",
       "      <th></th>\n",
       "      <th></th>\n",
       "      <th></th>\n",
       "      <th></th>\n",
       "    </tr>\n",
       "  </thead>\n",
       "  <tbody>\n",
       "    <tr>\n",
       "      <th>Matriz</th>\n",
       "      <td>0.066635</td>\n",
       "      <td>0.018518</td>\n",
       "      <td>0.020501</td>\n",
       "      <td>0.024978</td>\n",
       "      <td>0.035100</td>\n",
       "      <td>0.018927</td>\n",
       "      <td>0.015963</td>\n",
       "      <td>0.031715</td>\n",
       "      <td>0.012163</td>\n",
       "      <td>0.013637</td>\n",
       "    </tr>\n",
       "    <tr>\n",
       "      <th>Portão</th>\n",
       "      <td>0.018518</td>\n",
       "      <td>0.005146</td>\n",
       "      <td>0.005697</td>\n",
       "      <td>0.006941</td>\n",
       "      <td>0.009754</td>\n",
       "      <td>0.005260</td>\n",
       "      <td>0.004436</td>\n",
       "      <td>0.008814</td>\n",
       "      <td>0.003380</td>\n",
       "      <td>0.003790</td>\n",
       "    </tr>\n",
       "    <tr>\n",
       "      <th>Cajuru</th>\n",
       "      <td>0.020501</td>\n",
       "      <td>0.005697</td>\n",
       "      <td>0.006308</td>\n",
       "      <td>0.007685</td>\n",
       "      <td>0.010799</td>\n",
       "      <td>0.005823</td>\n",
       "      <td>0.004911</td>\n",
       "      <td>0.009758</td>\n",
       "      <td>0.003742</td>\n",
       "      <td>0.004196</td>\n",
       "    </tr>\n",
       "    <tr>\n",
       "      <th>Santa Felicidade</th>\n",
       "      <td>0.024978</td>\n",
       "      <td>0.006941</td>\n",
       "      <td>0.007685</td>\n",
       "      <td>0.009363</td>\n",
       "      <td>0.013157</td>\n",
       "      <td>0.007095</td>\n",
       "      <td>0.005984</td>\n",
       "      <td>0.011889</td>\n",
       "      <td>0.004559</td>\n",
       "      <td>0.005112</td>\n",
       "    </tr>\n",
       "    <tr>\n",
       "      <th>Boa Vista</th>\n",
       "      <td>0.035100</td>\n",
       "      <td>0.009754</td>\n",
       "      <td>0.010799</td>\n",
       "      <td>0.013157</td>\n",
       "      <td>0.018489</td>\n",
       "      <td>0.009970</td>\n",
       "      <td>0.008409</td>\n",
       "      <td>0.016706</td>\n",
       "      <td>0.006407</td>\n",
       "      <td>0.007184</td>\n",
       "    </tr>\n",
       "    <tr>\n",
       "      <th>Boqueirão</th>\n",
       "      <td>0.018927</td>\n",
       "      <td>0.005260</td>\n",
       "      <td>0.005823</td>\n",
       "      <td>0.007095</td>\n",
       "      <td>0.009970</td>\n",
       "      <td>0.005376</td>\n",
       "      <td>0.004534</td>\n",
       "      <td>0.009008</td>\n",
       "      <td>0.003455</td>\n",
       "      <td>0.003873</td>\n",
       "    </tr>\n",
       "    <tr>\n",
       "      <th>Pinheirinho</th>\n",
       "      <td>0.015963</td>\n",
       "      <td>0.004436</td>\n",
       "      <td>0.004911</td>\n",
       "      <td>0.005984</td>\n",
       "      <td>0.008409</td>\n",
       "      <td>0.004534</td>\n",
       "      <td>0.003824</td>\n",
       "      <td>0.007598</td>\n",
       "      <td>0.002914</td>\n",
       "      <td>0.003267</td>\n",
       "    </tr>\n",
       "    <tr>\n",
       "      <th>CIC</th>\n",
       "      <td>0.031715</td>\n",
       "      <td>0.008814</td>\n",
       "      <td>0.009758</td>\n",
       "      <td>0.011889</td>\n",
       "      <td>0.016706</td>\n",
       "      <td>0.009008</td>\n",
       "      <td>0.007598</td>\n",
       "      <td>0.015095</td>\n",
       "      <td>0.005789</td>\n",
       "      <td>0.006491</td>\n",
       "    </tr>\n",
       "    <tr>\n",
       "      <th>Bairro Novo</th>\n",
       "      <td>0.012163</td>\n",
       "      <td>0.003380</td>\n",
       "      <td>0.003742</td>\n",
       "      <td>0.004559</td>\n",
       "      <td>0.006407</td>\n",
       "      <td>0.003455</td>\n",
       "      <td>0.002914</td>\n",
       "      <td>0.005789</td>\n",
       "      <td>0.002220</td>\n",
       "      <td>0.002489</td>\n",
       "    </tr>\n",
       "    <tr>\n",
       "      <th>Tatuquara</th>\n",
       "      <td>0.013637</td>\n",
       "      <td>0.003790</td>\n",
       "      <td>0.004196</td>\n",
       "      <td>0.005112</td>\n",
       "      <td>0.007184</td>\n",
       "      <td>0.003873</td>\n",
       "      <td>0.003267</td>\n",
       "      <td>0.006491</td>\n",
       "      <td>0.002489</td>\n",
       "      <td>0.002791</td>\n",
       "    </tr>\n",
       "  </tbody>\n",
       "</table>\n",
       "</div>"
      ],
      "text/plain": [
       "                    Matriz    Portão    Cajuru  Santa Felicidade  Boa Vista  \\\n",
       "name_macrozone                                                                \n",
       "Matriz            0.066635  0.018518  0.020501          0.024978   0.035100   \n",
       "Portão            0.018518  0.005146  0.005697          0.006941   0.009754   \n",
       "Cajuru            0.020501  0.005697  0.006308          0.007685   0.010799   \n",
       "Santa Felicidade  0.024978  0.006941  0.007685          0.009363   0.013157   \n",
       "Boa Vista         0.035100  0.009754  0.010799          0.013157   0.018489   \n",
       "Boqueirão         0.018927  0.005260  0.005823          0.007095   0.009970   \n",
       "Pinheirinho       0.015963  0.004436  0.004911          0.005984   0.008409   \n",
       "CIC               0.031715  0.008814  0.009758          0.011889   0.016706   \n",
       "Bairro Novo       0.012163  0.003380  0.003742          0.004559   0.006407   \n",
       "Tatuquara         0.013637  0.003790  0.004196          0.005112   0.007184   \n",
       "\n",
       "                  Boqueirão  Pinheirinho       CIC  Bairro Novo  Tatuquara  \n",
       "name_macrozone                                                              \n",
       "Matriz             0.018927     0.015963  0.031715     0.012163   0.013637  \n",
       "Portão             0.005260     0.004436  0.008814     0.003380   0.003790  \n",
       "Cajuru             0.005823     0.004911  0.009758     0.003742   0.004196  \n",
       "Santa Felicidade   0.007095     0.005984  0.011889     0.004559   0.005112  \n",
       "Boa Vista          0.009970     0.008409  0.016706     0.006407   0.007184  \n",
       "Boqueirão          0.005376     0.004534  0.009008     0.003455   0.003873  \n",
       "Pinheirinho        0.004534     0.003824  0.007598     0.002914   0.003267  \n",
       "CIC                0.009008     0.007598  0.015095     0.005789   0.006491  \n",
       "Bairro Novo        0.003455     0.002914  0.005789     0.002220   0.002489  \n",
       "Tatuquara          0.003873     0.003267  0.006491     0.002489   0.002791  "
      ]
     },
     "execution_count": 15,
     "metadata": {},
     "output_type": "execute_result"
    }
   ],
   "source": [
    "origin_prop_buste_baseline_macrozones"
   ]
  },
  {
   "cell_type": "code",
   "execution_count": 16,
   "metadata": {},
   "outputs": [
    {
     "data": {
      "text/plain": [
       "0.0666346242436709"
      ]
     },
     "execution_count": 16,
     "metadata": {},
     "output_type": "execute_result"
    }
   ],
   "source": [
    "np.max(origin_prop_buste_baseline_macrozones.values)"
   ]
  },
  {
   "cell_type": "code",
   "execution_count": 17,
   "metadata": {
    "scrolled": true
   },
   "outputs": [
    {
     "data": {
      "image/png": "[encoded data removed]",
      "text/plain": [
       "<Figure size 432x288 with 2 Axes>"
      ]
     },
     "metadata": {
      "needs_background": "light"
     },
     "output_type": "display_data"
    }
   ],
   "source": [
    "origin_prop_buste_baseline_macrozones_heatmap = build_heatmap_from_od_matrix(origin_prop_buste_baseline_macrozones,\n",
    "                                                                                 color_map=green_cmap,\n",
    "                                                                                 center_val=0.04,min_val=0.0,max_val=0.08,\n",
    "                                                                                 color_label='Proportion of Trips (%)')"
   ]
  },
  {
   "cell_type": "code",
   "execution_count": 18,
   "metadata": {},
   "outputs": [],
   "source": [
    "origin_prop_buste_baseline_macrozones_heatmap.get_figure().savefig('/local/tarciso/data/od-mat-validation/heatmaps/od-matrices/origin_prop_buste_baseline_macrozones_heatmap.png', bbox_inches='tight')"
   ]
  },
  {
   "cell_type": "markdown",
   "metadata": {},
   "source": [
    "### Survey"
   ]
  },
  {
   "cell_type": "code",
   "execution_count": 19,
   "metadata": {},
   "outputs": [],
   "source": [
    "survey_macrozones = pd.read_csv('/local/tarciso/data/od-mat-validation/od-matrices/survey_macrozones_norm_freqs.csv', index_col=0)"
   ]
  },
  {
   "cell_type": "code",
   "execution_count": 20,
   "metadata": {
    "scrolled": true
   },
   "outputs": [
    {
     "data": {
      "text/html": [
       "<div>\n",
       "<style scoped>\n",
       "    .dataframe tbody tr th:only-of-type {\n",
       "        vertical-align: middle;\n",
       "    }\n",
       "\n",
       "    .dataframe tbody tr th {\n",
       "        vertical-align: top;\n",
       "    }\n",
       "\n",
       "    .dataframe thead th {\n",
       "        text-align: right;\n",
       "    }\n",
       "</style>\n",
       "<table border=\"1\" class=\"dataframe\">\n",
       "  <thead>\n",
       "    <tr style=\"text-align: right;\">\n",
       "      <th></th>\n",
       "      <th>Matriz</th>\n",
       "      <th>Portão</th>\n",
       "      <th>Cajuru</th>\n",
       "      <th>Santa Felicidade</th>\n",
       "      <th>Boa Vista</th>\n",
       "      <th>Boqueirão</th>\n",
       "      <th>Pinheirinho</th>\n",
       "      <th>CIC</th>\n",
       "      <th>Bairro Novo</th>\n",
       "      <th>Tatuquara</th>\n",
       "    </tr>\n",
       "    <tr>\n",
       "      <th>name_macrozone</th>\n",
       "      <th></th>\n",
       "      <th></th>\n",
       "      <th></th>\n",
       "      <th></th>\n",
       "      <th></th>\n",
       "      <th></th>\n",
       "      <th></th>\n",
       "      <th></th>\n",
       "      <th></th>\n",
       "      <th></th>\n",
       "    </tr>\n",
       "  </thead>\n",
       "  <tbody>\n",
       "    <tr>\n",
       "      <th>Matriz</th>\n",
       "      <td>0.067410</td>\n",
       "      <td>0.027791</td>\n",
       "      <td>0.033753</td>\n",
       "      <td>0.034907</td>\n",
       "      <td>0.057698</td>\n",
       "      <td>0.020483</td>\n",
       "      <td>0.024137</td>\n",
       "      <td>0.025291</td>\n",
       "      <td>0.013078</td>\n",
       "      <td>0.005962</td>\n",
       "    </tr>\n",
       "    <tr>\n",
       "      <th>Portão</th>\n",
       "      <td>0.027983</td>\n",
       "      <td>0.011540</td>\n",
       "      <td>0.003847</td>\n",
       "      <td>0.005577</td>\n",
       "      <td>0.006058</td>\n",
       "      <td>0.005866</td>\n",
       "      <td>0.010289</td>\n",
       "      <td>0.013367</td>\n",
       "      <td>0.006443</td>\n",
       "      <td>0.003077</td>\n",
       "    </tr>\n",
       "    <tr>\n",
       "      <th>Cajuru</th>\n",
       "      <td>0.033849</td>\n",
       "      <td>0.004039</td>\n",
       "      <td>0.013559</td>\n",
       "      <td>0.003077</td>\n",
       "      <td>0.004327</td>\n",
       "      <td>0.004808</td>\n",
       "      <td>0.001346</td>\n",
       "      <td>0.002789</td>\n",
       "      <td>0.001442</td>\n",
       "      <td>0.000673</td>\n",
       "    </tr>\n",
       "    <tr>\n",
       "      <th>Santa Felicidade</th>\n",
       "      <td>0.034715</td>\n",
       "      <td>0.005481</td>\n",
       "      <td>0.003173</td>\n",
       "      <td>0.027118</td>\n",
       "      <td>0.004231</td>\n",
       "      <td>0.002116</td>\n",
       "      <td>0.002693</td>\n",
       "      <td>0.008462</td>\n",
       "      <td>0.001923</td>\n",
       "      <td>0.000481</td>\n",
       "    </tr>\n",
       "    <tr>\n",
       "      <th>Boa Vista</th>\n",
       "      <td>0.056736</td>\n",
       "      <td>0.006347</td>\n",
       "      <td>0.004712</td>\n",
       "      <td>0.004616</td>\n",
       "      <td>0.031541</td>\n",
       "      <td>0.003077</td>\n",
       "      <td>0.002019</td>\n",
       "      <td>0.001827</td>\n",
       "      <td>0.000962</td>\n",
       "      <td>0.000481</td>\n",
       "    </tr>\n",
       "    <tr>\n",
       "      <th>Boqueirão</th>\n",
       "      <td>0.021060</td>\n",
       "      <td>0.006154</td>\n",
       "      <td>0.005000</td>\n",
       "      <td>0.002116</td>\n",
       "      <td>0.003558</td>\n",
       "      <td>0.024810</td>\n",
       "      <td>0.005674</td>\n",
       "      <td>0.004135</td>\n",
       "      <td>0.006539</td>\n",
       "      <td>0.000769</td>\n",
       "    </tr>\n",
       "    <tr>\n",
       "      <th>Pinheirinho</th>\n",
       "      <td>0.025002</td>\n",
       "      <td>0.010674</td>\n",
       "      <td>0.001250</td>\n",
       "      <td>0.002693</td>\n",
       "      <td>0.002212</td>\n",
       "      <td>0.005385</td>\n",
       "      <td>0.013271</td>\n",
       "      <td>0.006731</td>\n",
       "      <td>0.005289</td>\n",
       "      <td>0.004231</td>\n",
       "    </tr>\n",
       "    <tr>\n",
       "      <th>CIC</th>\n",
       "      <td>0.025387</td>\n",
       "      <td>0.013463</td>\n",
       "      <td>0.002981</td>\n",
       "      <td>0.008078</td>\n",
       "      <td>0.002404</td>\n",
       "      <td>0.004231</td>\n",
       "      <td>0.006443</td>\n",
       "      <td>0.027406</td>\n",
       "      <td>0.002693</td>\n",
       "      <td>0.003558</td>\n",
       "    </tr>\n",
       "    <tr>\n",
       "      <th>Bairro Novo</th>\n",
       "      <td>0.013751</td>\n",
       "      <td>0.006539</td>\n",
       "      <td>0.001346</td>\n",
       "      <td>0.002116</td>\n",
       "      <td>0.001731</td>\n",
       "      <td>0.006635</td>\n",
       "      <td>0.004712</td>\n",
       "      <td>0.002404</td>\n",
       "      <td>0.006828</td>\n",
       "      <td>0.000962</td>\n",
       "    </tr>\n",
       "    <tr>\n",
       "      <th>Tatuquara</th>\n",
       "      <td>0.006154</td>\n",
       "      <td>0.002981</td>\n",
       "      <td>0.000673</td>\n",
       "      <td>0.000481</td>\n",
       "      <td>0.000385</td>\n",
       "      <td>0.000865</td>\n",
       "      <td>0.004231</td>\n",
       "      <td>0.003943</td>\n",
       "      <td>0.001058</td>\n",
       "      <td>0.001827</td>\n",
       "    </tr>\n",
       "  </tbody>\n",
       "</table>\n",
       "</div>"
      ],
      "text/plain": [
       "                    Matriz    Portão    Cajuru  Santa Felicidade  Boa Vista  \\\n",
       "name_macrozone                                                                \n",
       "Matriz            0.067410  0.027791  0.033753          0.034907   0.057698   \n",
       "Portão            0.027983  0.011540  0.003847          0.005577   0.006058   \n",
       "Cajuru            0.033849  0.004039  0.013559          0.003077   0.004327   \n",
       "Santa Felicidade  0.034715  0.005481  0.003173          0.027118   0.004231   \n",
       "Boa Vista         0.056736  0.006347  0.004712          0.004616   0.031541   \n",
       "Boqueirão         0.021060  0.006154  0.005000          0.002116   0.003558   \n",
       "Pinheirinho       0.025002  0.010674  0.001250          0.002693   0.002212   \n",
       "CIC               0.025387  0.013463  0.002981          0.008078   0.002404   \n",
       "Bairro Novo       0.013751  0.006539  0.001346          0.002116   0.001731   \n",
       "Tatuquara         0.006154  0.002981  0.000673          0.000481   0.000385   \n",
       "\n",
       "                  Boqueirão  Pinheirinho       CIC  Bairro Novo  Tatuquara  \n",
       "name_macrozone                                                              \n",
       "Matriz             0.020483     0.024137  0.025291     0.013078   0.005962  \n",
       "Portão             0.005866     0.010289  0.013367     0.006443   0.003077  \n",
       "Cajuru             0.004808     0.001346  0.002789     0.001442   0.000673  \n",
       "Santa Felicidade   0.002116     0.002693  0.008462     0.001923   0.000481  \n",
       "Boa Vista          0.003077     0.002019  0.001827     0.000962   0.000481  \n",
       "Boqueirão          0.024810     0.005674  0.004135     0.006539   0.000769  \n",
       "Pinheirinho        0.005385     0.013271  0.006731     0.005289   0.004231  \n",
       "CIC                0.004231     0.006443  0.027406     0.002693   0.003558  \n",
       "Bairro Novo        0.006635     0.004712  0.002404     0.006828   0.000962  \n",
       "Tatuquara          0.000865     0.004231  0.003943     0.001058   0.001827  "
      ]
     },
     "execution_count": 20,
     "metadata": {},
     "output_type": "execute_result"
    }
   ],
   "source": [
    "survey_macrozones"
   ]
  },
  {
   "cell_type": "code",
   "execution_count": 21,
   "metadata": {},
   "outputs": [
    {
     "data": {
      "text/plain": [
       "0.06741032791614578"
      ]
     },
     "execution_count": 21,
     "metadata": {},
     "output_type": "execute_result"
    }
   ],
   "source": [
    "np.max(survey_macrozones.values)"
   ]
  },
  {
   "cell_type": "code",
   "execution_count": 22,
   "metadata": {},
   "outputs": [
    {
     "data": {
      "image/png": "[encoded data removed]",
      "text/plain": [
       "<Figure size 432x288 with 2 Axes>"
      ]
     },
     "metadata": {
      "needs_background": "light"
     },
     "output_type": "display_data"
    }
   ],
   "source": [
    "survey_macrozones_heatmap = build_heatmap_from_od_matrix(survey_macrozones,\n",
    "                                                                                 color_map=green_cmap,\n",
    "                                                                                 center_val=0.04,min_val=0.0,max_val=0.08,\n",
    "                                                                                 color_label='Proportion of Trips (%)')"
   ]
  },
  {
   "cell_type": "code",
   "execution_count": 23,
   "metadata": {},
   "outputs": [],
   "source": [
    "survey_macrozones_heatmap.get_figure().savefig('/local/tarciso/data/od-mat-validation/heatmaps/od-matrices/survey_macrozones_heatmap.png', bbox_inches='tight')"
   ]
  },
  {
   "cell_type": "markdown",
   "metadata": {},
   "source": [
    "### Inferred Trip Traces"
   ]
  },
  {
   "cell_type": "code",
   "execution_count": 24,
   "metadata": {},
   "outputs": [],
   "source": [
    "all_est_trips_macrozones = pd.read_csv('/local/tarciso/data/od-mat-validation/od-matrices/all_est_macrozones_norm_freqs.csv', index_col=0)"
   ]
  },
  {
   "cell_type": "code",
   "execution_count": 25,
   "metadata": {},
   "outputs": [
    {
     "data": {
      "text/html": [
       "<div>\n",
       "<style scoped>\n",
       "    .dataframe tbody tr th:only-of-type {\n",
       "        vertical-align: middle;\n",
       "    }\n",
       "\n",
       "    .dataframe tbody tr th {\n",
       "        vertical-align: top;\n",
       "    }\n",
       "\n",
       "    .dataframe thead th {\n",
       "        text-align: right;\n",
       "    }\n",
       "</style>\n",
       "<table border=\"1\" class=\"dataframe\">\n",
       "  <thead>\n",
       "    <tr style=\"text-align: right;\">\n",
       "      <th></th>\n",
       "      <th>Matriz</th>\n",
       "      <th>Portão</th>\n",
       "      <th>Cajuru</th>\n",
       "      <th>Santa Felicidade</th>\n",
       "      <th>Boa Vista</th>\n",
       "      <th>Boqueirão</th>\n",
       "      <th>Pinheirinho</th>\n",
       "      <th>CIC</th>\n",
       "      <th>Bairro Novo</th>\n",
       "      <th>Tatuquara</th>\n",
       "    </tr>\n",
       "    <tr>\n",
       "      <th>name_macrozone</th>\n",
       "      <th></th>\n",
       "      <th></th>\n",
       "      <th></th>\n",
       "      <th></th>\n",
       "      <th></th>\n",
       "      <th></th>\n",
       "      <th></th>\n",
       "      <th></th>\n",
       "      <th></th>\n",
       "      <th></th>\n",
       "    </tr>\n",
       "  </thead>\n",
       "  <tbody>\n",
       "    <tr>\n",
       "      <th>Matriz</th>\n",
       "      <td>0.077042</td>\n",
       "      <td>0.033669</td>\n",
       "      <td>0.035254</td>\n",
       "      <td>0.019718</td>\n",
       "      <td>0.036599</td>\n",
       "      <td>0.040404</td>\n",
       "      <td>0.014218</td>\n",
       "      <td>0.015671</td>\n",
       "      <td>0.010819</td>\n",
       "      <td>0.003520</td>\n",
       "    </tr>\n",
       "    <tr>\n",
       "      <th>Portão</th>\n",
       "      <td>0.035482</td>\n",
       "      <td>0.017618</td>\n",
       "      <td>0.006189</td>\n",
       "      <td>0.005764</td>\n",
       "      <td>0.003891</td>\n",
       "      <td>0.012508</td>\n",
       "      <td>0.013924</td>\n",
       "      <td>0.015427</td>\n",
       "      <td>0.007426</td>\n",
       "      <td>0.004893</td>\n",
       "    </tr>\n",
       "    <tr>\n",
       "      <th>Cajuru</th>\n",
       "      <td>0.048660</td>\n",
       "      <td>0.005917</td>\n",
       "      <td>0.013707</td>\n",
       "      <td>0.002596</td>\n",
       "      <td>0.004689</td>\n",
       "      <td>0.008733</td>\n",
       "      <td>0.003243</td>\n",
       "      <td>0.002587</td>\n",
       "      <td>0.001515</td>\n",
       "      <td>0.000521</td>\n",
       "    </tr>\n",
       "    <tr>\n",
       "      <th>Santa Felicidade</th>\n",
       "      <td>0.030971</td>\n",
       "      <td>0.004521</td>\n",
       "      <td>0.001211</td>\n",
       "      <td>0.011528</td>\n",
       "      <td>0.002732</td>\n",
       "      <td>0.000965</td>\n",
       "      <td>0.001518</td>\n",
       "      <td>0.004963</td>\n",
       "      <td>0.000454</td>\n",
       "      <td>0.000370</td>\n",
       "    </tr>\n",
       "    <tr>\n",
       "      <th>Boa Vista</th>\n",
       "      <td>0.047417</td>\n",
       "      <td>0.003929</td>\n",
       "      <td>0.004506</td>\n",
       "      <td>0.003631</td>\n",
       "      <td>0.016286</td>\n",
       "      <td>0.001995</td>\n",
       "      <td>0.001328</td>\n",
       "      <td>0.001510</td>\n",
       "      <td>0.000414</td>\n",
       "      <td>0.000214</td>\n",
       "    </tr>\n",
       "    <tr>\n",
       "      <th>Boqueirão</th>\n",
       "      <td>0.048024</td>\n",
       "      <td>0.010703</td>\n",
       "      <td>0.008595</td>\n",
       "      <td>0.001839</td>\n",
       "      <td>0.002484</td>\n",
       "      <td>0.022816</td>\n",
       "      <td>0.008258</td>\n",
       "      <td>0.004299</td>\n",
       "      <td>0.006993</td>\n",
       "      <td>0.001957</td>\n",
       "    </tr>\n",
       "    <tr>\n",
       "      <th>Pinheirinho</th>\n",
       "      <td>0.024080</td>\n",
       "      <td>0.012588</td>\n",
       "      <td>0.003183</td>\n",
       "      <td>0.002431</td>\n",
       "      <td>0.001315</td>\n",
       "      <td>0.008418</td>\n",
       "      <td>0.009500</td>\n",
       "      <td>0.007828</td>\n",
       "      <td>0.005542</td>\n",
       "      <td>0.005324</td>\n",
       "    </tr>\n",
       "    <tr>\n",
       "      <th>CIC</th>\n",
       "      <td>0.026881</td>\n",
       "      <td>0.015371</td>\n",
       "      <td>0.001867</td>\n",
       "      <td>0.005641</td>\n",
       "      <td>0.001250</td>\n",
       "      <td>0.003681</td>\n",
       "      <td>0.006859</td>\n",
       "      <td>0.015082</td>\n",
       "      <td>0.002497</td>\n",
       "      <td>0.003600</td>\n",
       "    </tr>\n",
       "    <tr>\n",
       "      <th>Bairro Novo</th>\n",
       "      <td>0.021597</td>\n",
       "      <td>0.007968</td>\n",
       "      <td>0.001482</td>\n",
       "      <td>0.001009</td>\n",
       "      <td>0.000597</td>\n",
       "      <td>0.007202</td>\n",
       "      <td>0.006044</td>\n",
       "      <td>0.002740</td>\n",
       "      <td>0.004056</td>\n",
       "      <td>0.000855</td>\n",
       "    </tr>\n",
       "    <tr>\n",
       "      <th>Tatuquara</th>\n",
       "      <td>0.006907</td>\n",
       "      <td>0.004644</td>\n",
       "      <td>0.000401</td>\n",
       "      <td>0.000660</td>\n",
       "      <td>0.000262</td>\n",
       "      <td>0.001450</td>\n",
       "      <td>0.004580</td>\n",
       "      <td>0.003677</td>\n",
       "      <td>0.000797</td>\n",
       "      <td>0.001498</td>\n",
       "    </tr>\n",
       "  </tbody>\n",
       "</table>\n",
       "</div>"
      ],
      "text/plain": [
       "                    Matriz    Portão    Cajuru  Santa Felicidade  Boa Vista  \\\n",
       "name_macrozone                                                                \n",
       "Matriz            0.077042  0.033669  0.035254          0.019718   0.036599   \n",
       "Portão            0.035482  0.017618  0.006189          0.005764   0.003891   \n",
       "Cajuru            0.048660  0.005917  0.013707          0.002596   0.004689   \n",
       "Santa Felicidade  0.030971  0.004521  0.001211          0.011528   0.002732   \n",
       "Boa Vista         0.047417  0.003929  0.004506          0.003631   0.016286   \n",
       "Boqueirão         0.048024  0.010703  0.008595          0.001839   0.002484   \n",
       "Pinheirinho       0.024080  0.012588  0.003183          0.002431   0.001315   \n",
       "CIC               0.026881  0.015371  0.001867          0.005641   0.001250   \n",
       "Bairro Novo       0.021597  0.007968  0.001482          0.001009   0.000597   \n",
       "Tatuquara         0.006907  0.004644  0.000401          0.000660   0.000262   \n",
       "\n",
       "                  Boqueirão  Pinheirinho       CIC  Bairro Novo  Tatuquara  \n",
       "name_macrozone                                                              \n",
       "Matriz             0.040404     0.014218  0.015671     0.010819   0.003520  \n",
       "Portão             0.012508     0.013924  0.015427     0.007426   0.004893  \n",
       "Cajuru             0.008733     0.003243  0.002587     0.001515   0.000521  \n",
       "Santa Felicidade   0.000965     0.001518  0.004963     0.000454   0.000370  \n",
       "Boa Vista          0.001995     0.001328  0.001510     0.000414   0.000214  \n",
       "Boqueirão          0.022816     0.008258  0.004299     0.006993   0.001957  \n",
       "Pinheirinho        0.008418     0.009500  0.007828     0.005542   0.005324  \n",
       "CIC                0.003681     0.006859  0.015082     0.002497   0.003600  \n",
       "Bairro Novo        0.007202     0.006044  0.002740     0.004056   0.000855  \n",
       "Tatuquara          0.001450     0.004580  0.003677     0.000797   0.001498  "
      ]
     },
     "execution_count": 25,
     "metadata": {},
     "output_type": "execute_result"
    }
   ],
   "source": [
    "all_est_trips_macrozones"
   ]
  },
  {
   "cell_type": "code",
   "execution_count": 26,
   "metadata": {},
   "outputs": [
    {
     "data": {
      "text/plain": [
       "0.07704217719851718"
      ]
     },
     "execution_count": 26,
     "metadata": {},
     "output_type": "execute_result"
    }
   ],
   "source": [
    "np.max(all_est_trips_macrozones.values)"
   ]
  },
  {
   "cell_type": "code",
   "execution_count": 27,
   "metadata": {
    "scrolled": true
   },
   "outputs": [
    {
     "data": {
      "image/png": "[encoded data removed]",
      "text/plain": [
       "<Figure size 432x288 with 2 Axes>"
      ]
     },
     "metadata": {
      "needs_background": "light"
     },
     "output_type": "display_data"
    }
   ],
   "source": [
    "all_est_trips_macrozones_heatmap = build_heatmap_from_od_matrix(all_est_trips_macrozones,\n",
    "                                                                                 color_map=green_cmap,\n",
    "                                                                                 center_val=0.04,min_val=0.0,max_val=0.08,\n",
    "                                                                                 color_label='Proportion of Trips (%)')"
   ]
  },
  {
   "cell_type": "code",
   "execution_count": 28,
   "metadata": {},
   "outputs": [],
   "source": [
    "all_est_trips_macrozones_heatmap.get_figure().savefig('/local/tarciso/data/od-mat-validation/heatmaps/od-matrices/all_est_trips_macrozones_heatmap.png', bbox_inches='tight')"
   ]
  },
  {
   "cell_type": "markdown",
   "metadata": {},
   "source": [
    "### Weekday Inferred Trip Traces"
   ]
  },
  {
   "cell_type": "code",
   "execution_count": 29,
   "metadata": {},
   "outputs": [],
   "source": [
    "wday_est_trips_macrozones = pd.read_csv('/local/tarciso/data/od-mat-validation/od-matrices/wday_est_macrozones_norm_freqs.csv', index_col=0)"
   ]
  },
  {
   "cell_type": "code",
   "execution_count": 30,
   "metadata": {
    "scrolled": true
   },
   "outputs": [
    {
     "data": {
      "text/html": [
       "<div>\n",
       "<style scoped>\n",
       "    .dataframe tbody tr th:only-of-type {\n",
       "        vertical-align: middle;\n",
       "    }\n",
       "\n",
       "    .dataframe tbody tr th {\n",
       "        vertical-align: top;\n",
       "    }\n",
       "\n",
       "    .dataframe thead th {\n",
       "        text-align: right;\n",
       "    }\n",
       "</style>\n",
       "<table border=\"1\" class=\"dataframe\">\n",
       "  <thead>\n",
       "    <tr style=\"text-align: right;\">\n",
       "      <th></th>\n",
       "      <th>Matriz</th>\n",
       "      <th>Portão</th>\n",
       "      <th>Cajuru</th>\n",
       "      <th>Santa Felicidade</th>\n",
       "      <th>Boa Vista</th>\n",
       "      <th>Boqueirão</th>\n",
       "      <th>Pinheirinho</th>\n",
       "      <th>CIC</th>\n",
       "      <th>Bairro Novo</th>\n",
       "      <th>Tatuquara</th>\n",
       "    </tr>\n",
       "    <tr>\n",
       "      <th>name_macrozone</th>\n",
       "      <th></th>\n",
       "      <th></th>\n",
       "      <th></th>\n",
       "      <th></th>\n",
       "      <th></th>\n",
       "      <th></th>\n",
       "      <th></th>\n",
       "      <th></th>\n",
       "      <th></th>\n",
       "      <th></th>\n",
       "    </tr>\n",
       "  </thead>\n",
       "  <tbody>\n",
       "    <tr>\n",
       "      <th>Matriz</th>\n",
       "      <td>0.076927</td>\n",
       "      <td>0.033807</td>\n",
       "      <td>0.035398</td>\n",
       "      <td>0.019799</td>\n",
       "      <td>0.036749</td>\n",
       "      <td>0.038769</td>\n",
       "      <td>0.014276</td>\n",
       "      <td>0.015736</td>\n",
       "      <td>0.010864</td>\n",
       "      <td>0.003534</td>\n",
       "    </tr>\n",
       "    <tr>\n",
       "      <th>Portão</th>\n",
       "      <td>0.035421</td>\n",
       "      <td>0.017690</td>\n",
       "      <td>0.006214</td>\n",
       "      <td>0.005788</td>\n",
       "      <td>0.003907</td>\n",
       "      <td>0.012559</td>\n",
       "      <td>0.013982</td>\n",
       "      <td>0.015490</td>\n",
       "      <td>0.007457</td>\n",
       "      <td>0.004913</td>\n",
       "    </tr>\n",
       "    <tr>\n",
       "      <th>Cajuru</th>\n",
       "      <td>0.048860</td>\n",
       "      <td>0.005941</td>\n",
       "      <td>0.013763</td>\n",
       "      <td>0.002607</td>\n",
       "      <td>0.004708</td>\n",
       "      <td>0.008769</td>\n",
       "      <td>0.003256</td>\n",
       "      <td>0.002597</td>\n",
       "      <td>0.001522</td>\n",
       "      <td>0.000523</td>\n",
       "    </tr>\n",
       "    <tr>\n",
       "      <th>Santa Felicidade</th>\n",
       "      <td>0.031099</td>\n",
       "      <td>0.004540</td>\n",
       "      <td>0.001216</td>\n",
       "      <td>0.011575</td>\n",
       "      <td>0.002744</td>\n",
       "      <td>0.000969</td>\n",
       "      <td>0.001524</td>\n",
       "      <td>0.004984</td>\n",
       "      <td>0.000456</td>\n",
       "      <td>0.000371</td>\n",
       "    </tr>\n",
       "    <tr>\n",
       "      <th>Boa Vista</th>\n",
       "      <td>0.047612</td>\n",
       "      <td>0.003945</td>\n",
       "      <td>0.004524</td>\n",
       "      <td>0.003646</td>\n",
       "      <td>0.016353</td>\n",
       "      <td>0.002003</td>\n",
       "      <td>0.001334</td>\n",
       "      <td>0.001516</td>\n",
       "      <td>0.000416</td>\n",
       "      <td>0.000214</td>\n",
       "    </tr>\n",
       "    <tr>\n",
       "      <th>Boqueirão</th>\n",
       "      <td>0.047111</td>\n",
       "      <td>0.010648</td>\n",
       "      <td>0.008630</td>\n",
       "      <td>0.001847</td>\n",
       "      <td>0.002494</td>\n",
       "      <td>0.022460</td>\n",
       "      <td>0.008292</td>\n",
       "      <td>0.004317</td>\n",
       "      <td>0.007022</td>\n",
       "      <td>0.001965</td>\n",
       "    </tr>\n",
       "    <tr>\n",
       "      <th>Pinheirinho</th>\n",
       "      <td>0.024179</td>\n",
       "      <td>0.012640</td>\n",
       "      <td>0.003196</td>\n",
       "      <td>0.002441</td>\n",
       "      <td>0.001321</td>\n",
       "      <td>0.008453</td>\n",
       "      <td>0.009539</td>\n",
       "      <td>0.007860</td>\n",
       "      <td>0.005565</td>\n",
       "      <td>0.005346</td>\n",
       "    </tr>\n",
       "    <tr>\n",
       "      <th>CIC</th>\n",
       "      <td>0.026991</td>\n",
       "      <td>0.015435</td>\n",
       "      <td>0.001875</td>\n",
       "      <td>0.005664</td>\n",
       "      <td>0.001255</td>\n",
       "      <td>0.003696</td>\n",
       "      <td>0.006888</td>\n",
       "      <td>0.015144</td>\n",
       "      <td>0.002508</td>\n",
       "      <td>0.003615</td>\n",
       "    </tr>\n",
       "    <tr>\n",
       "      <th>Bairro Novo</th>\n",
       "      <td>0.021686</td>\n",
       "      <td>0.008001</td>\n",
       "      <td>0.001488</td>\n",
       "      <td>0.001013</td>\n",
       "      <td>0.000599</td>\n",
       "      <td>0.007231</td>\n",
       "      <td>0.006069</td>\n",
       "      <td>0.002751</td>\n",
       "      <td>0.004066</td>\n",
       "      <td>0.000859</td>\n",
       "    </tr>\n",
       "    <tr>\n",
       "      <th>Tatuquara</th>\n",
       "      <td>0.006935</td>\n",
       "      <td>0.004663</td>\n",
       "      <td>0.000403</td>\n",
       "      <td>0.000662</td>\n",
       "      <td>0.000263</td>\n",
       "      <td>0.001456</td>\n",
       "      <td>0.004599</td>\n",
       "      <td>0.003692</td>\n",
       "      <td>0.000800</td>\n",
       "      <td>0.001504</td>\n",
       "    </tr>\n",
       "  </tbody>\n",
       "</table>\n",
       "</div>"
      ],
      "text/plain": [
       "                    Matriz    Portão    Cajuru  Santa Felicidade  Boa Vista  \\\n",
       "name_macrozone                                                                \n",
       "Matriz            0.076927  0.033807  0.035398          0.019799   0.036749   \n",
       "Portão            0.035421  0.017690  0.006214          0.005788   0.003907   \n",
       "Cajuru            0.048860  0.005941  0.013763          0.002607   0.004708   \n",
       "Santa Felicidade  0.031099  0.004540  0.001216          0.011575   0.002744   \n",
       "Boa Vista         0.047612  0.003945  0.004524          0.003646   0.016353   \n",
       "Boqueirão         0.047111  0.010648  0.008630          0.001847   0.002494   \n",
       "Pinheirinho       0.024179  0.012640  0.003196          0.002441   0.001321   \n",
       "CIC               0.026991  0.015435  0.001875          0.005664   0.001255   \n",
       "Bairro Novo       0.021686  0.008001  0.001488          0.001013   0.000599   \n",
       "Tatuquara         0.006935  0.004663  0.000403          0.000662   0.000263   \n",
       "\n",
       "                  Boqueirão  Pinheirinho       CIC  Bairro Novo  Tatuquara  \n",
       "name_macrozone                                                              \n",
       "Matriz             0.038769     0.014276  0.015736     0.010864   0.003534  \n",
       "Portão             0.012559     0.013982  0.015490     0.007457   0.004913  \n",
       "Cajuru             0.008769     0.003256  0.002597     0.001522   0.000523  \n",
       "Santa Felicidade   0.000969     0.001524  0.004984     0.000456   0.000371  \n",
       "Boa Vista          0.002003     0.001334  0.001516     0.000416   0.000214  \n",
       "Boqueirão          0.022460     0.008292  0.004317     0.007022   0.001965  \n",
       "Pinheirinho        0.008453     0.009539  0.007860     0.005565   0.005346  \n",
       "CIC                0.003696     0.006888  0.015144     0.002508   0.003615  \n",
       "Bairro Novo        0.007231     0.006069  0.002751     0.004066   0.000859  \n",
       "Tatuquara          0.001456     0.004599  0.003692     0.000800   0.001504  "
      ]
     },
     "execution_count": 30,
     "metadata": {},
     "output_type": "execute_result"
    }
   ],
   "source": [
    "wday_est_trips_macrozones"
   ]
  },
  {
   "cell_type": "code",
   "execution_count": 31,
   "metadata": {
    "scrolled": true
   },
   "outputs": [
    {
     "data": {
      "text/plain": [
       "0.07692652638187385"
      ]
     },
     "execution_count": 31,
     "metadata": {},
     "output_type": "execute_result"
    }
   ],
   "source": [
    "np.max(wday_est_trips_macrozones.values)"
   ]
  },
  {
   "cell_type": "code",
   "execution_count": 32,
   "metadata": {
    "scrolled": true
   },
   "outputs": [
    {
     "data": {
      "image/png": "[encoded data removed]",
      "text/plain": [
       "<Figure size 432x288 with 2 Axes>"
      ]
     },
     "metadata": {
      "needs_background": "light"
     },
     "output_type": "display_data"
    }
   ],
   "source": [
    "wday_est_trips_macrozones_heatmap = build_heatmap_from_od_matrix(wday_est_trips_macrozones,\n",
    "                                                                                 color_map=green_cmap,\n",
    "                                                                                 center_val=0.04,min_val=0.0,max_val=0.08,\n",
    "                                                                                 color_label='Proportion of Trips (%)')"
   ]
  },
  {
   "cell_type": "code",
   "execution_count": 33,
   "metadata": {},
   "outputs": [],
   "source": [
    "wday_est_trips_macrozones_heatmap.get_figure().savefig('/local/tarciso/data/od-mat-validation/heatmaps/od-matrices/wday_est_trips_macrozones_heatmap.png', bbox_inches='tight')"
   ]
  },
  {
   "cell_type": "markdown",
   "metadata": {},
   "source": [
    "### May Inferred Trip Traces"
   ]
  },
  {
   "cell_type": "code",
   "execution_count": 34,
   "metadata": {},
   "outputs": [],
   "source": [
    "may_est_trips_macrozones = pd.read_csv('/local/tarciso/data/od-mat-validation/od-matrices/may_est_macrozones_norm_freqs.csv', index_col=0)"
   ]
  },
  {
   "cell_type": "code",
   "execution_count": 35,
   "metadata": {
    "scrolled": false
   },
   "outputs": [
    {
     "data": {
      "text/html": [
       "<div>\n",
       "<style scoped>\n",
       "    .dataframe tbody tr th:only-of-type {\n",
       "        vertical-align: middle;\n",
       "    }\n",
       "\n",
       "    .dataframe tbody tr th {\n",
       "        vertical-align: top;\n",
       "    }\n",
       "\n",
       "    .dataframe thead th {\n",
       "        text-align: right;\n",
       "    }\n",
       "</style>\n",
       "<table border=\"1\" class=\"dataframe\">\n",
       "  <thead>\n",
       "    <tr style=\"text-align: right;\">\n",
       "      <th></th>\n",
       "      <th>Matriz</th>\n",
       "      <th>Portão</th>\n",
       "      <th>Cajuru</th>\n",
       "      <th>Santa Felicidade</th>\n",
       "      <th>Boa Vista</th>\n",
       "      <th>Boqueirão</th>\n",
       "      <th>Pinheirinho</th>\n",
       "      <th>CIC</th>\n",
       "      <th>Bairro Novo</th>\n",
       "      <th>Tatuquara</th>\n",
       "    </tr>\n",
       "    <tr>\n",
       "      <th>name_macrozone</th>\n",
       "      <th></th>\n",
       "      <th></th>\n",
       "      <th></th>\n",
       "      <th></th>\n",
       "      <th></th>\n",
       "      <th></th>\n",
       "      <th></th>\n",
       "      <th></th>\n",
       "      <th></th>\n",
       "      <th></th>\n",
       "    </tr>\n",
       "  </thead>\n",
       "  <tbody>\n",
       "    <tr>\n",
       "      <th>Matriz</th>\n",
       "      <td>0.075474</td>\n",
       "      <td>0.032268</td>\n",
       "      <td>0.036138</td>\n",
       "      <td>0.017348</td>\n",
       "      <td>0.036791</td>\n",
       "      <td>0.038932</td>\n",
       "      <td>0.015386</td>\n",
       "      <td>0.015452</td>\n",
       "      <td>0.011272</td>\n",
       "      <td>0.003907</td>\n",
       "    </tr>\n",
       "    <tr>\n",
       "      <th>Portão</th>\n",
       "      <td>0.034562</td>\n",
       "      <td>0.017725</td>\n",
       "      <td>0.006212</td>\n",
       "      <td>0.005311</td>\n",
       "      <td>0.003668</td>\n",
       "      <td>0.011873</td>\n",
       "      <td>0.014269</td>\n",
       "      <td>0.015305</td>\n",
       "      <td>0.007679</td>\n",
       "      <td>0.005183</td>\n",
       "    </tr>\n",
       "    <tr>\n",
       "      <th>Cajuru</th>\n",
       "      <td>0.048188</td>\n",
       "      <td>0.006097</td>\n",
       "      <td>0.014500</td>\n",
       "      <td>0.002398</td>\n",
       "      <td>0.004669</td>\n",
       "      <td>0.008967</td>\n",
       "      <td>0.003495</td>\n",
       "      <td>0.002675</td>\n",
       "      <td>0.001645</td>\n",
       "      <td>0.000583</td>\n",
       "    </tr>\n",
       "    <tr>\n",
       "      <th>Santa Felicidade</th>\n",
       "      <td>0.026492</td>\n",
       "      <td>0.004322</td>\n",
       "      <td>0.001219</td>\n",
       "      <td>0.010031</td>\n",
       "      <td>0.002281</td>\n",
       "      <td>0.000901</td>\n",
       "      <td>0.001496</td>\n",
       "      <td>0.004473</td>\n",
       "      <td>0.000477</td>\n",
       "      <td>0.000400</td>\n",
       "    </tr>\n",
       "    <tr>\n",
       "      <th>Boa Vista</th>\n",
       "      <td>0.047368</td>\n",
       "      <td>0.003872</td>\n",
       "      <td>0.004642</td>\n",
       "      <td>0.003189</td>\n",
       "      <td>0.016439</td>\n",
       "      <td>0.001961</td>\n",
       "      <td>0.001357</td>\n",
       "      <td>0.001504</td>\n",
       "      <td>0.000428</td>\n",
       "      <td>0.000226</td>\n",
       "    </tr>\n",
       "    <tr>\n",
       "      <th>Boqueirão</th>\n",
       "      <td>0.047741</td>\n",
       "      <td>0.010994</td>\n",
       "      <td>0.008727</td>\n",
       "      <td>0.001687</td>\n",
       "      <td>0.002314</td>\n",
       "      <td>0.023300</td>\n",
       "      <td>0.008434</td>\n",
       "      <td>0.004370</td>\n",
       "      <td>0.007130</td>\n",
       "      <td>0.002120</td>\n",
       "    </tr>\n",
       "    <tr>\n",
       "      <th>Pinheirinho</th>\n",
       "      <td>0.025043</td>\n",
       "      <td>0.012511</td>\n",
       "      <td>0.003340</td>\n",
       "      <td>0.002344</td>\n",
       "      <td>0.001277</td>\n",
       "      <td>0.008121</td>\n",
       "      <td>0.009881</td>\n",
       "      <td>0.007964</td>\n",
       "      <td>0.005696</td>\n",
       "      <td>0.005643</td>\n",
       "    </tr>\n",
       "    <tr>\n",
       "      <th>CIC</th>\n",
       "      <td>0.027147</td>\n",
       "      <td>0.015722</td>\n",
       "      <td>0.002010</td>\n",
       "      <td>0.005458</td>\n",
       "      <td>0.001264</td>\n",
       "      <td>0.003898</td>\n",
       "      <td>0.007169</td>\n",
       "      <td>0.015803</td>\n",
       "      <td>0.002707</td>\n",
       "      <td>0.003896</td>\n",
       "    </tr>\n",
       "    <tr>\n",
       "      <th>Bairro Novo</th>\n",
       "      <td>0.023265</td>\n",
       "      <td>0.008493</td>\n",
       "      <td>0.001669</td>\n",
       "      <td>0.001087</td>\n",
       "      <td>0.000629</td>\n",
       "      <td>0.007662</td>\n",
       "      <td>0.006370</td>\n",
       "      <td>0.002927</td>\n",
       "      <td>0.004303</td>\n",
       "      <td>0.000941</td>\n",
       "    </tr>\n",
       "    <tr>\n",
       "      <th>Tatuquara</th>\n",
       "      <td>0.007868</td>\n",
       "      <td>0.005189</td>\n",
       "      <td>0.000470</td>\n",
       "      <td>0.000758</td>\n",
       "      <td>0.000295</td>\n",
       "      <td>0.001632</td>\n",
       "      <td>0.005113</td>\n",
       "      <td>0.004090</td>\n",
       "      <td>0.000898</td>\n",
       "      <td>0.001583</td>\n",
       "    </tr>\n",
       "  </tbody>\n",
       "</table>\n",
       "</div>"
      ],
      "text/plain": [
       "                    Matriz    Portão    Cajuru  Santa Felicidade  Boa Vista  \\\n",
       "name_macrozone                                                                \n",
       "Matriz            0.075474  0.032268  0.036138          0.017348   0.036791   \n",
       "Portão            0.034562  0.017725  0.006212          0.005311   0.003668   \n",
       "Cajuru            0.048188  0.006097  0.014500          0.002398   0.004669   \n",
       "Santa Felicidade  0.026492  0.004322  0.001219          0.010031   0.002281   \n",
       "Boa Vista         0.047368  0.003872  0.004642          0.003189   0.016439   \n",
       "Boqueirão         0.047741  0.010994  0.008727          0.001687   0.002314   \n",
       "Pinheirinho       0.025043  0.012511  0.003340          0.002344   0.001277   \n",
       "CIC               0.027147  0.015722  0.002010          0.005458   0.001264   \n",
       "Bairro Novo       0.023265  0.008493  0.001669          0.001087   0.000629   \n",
       "Tatuquara         0.007868  0.005189  0.000470          0.000758   0.000295   \n",
       "\n",
       "                  Boqueirão  Pinheirinho       CIC  Bairro Novo  Tatuquara  \n",
       "name_macrozone                                                              \n",
       "Matriz             0.038932     0.015386  0.015452     0.011272   0.003907  \n",
       "Portão             0.011873     0.014269  0.015305     0.007679   0.005183  \n",
       "Cajuru             0.008967     0.003495  0.002675     0.001645   0.000583  \n",
       "Santa Felicidade   0.000901     0.001496  0.004473     0.000477   0.000400  \n",
       "Boa Vista          0.001961     0.001357  0.001504     0.000428   0.000226  \n",
       "Boqueirão          0.023300     0.008434  0.004370     0.007130   0.002120  \n",
       "Pinheirinho        0.008121     0.009881  0.007964     0.005696   0.005643  \n",
       "CIC                0.003898     0.007169  0.015803     0.002707   0.003896  \n",
       "Bairro Novo        0.007662     0.006370  0.002927     0.004303   0.000941  \n",
       "Tatuquara          0.001632     0.005113  0.004090     0.000898   0.001583  "
      ]
     },
     "execution_count": 35,
     "metadata": {},
     "output_type": "execute_result"
    }
   ],
   "source": [
    "may_est_trips_macrozones"
   ]
  },
  {
   "cell_type": "code",
   "execution_count": 36,
   "metadata": {
    "scrolled": true
   },
   "outputs": [
    {
     "data": {
      "text/plain": [
       "0.07547414883747082"
      ]
     },
     "execution_count": 36,
     "metadata": {},
     "output_type": "execute_result"
    }
   ],
   "source": [
    "np.max(may_est_trips_macrozones.values)"
   ]
  },
  {
   "cell_type": "code",
   "execution_count": 37,
   "metadata": {
    "scrolled": true
   },
   "outputs": [
    {
     "data": {
      "image/png": "[encoded data removed]",
      "text/plain": [
       "<Figure size 432x288 with 2 Axes>"
      ]
     },
     "metadata": {
      "needs_background": "light"
     },
     "output_type": "display_data"
    }
   ],
   "source": [
    "may_est_trips_macrozones_heatmap = build_heatmap_from_od_matrix(may_est_trips_macrozones,\n",
    "                                                                                 color_map=green_cmap,\n",
    "                                                                                 center_val=0.04,min_val=0.0,max_val=0.08,\n",
    "                                                                                 color_label='Proportion of Trips (%)')"
   ]
  },
  {
   "cell_type": "code",
   "execution_count": 38,
   "metadata": {},
   "outputs": [],
   "source": [
    "may_est_trips_macrozones_heatmap.get_figure().savefig('/local/tarciso/data/od-mat-validation/heatmaps/od-matrices/may_est_trips_macrozones_heatmap.png', bbox_inches='tight')"
   ]
  },
  {
   "cell_type": "markdown",
   "metadata": {},
   "source": [
    "## Visualize Differences"
   ]
  },
  {
   "cell_type": "markdown",
   "metadata": {},
   "source": [
    "#### Creating a Divergent Scale Palette"
   ]
  },
  {
   "cell_type": "markdown",
   "metadata": {},
   "source": [
    "#### Naive Population Proportion Baseline - Survey "
   ]
  },
  {
   "cell_type": "code",
   "execution_count": 39,
   "metadata": {},
   "outputs": [],
   "source": [
    "naive_pop_prop_baseline_survey_macrozones = naive_pop_prop_baseline_macrozones - survey_macrozones"
   ]
  },
  {
   "cell_type": "code",
   "execution_count": 40,
   "metadata": {},
   "outputs": [
    {
     "data": {
      "text/html": [
       "<div>\n",
       "<style scoped>\n",
       "    .dataframe tbody tr th:only-of-type {\n",
       "        vertical-align: middle;\n",
       "    }\n",
       "\n",
       "    .dataframe tbody tr th {\n",
       "        vertical-align: top;\n",
       "    }\n",
       "\n",
       "    .dataframe thead th {\n",
       "        text-align: right;\n",
       "    }\n",
       "</style>\n",
       "<table border=\"1\" class=\"dataframe\">\n",
       "  <thead>\n",
       "    <tr style=\"text-align: right;\">\n",
       "      <th></th>\n",
       "      <th>Matriz</th>\n",
       "      <th>Portão</th>\n",
       "      <th>Cajuru</th>\n",
       "      <th>Santa Felicidade</th>\n",
       "      <th>Boa Vista</th>\n",
       "      <th>Boqueirão</th>\n",
       "      <th>Pinheirinho</th>\n",
       "      <th>CIC</th>\n",
       "      <th>Bairro Novo</th>\n",
       "      <th>Tatuquara</th>\n",
       "    </tr>\n",
       "    <tr>\n",
       "      <th>name_macrozone</th>\n",
       "      <th></th>\n",
       "      <th></th>\n",
       "      <th></th>\n",
       "      <th></th>\n",
       "      <th></th>\n",
       "      <th></th>\n",
       "      <th></th>\n",
       "      <th></th>\n",
       "      <th></th>\n",
       "      <th></th>\n",
       "    </tr>\n",
       "  </thead>\n",
       "  <tbody>\n",
       "    <tr>\n",
       "      <th>Matriz</th>\n",
       "      <td>-0.055272</td>\n",
       "      <td>-0.017062</td>\n",
       "      <td>-0.020225</td>\n",
       "      <td>-0.025220</td>\n",
       "      <td>-0.042076</td>\n",
       "      <td>-0.008543</td>\n",
       "      <td>-0.015341</td>\n",
       "      <td>-0.013641</td>\n",
       "      <td>-0.003558</td>\n",
       "      <td>0.000604</td>\n",
       "    </tr>\n",
       "    <tr>\n",
       "      <th>Portão</th>\n",
       "      <td>-0.017255</td>\n",
       "      <td>-0.002057</td>\n",
       "      <td>0.008111</td>\n",
       "      <td>0.002984</td>\n",
       "      <td>0.007749</td>\n",
       "      <td>0.004687</td>\n",
       "      <td>-0.002515</td>\n",
       "      <td>-0.003070</td>\n",
       "      <td>0.001971</td>\n",
       "      <td>0.002726</td>\n",
       "    </tr>\n",
       "    <tr>\n",
       "      <th>Cajuru</th>\n",
       "      <td>-0.020321</td>\n",
       "      <td>0.007918</td>\n",
       "      <td>0.001518</td>\n",
       "      <td>0.007719</td>\n",
       "      <td>0.013083</td>\n",
       "      <td>0.008498</td>\n",
       "      <td>0.008456</td>\n",
       "      <td>0.010195</td>\n",
       "      <td>0.009167</td>\n",
       "      <td>0.006644</td>\n",
       "    </tr>\n",
       "    <tr>\n",
       "      <th>Santa Felicidade</th>\n",
       "      <td>-0.025028</td>\n",
       "      <td>0.003081</td>\n",
       "      <td>0.007623</td>\n",
       "      <td>-0.019388</td>\n",
       "      <td>0.008236</td>\n",
       "      <td>0.007412</td>\n",
       "      <td>0.004326</td>\n",
       "      <td>0.000835</td>\n",
       "      <td>0.005674</td>\n",
       "      <td>0.004759</td>\n",
       "    </tr>\n",
       "    <tr>\n",
       "      <th>Boa Vista</th>\n",
       "      <td>-0.041114</td>\n",
       "      <td>0.007461</td>\n",
       "      <td>0.012699</td>\n",
       "      <td>0.007851</td>\n",
       "      <td>-0.011436</td>\n",
       "      <td>0.012289</td>\n",
       "      <td>0.009300</td>\n",
       "      <td>0.013166</td>\n",
       "      <td>0.011290</td>\n",
       "      <td>0.007969</td>\n",
       "    </tr>\n",
       "    <tr>\n",
       "      <th>Boqueirão</th>\n",
       "      <td>-0.009120</td>\n",
       "      <td>0.004398</td>\n",
       "      <td>0.008306</td>\n",
       "      <td>0.007412</td>\n",
       "      <td>0.011808</td>\n",
       "      <td>-0.013067</td>\n",
       "      <td>0.002978</td>\n",
       "      <td>0.007324</td>\n",
       "      <td>0.002824</td>\n",
       "      <td>0.005689</td>\n",
       "    </tr>\n",
       "    <tr>\n",
       "      <th>Pinheirinho</th>\n",
       "      <td>-0.016207</td>\n",
       "      <td>-0.002900</td>\n",
       "      <td>0.008552</td>\n",
       "      <td>0.004326</td>\n",
       "      <td>0.009108</td>\n",
       "      <td>0.003266</td>\n",
       "      <td>-0.006897</td>\n",
       "      <td>0.001710</td>\n",
       "      <td>0.001609</td>\n",
       "      <td>0.000526</td>\n",
       "    </tr>\n",
       "    <tr>\n",
       "      <th>CIC</th>\n",
       "      <td>-0.013737</td>\n",
       "      <td>-0.003166</td>\n",
       "      <td>0.010003</td>\n",
       "      <td>0.001219</td>\n",
       "      <td>0.012589</td>\n",
       "      <td>0.007228</td>\n",
       "      <td>0.001998</td>\n",
       "      <td>-0.016226</td>\n",
       "      <td>0.006444</td>\n",
       "      <td>0.002744</td>\n",
       "    </tr>\n",
       "    <tr>\n",
       "      <th>Bairro Novo</th>\n",
       "      <td>-0.004232</td>\n",
       "      <td>0.001875</td>\n",
       "      <td>0.009263</td>\n",
       "      <td>0.005481</td>\n",
       "      <td>0.010521</td>\n",
       "      <td>0.002728</td>\n",
       "      <td>0.002186</td>\n",
       "      <td>0.006732</td>\n",
       "      <td>0.000638</td>\n",
       "      <td>0.004188</td>\n",
       "    </tr>\n",
       "    <tr>\n",
       "      <th>Tatuquara</th>\n",
       "      <td>0.000412</td>\n",
       "      <td>0.002822</td>\n",
       "      <td>0.006644</td>\n",
       "      <td>0.004759</td>\n",
       "      <td>0.008066</td>\n",
       "      <td>0.005593</td>\n",
       "      <td>0.000526</td>\n",
       "      <td>0.002359</td>\n",
       "      <td>0.004092</td>\n",
       "      <td>0.001724</td>\n",
       "    </tr>\n",
       "  </tbody>\n",
       "</table>\n",
       "</div>"
      ],
      "text/plain": [
       "                    Matriz    Portão    Cajuru  Santa Felicidade  Boa Vista  \\\n",
       "name_macrozone                                                                \n",
       "Matriz           -0.055272 -0.017062 -0.020225         -0.025220  -0.042076   \n",
       "Portão           -0.017255 -0.002057  0.008111          0.002984   0.007749   \n",
       "Cajuru           -0.020321  0.007918  0.001518          0.007719   0.013083   \n",
       "Santa Felicidade -0.025028  0.003081  0.007623         -0.019388   0.008236   \n",
       "Boa Vista        -0.041114  0.007461  0.012699          0.007851  -0.011436   \n",
       "Boqueirão        -0.009120  0.004398  0.008306          0.007412   0.011808   \n",
       "Pinheirinho      -0.016207 -0.002900  0.008552          0.004326   0.009108   \n",
       "CIC              -0.013737 -0.003166  0.010003          0.001219   0.012589   \n",
       "Bairro Novo      -0.004232  0.001875  0.009263          0.005481   0.010521   \n",
       "Tatuquara         0.000412  0.002822  0.006644          0.004759   0.008066   \n",
       "\n",
       "                  Boqueirão  Pinheirinho       CIC  Bairro Novo  Tatuquara  \n",
       "name_macrozone                                                              \n",
       "Matriz            -0.008543    -0.015341 -0.013641    -0.003558   0.000604  \n",
       "Portão             0.004687    -0.002515 -0.003070     0.001971   0.002726  \n",
       "Cajuru             0.008498     0.008456  0.010195     0.009167   0.006644  \n",
       "Santa Felicidade   0.007412     0.004326  0.000835     0.005674   0.004759  \n",
       "Boa Vista          0.012289     0.009300  0.013166     0.011290   0.007969  \n",
       "Boqueirão         -0.013067     0.002978  0.007324     0.002824   0.005689  \n",
       "Pinheirinho        0.003266    -0.006897  0.001710     0.001609   0.000526  \n",
       "CIC                0.007228     0.001998 -0.016226     0.006444   0.002744  \n",
       "Bairro Novo        0.002728     0.002186  0.006732     0.000638   0.004188  \n",
       "Tatuquara          0.005593     0.000526  0.002359     0.004092   0.001724  "
      ]
     },
     "execution_count": 40,
     "metadata": {},
     "output_type": "execute_result"
    }
   ],
   "source": [
    "naive_pop_prop_baseline_survey_macrozones"
   ]
  },
  {
   "cell_type": "code",
   "execution_count": 41,
   "metadata": {},
   "outputs": [
    {
     "name": "stdout",
     "output_type": "stream",
     "text": [
      "-0.055271500619586536 0.01316605437456031\n"
     ]
    }
   ],
   "source": [
    "print(np.min(naive_pop_prop_baseline_survey_macrozones.values),np.max(naive_pop_prop_baseline_survey_macrozones.values))"
   ]
  },
  {
   "cell_type": "code",
   "execution_count": 42,
   "metadata": {},
   "outputs": [],
   "source": [
    "naive_pop_prop_baseline_survey_macrozones_error = np.abs(naive_pop_prop_baseline_survey_macrozones.values).mean()"
   ]
  },
  {
   "cell_type": "code",
   "execution_count": 43,
   "metadata": {},
   "outputs": [
    {
     "data": {
      "text/plain": [
       "0.008573448859244387"
      ]
     },
     "execution_count": 43,
     "metadata": {},
     "output_type": "execute_result"
    }
   ],
   "source": [
    "naive_pop_prop_baseline_survey_macrozones_error"
   ]
  },
  {
   "cell_type": "code",
   "execution_count": 44,
   "metadata": {
    "scrolled": true
   },
   "outputs": [
    {
     "data": {
      "image/png": "[encoded data removed]",
      "text/plain": [
       "<Figure size 432x288 with 2 Axes>"
      ]
     },
     "metadata": {
      "needs_background": "light"
     },
     "output_type": "display_data"
    }
   ],
   "source": [
    "naive_pop_prop_baseline_survey_macrozones_heatmap = build_heatmap_from_od_matrix(naive_pop_prop_baseline_survey_macrozones,\n",
    "                                                                                 color_map=div_scale_cmap,\n",
    "                                                                                 center_val=0.0,min_val=-0.06,max_val=0.06,\n",
    "                                                                                 color_label='Proportion Error (in %)')"
   ]
  },
  {
   "cell_type": "code",
   "execution_count": 45,
   "metadata": {},
   "outputs": [],
   "source": [
    "naive_pop_prop_baseline_survey_macrozones_heatmap.get_figure().savefig('/local/tarciso/data/od-mat-validation/heatmaps/error-matrices/naive_pop_prop_baseline_survey_macrozones_heatmap.png', bbox_inches='tight')"
   ]
  },
  {
   "cell_type": "markdown",
   "metadata": {},
   "source": [
    "### Error Distribution"
   ]
  },
  {
   "cell_type": "code",
   "execution_count": 46,
   "metadata": {},
   "outputs": [],
   "source": [
    "naive_pop_prop_baseline_error_dist = pd.DataFrame(naive_pop_prop_baseline_survey_macrozones.to_records())"
   ]
  },
  {
   "cell_type": "code",
   "execution_count": 47,
   "metadata": {},
   "outputs": [
    {
     "data": {
      "text/html": [
       "<div>\n",
       "<style scoped>\n",
       "    .dataframe tbody tr th:only-of-type {\n",
       "        vertical-align: middle;\n",
       "    }\n",
       "\n",
       "    .dataframe tbody tr th {\n",
       "        vertical-align: top;\n",
       "    }\n",
       "\n",
       "    .dataframe thead th {\n",
       "        text-align: right;\n",
       "    }\n",
       "</style>\n",
       "<table border=\"1\" class=\"dataframe\">\n",
       "  <thead>\n",
       "    <tr style=\"text-align: right;\">\n",
       "      <th></th>\n",
       "      <th>name_macrozone</th>\n",
       "      <th>Matriz</th>\n",
       "      <th>Portão</th>\n",
       "      <th>Cajuru</th>\n",
       "      <th>Santa Felicidade</th>\n",
       "      <th>Boa Vista</th>\n",
       "      <th>Boqueirão</th>\n",
       "      <th>Pinheirinho</th>\n",
       "      <th>CIC</th>\n",
       "      <th>Bairro Novo</th>\n",
       "      <th>Tatuquara</th>\n",
       "    </tr>\n",
       "  </thead>\n",
       "  <tbody>\n",
       "    <tr>\n",
       "      <th>0</th>\n",
       "      <td>Matriz</td>\n",
       "      <td>-0.055272</td>\n",
       "      <td>-0.017062</td>\n",
       "      <td>-0.020225</td>\n",
       "      <td>-0.025220</td>\n",
       "      <td>-0.042076</td>\n",
       "      <td>-0.008543</td>\n",
       "      <td>-0.015341</td>\n",
       "      <td>-0.013641</td>\n",
       "      <td>-0.003558</td>\n",
       "      <td>0.000604</td>\n",
       "    </tr>\n",
       "    <tr>\n",
       "      <th>1</th>\n",
       "      <td>Portão</td>\n",
       "      <td>-0.017255</td>\n",
       "      <td>-0.002057</td>\n",
       "      <td>0.008111</td>\n",
       "      <td>0.002984</td>\n",
       "      <td>0.007749</td>\n",
       "      <td>0.004687</td>\n",
       "      <td>-0.002515</td>\n",
       "      <td>-0.003070</td>\n",
       "      <td>0.001971</td>\n",
       "      <td>0.002726</td>\n",
       "    </tr>\n",
       "    <tr>\n",
       "      <th>2</th>\n",
       "      <td>Cajuru</td>\n",
       "      <td>-0.020321</td>\n",
       "      <td>0.007918</td>\n",
       "      <td>0.001518</td>\n",
       "      <td>0.007719</td>\n",
       "      <td>0.013083</td>\n",
       "      <td>0.008498</td>\n",
       "      <td>0.008456</td>\n",
       "      <td>0.010195</td>\n",
       "      <td>0.009167</td>\n",
       "      <td>0.006644</td>\n",
       "    </tr>\n",
       "    <tr>\n",
       "      <th>3</th>\n",
       "      <td>Santa Felicidade</td>\n",
       "      <td>-0.025028</td>\n",
       "      <td>0.003081</td>\n",
       "      <td>0.007623</td>\n",
       "      <td>-0.019388</td>\n",
       "      <td>0.008236</td>\n",
       "      <td>0.007412</td>\n",
       "      <td>0.004326</td>\n",
       "      <td>0.000835</td>\n",
       "      <td>0.005674</td>\n",
       "      <td>0.004759</td>\n",
       "    </tr>\n",
       "    <tr>\n",
       "      <th>4</th>\n",
       "      <td>Boa Vista</td>\n",
       "      <td>-0.041114</td>\n",
       "      <td>0.007461</td>\n",
       "      <td>0.012699</td>\n",
       "      <td>0.007851</td>\n",
       "      <td>-0.011436</td>\n",
       "      <td>0.012289</td>\n",
       "      <td>0.009300</td>\n",
       "      <td>0.013166</td>\n",
       "      <td>0.011290</td>\n",
       "      <td>0.007969</td>\n",
       "    </tr>\n",
       "    <tr>\n",
       "      <th>5</th>\n",
       "      <td>Boqueirão</td>\n",
       "      <td>-0.009120</td>\n",
       "      <td>0.004398</td>\n",
       "      <td>0.008306</td>\n",
       "      <td>0.007412</td>\n",
       "      <td>0.011808</td>\n",
       "      <td>-0.013067</td>\n",
       "      <td>0.002978</td>\n",
       "      <td>0.007324</td>\n",
       "      <td>0.002824</td>\n",
       "      <td>0.005689</td>\n",
       "    </tr>\n",
       "    <tr>\n",
       "      <th>6</th>\n",
       "      <td>Pinheirinho</td>\n",
       "      <td>-0.016207</td>\n",
       "      <td>-0.002900</td>\n",
       "      <td>0.008552</td>\n",
       "      <td>0.004326</td>\n",
       "      <td>0.009108</td>\n",
       "      <td>0.003266</td>\n",
       "      <td>-0.006897</td>\n",
       "      <td>0.001710</td>\n",
       "      <td>0.001609</td>\n",
       "      <td>0.000526</td>\n",
       "    </tr>\n",
       "    <tr>\n",
       "      <th>7</th>\n",
       "      <td>CIC</td>\n",
       "      <td>-0.013737</td>\n",
       "      <td>-0.003166</td>\n",
       "      <td>0.010003</td>\n",
       "      <td>0.001219</td>\n",
       "      <td>0.012589</td>\n",
       "      <td>0.007228</td>\n",
       "      <td>0.001998</td>\n",
       "      <td>-0.016226</td>\n",
       "      <td>0.006444</td>\n",
       "      <td>0.002744</td>\n",
       "    </tr>\n",
       "    <tr>\n",
       "      <th>8</th>\n",
       "      <td>Bairro Novo</td>\n",
       "      <td>-0.004232</td>\n",
       "      <td>0.001875</td>\n",
       "      <td>0.009263</td>\n",
       "      <td>0.005481</td>\n",
       "      <td>0.010521</td>\n",
       "      <td>0.002728</td>\n",
       "      <td>0.002186</td>\n",
       "      <td>0.006732</td>\n",
       "      <td>0.000638</td>\n",
       "      <td>0.004188</td>\n",
       "    </tr>\n",
       "    <tr>\n",
       "      <th>9</th>\n",
       "      <td>Tatuquara</td>\n",
       "      <td>0.000412</td>\n",
       "      <td>0.002822</td>\n",
       "      <td>0.006644</td>\n",
       "      <td>0.004759</td>\n",
       "      <td>0.008066</td>\n",
       "      <td>0.005593</td>\n",
       "      <td>0.000526</td>\n",
       "      <td>0.002359</td>\n",
       "      <td>0.004092</td>\n",
       "      <td>0.001724</td>\n",
       "    </tr>\n",
       "  </tbody>\n",
       "</table>\n",
       "</div>"
      ],
      "text/plain": [
       "     name_macrozone    Matriz    Portão    Cajuru  Santa Felicidade  \\\n",
       "0            Matriz -0.055272 -0.017062 -0.020225         -0.025220   \n",
       "1            Portão -0.017255 -0.002057  0.008111          0.002984   \n",
       "2            Cajuru -0.020321  0.007918  0.001518          0.007719   \n",
       "3  Santa Felicidade -0.025028  0.003081  0.007623         -0.019388   \n",
       "4         Boa Vista -0.041114  0.007461  0.012699          0.007851   \n",
       "5         Boqueirão -0.009120  0.004398  0.008306          0.007412   \n",
       "6       Pinheirinho -0.016207 -0.002900  0.008552          0.004326   \n",
       "7               CIC -0.013737 -0.003166  0.010003          0.001219   \n",
       "8       Bairro Novo -0.004232  0.001875  0.009263          0.005481   \n",
       "9         Tatuquara  0.000412  0.002822  0.006644          0.004759   \n",
       "\n",
       "   Boa Vista  Boqueirão  Pinheirinho       CIC  Bairro Novo  Tatuquara  \n",
       "0  -0.042076  -0.008543    -0.015341 -0.013641    -0.003558   0.000604  \n",
       "1   0.007749   0.004687    -0.002515 -0.003070     0.001971   0.002726  \n",
       "2   0.013083   0.008498     0.008456  0.010195     0.009167   0.006644  \n",
       "3   0.008236   0.007412     0.004326  0.000835     0.005674   0.004759  \n",
       "4  -0.011436   0.012289     0.009300  0.013166     0.011290   0.007969  \n",
       "5   0.011808  -0.013067     0.002978  0.007324     0.002824   0.005689  \n",
       "6   0.009108   0.003266    -0.006897  0.001710     0.001609   0.000526  \n",
       "7   0.012589   0.007228     0.001998 -0.016226     0.006444   0.002744  \n",
       "8   0.010521   0.002728     0.002186  0.006732     0.000638   0.004188  \n",
       "9   0.008066   0.005593     0.000526  0.002359     0.004092   0.001724  "
      ]
     },
     "execution_count": 47,
     "metadata": {},
     "output_type": "execute_result"
    }
   ],
   "source": [
    "naive_pop_prop_baseline_error_dist"
   ]
  },
  {
   "cell_type": "code",
   "execution_count": 48,
   "metadata": {},
   "outputs": [
    {
     "name": "stderr",
     "output_type": "stream",
     "text": [
      "/home/tarciso/anaconda2/envs/py37/lib/python3.7/site-packages/scipy/stats/stats.py:1713: FutureWarning: Using a non-tuple sequence for multidimensional indexing is deprecated; use `arr[tuple(seq)]` instead of `arr[seq]`. In the future this will be interpreted as an array index, `arr[np.array(seq)]`, which will result either in an error or a different result.\n",
      "  return np.add.reduce(sorted[indexer] * weights, axis=axis) / sumval\n"
     ]
    },
    {
     "data": {
      "text/plain": [
       "<matplotlib.axes._subplots.AxesSubplot at 0x7fcfc28b4fd0>"
      ]
     },
     "execution_count": 48,
     "metadata": {},
     "output_type": "execute_result"
    },
    {
     "data": {
      "image/png": "[encoded data removed]",
      "text/plain": [
       "<Figure size 432x288 with 1 Axes>"
      ]
     },
     "metadata": {
      "needs_background": "light"
     },
     "output_type": "display_data"
    }
   ],
   "source": [
    "sns.violinplot(naive_pop_prop_baseline_survey_macrozones)"
   ]
  },
  {
   "cell_type": "markdown",
   "metadata": {},
   "source": [
    "#### Population Proportion BUSTE Baseline - Survey "
   ]
  },
  {
   "cell_type": "code",
   "execution_count": 49,
   "metadata": {},
   "outputs": [],
   "source": [
    "pop_prop_buste_baseline_survey_macrozones = pop_prop_buste_baseline_macrozones - survey_macrozones"
   ]
  },
  {
   "cell_type": "code",
   "execution_count": 50,
   "metadata": {},
   "outputs": [
    {
     "data": {
      "text/html": [
       "<div>\n",
       "<style scoped>\n",
       "    .dataframe tbody tr th:only-of-type {\n",
       "        vertical-align: middle;\n",
       "    }\n",
       "\n",
       "    .dataframe tbody tr th {\n",
       "        vertical-align: top;\n",
       "    }\n",
       "\n",
       "    .dataframe thead th {\n",
       "        text-align: right;\n",
       "    }\n",
       "</style>\n",
       "<table border=\"1\" class=\"dataframe\">\n",
       "  <thead>\n",
       "    <tr style=\"text-align: right;\">\n",
       "      <th></th>\n",
       "      <th>Matriz</th>\n",
       "      <th>Portão</th>\n",
       "      <th>Cajuru</th>\n",
       "      <th>Santa Felicidade</th>\n",
       "      <th>Boa Vista</th>\n",
       "      <th>Boqueirão</th>\n",
       "      <th>Pinheirinho</th>\n",
       "      <th>CIC</th>\n",
       "      <th>Bairro Novo</th>\n",
       "      <th>Tatuquara</th>\n",
       "    </tr>\n",
       "    <tr>\n",
       "      <th>name_macrozone</th>\n",
       "      <th></th>\n",
       "      <th></th>\n",
       "      <th></th>\n",
       "      <th></th>\n",
       "      <th></th>\n",
       "      <th></th>\n",
       "      <th></th>\n",
       "      <th></th>\n",
       "      <th></th>\n",
       "      <th></th>\n",
       "    </tr>\n",
       "  </thead>\n",
       "  <tbody>\n",
       "    <tr>\n",
       "      <th>Matriz</th>\n",
       "      <td>-0.038970</td>\n",
       "      <td>-0.002654</td>\n",
       "      <td>-0.002057</td>\n",
       "      <td>-0.012211</td>\n",
       "      <td>-0.021096</td>\n",
       "      <td>0.007491</td>\n",
       "      <td>-0.003529</td>\n",
       "      <td>0.002004</td>\n",
       "      <td>0.009226</td>\n",
       "      <td>0.009422</td>\n",
       "    </tr>\n",
       "    <tr>\n",
       "      <th>Portão</th>\n",
       "      <td>-0.020080</td>\n",
       "      <td>-0.004554</td>\n",
       "      <td>0.004962</td>\n",
       "      <td>0.000730</td>\n",
       "      <td>0.004113</td>\n",
       "      <td>0.001908</td>\n",
       "      <td>-0.004563</td>\n",
       "      <td>-0.005781</td>\n",
       "      <td>-0.000245</td>\n",
       "      <td>0.001198</td>\n",
       "    </tr>\n",
       "    <tr>\n",
       "      <th>Cajuru</th>\n",
       "      <td>-0.025099</td>\n",
       "      <td>0.003695</td>\n",
       "      <td>-0.003807</td>\n",
       "      <td>0.003906</td>\n",
       "      <td>0.006934</td>\n",
       "      <td>0.003798</td>\n",
       "      <td>0.004994</td>\n",
       "      <td>0.005609</td>\n",
       "      <td>0.005420</td>\n",
       "      <td>0.004060</td>\n",
       "    </tr>\n",
       "    <tr>\n",
       "      <th>Santa Felicidade</th>\n",
       "      <td>-0.024054</td>\n",
       "      <td>0.003941</td>\n",
       "      <td>0.008708</td>\n",
       "      <td>-0.018610</td>\n",
       "      <td>0.009489</td>\n",
       "      <td>0.008370</td>\n",
       "      <td>0.005032</td>\n",
       "      <td>0.001769</td>\n",
       "      <td>0.006438</td>\n",
       "      <td>0.005286</td>\n",
       "    </tr>\n",
       "    <tr>\n",
       "      <th>Boa Vista</th>\n",
       "      <td>-0.041755</td>\n",
       "      <td>0.006895</td>\n",
       "      <td>0.011984</td>\n",
       "      <td>0.007339</td>\n",
       "      <td>-0.012261</td>\n",
       "      <td>0.011658</td>\n",
       "      <td>0.008836</td>\n",
       "      <td>0.012551</td>\n",
       "      <td>0.010787</td>\n",
       "      <td>0.007623</td>\n",
       "    </tr>\n",
       "    <tr>\n",
       "      <th>Boqueirão</th>\n",
       "      <td>-0.012982</td>\n",
       "      <td>0.000986</td>\n",
       "      <td>0.004002</td>\n",
       "      <td>0.004331</td>\n",
       "      <td>0.006838</td>\n",
       "      <td>-0.016865</td>\n",
       "      <td>0.000180</td>\n",
       "      <td>0.003618</td>\n",
       "      <td>-0.000204</td>\n",
       "      <td>0.003600</td>\n",
       "    </tr>\n",
       "    <tr>\n",
       "      <th>Pinheirinho</th>\n",
       "      <td>-0.018189</td>\n",
       "      <td>-0.004652</td>\n",
       "      <td>0.006343</td>\n",
       "      <td>0.002744</td>\n",
       "      <td>0.006557</td>\n",
       "      <td>0.001316</td>\n",
       "      <td>-0.008334</td>\n",
       "      <td>-0.000193</td>\n",
       "      <td>0.000054</td>\n",
       "      <td>-0.000546</td>\n",
       "    </tr>\n",
       "    <tr>\n",
       "      <th>CIC</th>\n",
       "      <td>-0.011850</td>\n",
       "      <td>-0.001499</td>\n",
       "      <td>0.012105</td>\n",
       "      <td>0.002725</td>\n",
       "      <td>0.015017</td>\n",
       "      <td>0.009083</td>\n",
       "      <td>0.003365</td>\n",
       "      <td>-0.014415</td>\n",
       "      <td>0.007923</td>\n",
       "      <td>0.003764</td>\n",
       "    </tr>\n",
       "    <tr>\n",
       "      <th>Bairro Novo</th>\n",
       "      <td>-0.008560</td>\n",
       "      <td>-0.001951</td>\n",
       "      <td>0.004439</td>\n",
       "      <td>0.002027</td>\n",
       "      <td>0.004950</td>\n",
       "      <td>-0.001529</td>\n",
       "      <td>-0.000951</td>\n",
       "      <td>0.002578</td>\n",
       "      <td>-0.002756</td>\n",
       "      <td>0.001846</td>\n",
       "    </tr>\n",
       "    <tr>\n",
       "      <th>Tatuquara</th>\n",
       "      <td>-0.000334</td>\n",
       "      <td>0.002163</td>\n",
       "      <td>0.005814</td>\n",
       "      <td>0.004164</td>\n",
       "      <td>0.007106</td>\n",
       "      <td>0.004859</td>\n",
       "      <td>-0.000014</td>\n",
       "      <td>0.001643</td>\n",
       "      <td>0.003507</td>\n",
       "      <td>0.001321</td>\n",
       "    </tr>\n",
       "  </tbody>\n",
       "</table>\n",
       "</div>"
      ],
      "text/plain": [
       "                    Matriz    Portão    Cajuru  Santa Felicidade  Boa Vista  \\\n",
       "name_macrozone                                                                \n",
       "Matriz           -0.038970 -0.002654 -0.002057         -0.012211  -0.021096   \n",
       "Portão           -0.020080 -0.004554  0.004962          0.000730   0.004113   \n",
       "Cajuru           -0.025099  0.003695 -0.003807          0.003906   0.006934   \n",
       "Santa Felicidade -0.024054  0.003941  0.008708         -0.018610   0.009489   \n",
       "Boa Vista        -0.041755  0.006895  0.011984          0.007339  -0.012261   \n",
       "Boqueirão        -0.012982  0.000986  0.004002          0.004331   0.006838   \n",
       "Pinheirinho      -0.018189 -0.004652  0.006343          0.002744   0.006557   \n",
       "CIC              -0.011850 -0.001499  0.012105          0.002725   0.015017   \n",
       "Bairro Novo      -0.008560 -0.001951  0.004439          0.002027   0.004950   \n",
       "Tatuquara        -0.000334  0.002163  0.005814          0.004164   0.007106   \n",
       "\n",
       "                  Boqueirão  Pinheirinho       CIC  Bairro Novo  Tatuquara  \n",
       "name_macrozone                                                              \n",
       "Matriz             0.007491    -0.003529  0.002004     0.009226   0.009422  \n",
       "Portão             0.001908    -0.004563 -0.005781    -0.000245   0.001198  \n",
       "Cajuru             0.003798     0.004994  0.005609     0.005420   0.004060  \n",
       "Santa Felicidade   0.008370     0.005032  0.001769     0.006438   0.005286  \n",
       "Boa Vista          0.011658     0.008836  0.012551     0.010787   0.007623  \n",
       "Boqueirão         -0.016865     0.000180  0.003618    -0.000204   0.003600  \n",
       "Pinheirinho        0.001316    -0.008334 -0.000193     0.000054  -0.000546  \n",
       "CIC                0.009083     0.003365 -0.014415     0.007923   0.003764  \n",
       "Bairro Novo       -0.001529    -0.000951  0.002578    -0.002756   0.001846  \n",
       "Tatuquara          0.004859    -0.000014  0.001643     0.003507   0.001321  "
      ]
     },
     "execution_count": 50,
     "metadata": {},
     "output_type": "execute_result"
    }
   ],
   "source": [
    "pop_prop_buste_baseline_survey_macrozones"
   ]
  },
  {
   "cell_type": "code",
   "execution_count": 51,
   "metadata": {},
   "outputs": [
    {
     "name": "stdout",
     "output_type": "stream",
     "text": [
      "-0.041754987588201384 0.015016975326092984\n"
     ]
    }
   ],
   "source": [
    "print(np.min(pop_prop_buste_baseline_survey_macrozones.values),np.max(pop_prop_buste_baseline_survey_macrozones.values))"
   ]
  },
  {
   "cell_type": "code",
   "execution_count": 52,
   "metadata": {},
   "outputs": [],
   "source": [
    "pop_prop_buste_baseline_survey_macrozones_error = np.abs(pop_prop_buste_baseline_survey_macrozones.values).mean()"
   ]
  },
  {
   "cell_type": "code",
   "execution_count": 53,
   "metadata": {},
   "outputs": [
    {
     "data": {
      "text/plain": [
       "0.0069429676542349175"
      ]
     },
     "execution_count": 53,
     "metadata": {},
     "output_type": "execute_result"
    }
   ],
   "source": [
    "pop_prop_buste_baseline_survey_macrozones_error"
   ]
  },
  {
   "cell_type": "code",
   "execution_count": 54,
   "metadata": {
    "scrolled": false
   },
   "outputs": [
    {
     "data": {
      "image/png": "[encoded data removed]",
      "text/plain": [
       "<Figure size 432x288 with 2 Axes>"
      ]
     },
     "metadata": {
      "needs_background": "light"
     },
     "output_type": "display_data"
    }
   ],
   "source": [
    "pop_prop_buste_baseline_survey_macrozones_heatmap = build_heatmap_from_od_matrix(pop_prop_buste_baseline_survey_macrozones,\n",
    "                                                                                 color_map=div_scale_cmap,\n",
    "                                                                                 center_val=0.0,min_val=-0.06,max_val=0.06,\n",
    "                                                                                 color_label='Proportion Error (in %)')"
   ]
  },
  {
   "cell_type": "code",
   "execution_count": 55,
   "metadata": {},
   "outputs": [],
   "source": [
    "pop_prop_buste_baseline_survey_macrozones_heatmap.get_figure().savefig('/local/tarciso/data/od-mat-validation/heatmaps/error-matrices/pop_prop_buste_baseline_survey_macrozones_heatmap.png', bbox_inches='tight')"
   ]
  },
  {
   "cell_type": "markdown",
   "metadata": {},
   "source": [
    "### Error Distribution"
   ]
  },
  {
   "cell_type": "code",
   "execution_count": 56,
   "metadata": {},
   "outputs": [],
   "source": [
    "pop_prop_buste_baseline_error_dist = pd.DataFrame(pop_prop_buste_baseline_survey_macrozones.to_records())"
   ]
  },
  {
   "cell_type": "code",
   "execution_count": 57,
   "metadata": {},
   "outputs": [
    {
     "data": {
      "text/html": [
       "<div>\n",
       "<style scoped>\n",
       "    .dataframe tbody tr th:only-of-type {\n",
       "        vertical-align: middle;\n",
       "    }\n",
       "\n",
       "    .dataframe tbody tr th {\n",
       "        vertical-align: top;\n",
       "    }\n",
       "\n",
       "    .dataframe thead th {\n",
       "        text-align: right;\n",
       "    }\n",
       "</style>\n",
       "<table border=\"1\" class=\"dataframe\">\n",
       "  <thead>\n",
       "    <tr style=\"text-align: right;\">\n",
       "      <th></th>\n",
       "      <th>name_macrozone</th>\n",
       "      <th>Matriz</th>\n",
       "      <th>Portão</th>\n",
       "      <th>Cajuru</th>\n",
       "      <th>Santa Felicidade</th>\n",
       "      <th>Boa Vista</th>\n",
       "      <th>Boqueirão</th>\n",
       "      <th>Pinheirinho</th>\n",
       "      <th>CIC</th>\n",
       "      <th>Bairro Novo</th>\n",
       "      <th>Tatuquara</th>\n",
       "    </tr>\n",
       "  </thead>\n",
       "  <tbody>\n",
       "    <tr>\n",
       "      <th>0</th>\n",
       "      <td>Matriz</td>\n",
       "      <td>-0.038970</td>\n",
       "      <td>-0.002654</td>\n",
       "      <td>-0.002057</td>\n",
       "      <td>-0.012211</td>\n",
       "      <td>-0.021096</td>\n",
       "      <td>0.007491</td>\n",
       "      <td>-0.003529</td>\n",
       "      <td>0.002004</td>\n",
       "      <td>0.009226</td>\n",
       "      <td>0.009422</td>\n",
       "    </tr>\n",
       "    <tr>\n",
       "      <th>1</th>\n",
       "      <td>Portão</td>\n",
       "      <td>-0.020080</td>\n",
       "      <td>-0.004554</td>\n",
       "      <td>0.004962</td>\n",
       "      <td>0.000730</td>\n",
       "      <td>0.004113</td>\n",
       "      <td>0.001908</td>\n",
       "      <td>-0.004563</td>\n",
       "      <td>-0.005781</td>\n",
       "      <td>-0.000245</td>\n",
       "      <td>0.001198</td>\n",
       "    </tr>\n",
       "    <tr>\n",
       "      <th>2</th>\n",
       "      <td>Cajuru</td>\n",
       "      <td>-0.025099</td>\n",
       "      <td>0.003695</td>\n",
       "      <td>-0.003807</td>\n",
       "      <td>0.003906</td>\n",
       "      <td>0.006934</td>\n",
       "      <td>0.003798</td>\n",
       "      <td>0.004994</td>\n",
       "      <td>0.005609</td>\n",
       "      <td>0.005420</td>\n",
       "      <td>0.004060</td>\n",
       "    </tr>\n",
       "    <tr>\n",
       "      <th>3</th>\n",
       "      <td>Santa Felicidade</td>\n",
       "      <td>-0.024054</td>\n",
       "      <td>0.003941</td>\n",
       "      <td>0.008708</td>\n",
       "      <td>-0.018610</td>\n",
       "      <td>0.009489</td>\n",
       "      <td>0.008370</td>\n",
       "      <td>0.005032</td>\n",
       "      <td>0.001769</td>\n",
       "      <td>0.006438</td>\n",
       "      <td>0.005286</td>\n",
       "    </tr>\n",
       "    <tr>\n",
       "      <th>4</th>\n",
       "      <td>Boa Vista</td>\n",
       "      <td>-0.041755</td>\n",
       "      <td>0.006895</td>\n",
       "      <td>0.011984</td>\n",
       "      <td>0.007339</td>\n",
       "      <td>-0.012261</td>\n",
       "      <td>0.011658</td>\n",
       "      <td>0.008836</td>\n",
       "      <td>0.012551</td>\n",
       "      <td>0.010787</td>\n",
       "      <td>0.007623</td>\n",
       "    </tr>\n",
       "    <tr>\n",
       "      <th>5</th>\n",
       "      <td>Boqueirão</td>\n",
       "      <td>-0.012982</td>\n",
       "      <td>0.000986</td>\n",
       "      <td>0.004002</td>\n",
       "      <td>0.004331</td>\n",
       "      <td>0.006838</td>\n",
       "      <td>-0.016865</td>\n",
       "      <td>0.000180</td>\n",
       "      <td>0.003618</td>\n",
       "      <td>-0.000204</td>\n",
       "      <td>0.003600</td>\n",
       "    </tr>\n",
       "    <tr>\n",
       "      <th>6</th>\n",
       "      <td>Pinheirinho</td>\n",
       "      <td>-0.018189</td>\n",
       "      <td>-0.004652</td>\n",
       "      <td>0.006343</td>\n",
       "      <td>0.002744</td>\n",
       "      <td>0.006557</td>\n",
       "      <td>0.001316</td>\n",
       "      <td>-0.008334</td>\n",
       "      <td>-0.000193</td>\n",
       "      <td>0.000054</td>\n",
       "      <td>-0.000546</td>\n",
       "    </tr>\n",
       "    <tr>\n",
       "      <th>7</th>\n",
       "      <td>CIC</td>\n",
       "      <td>-0.011850</td>\n",
       "      <td>-0.001499</td>\n",
       "      <td>0.012105</td>\n",
       "      <td>0.002725</td>\n",
       "      <td>0.015017</td>\n",
       "      <td>0.009083</td>\n",
       "      <td>0.003365</td>\n",
       "      <td>-0.014415</td>\n",
       "      <td>0.007923</td>\n",
       "      <td>0.003764</td>\n",
       "    </tr>\n",
       "    <tr>\n",
       "      <th>8</th>\n",
       "      <td>Bairro Novo</td>\n",
       "      <td>-0.008560</td>\n",
       "      <td>-0.001951</td>\n",
       "      <td>0.004439</td>\n",
       "      <td>0.002027</td>\n",
       "      <td>0.004950</td>\n",
       "      <td>-0.001529</td>\n",
       "      <td>-0.000951</td>\n",
       "      <td>0.002578</td>\n",
       "      <td>-0.002756</td>\n",
       "      <td>0.001846</td>\n",
       "    </tr>\n",
       "    <tr>\n",
       "      <th>9</th>\n",
       "      <td>Tatuquara</td>\n",
       "      <td>-0.000334</td>\n",
       "      <td>0.002163</td>\n",
       "      <td>0.005814</td>\n",
       "      <td>0.004164</td>\n",
       "      <td>0.007106</td>\n",
       "      <td>0.004859</td>\n",
       "      <td>-0.000014</td>\n",
       "      <td>0.001643</td>\n",
       "      <td>0.003507</td>\n",
       "      <td>0.001321</td>\n",
       "    </tr>\n",
       "  </tbody>\n",
       "</table>\n",
       "</div>"
      ],
      "text/plain": [
       "     name_macrozone    Matriz    Portão    Cajuru  Santa Felicidade  \\\n",
       "0            Matriz -0.038970 -0.002654 -0.002057         -0.012211   \n",
       "1            Portão -0.020080 -0.004554  0.004962          0.000730   \n",
       "2            Cajuru -0.025099  0.003695 -0.003807          0.003906   \n",
       "3  Santa Felicidade -0.024054  0.003941  0.008708         -0.018610   \n",
       "4         Boa Vista -0.041755  0.006895  0.011984          0.007339   \n",
       "5         Boqueirão -0.012982  0.000986  0.004002          0.004331   \n",
       "6       Pinheirinho -0.018189 -0.004652  0.006343          0.002744   \n",
       "7               CIC -0.011850 -0.001499  0.012105          0.002725   \n",
       "8       Bairro Novo -0.008560 -0.001951  0.004439          0.002027   \n",
       "9         Tatuquara -0.000334  0.002163  0.005814          0.004164   \n",
       "\n",
       "   Boa Vista  Boqueirão  Pinheirinho       CIC  Bairro Novo  Tatuquara  \n",
       "0  -0.021096   0.007491    -0.003529  0.002004     0.009226   0.009422  \n",
       "1   0.004113   0.001908    -0.004563 -0.005781    -0.000245   0.001198  \n",
       "2   0.006934   0.003798     0.004994  0.005609     0.005420   0.004060  \n",
       "3   0.009489   0.008370     0.005032  0.001769     0.006438   0.005286  \n",
       "4  -0.012261   0.011658     0.008836  0.012551     0.010787   0.007623  \n",
       "5   0.006838  -0.016865     0.000180  0.003618    -0.000204   0.003600  \n",
       "6   0.006557   0.001316    -0.008334 -0.000193     0.000054  -0.000546  \n",
       "7   0.015017   0.009083     0.003365 -0.014415     0.007923   0.003764  \n",
       "8   0.004950  -0.001529    -0.000951  0.002578    -0.002756   0.001846  \n",
       "9   0.007106   0.004859    -0.000014  0.001643     0.003507   0.001321  "
      ]
     },
     "execution_count": 57,
     "metadata": {},
     "output_type": "execute_result"
    }
   ],
   "source": [
    "pop_prop_buste_baseline_error_dist"
   ]
  },
  {
   "cell_type": "code",
   "execution_count": 58,
   "metadata": {
    "scrolled": false
   },
   "outputs": [
    {
     "name": "stderr",
     "output_type": "stream",
     "text": [
      "/home/tarciso/anaconda2/envs/py37/lib/python3.7/site-packages/scipy/stats/stats.py:1713: FutureWarning: Using a non-tuple sequence for multidimensional indexing is deprecated; use `arr[tuple(seq)]` instead of `arr[seq]`. In the future this will be interpreted as an array index, `arr[np.array(seq)]`, which will result either in an error or a different result.\n",
      "  return np.add.reduce(sorted[indexer] * weights, axis=axis) / sumval\n"
     ]
    },
    {
     "data": {
      "text/plain": [
       "<matplotlib.axes._subplots.AxesSubplot at 0x7fcfc273aa20>"
      ]
     },
     "execution_count": 58,
     "metadata": {},
     "output_type": "execute_result"
    },
    {
     "data": {
      "image/png": "[encoded data removed]",
      "text/plain": [
       "<Figure size 432x288 with 1 Axes>"
      ]
     },
     "metadata": {
      "needs_background": "light"
     },
     "output_type": "display_data"
    }
   ],
   "source": [
    "sns.violinplot(pop_prop_buste_baseline_survey_macrozones)"
   ]
  },
  {
   "cell_type": "markdown",
   "metadata": {},
   "source": [
    "#### Origin Proportion BUSTE Baseline - Survey "
   ]
  },
  {
   "cell_type": "code",
   "execution_count": 59,
   "metadata": {},
   "outputs": [],
   "source": [
    "origin_prop_buste_baseline_survey_macrozones = origin_prop_buste_baseline_macrozones - survey_macrozones"
   ]
  },
  {
   "cell_type": "code",
   "execution_count": 60,
   "metadata": {
    "scrolled": true
   },
   "outputs": [
    {
     "data": {
      "text/html": [
       "<div>\n",
       "<style scoped>\n",
       "    .dataframe tbody tr th:only-of-type {\n",
       "        vertical-align: middle;\n",
       "    }\n",
       "\n",
       "    .dataframe tbody tr th {\n",
       "        vertical-align: top;\n",
       "    }\n",
       "\n",
       "    .dataframe thead th {\n",
       "        text-align: right;\n",
       "    }\n",
       "</style>\n",
       "<table border=\"1\" class=\"dataframe\">\n",
       "  <thead>\n",
       "    <tr style=\"text-align: right;\">\n",
       "      <th></th>\n",
       "      <th>Matriz</th>\n",
       "      <th>Portão</th>\n",
       "      <th>Cajuru</th>\n",
       "      <th>Santa Felicidade</th>\n",
       "      <th>Boa Vista</th>\n",
       "      <th>Boqueirão</th>\n",
       "      <th>Pinheirinho</th>\n",
       "      <th>CIC</th>\n",
       "      <th>Bairro Novo</th>\n",
       "      <th>Tatuquara</th>\n",
       "    </tr>\n",
       "    <tr>\n",
       "      <th>name_macrozone</th>\n",
       "      <th></th>\n",
       "      <th></th>\n",
       "      <th></th>\n",
       "      <th></th>\n",
       "      <th></th>\n",
       "      <th></th>\n",
       "      <th></th>\n",
       "      <th></th>\n",
       "      <th></th>\n",
       "      <th></th>\n",
       "    </tr>\n",
       "  </thead>\n",
       "  <tbody>\n",
       "    <tr>\n",
       "      <th>Matriz</th>\n",
       "      <td>-0.000776</td>\n",
       "      <td>-0.009273</td>\n",
       "      <td>-0.013252</td>\n",
       "      <td>-0.009929</td>\n",
       "      <td>-0.022597</td>\n",
       "      <td>-0.001556</td>\n",
       "      <td>-0.008174</td>\n",
       "      <td>0.006425</td>\n",
       "      <td>-0.000916</td>\n",
       "      <td>0.007675</td>\n",
       "    </tr>\n",
       "    <tr>\n",
       "      <th>Portão</th>\n",
       "      <td>-0.009466</td>\n",
       "      <td>-0.006393</td>\n",
       "      <td>0.001851</td>\n",
       "      <td>0.001364</td>\n",
       "      <td>0.003696</td>\n",
       "      <td>-0.000606</td>\n",
       "      <td>-0.005853</td>\n",
       "      <td>-0.004553</td>\n",
       "      <td>-0.003063</td>\n",
       "      <td>0.000713</td>\n",
       "    </tr>\n",
       "    <tr>\n",
       "      <th>Cajuru</th>\n",
       "      <td>-0.013348</td>\n",
       "      <td>0.001658</td>\n",
       "      <td>-0.007251</td>\n",
       "      <td>0.004608</td>\n",
       "      <td>0.006472</td>\n",
       "      <td>0.001015</td>\n",
       "      <td>0.003565</td>\n",
       "      <td>0.006969</td>\n",
       "      <td>0.002300</td>\n",
       "      <td>0.003523</td>\n",
       "    </tr>\n",
       "    <tr>\n",
       "      <th>Santa Felicidade</th>\n",
       "      <td>-0.009737</td>\n",
       "      <td>0.001460</td>\n",
       "      <td>0.004512</td>\n",
       "      <td>-0.017755</td>\n",
       "      <td>0.008926</td>\n",
       "      <td>0.004979</td>\n",
       "      <td>0.003291</td>\n",
       "      <td>0.003426</td>\n",
       "      <td>0.002636</td>\n",
       "      <td>0.004631</td>\n",
       "    </tr>\n",
       "    <tr>\n",
       "      <th>Boa Vista</th>\n",
       "      <td>-0.021636</td>\n",
       "      <td>0.003408</td>\n",
       "      <td>0.006087</td>\n",
       "      <td>0.008542</td>\n",
       "      <td>-0.013052</td>\n",
       "      <td>0.006893</td>\n",
       "      <td>0.006389</td>\n",
       "      <td>0.014879</td>\n",
       "      <td>0.005445</td>\n",
       "      <td>0.006703</td>\n",
       "    </tr>\n",
       "    <tr>\n",
       "      <th>Boqueirão</th>\n",
       "      <td>-0.002133</td>\n",
       "      <td>-0.000895</td>\n",
       "      <td>0.000823</td>\n",
       "      <td>0.004979</td>\n",
       "      <td>0.006412</td>\n",
       "      <td>-0.019434</td>\n",
       "      <td>-0.001140</td>\n",
       "      <td>0.004873</td>\n",
       "      <td>-0.003085</td>\n",
       "      <td>0.003104</td>\n",
       "    </tr>\n",
       "    <tr>\n",
       "      <th>Pinheirinho</th>\n",
       "      <td>-0.009040</td>\n",
       "      <td>-0.006238</td>\n",
       "      <td>0.003661</td>\n",
       "      <td>0.003291</td>\n",
       "      <td>0.006197</td>\n",
       "      <td>-0.000851</td>\n",
       "      <td>-0.009446</td>\n",
       "      <td>0.000866</td>\n",
       "      <td>-0.002375</td>\n",
       "      <td>-0.000964</td>\n",
       "    </tr>\n",
       "    <tr>\n",
       "      <th>CIC</th>\n",
       "      <td>0.006328</td>\n",
       "      <td>-0.004649</td>\n",
       "      <td>0.006777</td>\n",
       "      <td>0.003811</td>\n",
       "      <td>0.014302</td>\n",
       "      <td>0.004777</td>\n",
       "      <td>0.001155</td>\n",
       "      <td>-0.012311</td>\n",
       "      <td>0.003096</td>\n",
       "      <td>0.002933</td>\n",
       "    </tr>\n",
       "    <tr>\n",
       "      <th>Bairro Novo</th>\n",
       "      <td>-0.001589</td>\n",
       "      <td>-0.003159</td>\n",
       "      <td>0.002396</td>\n",
       "      <td>0.002444</td>\n",
       "      <td>0.004676</td>\n",
       "      <td>-0.003181</td>\n",
       "      <td>-0.001798</td>\n",
       "      <td>0.003385</td>\n",
       "      <td>-0.004608</td>\n",
       "      <td>0.001527</td>\n",
       "    </tr>\n",
       "    <tr>\n",
       "      <th>Tatuquara</th>\n",
       "      <td>0.007483</td>\n",
       "      <td>0.000809</td>\n",
       "      <td>0.003523</td>\n",
       "      <td>0.004631</td>\n",
       "      <td>0.006799</td>\n",
       "      <td>0.003008</td>\n",
       "      <td>-0.000964</td>\n",
       "      <td>0.002548</td>\n",
       "      <td>0.001431</td>\n",
       "      <td>0.000964</td>\n",
       "    </tr>\n",
       "  </tbody>\n",
       "</table>\n",
       "</div>"
      ],
      "text/plain": [
       "                    Matriz    Portão    Cajuru  Santa Felicidade  Boa Vista  \\\n",
       "name_macrozone                                                                \n",
       "Matriz           -0.000776 -0.009273 -0.013252         -0.009929  -0.022597   \n",
       "Portão           -0.009466 -0.006393  0.001851          0.001364   0.003696   \n",
       "Cajuru           -0.013348  0.001658 -0.007251          0.004608   0.006472   \n",
       "Santa Felicidade -0.009737  0.001460  0.004512         -0.017755   0.008926   \n",
       "Boa Vista        -0.021636  0.003408  0.006087          0.008542  -0.013052   \n",
       "Boqueirão        -0.002133 -0.000895  0.000823          0.004979   0.006412   \n",
       "Pinheirinho      -0.009040 -0.006238  0.003661          0.003291   0.006197   \n",
       "CIC               0.006328 -0.004649  0.006777          0.003811   0.014302   \n",
       "Bairro Novo      -0.001589 -0.003159  0.002396          0.002444   0.004676   \n",
       "Tatuquara         0.007483  0.000809  0.003523          0.004631   0.006799   \n",
       "\n",
       "                  Boqueirão  Pinheirinho       CIC  Bairro Novo  Tatuquara  \n",
       "name_macrozone                                                              \n",
       "Matriz            -0.001556    -0.008174  0.006425    -0.000916   0.007675  \n",
       "Portão            -0.000606    -0.005853 -0.004553    -0.003063   0.000713  \n",
       "Cajuru             0.001015     0.003565  0.006969     0.002300   0.003523  \n",
       "Santa Felicidade   0.004979     0.003291  0.003426     0.002636   0.004631  \n",
       "Boa Vista          0.006893     0.006389  0.014879     0.005445   0.006703  \n",
       "Boqueirão         -0.019434    -0.001140  0.004873    -0.003085   0.003104  \n",
       "Pinheirinho       -0.000851    -0.009446  0.000866    -0.002375  -0.000964  \n",
       "CIC                0.004777     0.001155 -0.012311     0.003096   0.002933  \n",
       "Bairro Novo       -0.003181    -0.001798  0.003385    -0.004608   0.001527  \n",
       "Tatuquara          0.003008    -0.000964  0.002548     0.001431   0.000964  "
      ]
     },
     "execution_count": 60,
     "metadata": {},
     "output_type": "execute_result"
    }
   ],
   "source": [
    "origin_prop_buste_baseline_survey_macrozones"
   ]
  },
  {
   "cell_type": "code",
   "execution_count": 61,
   "metadata": {},
   "outputs": [
    {
     "name": "stdout",
     "output_type": "stream",
     "text": [
      "-0.022597481512928196 0.014879227121836907\n"
     ]
    }
   ],
   "source": [
    "print(np.min(origin_prop_buste_baseline_survey_macrozones.values),np.max(origin_prop_buste_baseline_survey_macrozones.values))"
   ]
  },
  {
   "cell_type": "code",
   "execution_count": 62,
   "metadata": {},
   "outputs": [],
   "source": [
    "origin_prop_buste_baseline_survey_macrozones_error = np.abs(origin_prop_buste_baseline_survey_macrozones.values).mean()"
   ]
  },
  {
   "cell_type": "code",
   "execution_count": 63,
   "metadata": {},
   "outputs": [
    {
     "data": {
      "text/plain": [
       "0.0053409499773622755"
      ]
     },
     "execution_count": 63,
     "metadata": {},
     "output_type": "execute_result"
    }
   ],
   "source": [
    "origin_prop_buste_baseline_survey_macrozones_error"
   ]
  },
  {
   "cell_type": "code",
   "execution_count": 64,
   "metadata": {
    "scrolled": false
   },
   "outputs": [
    {
     "data": {
      "image/png": "[encoded data removed]",
      "text/plain": [
       "<Figure size 432x288 with 2 Axes>"
      ]
     },
     "metadata": {
      "needs_background": "light"
     },
     "output_type": "display_data"
    }
   ],
   "source": [
    "origin_prop_buste_baseline_survey_macrozones_heatmap = build_heatmap_from_od_matrix(origin_prop_buste_baseline_survey_macrozones,\n",
    "                                                                                 color_map=div_scale_cmap,\n",
    "                                                                                 center_val=0.0,min_val=-0.06,max_val=0.06,\n",
    "                                                                                 color_label='Proportion Error (in %)')"
   ]
  },
  {
   "cell_type": "code",
   "execution_count": 65,
   "metadata": {},
   "outputs": [],
   "source": [
    "origin_prop_buste_baseline_survey_macrozones_heatmap.get_figure().savefig('/local/tarciso/data/od-mat-validation/heatmaps/error-matrices/origin_prop_buste_baseline_survey_macrozones_heatmap.png', bbox_inches='tight')"
   ]
  },
  {
   "cell_type": "markdown",
   "metadata": {},
   "source": [
    "### Error Distribution"
   ]
  },
  {
   "cell_type": "code",
   "execution_count": 66,
   "metadata": {},
   "outputs": [],
   "source": [
    "origin_prop_buste_baseline_error_dist = pd.DataFrame(origin_prop_buste_baseline_survey_macrozones.to_records())"
   ]
  },
  {
   "cell_type": "code",
   "execution_count": 67,
   "metadata": {},
   "outputs": [
    {
     "data": {
      "text/html": [
       "<div>\n",
       "<style scoped>\n",
       "    .dataframe tbody tr th:only-of-type {\n",
       "        vertical-align: middle;\n",
       "    }\n",
       "\n",
       "    .dataframe tbody tr th {\n",
       "        vertical-align: top;\n",
       "    }\n",
       "\n",
       "    .dataframe thead th {\n",
       "        text-align: right;\n",
       "    }\n",
       "</style>\n",
       "<table border=\"1\" class=\"dataframe\">\n",
       "  <thead>\n",
       "    <tr style=\"text-align: right;\">\n",
       "      <th></th>\n",
       "      <th>name_macrozone</th>\n",
       "      <th>Matriz</th>\n",
       "      <th>Portão</th>\n",
       "      <th>Cajuru</th>\n",
       "      <th>Santa Felicidade</th>\n",
       "      <th>Boa Vista</th>\n",
       "      <th>Boqueirão</th>\n",
       "      <th>Pinheirinho</th>\n",
       "      <th>CIC</th>\n",
       "      <th>Bairro Novo</th>\n",
       "      <th>Tatuquara</th>\n",
       "    </tr>\n",
       "  </thead>\n",
       "  <tbody>\n",
       "    <tr>\n",
       "      <th>0</th>\n",
       "      <td>Matriz</td>\n",
       "      <td>-0.000776</td>\n",
       "      <td>-0.009273</td>\n",
       "      <td>-0.013252</td>\n",
       "      <td>-0.009929</td>\n",
       "      <td>-0.022597</td>\n",
       "      <td>-0.001556</td>\n",
       "      <td>-0.008174</td>\n",
       "      <td>0.006425</td>\n",
       "      <td>-0.000916</td>\n",
       "      <td>0.007675</td>\n",
       "    </tr>\n",
       "    <tr>\n",
       "      <th>1</th>\n",
       "      <td>Portão</td>\n",
       "      <td>-0.009466</td>\n",
       "      <td>-0.006393</td>\n",
       "      <td>0.001851</td>\n",
       "      <td>0.001364</td>\n",
       "      <td>0.003696</td>\n",
       "      <td>-0.000606</td>\n",
       "      <td>-0.005853</td>\n",
       "      <td>-0.004553</td>\n",
       "      <td>-0.003063</td>\n",
       "      <td>0.000713</td>\n",
       "    </tr>\n",
       "    <tr>\n",
       "      <th>2</th>\n",
       "      <td>Cajuru</td>\n",
       "      <td>-0.013348</td>\n",
       "      <td>0.001658</td>\n",
       "      <td>-0.007251</td>\n",
       "      <td>0.004608</td>\n",
       "      <td>0.006472</td>\n",
       "      <td>0.001015</td>\n",
       "      <td>0.003565</td>\n",
       "      <td>0.006969</td>\n",
       "      <td>0.002300</td>\n",
       "      <td>0.003523</td>\n",
       "    </tr>\n",
       "    <tr>\n",
       "      <th>3</th>\n",
       "      <td>Santa Felicidade</td>\n",
       "      <td>-0.009737</td>\n",
       "      <td>0.001460</td>\n",
       "      <td>0.004512</td>\n",
       "      <td>-0.017755</td>\n",
       "      <td>0.008926</td>\n",
       "      <td>0.004979</td>\n",
       "      <td>0.003291</td>\n",
       "      <td>0.003426</td>\n",
       "      <td>0.002636</td>\n",
       "      <td>0.004631</td>\n",
       "    </tr>\n",
       "    <tr>\n",
       "      <th>4</th>\n",
       "      <td>Boa Vista</td>\n",
       "      <td>-0.021636</td>\n",
       "      <td>0.003408</td>\n",
       "      <td>0.006087</td>\n",
       "      <td>0.008542</td>\n",
       "      <td>-0.013052</td>\n",
       "      <td>0.006893</td>\n",
       "      <td>0.006389</td>\n",
       "      <td>0.014879</td>\n",
       "      <td>0.005445</td>\n",
       "      <td>0.006703</td>\n",
       "    </tr>\n",
       "    <tr>\n",
       "      <th>5</th>\n",
       "      <td>Boqueirão</td>\n",
       "      <td>-0.002133</td>\n",
       "      <td>-0.000895</td>\n",
       "      <td>0.000823</td>\n",
       "      <td>0.004979</td>\n",
       "      <td>0.006412</td>\n",
       "      <td>-0.019434</td>\n",
       "      <td>-0.001140</td>\n",
       "      <td>0.004873</td>\n",
       "      <td>-0.003085</td>\n",
       "      <td>0.003104</td>\n",
       "    </tr>\n",
       "    <tr>\n",
       "      <th>6</th>\n",
       "      <td>Pinheirinho</td>\n",
       "      <td>-0.009040</td>\n",
       "      <td>-0.006238</td>\n",
       "      <td>0.003661</td>\n",
       "      <td>0.003291</td>\n",
       "      <td>0.006197</td>\n",
       "      <td>-0.000851</td>\n",
       "      <td>-0.009446</td>\n",
       "      <td>0.000866</td>\n",
       "      <td>-0.002375</td>\n",
       "      <td>-0.000964</td>\n",
       "    </tr>\n",
       "    <tr>\n",
       "      <th>7</th>\n",
       "      <td>CIC</td>\n",
       "      <td>0.006328</td>\n",
       "      <td>-0.004649</td>\n",
       "      <td>0.006777</td>\n",
       "      <td>0.003811</td>\n",
       "      <td>0.014302</td>\n",
       "      <td>0.004777</td>\n",
       "      <td>0.001155</td>\n",
       "      <td>-0.012311</td>\n",
       "      <td>0.003096</td>\n",
       "      <td>0.002933</td>\n",
       "    </tr>\n",
       "    <tr>\n",
       "      <th>8</th>\n",
       "      <td>Bairro Novo</td>\n",
       "      <td>-0.001589</td>\n",
       "      <td>-0.003159</td>\n",
       "      <td>0.002396</td>\n",
       "      <td>0.002444</td>\n",
       "      <td>0.004676</td>\n",
       "      <td>-0.003181</td>\n",
       "      <td>-0.001798</td>\n",
       "      <td>0.003385</td>\n",
       "      <td>-0.004608</td>\n",
       "      <td>0.001527</td>\n",
       "    </tr>\n",
       "    <tr>\n",
       "      <th>9</th>\n",
       "      <td>Tatuquara</td>\n",
       "      <td>0.007483</td>\n",
       "      <td>0.000809</td>\n",
       "      <td>0.003523</td>\n",
       "      <td>0.004631</td>\n",
       "      <td>0.006799</td>\n",
       "      <td>0.003008</td>\n",
       "      <td>-0.000964</td>\n",
       "      <td>0.002548</td>\n",
       "      <td>0.001431</td>\n",
       "      <td>0.000964</td>\n",
       "    </tr>\n",
       "  </tbody>\n",
       "</table>\n",
       "</div>"
      ],
      "text/plain": [
       "     name_macrozone    Matriz    Portão    Cajuru  Santa Felicidade  \\\n",
       "0            Matriz -0.000776 -0.009273 -0.013252         -0.009929   \n",
       "1            Portão -0.009466 -0.006393  0.001851          0.001364   \n",
       "2            Cajuru -0.013348  0.001658 -0.007251          0.004608   \n",
       "3  Santa Felicidade -0.009737  0.001460  0.004512         -0.017755   \n",
       "4         Boa Vista -0.021636  0.003408  0.006087          0.008542   \n",
       "5         Boqueirão -0.002133 -0.000895  0.000823          0.004979   \n",
       "6       Pinheirinho -0.009040 -0.006238  0.003661          0.003291   \n",
       "7               CIC  0.006328 -0.004649  0.006777          0.003811   \n",
       "8       Bairro Novo -0.001589 -0.003159  0.002396          0.002444   \n",
       "9         Tatuquara  0.007483  0.000809  0.003523          0.004631   \n",
       "\n",
       "   Boa Vista  Boqueirão  Pinheirinho       CIC  Bairro Novo  Tatuquara  \n",
       "0  -0.022597  -0.001556    -0.008174  0.006425    -0.000916   0.007675  \n",
       "1   0.003696  -0.000606    -0.005853 -0.004553    -0.003063   0.000713  \n",
       "2   0.006472   0.001015     0.003565  0.006969     0.002300   0.003523  \n",
       "3   0.008926   0.004979     0.003291  0.003426     0.002636   0.004631  \n",
       "4  -0.013052   0.006893     0.006389  0.014879     0.005445   0.006703  \n",
       "5   0.006412  -0.019434    -0.001140  0.004873    -0.003085   0.003104  \n",
       "6   0.006197  -0.000851    -0.009446  0.000866    -0.002375  -0.000964  \n",
       "7   0.014302   0.004777     0.001155 -0.012311     0.003096   0.002933  \n",
       "8   0.004676  -0.003181    -0.001798  0.003385    -0.004608   0.001527  \n",
       "9   0.006799   0.003008    -0.000964  0.002548     0.001431   0.000964  "
      ]
     },
     "execution_count": 67,
     "metadata": {},
     "output_type": "execute_result"
    }
   ],
   "source": [
    "origin_prop_buste_baseline_error_dist"
   ]
  },
  {
   "cell_type": "code",
   "execution_count": 68,
   "metadata": {
    "scrolled": true
   },
   "outputs": [
    {
     "name": "stderr",
     "output_type": "stream",
     "text": [
      "/home/tarciso/anaconda2/envs/py37/lib/python3.7/site-packages/scipy/stats/stats.py:1713: FutureWarning: Using a non-tuple sequence for multidimensional indexing is deprecated; use `arr[tuple(seq)]` instead of `arr[seq]`. In the future this will be interpreted as an array index, `arr[np.array(seq)]`, which will result either in an error or a different result.\n",
      "  return np.add.reduce(sorted[indexer] * weights, axis=axis) / sumval\n"
     ]
    },
    {
     "data": {
      "text/plain": [
       "<matplotlib.axes._subplots.AxesSubplot at 0x7fcfc263bf98>"
      ]
     },
     "execution_count": 68,
     "metadata": {},
     "output_type": "execute_result"
    },
    {
     "data": {
      "image/png": "[encoded data removed]",
      "text/plain": [
       "<Figure size 432x288 with 1 Axes>"
      ]
     },
     "metadata": {
      "needs_background": "light"
     },
     "output_type": "display_data"
    }
   ],
   "source": [
    "sns.violinplot(origin_prop_buste_baseline_survey_macrozones)"
   ]
  },
  {
   "cell_type": "markdown",
   "metadata": {},
   "source": [
    "#### All Est. Trips - Survey "
   ]
  },
  {
   "cell_type": "code",
   "execution_count": 69,
   "metadata": {},
   "outputs": [],
   "source": [
    "all_est_survey_macrozones = all_est_trips_macrozones - survey_macrozones"
   ]
  },
  {
   "cell_type": "code",
   "execution_count": 70,
   "metadata": {},
   "outputs": [
    {
     "data": {
      "text/html": [
       "<div>\n",
       "<style scoped>\n",
       "    .dataframe tbody tr th:only-of-type {\n",
       "        vertical-align: middle;\n",
       "    }\n",
       "\n",
       "    .dataframe tbody tr th {\n",
       "        vertical-align: top;\n",
       "    }\n",
       "\n",
       "    .dataframe thead th {\n",
       "        text-align: right;\n",
       "    }\n",
       "</style>\n",
       "<table border=\"1\" class=\"dataframe\">\n",
       "  <thead>\n",
       "    <tr style=\"text-align: right;\">\n",
       "      <th></th>\n",
       "      <th>Matriz</th>\n",
       "      <th>Portão</th>\n",
       "      <th>Cajuru</th>\n",
       "      <th>Santa Felicidade</th>\n",
       "      <th>Boa Vista</th>\n",
       "      <th>Boqueirão</th>\n",
       "      <th>Pinheirinho</th>\n",
       "      <th>CIC</th>\n",
       "      <th>Bairro Novo</th>\n",
       "      <th>Tatuquara</th>\n",
       "    </tr>\n",
       "    <tr>\n",
       "      <th>name_macrozone</th>\n",
       "      <th></th>\n",
       "      <th></th>\n",
       "      <th></th>\n",
       "      <th></th>\n",
       "      <th></th>\n",
       "      <th></th>\n",
       "      <th></th>\n",
       "      <th></th>\n",
       "      <th></th>\n",
       "      <th></th>\n",
       "    </tr>\n",
       "  </thead>\n",
       "  <tbody>\n",
       "    <tr>\n",
       "      <th>Matriz</th>\n",
       "      <td>0.009632</td>\n",
       "      <td>0.005878</td>\n",
       "      <td>0.001500</td>\n",
       "      <td>-0.015189</td>\n",
       "      <td>-0.021099</td>\n",
       "      <td>0.019921</td>\n",
       "      <td>-0.009919</td>\n",
       "      <td>-0.009619</td>\n",
       "      <td>-0.002259</td>\n",
       "      <td>-0.002442</td>\n",
       "    </tr>\n",
       "    <tr>\n",
       "      <th>Portão</th>\n",
       "      <td>0.007499</td>\n",
       "      <td>0.006078</td>\n",
       "      <td>0.002342</td>\n",
       "      <td>0.000187</td>\n",
       "      <td>-0.002167</td>\n",
       "      <td>0.006642</td>\n",
       "      <td>0.003635</td>\n",
       "      <td>0.002060</td>\n",
       "      <td>0.000983</td>\n",
       "      <td>0.001816</td>\n",
       "    </tr>\n",
       "    <tr>\n",
       "      <th>Cajuru</th>\n",
       "      <td>0.014811</td>\n",
       "      <td>0.001878</td>\n",
       "      <td>0.000148</td>\n",
       "      <td>-0.000481</td>\n",
       "      <td>0.000362</td>\n",
       "      <td>0.003925</td>\n",
       "      <td>0.001896</td>\n",
       "      <td>-0.000202</td>\n",
       "      <td>0.000073</td>\n",
       "      <td>-0.000152</td>\n",
       "    </tr>\n",
       "    <tr>\n",
       "      <th>Santa Felicidade</th>\n",
       "      <td>-0.003743</td>\n",
       "      <td>-0.000960</td>\n",
       "      <td>-0.001962</td>\n",
       "      <td>-0.015590</td>\n",
       "      <td>-0.001499</td>\n",
       "      <td>-0.001150</td>\n",
       "      <td>-0.001175</td>\n",
       "      <td>-0.003499</td>\n",
       "      <td>-0.001469</td>\n",
       "      <td>-0.000111</td>\n",
       "    </tr>\n",
       "    <tr>\n",
       "      <th>Boa Vista</th>\n",
       "      <td>-0.009319</td>\n",
       "      <td>-0.002418</td>\n",
       "      <td>-0.000206</td>\n",
       "      <td>-0.000985</td>\n",
       "      <td>-0.015255</td>\n",
       "      <td>-0.001083</td>\n",
       "      <td>-0.000691</td>\n",
       "      <td>-0.000317</td>\n",
       "      <td>-0.000548</td>\n",
       "      <td>-0.000267</td>\n",
       "    </tr>\n",
       "    <tr>\n",
       "      <th>Boqueirão</th>\n",
       "      <td>0.026965</td>\n",
       "      <td>0.004548</td>\n",
       "      <td>0.003594</td>\n",
       "      <td>-0.000276</td>\n",
       "      <td>-0.001074</td>\n",
       "      <td>-0.001994</td>\n",
       "      <td>0.002584</td>\n",
       "      <td>0.000164</td>\n",
       "      <td>0.000454</td>\n",
       "      <td>0.001188</td>\n",
       "    </tr>\n",
       "    <tr>\n",
       "      <th>Pinheirinho</th>\n",
       "      <td>-0.000922</td>\n",
       "      <td>0.001914</td>\n",
       "      <td>0.001933</td>\n",
       "      <td>-0.000262</td>\n",
       "      <td>-0.000896</td>\n",
       "      <td>0.003033</td>\n",
       "      <td>-0.003770</td>\n",
       "      <td>0.001097</td>\n",
       "      <td>0.000253</td>\n",
       "      <td>0.001093</td>\n",
       "    </tr>\n",
       "    <tr>\n",
       "      <th>CIC</th>\n",
       "      <td>0.001494</td>\n",
       "      <td>0.001909</td>\n",
       "      <td>-0.001114</td>\n",
       "      <td>-0.002437</td>\n",
       "      <td>-0.001155</td>\n",
       "      <td>-0.000551</td>\n",
       "      <td>0.000416</td>\n",
       "      <td>-0.012324</td>\n",
       "      <td>-0.000195</td>\n",
       "      <td>0.000042</td>\n",
       "    </tr>\n",
       "    <tr>\n",
       "      <th>Bairro Novo</th>\n",
       "      <td>0.007846</td>\n",
       "      <td>0.001429</td>\n",
       "      <td>0.000136</td>\n",
       "      <td>-0.001106</td>\n",
       "      <td>-0.001134</td>\n",
       "      <td>0.000567</td>\n",
       "      <td>0.001332</td>\n",
       "      <td>0.000336</td>\n",
       "      <td>-0.002771</td>\n",
       "      <td>-0.000106</td>\n",
       "    </tr>\n",
       "    <tr>\n",
       "      <th>Tatuquara</th>\n",
       "      <td>0.000752</td>\n",
       "      <td>0.001663</td>\n",
       "      <td>-0.000272</td>\n",
       "      <td>0.000179</td>\n",
       "      <td>-0.000123</td>\n",
       "      <td>0.000585</td>\n",
       "      <td>0.000349</td>\n",
       "      <td>-0.000266</td>\n",
       "      <td>-0.000261</td>\n",
       "      <td>-0.000329</td>\n",
       "    </tr>\n",
       "  </tbody>\n",
       "</table>\n",
       "</div>"
      ],
      "text/plain": [
       "                    Matriz    Portão    Cajuru  Santa Felicidade  Boa Vista  \\\n",
       "name_macrozone                                                                \n",
       "Matriz            0.009632  0.005878  0.001500         -0.015189  -0.021099   \n",
       "Portão            0.007499  0.006078  0.002342          0.000187  -0.002167   \n",
       "Cajuru            0.014811  0.001878  0.000148         -0.000481   0.000362   \n",
       "Santa Felicidade -0.003743 -0.000960 -0.001962         -0.015590  -0.001499   \n",
       "Boa Vista        -0.009319 -0.002418 -0.000206         -0.000985  -0.015255   \n",
       "Boqueirão         0.026965  0.004548  0.003594         -0.000276  -0.001074   \n",
       "Pinheirinho      -0.000922  0.001914  0.001933         -0.000262  -0.000896   \n",
       "CIC               0.001494  0.001909 -0.001114         -0.002437  -0.001155   \n",
       "Bairro Novo       0.007846  0.001429  0.000136         -0.001106  -0.001134   \n",
       "Tatuquara         0.000752  0.001663 -0.000272          0.000179  -0.000123   \n",
       "\n",
       "                  Boqueirão  Pinheirinho       CIC  Bairro Novo  Tatuquara  \n",
       "name_macrozone                                                              \n",
       "Matriz             0.019921    -0.009919 -0.009619    -0.002259  -0.002442  \n",
       "Portão             0.006642     0.003635  0.002060     0.000983   0.001816  \n",
       "Cajuru             0.003925     0.001896 -0.000202     0.000073  -0.000152  \n",
       "Santa Felicidade  -0.001150    -0.001175 -0.003499    -0.001469  -0.000111  \n",
       "Boa Vista         -0.001083    -0.000691 -0.000317    -0.000548  -0.000267  \n",
       "Boqueirão         -0.001994     0.002584  0.000164     0.000454   0.001188  \n",
       "Pinheirinho        0.003033    -0.003770  0.001097     0.000253   0.001093  \n",
       "CIC               -0.000551     0.000416 -0.012324    -0.000195   0.000042  \n",
       "Bairro Novo        0.000567     0.001332  0.000336    -0.002771  -0.000106  \n",
       "Tatuquara          0.000585     0.000349 -0.000266    -0.000261  -0.000329  "
      ]
     },
     "execution_count": 70,
     "metadata": {},
     "output_type": "execute_result"
    }
   ],
   "source": [
    "all_est_survey_macrozones"
   ]
  },
  {
   "cell_type": "code",
   "execution_count": 71,
   "metadata": {
    "scrolled": true
   },
   "outputs": [
    {
     "name": "stdout",
     "output_type": "stream",
     "text": [
      "-0.02109870139030487 0.02696474107270487\n"
     ]
    }
   ],
   "source": [
    "print(np.min(all_est_survey_macrozones.values),np.max(all_est_survey_macrozones.values))"
   ]
  },
  {
   "cell_type": "code",
   "execution_count": 72,
   "metadata": {},
   "outputs": [],
   "source": [
    "all_est_survey_macrozones_error = np.abs(all_est_survey_macrozones.values).mean()"
   ]
  },
  {
   "cell_type": "code",
   "execution_count": 73,
   "metadata": {
    "scrolled": true
   },
   "outputs": [
    {
     "data": {
      "text/plain": [
       "0.0031823684406858525"
      ]
     },
     "execution_count": 73,
     "metadata": {},
     "output_type": "execute_result"
    }
   ],
   "source": [
    "all_est_survey_macrozones_error"
   ]
  },
  {
   "cell_type": "code",
   "execution_count": 74,
   "metadata": {
    "scrolled": false
   },
   "outputs": [
    {
     "data": {
      "image/png": "[encoded data removed]",
      "text/plain": [
       "<Figure size 432x288 with 2 Axes>"
      ]
     },
     "metadata": {
      "needs_background": "light"
     },
     "output_type": "display_data"
    }
   ],
   "source": [
    "all_est_survey_macrozones_heatmap = build_heatmap_from_od_matrix(all_est_survey_macrozones,\n",
    "                                                                                 color_map=div_scale_cmap,\n",
    "                                                                                 center_val=0.0,min_val=-0.06,max_val=0.06,\n",
    "                                                                                 color_label='Proportion Error (in %)')"
   ]
  },
  {
   "cell_type": "code",
   "execution_count": 75,
   "metadata": {},
   "outputs": [],
   "source": [
    "all_est_survey_macrozones_heatmap.get_figure().savefig('/local/tarciso/data/od-mat-validation/heatmaps/error-matrices/all_est_survey_macrozones_heatmap.png', bbox_inches='tight')"
   ]
  },
  {
   "cell_type": "code",
   "execution_count": 76,
   "metadata": {},
   "outputs": [
    {
     "name": "stderr",
     "output_type": "stream",
     "text": [
      "/home/tarciso/anaconda2/envs/py37/lib/python3.7/site-packages/scipy/stats/stats.py:1713: FutureWarning: Using a non-tuple sequence for multidimensional indexing is deprecated; use `arr[tuple(seq)]` instead of `arr[seq]`. In the future this will be interpreted as an array index, `arr[np.array(seq)]`, which will result either in an error or a different result.\n",
      "  return np.add.reduce(sorted[indexer] * weights, axis=axis) / sumval\n"
     ]
    },
    {
     "data": {
      "text/plain": [
       "<matplotlib.axes._subplots.AxesSubplot at 0x7fcfc270f978>"
      ]
     },
     "execution_count": 76,
     "metadata": {},
     "output_type": "execute_result"
    },
    {
     "data": {
      "image/png": "[encoded data removed]",
      "text/plain": [
       "<Figure size 432x288 with 1 Axes>"
      ]
     },
     "metadata": {
      "needs_background": "light"
     },
     "output_type": "display_data"
    }
   ],
   "source": [
    "sns.violinplot(all_est_survey_macrozones)"
   ]
  },
  {
   "cell_type": "code",
   "execution_count": 110,
   "metadata": {},
   "outputs": [],
   "source": [
    "error_values = np.concatenate([all_est_survey_macrozones[col].values for col in all_est_survey_macrozones.columns], axis=0 )\n",
    "#all_est_survey_macrozones.reset_index().hist()"
   ]
  },
  {
   "cell_type": "code",
   "execution_count": 111,
   "metadata": {},
   "outputs": [
    {
     "data": {
      "text/plain": [
       "array([ 9.63184928e-03,  7.49857574e-03,  1.48109770e-02, -3.74345825e-03,\n",
       "       -9.31938816e-03,  2.69647411e-02, -9.22084768e-04,  1.49360718e-03,\n",
       "        7.84567286e-03,  7.52386151e-04,  5.87778591e-03,  6.07831838e-03,\n",
       "        1.87822985e-03, -9.59985639e-04, -2.41797916e-03,  4.54813588e-03,\n",
       "        1.91423699e-03,  1.90855389e-03,  1.42887054e-03,  1.66291136e-03,\n",
       "        1.50046022e-03,  2.34228756e-03,  1.48035216e-04, -1.96222685e-03,\n",
       "       -2.06091598e-04,  3.59428665e-03,  1.93329008e-03, -1.11415966e-03,\n",
       "        1.35659924e-04, -2.72148948e-04, -1.51890549e-02,  1.86771388e-04,\n",
       "       -4.81302296e-04, -1.55904741e-02, -9.85193358e-04, -2.76368184e-04,\n",
       "       -2.61764567e-04, -2.43706912e-03, -1.10634445e-03,  1.78699591e-04,\n",
       "       -2.10987014e-02, -2.16691587e-03,  3.61602146e-04, -1.49876464e-03,\n",
       "       -1.52552151e-02, -1.07376671e-03, -8.96495072e-04, -1.15455261e-03,\n",
       "       -1.13400693e-03, -1.22670473e-04,  1.99209713e-02,  6.64187857e-03,\n",
       "        3.92530914e-03, -1.15037502e-03, -1.08263409e-03, -1.99406498e-03,\n",
       "        3.03288299e-03, -5.50534839e-04,  5.66575514e-04,  5.85024979e-04,\n",
       "       -9.91915035e-03,  3.63490268e-03,  1.89625376e-03, -1.17476991e-03,\n",
       "       -6.91274219e-04,  2.58399663e-03, -3.77028207e-03,  4.16406758e-04,\n",
       "        1.33183335e-03,  3.48632323e-04, -9.61946960e-03,  2.06038421e-03,\n",
       "       -2.01933636e-04, -3.49916328e-03, -3.16850172e-04,  1.63943273e-04,\n",
       "        1.09690455e-03, -1.23241238e-02,  3.35567717e-04, -2.65505106e-04,\n",
       "       -2.25892577e-03,  9.83457612e-04,  7.28342634e-05, -1.46943247e-03,\n",
       "       -5.47743558e-04,  4.53907899e-04,  2.52906282e-04, -1.95089702e-04,\n",
       "       -2.77110596e-03, -2.61155187e-04, -2.44249659e-03,  1.81583550e-03,\n",
       "       -1.52008389e-04, -1.11273170e-04, -2.67267193e-04,  1.18753964e-03,\n",
       "        1.09274897e-03,  4.17792614e-05, -1.06179831e-04, -3.29430335e-04])"
      ]
     },
     "execution_count": 111,
     "metadata": {},
     "output_type": "execute_result"
    }
   ],
   "source": [
    "error_values"
   ]
  },
  {
   "cell_type": "code",
   "execution_count": 116,
   "metadata": {},
   "outputs": [
    {
     "data": {
      "text/plain": [
       "0.0031823684406858525"
      ]
     },
     "execution_count": 116,
     "metadata": {},
     "output_type": "execute_result"
    }
   ],
   "source": [
    "np.mean(np.abs(error_values))"
   ]
  },
  {
   "cell_type": "code",
   "execution_count": 113,
   "metadata": {},
   "outputs": [
    {
     "name": "stderr",
     "output_type": "stream",
     "text": [
      "/home/tarciso/anaconda2/envs/py37/lib/python3.7/site-packages/scipy/stats/stats.py:1713: FutureWarning: Using a non-tuple sequence for multidimensional indexing is deprecated; use `arr[tuple(seq)]` instead of `arr[seq]`. In the future this will be interpreted as an array index, `arr[np.array(seq)]`, which will result either in an error or a different result.\n",
      "  return np.add.reduce(sorted[indexer] * weights, axis=axis) / sumval\n"
     ]
    },
    {
     "data": {
      "text/plain": [
       "<matplotlib.axes._subplots.AxesSubplot at 0x7fcfc21fadd8>"
      ]
     },
     "execution_count": 113,
     "metadata": {},
     "output_type": "execute_result"
    },
    {
     "data": {
      "image/png": "[encoded data removed]",
      "text/plain": [
       "<Figure size 432x288 with 1 Axes>"
      ]
     },
     "metadata": {
      "needs_background": "light"
     },
     "output_type": "display_data"
    }
   ],
   "source": [
    "sns.distplot(error_values, hist=True, kde=False, rug=True)"
   ]
  },
  {
   "cell_type": "code",
   "execution_count": 153,
   "metadata": {},
   "outputs": [],
   "source": [
    "def mae(errors):\n",
    "    return np.mean(np.abs(errors))\n",
    "macrozones_mae = all_est_survey_macrozones.reset_index().drop('name_macrozone', axis=1).apply(lambda x: mae(x)).reset_index()\n",
    "macrozones_mae.columns = ['macrozone','MAE']\n",
    "\n",
    "#sns.barplot(all_est_survey_macrozones.reset_index().drop('name_macrozone', axis=1))"
   ]
  },
  {
   "cell_type": "code",
   "execution_count": 154,
   "metadata": {},
   "outputs": [
    {
     "data": {
      "text/html": [
       "<div>\n",
       "<style scoped>\n",
       "    .dataframe tbody tr th:only-of-type {\n",
       "        vertical-align: middle;\n",
       "    }\n",
       "\n",
       "    .dataframe tbody tr th {\n",
       "        vertical-align: top;\n",
       "    }\n",
       "\n",
       "    .dataframe thead th {\n",
       "        text-align: right;\n",
       "    }\n",
       "</style>\n",
       "<table border=\"1\" class=\"dataframe\">\n",
       "  <thead>\n",
       "    <tr style=\"text-align: right;\">\n",
       "      <th></th>\n",
       "      <th>macrozone</th>\n",
       "      <th>MAE</th>\n",
       "    </tr>\n",
       "  </thead>\n",
       "  <tbody>\n",
       "    <tr>\n",
       "      <th>0</th>\n",
       "      <td>Matriz</td>\n",
       "      <td>0.008298</td>\n",
       "    </tr>\n",
       "    <tr>\n",
       "      <th>1</th>\n",
       "      <td>Portão</td>\n",
       "      <td>0.002868</td>\n",
       "    </tr>\n",
       "    <tr>\n",
       "      <th>2</th>\n",
       "      <td>Cajuru</td>\n",
       "      <td>0.001321</td>\n",
       "    </tr>\n",
       "    <tr>\n",
       "      <th>3</th>\n",
       "      <td>Santa Felicidade</td>\n",
       "      <td>0.003669</td>\n",
       "    </tr>\n",
       "    <tr>\n",
       "      <th>4</th>\n",
       "      <td>Boa Vista</td>\n",
       "      <td>0.004476</td>\n",
       "    </tr>\n",
       "    <tr>\n",
       "      <th>5</th>\n",
       "      <td>Boqueirão</td>\n",
       "      <td>0.003945</td>\n",
       "    </tr>\n",
       "    <tr>\n",
       "      <th>6</th>\n",
       "      <td>Pinheirinho</td>\n",
       "      <td>0.002577</td>\n",
       "    </tr>\n",
       "    <tr>\n",
       "      <th>7</th>\n",
       "      <td>CIC</td>\n",
       "      <td>0.002988</td>\n",
       "    </tr>\n",
       "    <tr>\n",
       "      <th>8</th>\n",
       "      <td>Bairro Novo</td>\n",
       "      <td>0.000927</td>\n",
       "    </tr>\n",
       "    <tr>\n",
       "      <th>9</th>\n",
       "      <td>Tatuquara</td>\n",
       "      <td>0.000755</td>\n",
       "    </tr>\n",
       "  </tbody>\n",
       "</table>\n",
       "</div>"
      ],
      "text/plain": [
       "          macrozone       MAE\n",
       "0            Matriz  0.008298\n",
       "1            Portão  0.002868\n",
       "2            Cajuru  0.001321\n",
       "3  Santa Felicidade  0.003669\n",
       "4         Boa Vista  0.004476\n",
       "5         Boqueirão  0.003945\n",
       "6       Pinheirinho  0.002577\n",
       "7               CIC  0.002988\n",
       "8       Bairro Novo  0.000927\n",
       "9         Tatuquara  0.000755"
      ]
     },
     "execution_count": 154,
     "metadata": {},
     "output_type": "execute_result"
    }
   ],
   "source": [
    "macrozones_mae"
   ]
  },
  {
   "cell_type": "code",
   "execution_count": 155,
   "metadata": {},
   "outputs": [
    {
     "data": {
      "text/plain": [
       "[Text(0,0.5,'Macrozone'), Text(0.5,0,'MAE - Mean Absolute Error (in %)')]"
      ]
     },
     "execution_count": 155,
     "metadata": {},
     "output_type": "execute_result"
    },
    {
     "data": {
      "image/png": "[encoded data removed]",
      "text/plain": [
       "<Figure size 432x288 with 1 Axes>"
      ]
     },
     "metadata": {
      "needs_background": "light"
     },
     "output_type": "display_data"
    }
   ],
   "source": [
    "macrozones_mae_barplot = sns.barplot(x='MAE',y='macrozone', data=macrozones_mae)\n",
    "macrozones_mae_barplot.set(xlabel='MAE - Mean Absolute Error (in %)', ylabel='Macrozone')"
   ]
  },
  {
   "cell_type": "code",
   "execution_count": 139,
   "metadata": {},
   "outputs": [],
   "source": [
    "macrozones_mae_barplot.get_figure().savefig('/local/tarciso/data/od-mat-validation/heatmaps/error-matrices/all_est_survey_macrozones_heatmap.png', bbox_inches='tight')"
   ]
  },
  {
   "cell_type": "markdown",
   "metadata": {},
   "source": [
    "#### Weekday Est. Trips - Survey "
   ]
  },
  {
   "cell_type": "code",
   "execution_count": 78,
   "metadata": {},
   "outputs": [],
   "source": [
    "wday_est_survey_macrozones = wday_est_trips_macrozones - survey_macrozones"
   ]
  },
  {
   "cell_type": "code",
   "execution_count": 79,
   "metadata": {
    "scrolled": true
   },
   "outputs": [
    {
     "data": {
      "text/html": [
       "<div>\n",
       "<style scoped>\n",
       "    .dataframe tbody tr th:only-of-type {\n",
       "        vertical-align: middle;\n",
       "    }\n",
       "\n",
       "    .dataframe tbody tr th {\n",
       "        vertical-align: top;\n",
       "    }\n",
       "\n",
       "    .dataframe thead th {\n",
       "        text-align: right;\n",
       "    }\n",
       "</style>\n",
       "<table border=\"1\" class=\"dataframe\">\n",
       "  <thead>\n",
       "    <tr style=\"text-align: right;\">\n",
       "      <th></th>\n",
       "      <th>Matriz</th>\n",
       "      <th>Portão</th>\n",
       "      <th>Cajuru</th>\n",
       "      <th>Santa Felicidade</th>\n",
       "      <th>Boa Vista</th>\n",
       "      <th>Boqueirão</th>\n",
       "      <th>Pinheirinho</th>\n",
       "      <th>CIC</th>\n",
       "      <th>Bairro Novo</th>\n",
       "      <th>Tatuquara</th>\n",
       "    </tr>\n",
       "    <tr>\n",
       "      <th>name_macrozone</th>\n",
       "      <th></th>\n",
       "      <th></th>\n",
       "      <th></th>\n",
       "      <th></th>\n",
       "      <th></th>\n",
       "      <th></th>\n",
       "      <th></th>\n",
       "      <th></th>\n",
       "      <th></th>\n",
       "      <th></th>\n",
       "    </tr>\n",
       "  </thead>\n",
       "  <tbody>\n",
       "    <tr>\n",
       "      <th>Matriz</th>\n",
       "      <td>0.009516</td>\n",
       "      <td>0.006016</td>\n",
       "      <td>0.001645</td>\n",
       "      <td>-0.015108</td>\n",
       "      <td>-0.020948</td>\n",
       "      <td>0.018286</td>\n",
       "      <td>-0.009861</td>\n",
       "      <td>-0.009555</td>\n",
       "      <td>-0.002214</td>\n",
       "      <td>-0.002428</td>\n",
       "    </tr>\n",
       "    <tr>\n",
       "      <th>Portão</th>\n",
       "      <td>0.007437</td>\n",
       "      <td>0.006151</td>\n",
       "      <td>0.002368</td>\n",
       "      <td>0.000210</td>\n",
       "      <td>-0.002151</td>\n",
       "      <td>0.006693</td>\n",
       "      <td>0.003692</td>\n",
       "      <td>0.002124</td>\n",
       "      <td>0.001014</td>\n",
       "      <td>0.001836</td>\n",
       "    </tr>\n",
       "    <tr>\n",
       "      <th>Cajuru</th>\n",
       "      <td>0.015011</td>\n",
       "      <td>0.001903</td>\n",
       "      <td>0.000204</td>\n",
       "      <td>-0.000471</td>\n",
       "      <td>0.000381</td>\n",
       "      <td>0.003961</td>\n",
       "      <td>0.001910</td>\n",
       "      <td>-0.000191</td>\n",
       "      <td>0.000079</td>\n",
       "      <td>-0.000150</td>\n",
       "    </tr>\n",
       "    <tr>\n",
       "      <th>Santa Felicidade</th>\n",
       "      <td>-0.003616</td>\n",
       "      <td>-0.000941</td>\n",
       "      <td>-0.001957</td>\n",
       "      <td>-0.015543</td>\n",
       "      <td>-0.001488</td>\n",
       "      <td>-0.001146</td>\n",
       "      <td>-0.001169</td>\n",
       "      <td>-0.003479</td>\n",
       "      <td>-0.001468</td>\n",
       "      <td>-0.000110</td>\n",
       "    </tr>\n",
       "    <tr>\n",
       "      <th>Boa Vista</th>\n",
       "      <td>-0.009125</td>\n",
       "      <td>-0.002402</td>\n",
       "      <td>-0.000188</td>\n",
       "      <td>-0.000970</td>\n",
       "      <td>-0.015188</td>\n",
       "      <td>-0.001074</td>\n",
       "      <td>-0.000686</td>\n",
       "      <td>-0.000311</td>\n",
       "      <td>-0.000546</td>\n",
       "      <td>-0.000266</td>\n",
       "    </tr>\n",
       "    <tr>\n",
       "      <th>Boqueirão</th>\n",
       "      <td>0.026051</td>\n",
       "      <td>0.004494</td>\n",
       "      <td>0.003630</td>\n",
       "      <td>-0.000269</td>\n",
       "      <td>-0.001064</td>\n",
       "      <td>-0.002350</td>\n",
       "      <td>0.002618</td>\n",
       "      <td>0.000182</td>\n",
       "      <td>0.000483</td>\n",
       "      <td>0.001196</td>\n",
       "    </tr>\n",
       "    <tr>\n",
       "      <th>Pinheirinho</th>\n",
       "      <td>-0.000823</td>\n",
       "      <td>0.001966</td>\n",
       "      <td>0.001946</td>\n",
       "      <td>-0.000252</td>\n",
       "      <td>-0.000891</td>\n",
       "      <td>0.003067</td>\n",
       "      <td>-0.003731</td>\n",
       "      <td>0.001129</td>\n",
       "      <td>0.000276</td>\n",
       "      <td>0.001115</td>\n",
       "    </tr>\n",
       "    <tr>\n",
       "      <th>CIC</th>\n",
       "      <td>0.001604</td>\n",
       "      <td>0.001972</td>\n",
       "      <td>-0.001106</td>\n",
       "      <td>-0.002414</td>\n",
       "      <td>-0.001149</td>\n",
       "      <td>-0.000535</td>\n",
       "      <td>0.000445</td>\n",
       "      <td>-0.012262</td>\n",
       "      <td>-0.000185</td>\n",
       "      <td>0.000057</td>\n",
       "    </tr>\n",
       "    <tr>\n",
       "      <th>Bairro Novo</th>\n",
       "      <td>0.007934</td>\n",
       "      <td>0.001462</td>\n",
       "      <td>0.000142</td>\n",
       "      <td>-0.001102</td>\n",
       "      <td>-0.001132</td>\n",
       "      <td>0.000596</td>\n",
       "      <td>0.001357</td>\n",
       "      <td>0.000347</td>\n",
       "      <td>-0.002762</td>\n",
       "      <td>-0.000103</td>\n",
       "    </tr>\n",
       "    <tr>\n",
       "      <th>Tatuquara</th>\n",
       "      <td>0.000781</td>\n",
       "      <td>0.001682</td>\n",
       "      <td>-0.000271</td>\n",
       "      <td>0.000181</td>\n",
       "      <td>-0.000122</td>\n",
       "      <td>0.000591</td>\n",
       "      <td>0.000367</td>\n",
       "      <td>-0.000250</td>\n",
       "      <td>-0.000258</td>\n",
       "      <td>-0.000323</td>\n",
       "    </tr>\n",
       "  </tbody>\n",
       "</table>\n",
       "</div>"
      ],
      "text/plain": [
       "                    Matriz    Portão    Cajuru  Santa Felicidade  Boa Vista  \\\n",
       "name_macrozone                                                                \n",
       "Matriz            0.009516  0.006016  0.001645         -0.015108  -0.020948   \n",
       "Portão            0.007437  0.006151  0.002368          0.000210  -0.002151   \n",
       "Cajuru            0.015011  0.001903  0.000204         -0.000471   0.000381   \n",
       "Santa Felicidade -0.003616 -0.000941 -0.001957         -0.015543  -0.001488   \n",
       "Boa Vista        -0.009125 -0.002402 -0.000188         -0.000970  -0.015188   \n",
       "Boqueirão         0.026051  0.004494  0.003630         -0.000269  -0.001064   \n",
       "Pinheirinho      -0.000823  0.001966  0.001946         -0.000252  -0.000891   \n",
       "CIC               0.001604  0.001972 -0.001106         -0.002414  -0.001149   \n",
       "Bairro Novo       0.007934  0.001462  0.000142         -0.001102  -0.001132   \n",
       "Tatuquara         0.000781  0.001682 -0.000271          0.000181  -0.000122   \n",
       "\n",
       "                  Boqueirão  Pinheirinho       CIC  Bairro Novo  Tatuquara  \n",
       "name_macrozone                                                              \n",
       "Matriz             0.018286    -0.009861 -0.009555    -0.002214  -0.002428  \n",
       "Portão             0.006693     0.003692  0.002124     0.001014   0.001836  \n",
       "Cajuru             0.003961     0.001910 -0.000191     0.000079  -0.000150  \n",
       "Santa Felicidade  -0.001146    -0.001169 -0.003479    -0.001468  -0.000110  \n",
       "Boa Vista         -0.001074    -0.000686 -0.000311    -0.000546  -0.000266  \n",
       "Boqueirão         -0.002350     0.002618  0.000182     0.000483   0.001196  \n",
       "Pinheirinho        0.003067    -0.003731  0.001129     0.000276   0.001115  \n",
       "CIC               -0.000535     0.000445 -0.012262    -0.000185   0.000057  \n",
       "Bairro Novo        0.000596     0.001357  0.000347    -0.002762  -0.000103  \n",
       "Tatuquara          0.000591     0.000367 -0.000250    -0.000258  -0.000323  "
      ]
     },
     "execution_count": 79,
     "metadata": {},
     "output_type": "execute_result"
    }
   ],
   "source": [
    "wday_est_survey_macrozones"
   ]
  },
  {
   "cell_type": "code",
   "execution_count": 80,
   "metadata": {
    "scrolled": true
   },
   "outputs": [
    {
     "name": "stdout",
     "output_type": "stream",
     "text": [
      "-0.02094841467900955 0.026050974734855077\n"
     ]
    }
   ],
   "source": [
    "print(np.min(wday_est_survey_macrozones.values),np.max(wday_est_survey_macrozones.values))"
   ]
  },
  {
   "cell_type": "code",
   "execution_count": 81,
   "metadata": {},
   "outputs": [],
   "source": [
    "wday_est_survey_macrozones_error = np.abs(wday_est_survey_macrozones.values).mean()"
   ]
  },
  {
   "cell_type": "code",
   "execution_count": 82,
   "metadata": {},
   "outputs": [
    {
     "data": {
      "text/plain": [
       "0.0031620805872086565"
      ]
     },
     "execution_count": 82,
     "metadata": {},
     "output_type": "execute_result"
    }
   ],
   "source": [
    "wday_est_survey_macrozones_error"
   ]
  },
  {
   "cell_type": "code",
   "execution_count": 83,
   "metadata": {
    "scrolled": false
   },
   "outputs": [
    {
     "data": {
      "image/png": "[encoded data removed]",
      "text/plain": [
       "<Figure size 432x288 with 2 Axes>"
      ]
     },
     "metadata": {
      "needs_background": "light"
     },
     "output_type": "display_data"
    }
   ],
   "source": [
    "wday_est_survey_macrozones_heatmap = build_heatmap_from_od_matrix(wday_est_survey_macrozones,\n",
    "                                                                                 color_map=div_scale_cmap,\n",
    "                                                                                 center_val=0.0,min_val=-0.06,max_val=0.06,\n",
    "                                                                                 color_label='Proportion Error (in %)')"
   ]
  },
  {
   "cell_type": "code",
   "execution_count": 84,
   "metadata": {},
   "outputs": [],
   "source": [
    "wday_est_survey_macrozones_heatmap.get_figure().savefig('/local/tarciso/data/od-mat-validation/heatmaps/error-matrices/wday_est_survey_macrozones_heatmap.png', bbox_inches='tight')"
   ]
  },
  {
   "cell_type": "markdown",
   "metadata": {},
   "source": [
    "#### May Est. Trips - Survey "
   ]
  },
  {
   "cell_type": "code",
   "execution_count": 85,
   "metadata": {},
   "outputs": [],
   "source": [
    "may_est_survey_macrozones = may_est_trips_macrozones - survey_macrozones"
   ]
  },
  {
   "cell_type": "code",
   "execution_count": 86,
   "metadata": {},
   "outputs": [
    {
     "data": {
      "text/html": [
       "<div>\n",
       "<style scoped>\n",
       "    .dataframe tbody tr th:only-of-type {\n",
       "        vertical-align: middle;\n",
       "    }\n",
       "\n",
       "    .dataframe tbody tr th {\n",
       "        vertical-align: top;\n",
       "    }\n",
       "\n",
       "    .dataframe thead th {\n",
       "        text-align: right;\n",
       "    }\n",
       "</style>\n",
       "<table border=\"1\" class=\"dataframe\">\n",
       "  <thead>\n",
       "    <tr style=\"text-align: right;\">\n",
       "      <th></th>\n",
       "      <th>Matriz</th>\n",
       "      <th>Portão</th>\n",
       "      <th>Cajuru</th>\n",
       "      <th>Santa Felicidade</th>\n",
       "      <th>Boa Vista</th>\n",
       "      <th>Boqueirão</th>\n",
       "      <th>Pinheirinho</th>\n",
       "      <th>CIC</th>\n",
       "      <th>Bairro Novo</th>\n",
       "      <th>Tatuquara</th>\n",
       "    </tr>\n",
       "    <tr>\n",
       "      <th>name_macrozone</th>\n",
       "      <th></th>\n",
       "      <th></th>\n",
       "      <th></th>\n",
       "      <th></th>\n",
       "      <th></th>\n",
       "      <th></th>\n",
       "      <th></th>\n",
       "      <th></th>\n",
       "      <th></th>\n",
       "      <th></th>\n",
       "    </tr>\n",
       "  </thead>\n",
       "  <tbody>\n",
       "    <tr>\n",
       "      <th>Matriz</th>\n",
       "      <td>0.008064</td>\n",
       "      <td>0.004477</td>\n",
       "      <td>0.002385</td>\n",
       "      <td>-0.017560</td>\n",
       "      <td>-0.020907</td>\n",
       "      <td>0.018449</td>\n",
       "      <td>-0.008751</td>\n",
       "      <td>-0.009839</td>\n",
       "      <td>-0.001807</td>\n",
       "      <td>-0.002055</td>\n",
       "    </tr>\n",
       "    <tr>\n",
       "      <th>Portão</th>\n",
       "      <td>0.006579</td>\n",
       "      <td>0.006185</td>\n",
       "      <td>0.002365</td>\n",
       "      <td>-0.000266</td>\n",
       "      <td>-0.002390</td>\n",
       "      <td>0.006007</td>\n",
       "      <td>0.003979</td>\n",
       "      <td>0.001939</td>\n",
       "      <td>0.001236</td>\n",
       "      <td>0.002105</td>\n",
       "    </tr>\n",
       "    <tr>\n",
       "      <th>Cajuru</th>\n",
       "      <td>0.014339</td>\n",
       "      <td>0.002059</td>\n",
       "      <td>0.000941</td>\n",
       "      <td>-0.000679</td>\n",
       "      <td>0.000341</td>\n",
       "      <td>0.004159</td>\n",
       "      <td>0.002148</td>\n",
       "      <td>-0.000113</td>\n",
       "      <td>0.000203</td>\n",
       "      <td>-0.000090</td>\n",
       "    </tr>\n",
       "    <tr>\n",
       "      <th>Santa Felicidade</th>\n",
       "      <td>-0.008223</td>\n",
       "      <td>-0.001160</td>\n",
       "      <td>-0.001954</td>\n",
       "      <td>-0.017087</td>\n",
       "      <td>-0.001950</td>\n",
       "      <td>-0.001214</td>\n",
       "      <td>-0.001197</td>\n",
       "      <td>-0.003989</td>\n",
       "      <td>-0.001446</td>\n",
       "      <td>-0.000080</td>\n",
       "    </tr>\n",
       "    <tr>\n",
       "      <th>Boa Vista</th>\n",
       "      <td>-0.009368</td>\n",
       "      <td>-0.002475</td>\n",
       "      <td>-0.000070</td>\n",
       "      <td>-0.001427</td>\n",
       "      <td>-0.015102</td>\n",
       "      <td>-0.001117</td>\n",
       "      <td>-0.000662</td>\n",
       "      <td>-0.000323</td>\n",
       "      <td>-0.000533</td>\n",
       "      <td>-0.000255</td>\n",
       "    </tr>\n",
       "    <tr>\n",
       "      <th>Boqueirão</th>\n",
       "      <td>0.026681</td>\n",
       "      <td>0.004839</td>\n",
       "      <td>0.003726</td>\n",
       "      <td>-0.000429</td>\n",
       "      <td>-0.001244</td>\n",
       "      <td>-0.001510</td>\n",
       "      <td>0.002760</td>\n",
       "      <td>0.000235</td>\n",
       "      <td>0.000591</td>\n",
       "      <td>0.001351</td>\n",
       "    </tr>\n",
       "    <tr>\n",
       "      <th>Pinheirinho</th>\n",
       "      <td>0.000040</td>\n",
       "      <td>0.001837</td>\n",
       "      <td>0.002090</td>\n",
       "      <td>-0.000349</td>\n",
       "      <td>-0.000935</td>\n",
       "      <td>0.002735</td>\n",
       "      <td>-0.003389</td>\n",
       "      <td>0.001232</td>\n",
       "      <td>0.000407</td>\n",
       "      <td>0.001411</td>\n",
       "    </tr>\n",
       "    <tr>\n",
       "      <th>CIC</th>\n",
       "      <td>0.001760</td>\n",
       "      <td>0.002259</td>\n",
       "      <td>-0.000971</td>\n",
       "      <td>-0.002620</td>\n",
       "      <td>-0.001140</td>\n",
       "      <td>-0.000333</td>\n",
       "      <td>0.000726</td>\n",
       "      <td>-0.011603</td>\n",
       "      <td>0.000014</td>\n",
       "      <td>0.000337</td>\n",
       "    </tr>\n",
       "    <tr>\n",
       "      <th>Bairro Novo</th>\n",
       "      <td>0.009513</td>\n",
       "      <td>0.001954</td>\n",
       "      <td>0.000323</td>\n",
       "      <td>-0.001029</td>\n",
       "      <td>-0.001102</td>\n",
       "      <td>0.001027</td>\n",
       "      <td>0.001658</td>\n",
       "      <td>0.000523</td>\n",
       "      <td>-0.002525</td>\n",
       "      <td>-0.000020</td>\n",
       "    </tr>\n",
       "    <tr>\n",
       "      <th>Tatuquara</th>\n",
       "      <td>0.001714</td>\n",
       "      <td>0.002208</td>\n",
       "      <td>-0.000204</td>\n",
       "      <td>0.000277</td>\n",
       "      <td>-0.000090</td>\n",
       "      <td>0.000767</td>\n",
       "      <td>0.000882</td>\n",
       "      <td>0.000147</td>\n",
       "      <td>-0.000160</td>\n",
       "      <td>-0.000244</td>\n",
       "    </tr>\n",
       "  </tbody>\n",
       "</table>\n",
       "</div>"
      ],
      "text/plain": [
       "                    Matriz    Portão    Cajuru  Santa Felicidade  Boa Vista  \\\n",
       "name_macrozone                                                                \n",
       "Matriz            0.008064  0.004477  0.002385         -0.017560  -0.020907   \n",
       "Portão            0.006579  0.006185  0.002365         -0.000266  -0.002390   \n",
       "Cajuru            0.014339  0.002059  0.000941         -0.000679   0.000341   \n",
       "Santa Felicidade -0.008223 -0.001160 -0.001954         -0.017087  -0.001950   \n",
       "Boa Vista        -0.009368 -0.002475 -0.000070         -0.001427  -0.015102   \n",
       "Boqueirão         0.026681  0.004839  0.003726         -0.000429  -0.001244   \n",
       "Pinheirinho       0.000040  0.001837  0.002090         -0.000349  -0.000935   \n",
       "CIC               0.001760  0.002259 -0.000971         -0.002620  -0.001140   \n",
       "Bairro Novo       0.009513  0.001954  0.000323         -0.001029  -0.001102   \n",
       "Tatuquara         0.001714  0.002208 -0.000204          0.000277  -0.000090   \n",
       "\n",
       "                  Boqueirão  Pinheirinho       CIC  Bairro Novo  Tatuquara  \n",
       "name_macrozone                                                              \n",
       "Matriz             0.018449    -0.008751 -0.009839    -0.001807  -0.002055  \n",
       "Portão             0.006007     0.003979  0.001939     0.001236   0.002105  \n",
       "Cajuru             0.004159     0.002148 -0.000113     0.000203  -0.000090  \n",
       "Santa Felicidade  -0.001214    -0.001197 -0.003989    -0.001446  -0.000080  \n",
       "Boa Vista         -0.001117    -0.000662 -0.000323    -0.000533  -0.000255  \n",
       "Boqueirão         -0.001510     0.002760  0.000235     0.000591   0.001351  \n",
       "Pinheirinho        0.002735    -0.003389  0.001232     0.000407   0.001411  \n",
       "CIC               -0.000333     0.000726 -0.011603     0.000014   0.000337  \n",
       "Bairro Novo        0.001027     0.001658  0.000523    -0.002525  -0.000020  \n",
       "Tatuquara          0.000767     0.000882  0.000147    -0.000160  -0.000244  "
      ]
     },
     "execution_count": 86,
     "metadata": {},
     "output_type": "execute_result"
    }
   ],
   "source": [
    "may_est_survey_macrozones"
   ]
  },
  {
   "cell_type": "code",
   "execution_count": 87,
   "metadata": {
    "scrolled": true
   },
   "outputs": [
    {
     "name": "stdout",
     "output_type": "stream",
     "text": [
      "-0.020906829669700824 0.02668129314992325\n"
     ]
    }
   ],
   "source": [
    "print(np.min(may_est_survey_macrozones.values),np.max(may_est_survey_macrozones.values))"
   ]
  },
  {
   "cell_type": "code",
   "execution_count": 88,
   "metadata": {},
   "outputs": [],
   "source": [
    "may_est_survey_macrozones_error = np.abs(may_est_survey_macrozones.values).mean()"
   ]
  },
  {
   "cell_type": "code",
   "execution_count": 89,
   "metadata": {},
   "outputs": [
    {
     "data": {
      "text/plain": [
       "0.003279716345020286"
      ]
     },
     "execution_count": 89,
     "metadata": {},
     "output_type": "execute_result"
    }
   ],
   "source": [
    "may_est_survey_macrozones_error"
   ]
  },
  {
   "cell_type": "code",
   "execution_count": 90,
   "metadata": {
    "scrolled": false
   },
   "outputs": [
    {
     "data": {
      "image/png": "[encoded data removed]",
      "text/plain": [
       "<Figure size 432x288 with 2 Axes>"
      ]
     },
     "metadata": {
      "needs_background": "light"
     },
     "output_type": "display_data"
    }
   ],
   "source": [
    "may_est_survey_macrozones_heatmap = build_heatmap_from_od_matrix(may_est_survey_macrozones,\n",
    "                                                                                 color_map=div_scale_cmap,\n",
    "                                                                                 center_val=0.0,min_val=-0.06,max_val=0.06,\n",
    "                                                                                 color_label='Proportion Error (in %)')"
   ]
  },
  {
   "cell_type": "code",
   "execution_count": 91,
   "metadata": {},
   "outputs": [],
   "source": [
    "may_est_survey_macrozones_heatmap.get_figure().savefig('/local/tarciso/data/od-mat-validation/heatmaps/error-matrices/may_est_survey_macrozones_heatmap.png', bbox_inches='tight')"
   ]
  },
  {
   "cell_type": "code",
   "execution_count": null,
   "metadata": {},
   "outputs": [],
   "source": []
  }
 ],
 "metadata": {
  "kernelspec": {
   "display_name": "Python 3",
   "language": "python",
   "name": "python3"
  },
  "language_info": {
   "codemirror_mode": {
    "name": "ipython",
    "version": 3
   },
   "file_extension": ".py",
   "mimetype": "text/x-python",
   "name": "python",
   "nbconvert_exporter": "python",
   "pygments_lexer": "ipython3",
   "version": "3.7.0"
  }
 },
 "nbformat": 4,
 "nbformat_minor": 2
}
