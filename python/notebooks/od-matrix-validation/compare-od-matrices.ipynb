{
 "cells": [
  {
   "cell_type": "code",
   "execution_count": 1,
   "metadata": {},
   "outputs": [],
   "source": [
    "import pandas as pd\n",
    "import numpy as np\n",
    "import seaborn as sns\n",
    "%matplotlib inline"
   ]
  },
  {
   "cell_type": "code",
   "execution_count": 2,
   "metadata": {},
   "outputs": [],
   "source": [
    "def build_heatmap_from_od_matrix(odmat,color_map,center_val,min_val,max_val,color_label):\n",
    "    heatmap_plt = sns.heatmap(odmat,cmap=color_map,\n",
    "                              center=center_val, vmin=min_val, vmax=max_val,\n",
    "                              cbar_kws={'label': color_label})\n",
    "    heatmap_plt.set(xlabel='Destination Macrozone', ylabel='Origin Macrozone')\n",
    "    #heatmap_plt.set_xticklabels(heatmap_plt.get_xticklabels(), rotation=40)\n",
    "    \n",
    "    return heatmap_plt"
   ]
  },
  {
   "cell_type": "code",
   "execution_count": 3,
   "metadata": {},
   "outputs": [],
   "source": [
    "div_scale_cmap = sns.diverging_palette(240, 0, n=10, as_cmap=True)\n",
    "green_cmap = sns.light_palette(\"green\")\n",
    "min_error = -0.06\n",
    "max_error = 0.06"
   ]
  },
  {
   "cell_type": "markdown",
   "metadata": {},
   "source": [
    "## Macrozones"
   ]
  },
  {
   "cell_type": "markdown",
   "metadata": {},
   "source": [
    "### Read and Prepare OD-Matrices"
   ]
  },
  {
   "cell_type": "markdown",
   "metadata": {},
   "source": [
    "### Naive Population Proportion Baseline"
   ]
  },
  {
   "cell_type": "code",
   "execution_count": 4,
   "metadata": {},
   "outputs": [],
   "source": [
    "naive_pop_prop_baseline_macrozones = 1000*pd.read_csv('/local/tarciso/data/od-mat-validation/od-matrices/pop_prop_naive_baseline_odmat_norm_freqs.csv', index_col=0)"
   ]
  },
  {
   "cell_type": "code",
   "execution_count": 5,
   "metadata": {},
   "outputs": [
    {
     "data": {
      "text/html": [
       "<div>\n",
       "<style scoped>\n",
       "    .dataframe tbody tr th:only-of-type {\n",
       "        vertical-align: middle;\n",
       "    }\n",
       "\n",
       "    .dataframe tbody tr th {\n",
       "        vertical-align: top;\n",
       "    }\n",
       "\n",
       "    .dataframe thead th {\n",
       "        text-align: right;\n",
       "    }\n",
       "</style>\n",
       "<table border=\"1\" class=\"dataframe\">\n",
       "  <thead>\n",
       "    <tr style=\"text-align: right;\">\n",
       "      <th></th>\n",
       "      <th>Matriz</th>\n",
       "      <th>Portão</th>\n",
       "      <th>Cajuru</th>\n",
       "      <th>Santa Felicidade</th>\n",
       "      <th>Boa Vista</th>\n",
       "      <th>Boqueirão</th>\n",
       "      <th>Pinheirinho</th>\n",
       "      <th>CIC</th>\n",
       "      <th>Bairro Novo</th>\n",
       "      <th>Tatuquara</th>\n",
       "    </tr>\n",
       "    <tr>\n",
       "      <th>name_macrozone</th>\n",
       "      <th></th>\n",
       "      <th></th>\n",
       "      <th></th>\n",
       "      <th></th>\n",
       "      <th></th>\n",
       "      <th></th>\n",
       "      <th></th>\n",
       "      <th></th>\n",
       "      <th></th>\n",
       "      <th></th>\n",
       "    </tr>\n",
       "  </thead>\n",
       "  <tbody>\n",
       "    <tr>\n",
       "      <th>Matriz</th>\n",
       "      <td>12.138827</td>\n",
       "      <td>10.728931</td>\n",
       "      <td>13.528480</td>\n",
       "      <td>9.686967</td>\n",
       "      <td>15.622238</td>\n",
       "      <td>11.939533</td>\n",
       "      <td>8.795609</td>\n",
       "      <td>11.650014</td>\n",
       "      <td>9.519783</td>\n",
       "      <td>6.565963</td>\n",
       "    </tr>\n",
       "    <tr>\n",
       "      <th>Portão</th>\n",
       "      <td>10.728931</td>\n",
       "      <td>9.482790</td>\n",
       "      <td>11.957179</td>\n",
       "      <td>8.561849</td>\n",
       "      <td>13.807751</td>\n",
       "      <td>10.552784</td>\n",
       "      <td>7.774020</td>\n",
       "      <td>10.296892</td>\n",
       "      <td>8.414082</td>\n",
       "      <td>5.803342</td>\n",
       "    </tr>\n",
       "    <tr>\n",
       "      <th>Cajuru</th>\n",
       "      <td>13.528480</td>\n",
       "      <td>11.957179</td>\n",
       "      <td>15.077221</td>\n",
       "      <td>10.795931</td>\n",
       "      <td>17.410672</td>\n",
       "      <td>13.306370</td>\n",
       "      <td>9.802531</td>\n",
       "      <td>12.983708</td>\n",
       "      <td>10.609608</td>\n",
       "      <td>7.317635</td>\n",
       "    </tr>\n",
       "    <tr>\n",
       "      <th>Santa Felicidade</th>\n",
       "      <td>9.686967</td>\n",
       "      <td>8.561849</td>\n",
       "      <td>10.795931</td>\n",
       "      <td>7.730346</td>\n",
       "      <td>12.466782</td>\n",
       "      <td>9.527927</td>\n",
       "      <td>7.019029</td>\n",
       "      <td>9.296887</td>\n",
       "      <td>7.596931</td>\n",
       "      <td>5.239738</td>\n",
       "    </tr>\n",
       "    <tr>\n",
       "      <th>Boa Vista</th>\n",
       "      <td>15.622238</td>\n",
       "      <td>13.807751</td>\n",
       "      <td>17.410672</td>\n",
       "      <td>12.466782</td>\n",
       "      <td>20.105264</td>\n",
       "      <td>15.365753</td>\n",
       "      <td>11.319636</td>\n",
       "      <td>14.993153</td>\n",
       "      <td>12.251622</td>\n",
       "      <td>8.450161</td>\n",
       "    </tr>\n",
       "    <tr>\n",
       "      <th>Boqueirão</th>\n",
       "      <td>11.939533</td>\n",
       "      <td>10.552784</td>\n",
       "      <td>13.306370</td>\n",
       "      <td>9.527927</td>\n",
       "      <td>15.365753</td>\n",
       "      <td>11.743510</td>\n",
       "      <td>8.651203</td>\n",
       "      <td>11.458745</td>\n",
       "      <td>9.363488</td>\n",
       "      <td>6.458164</td>\n",
       "    </tr>\n",
       "    <tr>\n",
       "      <th>Pinheirinho</th>\n",
       "      <td>8.795609</td>\n",
       "      <td>7.774020</td>\n",
       "      <td>9.802531</td>\n",
       "      <td>7.019029</td>\n",
       "      <td>11.319636</td>\n",
       "      <td>8.651203</td>\n",
       "      <td>6.373164</td>\n",
       "      <td>8.441423</td>\n",
       "      <td>6.897890</td>\n",
       "      <td>4.757597</td>\n",
       "    </tr>\n",
       "    <tr>\n",
       "      <th>CIC</th>\n",
       "      <td>11.650014</td>\n",
       "      <td>10.296892</td>\n",
       "      <td>12.983708</td>\n",
       "      <td>9.296887</td>\n",
       "      <td>14.993153</td>\n",
       "      <td>11.458745</td>\n",
       "      <td>8.441423</td>\n",
       "      <td>11.180885</td>\n",
       "      <td>9.136435</td>\n",
       "      <td>6.301562</td>\n",
       "    </tr>\n",
       "    <tr>\n",
       "      <th>Bairro Novo</th>\n",
       "      <td>9.519783</td>\n",
       "      <td>8.414082</td>\n",
       "      <td>10.609608</td>\n",
       "      <td>7.596931</td>\n",
       "      <td>12.251622</td>\n",
       "      <td>9.363488</td>\n",
       "      <td>6.897890</td>\n",
       "      <td>9.136435</td>\n",
       "      <td>7.465818</td>\n",
       "      <td>5.149307</td>\n",
       "    </tr>\n",
       "    <tr>\n",
       "      <th>Tatuquara</th>\n",
       "      <td>6.565963</td>\n",
       "      <td>5.803342</td>\n",
       "      <td>7.317635</td>\n",
       "      <td>5.239738</td>\n",
       "      <td>8.450161</td>\n",
       "      <td>6.458164</td>\n",
       "      <td>4.757597</td>\n",
       "      <td>6.301562</td>\n",
       "      <td>5.149307</td>\n",
       "      <td>3.551568</td>\n",
       "    </tr>\n",
       "  </tbody>\n",
       "</table>\n",
       "</div>"
      ],
      "text/plain": [
       "                     Matriz     Portão     Cajuru  Santa Felicidade  \\\n",
       "name_macrozone                                                        \n",
       "Matriz            12.138827  10.728931  13.528480          9.686967   \n",
       "Portão            10.728931   9.482790  11.957179          8.561849   \n",
       "Cajuru            13.528480  11.957179  15.077221         10.795931   \n",
       "Santa Felicidade   9.686967   8.561849  10.795931          7.730346   \n",
       "Boa Vista         15.622238  13.807751  17.410672         12.466782   \n",
       "Boqueirão         11.939533  10.552784  13.306370          9.527927   \n",
       "Pinheirinho        8.795609   7.774020   9.802531          7.019029   \n",
       "CIC               11.650014  10.296892  12.983708          9.296887   \n",
       "Bairro Novo        9.519783   8.414082  10.609608          7.596931   \n",
       "Tatuquara          6.565963   5.803342   7.317635          5.239738   \n",
       "\n",
       "                  Boa Vista  Boqueirão  Pinheirinho        CIC  Bairro Novo  \\\n",
       "name_macrozone                                                                \n",
       "Matriz            15.622238  11.939533     8.795609  11.650014     9.519783   \n",
       "Portão            13.807751  10.552784     7.774020  10.296892     8.414082   \n",
       "Cajuru            17.410672  13.306370     9.802531  12.983708    10.609608   \n",
       "Santa Felicidade  12.466782   9.527927     7.019029   9.296887     7.596931   \n",
       "Boa Vista         20.105264  15.365753    11.319636  14.993153    12.251622   \n",
       "Boqueirão         15.365753  11.743510     8.651203  11.458745     9.363488   \n",
       "Pinheirinho       11.319636   8.651203     6.373164   8.441423     6.897890   \n",
       "CIC               14.993153  11.458745     8.441423  11.180885     9.136435   \n",
       "Bairro Novo       12.251622   9.363488     6.897890   9.136435     7.465818   \n",
       "Tatuquara          8.450161   6.458164     4.757597   6.301562     5.149307   \n",
       "\n",
       "                  Tatuquara  \n",
       "name_macrozone               \n",
       "Matriz             6.565963  \n",
       "Portão             5.803342  \n",
       "Cajuru             7.317635  \n",
       "Santa Felicidade   5.239738  \n",
       "Boa Vista          8.450161  \n",
       "Boqueirão          6.458164  \n",
       "Pinheirinho        4.757597  \n",
       "CIC                6.301562  \n",
       "Bairro Novo        5.149307  \n",
       "Tatuquara          3.551568  "
      ]
     },
     "execution_count": 5,
     "metadata": {},
     "output_type": "execute_result"
    }
   ],
   "source": [
    "naive_pop_prop_baseline_macrozones"
   ]
  },
  {
   "cell_type": "code",
   "execution_count": 6,
   "metadata": {},
   "outputs": [
    {
     "data": {
      "text/plain": [
       "20.105263533260704"
      ]
     },
     "execution_count": 6,
     "metadata": {},
     "output_type": "execute_result"
    }
   ],
   "source": [
    "np.max(naive_pop_prop_baseline_macrozones.values)"
   ]
  },
  {
   "cell_type": "code",
   "execution_count": 7,
   "metadata": {},
   "outputs": [
    {
     "data": {
      "image/png": "[encoded data removed]",
      "text/plain": [
       "<Figure size 432x288 with 2 Axes>"
      ]
     },
     "metadata": {
      "needs_background": "light"
     },
     "output_type": "display_data"
    }
   ],
   "source": [
    "naive_pop_prop_baseline_macrozones_heatmap = build_heatmap_from_od_matrix(naive_pop_prop_baseline_macrozones,\n",
    "                                                                                 color_map=green_cmap,\n",
    "                                                                                 center_val=40.0,min_val=0.0,max_val=80.0,\n",
    "                                                                                 color_label='Proportion of Trips (no. trips per 1000 trips)')"
   ]
  },
  {
   "cell_type": "code",
   "execution_count": 8,
   "metadata": {},
   "outputs": [],
   "source": [
    "naive_pop_prop_baseline_macrozones_heatmap.get_figure().savefig('/local/tarciso/data/od-mat-validation/heatmaps/od-matrices/naive_pop_prop_baseline_macrozones_heatmap.png', bbox_inches='tight')"
   ]
  },
  {
   "cell_type": "markdown",
   "metadata": {},
   "source": [
    "### BUSTE Population Proportion Baseline"
   ]
  },
  {
   "cell_type": "code",
   "execution_count": 9,
   "metadata": {},
   "outputs": [],
   "source": [
    "pop_prop_buste_baseline_macrozones = 1000*pd.read_csv('/local/tarciso/data/od-mat-validation/od-matrices/pop_prop_buste_baseline_norm_freqs.csv', index_col=0)"
   ]
  },
  {
   "cell_type": "code",
   "execution_count": 10,
   "metadata": {
    "scrolled": false
   },
   "outputs": [
    {
     "data": {
      "text/html": [
       "<div>\n",
       "<style scoped>\n",
       "    .dataframe tbody tr th:only-of-type {\n",
       "        vertical-align: middle;\n",
       "    }\n",
       "\n",
       "    .dataframe tbody tr th {\n",
       "        vertical-align: top;\n",
       "    }\n",
       "\n",
       "    .dataframe thead th {\n",
       "        text-align: right;\n",
       "    }\n",
       "</style>\n",
       "<table border=\"1\" class=\"dataframe\">\n",
       "  <thead>\n",
       "    <tr style=\"text-align: right;\">\n",
       "      <th></th>\n",
       "      <th>Matriz</th>\n",
       "      <th>Portão</th>\n",
       "      <th>Cajuru</th>\n",
       "      <th>Santa Felicidade</th>\n",
       "      <th>Boa Vista</th>\n",
       "      <th>Boqueirão</th>\n",
       "      <th>Pinheirinho</th>\n",
       "      <th>CIC</th>\n",
       "      <th>Bairro Novo</th>\n",
       "      <th>Tatuquara</th>\n",
       "    </tr>\n",
       "    <tr>\n",
       "      <th>name_macrozone</th>\n",
       "      <th></th>\n",
       "      <th></th>\n",
       "      <th></th>\n",
       "      <th></th>\n",
       "      <th></th>\n",
       "      <th></th>\n",
       "      <th></th>\n",
       "      <th></th>\n",
       "      <th></th>\n",
       "      <th></th>\n",
       "    </tr>\n",
       "  </thead>\n",
       "  <tbody>\n",
       "    <tr>\n",
       "      <th>Matriz</th>\n",
       "      <td>28.440520</td>\n",
       "      <td>25.137244</td>\n",
       "      <td>31.696355</td>\n",
       "      <td>22.695963</td>\n",
       "      <td>36.601996</td>\n",
       "      <td>27.973621</td>\n",
       "      <td>20.607650</td>\n",
       "      <td>27.295345</td>\n",
       "      <td>22.304347</td>\n",
       "      <td>15.383660</td>\n",
       "    </tr>\n",
       "    <tr>\n",
       "      <th>Portão</th>\n",
       "      <td>7.903574</td>\n",
       "      <td>6.985712</td>\n",
       "      <td>8.808430</td>\n",
       "      <td>6.307253</td>\n",
       "      <td>10.171760</td>\n",
       "      <td>7.773890</td>\n",
       "      <td>5.726789</td>\n",
       "      <td>7.585409</td>\n",
       "      <td>6.198267</td>\n",
       "      <td>4.275172</td>\n",
       "    </tr>\n",
       "    <tr>\n",
       "      <th>Cajuru</th>\n",
       "      <td>8.750182</td>\n",
       "      <td>7.733959</td>\n",
       "      <td>9.751936</td>\n",
       "      <td>6.982782</td>\n",
       "      <td>11.261251</td>\n",
       "      <td>8.606578</td>\n",
       "      <td>6.340223</td>\n",
       "      <td>8.397948</td>\n",
       "      <td>6.862256</td>\n",
       "      <td>4.733096</td>\n",
       "    </tr>\n",
       "    <tr>\n",
       "      <th>Santa Felicidade</th>\n",
       "      <td>10.661005</td>\n",
       "      <td>9.422780</td>\n",
       "      <td>11.881462</td>\n",
       "      <td>8.507666</td>\n",
       "      <td>13.720299</td>\n",
       "      <td>10.486078</td>\n",
       "      <td>7.724801</td>\n",
       "      <td>10.231656</td>\n",
       "      <td>8.360764</td>\n",
       "      <td>5.766537</td>\n",
       "    </tr>\n",
       "    <tr>\n",
       "      <th>Boa Vista</th>\n",
       "      <td>14.981237</td>\n",
       "      <td>13.241311</td>\n",
       "      <td>16.696435</td>\n",
       "      <td>11.955280</td>\n",
       "      <td>19.280405</td>\n",
       "      <td>14.735241</td>\n",
       "      <td>10.855165</td>\n",
       "      <td>14.378060</td>\n",
       "      <td>11.749031</td>\n",
       "      <td>8.103412</td>\n",
       "    </tr>\n",
       "    <tr>\n",
       "      <th>Boqueirão</th>\n",
       "      <td>8.078134</td>\n",
       "      <td>7.139941</td>\n",
       "      <td>9.002956</td>\n",
       "      <td>6.446462</td>\n",
       "      <td>10.396325</td>\n",
       "      <td>7.945520</td>\n",
       "      <td>5.853359</td>\n",
       "      <td>7.752825</td>\n",
       "      <td>6.335278</td>\n",
       "      <td>4.369505</td>\n",
       "    </tr>\n",
       "    <tr>\n",
       "      <th>Pinheirinho</th>\n",
       "      <td>6.813167</td>\n",
       "      <td>6.021875</td>\n",
       "      <td>7.593102</td>\n",
       "      <td>5.437015</td>\n",
       "      <td>8.768316</td>\n",
       "      <td>6.701250</td>\n",
       "      <td>4.936780</td>\n",
       "      <td>6.538779</td>\n",
       "      <td>5.343233</td>\n",
       "      <td>3.685367</td>\n",
       "    </tr>\n",
       "    <tr>\n",
       "      <th>CIC</th>\n",
       "      <td>13.536580</td>\n",
       "      <td>11.964255</td>\n",
       "      <td>15.086193</td>\n",
       "      <td>10.802412</td>\n",
       "      <td>17.421053</td>\n",
       "      <td>13.314396</td>\n",
       "      <td>9.808352</td>\n",
       "      <td>12.991469</td>\n",
       "      <td>10.615945</td>\n",
       "      <td>7.322011</td>\n",
       "    </tr>\n",
       "    <tr>\n",
       "      <th>Bairro Novo</th>\n",
       "      <td>5.191202</td>\n",
       "      <td>4.588209</td>\n",
       "      <td>5.785404</td>\n",
       "      <td>4.142558</td>\n",
       "      <td>6.680918</td>\n",
       "      <td>5.106028</td>\n",
       "      <td>3.761382</td>\n",
       "      <td>4.982206</td>\n",
       "      <td>4.071122</td>\n",
       "      <td>2.807986</td>\n",
       "    </tr>\n",
       "    <tr>\n",
       "      <th>Tatuquara</th>\n",
       "      <td>5.820572</td>\n",
       "      <td>5.144494</td>\n",
       "      <td>6.486942</td>\n",
       "      <td>4.644808</td>\n",
       "      <td>7.490893</td>\n",
       "      <td>5.724958</td>\n",
       "      <td>4.217474</td>\n",
       "      <td>5.586115</td>\n",
       "      <td>4.564763</td>\n",
       "      <td>3.148315</td>\n",
       "    </tr>\n",
       "  </tbody>\n",
       "</table>\n",
       "</div>"
      ],
      "text/plain": [
       "                     Matriz     Portão     Cajuru  Santa Felicidade  \\\n",
       "name_macrozone                                                        \n",
       "Matriz            28.440520  25.137244  31.696355         22.695963   \n",
       "Portão             7.903574   6.985712   8.808430          6.307253   \n",
       "Cajuru             8.750182   7.733959   9.751936          6.982782   \n",
       "Santa Felicidade  10.661005   9.422780  11.881462          8.507666   \n",
       "Boa Vista         14.981237  13.241311  16.696435         11.955280   \n",
       "Boqueirão          8.078134   7.139941   9.002956          6.446462   \n",
       "Pinheirinho        6.813167   6.021875   7.593102          5.437015   \n",
       "CIC               13.536580  11.964255  15.086193         10.802412   \n",
       "Bairro Novo        5.191202   4.588209   5.785404          4.142558   \n",
       "Tatuquara          5.820572   5.144494   6.486942          4.644808   \n",
       "\n",
       "                  Boa Vista  Boqueirão  Pinheirinho        CIC  Bairro Novo  \\\n",
       "name_macrozone                                                                \n",
       "Matriz            36.601996  27.973621    20.607650  27.295345    22.304347   \n",
       "Portão            10.171760   7.773890     5.726789   7.585409     6.198267   \n",
       "Cajuru            11.261251   8.606578     6.340223   8.397948     6.862256   \n",
       "Santa Felicidade  13.720299  10.486078     7.724801  10.231656     8.360764   \n",
       "Boa Vista         19.280405  14.735241    10.855165  14.378060    11.749031   \n",
       "Boqueirão         10.396325   7.945520     5.853359   7.752825     6.335278   \n",
       "Pinheirinho        8.768316   6.701250     4.936780   6.538779     5.343233   \n",
       "CIC               17.421053  13.314396     9.808352  12.991469    10.615945   \n",
       "Bairro Novo        6.680918   5.106028     3.761382   4.982206     4.071122   \n",
       "Tatuquara          7.490893   5.724958     4.217474   5.586115     4.564763   \n",
       "\n",
       "                  Tatuquara  \n",
       "name_macrozone               \n",
       "Matriz            15.383660  \n",
       "Portão             4.275172  \n",
       "Cajuru             4.733096  \n",
       "Santa Felicidade   5.766537  \n",
       "Boa Vista          8.103412  \n",
       "Boqueirão          4.369505  \n",
       "Pinheirinho        3.685367  \n",
       "CIC                7.322011  \n",
       "Bairro Novo        2.807986  \n",
       "Tatuquara          3.148315  "
      ]
     },
     "execution_count": 10,
     "metadata": {},
     "output_type": "execute_result"
    }
   ],
   "source": [
    "pop_prop_buste_baseline_macrozones"
   ]
  },
  {
   "cell_type": "code",
   "execution_count": 11,
   "metadata": {},
   "outputs": [
    {
     "data": {
      "text/plain": [
       "36.60199628935554"
      ]
     },
     "execution_count": 11,
     "metadata": {},
     "output_type": "execute_result"
    }
   ],
   "source": [
    "np.max(pop_prop_buste_baseline_macrozones.values)"
   ]
  },
  {
   "cell_type": "code",
   "execution_count": 12,
   "metadata": {},
   "outputs": [
    {
     "data": {
      "image/png": "[encoded data removed]",
      "text/plain": [
       "<Figure size 432x288 with 2 Axes>"
      ]
     },
     "metadata": {
      "needs_background": "light"
     },
     "output_type": "display_data"
    }
   ],
   "source": [
    "pop_prop_buste_baseline_macrozones_heatmap = build_heatmap_from_od_matrix(pop_prop_buste_baseline_macrozones,\n",
    "                                                                                 color_map=green_cmap,\n",
    "                                                                                 center_val=40.0,min_val=0.0,max_val=80.0,\n",
    "                                                                                 color_label='Proportion of Trips (no. trips per 1000 trips)')"
   ]
  },
  {
   "cell_type": "code",
   "execution_count": 13,
   "metadata": {},
   "outputs": [],
   "source": [
    "pop_prop_buste_baseline_macrozones_heatmap.get_figure().savefig('/local/tarciso/data/od-mat-validation/heatmaps/od-matrices/pop_prop_buste_baseline_macrozones_heatmap.png', bbox_inches='tight')"
   ]
  },
  {
   "cell_type": "markdown",
   "metadata": {},
   "source": [
    "### BUSTE Origin Proportion Baseline"
   ]
  },
  {
   "cell_type": "code",
   "execution_count": 14,
   "metadata": {},
   "outputs": [],
   "source": [
    "origin_prop_buste_baseline_macrozones = 1000*pd.read_csv('/local/tarciso/data/od-mat-validation/od-matrices/origin_prop_buste_baseline_norm_freqs.csv', index_col=0)"
   ]
  },
  {
   "cell_type": "code",
   "execution_count": 15,
   "metadata": {
    "scrolled": true
   },
   "outputs": [
    {
     "data": {
      "text/html": [
       "<div>\n",
       "<style scoped>\n",
       "    .dataframe tbody tr th:only-of-type {\n",
       "        vertical-align: middle;\n",
       "    }\n",
       "\n",
       "    .dataframe tbody tr th {\n",
       "        vertical-align: top;\n",
       "    }\n",
       "\n",
       "    .dataframe thead th {\n",
       "        text-align: right;\n",
       "    }\n",
       "</style>\n",
       "<table border=\"1\" class=\"dataframe\">\n",
       "  <thead>\n",
       "    <tr style=\"text-align: right;\">\n",
       "      <th></th>\n",
       "      <th>Matriz</th>\n",
       "      <th>Portão</th>\n",
       "      <th>Cajuru</th>\n",
       "      <th>Santa Felicidade</th>\n",
       "      <th>Boa Vista</th>\n",
       "      <th>Boqueirão</th>\n",
       "      <th>Pinheirinho</th>\n",
       "      <th>CIC</th>\n",
       "      <th>Bairro Novo</th>\n",
       "      <th>Tatuquara</th>\n",
       "    </tr>\n",
       "    <tr>\n",
       "      <th>name_macrozone</th>\n",
       "      <th></th>\n",
       "      <th></th>\n",
       "      <th></th>\n",
       "      <th></th>\n",
       "      <th></th>\n",
       "      <th></th>\n",
       "      <th></th>\n",
       "      <th></th>\n",
       "      <th></th>\n",
       "      <th></th>\n",
       "    </tr>\n",
       "  </thead>\n",
       "  <tbody>\n",
       "    <tr>\n",
       "      <th>Matriz</th>\n",
       "      <td>66.634624</td>\n",
       "      <td>18.517687</td>\n",
       "      <td>20.501411</td>\n",
       "      <td>24.978070</td>\n",
       "      <td>35.100374</td>\n",
       "      <td>18.926521</td>\n",
       "      <td>15.962842</td>\n",
       "      <td>31.715405</td>\n",
       "      <td>12.162627</td>\n",
       "      <td>13.637140</td>\n",
       "    </tr>\n",
       "    <tr>\n",
       "      <th>Portão</th>\n",
       "      <td>18.517687</td>\n",
       "      <td>5.146143</td>\n",
       "      <td>5.697299</td>\n",
       "      <td>6.941385</td>\n",
       "      <td>9.754317</td>\n",
       "      <td>5.259708</td>\n",
       "      <td>4.435995</td>\n",
       "      <td>8.813742</td>\n",
       "      <td>3.380024</td>\n",
       "      <td>3.789774</td>\n",
       "    </tr>\n",
       "    <tr>\n",
       "      <th>Cajuru</th>\n",
       "      <td>20.501411</td>\n",
       "      <td>5.697299</td>\n",
       "      <td>6.307619</td>\n",
       "      <td>7.685053</td>\n",
       "      <td>10.799298</td>\n",
       "      <td>5.823136</td>\n",
       "      <td>4.911319</td>\n",
       "      <td>9.757797</td>\n",
       "      <td>3.742150</td>\n",
       "      <td>4.195677</td>\n",
       "    </tr>\n",
       "    <tr>\n",
       "      <th>Santa Felicidade</th>\n",
       "      <td>24.978070</td>\n",
       "      <td>6.941385</td>\n",
       "      <td>7.685053</td>\n",
       "      <td>9.363067</td>\n",
       "      <td>13.157420</td>\n",
       "      <td>7.094698</td>\n",
       "      <td>5.983776</td>\n",
       "      <td>11.888606</td>\n",
       "      <td>4.559268</td>\n",
       "      <td>5.111890</td>\n",
       "    </tr>\n",
       "    <tr>\n",
       "      <th>Boa Vista</th>\n",
       "      <td>35.100374</td>\n",
       "      <td>9.754317</td>\n",
       "      <td>10.799298</td>\n",
       "      <td>13.157420</td>\n",
       "      <td>18.489296</td>\n",
       "      <td>9.969724</td>\n",
       "      <td>8.408572</td>\n",
       "      <td>16.706326</td>\n",
       "      <td>6.406714</td>\n",
       "      <td>7.183535</td>\n",
       "    </tr>\n",
       "    <tr>\n",
       "      <th>Boqueirão</th>\n",
       "      <td>18.926521</td>\n",
       "      <td>5.259708</td>\n",
       "      <td>5.823136</td>\n",
       "      <td>7.094698</td>\n",
       "      <td>9.969724</td>\n",
       "      <td>5.375837</td>\n",
       "      <td>4.533991</td>\n",
       "      <td>9.008268</td>\n",
       "      <td>3.454574</td>\n",
       "      <td>3.873482</td>\n",
       "    </tr>\n",
       "    <tr>\n",
       "      <th>Pinheirinho</th>\n",
       "      <td>15.962842</td>\n",
       "      <td>4.435995</td>\n",
       "      <td>4.911319</td>\n",
       "      <td>5.983776</td>\n",
       "      <td>8.408572</td>\n",
       "      <td>4.533991</td>\n",
       "      <td>3.824026</td>\n",
       "      <td>7.597681</td>\n",
       "      <td>2.913675</td>\n",
       "      <td>3.266825</td>\n",
       "    </tr>\n",
       "    <tr>\n",
       "      <th>CIC</th>\n",
       "      <td>31.715405</td>\n",
       "      <td>8.813742</td>\n",
       "      <td>9.757797</td>\n",
       "      <td>11.888606</td>\n",
       "      <td>16.706326</td>\n",
       "      <td>9.008268</td>\n",
       "      <td>7.597681</td>\n",
       "      <td>15.095352</td>\n",
       "      <td>5.788884</td>\n",
       "      <td>6.490789</td>\n",
       "    </tr>\n",
       "    <tr>\n",
       "      <th>Bairro Novo</th>\n",
       "      <td>12.162627</td>\n",
       "      <td>3.380024</td>\n",
       "      <td>3.742150</td>\n",
       "      <td>4.559268</td>\n",
       "      <td>6.406714</td>\n",
       "      <td>3.454574</td>\n",
       "      <td>2.913675</td>\n",
       "      <td>5.788884</td>\n",
       "      <td>2.220012</td>\n",
       "      <td>2.489088</td>\n",
       "    </tr>\n",
       "    <tr>\n",
       "      <th>Tatuquara</th>\n",
       "      <td>13.637140</td>\n",
       "      <td>3.789774</td>\n",
       "      <td>4.195677</td>\n",
       "      <td>5.111890</td>\n",
       "      <td>7.183535</td>\n",
       "      <td>3.873482</td>\n",
       "      <td>3.266825</td>\n",
       "      <td>6.490789</td>\n",
       "      <td>2.489088</td>\n",
       "      <td>2.790951</td>\n",
       "    </tr>\n",
       "  </tbody>\n",
       "</table>\n",
       "</div>"
      ],
      "text/plain": [
       "                     Matriz     Portão     Cajuru  Santa Felicidade  \\\n",
       "name_macrozone                                                        \n",
       "Matriz            66.634624  18.517687  20.501411         24.978070   \n",
       "Portão            18.517687   5.146143   5.697299          6.941385   \n",
       "Cajuru            20.501411   5.697299   6.307619          7.685053   \n",
       "Santa Felicidade  24.978070   6.941385   7.685053          9.363067   \n",
       "Boa Vista         35.100374   9.754317  10.799298         13.157420   \n",
       "Boqueirão         18.926521   5.259708   5.823136          7.094698   \n",
       "Pinheirinho       15.962842   4.435995   4.911319          5.983776   \n",
       "CIC               31.715405   8.813742   9.757797         11.888606   \n",
       "Bairro Novo       12.162627   3.380024   3.742150          4.559268   \n",
       "Tatuquara         13.637140   3.789774   4.195677          5.111890   \n",
       "\n",
       "                  Boa Vista  Boqueirão  Pinheirinho        CIC  Bairro Novo  \\\n",
       "name_macrozone                                                                \n",
       "Matriz            35.100374  18.926521    15.962842  31.715405    12.162627   \n",
       "Portão             9.754317   5.259708     4.435995   8.813742     3.380024   \n",
       "Cajuru            10.799298   5.823136     4.911319   9.757797     3.742150   \n",
       "Santa Felicidade  13.157420   7.094698     5.983776  11.888606     4.559268   \n",
       "Boa Vista         18.489296   9.969724     8.408572  16.706326     6.406714   \n",
       "Boqueirão          9.969724   5.375837     4.533991   9.008268     3.454574   \n",
       "Pinheirinho        8.408572   4.533991     3.824026   7.597681     2.913675   \n",
       "CIC               16.706326   9.008268     7.597681  15.095352     5.788884   \n",
       "Bairro Novo        6.406714   3.454574     2.913675   5.788884     2.220012   \n",
       "Tatuquara          7.183535   3.873482     3.266825   6.490789     2.489088   \n",
       "\n",
       "                  Tatuquara  \n",
       "name_macrozone               \n",
       "Matriz            13.637140  \n",
       "Portão             3.789774  \n",
       "Cajuru             4.195677  \n",
       "Santa Felicidade   5.111890  \n",
       "Boa Vista          7.183535  \n",
       "Boqueirão          3.873482  \n",
       "Pinheirinho        3.266825  \n",
       "CIC                6.490789  \n",
       "Bairro Novo        2.489088  \n",
       "Tatuquara          2.790951  "
      ]
     },
     "execution_count": 15,
     "metadata": {},
     "output_type": "execute_result"
    }
   ],
   "source": [
    "origin_prop_buste_baseline_macrozones"
   ]
  },
  {
   "cell_type": "code",
   "execution_count": 16,
   "metadata": {},
   "outputs": [
    {
     "data": {
      "text/plain": [
       "66.63462424367091"
      ]
     },
     "execution_count": 16,
     "metadata": {},
     "output_type": "execute_result"
    }
   ],
   "source": [
    "np.max(origin_prop_buste_baseline_macrozones.values)"
   ]
  },
  {
   "cell_type": "code",
   "execution_count": 17,
   "metadata": {
    "scrolled": true
   },
   "outputs": [
    {
     "data": {
      "image/png": "[encoded data removed]",
      "text/plain": [
       "<Figure size 432x288 with 2 Axes>"
      ]
     },
     "metadata": {
      "needs_background": "light"
     },
     "output_type": "display_data"
    }
   ],
   "source": [
    "origin_prop_buste_baseline_macrozones_heatmap = build_heatmap_from_od_matrix(origin_prop_buste_baseline_macrozones,\n",
    "                                                                                 color_map=green_cmap,\n",
    "                                                                                 center_val=40.0,min_val=0.0,max_val=80.0,\n",
    "                                                                                 color_label='Proportion of Trips (no. trips per 1000 trips)')"
   ]
  },
  {
   "cell_type": "code",
   "execution_count": 18,
   "metadata": {},
   "outputs": [],
   "source": [
    "origin_prop_buste_baseline_macrozones_heatmap.get_figure().savefig('/local/tarciso/data/od-mat-validation/heatmaps/od-matrices/origin_prop_buste_baseline_macrozones_heatmap.png', bbox_inches='tight')"
   ]
  },
  {
   "cell_type": "markdown",
   "metadata": {},
   "source": [
    "### Survey"
   ]
  },
  {
   "cell_type": "code",
   "execution_count": 19,
   "metadata": {},
   "outputs": [],
   "source": [
    "survey_macrozones_nonnorm = pd.read_csv('/local/tarciso/data/od-mat-validation/od-matrices/survey_macrozones_freqs.csv', index_col=0)"
   ]
  },
  {
   "cell_type": "code",
   "execution_count": 20,
   "metadata": {},
   "outputs": [
    {
     "data": {
      "text/html": [
       "<div>\n",
       "<style scoped>\n",
       "    .dataframe tbody tr th:only-of-type {\n",
       "        vertical-align: middle;\n",
       "    }\n",
       "\n",
       "    .dataframe tbody tr th {\n",
       "        vertical-align: top;\n",
       "    }\n",
       "\n",
       "    .dataframe thead th {\n",
       "        text-align: right;\n",
       "    }\n",
       "</style>\n",
       "<table border=\"1\" class=\"dataframe\">\n",
       "  <thead>\n",
       "    <tr style=\"text-align: right;\">\n",
       "      <th></th>\n",
       "      <th>Matriz</th>\n",
       "      <th>Portão</th>\n",
       "      <th>Cajuru</th>\n",
       "      <th>Santa Felicidade</th>\n",
       "      <th>Boa Vista</th>\n",
       "      <th>Boqueirão</th>\n",
       "      <th>Pinheirinho</th>\n",
       "      <th>CIC</th>\n",
       "      <th>Bairro Novo</th>\n",
       "      <th>Tatuquara</th>\n",
       "    </tr>\n",
       "    <tr>\n",
       "      <th>name_macrozone</th>\n",
       "      <th></th>\n",
       "      <th></th>\n",
       "      <th></th>\n",
       "      <th></th>\n",
       "      <th></th>\n",
       "      <th></th>\n",
       "      <th></th>\n",
       "      <th></th>\n",
       "      <th></th>\n",
       "      <th></th>\n",
       "    </tr>\n",
       "  </thead>\n",
       "  <tbody>\n",
       "    <tr>\n",
       "      <th>Matriz</th>\n",
       "      <td>701</td>\n",
       "      <td>289</td>\n",
       "      <td>351</td>\n",
       "      <td>363</td>\n",
       "      <td>600</td>\n",
       "      <td>213</td>\n",
       "      <td>251</td>\n",
       "      <td>263</td>\n",
       "      <td>136</td>\n",
       "      <td>62</td>\n",
       "    </tr>\n",
       "    <tr>\n",
       "      <th>Portão</th>\n",
       "      <td>291</td>\n",
       "      <td>120</td>\n",
       "      <td>40</td>\n",
       "      <td>58</td>\n",
       "      <td>63</td>\n",
       "      <td>61</td>\n",
       "      <td>107</td>\n",
       "      <td>139</td>\n",
       "      <td>67</td>\n",
       "      <td>32</td>\n",
       "    </tr>\n",
       "    <tr>\n",
       "      <th>Cajuru</th>\n",
       "      <td>352</td>\n",
       "      <td>42</td>\n",
       "      <td>141</td>\n",
       "      <td>32</td>\n",
       "      <td>45</td>\n",
       "      <td>50</td>\n",
       "      <td>14</td>\n",
       "      <td>29</td>\n",
       "      <td>15</td>\n",
       "      <td>7</td>\n",
       "    </tr>\n",
       "    <tr>\n",
       "      <th>Santa Felicidade</th>\n",
       "      <td>361</td>\n",
       "      <td>57</td>\n",
       "      <td>33</td>\n",
       "      <td>282</td>\n",
       "      <td>44</td>\n",
       "      <td>22</td>\n",
       "      <td>28</td>\n",
       "      <td>88</td>\n",
       "      <td>20</td>\n",
       "      <td>5</td>\n",
       "    </tr>\n",
       "    <tr>\n",
       "      <th>Boa Vista</th>\n",
       "      <td>590</td>\n",
       "      <td>66</td>\n",
       "      <td>49</td>\n",
       "      <td>48</td>\n",
       "      <td>328</td>\n",
       "      <td>32</td>\n",
       "      <td>21</td>\n",
       "      <td>19</td>\n",
       "      <td>10</td>\n",
       "      <td>5</td>\n",
       "    </tr>\n",
       "    <tr>\n",
       "      <th>Boqueirão</th>\n",
       "      <td>219</td>\n",
       "      <td>64</td>\n",
       "      <td>52</td>\n",
       "      <td>22</td>\n",
       "      <td>37</td>\n",
       "      <td>258</td>\n",
       "      <td>59</td>\n",
       "      <td>43</td>\n",
       "      <td>68</td>\n",
       "      <td>8</td>\n",
       "    </tr>\n",
       "    <tr>\n",
       "      <th>Pinheirinho</th>\n",
       "      <td>260</td>\n",
       "      <td>111</td>\n",
       "      <td>13</td>\n",
       "      <td>28</td>\n",
       "      <td>23</td>\n",
       "      <td>56</td>\n",
       "      <td>138</td>\n",
       "      <td>70</td>\n",
       "      <td>55</td>\n",
       "      <td>44</td>\n",
       "    </tr>\n",
       "    <tr>\n",
       "      <th>CIC</th>\n",
       "      <td>264</td>\n",
       "      <td>140</td>\n",
       "      <td>31</td>\n",
       "      <td>84</td>\n",
       "      <td>25</td>\n",
       "      <td>44</td>\n",
       "      <td>67</td>\n",
       "      <td>285</td>\n",
       "      <td>28</td>\n",
       "      <td>37</td>\n",
       "    </tr>\n",
       "    <tr>\n",
       "      <th>Bairro Novo</th>\n",
       "      <td>143</td>\n",
       "      <td>68</td>\n",
       "      <td>14</td>\n",
       "      <td>22</td>\n",
       "      <td>18</td>\n",
       "      <td>69</td>\n",
       "      <td>49</td>\n",
       "      <td>25</td>\n",
       "      <td>71</td>\n",
       "      <td>10</td>\n",
       "    </tr>\n",
       "    <tr>\n",
       "      <th>Tatuquara</th>\n",
       "      <td>64</td>\n",
       "      <td>31</td>\n",
       "      <td>7</td>\n",
       "      <td>5</td>\n",
       "      <td>4</td>\n",
       "      <td>9</td>\n",
       "      <td>44</td>\n",
       "      <td>41</td>\n",
       "      <td>11</td>\n",
       "      <td>19</td>\n",
       "    </tr>\n",
       "  </tbody>\n",
       "</table>\n",
       "</div>"
      ],
      "text/plain": [
       "                  Matriz  Portão  Cajuru  Santa Felicidade  Boa Vista  \\\n",
       "name_macrozone                                                          \n",
       "Matriz               701     289     351               363        600   \n",
       "Portão               291     120      40                58         63   \n",
       "Cajuru               352      42     141                32         45   \n",
       "Santa Felicidade     361      57      33               282         44   \n",
       "Boa Vista            590      66      49                48        328   \n",
       "Boqueirão            219      64      52                22         37   \n",
       "Pinheirinho          260     111      13                28         23   \n",
       "CIC                  264     140      31                84         25   \n",
       "Bairro Novo          143      68      14                22         18   \n",
       "Tatuquara             64      31       7                 5          4   \n",
       "\n",
       "                  Boqueirão  Pinheirinho  CIC  Bairro Novo  Tatuquara  \n",
       "name_macrozone                                                         \n",
       "Matriz                  213          251  263          136         62  \n",
       "Portão                   61          107  139           67         32  \n",
       "Cajuru                   50           14   29           15          7  \n",
       "Santa Felicidade         22           28   88           20          5  \n",
       "Boa Vista                32           21   19           10          5  \n",
       "Boqueirão               258           59   43           68          8  \n",
       "Pinheirinho              56          138   70           55         44  \n",
       "CIC                      44           67  285           28         37  \n",
       "Bairro Novo              69           49   25           71         10  \n",
       "Tatuquara                 9           44   41           11         19  "
      ]
     },
     "execution_count": 20,
     "metadata": {},
     "output_type": "execute_result"
    }
   ],
   "source": [
    "survey_macrozones_nonnorm"
   ]
  },
  {
   "cell_type": "code",
   "execution_count": 21,
   "metadata": {},
   "outputs": [],
   "source": [
    "survey_macrozones = 1000*pd.read_csv('/local/tarciso/data/od-mat-validation/od-matrices/survey_macrozones_norm_freqs.csv', index_col=0)"
   ]
  },
  {
   "cell_type": "code",
   "execution_count": 22,
   "metadata": {
    "scrolled": true
   },
   "outputs": [
    {
     "data": {
      "text/html": [
       "<div>\n",
       "<style scoped>\n",
       "    .dataframe tbody tr th:only-of-type {\n",
       "        vertical-align: middle;\n",
       "    }\n",
       "\n",
       "    .dataframe tbody tr th {\n",
       "        vertical-align: top;\n",
       "    }\n",
       "\n",
       "    .dataframe thead th {\n",
       "        text-align: right;\n",
       "    }\n",
       "</style>\n",
       "<table border=\"1\" class=\"dataframe\">\n",
       "  <thead>\n",
       "    <tr style=\"text-align: right;\">\n",
       "      <th></th>\n",
       "      <th>Matriz</th>\n",
       "      <th>Portão</th>\n",
       "      <th>Cajuru</th>\n",
       "      <th>Santa Felicidade</th>\n",
       "      <th>Boa Vista</th>\n",
       "      <th>Boqueirão</th>\n",
       "      <th>Pinheirinho</th>\n",
       "      <th>CIC</th>\n",
       "      <th>Bairro Novo</th>\n",
       "      <th>Tatuquara</th>\n",
       "    </tr>\n",
       "    <tr>\n",
       "      <th>name_macrozone</th>\n",
       "      <th></th>\n",
       "      <th></th>\n",
       "      <th></th>\n",
       "      <th></th>\n",
       "      <th></th>\n",
       "      <th></th>\n",
       "      <th></th>\n",
       "      <th></th>\n",
       "      <th></th>\n",
       "      <th></th>\n",
       "    </tr>\n",
       "  </thead>\n",
       "  <tbody>\n",
       "    <tr>\n",
       "      <th>Matriz</th>\n",
       "      <td>67.410328</td>\n",
       "      <td>27.791134</td>\n",
       "      <td>33.753246</td>\n",
       "      <td>34.907203</td>\n",
       "      <td>57.697856</td>\n",
       "      <td>20.482739</td>\n",
       "      <td>24.136936</td>\n",
       "      <td>25.290893</td>\n",
       "      <td>13.078181</td>\n",
       "      <td>5.962112</td>\n",
       "    </tr>\n",
       "    <tr>\n",
       "      <th>Portão</th>\n",
       "      <td>27.983460</td>\n",
       "      <td>11.539571</td>\n",
       "      <td>3.846524</td>\n",
       "      <td>5.577459</td>\n",
       "      <td>6.058275</td>\n",
       "      <td>5.865949</td>\n",
       "      <td>10.289451</td>\n",
       "      <td>13.366670</td>\n",
       "      <td>6.442927</td>\n",
       "      <td>3.077219</td>\n",
       "    </tr>\n",
       "    <tr>\n",
       "      <th>Cajuru</th>\n",
       "      <td>33.849409</td>\n",
       "      <td>4.038850</td>\n",
       "      <td>13.558996</td>\n",
       "      <td>3.077219</td>\n",
       "      <td>4.327339</td>\n",
       "      <td>4.808155</td>\n",
       "      <td>1.346283</td>\n",
       "      <td>2.788730</td>\n",
       "      <td>1.442446</td>\n",
       "      <td>0.673142</td>\n",
       "    </tr>\n",
       "    <tr>\n",
       "      <th>Santa Felicidade</th>\n",
       "      <td>34.714876</td>\n",
       "      <td>5.481296</td>\n",
       "      <td>3.173382</td>\n",
       "      <td>27.117992</td>\n",
       "      <td>4.231176</td>\n",
       "      <td>2.115588</td>\n",
       "      <td>2.692567</td>\n",
       "      <td>8.462352</td>\n",
       "      <td>1.923262</td>\n",
       "      <td>0.480815</td>\n",
       "    </tr>\n",
       "    <tr>\n",
       "      <th>Boa Vista</th>\n",
       "      <td>56.736225</td>\n",
       "      <td>6.346764</td>\n",
       "      <td>4.711992</td>\n",
       "      <td>4.615828</td>\n",
       "      <td>31.541494</td>\n",
       "      <td>3.077219</td>\n",
       "      <td>2.019425</td>\n",
       "      <td>1.827099</td>\n",
       "      <td>0.961631</td>\n",
       "      <td>0.480815</td>\n",
       "    </tr>\n",
       "    <tr>\n",
       "      <th>Boqueirão</th>\n",
       "      <td>21.059717</td>\n",
       "      <td>6.154438</td>\n",
       "      <td>5.000481</td>\n",
       "      <td>2.115588</td>\n",
       "      <td>3.558034</td>\n",
       "      <td>24.810078</td>\n",
       "      <td>5.673622</td>\n",
       "      <td>4.135013</td>\n",
       "      <td>6.539090</td>\n",
       "      <td>0.769305</td>\n",
       "    </tr>\n",
       "    <tr>\n",
       "      <th>Pinheirinho</th>\n",
       "      <td>25.002404</td>\n",
       "      <td>10.674103</td>\n",
       "      <td>1.250120</td>\n",
       "      <td>2.692567</td>\n",
       "      <td>2.211751</td>\n",
       "      <td>5.385133</td>\n",
       "      <td>13.270507</td>\n",
       "      <td>6.731416</td>\n",
       "      <td>5.288970</td>\n",
       "      <td>4.231176</td>\n",
       "    </tr>\n",
       "    <tr>\n",
       "      <th>CIC</th>\n",
       "      <td>25.387056</td>\n",
       "      <td>13.462833</td>\n",
       "      <td>2.981056</td>\n",
       "      <td>8.077700</td>\n",
       "      <td>2.404077</td>\n",
       "      <td>4.231176</td>\n",
       "      <td>6.442927</td>\n",
       "      <td>27.406481</td>\n",
       "      <td>2.692567</td>\n",
       "      <td>3.558034</td>\n",
       "    </tr>\n",
       "    <tr>\n",
       "      <th>Bairro Novo</th>\n",
       "      <td>13.751322</td>\n",
       "      <td>6.539090</td>\n",
       "      <td>1.346283</td>\n",
       "      <td>2.115588</td>\n",
       "      <td>1.730936</td>\n",
       "      <td>6.635253</td>\n",
       "      <td>4.711992</td>\n",
       "      <td>2.404077</td>\n",
       "      <td>6.827580</td>\n",
       "      <td>0.961631</td>\n",
       "    </tr>\n",
       "    <tr>\n",
       "      <th>Tatuquara</th>\n",
       "      <td>6.154438</td>\n",
       "      <td>2.981056</td>\n",
       "      <td>0.673142</td>\n",
       "      <td>0.480815</td>\n",
       "      <td>0.384652</td>\n",
       "      <td>0.865468</td>\n",
       "      <td>4.231176</td>\n",
       "      <td>3.942687</td>\n",
       "      <td>1.057794</td>\n",
       "      <td>1.827099</td>\n",
       "    </tr>\n",
       "  </tbody>\n",
       "</table>\n",
       "</div>"
      ],
      "text/plain": [
       "                     Matriz     Portão     Cajuru  Santa Felicidade  \\\n",
       "name_macrozone                                                        \n",
       "Matriz            67.410328  27.791134  33.753246         34.907203   \n",
       "Portão            27.983460  11.539571   3.846524          5.577459   \n",
       "Cajuru            33.849409   4.038850  13.558996          3.077219   \n",
       "Santa Felicidade  34.714876   5.481296   3.173382         27.117992   \n",
       "Boa Vista         56.736225   6.346764   4.711992          4.615828   \n",
       "Boqueirão         21.059717   6.154438   5.000481          2.115588   \n",
       "Pinheirinho       25.002404  10.674103   1.250120          2.692567   \n",
       "CIC               25.387056  13.462833   2.981056          8.077700   \n",
       "Bairro Novo       13.751322   6.539090   1.346283          2.115588   \n",
       "Tatuquara          6.154438   2.981056   0.673142          0.480815   \n",
       "\n",
       "                  Boa Vista  Boqueirão  Pinheirinho        CIC  Bairro Novo  \\\n",
       "name_macrozone                                                                \n",
       "Matriz            57.697856  20.482739    24.136936  25.290893    13.078181   \n",
       "Portão             6.058275   5.865949    10.289451  13.366670     6.442927   \n",
       "Cajuru             4.327339   4.808155     1.346283   2.788730     1.442446   \n",
       "Santa Felicidade   4.231176   2.115588     2.692567   8.462352     1.923262   \n",
       "Boa Vista         31.541494   3.077219     2.019425   1.827099     0.961631   \n",
       "Boqueirão          3.558034  24.810078     5.673622   4.135013     6.539090   \n",
       "Pinheirinho        2.211751   5.385133    13.270507   6.731416     5.288970   \n",
       "CIC                2.404077   4.231176     6.442927  27.406481     2.692567   \n",
       "Bairro Novo        1.730936   6.635253     4.711992   2.404077     6.827580   \n",
       "Tatuquara          0.384652   0.865468     4.231176   3.942687     1.057794   \n",
       "\n",
       "                  Tatuquara  \n",
       "name_macrozone               \n",
       "Matriz             5.962112  \n",
       "Portão             3.077219  \n",
       "Cajuru             0.673142  \n",
       "Santa Felicidade   0.480815  \n",
       "Boa Vista          0.480815  \n",
       "Boqueirão          0.769305  \n",
       "Pinheirinho        4.231176  \n",
       "CIC                3.558034  \n",
       "Bairro Novo        0.961631  \n",
       "Tatuquara          1.827099  "
      ]
     },
     "execution_count": 22,
     "metadata": {},
     "output_type": "execute_result"
    }
   ],
   "source": [
    "survey_macrozones"
   ]
  },
  {
   "cell_type": "code",
   "execution_count": 23,
   "metadata": {},
   "outputs": [
    {
     "data": {
      "text/html": [
       "<div>\n",
       "<style scoped>\n",
       "    .dataframe tbody tr th:only-of-type {\n",
       "        vertical-align: middle;\n",
       "    }\n",
       "\n",
       "    .dataframe tbody tr th {\n",
       "        vertical-align: top;\n",
       "    }\n",
       "\n",
       "    .dataframe thead th {\n",
       "        text-align: right;\n",
       "    }\n",
       "</style>\n",
       "<table border=\"1\" class=\"dataframe\">\n",
       "  <thead>\n",
       "    <tr style=\"text-align: right;\">\n",
       "      <th></th>\n",
       "      <th>Matriz</th>\n",
       "      <th>Portão</th>\n",
       "      <th>Cajuru</th>\n",
       "      <th>Santa Felicidade</th>\n",
       "      <th>Boa Vista</th>\n",
       "      <th>Boqueirão</th>\n",
       "      <th>Pinheirinho</th>\n",
       "      <th>CIC</th>\n",
       "      <th>Bairro Novo</th>\n",
       "      <th>Tatuquara</th>\n",
       "    </tr>\n",
       "    <tr>\n",
       "      <th>name_macrozone</th>\n",
       "      <th></th>\n",
       "      <th></th>\n",
       "      <th></th>\n",
       "      <th></th>\n",
       "      <th></th>\n",
       "      <th></th>\n",
       "      <th></th>\n",
       "      <th></th>\n",
       "      <th></th>\n",
       "      <th></th>\n",
       "    </tr>\n",
       "  </thead>\n",
       "  <tbody>\n",
       "    <tr>\n",
       "      <th>Matriz</th>\n",
       "      <td>67.41</td>\n",
       "      <td>27.79</td>\n",
       "      <td>33.75</td>\n",
       "      <td>34.91</td>\n",
       "      <td>57.70</td>\n",
       "      <td>20.48</td>\n",
       "      <td>24.14</td>\n",
       "      <td>25.29</td>\n",
       "      <td>13.08</td>\n",
       "      <td>5.96</td>\n",
       "    </tr>\n",
       "    <tr>\n",
       "      <th>Portão</th>\n",
       "      <td>27.98</td>\n",
       "      <td>11.54</td>\n",
       "      <td>3.85</td>\n",
       "      <td>5.58</td>\n",
       "      <td>6.06</td>\n",
       "      <td>5.87</td>\n",
       "      <td>10.29</td>\n",
       "      <td>13.37</td>\n",
       "      <td>6.44</td>\n",
       "      <td>3.08</td>\n",
       "    </tr>\n",
       "    <tr>\n",
       "      <th>Cajuru</th>\n",
       "      <td>33.85</td>\n",
       "      <td>4.04</td>\n",
       "      <td>13.56</td>\n",
       "      <td>3.08</td>\n",
       "      <td>4.33</td>\n",
       "      <td>4.81</td>\n",
       "      <td>1.35</td>\n",
       "      <td>2.79</td>\n",
       "      <td>1.44</td>\n",
       "      <td>0.67</td>\n",
       "    </tr>\n",
       "    <tr>\n",
       "      <th>Santa Felicidade</th>\n",
       "      <td>34.71</td>\n",
       "      <td>5.48</td>\n",
       "      <td>3.17</td>\n",
       "      <td>27.12</td>\n",
       "      <td>4.23</td>\n",
       "      <td>2.12</td>\n",
       "      <td>2.69</td>\n",
       "      <td>8.46</td>\n",
       "      <td>1.92</td>\n",
       "      <td>0.48</td>\n",
       "    </tr>\n",
       "    <tr>\n",
       "      <th>Boa Vista</th>\n",
       "      <td>56.74</td>\n",
       "      <td>6.35</td>\n",
       "      <td>4.71</td>\n",
       "      <td>4.62</td>\n",
       "      <td>31.54</td>\n",
       "      <td>3.08</td>\n",
       "      <td>2.02</td>\n",
       "      <td>1.83</td>\n",
       "      <td>0.96</td>\n",
       "      <td>0.48</td>\n",
       "    </tr>\n",
       "    <tr>\n",
       "      <th>Boqueirão</th>\n",
       "      <td>21.06</td>\n",
       "      <td>6.15</td>\n",
       "      <td>5.00</td>\n",
       "      <td>2.12</td>\n",
       "      <td>3.56</td>\n",
       "      <td>24.81</td>\n",
       "      <td>5.67</td>\n",
       "      <td>4.14</td>\n",
       "      <td>6.54</td>\n",
       "      <td>0.77</td>\n",
       "    </tr>\n",
       "    <tr>\n",
       "      <th>Pinheirinho</th>\n",
       "      <td>25.00</td>\n",
       "      <td>10.67</td>\n",
       "      <td>1.25</td>\n",
       "      <td>2.69</td>\n",
       "      <td>2.21</td>\n",
       "      <td>5.39</td>\n",
       "      <td>13.27</td>\n",
       "      <td>6.73</td>\n",
       "      <td>5.29</td>\n",
       "      <td>4.23</td>\n",
       "    </tr>\n",
       "    <tr>\n",
       "      <th>CIC</th>\n",
       "      <td>25.39</td>\n",
       "      <td>13.46</td>\n",
       "      <td>2.98</td>\n",
       "      <td>8.08</td>\n",
       "      <td>2.40</td>\n",
       "      <td>4.23</td>\n",
       "      <td>6.44</td>\n",
       "      <td>27.41</td>\n",
       "      <td>2.69</td>\n",
       "      <td>3.56</td>\n",
       "    </tr>\n",
       "    <tr>\n",
       "      <th>Bairro Novo</th>\n",
       "      <td>13.75</td>\n",
       "      <td>6.54</td>\n",
       "      <td>1.35</td>\n",
       "      <td>2.12</td>\n",
       "      <td>1.73</td>\n",
       "      <td>6.64</td>\n",
       "      <td>4.71</td>\n",
       "      <td>2.40</td>\n",
       "      <td>6.83</td>\n",
       "      <td>0.96</td>\n",
       "    </tr>\n",
       "    <tr>\n",
       "      <th>Tatuquara</th>\n",
       "      <td>6.15</td>\n",
       "      <td>2.98</td>\n",
       "      <td>0.67</td>\n",
       "      <td>0.48</td>\n",
       "      <td>0.38</td>\n",
       "      <td>0.87</td>\n",
       "      <td>4.23</td>\n",
       "      <td>3.94</td>\n",
       "      <td>1.06</td>\n",
       "      <td>1.83</td>\n",
       "    </tr>\n",
       "  </tbody>\n",
       "</table>\n",
       "</div>"
      ],
      "text/plain": [
       "                  Matriz  Portão  Cajuru  Santa Felicidade  Boa Vista  \\\n",
       "name_macrozone                                                          \n",
       "Matriz             67.41   27.79   33.75             34.91      57.70   \n",
       "Portão             27.98   11.54    3.85              5.58       6.06   \n",
       "Cajuru             33.85    4.04   13.56              3.08       4.33   \n",
       "Santa Felicidade   34.71    5.48    3.17             27.12       4.23   \n",
       "Boa Vista          56.74    6.35    4.71              4.62      31.54   \n",
       "Boqueirão          21.06    6.15    5.00              2.12       3.56   \n",
       "Pinheirinho        25.00   10.67    1.25              2.69       2.21   \n",
       "CIC                25.39   13.46    2.98              8.08       2.40   \n",
       "Bairro Novo        13.75    6.54    1.35              2.12       1.73   \n",
       "Tatuquara           6.15    2.98    0.67              0.48       0.38   \n",
       "\n",
       "                  Boqueirão  Pinheirinho    CIC  Bairro Novo  Tatuquara  \n",
       "name_macrozone                                                           \n",
       "Matriz                20.48        24.14  25.29        13.08       5.96  \n",
       "Portão                 5.87        10.29  13.37         6.44       3.08  \n",
       "Cajuru                 4.81         1.35   2.79         1.44       0.67  \n",
       "Santa Felicidade       2.12         2.69   8.46         1.92       0.48  \n",
       "Boa Vista              3.08         2.02   1.83         0.96       0.48  \n",
       "Boqueirão             24.81         5.67   4.14         6.54       0.77  \n",
       "Pinheirinho            5.39        13.27   6.73         5.29       4.23  \n",
       "CIC                    4.23         6.44  27.41         2.69       3.56  \n",
       "Bairro Novo            6.64         4.71   2.40         6.83       0.96  \n",
       "Tatuquara              0.87         4.23   3.94         1.06       1.83  "
      ]
     },
     "execution_count": 23,
     "metadata": {},
     "output_type": "execute_result"
    }
   ],
   "source": [
    "np.round(survey_macrozones,2)"
   ]
  },
  {
   "cell_type": "code",
   "execution_count": 24,
   "metadata": {},
   "outputs": [
    {
     "data": {
      "text/plain": [
       "(0.38465237042023265, 67.41032791614577)"
      ]
     },
     "execution_count": 24,
     "metadata": {},
     "output_type": "execute_result"
    }
   ],
   "source": [
    "np.min(survey_macrozones.values),np.max(survey_macrozones.values)"
   ]
  },
  {
   "cell_type": "code",
   "execution_count": 25,
   "metadata": {},
   "outputs": [
    {
     "data": {
      "image/png": "[encoded data removed]",
      "text/plain": [
       "<Figure size 432x288 with 2 Axes>"
      ]
     },
     "metadata": {
      "needs_background": "light"
     },
     "output_type": "display_data"
    }
   ],
   "source": [
    "survey_macrozones_heatmap = build_heatmap_from_od_matrix(survey_macrozones,\n",
    "                                                                                 color_map=green_cmap,\n",
    "                                                                                 center_val=40.0,min_val=0.0,max_val=80.0,\n",
    "                                                                                 color_label='Proportion of Trips (no. trips per 1000 trips)')"
   ]
  },
  {
   "cell_type": "code",
   "execution_count": 26,
   "metadata": {},
   "outputs": [],
   "source": [
    "survey_macrozones_heatmap.get_figure().savefig('/local/tarciso/data/od-mat-validation/heatmaps/od-matrices/survey_macrozones_heatmap.png', bbox_inches='tight')"
   ]
  },
  {
   "cell_type": "markdown",
   "metadata": {},
   "source": [
    "### Inferred Trip Traces"
   ]
  },
  {
   "cell_type": "code",
   "execution_count": 27,
   "metadata": {},
   "outputs": [],
   "source": [
    "all_est_trips_macrozones = 1000*pd.read_csv('/local/tarciso/data/od-mat-validation/od-matrices/all_est_macrozones_norm_freqs.csv', index_col=0)"
   ]
  },
  {
   "cell_type": "code",
   "execution_count": 28,
   "metadata": {},
   "outputs": [
    {
     "data": {
      "text/html": [
       "<div>\n",
       "<style scoped>\n",
       "    .dataframe tbody tr th:only-of-type {\n",
       "        vertical-align: middle;\n",
       "    }\n",
       "\n",
       "    .dataframe tbody tr th {\n",
       "        vertical-align: top;\n",
       "    }\n",
       "\n",
       "    .dataframe thead th {\n",
       "        text-align: right;\n",
       "    }\n",
       "</style>\n",
       "<table border=\"1\" class=\"dataframe\">\n",
       "  <thead>\n",
       "    <tr style=\"text-align: right;\">\n",
       "      <th></th>\n",
       "      <th>Matriz</th>\n",
       "      <th>Portão</th>\n",
       "      <th>Cajuru</th>\n",
       "      <th>Santa Felicidade</th>\n",
       "      <th>Boa Vista</th>\n",
       "      <th>Boqueirão</th>\n",
       "      <th>Pinheirinho</th>\n",
       "      <th>CIC</th>\n",
       "      <th>Bairro Novo</th>\n",
       "      <th>Tatuquara</th>\n",
       "    </tr>\n",
       "    <tr>\n",
       "      <th>name_macrozone</th>\n",
       "      <th></th>\n",
       "      <th></th>\n",
       "      <th></th>\n",
       "      <th></th>\n",
       "      <th></th>\n",
       "      <th></th>\n",
       "      <th></th>\n",
       "      <th></th>\n",
       "      <th></th>\n",
       "      <th></th>\n",
       "    </tr>\n",
       "  </thead>\n",
       "  <tbody>\n",
       "    <tr>\n",
       "      <th>Matriz</th>\n",
       "      <td>77.042177</td>\n",
       "      <td>33.668920</td>\n",
       "      <td>35.253706</td>\n",
       "      <td>19.718148</td>\n",
       "      <td>36.599154</td>\n",
       "      <td>40.403710</td>\n",
       "      <td>14.217786</td>\n",
       "      <td>15.671424</td>\n",
       "      <td>10.819255</td>\n",
       "      <td>3.519615</td>\n",
       "    </tr>\n",
       "    <tr>\n",
       "      <th>Portão</th>\n",
       "      <td>35.482036</td>\n",
       "      <td>17.617889</td>\n",
       "      <td>6.188811</td>\n",
       "      <td>5.764231</td>\n",
       "      <td>3.891359</td>\n",
       "      <td>12.507827</td>\n",
       "      <td>13.924354</td>\n",
       "      <td>15.427054</td>\n",
       "      <td>7.426385</td>\n",
       "      <td>4.893054</td>\n",
       "    </tr>\n",
       "    <tr>\n",
       "      <th>Cajuru</th>\n",
       "      <td>48.660386</td>\n",
       "      <td>5.917080</td>\n",
       "      <td>13.707031</td>\n",
       "      <td>2.595917</td>\n",
       "      <td>4.688941</td>\n",
       "      <td>8.733464</td>\n",
       "      <td>3.242537</td>\n",
       "      <td>2.586796</td>\n",
       "      <td>1.515281</td>\n",
       "      <td>0.521133</td>\n",
       "    </tr>\n",
       "    <tr>\n",
       "      <th>Santa Felicidade</th>\n",
       "      <td>30.971418</td>\n",
       "      <td>4.521311</td>\n",
       "      <td>1.211155</td>\n",
       "      <td>11.527518</td>\n",
       "      <td>2.732411</td>\n",
       "      <td>0.965213</td>\n",
       "      <td>1.517797</td>\n",
       "      <td>4.963189</td>\n",
       "      <td>0.453829</td>\n",
       "      <td>0.369542</td>\n",
       "    </tr>\n",
       "    <tr>\n",
       "      <th>Boa Vista</th>\n",
       "      <td>47.416836</td>\n",
       "      <td>3.928785</td>\n",
       "      <td>4.505900</td>\n",
       "      <td>3.630635</td>\n",
       "      <td>16.286279</td>\n",
       "      <td>1.994585</td>\n",
       "      <td>1.328151</td>\n",
       "      <td>1.510249</td>\n",
       "      <td>0.413887</td>\n",
       "      <td>0.213548</td>\n",
       "    </tr>\n",
       "    <tr>\n",
       "      <th>Boqueirão</th>\n",
       "      <td>48.024458</td>\n",
       "      <td>10.702574</td>\n",
       "      <td>8.594767</td>\n",
       "      <td>1.839220</td>\n",
       "      <td>2.484268</td>\n",
       "      <td>22.816013</td>\n",
       "      <td>8.257619</td>\n",
       "      <td>4.298956</td>\n",
       "      <td>6.992998</td>\n",
       "      <td>1.956844</td>\n",
       "    </tr>\n",
       "    <tr>\n",
       "      <th>Pinheirinho</th>\n",
       "      <td>24.080319</td>\n",
       "      <td>12.588340</td>\n",
       "      <td>3.183410</td>\n",
       "      <td>2.430802</td>\n",
       "      <td>1.315256</td>\n",
       "      <td>8.418016</td>\n",
       "      <td>9.500225</td>\n",
       "      <td>7.828321</td>\n",
       "      <td>5.541876</td>\n",
       "      <td>5.323925</td>\n",
       "    </tr>\n",
       "    <tr>\n",
       "      <th>CIC</th>\n",
       "      <td>26.880664</td>\n",
       "      <td>15.371387</td>\n",
       "      <td>1.866896</td>\n",
       "      <td>5.640631</td>\n",
       "      <td>1.249525</td>\n",
       "      <td>3.680641</td>\n",
       "      <td>6.859334</td>\n",
       "      <td>15.082358</td>\n",
       "      <td>2.497477</td>\n",
       "      <td>3.599814</td>\n",
       "    </tr>\n",
       "    <tr>\n",
       "      <th>Bairro Novo</th>\n",
       "      <td>21.596995</td>\n",
       "      <td>7.967961</td>\n",
       "      <td>1.481943</td>\n",
       "      <td>1.009244</td>\n",
       "      <td>0.596929</td>\n",
       "      <td>7.201829</td>\n",
       "      <td>6.043825</td>\n",
       "      <td>2.739645</td>\n",
       "      <td>4.056474</td>\n",
       "      <td>0.855451</td>\n",
       "    </tr>\n",
       "    <tr>\n",
       "      <th>Tatuquara</th>\n",
       "      <td>6.906824</td>\n",
       "      <td>4.643967</td>\n",
       "      <td>0.400993</td>\n",
       "      <td>0.659515</td>\n",
       "      <td>0.261982</td>\n",
       "      <td>1.450493</td>\n",
       "      <td>4.579808</td>\n",
       "      <td>3.677182</td>\n",
       "      <td>0.796639</td>\n",
       "      <td>1.497668</td>\n",
       "    </tr>\n",
       "  </tbody>\n",
       "</table>\n",
       "</div>"
      ],
      "text/plain": [
       "                     Matriz     Portão     Cajuru  Santa Felicidade  \\\n",
       "name_macrozone                                                        \n",
       "Matriz            77.042177  33.668920  35.253706         19.718148   \n",
       "Portão            35.482036  17.617889   6.188811          5.764231   \n",
       "Cajuru            48.660386   5.917080  13.707031          2.595917   \n",
       "Santa Felicidade  30.971418   4.521311   1.211155         11.527518   \n",
       "Boa Vista         47.416836   3.928785   4.505900          3.630635   \n",
       "Boqueirão         48.024458  10.702574   8.594767          1.839220   \n",
       "Pinheirinho       24.080319  12.588340   3.183410          2.430802   \n",
       "CIC               26.880664  15.371387   1.866896          5.640631   \n",
       "Bairro Novo       21.596995   7.967961   1.481943          1.009244   \n",
       "Tatuquara          6.906824   4.643967   0.400993          0.659515   \n",
       "\n",
       "                  Boa Vista  Boqueirão  Pinheirinho        CIC  Bairro Novo  \\\n",
       "name_macrozone                                                                \n",
       "Matriz            36.599154  40.403710    14.217786  15.671424    10.819255   \n",
       "Portão             3.891359  12.507827    13.924354  15.427054     7.426385   \n",
       "Cajuru             4.688941   8.733464     3.242537   2.586796     1.515281   \n",
       "Santa Felicidade   2.732411   0.965213     1.517797   4.963189     0.453829   \n",
       "Boa Vista         16.286279   1.994585     1.328151   1.510249     0.413887   \n",
       "Boqueirão          2.484268  22.816013     8.257619   4.298956     6.992998   \n",
       "Pinheirinho        1.315256   8.418016     9.500225   7.828321     5.541876   \n",
       "CIC                1.249525   3.680641     6.859334  15.082358     2.497477   \n",
       "Bairro Novo        0.596929   7.201829     6.043825   2.739645     4.056474   \n",
       "Tatuquara          0.261982   1.450493     4.579808   3.677182     0.796639   \n",
       "\n",
       "                  Tatuquara  \n",
       "name_macrozone               \n",
       "Matriz             3.519615  \n",
       "Portão             4.893054  \n",
       "Cajuru             0.521133  \n",
       "Santa Felicidade   0.369542  \n",
       "Boa Vista          0.213548  \n",
       "Boqueirão          1.956844  \n",
       "Pinheirinho        5.323925  \n",
       "CIC                3.599814  \n",
       "Bairro Novo        0.855451  \n",
       "Tatuquara          1.497668  "
      ]
     },
     "execution_count": 28,
     "metadata": {},
     "output_type": "execute_result"
    }
   ],
   "source": [
    "all_est_trips_macrozones"
   ]
  },
  {
   "cell_type": "code",
   "execution_count": 29,
   "metadata": {},
   "outputs": [
    {
     "data": {
      "text/plain": [
       "77.04217719851718"
      ]
     },
     "execution_count": 29,
     "metadata": {},
     "output_type": "execute_result"
    }
   ],
   "source": [
    "np.max(all_est_trips_macrozones.values)"
   ]
  },
  {
   "cell_type": "code",
   "execution_count": 30,
   "metadata": {
    "scrolled": true
   },
   "outputs": [
    {
     "data": {
      "image/png": "[encoded data removed]",
      "text/plain": [
       "<Figure size 432x288 with 2 Axes>"
      ]
     },
     "metadata": {
      "needs_background": "light"
     },
     "output_type": "display_data"
    }
   ],
   "source": [
    "all_est_trips_macrozones_heatmap = build_heatmap_from_od_matrix(all_est_trips_macrozones,\n",
    "                                                                                 color_map=green_cmap,\n",
    "                                                                                 center_val=40.0,min_val=0.0,max_val=80.0,\n",
    "                                                                                 color_label='Proportion of Trips (no. trips per 1000 trips)')"
   ]
  },
  {
   "cell_type": "code",
   "execution_count": 31,
   "metadata": {},
   "outputs": [],
   "source": [
    "all_est_trips_macrozones_heatmap.get_figure().savefig('/local/tarciso/data/od-mat-validation/heatmaps/od-matrices/all_est_trips_macrozones_heatmap.png', bbox_inches='tight')"
   ]
  },
  {
   "cell_type": "markdown",
   "metadata": {},
   "source": [
    "### Weekday Inferred Trip Traces"
   ]
  },
  {
   "cell_type": "code",
   "execution_count": 32,
   "metadata": {},
   "outputs": [],
   "source": [
    "wday_est_trips_macrozones = 1000*pd.read_csv('/local/tarciso/data/od-mat-validation/od-matrices/wday_est_macrozones_norm_freqs.csv', index_col=0)"
   ]
  },
  {
   "cell_type": "code",
   "execution_count": 33,
   "metadata": {
    "scrolled": true
   },
   "outputs": [
    {
     "data": {
      "text/html": [
       "<div>\n",
       "<style scoped>\n",
       "    .dataframe tbody tr th:only-of-type {\n",
       "        vertical-align: middle;\n",
       "    }\n",
       "\n",
       "    .dataframe tbody tr th {\n",
       "        vertical-align: top;\n",
       "    }\n",
       "\n",
       "    .dataframe thead th {\n",
       "        text-align: right;\n",
       "    }\n",
       "</style>\n",
       "<table border=\"1\" class=\"dataframe\">\n",
       "  <thead>\n",
       "    <tr style=\"text-align: right;\">\n",
       "      <th></th>\n",
       "      <th>Matriz</th>\n",
       "      <th>Portão</th>\n",
       "      <th>Cajuru</th>\n",
       "      <th>Santa Felicidade</th>\n",
       "      <th>Boa Vista</th>\n",
       "      <th>Boqueirão</th>\n",
       "      <th>Pinheirinho</th>\n",
       "      <th>CIC</th>\n",
       "      <th>Bairro Novo</th>\n",
       "      <th>Tatuquara</th>\n",
       "    </tr>\n",
       "    <tr>\n",
       "      <th>name_macrozone</th>\n",
       "      <th></th>\n",
       "      <th></th>\n",
       "      <th></th>\n",
       "      <th></th>\n",
       "      <th></th>\n",
       "      <th></th>\n",
       "      <th></th>\n",
       "      <th></th>\n",
       "      <th></th>\n",
       "      <th></th>\n",
       "    </tr>\n",
       "  </thead>\n",
       "  <tbody>\n",
       "    <tr>\n",
       "      <th>Matriz</th>\n",
       "      <td>76.926526</td>\n",
       "      <td>33.806858</td>\n",
       "      <td>35.398468</td>\n",
       "      <td>19.799116</td>\n",
       "      <td>36.749441</td>\n",
       "      <td>38.768953</td>\n",
       "      <td>14.276168</td>\n",
       "      <td>15.735775</td>\n",
       "      <td>10.863682</td>\n",
       "      <td>3.534068</td>\n",
       "    </tr>\n",
       "    <tr>\n",
       "      <th>Portão</th>\n",
       "      <td>35.420573</td>\n",
       "      <td>17.690234</td>\n",
       "      <td>6.214224</td>\n",
       "      <td>5.787900</td>\n",
       "      <td>3.907338</td>\n",
       "      <td>12.559188</td>\n",
       "      <td>13.981531</td>\n",
       "      <td>15.490402</td>\n",
       "      <td>7.456880</td>\n",
       "      <td>4.913147</td>\n",
       "    </tr>\n",
       "    <tr>\n",
       "      <th>Cajuru</th>\n",
       "      <td>48.860199</td>\n",
       "      <td>5.941377</td>\n",
       "      <td>13.763316</td>\n",
       "      <td>2.606576</td>\n",
       "      <td>4.708195</td>\n",
       "      <td>8.769326</td>\n",
       "      <td>3.255852</td>\n",
       "      <td>2.597418</td>\n",
       "      <td>1.521503</td>\n",
       "      <td>0.523273</td>\n",
       "    </tr>\n",
       "    <tr>\n",
       "      <th>Santa Felicidade</th>\n",
       "      <td>31.098596</td>\n",
       "      <td>4.539876</td>\n",
       "      <td>1.216129</td>\n",
       "      <td>11.574853</td>\n",
       "      <td>2.743632</td>\n",
       "      <td>0.969176</td>\n",
       "      <td>1.524029</td>\n",
       "      <td>4.983569</td>\n",
       "      <td>0.455693</td>\n",
       "      <td>0.371060</td>\n",
       "    </tr>\n",
       "    <tr>\n",
       "      <th>Boa Vista</th>\n",
       "      <td>47.611544</td>\n",
       "      <td>3.944918</td>\n",
       "      <td>4.524402</td>\n",
       "      <td>3.645544</td>\n",
       "      <td>16.353155</td>\n",
       "      <td>2.002775</td>\n",
       "      <td>1.333604</td>\n",
       "      <td>1.516450</td>\n",
       "      <td>0.415587</td>\n",
       "      <td>0.214425</td>\n",
       "    </tr>\n",
       "    <tr>\n",
       "      <th>Boqueirão</th>\n",
       "      <td>47.110692</td>\n",
       "      <td>10.647993</td>\n",
       "      <td>8.630060</td>\n",
       "      <td>1.846772</td>\n",
       "      <td>2.494469</td>\n",
       "      <td>22.460325</td>\n",
       "      <td>8.291527</td>\n",
       "      <td>4.316609</td>\n",
       "      <td>7.021713</td>\n",
       "      <td>1.964880</td>\n",
       "    </tr>\n",
       "    <tr>\n",
       "      <th>Pinheirinho</th>\n",
       "      <td>24.179200</td>\n",
       "      <td>12.640032</td>\n",
       "      <td>3.196482</td>\n",
       "      <td>2.440784</td>\n",
       "      <td>1.320657</td>\n",
       "      <td>8.452583</td>\n",
       "      <td>9.539235</td>\n",
       "      <td>7.860466</td>\n",
       "      <td>5.564633</td>\n",
       "      <td>5.345787</td>\n",
       "    </tr>\n",
       "    <tr>\n",
       "      <th>CIC</th>\n",
       "      <td>26.991043</td>\n",
       "      <td>15.434506</td>\n",
       "      <td>1.874562</td>\n",
       "      <td>5.663793</td>\n",
       "      <td>1.254656</td>\n",
       "      <td>3.695755</td>\n",
       "      <td>6.887500</td>\n",
       "      <td>15.144290</td>\n",
       "      <td>2.507732</td>\n",
       "      <td>3.614596</td>\n",
       "    </tr>\n",
       "    <tr>\n",
       "      <th>Bairro Novo</th>\n",
       "      <td>21.685679</td>\n",
       "      <td>8.000680</td>\n",
       "      <td>1.488029</td>\n",
       "      <td>1.013388</td>\n",
       "      <td>0.599380</td>\n",
       "      <td>7.231402</td>\n",
       "      <td>6.068643</td>\n",
       "      <td>2.750895</td>\n",
       "      <td>4.065867</td>\n",
       "      <td>0.858964</td>\n",
       "    </tr>\n",
       "    <tr>\n",
       "      <th>Tatuquara</th>\n",
       "      <td>6.935185</td>\n",
       "      <td>4.663037</td>\n",
       "      <td>0.402639</td>\n",
       "      <td>0.662223</td>\n",
       "      <td>0.263058</td>\n",
       "      <td>1.456449</td>\n",
       "      <td>4.598614</td>\n",
       "      <td>3.692281</td>\n",
       "      <td>0.799910</td>\n",
       "      <td>1.503818</td>\n",
       "    </tr>\n",
       "  </tbody>\n",
       "</table>\n",
       "</div>"
      ],
      "text/plain": [
       "                     Matriz     Portão     Cajuru  Santa Felicidade  \\\n",
       "name_macrozone                                                        \n",
       "Matriz            76.926526  33.806858  35.398468         19.799116   \n",
       "Portão            35.420573  17.690234   6.214224          5.787900   \n",
       "Cajuru            48.860199   5.941377  13.763316          2.606576   \n",
       "Santa Felicidade  31.098596   4.539876   1.216129         11.574853   \n",
       "Boa Vista         47.611544   3.944918   4.524402          3.645544   \n",
       "Boqueirão         47.110692  10.647993   8.630060          1.846772   \n",
       "Pinheirinho       24.179200  12.640032   3.196482          2.440784   \n",
       "CIC               26.991043  15.434506   1.874562          5.663793   \n",
       "Bairro Novo       21.685679   8.000680   1.488029          1.013388   \n",
       "Tatuquara          6.935185   4.663037   0.402639          0.662223   \n",
       "\n",
       "                  Boa Vista  Boqueirão  Pinheirinho        CIC  Bairro Novo  \\\n",
       "name_macrozone                                                                \n",
       "Matriz            36.749441  38.768953    14.276168  15.735775    10.863682   \n",
       "Portão             3.907338  12.559188    13.981531  15.490402     7.456880   \n",
       "Cajuru             4.708195   8.769326     3.255852   2.597418     1.521503   \n",
       "Santa Felicidade   2.743632   0.969176     1.524029   4.983569     0.455693   \n",
       "Boa Vista         16.353155   2.002775     1.333604   1.516450     0.415587   \n",
       "Boqueirão          2.494469  22.460325     8.291527   4.316609     7.021713   \n",
       "Pinheirinho        1.320657   8.452583     9.539235   7.860466     5.564633   \n",
       "CIC                1.254656   3.695755     6.887500  15.144290     2.507732   \n",
       "Bairro Novo        0.599380   7.231402     6.068643   2.750895     4.065867   \n",
       "Tatuquara          0.263058   1.456449     4.598614   3.692281     0.799910   \n",
       "\n",
       "                  Tatuquara  \n",
       "name_macrozone               \n",
       "Matriz             3.534068  \n",
       "Portão             4.913147  \n",
       "Cajuru             0.523273  \n",
       "Santa Felicidade   0.371060  \n",
       "Boa Vista          0.214425  \n",
       "Boqueirão          1.964880  \n",
       "Pinheirinho        5.345787  \n",
       "CIC                3.614596  \n",
       "Bairro Novo        0.858964  \n",
       "Tatuquara          1.503818  "
      ]
     },
     "execution_count": 33,
     "metadata": {},
     "output_type": "execute_result"
    }
   ],
   "source": [
    "wday_est_trips_macrozones"
   ]
  },
  {
   "cell_type": "code",
   "execution_count": 34,
   "metadata": {
    "scrolled": true
   },
   "outputs": [
    {
     "data": {
      "text/plain": [
       "76.92652638187384"
      ]
     },
     "execution_count": 34,
     "metadata": {},
     "output_type": "execute_result"
    }
   ],
   "source": [
    "np.max(wday_est_trips_macrozones.values)"
   ]
  },
  {
   "cell_type": "code",
   "execution_count": 35,
   "metadata": {
    "scrolled": true
   },
   "outputs": [
    {
     "data": {
      "image/png": "[encoded data removed]",
      "text/plain": [
       "<Figure size 432x288 with 2 Axes>"
      ]
     },
     "metadata": {
      "needs_background": "light"
     },
     "output_type": "display_data"
    }
   ],
   "source": [
    "wday_est_trips_macrozones_heatmap = build_heatmap_from_od_matrix(wday_est_trips_macrozones,\n",
    "                                                                                 color_map=green_cmap,\n",
    "                                                                                 center_val=40.0,min_val=0.0,max_val=80.0,\n",
    "                                                                                 color_label='Proportion of Trips (no. trips per 1000 trips)')"
   ]
  },
  {
   "cell_type": "code",
   "execution_count": 36,
   "metadata": {},
   "outputs": [],
   "source": [
    "wday_est_trips_macrozones_heatmap.get_figure().savefig('/local/tarciso/data/od-mat-validation/heatmaps/od-matrices/wday_est_trips_macrozones_heatmap.png', bbox_inches='tight')"
   ]
  },
  {
   "cell_type": "markdown",
   "metadata": {},
   "source": [
    "### May Inferred Trip Traces"
   ]
  },
  {
   "cell_type": "code",
   "execution_count": 37,
   "metadata": {},
   "outputs": [],
   "source": [
    "may_est_trips_macrozones = 1000*pd.read_csv('/local/tarciso/data/od-mat-validation/od-matrices/may_est_macrozones_norm_freqs.csv', index_col=0)"
   ]
  },
  {
   "cell_type": "code",
   "execution_count": 38,
   "metadata": {
    "scrolled": false
   },
   "outputs": [
    {
     "data": {
      "text/html": [
       "<div>\n",
       "<style scoped>\n",
       "    .dataframe tbody tr th:only-of-type {\n",
       "        vertical-align: middle;\n",
       "    }\n",
       "\n",
       "    .dataframe tbody tr th {\n",
       "        vertical-align: top;\n",
       "    }\n",
       "\n",
       "    .dataframe thead th {\n",
       "        text-align: right;\n",
       "    }\n",
       "</style>\n",
       "<table border=\"1\" class=\"dataframe\">\n",
       "  <thead>\n",
       "    <tr style=\"text-align: right;\">\n",
       "      <th></th>\n",
       "      <th>Matriz</th>\n",
       "      <th>Portão</th>\n",
       "      <th>Cajuru</th>\n",
       "      <th>Santa Felicidade</th>\n",
       "      <th>Boa Vista</th>\n",
       "      <th>Boqueirão</th>\n",
       "      <th>Pinheirinho</th>\n",
       "      <th>CIC</th>\n",
       "      <th>Bairro Novo</th>\n",
       "      <th>Tatuquara</th>\n",
       "    </tr>\n",
       "    <tr>\n",
       "      <th>name_macrozone</th>\n",
       "      <th></th>\n",
       "      <th></th>\n",
       "      <th></th>\n",
       "      <th></th>\n",
       "      <th></th>\n",
       "      <th></th>\n",
       "      <th></th>\n",
       "      <th></th>\n",
       "      <th></th>\n",
       "      <th></th>\n",
       "    </tr>\n",
       "  </thead>\n",
       "  <tbody>\n",
       "    <tr>\n",
       "      <th>Matriz</th>\n",
       "      <td>75.474149</td>\n",
       "      <td>32.267986</td>\n",
       "      <td>36.138210</td>\n",
       "      <td>17.347690</td>\n",
       "      <td>36.791026</td>\n",
       "      <td>38.931654</td>\n",
       "      <td>15.385870</td>\n",
       "      <td>15.452220</td>\n",
       "      <td>11.271613</td>\n",
       "      <td>3.907335</td>\n",
       "    </tr>\n",
       "    <tr>\n",
       "      <th>Portão</th>\n",
       "      <td>34.562119</td>\n",
       "      <td>17.724985</td>\n",
       "      <td>6.211589</td>\n",
       "      <td>5.311367</td>\n",
       "      <td>3.667801</td>\n",
       "      <td>11.872698</td>\n",
       "      <td>14.268605</td>\n",
       "      <td>15.305463</td>\n",
       "      <td>7.678597</td>\n",
       "      <td>5.182603</td>\n",
       "    </tr>\n",
       "    <tr>\n",
       "      <th>Cajuru</th>\n",
       "      <td>48.188029</td>\n",
       "      <td>6.097444</td>\n",
       "      <td>14.500267</td>\n",
       "      <td>2.398156</td>\n",
       "      <td>4.668672</td>\n",
       "      <td>8.966797</td>\n",
       "      <td>3.494616</td>\n",
       "      <td>2.675363</td>\n",
       "      <td>1.645253</td>\n",
       "      <td>0.583092</td>\n",
       "    </tr>\n",
       "    <tr>\n",
       "      <th>Santa Felicidade</th>\n",
       "      <td>26.491608</td>\n",
       "      <td>4.321741</td>\n",
       "      <td>1.219039</td>\n",
       "      <td>10.031207</td>\n",
       "      <td>2.281200</td>\n",
       "      <td>0.901347</td>\n",
       "      <td>1.495684</td>\n",
       "      <td>4.472996</td>\n",
       "      <td>0.476820</td>\n",
       "      <td>0.400349</td>\n",
       "    </tr>\n",
       "    <tr>\n",
       "      <th>Boa Vista</th>\n",
       "      <td>47.368214</td>\n",
       "      <td>3.871911</td>\n",
       "      <td>4.642245</td>\n",
       "      <td>3.188732</td>\n",
       "      <td>16.439034</td>\n",
       "      <td>1.960696</td>\n",
       "      <td>1.357362</td>\n",
       "      <td>1.504119</td>\n",
       "      <td>0.428463</td>\n",
       "      <td>0.226040</td>\n",
       "    </tr>\n",
       "    <tr>\n",
       "      <th>Boqueirão</th>\n",
       "      <td>47.741010</td>\n",
       "      <td>10.993843</td>\n",
       "      <td>8.726700</td>\n",
       "      <td>1.686862</td>\n",
       "      <td>2.313813</td>\n",
       "      <td>23.300065</td>\n",
       "      <td>8.433748</td>\n",
       "      <td>4.370098</td>\n",
       "      <td>7.130366</td>\n",
       "      <td>2.119823</td>\n",
       "    </tr>\n",
       "    <tr>\n",
       "      <th>Pinheirinho</th>\n",
       "      <td>25.042593</td>\n",
       "      <td>12.511457</td>\n",
       "      <td>3.339987</td>\n",
       "      <td>2.343614</td>\n",
       "      <td>1.276955</td>\n",
       "      <td>8.120554</td>\n",
       "      <td>9.881076</td>\n",
       "      <td>7.963676</td>\n",
       "      <td>5.695971</td>\n",
       "      <td>5.642554</td>\n",
       "    </tr>\n",
       "    <tr>\n",
       "      <th>CIC</th>\n",
       "      <td>27.146673</td>\n",
       "      <td>15.721555</td>\n",
       "      <td>2.010177</td>\n",
       "      <td>5.458124</td>\n",
       "      <td>1.264022</td>\n",
       "      <td>3.898338</td>\n",
       "      <td>7.168602</td>\n",
       "      <td>15.803087</td>\n",
       "      <td>2.706851</td>\n",
       "      <td>3.895527</td>\n",
       "    </tr>\n",
       "    <tr>\n",
       "      <th>Bairro Novo</th>\n",
       "      <td>23.264641</td>\n",
       "      <td>8.493351</td>\n",
       "      <td>1.668869</td>\n",
       "      <td>1.086902</td>\n",
       "      <td>0.629200</td>\n",
       "      <td>7.662290</td>\n",
       "      <td>6.370154</td>\n",
       "      <td>2.927268</td>\n",
       "      <td>4.302623</td>\n",
       "      <td>0.941269</td>\n",
       "    </tr>\n",
       "    <tr>\n",
       "      <th>Tatuquara</th>\n",
       "      <td>7.868087</td>\n",
       "      <td>5.189350</td>\n",
       "      <td>0.469510</td>\n",
       "      <td>0.757963</td>\n",
       "      <td>0.294639</td>\n",
       "      <td>1.632320</td>\n",
       "      <td>5.112879</td>\n",
       "      <td>4.090078</td>\n",
       "      <td>0.897973</td>\n",
       "      <td>1.582839</td>\n",
       "    </tr>\n",
       "  </tbody>\n",
       "</table>\n",
       "</div>"
      ],
      "text/plain": [
       "                     Matriz     Portão     Cajuru  Santa Felicidade  \\\n",
       "name_macrozone                                                        \n",
       "Matriz            75.474149  32.267986  36.138210         17.347690   \n",
       "Portão            34.562119  17.724985   6.211589          5.311367   \n",
       "Cajuru            48.188029   6.097444  14.500267          2.398156   \n",
       "Santa Felicidade  26.491608   4.321741   1.219039         10.031207   \n",
       "Boa Vista         47.368214   3.871911   4.642245          3.188732   \n",
       "Boqueirão         47.741010  10.993843   8.726700          1.686862   \n",
       "Pinheirinho       25.042593  12.511457   3.339987          2.343614   \n",
       "CIC               27.146673  15.721555   2.010177          5.458124   \n",
       "Bairro Novo       23.264641   8.493351   1.668869          1.086902   \n",
       "Tatuquara          7.868087   5.189350   0.469510          0.757963   \n",
       "\n",
       "                  Boa Vista  Boqueirão  Pinheirinho        CIC  Bairro Novo  \\\n",
       "name_macrozone                                                                \n",
       "Matriz            36.791026  38.931654    15.385870  15.452220    11.271613   \n",
       "Portão             3.667801  11.872698    14.268605  15.305463     7.678597   \n",
       "Cajuru             4.668672   8.966797     3.494616   2.675363     1.645253   \n",
       "Santa Felicidade   2.281200   0.901347     1.495684   4.472996     0.476820   \n",
       "Boa Vista         16.439034   1.960696     1.357362   1.504119     0.428463   \n",
       "Boqueirão          2.313813  23.300065     8.433748   4.370098     7.130366   \n",
       "Pinheirinho        1.276955   8.120554     9.881076   7.963676     5.695971   \n",
       "CIC                1.264022   3.898338     7.168602  15.803087     2.706851   \n",
       "Bairro Novo        0.629200   7.662290     6.370154   2.927268     4.302623   \n",
       "Tatuquara          0.294639   1.632320     5.112879   4.090078     0.897973   \n",
       "\n",
       "                  Tatuquara  \n",
       "name_macrozone               \n",
       "Matriz             3.907335  \n",
       "Portão             5.182603  \n",
       "Cajuru             0.583092  \n",
       "Santa Felicidade   0.400349  \n",
       "Boa Vista          0.226040  \n",
       "Boqueirão          2.119823  \n",
       "Pinheirinho        5.642554  \n",
       "CIC                3.895527  \n",
       "Bairro Novo        0.941269  \n",
       "Tatuquara          1.582839  "
      ]
     },
     "execution_count": 38,
     "metadata": {},
     "output_type": "execute_result"
    }
   ],
   "source": [
    "may_est_trips_macrozones"
   ]
  },
  {
   "cell_type": "code",
   "execution_count": 39,
   "metadata": {
    "scrolled": true
   },
   "outputs": [
    {
     "data": {
      "text/plain": [
       "75.47414883747082"
      ]
     },
     "execution_count": 39,
     "metadata": {},
     "output_type": "execute_result"
    }
   ],
   "source": [
    "np.max(may_est_trips_macrozones.values)"
   ]
  },
  {
   "cell_type": "code",
   "execution_count": 40,
   "metadata": {
    "scrolled": true
   },
   "outputs": [
    {
     "data": {
      "image/png": "[encoded data removed]",
      "text/plain": [
       "<Figure size 432x288 with 2 Axes>"
      ]
     },
     "metadata": {
      "needs_background": "light"
     },
     "output_type": "display_data"
    }
   ],
   "source": [
    "may_est_trips_macrozones_heatmap = build_heatmap_from_od_matrix(may_est_trips_macrozones,\n",
    "                                                                                 color_map=green_cmap,\n",
    "                                                                                 center_val=40.0,min_val=0.0,max_val=80.0,\n",
    "                                                                                 color_label='Proportion of Trips (no. trips per 1000 trips)')"
   ]
  },
  {
   "cell_type": "code",
   "execution_count": 41,
   "metadata": {},
   "outputs": [],
   "source": [
    "may_est_trips_macrozones_heatmap.get_figure().savefig('/local/tarciso/data/od-mat-validation/heatmaps/od-matrices/may_est_trips_macrozones_heatmap.png', bbox_inches='tight')"
   ]
  },
  {
   "cell_type": "markdown",
   "metadata": {},
   "source": [
    "## Visualize Differences"
   ]
  },
  {
   "cell_type": "markdown",
   "metadata": {},
   "source": [
    "#### Creating a Divergent Scale Palette"
   ]
  },
  {
   "cell_type": "markdown",
   "metadata": {},
   "source": [
    "#### Naive Population Proportion Baseline - Survey "
   ]
  },
  {
   "cell_type": "code",
   "execution_count": 42,
   "metadata": {},
   "outputs": [],
   "source": [
    "naive_pop_prop_baseline_survey_macrozones = naive_pop_prop_baseline_macrozones - survey_macrozones"
   ]
  },
  {
   "cell_type": "code",
   "execution_count": 43,
   "metadata": {},
   "outputs": [
    {
     "data": {
      "text/html": [
       "<div>\n",
       "<style scoped>\n",
       "    .dataframe tbody tr th:only-of-type {\n",
       "        vertical-align: middle;\n",
       "    }\n",
       "\n",
       "    .dataframe tbody tr th {\n",
       "        vertical-align: top;\n",
       "    }\n",
       "\n",
       "    .dataframe thead th {\n",
       "        text-align: right;\n",
       "    }\n",
       "</style>\n",
       "<table border=\"1\" class=\"dataframe\">\n",
       "  <thead>\n",
       "    <tr style=\"text-align: right;\">\n",
       "      <th></th>\n",
       "      <th>Matriz</th>\n",
       "      <th>Portão</th>\n",
       "      <th>Cajuru</th>\n",
       "      <th>Santa Felicidade</th>\n",
       "      <th>Boa Vista</th>\n",
       "      <th>Boqueirão</th>\n",
       "      <th>Pinheirinho</th>\n",
       "      <th>CIC</th>\n",
       "      <th>Bairro Novo</th>\n",
       "      <th>Tatuquara</th>\n",
       "    </tr>\n",
       "    <tr>\n",
       "      <th>name_macrozone</th>\n",
       "      <th></th>\n",
       "      <th></th>\n",
       "      <th></th>\n",
       "      <th></th>\n",
       "      <th></th>\n",
       "      <th></th>\n",
       "      <th></th>\n",
       "      <th></th>\n",
       "      <th></th>\n",
       "      <th></th>\n",
       "    </tr>\n",
       "  </thead>\n",
       "  <tbody>\n",
       "    <tr>\n",
       "      <th>Matriz</th>\n",
       "      <td>-55.271501</td>\n",
       "      <td>-17.062203</td>\n",
       "      <td>-20.224765</td>\n",
       "      <td>-25.220235</td>\n",
       "      <td>-42.075618</td>\n",
       "      <td>-8.543206</td>\n",
       "      <td>-15.341327</td>\n",
       "      <td>-13.640879</td>\n",
       "      <td>-3.558397</td>\n",
       "      <td>0.603852</td>\n",
       "    </tr>\n",
       "    <tr>\n",
       "      <th>Portão</th>\n",
       "      <td>-17.254529</td>\n",
       "      <td>-2.056781</td>\n",
       "      <td>8.110655</td>\n",
       "      <td>2.984389</td>\n",
       "      <td>7.749477</td>\n",
       "      <td>4.686835</td>\n",
       "      <td>-2.515431</td>\n",
       "      <td>-3.069778</td>\n",
       "      <td>1.971155</td>\n",
       "      <td>2.726123</td>\n",
       "    </tr>\n",
       "    <tr>\n",
       "      <th>Cajuru</th>\n",
       "      <td>-20.320928</td>\n",
       "      <td>7.918329</td>\n",
       "      <td>1.518225</td>\n",
       "      <td>7.718712</td>\n",
       "      <td>13.083333</td>\n",
       "      <td>8.498216</td>\n",
       "      <td>8.456247</td>\n",
       "      <td>10.194978</td>\n",
       "      <td>9.167162</td>\n",
       "      <td>6.644493</td>\n",
       "    </tr>\n",
       "    <tr>\n",
       "      <th>Santa Felicidade</th>\n",
       "      <td>-25.027909</td>\n",
       "      <td>3.080552</td>\n",
       "      <td>7.622549</td>\n",
       "      <td>-19.387646</td>\n",
       "      <td>8.235606</td>\n",
       "      <td>7.412339</td>\n",
       "      <td>4.326462</td>\n",
       "      <td>0.834535</td>\n",
       "      <td>5.673669</td>\n",
       "      <td>4.758922</td>\n",
       "    </tr>\n",
       "    <tr>\n",
       "      <th>Boa Vista</th>\n",
       "      <td>-41.113987</td>\n",
       "      <td>7.460987</td>\n",
       "      <td>12.698680</td>\n",
       "      <td>7.850953</td>\n",
       "      <td>-11.436231</td>\n",
       "      <td>12.288534</td>\n",
       "      <td>9.300211</td>\n",
       "      <td>13.166054</td>\n",
       "      <td>11.289991</td>\n",
       "      <td>7.969345</td>\n",
       "    </tr>\n",
       "    <tr>\n",
       "      <th>Boqueirão</th>\n",
       "      <td>-9.120185</td>\n",
       "      <td>4.398346</td>\n",
       "      <td>8.305889</td>\n",
       "      <td>7.412339</td>\n",
       "      <td>11.807718</td>\n",
       "      <td>-13.066568</td>\n",
       "      <td>2.977581</td>\n",
       "      <td>7.323732</td>\n",
       "      <td>2.824397</td>\n",
       "      <td>5.688859</td>\n",
       "    </tr>\n",
       "    <tr>\n",
       "      <th>Pinheirinho</th>\n",
       "      <td>-16.206795</td>\n",
       "      <td>-2.900084</td>\n",
       "      <td>8.552410</td>\n",
       "      <td>4.326462</td>\n",
       "      <td>9.107884</td>\n",
       "      <td>3.266070</td>\n",
       "      <td>-6.897342</td>\n",
       "      <td>1.710006</td>\n",
       "      <td>1.608920</td>\n",
       "      <td>0.526421</td>\n",
       "    </tr>\n",
       "    <tr>\n",
       "      <th>CIC</th>\n",
       "      <td>-13.737042</td>\n",
       "      <td>-3.165941</td>\n",
       "      <td>10.002652</td>\n",
       "      <td>1.219187</td>\n",
       "      <td>12.589076</td>\n",
       "      <td>7.227569</td>\n",
       "      <td>1.998496</td>\n",
       "      <td>-16.225596</td>\n",
       "      <td>6.443869</td>\n",
       "      <td>2.743527</td>\n",
       "    </tr>\n",
       "    <tr>\n",
       "      <th>Bairro Novo</th>\n",
       "      <td>-4.231539</td>\n",
       "      <td>1.874992</td>\n",
       "      <td>9.263325</td>\n",
       "      <td>5.481343</td>\n",
       "      <td>10.520686</td>\n",
       "      <td>2.728234</td>\n",
       "      <td>2.185898</td>\n",
       "      <td>6.732358</td>\n",
       "      <td>0.638238</td>\n",
       "      <td>4.187676</td>\n",
       "    </tr>\n",
       "    <tr>\n",
       "      <th>Tatuquara</th>\n",
       "      <td>0.411526</td>\n",
       "      <td>2.822286</td>\n",
       "      <td>6.644493</td>\n",
       "      <td>4.758922</td>\n",
       "      <td>8.065509</td>\n",
       "      <td>5.592696</td>\n",
       "      <td>0.526421</td>\n",
       "      <td>2.358875</td>\n",
       "      <td>4.091513</td>\n",
       "      <td>1.724470</td>\n",
       "    </tr>\n",
       "  </tbody>\n",
       "</table>\n",
       "</div>"
      ],
      "text/plain": [
       "                     Matriz     Portão     Cajuru  Santa Felicidade  \\\n",
       "name_macrozone                                                        \n",
       "Matriz           -55.271501 -17.062203 -20.224765        -25.220235   \n",
       "Portão           -17.254529  -2.056781   8.110655          2.984389   \n",
       "Cajuru           -20.320928   7.918329   1.518225          7.718712   \n",
       "Santa Felicidade -25.027909   3.080552   7.622549        -19.387646   \n",
       "Boa Vista        -41.113987   7.460987  12.698680          7.850953   \n",
       "Boqueirão         -9.120185   4.398346   8.305889          7.412339   \n",
       "Pinheirinho      -16.206795  -2.900084   8.552410          4.326462   \n",
       "CIC              -13.737042  -3.165941  10.002652          1.219187   \n",
       "Bairro Novo       -4.231539   1.874992   9.263325          5.481343   \n",
       "Tatuquara          0.411526   2.822286   6.644493          4.758922   \n",
       "\n",
       "                  Boa Vista  Boqueirão  Pinheirinho        CIC  Bairro Novo  \\\n",
       "name_macrozone                                                                \n",
       "Matriz           -42.075618  -8.543206   -15.341327 -13.640879    -3.558397   \n",
       "Portão             7.749477   4.686835    -2.515431  -3.069778     1.971155   \n",
       "Cajuru            13.083333   8.498216     8.456247  10.194978     9.167162   \n",
       "Santa Felicidade   8.235606   7.412339     4.326462   0.834535     5.673669   \n",
       "Boa Vista        -11.436231  12.288534     9.300211  13.166054    11.289991   \n",
       "Boqueirão         11.807718 -13.066568     2.977581   7.323732     2.824397   \n",
       "Pinheirinho        9.107884   3.266070    -6.897342   1.710006     1.608920   \n",
       "CIC               12.589076   7.227569     1.998496 -16.225596     6.443869   \n",
       "Bairro Novo       10.520686   2.728234     2.185898   6.732358     0.638238   \n",
       "Tatuquara          8.065509   5.592696     0.526421   2.358875     4.091513   \n",
       "\n",
       "                  Tatuquara  \n",
       "name_macrozone               \n",
       "Matriz             0.603852  \n",
       "Portão             2.726123  \n",
       "Cajuru             6.644493  \n",
       "Santa Felicidade   4.758922  \n",
       "Boa Vista          7.969345  \n",
       "Boqueirão          5.688859  \n",
       "Pinheirinho        0.526421  \n",
       "CIC                2.743527  \n",
       "Bairro Novo        4.187676  \n",
       "Tatuquara          1.724470  "
      ]
     },
     "execution_count": 43,
     "metadata": {},
     "output_type": "execute_result"
    }
   ],
   "source": [
    "naive_pop_prop_baseline_survey_macrozones"
   ]
  },
  {
   "cell_type": "code",
   "execution_count": 44,
   "metadata": {},
   "outputs": [
    {
     "name": "stdout",
     "output_type": "stream",
     "text": [
      "-55.27150061958653 13.16605437456031\n"
     ]
    }
   ],
   "source": [
    "print(np.min(naive_pop_prop_baseline_survey_macrozones.values),np.max(naive_pop_prop_baseline_survey_macrozones.values))"
   ]
  },
  {
   "cell_type": "code",
   "execution_count": 45,
   "metadata": {},
   "outputs": [],
   "source": [
    "naive_pop_prop_baseline_survey_macrozones_error = np.abs(naive_pop_prop_baseline_survey_macrozones.values).mean()"
   ]
  },
  {
   "cell_type": "code",
   "execution_count": 46,
   "metadata": {},
   "outputs": [
    {
     "data": {
      "text/plain": [
       "8.573448859244387"
      ]
     },
     "execution_count": 46,
     "metadata": {},
     "output_type": "execute_result"
    }
   ],
   "source": [
    "naive_pop_prop_baseline_survey_macrozones_error"
   ]
  },
  {
   "cell_type": "code",
   "execution_count": 47,
   "metadata": {
    "scrolled": true
   },
   "outputs": [
    {
     "data": {
      "image/png": "[encoded data removed]",
      "text/plain": [
       "<Figure size 432x288 with 2 Axes>"
      ]
     },
     "metadata": {
      "needs_background": "light"
     },
     "output_type": "display_data"
    }
   ],
   "source": [
    "naive_pop_prop_baseline_survey_macrozones_heatmap = build_heatmap_from_od_matrix(naive_pop_prop_baseline_survey_macrozones,\n",
    "                                                                                 color_map=div_scale_cmap,\n",
    "                                                                                 center_val=0.0,min_val=-60.0,max_val=60.0,\n",
    "                                                                                 color_label='Proportion Error (no. trips per 1000 trips)')"
   ]
  },
  {
   "cell_type": "code",
   "execution_count": 48,
   "metadata": {},
   "outputs": [],
   "source": [
    "naive_pop_prop_baseline_survey_macrozones_heatmap.get_figure().savefig('/local/tarciso/data/od-mat-validation/heatmaps/error-matrices/naive_pop_prop_baseline_survey_macrozones_heatmap.png', bbox_inches='tight')"
   ]
  },
  {
   "cell_type": "markdown",
   "metadata": {},
   "source": [
    "### Error Distribution"
   ]
  },
  {
   "cell_type": "code",
   "execution_count": 49,
   "metadata": {},
   "outputs": [],
   "source": [
    "naive_survey_macrozones_error_values = np.concatenate([naive_pop_prop_baseline_survey_macrozones[col].values for col in naive_pop_prop_baseline_survey_macrozones.columns], axis=0 )"
   ]
  },
  {
   "cell_type": "code",
   "execution_count": 50,
   "metadata": {},
   "outputs": [
    {
     "data": {
      "text/plain": [
       "(-55.27150061958653, 13.16605437456031)"
      ]
     },
     "execution_count": 50,
     "metadata": {},
     "output_type": "execute_result"
    }
   ],
   "source": [
    "(np.min(naive_survey_macrozones_error_values),np.max(naive_survey_macrozones_error_values))"
   ]
  },
  {
   "cell_type": "code",
   "execution_count": 51,
   "metadata": {
    "scrolled": true
   },
   "outputs": [
    {
     "name": "stderr",
     "output_type": "stream",
     "text": [
      "/home/tarciso/anaconda2/envs/py37/lib/python3.7/site-packages/scipy/stats/stats.py:1713: FutureWarning: Using a non-tuple sequence for multidimensional indexing is deprecated; use `arr[tuple(seq)]` instead of `arr[seq]`. In the future this will be interpreted as an array index, `arr[np.array(seq)]`, which will result either in an error or a different result.\n",
      "  return np.add.reduce(sorted[indexer] * weights, axis=axis) / sumval\n"
     ]
    },
    {
     "data": {
      "text/plain": [
       "<matplotlib.axes._subplots.AxesSubplot at 0x7fb11b1787f0>"
      ]
     },
     "execution_count": 51,
     "metadata": {},
     "output_type": "execute_result"
    },
    {
     "data": {
      "image/png": "[encoded data removed]",
      "text/plain": [
       "<Figure size 432x288 with 1 Axes>"
      ]
     },
     "metadata": {
      "needs_background": "light"
     },
     "output_type": "display_data"
    }
   ],
   "source": [
    "naive_survey_macrozones_error_hist = sns.distplot(naive_survey_macrozones_error_values, hist=True, kde=False, rug=True)\n",
    "naive_survey_macrozones_error_hist.set(xlabel='Proportion Error (no. trips per 1000 trips)', ylabel='Frequency')\n",
    "naive_survey_macrozones_error_hist.set(xlim=(-55,55))\n",
    "naive_survey_macrozones_error_hist"
   ]
  },
  {
   "cell_type": "code",
   "execution_count": 52,
   "metadata": {},
   "outputs": [],
   "source": [
    "naive_survey_macrozones_error_hist.get_figure().savefig('/local/tarciso/data/od-mat-validation/heatmaps/error-matrices/naive_survey_macrozones_error_hist.png', bbox_inches='tight')"
   ]
  },
  {
   "cell_type": "code",
   "execution_count": 53,
   "metadata": {},
   "outputs": [],
   "source": [
    "naive_pop_prop_baseline_error_dist = pd.DataFrame(naive_pop_prop_baseline_survey_macrozones.to_records())"
   ]
  },
  {
   "cell_type": "code",
   "execution_count": 54,
   "metadata": {
    "scrolled": true
   },
   "outputs": [
    {
     "data": {
      "text/html": [
       "<div>\n",
       "<style scoped>\n",
       "    .dataframe tbody tr th:only-of-type {\n",
       "        vertical-align: middle;\n",
       "    }\n",
       "\n",
       "    .dataframe tbody tr th {\n",
       "        vertical-align: top;\n",
       "    }\n",
       "\n",
       "    .dataframe thead th {\n",
       "        text-align: right;\n",
       "    }\n",
       "</style>\n",
       "<table border=\"1\" class=\"dataframe\">\n",
       "  <thead>\n",
       "    <tr style=\"text-align: right;\">\n",
       "      <th></th>\n",
       "      <th>name_macrozone</th>\n",
       "      <th>Matriz</th>\n",
       "      <th>Portão</th>\n",
       "      <th>Cajuru</th>\n",
       "      <th>Santa Felicidade</th>\n",
       "      <th>Boa Vista</th>\n",
       "      <th>Boqueirão</th>\n",
       "      <th>Pinheirinho</th>\n",
       "      <th>CIC</th>\n",
       "      <th>Bairro Novo</th>\n",
       "      <th>Tatuquara</th>\n",
       "    </tr>\n",
       "  </thead>\n",
       "  <tbody>\n",
       "    <tr>\n",
       "      <th>0</th>\n",
       "      <td>Matriz</td>\n",
       "      <td>-55.271501</td>\n",
       "      <td>-17.062203</td>\n",
       "      <td>-20.224765</td>\n",
       "      <td>-25.220235</td>\n",
       "      <td>-42.075618</td>\n",
       "      <td>-8.543206</td>\n",
       "      <td>-15.341327</td>\n",
       "      <td>-13.640879</td>\n",
       "      <td>-3.558397</td>\n",
       "      <td>0.603852</td>\n",
       "    </tr>\n",
       "    <tr>\n",
       "      <th>1</th>\n",
       "      <td>Portão</td>\n",
       "      <td>-17.254529</td>\n",
       "      <td>-2.056781</td>\n",
       "      <td>8.110655</td>\n",
       "      <td>2.984389</td>\n",
       "      <td>7.749477</td>\n",
       "      <td>4.686835</td>\n",
       "      <td>-2.515431</td>\n",
       "      <td>-3.069778</td>\n",
       "      <td>1.971155</td>\n",
       "      <td>2.726123</td>\n",
       "    </tr>\n",
       "    <tr>\n",
       "      <th>2</th>\n",
       "      <td>Cajuru</td>\n",
       "      <td>-20.320928</td>\n",
       "      <td>7.918329</td>\n",
       "      <td>1.518225</td>\n",
       "      <td>7.718712</td>\n",
       "      <td>13.083333</td>\n",
       "      <td>8.498216</td>\n",
       "      <td>8.456247</td>\n",
       "      <td>10.194978</td>\n",
       "      <td>9.167162</td>\n",
       "      <td>6.644493</td>\n",
       "    </tr>\n",
       "    <tr>\n",
       "      <th>3</th>\n",
       "      <td>Santa Felicidade</td>\n",
       "      <td>-25.027909</td>\n",
       "      <td>3.080552</td>\n",
       "      <td>7.622549</td>\n",
       "      <td>-19.387646</td>\n",
       "      <td>8.235606</td>\n",
       "      <td>7.412339</td>\n",
       "      <td>4.326462</td>\n",
       "      <td>0.834535</td>\n",
       "      <td>5.673669</td>\n",
       "      <td>4.758922</td>\n",
       "    </tr>\n",
       "    <tr>\n",
       "      <th>4</th>\n",
       "      <td>Boa Vista</td>\n",
       "      <td>-41.113987</td>\n",
       "      <td>7.460987</td>\n",
       "      <td>12.698680</td>\n",
       "      <td>7.850953</td>\n",
       "      <td>-11.436231</td>\n",
       "      <td>12.288534</td>\n",
       "      <td>9.300211</td>\n",
       "      <td>13.166054</td>\n",
       "      <td>11.289991</td>\n",
       "      <td>7.969345</td>\n",
       "    </tr>\n",
       "    <tr>\n",
       "      <th>5</th>\n",
       "      <td>Boqueirão</td>\n",
       "      <td>-9.120185</td>\n",
       "      <td>4.398346</td>\n",
       "      <td>8.305889</td>\n",
       "      <td>7.412339</td>\n",
       "      <td>11.807718</td>\n",
       "      <td>-13.066568</td>\n",
       "      <td>2.977581</td>\n",
       "      <td>7.323732</td>\n",
       "      <td>2.824397</td>\n",
       "      <td>5.688859</td>\n",
       "    </tr>\n",
       "    <tr>\n",
       "      <th>6</th>\n",
       "      <td>Pinheirinho</td>\n",
       "      <td>-16.206795</td>\n",
       "      <td>-2.900084</td>\n",
       "      <td>8.552410</td>\n",
       "      <td>4.326462</td>\n",
       "      <td>9.107884</td>\n",
       "      <td>3.266070</td>\n",
       "      <td>-6.897342</td>\n",
       "      <td>1.710006</td>\n",
       "      <td>1.608920</td>\n",
       "      <td>0.526421</td>\n",
       "    </tr>\n",
       "    <tr>\n",
       "      <th>7</th>\n",
       "      <td>CIC</td>\n",
       "      <td>-13.737042</td>\n",
       "      <td>-3.165941</td>\n",
       "      <td>10.002652</td>\n",
       "      <td>1.219187</td>\n",
       "      <td>12.589076</td>\n",
       "      <td>7.227569</td>\n",
       "      <td>1.998496</td>\n",
       "      <td>-16.225596</td>\n",
       "      <td>6.443869</td>\n",
       "      <td>2.743527</td>\n",
       "    </tr>\n",
       "    <tr>\n",
       "      <th>8</th>\n",
       "      <td>Bairro Novo</td>\n",
       "      <td>-4.231539</td>\n",
       "      <td>1.874992</td>\n",
       "      <td>9.263325</td>\n",
       "      <td>5.481343</td>\n",
       "      <td>10.520686</td>\n",
       "      <td>2.728234</td>\n",
       "      <td>2.185898</td>\n",
       "      <td>6.732358</td>\n",
       "      <td>0.638238</td>\n",
       "      <td>4.187676</td>\n",
       "    </tr>\n",
       "    <tr>\n",
       "      <th>9</th>\n",
       "      <td>Tatuquara</td>\n",
       "      <td>0.411526</td>\n",
       "      <td>2.822286</td>\n",
       "      <td>6.644493</td>\n",
       "      <td>4.758922</td>\n",
       "      <td>8.065509</td>\n",
       "      <td>5.592696</td>\n",
       "      <td>0.526421</td>\n",
       "      <td>2.358875</td>\n",
       "      <td>4.091513</td>\n",
       "      <td>1.724470</td>\n",
       "    </tr>\n",
       "  </tbody>\n",
       "</table>\n",
       "</div>"
      ],
      "text/plain": [
       "     name_macrozone     Matriz     Portão     Cajuru  Santa Felicidade  \\\n",
       "0            Matriz -55.271501 -17.062203 -20.224765        -25.220235   \n",
       "1            Portão -17.254529  -2.056781   8.110655          2.984389   \n",
       "2            Cajuru -20.320928   7.918329   1.518225          7.718712   \n",
       "3  Santa Felicidade -25.027909   3.080552   7.622549        -19.387646   \n",
       "4         Boa Vista -41.113987   7.460987  12.698680          7.850953   \n",
       "5         Boqueirão  -9.120185   4.398346   8.305889          7.412339   \n",
       "6       Pinheirinho -16.206795  -2.900084   8.552410          4.326462   \n",
       "7               CIC -13.737042  -3.165941  10.002652          1.219187   \n",
       "8       Bairro Novo  -4.231539   1.874992   9.263325          5.481343   \n",
       "9         Tatuquara   0.411526   2.822286   6.644493          4.758922   \n",
       "\n",
       "   Boa Vista  Boqueirão  Pinheirinho        CIC  Bairro Novo  Tatuquara  \n",
       "0 -42.075618  -8.543206   -15.341327 -13.640879    -3.558397   0.603852  \n",
       "1   7.749477   4.686835    -2.515431  -3.069778     1.971155   2.726123  \n",
       "2  13.083333   8.498216     8.456247  10.194978     9.167162   6.644493  \n",
       "3   8.235606   7.412339     4.326462   0.834535     5.673669   4.758922  \n",
       "4 -11.436231  12.288534     9.300211  13.166054    11.289991   7.969345  \n",
       "5  11.807718 -13.066568     2.977581   7.323732     2.824397   5.688859  \n",
       "6   9.107884   3.266070    -6.897342   1.710006     1.608920   0.526421  \n",
       "7  12.589076   7.227569     1.998496 -16.225596     6.443869   2.743527  \n",
       "8  10.520686   2.728234     2.185898   6.732358     0.638238   4.187676  \n",
       "9   8.065509   5.592696     0.526421   2.358875     4.091513   1.724470  "
      ]
     },
     "execution_count": 54,
     "metadata": {},
     "output_type": "execute_result"
    }
   ],
   "source": [
    "naive_pop_prop_baseline_error_dist"
   ]
  },
  {
   "cell_type": "code",
   "execution_count": 55,
   "metadata": {},
   "outputs": [
    {
     "name": "stderr",
     "output_type": "stream",
     "text": [
      "/home/tarciso/anaconda2/envs/py37/lib/python3.7/site-packages/scipy/stats/stats.py:1713: FutureWarning: Using a non-tuple sequence for multidimensional indexing is deprecated; use `arr[tuple(seq)]` instead of `arr[seq]`. In the future this will be interpreted as an array index, `arr[np.array(seq)]`, which will result either in an error or a different result.\n",
      "  return np.add.reduce(sorted[indexer] * weights, axis=axis) / sumval\n"
     ]
    },
    {
     "data": {
      "text/plain": [
       "<matplotlib.axes._subplots.AxesSubplot at 0x7fb11b07fe80>"
      ]
     },
     "execution_count": 55,
     "metadata": {},
     "output_type": "execute_result"
    },
    {
     "data": {
      "image/png": "[encoded data removed]",
      "text/plain": [
       "<Figure size 432x288 with 1 Axes>"
      ]
     },
     "metadata": {
      "needs_background": "light"
     },
     "output_type": "display_data"
    }
   ],
   "source": [
    "sns.violinplot(naive_pop_prop_baseline_survey_macrozones)"
   ]
  },
  {
   "cell_type": "markdown",
   "metadata": {},
   "source": [
    "#### Population Proportion BUSTE Baseline - Survey "
   ]
  },
  {
   "cell_type": "code",
   "execution_count": 56,
   "metadata": {},
   "outputs": [],
   "source": [
    "pop_prop_buste_baseline_survey_macrozones = pop_prop_buste_baseline_macrozones - survey_macrozones"
   ]
  },
  {
   "cell_type": "code",
   "execution_count": 57,
   "metadata": {},
   "outputs": [
    {
     "data": {
      "text/html": [
       "<div>\n",
       "<style scoped>\n",
       "    .dataframe tbody tr th:only-of-type {\n",
       "        vertical-align: middle;\n",
       "    }\n",
       "\n",
       "    .dataframe tbody tr th {\n",
       "        vertical-align: top;\n",
       "    }\n",
       "\n",
       "    .dataframe thead th {\n",
       "        text-align: right;\n",
       "    }\n",
       "</style>\n",
       "<table border=\"1\" class=\"dataframe\">\n",
       "  <thead>\n",
       "    <tr style=\"text-align: right;\">\n",
       "      <th></th>\n",
       "      <th>Matriz</th>\n",
       "      <th>Portão</th>\n",
       "      <th>Cajuru</th>\n",
       "      <th>Santa Felicidade</th>\n",
       "      <th>Boa Vista</th>\n",
       "      <th>Boqueirão</th>\n",
       "      <th>Pinheirinho</th>\n",
       "      <th>CIC</th>\n",
       "      <th>Bairro Novo</th>\n",
       "      <th>Tatuquara</th>\n",
       "    </tr>\n",
       "    <tr>\n",
       "      <th>name_macrozone</th>\n",
       "      <th></th>\n",
       "      <th></th>\n",
       "      <th></th>\n",
       "      <th></th>\n",
       "      <th></th>\n",
       "      <th></th>\n",
       "      <th></th>\n",
       "      <th></th>\n",
       "      <th></th>\n",
       "      <th></th>\n",
       "    </tr>\n",
       "  </thead>\n",
       "  <tbody>\n",
       "    <tr>\n",
       "      <th>Matriz</th>\n",
       "      <td>-38.969808</td>\n",
       "      <td>-2.653890</td>\n",
       "      <td>-2.056890</td>\n",
       "      <td>-12.211239</td>\n",
       "      <td>-21.095859</td>\n",
       "      <td>7.490883</td>\n",
       "      <td>-3.529287</td>\n",
       "      <td>2.004452</td>\n",
       "      <td>9.226167</td>\n",
       "      <td>9.421548</td>\n",
       "    </tr>\n",
       "    <tr>\n",
       "      <th>Portão</th>\n",
       "      <td>-20.079886</td>\n",
       "      <td>-4.553859</td>\n",
       "      <td>4.961907</td>\n",
       "      <td>0.729794</td>\n",
       "      <td>4.113485</td>\n",
       "      <td>1.907941</td>\n",
       "      <td>-4.562662</td>\n",
       "      <td>-5.781261</td>\n",
       "      <td>-0.244660</td>\n",
       "      <td>1.197953</td>\n",
       "    </tr>\n",
       "    <tr>\n",
       "      <th>Cajuru</th>\n",
       "      <td>-25.099226</td>\n",
       "      <td>3.695109</td>\n",
       "      <td>-3.807060</td>\n",
       "      <td>3.905563</td>\n",
       "      <td>6.933912</td>\n",
       "      <td>3.798423</td>\n",
       "      <td>4.993940</td>\n",
       "      <td>5.609218</td>\n",
       "      <td>5.419810</td>\n",
       "      <td>4.059954</td>\n",
       "    </tr>\n",
       "    <tr>\n",
       "      <th>Santa Felicidade</th>\n",
       "      <td>-24.053871</td>\n",
       "      <td>3.941484</td>\n",
       "      <td>8.708080</td>\n",
       "      <td>-18.610326</td>\n",
       "      <td>9.489123</td>\n",
       "      <td>8.370490</td>\n",
       "      <td>5.032234</td>\n",
       "      <td>1.769304</td>\n",
       "      <td>6.437503</td>\n",
       "      <td>5.285722</td>\n",
       "    </tr>\n",
       "    <tr>\n",
       "      <th>Boa Vista</th>\n",
       "      <td>-41.754988</td>\n",
       "      <td>6.894547</td>\n",
       "      <td>11.984443</td>\n",
       "      <td>7.339451</td>\n",
       "      <td>-12.261090</td>\n",
       "      <td>11.658022</td>\n",
       "      <td>8.835740</td>\n",
       "      <td>12.550962</td>\n",
       "      <td>10.787400</td>\n",
       "      <td>7.622596</td>\n",
       "    </tr>\n",
       "    <tr>\n",
       "      <th>Boqueirão</th>\n",
       "      <td>-12.981583</td>\n",
       "      <td>0.985503</td>\n",
       "      <td>4.002475</td>\n",
       "      <td>4.330874</td>\n",
       "      <td>6.838291</td>\n",
       "      <td>-16.864558</td>\n",
       "      <td>0.179737</td>\n",
       "      <td>3.617812</td>\n",
       "      <td>-0.203812</td>\n",
       "      <td>3.600200</td>\n",
       "    </tr>\n",
       "    <tr>\n",
       "      <th>Pinheirinho</th>\n",
       "      <td>-18.189237</td>\n",
       "      <td>-4.652228</td>\n",
       "      <td>6.342982</td>\n",
       "      <td>2.744449</td>\n",
       "      <td>6.556565</td>\n",
       "      <td>1.316117</td>\n",
       "      <td>-8.333727</td>\n",
       "      <td>-0.192637</td>\n",
       "      <td>0.054263</td>\n",
       "      <td>-0.545809</td>\n",
       "    </tr>\n",
       "    <tr>\n",
       "      <th>CIC</th>\n",
       "      <td>-11.850476</td>\n",
       "      <td>-1.498578</td>\n",
       "      <td>12.105137</td>\n",
       "      <td>2.724712</td>\n",
       "      <td>15.016975</td>\n",
       "      <td>9.083220</td>\n",
       "      <td>3.365425</td>\n",
       "      <td>-14.415013</td>\n",
       "      <td>7.923379</td>\n",
       "      <td>3.763977</td>\n",
       "    </tr>\n",
       "    <tr>\n",
       "      <th>Bairro Novo</th>\n",
       "      <td>-8.560120</td>\n",
       "      <td>-1.950882</td>\n",
       "      <td>4.439120</td>\n",
       "      <td>2.026970</td>\n",
       "      <td>4.949983</td>\n",
       "      <td>-1.529225</td>\n",
       "      <td>-0.950609</td>\n",
       "      <td>2.578129</td>\n",
       "      <td>-2.756458</td>\n",
       "      <td>1.846355</td>\n",
       "    </tr>\n",
       "    <tr>\n",
       "      <th>Tatuquara</th>\n",
       "      <td>-0.333866</td>\n",
       "      <td>2.163438</td>\n",
       "      <td>5.813800</td>\n",
       "      <td>4.163993</td>\n",
       "      <td>7.106241</td>\n",
       "      <td>4.859490</td>\n",
       "      <td>-0.013702</td>\n",
       "      <td>1.643429</td>\n",
       "      <td>3.506969</td>\n",
       "      <td>1.321216</td>\n",
       "    </tr>\n",
       "  </tbody>\n",
       "</table>\n",
       "</div>"
      ],
      "text/plain": [
       "                     Matriz    Portão     Cajuru  Santa Felicidade  Boa Vista  \\\n",
       "name_macrozone                                                                  \n",
       "Matriz           -38.969808 -2.653890  -2.056890        -12.211239 -21.095859   \n",
       "Portão           -20.079886 -4.553859   4.961907          0.729794   4.113485   \n",
       "Cajuru           -25.099226  3.695109  -3.807060          3.905563   6.933912   \n",
       "Santa Felicidade -24.053871  3.941484   8.708080        -18.610326   9.489123   \n",
       "Boa Vista        -41.754988  6.894547  11.984443          7.339451 -12.261090   \n",
       "Boqueirão        -12.981583  0.985503   4.002475          4.330874   6.838291   \n",
       "Pinheirinho      -18.189237 -4.652228   6.342982          2.744449   6.556565   \n",
       "CIC              -11.850476 -1.498578  12.105137          2.724712  15.016975   \n",
       "Bairro Novo       -8.560120 -1.950882   4.439120          2.026970   4.949983   \n",
       "Tatuquara         -0.333866  2.163438   5.813800          4.163993   7.106241   \n",
       "\n",
       "                  Boqueirão  Pinheirinho        CIC  Bairro Novo  Tatuquara  \n",
       "name_macrozone                                                               \n",
       "Matriz             7.490883    -3.529287   2.004452     9.226167   9.421548  \n",
       "Portão             1.907941    -4.562662  -5.781261    -0.244660   1.197953  \n",
       "Cajuru             3.798423     4.993940   5.609218     5.419810   4.059954  \n",
       "Santa Felicidade   8.370490     5.032234   1.769304     6.437503   5.285722  \n",
       "Boa Vista         11.658022     8.835740  12.550962    10.787400   7.622596  \n",
       "Boqueirão        -16.864558     0.179737   3.617812    -0.203812   3.600200  \n",
       "Pinheirinho        1.316117    -8.333727  -0.192637     0.054263  -0.545809  \n",
       "CIC                9.083220     3.365425 -14.415013     7.923379   3.763977  \n",
       "Bairro Novo       -1.529225    -0.950609   2.578129    -2.756458   1.846355  \n",
       "Tatuquara          4.859490    -0.013702   1.643429     3.506969   1.321216  "
      ]
     },
     "execution_count": 57,
     "metadata": {},
     "output_type": "execute_result"
    }
   ],
   "source": [
    "pop_prop_buste_baseline_survey_macrozones"
   ]
  },
  {
   "cell_type": "code",
   "execution_count": 58,
   "metadata": {},
   "outputs": [
    {
     "name": "stdout",
     "output_type": "stream",
     "text": [
      "-41.75498758820139 15.016975326092986\n"
     ]
    }
   ],
   "source": [
    "print(np.min(pop_prop_buste_baseline_survey_macrozones.values),np.max(pop_prop_buste_baseline_survey_macrozones.values))"
   ]
  },
  {
   "cell_type": "code",
   "execution_count": 59,
   "metadata": {},
   "outputs": [],
   "source": [
    "pop_prop_buste_baseline_survey_macrozones_error = np.abs(pop_prop_buste_baseline_survey_macrozones.values).mean()"
   ]
  },
  {
   "cell_type": "code",
   "execution_count": 60,
   "metadata": {},
   "outputs": [
    {
     "data": {
      "text/plain": [
       "6.942967654234916"
      ]
     },
     "execution_count": 60,
     "metadata": {},
     "output_type": "execute_result"
    }
   ],
   "source": [
    "pop_prop_buste_baseline_survey_macrozones_error"
   ]
  },
  {
   "cell_type": "code",
   "execution_count": 61,
   "metadata": {
    "scrolled": false
   },
   "outputs": [
    {
     "data": {
      "image/png": "[encoded data removed]",
      "text/plain": [
       "<Figure size 432x288 with 2 Axes>"
      ]
     },
     "metadata": {
      "needs_background": "light"
     },
     "output_type": "display_data"
    }
   ],
   "source": [
    "pop_prop_buste_baseline_survey_macrozones_heatmap = build_heatmap_from_od_matrix(pop_prop_buste_baseline_survey_macrozones,\n",
    "                                                                                 color_map=div_scale_cmap,\n",
    "                                                                                 center_val=0.0,min_val=-60.0,max_val=60.0,\n",
    "                                                                                 color_label='Proportion Error (no. trips per 1000 trips)')"
   ]
  },
  {
   "cell_type": "code",
   "execution_count": 62,
   "metadata": {},
   "outputs": [],
   "source": [
    "pop_prop_buste_baseline_survey_macrozones_heatmap.get_figure().savefig('/local/tarciso/data/od-mat-validation/heatmaps/error-matrices/pop_prop_buste_baseline_survey_macrozones_heatmap.png', bbox_inches='tight')"
   ]
  },
  {
   "cell_type": "markdown",
   "metadata": {},
   "source": [
    "### Error Distribution"
   ]
  },
  {
   "cell_type": "code",
   "execution_count": 63,
   "metadata": {},
   "outputs": [],
   "source": [
    "pop_prop_buste_macrozones_error_values = np.concatenate([pop_prop_buste_baseline_survey_macrozones[col].values for col in pop_prop_buste_baseline_survey_macrozones.columns], axis=0 )"
   ]
  },
  {
   "cell_type": "code",
   "execution_count": 64,
   "metadata": {},
   "outputs": [
    {
     "data": {
      "text/plain": [
       "(-41.75498758820139, 15.016975326092986)"
      ]
     },
     "execution_count": 64,
     "metadata": {},
     "output_type": "execute_result"
    }
   ],
   "source": [
    "(np.min(pop_prop_buste_macrozones_error_values),np.max(pop_prop_buste_macrozones_error_values))"
   ]
  },
  {
   "cell_type": "code",
   "execution_count": 65,
   "metadata": {
    "scrolled": true
   },
   "outputs": [
    {
     "name": "stderr",
     "output_type": "stream",
     "text": [
      "/home/tarciso/anaconda2/envs/py37/lib/python3.7/site-packages/scipy/stats/stats.py:1713: FutureWarning: Using a non-tuple sequence for multidimensional indexing is deprecated; use `arr[tuple(seq)]` instead of `arr[seq]`. In the future this will be interpreted as an array index, `arr[np.array(seq)]`, which will result either in an error or a different result.\n",
      "  return np.add.reduce(sorted[indexer] * weights, axis=axis) / sumval\n"
     ]
    },
    {
     "data": {
      "text/plain": [
       "<matplotlib.axes._subplots.AxesSubplot at 0x7fb11af7afd0>"
      ]
     },
     "execution_count": 65,
     "metadata": {},
     "output_type": "execute_result"
    },
    {
     "data": {
      "image/png": "[encoded data removed]",
      "text/plain": [
       "<Figure size 432x288 with 1 Axes>"
      ]
     },
     "metadata": {
      "needs_background": "light"
     },
     "output_type": "display_data"
    }
   ],
   "source": [
    "pop_prop_buste_macrozones_error_hist = sns.distplot(pop_prop_buste_macrozones_error_values, hist=True, kde=False, rug=True)\n",
    "pop_prop_buste_macrozones_error_hist.set(xlabel='Proportion Error (no. trips per 1000 trips)', ylabel='Frequency')\n",
    "pop_prop_buste_macrozones_error_hist.set(xlim=(-55,55))\n",
    "pop_prop_buste_macrozones_error_hist"
   ]
  },
  {
   "cell_type": "code",
   "execution_count": 66,
   "metadata": {},
   "outputs": [],
   "source": [
    "pop_prop_buste_macrozones_error_hist.get_figure().savefig('/local/tarciso/data/od-mat-validation/heatmaps/error-matrices/pop_prop_buste_macrozones_error_hist.png', bbox_inches='tight')"
   ]
  },
  {
   "cell_type": "code",
   "execution_count": 67,
   "metadata": {},
   "outputs": [],
   "source": [
    "pop_prop_buste_baseline_error_dist = pd.DataFrame(pop_prop_buste_baseline_survey_macrozones.to_records())"
   ]
  },
  {
   "cell_type": "code",
   "execution_count": 68,
   "metadata": {},
   "outputs": [
    {
     "data": {
      "text/html": [
       "<div>\n",
       "<style scoped>\n",
       "    .dataframe tbody tr th:only-of-type {\n",
       "        vertical-align: middle;\n",
       "    }\n",
       "\n",
       "    .dataframe tbody tr th {\n",
       "        vertical-align: top;\n",
       "    }\n",
       "\n",
       "    .dataframe thead th {\n",
       "        text-align: right;\n",
       "    }\n",
       "</style>\n",
       "<table border=\"1\" class=\"dataframe\">\n",
       "  <thead>\n",
       "    <tr style=\"text-align: right;\">\n",
       "      <th></th>\n",
       "      <th>name_macrozone</th>\n",
       "      <th>Matriz</th>\n",
       "      <th>Portão</th>\n",
       "      <th>Cajuru</th>\n",
       "      <th>Santa Felicidade</th>\n",
       "      <th>Boa Vista</th>\n",
       "      <th>Boqueirão</th>\n",
       "      <th>Pinheirinho</th>\n",
       "      <th>CIC</th>\n",
       "      <th>Bairro Novo</th>\n",
       "      <th>Tatuquara</th>\n",
       "    </tr>\n",
       "  </thead>\n",
       "  <tbody>\n",
       "    <tr>\n",
       "      <th>0</th>\n",
       "      <td>Matriz</td>\n",
       "      <td>-38.969808</td>\n",
       "      <td>-2.653890</td>\n",
       "      <td>-2.056890</td>\n",
       "      <td>-12.211239</td>\n",
       "      <td>-21.095859</td>\n",
       "      <td>7.490883</td>\n",
       "      <td>-3.529287</td>\n",
       "      <td>2.004452</td>\n",
       "      <td>9.226167</td>\n",
       "      <td>9.421548</td>\n",
       "    </tr>\n",
       "    <tr>\n",
       "      <th>1</th>\n",
       "      <td>Portão</td>\n",
       "      <td>-20.079886</td>\n",
       "      <td>-4.553859</td>\n",
       "      <td>4.961907</td>\n",
       "      <td>0.729794</td>\n",
       "      <td>4.113485</td>\n",
       "      <td>1.907941</td>\n",
       "      <td>-4.562662</td>\n",
       "      <td>-5.781261</td>\n",
       "      <td>-0.244660</td>\n",
       "      <td>1.197953</td>\n",
       "    </tr>\n",
       "    <tr>\n",
       "      <th>2</th>\n",
       "      <td>Cajuru</td>\n",
       "      <td>-25.099226</td>\n",
       "      <td>3.695109</td>\n",
       "      <td>-3.807060</td>\n",
       "      <td>3.905563</td>\n",
       "      <td>6.933912</td>\n",
       "      <td>3.798423</td>\n",
       "      <td>4.993940</td>\n",
       "      <td>5.609218</td>\n",
       "      <td>5.419810</td>\n",
       "      <td>4.059954</td>\n",
       "    </tr>\n",
       "    <tr>\n",
       "      <th>3</th>\n",
       "      <td>Santa Felicidade</td>\n",
       "      <td>-24.053871</td>\n",
       "      <td>3.941484</td>\n",
       "      <td>8.708080</td>\n",
       "      <td>-18.610326</td>\n",
       "      <td>9.489123</td>\n",
       "      <td>8.370490</td>\n",
       "      <td>5.032234</td>\n",
       "      <td>1.769304</td>\n",
       "      <td>6.437503</td>\n",
       "      <td>5.285722</td>\n",
       "    </tr>\n",
       "    <tr>\n",
       "      <th>4</th>\n",
       "      <td>Boa Vista</td>\n",
       "      <td>-41.754988</td>\n",
       "      <td>6.894547</td>\n",
       "      <td>11.984443</td>\n",
       "      <td>7.339451</td>\n",
       "      <td>-12.261090</td>\n",
       "      <td>11.658022</td>\n",
       "      <td>8.835740</td>\n",
       "      <td>12.550962</td>\n",
       "      <td>10.787400</td>\n",
       "      <td>7.622596</td>\n",
       "    </tr>\n",
       "    <tr>\n",
       "      <th>5</th>\n",
       "      <td>Boqueirão</td>\n",
       "      <td>-12.981583</td>\n",
       "      <td>0.985503</td>\n",
       "      <td>4.002475</td>\n",
       "      <td>4.330874</td>\n",
       "      <td>6.838291</td>\n",
       "      <td>-16.864558</td>\n",
       "      <td>0.179737</td>\n",
       "      <td>3.617812</td>\n",
       "      <td>-0.203812</td>\n",
       "      <td>3.600200</td>\n",
       "    </tr>\n",
       "    <tr>\n",
       "      <th>6</th>\n",
       "      <td>Pinheirinho</td>\n",
       "      <td>-18.189237</td>\n",
       "      <td>-4.652228</td>\n",
       "      <td>6.342982</td>\n",
       "      <td>2.744449</td>\n",
       "      <td>6.556565</td>\n",
       "      <td>1.316117</td>\n",
       "      <td>-8.333727</td>\n",
       "      <td>-0.192637</td>\n",
       "      <td>0.054263</td>\n",
       "      <td>-0.545809</td>\n",
       "    </tr>\n",
       "    <tr>\n",
       "      <th>7</th>\n",
       "      <td>CIC</td>\n",
       "      <td>-11.850476</td>\n",
       "      <td>-1.498578</td>\n",
       "      <td>12.105137</td>\n",
       "      <td>2.724712</td>\n",
       "      <td>15.016975</td>\n",
       "      <td>9.083220</td>\n",
       "      <td>3.365425</td>\n",
       "      <td>-14.415013</td>\n",
       "      <td>7.923379</td>\n",
       "      <td>3.763977</td>\n",
       "    </tr>\n",
       "    <tr>\n",
       "      <th>8</th>\n",
       "      <td>Bairro Novo</td>\n",
       "      <td>-8.560120</td>\n",
       "      <td>-1.950882</td>\n",
       "      <td>4.439120</td>\n",
       "      <td>2.026970</td>\n",
       "      <td>4.949983</td>\n",
       "      <td>-1.529225</td>\n",
       "      <td>-0.950609</td>\n",
       "      <td>2.578129</td>\n",
       "      <td>-2.756458</td>\n",
       "      <td>1.846355</td>\n",
       "    </tr>\n",
       "    <tr>\n",
       "      <th>9</th>\n",
       "      <td>Tatuquara</td>\n",
       "      <td>-0.333866</td>\n",
       "      <td>2.163438</td>\n",
       "      <td>5.813800</td>\n",
       "      <td>4.163993</td>\n",
       "      <td>7.106241</td>\n",
       "      <td>4.859490</td>\n",
       "      <td>-0.013702</td>\n",
       "      <td>1.643429</td>\n",
       "      <td>3.506969</td>\n",
       "      <td>1.321216</td>\n",
       "    </tr>\n",
       "  </tbody>\n",
       "</table>\n",
       "</div>"
      ],
      "text/plain": [
       "     name_macrozone     Matriz    Portão     Cajuru  Santa Felicidade  \\\n",
       "0            Matriz -38.969808 -2.653890  -2.056890        -12.211239   \n",
       "1            Portão -20.079886 -4.553859   4.961907          0.729794   \n",
       "2            Cajuru -25.099226  3.695109  -3.807060          3.905563   \n",
       "3  Santa Felicidade -24.053871  3.941484   8.708080        -18.610326   \n",
       "4         Boa Vista -41.754988  6.894547  11.984443          7.339451   \n",
       "5         Boqueirão -12.981583  0.985503   4.002475          4.330874   \n",
       "6       Pinheirinho -18.189237 -4.652228   6.342982          2.744449   \n",
       "7               CIC -11.850476 -1.498578  12.105137          2.724712   \n",
       "8       Bairro Novo  -8.560120 -1.950882   4.439120          2.026970   \n",
       "9         Tatuquara  -0.333866  2.163438   5.813800          4.163993   \n",
       "\n",
       "   Boa Vista  Boqueirão  Pinheirinho        CIC  Bairro Novo  Tatuquara  \n",
       "0 -21.095859   7.490883    -3.529287   2.004452     9.226167   9.421548  \n",
       "1   4.113485   1.907941    -4.562662  -5.781261    -0.244660   1.197953  \n",
       "2   6.933912   3.798423     4.993940   5.609218     5.419810   4.059954  \n",
       "3   9.489123   8.370490     5.032234   1.769304     6.437503   5.285722  \n",
       "4 -12.261090  11.658022     8.835740  12.550962    10.787400   7.622596  \n",
       "5   6.838291 -16.864558     0.179737   3.617812    -0.203812   3.600200  \n",
       "6   6.556565   1.316117    -8.333727  -0.192637     0.054263  -0.545809  \n",
       "7  15.016975   9.083220     3.365425 -14.415013     7.923379   3.763977  \n",
       "8   4.949983  -1.529225    -0.950609   2.578129    -2.756458   1.846355  \n",
       "9   7.106241   4.859490    -0.013702   1.643429     3.506969   1.321216  "
      ]
     },
     "execution_count": 68,
     "metadata": {},
     "output_type": "execute_result"
    }
   ],
   "source": [
    "pop_prop_buste_baseline_error_dist"
   ]
  },
  {
   "cell_type": "code",
   "execution_count": 69,
   "metadata": {
    "scrolled": false
   },
   "outputs": [
    {
     "name": "stderr",
     "output_type": "stream",
     "text": [
      "/home/tarciso/anaconda2/envs/py37/lib/python3.7/site-packages/scipy/stats/stats.py:1713: FutureWarning: Using a non-tuple sequence for multidimensional indexing is deprecated; use `arr[tuple(seq)]` instead of `arr[seq]`. In the future this will be interpreted as an array index, `arr[np.array(seq)]`, which will result either in an error or a different result.\n",
      "  return np.add.reduce(sorted[indexer] * weights, axis=axis) / sumval\n"
     ]
    },
    {
     "data": {
      "text/plain": [
       "<matplotlib.axes._subplots.AxesSubplot at 0x7fb11af465f8>"
      ]
     },
     "execution_count": 69,
     "metadata": {},
     "output_type": "execute_result"
    },
    {
     "data": {
      "image/png": "[encoded data removed]",
      "text/plain": [
       "<Figure size 432x288 with 1 Axes>"
      ]
     },
     "metadata": {
      "needs_background": "light"
     },
     "output_type": "display_data"
    }
   ],
   "source": [
    "sns.violinplot(pop_prop_buste_baseline_survey_macrozones)"
   ]
  },
  {
   "cell_type": "markdown",
   "metadata": {},
   "source": [
    "#### Origin Proportion BUSTE Baseline - Survey "
   ]
  },
  {
   "cell_type": "code",
   "execution_count": 70,
   "metadata": {},
   "outputs": [],
   "source": [
    "origin_prop_buste_baseline_survey_macrozones = origin_prop_buste_baseline_macrozones - survey_macrozones"
   ]
  },
  {
   "cell_type": "code",
   "execution_count": 71,
   "metadata": {
    "scrolled": true
   },
   "outputs": [
    {
     "data": {
      "text/html": [
       "<div>\n",
       "<style scoped>\n",
       "    .dataframe tbody tr th:only-of-type {\n",
       "        vertical-align: middle;\n",
       "    }\n",
       "\n",
       "    .dataframe tbody tr th {\n",
       "        vertical-align: top;\n",
       "    }\n",
       "\n",
       "    .dataframe thead th {\n",
       "        text-align: right;\n",
       "    }\n",
       "</style>\n",
       "<table border=\"1\" class=\"dataframe\">\n",
       "  <thead>\n",
       "    <tr style=\"text-align: right;\">\n",
       "      <th></th>\n",
       "      <th>Matriz</th>\n",
       "      <th>Portão</th>\n",
       "      <th>Cajuru</th>\n",
       "      <th>Santa Felicidade</th>\n",
       "      <th>Boa Vista</th>\n",
       "      <th>Boqueirão</th>\n",
       "      <th>Pinheirinho</th>\n",
       "      <th>CIC</th>\n",
       "      <th>Bairro Novo</th>\n",
       "      <th>Tatuquara</th>\n",
       "    </tr>\n",
       "    <tr>\n",
       "      <th>name_macrozone</th>\n",
       "      <th></th>\n",
       "      <th></th>\n",
       "      <th></th>\n",
       "      <th></th>\n",
       "      <th></th>\n",
       "      <th></th>\n",
       "      <th></th>\n",
       "      <th></th>\n",
       "      <th></th>\n",
       "      <th></th>\n",
       "    </tr>\n",
       "  </thead>\n",
       "  <tbody>\n",
       "    <tr>\n",
       "      <th>Matriz</th>\n",
       "      <td>-0.775704</td>\n",
       "      <td>-9.273446</td>\n",
       "      <td>-13.251834</td>\n",
       "      <td>-9.929133</td>\n",
       "      <td>-22.597482</td>\n",
       "      <td>-1.556217</td>\n",
       "      <td>-8.174095</td>\n",
       "      <td>6.424511</td>\n",
       "      <td>-0.915553</td>\n",
       "      <td>7.675029</td>\n",
       "    </tr>\n",
       "    <tr>\n",
       "      <th>Portão</th>\n",
       "      <td>-9.465772</td>\n",
       "      <td>-6.393429</td>\n",
       "      <td>1.850775</td>\n",
       "      <td>1.363926</td>\n",
       "      <td>3.696042</td>\n",
       "      <td>-0.606241</td>\n",
       "      <td>-5.853456</td>\n",
       "      <td>-4.552928</td>\n",
       "      <td>-3.062903</td>\n",
       "      <td>0.712555</td>\n",
       "    </tr>\n",
       "    <tr>\n",
       "      <th>Cajuru</th>\n",
       "      <td>-13.347997</td>\n",
       "      <td>1.658449</td>\n",
       "      <td>-7.251377</td>\n",
       "      <td>4.607834</td>\n",
       "      <td>6.471959</td>\n",
       "      <td>1.014982</td>\n",
       "      <td>3.565036</td>\n",
       "      <td>6.969067</td>\n",
       "      <td>2.299703</td>\n",
       "      <td>3.522535</td>\n",
       "    </tr>\n",
       "    <tr>\n",
       "      <th>Santa Felicidade</th>\n",
       "      <td>-9.736806</td>\n",
       "      <td>1.460089</td>\n",
       "      <td>4.511671</td>\n",
       "      <td>-17.754925</td>\n",
       "      <td>8.926244</td>\n",
       "      <td>4.979110</td>\n",
       "      <td>3.291209</td>\n",
       "      <td>3.426254</td>\n",
       "      <td>2.636006</td>\n",
       "      <td>4.631074</td>\n",
       "    </tr>\n",
       "    <tr>\n",
       "      <th>Boa Vista</th>\n",
       "      <td>-21.635851</td>\n",
       "      <td>3.407553</td>\n",
       "      <td>6.087306</td>\n",
       "      <td>8.541591</td>\n",
       "      <td>-13.052198</td>\n",
       "      <td>6.892505</td>\n",
       "      <td>6.389147</td>\n",
       "      <td>14.879227</td>\n",
       "      <td>5.445083</td>\n",
       "      <td>6.702720</td>\n",
       "    </tr>\n",
       "    <tr>\n",
       "      <th>Boqueirão</th>\n",
       "      <td>-2.133196</td>\n",
       "      <td>-0.894730</td>\n",
       "      <td>0.822656</td>\n",
       "      <td>4.979110</td>\n",
       "      <td>6.411690</td>\n",
       "      <td>-19.434241</td>\n",
       "      <td>-1.139632</td>\n",
       "      <td>4.873255</td>\n",
       "      <td>-3.084517</td>\n",
       "      <td>3.104177</td>\n",
       "    </tr>\n",
       "    <tr>\n",
       "      <th>Pinheirinho</th>\n",
       "      <td>-9.039563</td>\n",
       "      <td>-6.238108</td>\n",
       "      <td>3.661199</td>\n",
       "      <td>3.291209</td>\n",
       "      <td>6.196821</td>\n",
       "      <td>-0.851143</td>\n",
       "      <td>-9.446480</td>\n",
       "      <td>0.866265</td>\n",
       "      <td>-2.375295</td>\n",
       "      <td>-0.964351</td>\n",
       "    </tr>\n",
       "    <tr>\n",
       "      <th>CIC</th>\n",
       "      <td>6.328348</td>\n",
       "      <td>-4.649091</td>\n",
       "      <td>6.776741</td>\n",
       "      <td>3.810906</td>\n",
       "      <td>14.302249</td>\n",
       "      <td>4.777092</td>\n",
       "      <td>1.154754</td>\n",
       "      <td>-12.311130</td>\n",
       "      <td>3.096317</td>\n",
       "      <td>2.932754</td>\n",
       "    </tr>\n",
       "    <tr>\n",
       "      <th>Bairro Novo</th>\n",
       "      <td>-1.588695</td>\n",
       "      <td>-3.159066</td>\n",
       "      <td>2.395866</td>\n",
       "      <td>2.443680</td>\n",
       "      <td>4.675778</td>\n",
       "      <td>-3.180680</td>\n",
       "      <td>-1.798317</td>\n",
       "      <td>3.384806</td>\n",
       "      <td>-4.607567</td>\n",
       "      <td>1.527457</td>\n",
       "    </tr>\n",
       "    <tr>\n",
       "      <th>Tatuquara</th>\n",
       "      <td>7.482703</td>\n",
       "      <td>0.808718</td>\n",
       "      <td>3.522535</td>\n",
       "      <td>4.631074</td>\n",
       "      <td>6.798883</td>\n",
       "      <td>3.008014</td>\n",
       "      <td>-0.964351</td>\n",
       "      <td>2.548102</td>\n",
       "      <td>1.431294</td>\n",
       "      <td>0.963852</td>\n",
       "    </tr>\n",
       "  </tbody>\n",
       "</table>\n",
       "</div>"
      ],
      "text/plain": [
       "                     Matriz    Portão     Cajuru  Santa Felicidade  Boa Vista  \\\n",
       "name_macrozone                                                                  \n",
       "Matriz            -0.775704 -9.273446 -13.251834         -9.929133 -22.597482   \n",
       "Portão            -9.465772 -6.393429   1.850775          1.363926   3.696042   \n",
       "Cajuru           -13.347997  1.658449  -7.251377          4.607834   6.471959   \n",
       "Santa Felicidade  -9.736806  1.460089   4.511671        -17.754925   8.926244   \n",
       "Boa Vista        -21.635851  3.407553   6.087306          8.541591 -13.052198   \n",
       "Boqueirão         -2.133196 -0.894730   0.822656          4.979110   6.411690   \n",
       "Pinheirinho       -9.039563 -6.238108   3.661199          3.291209   6.196821   \n",
       "CIC                6.328348 -4.649091   6.776741          3.810906  14.302249   \n",
       "Bairro Novo       -1.588695 -3.159066   2.395866          2.443680   4.675778   \n",
       "Tatuquara          7.482703  0.808718   3.522535          4.631074   6.798883   \n",
       "\n",
       "                  Boqueirão  Pinheirinho        CIC  Bairro Novo  Tatuquara  \n",
       "name_macrozone                                                               \n",
       "Matriz            -1.556217    -8.174095   6.424511    -0.915553   7.675029  \n",
       "Portão            -0.606241    -5.853456  -4.552928    -3.062903   0.712555  \n",
       "Cajuru             1.014982     3.565036   6.969067     2.299703   3.522535  \n",
       "Santa Felicidade   4.979110     3.291209   3.426254     2.636006   4.631074  \n",
       "Boa Vista          6.892505     6.389147  14.879227     5.445083   6.702720  \n",
       "Boqueirão        -19.434241    -1.139632   4.873255    -3.084517   3.104177  \n",
       "Pinheirinho       -0.851143    -9.446480   0.866265    -2.375295  -0.964351  \n",
       "CIC                4.777092     1.154754 -12.311130     3.096317   2.932754  \n",
       "Bairro Novo       -3.180680    -1.798317   3.384806    -4.607567   1.527457  \n",
       "Tatuquara          3.008014    -0.964351   2.548102     1.431294   0.963852  "
      ]
     },
     "execution_count": 71,
     "metadata": {},
     "output_type": "execute_result"
    }
   ],
   "source": [
    "origin_prop_buste_baseline_survey_macrozones"
   ]
  },
  {
   "cell_type": "code",
   "execution_count": 72,
   "metadata": {},
   "outputs": [
    {
     "name": "stdout",
     "output_type": "stream",
     "text": [
      "-22.59748151292819 14.879227121836907\n"
     ]
    }
   ],
   "source": [
    "print(np.min(origin_prop_buste_baseline_survey_macrozones.values),np.max(origin_prop_buste_baseline_survey_macrozones.values))"
   ]
  },
  {
   "cell_type": "code",
   "execution_count": 73,
   "metadata": {},
   "outputs": [],
   "source": [
    "origin_prop_buste_baseline_survey_macrozones_error = np.abs(origin_prop_buste_baseline_survey_macrozones.values).mean()"
   ]
  },
  {
   "cell_type": "code",
   "execution_count": 74,
   "metadata": {},
   "outputs": [
    {
     "data": {
      "text/plain": [
       "5.340949977362276"
      ]
     },
     "execution_count": 74,
     "metadata": {},
     "output_type": "execute_result"
    }
   ],
   "source": [
    "origin_prop_buste_baseline_survey_macrozones_error"
   ]
  },
  {
   "cell_type": "code",
   "execution_count": 75,
   "metadata": {
    "scrolled": false
   },
   "outputs": [
    {
     "data": {
      "image/png": "[encoded data removed]",
      "text/plain": [
       "<Figure size 432x288 with 2 Axes>"
      ]
     },
     "metadata": {
      "needs_background": "light"
     },
     "output_type": "display_data"
    }
   ],
   "source": [
    "origin_prop_buste_baseline_survey_macrozones_heatmap = build_heatmap_from_od_matrix(origin_prop_buste_baseline_survey_macrozones,\n",
    "                                                                                 color_map=div_scale_cmap,\n",
    "                                                                                 center_val=0.0,min_val=-60.0,max_val=60.0,\n",
    "                                                                                 color_label='Proportion Error (no. trips per 1000 trips)')"
   ]
  },
  {
   "cell_type": "code",
   "execution_count": 76,
   "metadata": {},
   "outputs": [],
   "source": [
    "origin_prop_buste_baseline_survey_macrozones_heatmap.get_figure().savefig('/local/tarciso/data/od-mat-validation/heatmaps/error-matrices/origin_prop_buste_baseline_survey_macrozones_heatmap.png', bbox_inches='tight')"
   ]
  },
  {
   "cell_type": "markdown",
   "metadata": {},
   "source": [
    "### Error Distribution"
   ]
  },
  {
   "cell_type": "code",
   "execution_count": 77,
   "metadata": {},
   "outputs": [],
   "source": [
    "origin_prop_buste_macrozones_error_values = np.concatenate([origin_prop_buste_baseline_survey_macrozones[col].values for col in origin_prop_buste_baseline_survey_macrozones.columns], axis=0 )"
   ]
  },
  {
   "cell_type": "code",
   "execution_count": 78,
   "metadata": {},
   "outputs": [
    {
     "data": {
      "text/plain": [
       "(-22.59748151292819, 14.879227121836907)"
      ]
     },
     "execution_count": 78,
     "metadata": {},
     "output_type": "execute_result"
    }
   ],
   "source": [
    "(np.min(origin_prop_buste_macrozones_error_values),np.max(origin_prop_buste_macrozones_error_values))"
   ]
  },
  {
   "cell_type": "code",
   "execution_count": 126,
   "metadata": {},
   "outputs": [
    {
     "data": {
      "text/plain": [
       "array([-9.49287587,  6.71012181])"
      ]
     },
     "execution_count": 126,
     "metadata": {},
     "output_type": "execute_result"
    }
   ],
   "source": [
    "np.quantile(origin_prop_buste_macrozones_error_values, [0.1,0.9])"
   ]
  },
  {
   "cell_type": "code",
   "execution_count": 79,
   "metadata": {
    "scrolled": true
   },
   "outputs": [
    {
     "name": "stderr",
     "output_type": "stream",
     "text": [
      "/home/tarciso/anaconda2/envs/py37/lib/python3.7/site-packages/scipy/stats/stats.py:1713: FutureWarning: Using a non-tuple sequence for multidimensional indexing is deprecated; use `arr[tuple(seq)]` instead of `arr[seq]`. In the future this will be interpreted as an array index, `arr[np.array(seq)]`, which will result either in an error or a different result.\n",
      "  return np.add.reduce(sorted[indexer] * weights, axis=axis) / sumval\n"
     ]
    },
    {
     "data": {
      "text/plain": [
       "<matplotlib.axes._subplots.AxesSubplot at 0x7fb11adac4e0>"
      ]
     },
     "execution_count": 79,
     "metadata": {},
     "output_type": "execute_result"
    },
    {
     "data": {
      "image/png": "[encoded data removed]",
      "text/plain": [
       "<Figure size 432x288 with 1 Axes>"
      ]
     },
     "metadata": {
      "needs_background": "light"
     },
     "output_type": "display_data"
    }
   ],
   "source": [
    "origin_prop_macrozones_error_hist = sns.distplot(origin_prop_buste_macrozones_error_values, hist=True, kde=False, rug=True)\n",
    "origin_prop_macrozones_error_hist.set(xlabel='Proportion Error (no. trips per 1000 trips)', ylabel='Frequency')\n",
    "origin_prop_macrozones_error_hist.set(xlim=(-55,55))\n",
    "origin_prop_macrozones_error_hist"
   ]
  },
  {
   "cell_type": "code",
   "execution_count": 80,
   "metadata": {},
   "outputs": [],
   "source": [
    "origin_prop_macrozones_error_hist.get_figure().savefig('/local/tarciso/data/od-mat-validation/heatmaps/error-matrices/origin_prop_macrozones_error_hist.png', bbox_inches='tight')"
   ]
  },
  {
   "cell_type": "code",
   "execution_count": 81,
   "metadata": {},
   "outputs": [],
   "source": [
    "origin_prop_buste_baseline_error_dist = pd.DataFrame(origin_prop_buste_baseline_survey_macrozones.to_records())"
   ]
  },
  {
   "cell_type": "code",
   "execution_count": 82,
   "metadata": {},
   "outputs": [
    {
     "data": {
      "text/html": [
       "<div>\n",
       "<style scoped>\n",
       "    .dataframe tbody tr th:only-of-type {\n",
       "        vertical-align: middle;\n",
       "    }\n",
       "\n",
       "    .dataframe tbody tr th {\n",
       "        vertical-align: top;\n",
       "    }\n",
       "\n",
       "    .dataframe thead th {\n",
       "        text-align: right;\n",
       "    }\n",
       "</style>\n",
       "<table border=\"1\" class=\"dataframe\">\n",
       "  <thead>\n",
       "    <tr style=\"text-align: right;\">\n",
       "      <th></th>\n",
       "      <th>name_macrozone</th>\n",
       "      <th>Matriz</th>\n",
       "      <th>Portão</th>\n",
       "      <th>Cajuru</th>\n",
       "      <th>Santa Felicidade</th>\n",
       "      <th>Boa Vista</th>\n",
       "      <th>Boqueirão</th>\n",
       "      <th>Pinheirinho</th>\n",
       "      <th>CIC</th>\n",
       "      <th>Bairro Novo</th>\n",
       "      <th>Tatuquara</th>\n",
       "    </tr>\n",
       "  </thead>\n",
       "  <tbody>\n",
       "    <tr>\n",
       "      <th>0</th>\n",
       "      <td>Matriz</td>\n",
       "      <td>-0.775704</td>\n",
       "      <td>-9.273446</td>\n",
       "      <td>-13.251834</td>\n",
       "      <td>-9.929133</td>\n",
       "      <td>-22.597482</td>\n",
       "      <td>-1.556217</td>\n",
       "      <td>-8.174095</td>\n",
       "      <td>6.424511</td>\n",
       "      <td>-0.915553</td>\n",
       "      <td>7.675029</td>\n",
       "    </tr>\n",
       "    <tr>\n",
       "      <th>1</th>\n",
       "      <td>Portão</td>\n",
       "      <td>-9.465772</td>\n",
       "      <td>-6.393429</td>\n",
       "      <td>1.850775</td>\n",
       "      <td>1.363926</td>\n",
       "      <td>3.696042</td>\n",
       "      <td>-0.606241</td>\n",
       "      <td>-5.853456</td>\n",
       "      <td>-4.552928</td>\n",
       "      <td>-3.062903</td>\n",
       "      <td>0.712555</td>\n",
       "    </tr>\n",
       "    <tr>\n",
       "      <th>2</th>\n",
       "      <td>Cajuru</td>\n",
       "      <td>-13.347997</td>\n",
       "      <td>1.658449</td>\n",
       "      <td>-7.251377</td>\n",
       "      <td>4.607834</td>\n",
       "      <td>6.471959</td>\n",
       "      <td>1.014982</td>\n",
       "      <td>3.565036</td>\n",
       "      <td>6.969067</td>\n",
       "      <td>2.299703</td>\n",
       "      <td>3.522535</td>\n",
       "    </tr>\n",
       "    <tr>\n",
       "      <th>3</th>\n",
       "      <td>Santa Felicidade</td>\n",
       "      <td>-9.736806</td>\n",
       "      <td>1.460089</td>\n",
       "      <td>4.511671</td>\n",
       "      <td>-17.754925</td>\n",
       "      <td>8.926244</td>\n",
       "      <td>4.979110</td>\n",
       "      <td>3.291209</td>\n",
       "      <td>3.426254</td>\n",
       "      <td>2.636006</td>\n",
       "      <td>4.631074</td>\n",
       "    </tr>\n",
       "    <tr>\n",
       "      <th>4</th>\n",
       "      <td>Boa Vista</td>\n",
       "      <td>-21.635851</td>\n",
       "      <td>3.407553</td>\n",
       "      <td>6.087306</td>\n",
       "      <td>8.541591</td>\n",
       "      <td>-13.052198</td>\n",
       "      <td>6.892505</td>\n",
       "      <td>6.389147</td>\n",
       "      <td>14.879227</td>\n",
       "      <td>5.445083</td>\n",
       "      <td>6.702720</td>\n",
       "    </tr>\n",
       "    <tr>\n",
       "      <th>5</th>\n",
       "      <td>Boqueirão</td>\n",
       "      <td>-2.133196</td>\n",
       "      <td>-0.894730</td>\n",
       "      <td>0.822656</td>\n",
       "      <td>4.979110</td>\n",
       "      <td>6.411690</td>\n",
       "      <td>-19.434241</td>\n",
       "      <td>-1.139632</td>\n",
       "      <td>4.873255</td>\n",
       "      <td>-3.084517</td>\n",
       "      <td>3.104177</td>\n",
       "    </tr>\n",
       "    <tr>\n",
       "      <th>6</th>\n",
       "      <td>Pinheirinho</td>\n",
       "      <td>-9.039563</td>\n",
       "      <td>-6.238108</td>\n",
       "      <td>3.661199</td>\n",
       "      <td>3.291209</td>\n",
       "      <td>6.196821</td>\n",
       "      <td>-0.851143</td>\n",
       "      <td>-9.446480</td>\n",
       "      <td>0.866265</td>\n",
       "      <td>-2.375295</td>\n",
       "      <td>-0.964351</td>\n",
       "    </tr>\n",
       "    <tr>\n",
       "      <th>7</th>\n",
       "      <td>CIC</td>\n",
       "      <td>6.328348</td>\n",
       "      <td>-4.649091</td>\n",
       "      <td>6.776741</td>\n",
       "      <td>3.810906</td>\n",
       "      <td>14.302249</td>\n",
       "      <td>4.777092</td>\n",
       "      <td>1.154754</td>\n",
       "      <td>-12.311130</td>\n",
       "      <td>3.096317</td>\n",
       "      <td>2.932754</td>\n",
       "    </tr>\n",
       "    <tr>\n",
       "      <th>8</th>\n",
       "      <td>Bairro Novo</td>\n",
       "      <td>-1.588695</td>\n",
       "      <td>-3.159066</td>\n",
       "      <td>2.395866</td>\n",
       "      <td>2.443680</td>\n",
       "      <td>4.675778</td>\n",
       "      <td>-3.180680</td>\n",
       "      <td>-1.798317</td>\n",
       "      <td>3.384806</td>\n",
       "      <td>-4.607567</td>\n",
       "      <td>1.527457</td>\n",
       "    </tr>\n",
       "    <tr>\n",
       "      <th>9</th>\n",
       "      <td>Tatuquara</td>\n",
       "      <td>7.482703</td>\n",
       "      <td>0.808718</td>\n",
       "      <td>3.522535</td>\n",
       "      <td>4.631074</td>\n",
       "      <td>6.798883</td>\n",
       "      <td>3.008014</td>\n",
       "      <td>-0.964351</td>\n",
       "      <td>2.548102</td>\n",
       "      <td>1.431294</td>\n",
       "      <td>0.963852</td>\n",
       "    </tr>\n",
       "  </tbody>\n",
       "</table>\n",
       "</div>"
      ],
      "text/plain": [
       "     name_macrozone     Matriz    Portão     Cajuru  Santa Felicidade  \\\n",
       "0            Matriz  -0.775704 -9.273446 -13.251834         -9.929133   \n",
       "1            Portão  -9.465772 -6.393429   1.850775          1.363926   \n",
       "2            Cajuru -13.347997  1.658449  -7.251377          4.607834   \n",
       "3  Santa Felicidade  -9.736806  1.460089   4.511671        -17.754925   \n",
       "4         Boa Vista -21.635851  3.407553   6.087306          8.541591   \n",
       "5         Boqueirão  -2.133196 -0.894730   0.822656          4.979110   \n",
       "6       Pinheirinho  -9.039563 -6.238108   3.661199          3.291209   \n",
       "7               CIC   6.328348 -4.649091   6.776741          3.810906   \n",
       "8       Bairro Novo  -1.588695 -3.159066   2.395866          2.443680   \n",
       "9         Tatuquara   7.482703  0.808718   3.522535          4.631074   \n",
       "\n",
       "   Boa Vista  Boqueirão  Pinheirinho        CIC  Bairro Novo  Tatuquara  \n",
       "0 -22.597482  -1.556217    -8.174095   6.424511    -0.915553   7.675029  \n",
       "1   3.696042  -0.606241    -5.853456  -4.552928    -3.062903   0.712555  \n",
       "2   6.471959   1.014982     3.565036   6.969067     2.299703   3.522535  \n",
       "3   8.926244   4.979110     3.291209   3.426254     2.636006   4.631074  \n",
       "4 -13.052198   6.892505     6.389147  14.879227     5.445083   6.702720  \n",
       "5   6.411690 -19.434241    -1.139632   4.873255    -3.084517   3.104177  \n",
       "6   6.196821  -0.851143    -9.446480   0.866265    -2.375295  -0.964351  \n",
       "7  14.302249   4.777092     1.154754 -12.311130     3.096317   2.932754  \n",
       "8   4.675778  -3.180680    -1.798317   3.384806    -4.607567   1.527457  \n",
       "9   6.798883   3.008014    -0.964351   2.548102     1.431294   0.963852  "
      ]
     },
     "execution_count": 82,
     "metadata": {},
     "output_type": "execute_result"
    }
   ],
   "source": [
    "origin_prop_buste_baseline_error_dist"
   ]
  },
  {
   "cell_type": "code",
   "execution_count": 83,
   "metadata": {
    "scrolled": true
   },
   "outputs": [
    {
     "name": "stderr",
     "output_type": "stream",
     "text": [
      "/home/tarciso/anaconda2/envs/py37/lib/python3.7/site-packages/scipy/stats/stats.py:1713: FutureWarning: Using a non-tuple sequence for multidimensional indexing is deprecated; use `arr[tuple(seq)]` instead of `arr[seq]`. In the future this will be interpreted as an array index, `arr[np.array(seq)]`, which will result either in an error or a different result.\n",
      "  return np.add.reduce(sorted[indexer] * weights, axis=axis) / sumval\n"
     ]
    },
    {
     "data": {
      "text/plain": [
       "<matplotlib.axes._subplots.AxesSubplot at 0x7fb11ad86ef0>"
      ]
     },
     "execution_count": 83,
     "metadata": {},
     "output_type": "execute_result"
    },
    {
     "data": {
      "image/png": "[encoded data removed]",
      "text/plain": [
       "<Figure size 432x288 with 1 Axes>"
      ]
     },
     "metadata": {
      "needs_background": "light"
     },
     "output_type": "display_data"
    }
   ],
   "source": [
    "sns.violinplot(origin_prop_buste_baseline_survey_macrozones)"
   ]
  },
  {
   "cell_type": "markdown",
   "metadata": {},
   "source": [
    "#### All Est. Trips - Survey "
   ]
  },
  {
   "cell_type": "code",
   "execution_count": 84,
   "metadata": {},
   "outputs": [],
   "source": [
    "all_est_survey_macrozones = all_est_trips_macrozones - survey_macrozones"
   ]
  },
  {
   "cell_type": "code",
   "execution_count": 85,
   "metadata": {},
   "outputs": [
    {
     "data": {
      "text/html": [
       "<div>\n",
       "<style scoped>\n",
       "    .dataframe tbody tr th:only-of-type {\n",
       "        vertical-align: middle;\n",
       "    }\n",
       "\n",
       "    .dataframe tbody tr th {\n",
       "        vertical-align: top;\n",
       "    }\n",
       "\n",
       "    .dataframe thead th {\n",
       "        text-align: right;\n",
       "    }\n",
       "</style>\n",
       "<table border=\"1\" class=\"dataframe\">\n",
       "  <thead>\n",
       "    <tr style=\"text-align: right;\">\n",
       "      <th></th>\n",
       "      <th>Matriz</th>\n",
       "      <th>Portão</th>\n",
       "      <th>Cajuru</th>\n",
       "      <th>Santa Felicidade</th>\n",
       "      <th>Boa Vista</th>\n",
       "      <th>Boqueirão</th>\n",
       "      <th>Pinheirinho</th>\n",
       "      <th>CIC</th>\n",
       "      <th>Bairro Novo</th>\n",
       "      <th>Tatuquara</th>\n",
       "    </tr>\n",
       "    <tr>\n",
       "      <th>name_macrozone</th>\n",
       "      <th></th>\n",
       "      <th></th>\n",
       "      <th></th>\n",
       "      <th></th>\n",
       "      <th></th>\n",
       "      <th></th>\n",
       "      <th></th>\n",
       "      <th></th>\n",
       "      <th></th>\n",
       "      <th></th>\n",
       "    </tr>\n",
       "  </thead>\n",
       "  <tbody>\n",
       "    <tr>\n",
       "      <th>Matriz</th>\n",
       "      <td>9.631849</td>\n",
       "      <td>5.877786</td>\n",
       "      <td>1.500460</td>\n",
       "      <td>-15.189055</td>\n",
       "      <td>-21.098701</td>\n",
       "      <td>19.920971</td>\n",
       "      <td>-9.919150</td>\n",
       "      <td>-9.619470</td>\n",
       "      <td>-2.258926</td>\n",
       "      <td>-2.442497</td>\n",
       "    </tr>\n",
       "    <tr>\n",
       "      <th>Portão</th>\n",
       "      <td>7.498576</td>\n",
       "      <td>6.078318</td>\n",
       "      <td>2.342288</td>\n",
       "      <td>0.186771</td>\n",
       "      <td>-2.166916</td>\n",
       "      <td>6.641879</td>\n",
       "      <td>3.634903</td>\n",
       "      <td>2.060384</td>\n",
       "      <td>0.983458</td>\n",
       "      <td>1.815835</td>\n",
       "    </tr>\n",
       "    <tr>\n",
       "      <th>Cajuru</th>\n",
       "      <td>14.810977</td>\n",
       "      <td>1.878230</td>\n",
       "      <td>0.148035</td>\n",
       "      <td>-0.481302</td>\n",
       "      <td>0.361602</td>\n",
       "      <td>3.925309</td>\n",
       "      <td>1.896254</td>\n",
       "      <td>-0.201934</td>\n",
       "      <td>0.072834</td>\n",
       "      <td>-0.152008</td>\n",
       "    </tr>\n",
       "    <tr>\n",
       "      <th>Santa Felicidade</th>\n",
       "      <td>-3.743458</td>\n",
       "      <td>-0.959986</td>\n",
       "      <td>-1.962227</td>\n",
       "      <td>-15.590474</td>\n",
       "      <td>-1.498765</td>\n",
       "      <td>-1.150375</td>\n",
       "      <td>-1.174770</td>\n",
       "      <td>-3.499163</td>\n",
       "      <td>-1.469432</td>\n",
       "      <td>-0.111273</td>\n",
       "    </tr>\n",
       "    <tr>\n",
       "      <th>Boa Vista</th>\n",
       "      <td>-9.319388</td>\n",
       "      <td>-2.417979</td>\n",
       "      <td>-0.206092</td>\n",
       "      <td>-0.985193</td>\n",
       "      <td>-15.255215</td>\n",
       "      <td>-1.082634</td>\n",
       "      <td>-0.691274</td>\n",
       "      <td>-0.316850</td>\n",
       "      <td>-0.547744</td>\n",
       "      <td>-0.267267</td>\n",
       "    </tr>\n",
       "    <tr>\n",
       "      <th>Boqueirão</th>\n",
       "      <td>26.964741</td>\n",
       "      <td>4.548136</td>\n",
       "      <td>3.594287</td>\n",
       "      <td>-0.276368</td>\n",
       "      <td>-1.073767</td>\n",
       "      <td>-1.994065</td>\n",
       "      <td>2.583997</td>\n",
       "      <td>0.163943</td>\n",
       "      <td>0.453908</td>\n",
       "      <td>1.187540</td>\n",
       "    </tr>\n",
       "    <tr>\n",
       "      <th>Pinheirinho</th>\n",
       "      <td>-0.922085</td>\n",
       "      <td>1.914237</td>\n",
       "      <td>1.933290</td>\n",
       "      <td>-0.261765</td>\n",
       "      <td>-0.896495</td>\n",
       "      <td>3.032883</td>\n",
       "      <td>-3.770282</td>\n",
       "      <td>1.096905</td>\n",
       "      <td>0.252906</td>\n",
       "      <td>1.092749</td>\n",
       "    </tr>\n",
       "    <tr>\n",
       "      <th>CIC</th>\n",
       "      <td>1.493607</td>\n",
       "      <td>1.908554</td>\n",
       "      <td>-1.114160</td>\n",
       "      <td>-2.437069</td>\n",
       "      <td>-1.154553</td>\n",
       "      <td>-0.550535</td>\n",
       "      <td>0.416407</td>\n",
       "      <td>-12.324124</td>\n",
       "      <td>-0.195090</td>\n",
       "      <td>0.041779</td>\n",
       "    </tr>\n",
       "    <tr>\n",
       "      <th>Bairro Novo</th>\n",
       "      <td>7.845673</td>\n",
       "      <td>1.428871</td>\n",
       "      <td>0.135660</td>\n",
       "      <td>-1.106344</td>\n",
       "      <td>-1.134007</td>\n",
       "      <td>0.566576</td>\n",
       "      <td>1.331833</td>\n",
       "      <td>0.335568</td>\n",
       "      <td>-2.771106</td>\n",
       "      <td>-0.106180</td>\n",
       "    </tr>\n",
       "    <tr>\n",
       "      <th>Tatuquara</th>\n",
       "      <td>0.752386</td>\n",
       "      <td>1.662911</td>\n",
       "      <td>-0.272149</td>\n",
       "      <td>0.178700</td>\n",
       "      <td>-0.122670</td>\n",
       "      <td>0.585025</td>\n",
       "      <td>0.348632</td>\n",
       "      <td>-0.265505</td>\n",
       "      <td>-0.261155</td>\n",
       "      <td>-0.329430</td>\n",
       "    </tr>\n",
       "  </tbody>\n",
       "</table>\n",
       "</div>"
      ],
      "text/plain": [
       "                     Matriz    Portão    Cajuru  Santa Felicidade  Boa Vista  \\\n",
       "name_macrozone                                                                 \n",
       "Matriz             9.631849  5.877786  1.500460        -15.189055 -21.098701   \n",
       "Portão             7.498576  6.078318  2.342288          0.186771  -2.166916   \n",
       "Cajuru            14.810977  1.878230  0.148035         -0.481302   0.361602   \n",
       "Santa Felicidade  -3.743458 -0.959986 -1.962227        -15.590474  -1.498765   \n",
       "Boa Vista         -9.319388 -2.417979 -0.206092         -0.985193 -15.255215   \n",
       "Boqueirão         26.964741  4.548136  3.594287         -0.276368  -1.073767   \n",
       "Pinheirinho       -0.922085  1.914237  1.933290         -0.261765  -0.896495   \n",
       "CIC                1.493607  1.908554 -1.114160         -2.437069  -1.154553   \n",
       "Bairro Novo        7.845673  1.428871  0.135660         -1.106344  -1.134007   \n",
       "Tatuquara          0.752386  1.662911 -0.272149          0.178700  -0.122670   \n",
       "\n",
       "                  Boqueirão  Pinheirinho        CIC  Bairro Novo  Tatuquara  \n",
       "name_macrozone                                                               \n",
       "Matriz            19.920971    -9.919150  -9.619470    -2.258926  -2.442497  \n",
       "Portão             6.641879     3.634903   2.060384     0.983458   1.815835  \n",
       "Cajuru             3.925309     1.896254  -0.201934     0.072834  -0.152008  \n",
       "Santa Felicidade  -1.150375    -1.174770  -3.499163    -1.469432  -0.111273  \n",
       "Boa Vista         -1.082634    -0.691274  -0.316850    -0.547744  -0.267267  \n",
       "Boqueirão         -1.994065     2.583997   0.163943     0.453908   1.187540  \n",
       "Pinheirinho        3.032883    -3.770282   1.096905     0.252906   1.092749  \n",
       "CIC               -0.550535     0.416407 -12.324124    -0.195090   0.041779  \n",
       "Bairro Novo        0.566576     1.331833   0.335568    -2.771106  -0.106180  \n",
       "Tatuquara          0.585025     0.348632  -0.265505    -0.261155  -0.329430  "
      ]
     },
     "execution_count": 85,
     "metadata": {},
     "output_type": "execute_result"
    }
   ],
   "source": [
    "all_est_survey_macrozones"
   ]
  },
  {
   "cell_type": "code",
   "execution_count": 86,
   "metadata": {
    "scrolled": true
   },
   "outputs": [
    {
     "name": "stdout",
     "output_type": "stream",
     "text": [
      "-21.098701390304868 26.964741072704868\n"
     ]
    }
   ],
   "source": [
    "print(np.min(all_est_survey_macrozones.values),np.max(all_est_survey_macrozones.values))"
   ]
  },
  {
   "cell_type": "code",
   "execution_count": 87,
   "metadata": {},
   "outputs": [],
   "source": [
    "all_est_survey_macrozones_error = np.abs(all_est_survey_macrozones.values).mean()"
   ]
  },
  {
   "cell_type": "code",
   "execution_count": 88,
   "metadata": {
    "scrolled": true
   },
   "outputs": [
    {
     "data": {
      "text/plain": [
       "3.182368440685853"
      ]
     },
     "execution_count": 88,
     "metadata": {},
     "output_type": "execute_result"
    }
   ],
   "source": [
    "all_est_survey_macrozones_error"
   ]
  },
  {
   "cell_type": "code",
   "execution_count": 89,
   "metadata": {
    "scrolled": true
   },
   "outputs": [
    {
     "data": {
      "image/png": "[encoded data removed]",
      "text/plain": [
       "<Figure size 432x288 with 2 Axes>"
      ]
     },
     "metadata": {
      "needs_background": "light"
     },
     "output_type": "display_data"
    }
   ],
   "source": [
    "all_est_survey_macrozones_heatmap = build_heatmap_from_od_matrix(all_est_survey_macrozones,\n",
    "                                                                                 color_map=div_scale_cmap,\n",
    "                                                                                 center_val=0.0,min_val=-60.0,max_val=60.0,\n",
    "                                                                                 color_label='Proportion Error (no. trips per 1000 trips)')"
   ]
  },
  {
   "cell_type": "code",
   "execution_count": 90,
   "metadata": {},
   "outputs": [],
   "source": [
    "all_est_survey_macrozones_heatmap.get_figure().savefig('/local/tarciso/data/od-mat-validation/heatmaps/error-matrices/all_est_survey_macrozones_heatmap.png', bbox_inches='tight')"
   ]
  },
  {
   "cell_type": "markdown",
   "metadata": {},
   "source": [
    "## Error Distribution"
   ]
  },
  {
   "cell_type": "code",
   "execution_count": 91,
   "metadata": {},
   "outputs": [],
   "source": [
    "all_est_survey_macrozones_error_values = np.concatenate([all_est_survey_macrozones[col].values for col in all_est_survey_macrozones.columns], axis=0 )"
   ]
  },
  {
   "cell_type": "code",
   "execution_count": 92,
   "metadata": {},
   "outputs": [
    {
     "data": {
      "text/plain": [
       "(-21.098701390304868, 26.964741072704868)"
      ]
     },
     "execution_count": 92,
     "metadata": {},
     "output_type": "execute_result"
    }
   ],
   "source": [
    "(np.min(all_est_survey_macrozones_error_values),np.max(all_est_survey_macrozones_error_values))"
   ]
  },
  {
   "cell_type": "code",
   "execution_count": 125,
   "metadata": {},
   "outputs": [
    {
     "data": {
      "text/plain": [
       "array([-3.52359278,  3.98759181])"
      ]
     },
     "execution_count": 125,
     "metadata": {},
     "output_type": "execute_result"
    }
   ],
   "source": [
    "np.quantile(all_est_survey_macrozones_error_values, [0.1,0.9])"
   ]
  },
  {
   "cell_type": "code",
   "execution_count": 93,
   "metadata": {},
   "outputs": [
    {
     "name": "stderr",
     "output_type": "stream",
     "text": [
      "/home/tarciso/anaconda2/envs/py37/lib/python3.7/site-packages/scipy/stats/stats.py:1713: FutureWarning: Using a non-tuple sequence for multidimensional indexing is deprecated; use `arr[tuple(seq)]` instead of `arr[seq]`. In the future this will be interpreted as an array index, `arr[np.array(seq)]`, which will result either in an error or a different result.\n",
      "  return np.add.reduce(sorted[indexer] * weights, axis=axis) / sumval\n"
     ]
    },
    {
     "data": {
      "text/plain": [
       "<matplotlib.axes._subplots.AxesSubplot at 0x7fb11ac34198>"
      ]
     },
     "execution_count": 93,
     "metadata": {},
     "output_type": "execute_result"
    },
    {
     "data": {
      "image/png": "[encoded data removed]",
      "text/plain": [
       "<Figure size 432x288 with 1 Axes>"
      ]
     },
     "metadata": {
      "needs_background": "light"
     },
     "output_type": "display_data"
    }
   ],
   "source": [
    "all_est_survey_macrozones_error_hist = sns.distplot(all_est_survey_macrozones_error_values, hist=True, kde=False, rug=True)\n",
    "all_est_survey_macrozones_error_hist.set(xlabel='Proportion Error (no. trips per 1000 trips)', ylabel='Frequency')\n",
    "all_est_survey_macrozones_error_hist.set(xlim=(-55,55))\n",
    "all_est_survey_macrozones_error_hist"
   ]
  },
  {
   "cell_type": "code",
   "execution_count": 94,
   "metadata": {},
   "outputs": [],
   "source": [
    "all_est_survey_macrozones_error_hist.get_figure().savefig('/local/tarciso/data/od-mat-validation/heatmaps/error-matrices/all_est_survey_macrozones_error_hist.png', bbox_inches='tight')"
   ]
  },
  {
   "cell_type": "code",
   "execution_count": 95,
   "metadata": {},
   "outputs": [
    {
     "name": "stderr",
     "output_type": "stream",
     "text": [
      "/home/tarciso/anaconda2/envs/py37/lib/python3.7/site-packages/scipy/stats/stats.py:1713: FutureWarning: Using a non-tuple sequence for multidimensional indexing is deprecated; use `arr[tuple(seq)]` instead of `arr[seq]`. In the future this will be interpreted as an array index, `arr[np.array(seq)]`, which will result either in an error or a different result.\n",
      "  return np.add.reduce(sorted[indexer] * weights, axis=axis) / sumval\n"
     ]
    },
    {
     "data": {
      "text/plain": [
       "<matplotlib.axes._subplots.AxesSubplot at 0x7fb11abde8d0>"
      ]
     },
     "execution_count": 95,
     "metadata": {},
     "output_type": "execute_result"
    },
    {
     "data": {
      "image/png": "[encoded data removed]",
      "text/plain": [
       "<Figure size 432x288 with 1 Axes>"
      ]
     },
     "metadata": {
      "needs_background": "light"
     },
     "output_type": "display_data"
    }
   ],
   "source": [
    "sns.violinplot(all_est_survey_macrozones)"
   ]
  },
  {
   "cell_type": "code",
   "execution_count": 96,
   "metadata": {},
   "outputs": [],
   "source": [
    "def mae(errors):\n",
    "    return np.mean(np.abs(errors))\n",
    "macrozones_mae = all_est_survey_macrozones.reset_index().drop('name_macrozone', axis=1).apply(lambda x: mae(x)).reset_index()\n",
    "macrozones_mae.columns = ['macrozone','MAE']\n",
    "\n",
    "#sns.barplot(all_est_survey_macrozones.reset_index().drop('name_macrozone', axis=1))"
   ]
  },
  {
   "cell_type": "code",
   "execution_count": 97,
   "metadata": {
    "scrolled": true
   },
   "outputs": [
    {
     "data": {
      "text/html": [
       "<div>\n",
       "<style scoped>\n",
       "    .dataframe tbody tr th:only-of-type {\n",
       "        vertical-align: middle;\n",
       "    }\n",
       "\n",
       "    .dataframe tbody tr th {\n",
       "        vertical-align: top;\n",
       "    }\n",
       "\n",
       "    .dataframe thead th {\n",
       "        text-align: right;\n",
       "    }\n",
       "</style>\n",
       "<table border=\"1\" class=\"dataframe\">\n",
       "  <thead>\n",
       "    <tr style=\"text-align: right;\">\n",
       "      <th></th>\n",
       "      <th>macrozone</th>\n",
       "      <th>MAE</th>\n",
       "    </tr>\n",
       "  </thead>\n",
       "  <tbody>\n",
       "    <tr>\n",
       "      <th>0</th>\n",
       "      <td>Matriz</td>\n",
       "      <td>8.298274</td>\n",
       "    </tr>\n",
       "    <tr>\n",
       "      <th>1</th>\n",
       "      <td>Portão</td>\n",
       "      <td>2.867501</td>\n",
       "    </tr>\n",
       "    <tr>\n",
       "      <th>2</th>\n",
       "      <td>Cajuru</td>\n",
       "      <td>1.320865</td>\n",
       "    </tr>\n",
       "    <tr>\n",
       "      <th>3</th>\n",
       "      <td>Santa Felicidade</td>\n",
       "      <td>3.669304</td>\n",
       "    </tr>\n",
       "    <tr>\n",
       "      <th>4</th>\n",
       "      <td>Boa Vista</td>\n",
       "      <td>4.476269</td>\n",
       "    </tr>\n",
       "    <tr>\n",
       "      <th>5</th>\n",
       "      <td>Boqueirão</td>\n",
       "      <td>3.945025</td>\n",
       "    </tr>\n",
       "    <tr>\n",
       "      <th>6</th>\n",
       "      <td>Pinheirinho</td>\n",
       "      <td>2.576750</td>\n",
       "    </tr>\n",
       "    <tr>\n",
       "      <th>7</th>\n",
       "      <td>CIC</td>\n",
       "      <td>2.988385</td>\n",
       "    </tr>\n",
       "    <tr>\n",
       "      <th>8</th>\n",
       "      <td>Bairro Novo</td>\n",
       "      <td>0.926656</td>\n",
       "    </tr>\n",
       "    <tr>\n",
       "      <th>9</th>\n",
       "      <td>Tatuquara</td>\n",
       "      <td>0.754656</td>\n",
       "    </tr>\n",
       "  </tbody>\n",
       "</table>\n",
       "</div>"
      ],
      "text/plain": [
       "          macrozone       MAE\n",
       "0            Matriz  8.298274\n",
       "1            Portão  2.867501\n",
       "2            Cajuru  1.320865\n",
       "3  Santa Felicidade  3.669304\n",
       "4         Boa Vista  4.476269\n",
       "5         Boqueirão  3.945025\n",
       "6       Pinheirinho  2.576750\n",
       "7               CIC  2.988385\n",
       "8       Bairro Novo  0.926656\n",
       "9         Tatuquara  0.754656"
      ]
     },
     "execution_count": 97,
     "metadata": {},
     "output_type": "execute_result"
    }
   ],
   "source": [
    "macrozones_mae"
   ]
  },
  {
   "cell_type": "code",
   "execution_count": 98,
   "metadata": {
    "scrolled": true
   },
   "outputs": [
    {
     "data": {
      "text/plain": [
       "[Text(0,0.5,'Macrozone'),\n",
       " Text(0.5,0,'MAE - Mean Absolute Error (no. trips per 1000 trips)')]"
      ]
     },
     "execution_count": 98,
     "metadata": {},
     "output_type": "execute_result"
    },
    {
     "data": {
      "image/png": "[encoded data removed]",
      "text/plain": [
       "<Figure size 432x288 with 1 Axes>"
      ]
     },
     "metadata": {
      "needs_background": "light"
     },
     "output_type": "display_data"
    }
   ],
   "source": [
    "macrozones_mae_barplot = sns.barplot(x='MAE',y='macrozone', data=macrozones_mae, color='#bdbdbd')\n",
    "macrozones_mae_barplot.set(xlabel='MAE - Mean Absolute Error (no. trips per 1000 trips)', ylabel='Macrozone')"
   ]
  },
  {
   "cell_type": "code",
   "execution_count": 99,
   "metadata": {},
   "outputs": [],
   "source": [
    "macrozones_mae_barplot.get_figure().savefig('/local/tarciso/data/od-mat-validation/heatmaps/error-matrices/macrozones_mae_barplot.png', bbox_inches='tight')"
   ]
  },
  {
   "cell_type": "code",
   "execution_count": 100,
   "metadata": {},
   "outputs": [],
   "source": [
    "def mean_error(errors):\n",
    "    return np.mean(errors)\n",
    "macrozones_mean_error = all_est_survey_macrozones.reset_index().drop('name_macrozone', axis=1).apply(lambda x: mean_error(x)).reset_index()\n",
    "macrozones_mean_error.columns = ['macrozone','mean_error']\n",
    "\n",
    "#sns.barplot(all_est_survey_macrozones.reset_index().drop('name_macrozone', axis=1))"
   ]
  },
  {
   "cell_type": "code",
   "execution_count": 101,
   "metadata": {
    "scrolled": true
   },
   "outputs": [
    {
     "data": {
      "text/html": [
       "<div>\n",
       "<style scoped>\n",
       "    .dataframe tbody tr th:only-of-type {\n",
       "        vertical-align: middle;\n",
       "    }\n",
       "\n",
       "    .dataframe tbody tr th {\n",
       "        vertical-align: top;\n",
       "    }\n",
       "\n",
       "    .dataframe thead th {\n",
       "        text-align: right;\n",
       "    }\n",
       "</style>\n",
       "<table border=\"1\" class=\"dataframe\">\n",
       "  <thead>\n",
       "    <tr style=\"text-align: right;\">\n",
       "      <th></th>\n",
       "      <th>macrozone</th>\n",
       "      <th>mean_error</th>\n",
       "    </tr>\n",
       "  </thead>\n",
       "  <tbody>\n",
       "    <tr>\n",
       "      <th>0</th>\n",
       "      <td>Matriz</td>\n",
       "      <td>5.501288</td>\n",
       "    </tr>\n",
       "    <tr>\n",
       "      <th>1</th>\n",
       "      <td>Portão</td>\n",
       "      <td>2.191908</td>\n",
       "    </tr>\n",
       "    <tr>\n",
       "      <th>2</th>\n",
       "      <td>Cajuru</td>\n",
       "      <td>0.609939</td>\n",
       "    </tr>\n",
       "    <tr>\n",
       "      <th>3</th>\n",
       "      <td>Santa Felicidade</td>\n",
       "      <td>-3.596210</td>\n",
       "    </tr>\n",
       "    <tr>\n",
       "      <th>4</th>\n",
       "      <td>Boa Vista</td>\n",
       "      <td>-4.403949</td>\n",
       "    </tr>\n",
       "    <tr>\n",
       "      <th>5</th>\n",
       "      <td>Boqueirão</td>\n",
       "      <td>2.989503</td>\n",
       "    </tr>\n",
       "    <tr>\n",
       "      <th>6</th>\n",
       "      <td>Pinheirinho</td>\n",
       "      <td>-0.534345</td>\n",
       "    </tr>\n",
       "    <tr>\n",
       "      <th>7</th>\n",
       "      <td>CIC</td>\n",
       "      <td>-2.257025</td>\n",
       "    </tr>\n",
       "    <tr>\n",
       "      <th>8</th>\n",
       "      <td>Bairro Novo</td>\n",
       "      <td>-0.574035</td>\n",
       "    </tr>\n",
       "    <tr>\n",
       "      <th>9</th>\n",
       "      <td>Tatuquara</td>\n",
       "      <td>0.072925</td>\n",
       "    </tr>\n",
       "  </tbody>\n",
       "</table>\n",
       "</div>"
      ],
      "text/plain": [
       "          macrozone  mean_error\n",
       "0            Matriz    5.501288\n",
       "1            Portão    2.191908\n",
       "2            Cajuru    0.609939\n",
       "3  Santa Felicidade   -3.596210\n",
       "4         Boa Vista   -4.403949\n",
       "5         Boqueirão    2.989503\n",
       "6       Pinheirinho   -0.534345\n",
       "7               CIC   -2.257025\n",
       "8       Bairro Novo   -0.574035\n",
       "9         Tatuquara    0.072925"
      ]
     },
     "execution_count": 101,
     "metadata": {},
     "output_type": "execute_result"
    }
   ],
   "source": [
    "macrozones_mean_error"
   ]
  },
  {
   "cell_type": "code",
   "execution_count": 102,
   "metadata": {
    "scrolled": true
   },
   "outputs": [
    {
     "data": {
      "text/plain": [
       "[Text(0,0.5,'Macrozone'), Text(0.5,0,'Mean Error (no. trips per 1000 trips)')]"
      ]
     },
     "execution_count": 102,
     "metadata": {},
     "output_type": "execute_result"
    },
    {
     "data": {
      "image/png": "[encoded data removed]",
      "text/plain": [
       "<Figure size 432x288 with 1 Axes>"
      ]
     },
     "metadata": {
      "needs_background": "light"
     },
     "output_type": "display_data"
    }
   ],
   "source": [
    "macrozones_mean_error_barplot = sns.barplot(x='mean_error',y='macrozone', data=macrozones_mean_error, color='#bdbdbd')\n",
    "macrozones_mean_error_barplot.set(xlabel='Mean Error (no. trips per 1000 trips)', ylabel='Macrozone')"
   ]
  },
  {
   "cell_type": "code",
   "execution_count": 103,
   "metadata": {},
   "outputs": [],
   "source": [
    "def median_error(errors):\n",
    "    return np.median(errors)\n",
    "macrozones_median_error = all_est_survey_macrozones.reset_index().drop('name_macrozone', axis=1).apply(lambda x: median_error(x)).reset_index()\n",
    "macrozones_median_error.columns = ['macrozone','median_error']\n",
    "\n",
    "#sns.barplot(all_est_survey_macrozones.reset_index().drop('name_macrozone', axis=1))"
   ]
  },
  {
   "cell_type": "code",
   "execution_count": 104,
   "metadata": {
    "scrolled": true
   },
   "outputs": [
    {
     "data": {
      "text/html": [
       "<div>\n",
       "<style scoped>\n",
       "    .dataframe tbody tr th:only-of-type {\n",
       "        vertical-align: middle;\n",
       "    }\n",
       "\n",
       "    .dataframe tbody tr th {\n",
       "        vertical-align: top;\n",
       "    }\n",
       "\n",
       "    .dataframe thead th {\n",
       "        text-align: right;\n",
       "    }\n",
       "</style>\n",
       "<table border=\"1\" class=\"dataframe\">\n",
       "  <thead>\n",
       "    <tr style=\"text-align: right;\">\n",
       "      <th></th>\n",
       "      <th>macrozone</th>\n",
       "      <th>median_error</th>\n",
       "    </tr>\n",
       "  </thead>\n",
       "  <tbody>\n",
       "    <tr>\n",
       "      <th>0</th>\n",
       "      <td>Matriz</td>\n",
       "      <td>4.496091</td>\n",
       "    </tr>\n",
       "    <tr>\n",
       "      <th>1</th>\n",
       "      <td>Portão</td>\n",
       "      <td>1.893392</td>\n",
       "    </tr>\n",
       "    <tr>\n",
       "      <th>2</th>\n",
       "      <td>Cajuru</td>\n",
       "      <td>0.141848</td>\n",
       "    </tr>\n",
       "    <tr>\n",
       "      <th>3</th>\n",
       "      <td>Santa Felicidade</td>\n",
       "      <td>-0.733248</td>\n",
       "    </tr>\n",
       "    <tr>\n",
       "      <th>4</th>\n",
       "      <td>Boa Vista</td>\n",
       "      <td>-1.144280</td>\n",
       "    </tr>\n",
       "    <tr>\n",
       "      <th>5</th>\n",
       "      <td>Boqueirão</td>\n",
       "      <td>0.575800</td>\n",
       "    </tr>\n",
       "    <tr>\n",
       "      <th>6</th>\n",
       "      <td>Pinheirinho</td>\n",
       "      <td>0.382520</td>\n",
       "    </tr>\n",
       "    <tr>\n",
       "      <th>7</th>\n",
       "      <td>CIC</td>\n",
       "      <td>-0.233719</td>\n",
       "    </tr>\n",
       "    <tr>\n",
       "      <th>8</th>\n",
       "      <td>Bairro Novo</td>\n",
       "      <td>-0.228122</td>\n",
       "    </tr>\n",
       "    <tr>\n",
       "      <th>9</th>\n",
       "      <td>Tatuquara</td>\n",
       "      <td>-0.108727</td>\n",
       "    </tr>\n",
       "  </tbody>\n",
       "</table>\n",
       "</div>"
      ],
      "text/plain": [
       "          macrozone  median_error\n",
       "0            Matriz      4.496091\n",
       "1            Portão      1.893392\n",
       "2            Cajuru      0.141848\n",
       "3  Santa Felicidade     -0.733248\n",
       "4         Boa Vista     -1.144280\n",
       "5         Boqueirão      0.575800\n",
       "6       Pinheirinho      0.382520\n",
       "7               CIC     -0.233719\n",
       "8       Bairro Novo     -0.228122\n",
       "9         Tatuquara     -0.108727"
      ]
     },
     "execution_count": 104,
     "metadata": {},
     "output_type": "execute_result"
    }
   ],
   "source": [
    "macrozones_median_error"
   ]
  },
  {
   "cell_type": "code",
   "execution_count": 105,
   "metadata": {},
   "outputs": [
    {
     "data": {
      "text/plain": [
       "[Text(0,0.5,'Macrozone'),\n",
       " Text(0.5,0,'Median Error (no. trips per 1000 trips)')]"
      ]
     },
     "execution_count": 105,
     "metadata": {},
     "output_type": "execute_result"
    },
    {
     "data": {
      "image/png": "[encoded data removed]",
      "text/plain": [
       "<Figure size 432x288 with 1 Axes>"
      ]
     },
     "metadata": {
      "needs_background": "light"
     },
     "output_type": "display_data"
    }
   ],
   "source": [
    "macrozones_median_error_barplot = sns.barplot(x='median_error',y='macrozone', data=macrozones_median_error, color='#bdbdbd')\n",
    "macrozones_median_error_barplot.set(xlabel='Median Error (no. trips per 1000 trips)', ylabel='Macrozone')"
   ]
  },
  {
   "cell_type": "code",
   "execution_count": 106,
   "metadata": {},
   "outputs": [],
   "source": [
    "macrozones_median_error_barplot.get_figure().savefig('/local/tarciso/data/od-mat-validation/heatmaps/error-matrices/macrozones_median_error_barplot.png', bbox_inches='tight')"
   ]
  },
  {
   "cell_type": "markdown",
   "metadata": {},
   "source": [
    "#### Weekday Est. Trips - Survey "
   ]
  },
  {
   "cell_type": "code",
   "execution_count": 107,
   "metadata": {},
   "outputs": [],
   "source": [
    "wday_est_survey_macrozones = wday_est_trips_macrozones - survey_macrozones"
   ]
  },
  {
   "cell_type": "code",
   "execution_count": 108,
   "metadata": {
    "scrolled": true
   },
   "outputs": [
    {
     "data": {
      "text/html": [
       "<div>\n",
       "<style scoped>\n",
       "    .dataframe tbody tr th:only-of-type {\n",
       "        vertical-align: middle;\n",
       "    }\n",
       "\n",
       "    .dataframe tbody tr th {\n",
       "        vertical-align: top;\n",
       "    }\n",
       "\n",
       "    .dataframe thead th {\n",
       "        text-align: right;\n",
       "    }\n",
       "</style>\n",
       "<table border=\"1\" class=\"dataframe\">\n",
       "  <thead>\n",
       "    <tr style=\"text-align: right;\">\n",
       "      <th></th>\n",
       "      <th>Matriz</th>\n",
       "      <th>Portão</th>\n",
       "      <th>Cajuru</th>\n",
       "      <th>Santa Felicidade</th>\n",
       "      <th>Boa Vista</th>\n",
       "      <th>Boqueirão</th>\n",
       "      <th>Pinheirinho</th>\n",
       "      <th>CIC</th>\n",
       "      <th>Bairro Novo</th>\n",
       "      <th>Tatuquara</th>\n",
       "    </tr>\n",
       "    <tr>\n",
       "      <th>name_macrozone</th>\n",
       "      <th></th>\n",
       "      <th></th>\n",
       "      <th></th>\n",
       "      <th></th>\n",
       "      <th></th>\n",
       "      <th></th>\n",
       "      <th></th>\n",
       "      <th></th>\n",
       "      <th></th>\n",
       "      <th></th>\n",
       "    </tr>\n",
       "  </thead>\n",
       "  <tbody>\n",
       "    <tr>\n",
       "      <th>Matriz</th>\n",
       "      <td>9.516198</td>\n",
       "      <td>6.015724</td>\n",
       "      <td>1.645222</td>\n",
       "      <td>-15.108086</td>\n",
       "      <td>-20.948415</td>\n",
       "      <td>18.286215</td>\n",
       "      <td>-9.860768</td>\n",
       "      <td>-9.555118</td>\n",
       "      <td>-2.214499</td>\n",
       "      <td>-2.428044</td>\n",
       "    </tr>\n",
       "    <tr>\n",
       "      <th>Portão</th>\n",
       "      <td>7.437113</td>\n",
       "      <td>6.150663</td>\n",
       "      <td>2.367701</td>\n",
       "      <td>0.210441</td>\n",
       "      <td>-2.150937</td>\n",
       "      <td>6.693239</td>\n",
       "      <td>3.692080</td>\n",
       "      <td>2.123732</td>\n",
       "      <td>1.013952</td>\n",
       "      <td>1.835928</td>\n",
       "    </tr>\n",
       "    <tr>\n",
       "      <th>Cajuru</th>\n",
       "      <td>15.010791</td>\n",
       "      <td>1.902527</td>\n",
       "      <td>0.204320</td>\n",
       "      <td>-0.470643</td>\n",
       "      <td>0.380856</td>\n",
       "      <td>3.961171</td>\n",
       "      <td>1.909569</td>\n",
       "      <td>-0.191312</td>\n",
       "      <td>0.079056</td>\n",
       "      <td>-0.149868</td>\n",
       "    </tr>\n",
       "    <tr>\n",
       "      <th>Santa Felicidade</th>\n",
       "      <td>-3.616281</td>\n",
       "      <td>-0.941420</td>\n",
       "      <td>-1.957253</td>\n",
       "      <td>-15.543139</td>\n",
       "      <td>-1.487545</td>\n",
       "      <td>-1.146412</td>\n",
       "      <td>-1.168537</td>\n",
       "      <td>-3.478783</td>\n",
       "      <td>-1.467569</td>\n",
       "      <td>-0.109756</td>\n",
       "    </tr>\n",
       "    <tr>\n",
       "      <th>Boa Vista</th>\n",
       "      <td>-9.124681</td>\n",
       "      <td>-2.401846</td>\n",
       "      <td>-0.187589</td>\n",
       "      <td>-0.970285</td>\n",
       "      <td>-15.188339</td>\n",
       "      <td>-1.074444</td>\n",
       "      <td>-0.685820</td>\n",
       "      <td>-0.310649</td>\n",
       "      <td>-0.546044</td>\n",
       "      <td>-0.266390</td>\n",
       "    </tr>\n",
       "    <tr>\n",
       "      <th>Boqueirão</th>\n",
       "      <td>26.050975</td>\n",
       "      <td>4.493556</td>\n",
       "      <td>3.629579</td>\n",
       "      <td>-0.268816</td>\n",
       "      <td>-1.063566</td>\n",
       "      <td>-2.349753</td>\n",
       "      <td>2.617905</td>\n",
       "      <td>0.181596</td>\n",
       "      <td>0.482623</td>\n",
       "      <td>1.195575</td>\n",
       "    </tr>\n",
       "    <tr>\n",
       "      <th>Pinheirinho</th>\n",
       "      <td>-0.823204</td>\n",
       "      <td>1.965928</td>\n",
       "      <td>1.946362</td>\n",
       "      <td>-0.251783</td>\n",
       "      <td>-0.891094</td>\n",
       "      <td>3.067450</td>\n",
       "      <td>-3.731271</td>\n",
       "      <td>1.129050</td>\n",
       "      <td>0.275663</td>\n",
       "      <td>1.114611</td>\n",
       "    </tr>\n",
       "    <tr>\n",
       "      <th>CIC</th>\n",
       "      <td>1.603987</td>\n",
       "      <td>1.971673</td>\n",
       "      <td>-1.106494</td>\n",
       "      <td>-2.413907</td>\n",
       "      <td>-1.149422</td>\n",
       "      <td>-0.535421</td>\n",
       "      <td>0.444573</td>\n",
       "      <td>-12.262191</td>\n",
       "      <td>-0.184834</td>\n",
       "      <td>0.056561</td>\n",
       "    </tr>\n",
       "    <tr>\n",
       "      <th>Bairro Novo</th>\n",
       "      <td>7.934356</td>\n",
       "      <td>1.461589</td>\n",
       "      <td>0.141745</td>\n",
       "      <td>-1.102200</td>\n",
       "      <td>-1.131556</td>\n",
       "      <td>0.596148</td>\n",
       "      <td>1.356651</td>\n",
       "      <td>0.346817</td>\n",
       "      <td>-2.761712</td>\n",
       "      <td>-0.102667</td>\n",
       "    </tr>\n",
       "    <tr>\n",
       "      <th>Tatuquara</th>\n",
       "      <td>0.780748</td>\n",
       "      <td>1.681981</td>\n",
       "      <td>-0.270502</td>\n",
       "      <td>0.181408</td>\n",
       "      <td>-0.121595</td>\n",
       "      <td>0.590981</td>\n",
       "      <td>0.367438</td>\n",
       "      <td>-0.250406</td>\n",
       "      <td>-0.257884</td>\n",
       "      <td>-0.323280</td>\n",
       "    </tr>\n",
       "  </tbody>\n",
       "</table>\n",
       "</div>"
      ],
      "text/plain": [
       "                     Matriz    Portão    Cajuru  Santa Felicidade  Boa Vista  \\\n",
       "name_macrozone                                                                 \n",
       "Matriz             9.516198  6.015724  1.645222        -15.108086 -20.948415   \n",
       "Portão             7.437113  6.150663  2.367701          0.210441  -2.150937   \n",
       "Cajuru            15.010791  1.902527  0.204320         -0.470643   0.380856   \n",
       "Santa Felicidade  -3.616281 -0.941420 -1.957253        -15.543139  -1.487545   \n",
       "Boa Vista         -9.124681 -2.401846 -0.187589         -0.970285 -15.188339   \n",
       "Boqueirão         26.050975  4.493556  3.629579         -0.268816  -1.063566   \n",
       "Pinheirinho       -0.823204  1.965928  1.946362         -0.251783  -0.891094   \n",
       "CIC                1.603987  1.971673 -1.106494         -2.413907  -1.149422   \n",
       "Bairro Novo        7.934356  1.461589  0.141745         -1.102200  -1.131556   \n",
       "Tatuquara          0.780748  1.681981 -0.270502          0.181408  -0.121595   \n",
       "\n",
       "                  Boqueirão  Pinheirinho        CIC  Bairro Novo  Tatuquara  \n",
       "name_macrozone                                                               \n",
       "Matriz            18.286215    -9.860768  -9.555118    -2.214499  -2.428044  \n",
       "Portão             6.693239     3.692080   2.123732     1.013952   1.835928  \n",
       "Cajuru             3.961171     1.909569  -0.191312     0.079056  -0.149868  \n",
       "Santa Felicidade  -1.146412    -1.168537  -3.478783    -1.467569  -0.109756  \n",
       "Boa Vista         -1.074444    -0.685820  -0.310649    -0.546044  -0.266390  \n",
       "Boqueirão         -2.349753     2.617905   0.181596     0.482623   1.195575  \n",
       "Pinheirinho        3.067450    -3.731271   1.129050     0.275663   1.114611  \n",
       "CIC               -0.535421     0.444573 -12.262191    -0.184834   0.056561  \n",
       "Bairro Novo        0.596148     1.356651   0.346817    -2.761712  -0.102667  \n",
       "Tatuquara          0.590981     0.367438  -0.250406    -0.257884  -0.323280  "
      ]
     },
     "execution_count": 108,
     "metadata": {},
     "output_type": "execute_result"
    }
   ],
   "source": [
    "wday_est_survey_macrozones"
   ]
  },
  {
   "cell_type": "code",
   "execution_count": 109,
   "metadata": {
    "scrolled": true
   },
   "outputs": [
    {
     "name": "stdout",
     "output_type": "stream",
     "text": [
      "-20.948414679009545 26.050974734855075\n"
     ]
    }
   ],
   "source": [
    "print(np.min(wday_est_survey_macrozones.values),np.max(wday_est_survey_macrozones.values))"
   ]
  },
  {
   "cell_type": "code",
   "execution_count": 110,
   "metadata": {},
   "outputs": [],
   "source": [
    "wday_est_survey_macrozones_error = np.abs(wday_est_survey_macrozones.values).mean()"
   ]
  },
  {
   "cell_type": "code",
   "execution_count": 111,
   "metadata": {},
   "outputs": [
    {
     "data": {
      "text/plain": [
       "3.162080587208656"
      ]
     },
     "execution_count": 111,
     "metadata": {},
     "output_type": "execute_result"
    }
   ],
   "source": [
    "wday_est_survey_macrozones_error"
   ]
  },
  {
   "cell_type": "code",
   "execution_count": 112,
   "metadata": {
    "scrolled": false
   },
   "outputs": [
    {
     "data": {
      "image/png": "[encoded data removed]",
      "text/plain": [
       "<Figure size 432x288 with 2 Axes>"
      ]
     },
     "metadata": {
      "needs_background": "light"
     },
     "output_type": "display_data"
    }
   ],
   "source": [
    "wday_est_survey_macrozones_heatmap = build_heatmap_from_od_matrix(wday_est_survey_macrozones,\n",
    "                                                                                 color_map=div_scale_cmap,\n",
    "                                                                                 center_val=0.0,min_val=-60.0,max_val=60.0,\n",
    "                                                                                 color_label='Proportion Error (no. trips per 1000 trips)')"
   ]
  },
  {
   "cell_type": "code",
   "execution_count": 113,
   "metadata": {},
   "outputs": [],
   "source": [
    "wday_est_survey_macrozones_heatmap.get_figure().savefig('/local/tarciso/data/od-mat-validation/heatmaps/error-matrices/wday_est_survey_macrozones_heatmap.png', bbox_inches='tight')"
   ]
  },
  {
   "cell_type": "markdown",
   "metadata": {},
   "source": [
    "#### May Est. Trips - Survey "
   ]
  },
  {
   "cell_type": "code",
   "execution_count": 114,
   "metadata": {},
   "outputs": [],
   "source": [
    "may_est_survey_macrozones = may_est_trips_macrozones - survey_macrozones"
   ]
  },
  {
   "cell_type": "code",
   "execution_count": 115,
   "metadata": {},
   "outputs": [
    {
     "data": {
      "text/html": [
       "<div>\n",
       "<style scoped>\n",
       "    .dataframe tbody tr th:only-of-type {\n",
       "        vertical-align: middle;\n",
       "    }\n",
       "\n",
       "    .dataframe tbody tr th {\n",
       "        vertical-align: top;\n",
       "    }\n",
       "\n",
       "    .dataframe thead th {\n",
       "        text-align: right;\n",
       "    }\n",
       "</style>\n",
       "<table border=\"1\" class=\"dataframe\">\n",
       "  <thead>\n",
       "    <tr style=\"text-align: right;\">\n",
       "      <th></th>\n",
       "      <th>Matriz</th>\n",
       "      <th>Portão</th>\n",
       "      <th>Cajuru</th>\n",
       "      <th>Santa Felicidade</th>\n",
       "      <th>Boa Vista</th>\n",
       "      <th>Boqueirão</th>\n",
       "      <th>Pinheirinho</th>\n",
       "      <th>CIC</th>\n",
       "      <th>Bairro Novo</th>\n",
       "      <th>Tatuquara</th>\n",
       "    </tr>\n",
       "    <tr>\n",
       "      <th>name_macrozone</th>\n",
       "      <th></th>\n",
       "      <th></th>\n",
       "      <th></th>\n",
       "      <th></th>\n",
       "      <th></th>\n",
       "      <th></th>\n",
       "      <th></th>\n",
       "      <th></th>\n",
       "      <th></th>\n",
       "      <th></th>\n",
       "    </tr>\n",
       "  </thead>\n",
       "  <tbody>\n",
       "    <tr>\n",
       "      <th>Matriz</th>\n",
       "      <td>8.063821</td>\n",
       "      <td>4.476852</td>\n",
       "      <td>2.384965</td>\n",
       "      <td>-17.559512</td>\n",
       "      <td>-20.906830</td>\n",
       "      <td>18.448915</td>\n",
       "      <td>-8.751067</td>\n",
       "      <td>-9.838674</td>\n",
       "      <td>-1.806568</td>\n",
       "      <td>-2.054777</td>\n",
       "    </tr>\n",
       "    <tr>\n",
       "      <th>Portão</th>\n",
       "      <td>6.578659</td>\n",
       "      <td>6.185414</td>\n",
       "      <td>2.365065</td>\n",
       "      <td>-0.266093</td>\n",
       "      <td>-2.390474</td>\n",
       "      <td>6.006749</td>\n",
       "      <td>3.979154</td>\n",
       "      <td>1.938793</td>\n",
       "      <td>1.235669</td>\n",
       "      <td>2.105384</td>\n",
       "    </tr>\n",
       "    <tr>\n",
       "      <th>Cajuru</th>\n",
       "      <td>14.338620</td>\n",
       "      <td>2.058595</td>\n",
       "      <td>0.941271</td>\n",
       "      <td>-0.679063</td>\n",
       "      <td>0.341333</td>\n",
       "      <td>4.158642</td>\n",
       "      <td>2.148333</td>\n",
       "      <td>-0.113366</td>\n",
       "      <td>0.202806</td>\n",
       "      <td>-0.090050</td>\n",
       "    </tr>\n",
       "    <tr>\n",
       "      <th>Santa Felicidade</th>\n",
       "      <td>-8.223269</td>\n",
       "      <td>-1.159555</td>\n",
       "      <td>-1.954343</td>\n",
       "      <td>-17.086785</td>\n",
       "      <td>-1.949976</td>\n",
       "      <td>-1.214241</td>\n",
       "      <td>-1.196882</td>\n",
       "      <td>-3.989356</td>\n",
       "      <td>-1.446442</td>\n",
       "      <td>-0.080467</td>\n",
       "    </tr>\n",
       "    <tr>\n",
       "      <th>Boa Vista</th>\n",
       "      <td>-9.368011</td>\n",
       "      <td>-2.474853</td>\n",
       "      <td>-0.069747</td>\n",
       "      <td>-1.427097</td>\n",
       "      <td>-15.102460</td>\n",
       "      <td>-1.116523</td>\n",
       "      <td>-0.662063</td>\n",
       "      <td>-0.322980</td>\n",
       "      <td>-0.533168</td>\n",
       "      <td>-0.254776</td>\n",
       "    </tr>\n",
       "    <tr>\n",
       "      <th>Boqueirão</th>\n",
       "      <td>26.681293</td>\n",
       "      <td>4.839405</td>\n",
       "      <td>3.726219</td>\n",
       "      <td>-0.428726</td>\n",
       "      <td>-1.244222</td>\n",
       "      <td>-1.510013</td>\n",
       "      <td>2.760126</td>\n",
       "      <td>0.235085</td>\n",
       "      <td>0.591276</td>\n",
       "      <td>1.350519</td>\n",
       "    </tr>\n",
       "    <tr>\n",
       "      <th>Pinheirinho</th>\n",
       "      <td>0.040189</td>\n",
       "      <td>1.837353</td>\n",
       "      <td>2.089867</td>\n",
       "      <td>-0.348953</td>\n",
       "      <td>-0.934796</td>\n",
       "      <td>2.735421</td>\n",
       "      <td>-3.389431</td>\n",
       "      <td>1.232260</td>\n",
       "      <td>0.407001</td>\n",
       "      <td>1.411378</td>\n",
       "    </tr>\n",
       "    <tr>\n",
       "      <th>CIC</th>\n",
       "      <td>1.759616</td>\n",
       "      <td>2.258722</td>\n",
       "      <td>-0.970878</td>\n",
       "      <td>-2.619576</td>\n",
       "      <td>-1.140055</td>\n",
       "      <td>-0.332838</td>\n",
       "      <td>0.725675</td>\n",
       "      <td>-11.603394</td>\n",
       "      <td>0.014285</td>\n",
       "      <td>0.337493</td>\n",
       "    </tr>\n",
       "    <tr>\n",
       "      <th>Bairro Novo</th>\n",
       "      <td>9.513318</td>\n",
       "      <td>1.954261</td>\n",
       "      <td>0.322586</td>\n",
       "      <td>-1.028687</td>\n",
       "      <td>-1.101736</td>\n",
       "      <td>1.027037</td>\n",
       "      <td>1.658162</td>\n",
       "      <td>0.523191</td>\n",
       "      <td>-2.524957</td>\n",
       "      <td>-0.020362</td>\n",
       "    </tr>\n",
       "    <tr>\n",
       "      <th>Tatuquara</th>\n",
       "      <td>1.713649</td>\n",
       "      <td>2.208294</td>\n",
       "      <td>-0.203632</td>\n",
       "      <td>0.277148</td>\n",
       "      <td>-0.090014</td>\n",
       "      <td>0.766852</td>\n",
       "      <td>0.881703</td>\n",
       "      <td>0.147392</td>\n",
       "      <td>-0.159821</td>\n",
       "      <td>-0.244260</td>\n",
       "    </tr>\n",
       "  </tbody>\n",
       "</table>\n",
       "</div>"
      ],
      "text/plain": [
       "                     Matriz    Portão    Cajuru  Santa Felicidade  Boa Vista  \\\n",
       "name_macrozone                                                                 \n",
       "Matriz             8.063821  4.476852  2.384965        -17.559512 -20.906830   \n",
       "Portão             6.578659  6.185414  2.365065         -0.266093  -2.390474   \n",
       "Cajuru            14.338620  2.058595  0.941271         -0.679063   0.341333   \n",
       "Santa Felicidade  -8.223269 -1.159555 -1.954343        -17.086785  -1.949976   \n",
       "Boa Vista         -9.368011 -2.474853 -0.069747         -1.427097 -15.102460   \n",
       "Boqueirão         26.681293  4.839405  3.726219         -0.428726  -1.244222   \n",
       "Pinheirinho        0.040189  1.837353  2.089867         -0.348953  -0.934796   \n",
       "CIC                1.759616  2.258722 -0.970878         -2.619576  -1.140055   \n",
       "Bairro Novo        9.513318  1.954261  0.322586         -1.028687  -1.101736   \n",
       "Tatuquara          1.713649  2.208294 -0.203632          0.277148  -0.090014   \n",
       "\n",
       "                  Boqueirão  Pinheirinho        CIC  Bairro Novo  Tatuquara  \n",
       "name_macrozone                                                               \n",
       "Matriz            18.448915    -8.751067  -9.838674    -1.806568  -2.054777  \n",
       "Portão             6.006749     3.979154   1.938793     1.235669   2.105384  \n",
       "Cajuru             4.158642     2.148333  -0.113366     0.202806  -0.090050  \n",
       "Santa Felicidade  -1.214241    -1.196882  -3.989356    -1.446442  -0.080467  \n",
       "Boa Vista         -1.116523    -0.662063  -0.322980    -0.533168  -0.254776  \n",
       "Boqueirão         -1.510013     2.760126   0.235085     0.591276   1.350519  \n",
       "Pinheirinho        2.735421    -3.389431   1.232260     0.407001   1.411378  \n",
       "CIC               -0.332838     0.725675 -11.603394     0.014285   0.337493  \n",
       "Bairro Novo        1.027037     1.658162   0.523191    -2.524957  -0.020362  \n",
       "Tatuquara          0.766852     0.881703   0.147392    -0.159821  -0.244260  "
      ]
     },
     "execution_count": 115,
     "metadata": {},
     "output_type": "execute_result"
    }
   ],
   "source": [
    "may_est_survey_macrozones"
   ]
  },
  {
   "cell_type": "code",
   "execution_count": 116,
   "metadata": {
    "scrolled": true
   },
   "outputs": [
    {
     "name": "stdout",
     "output_type": "stream",
     "text": [
      "-20.90682966970082 26.68129314992325\n"
     ]
    }
   ],
   "source": [
    "print(np.min(may_est_survey_macrozones.values),np.max(may_est_survey_macrozones.values))"
   ]
  },
  {
   "cell_type": "code",
   "execution_count": 117,
   "metadata": {},
   "outputs": [],
   "source": [
    "may_est_survey_macrozones_error = np.abs(may_est_survey_macrozones.values).mean()"
   ]
  },
  {
   "cell_type": "code",
   "execution_count": 118,
   "metadata": {},
   "outputs": [
    {
     "data": {
      "text/plain": [
       "3.2797163450202858"
      ]
     },
     "execution_count": 118,
     "metadata": {},
     "output_type": "execute_result"
    }
   ],
   "source": [
    "may_est_survey_macrozones_error"
   ]
  },
  {
   "cell_type": "code",
   "execution_count": 119,
   "metadata": {
    "scrolled": false
   },
   "outputs": [
    {
     "data": {
      "image/png": "[encoded data removed]",
      "text/plain": [
       "<Figure size 432x288 with 2 Axes>"
      ]
     },
     "metadata": {
      "needs_background": "light"
     },
     "output_type": "display_data"
    }
   ],
   "source": [
    "may_est_survey_macrozones_heatmap = build_heatmap_from_od_matrix(may_est_survey_macrozones,\n",
    "                                                                                 color_map=div_scale_cmap,\n",
    "                                                                                 center_val=0.0,min_val=-60.0,max_val=60.0,\n",
    "                                                                                 color_label='Proportion Error (no. trips per 1000 trips)')"
   ]
  },
  {
   "cell_type": "code",
   "execution_count": 120,
   "metadata": {},
   "outputs": [],
   "source": [
    "may_est_survey_macrozones_heatmap.get_figure().savefig('/local/tarciso/data/od-mat-validation/heatmaps/error-matrices/may_est_survey_macrozones_heatmap.png', bbox_inches='tight')"
   ]
  },
  {
   "cell_type": "code",
   "execution_count": null,
   "metadata": {},
   "outputs": [],
   "source": []
  }
 ],
 "metadata": {
  "kernelspec": {
   "display_name": "Python 3",
   "language": "python",
   "name": "python3"
  },
  "language_info": {
   "codemirror_mode": {
    "name": "ipython",
    "version": 3
   },
   "file_extension": ".py",
   "mimetype": "text/x-python",
   "name": "python",
   "nbconvert_exporter": "python",
   "pygments_lexer": "ipython3",
   "version": "3.7.0"
  }
 },
 "nbformat": 4,
 "nbformat_minor": 2
}
