{
 "cells": [
  {
   "cell_type": "markdown",
   "metadata": {},
   "source": [
    "# Computing algorithm's perfomance "
   ]
  },
  {
   "cell_type": "markdown",
   "metadata": {},
   "source": [
    "#### Import packages"
   ]
  },
  {
   "cell_type": "code",
   "execution_count": 1,
   "metadata": {},
   "outputs": [],
   "source": [
    "import numpy as np\n",
    "import matplotlib.pyplot as plt\n",
    "from IPython.display import display, Math, Latex\n",
    "from scipy import stats"
   ]
  },
  {
   "cell_type": "markdown",
   "metadata": {},
   "source": [
    "#### Read data"
   ]
  },
  {
   "cell_type": "code",
   "execution_count": 2,
   "metadata": {},
   "outputs": [],
   "source": [
    "# [:,1:] -> this sulfix was used to skip the first column\n",
    "reference_data = np.genfromtxt(\"../../../../data/survey_macrozones_freqs.csv\", skip_header=True, delimiter=\",\")[:,1:]\n",
    "all_est_data = np.genfromtxt(\"../../../../data/all_est_macrozones_freqs.csv\", skip_header=True, delimiter=\",\")[:,1:]\n",
    "may_est_data = np.genfromtxt(\"../../../../data/may_est_macrozones_freqs.csv\", skip_header=True, delimiter=\",\")[:,1:]\n",
    "wday_est_data = np.genfromtxt(\"../../../../data/wday_est_macrozones_freqs.csv\", skip_header=True, delimiter=\",\")[:,1:]"
   ]
  },
  {
   "cell_type": "markdown",
   "metadata": {},
   "source": [
    "#### Normalize data\n",
    "The algorithms were evaluated in a bigger test subset than the survey subset. So, to a fair comparison, is appropriate to use the same number of items (Aka normalize) in test subset to compare the different algorithms."
   ]
  },
  {
   "cell_type": "code",
   "execution_count": 3,
   "metadata": {},
   "outputs": [],
   "source": [
    "def get_balanced_matrix(ref, src):\n",
    "    return np.round(src.T/((np.sum(src, axis=1)/np.sum(ref, axis=1)))).T\n",
    "\n",
    "all_est_data = get_balanced_matrix(reference_data, all_est_data)\n",
    "may_est_data = get_balanced_matrix(reference_data, may_est_data)\n",
    "wday_est_data = get_balanced_matrix(reference_data, wday_est_data)"
   ]
  },
  {
   "cell_type": "markdown",
   "metadata": {},
   "source": [
    "## Compute Mean Absolute Error (MAE) and Root-Mean-Square Error (RMSE)"
   ]
  },
  {
   "cell_type": "code",
   "execution_count": 4,
   "metadata": {},
   "outputs": [
    {
     "data": {
      "text/latex": [
       "$\\displaystyle MAE = \\frac{\\sum_{i=1}^{n}|y_i - x_i|}{n}$"
      ],
      "text/plain": [
       "<IPython.core.display.Math object>"
      ]
     },
     "metadata": {},
     "output_type": "display_data"
    },
    {
     "name": "stdout",
     "output_type": "stream",
     "text": [
      "28.04\n",
      "27.86\n",
      "27.58\n"
     ]
    }
   ],
   "source": [
    "display(Math(r'MAE = \\frac{\\sum_{i=1}^{n}|y_i - x_i|}{n}'))\n",
    "def compute_MAE(src, ref, row=False):\n",
    "    if row:\n",
    "        return np.sum(np.abs(src-ref), axis=1)/np.size(ref)\n",
    "    else:\n",
    "        return np.sum(np.abs(src-ref))/np.size(ref)\n",
    "    \n",
    "print(compute_MAE(reference_data, all_est_data))\n",
    "print(compute_MAE(reference_data, wday_est_data))\n",
    "print(compute_MAE(reference_data, may_est_data))"
   ]
  },
  {
   "cell_type": "code",
   "execution_count": 5,
   "metadata": {},
   "outputs": [
    {
     "data": {
      "text/latex": [
       "$\\displaystyle RMSE = \\frac{\\sum_{i=1}^{n}(y_i - x_i)^2}{n}$"
      ],
      "text/plain": [
       "<IPython.core.display.Math object>"
      ]
     },
     "metadata": {},
     "output_type": "display_data"
    },
    {
     "name": "stdout",
     "output_type": "stream",
     "text": [
      "2715.14\n",
      "2623.58\n",
      "2585.94\n"
     ]
    }
   ],
   "source": [
    "display(Math(r'RMSE = \\frac{\\sum_{i=1}^{n}(y_i - x_i)^2}{n}'))\n",
    "def compute_RMSE(src, ref, row=False):\n",
    "    if row:\n",
    "        return np.sum(np.square(src-ref), axis=1)/np.size(ref)\n",
    "    else:\n",
    "        return np.sum(np.square(src-ref))/np.size(ref)\n",
    "\n",
    "print(compute_RMSE(reference_data, all_est_data))\n",
    "print(compute_RMSE(reference_data, wday_est_data))\n",
    "print(compute_RMSE(reference_data, may_est_data))"
   ]
  },
  {
   "cell_type": "markdown",
   "metadata": {},
   "source": [
    "#### Function to plot figure"
   ]
  },
  {
   "cell_type": "code",
   "execution_count": 6,
   "metadata": {},
   "outputs": [],
   "source": [
    "def plot_figure(xlabel, ylabel, title, all_data, may_data, wday_data, n_groups):\n",
    "    # create plot\n",
    "    fig, ax = plt.subplots()\n",
    "    index = np.arange(n_groups)\n",
    "    bar_width = 0.25\n",
    "    opacity = 0.7\n",
    "\n",
    "    rects1 = plt.bar(index, all_data, bar_width,\n",
    "                     alpha=opacity, color='tab:red', label='All data')\n",
    "\n",
    "    rects2 = plt.bar(index + bar_width, may_data, bar_width,\n",
    "                     alpha=opacity, color='tab:green', label='May data')\n",
    "\n",
    "    rects3 = plt.bar(index + (2*bar_width), wday_data, bar_width,\n",
    "                     alpha=opacity, color='tab:blue', label='Week day data')\n",
    "\n",
    "    plt.xlabel(xlabel)\n",
    "    plt.ylabel(ylabel)\n",
    "    plt.title(title)\n",
    "    plt.xticks(index+bar_width, ('A', 'B', 'C', 'D', 'E', 'F', 'G', 'H', 'I', 'J'))\n",
    "    plt.legend(loc=5)\n",
    "\n",
    "    plt.tight_layout()\n",
    "    plt.show()"
   ]
  },
  {
   "cell_type": "code",
   "execution_count": 7,
   "metadata": {
    "scrolled": true
   },
   "outputs": [
    {
     "data": {
      "image/png": "[encoded data removed]",
      "text/plain": [
       "<Figure size 432x288 with 1 Axes>"
      ]
     },
     "metadata": {
      "needs_background": "light"
     },
     "output_type": "display_data"
    },
    {
     "data": {
      "text/plain": [
       "KruskalResult(statistic=0.0975713012477685, pvalue=0.9523852510054608)"
      ]
     },
     "execution_count": 7,
     "metadata": {},
     "output_type": "execute_result"
    }
   ],
   "source": [
    "rmse_all = compute_RMSE(reference_data, all_est_data, row=True)\n",
    "rmse_may = compute_RMSE(reference_data, may_est_data, row=True)\n",
    "rmse_wday = compute_RMSE(reference_data, wday_est_data, row=True)\n",
    "\n",
    "plot_figure(all_data=rmse_all, may_data=rmse_may, wday_data=rmse_wday,\n",
    "            xlabel='Macro zone', ylabel='RMSE', title='RMSE by macro zone',\n",
    "           n_groups=rmse_all.size)\n",
    "\n",
    "stats.kruskal(rmse_all, rmse_may, rmse_wday)"
   ]
  },
  {
   "cell_type": "code",
   "execution_count": 8,
   "metadata": {},
   "outputs": [
    {
     "data": {
      "image/png": "[encoded data removed]",
      "text/plain": [
       "<Figure size 432x288 with 1 Axes>"
      ]
     },
     "metadata": {
      "needs_background": "light"
     },
     "output_type": "display_data"
    },
    {
     "data": {
      "text/plain": [
       "KruskalResult(statistic=0.06992632283991307, pvalue=0.9656409884451941)"
      ]
     },
     "execution_count": 8,
     "metadata": {},
     "output_type": "execute_result"
    }
   ],
   "source": [
    "mae_all = compute_MAE(reference_data, all_est_data, row=True)\n",
    "mae_may = compute_MAE(reference_data, may_est_data, row=True)\n",
    "mae_wday = compute_MAE(reference_data, wday_est_data, row=True)\n",
    "\n",
    "plot_figure(all_data=mae_all, may_data=mae_may, wday_data=mae_wday,\n",
    "            xlabel='Macro zone', ylabel='RMSE', title='MAE by macro zone',\n",
    "           n_groups=mae_all.size)\n",
    "\n",
    "stats.kruskal(mae_all, mae_may, mae_wday)"
   ]
  },
  {
   "cell_type": "markdown",
   "metadata": {},
   "source": [
    "## Compute True Positive and False Positive metrics\n",
    "In this evaluation, we will compute the number of True Positives (TP) and False Positives (FP) for each macro zone for all algorithms and compare their performance."
   ]
  },
  {
   "cell_type": "code",
   "execution_count": 9,
   "metadata": {},
   "outputs": [],
   "source": [
    "def get_scores(src, ref):\n",
    "    tp = fp = np.array([])\n",
    "    for r_src, r_ref in zip(src, ref):\n",
    "        high_pos = r_ref > r_src\n",
    "        r_fp = np.sum(r_ref[high_pos] - r_src[high_pos])\n",
    "        fp = np.append(fp, r_fp)\n",
    "        tp = np.append(tp, np.sum(r_src)-r_fp)\n",
    "    return tp, fp\n",
    "\n",
    "tp_all, fp_all = get_scores(reference_data, all_est_data)\n",
    "tp_may, fp_may = get_scores(reference_data, may_est_data)\n",
    "tp_wday, fp_wday = get_scores(reference_data, wday_est_data)"
   ]
  },
  {
   "cell_type": "markdown",
   "metadata": {},
   "source": [
    "#### Compute Precision or Positive Predictive Value (PPV)"
   ]
  },
  {
   "cell_type": "code",
   "execution_count": 10,
   "metadata": {},
   "outputs": [
    {
     "data": {
      "text/latex": [
       "$\\displaystyle PPV = \\frac{TP}{TP+FP}$"
      ],
      "text/plain": [
       "<IPython.core.display.Math object>"
      ]
     },
     "metadata": {},
     "output_type": "display_data"
    }
   ],
   "source": [
    "display(Math(r'PPV = \\frac{TP}{TP+FP}'))\n",
    "def get_precision(tp, fp):\n",
    "    return tp/(tp+fp)\n",
    "\n",
    "def get_precision_global(tp, fp):\n",
    "    tp = np.sum(tp)\n",
    "    fp = np.sum(fp)\n",
    "    return get_precision(tp, fp)"
   ]
  },
  {
   "cell_type": "markdown",
   "metadata": {},
   "source": [
    "#### Precision global\n",
    "Small difference between these values."
   ]
  },
  {
   "cell_type": "code",
   "execution_count": 11,
   "metadata": {},
   "outputs": [
    {
     "name": "stdout",
     "output_type": "stream",
     "text": [
      "0.8649870179824983\n",
      "0.8673910952976248\n",
      "0.865948648908549\n"
     ]
    }
   ],
   "source": [
    "ppv_all_global = get_precision_global(tp_all, fp_all)\n",
    "ppv_may_global = get_precision_global(tp_may, fp_may)\n",
    "ppv_wday_global = get_precision_global(tp_wday, fp_wday)\n",
    "\n",
    "print(ppv_all_global)\n",
    "print(ppv_may_global)\n",
    "print(ppv_wday_global)"
   ]
  },
  {
   "cell_type": "markdown",
   "metadata": {},
   "source": [
    "#### Precision for macro zone"
   ]
  },
  {
   "cell_type": "code",
   "execution_count": 12,
   "metadata": {},
   "outputs": [
    {
     "data": {
      "image/png": "[encoded data removed]",
      "text/plain": [
       "<Figure size 432x288 with 1 Axes>"
      ]
     },
     "metadata": {
      "needs_background": "light"
     },
     "output_type": "display_data"
    }
   ],
   "source": [
    "ppv_all = get_precision(tp_all, fp_all)\n",
    "ppv_may = get_precision(tp_may, fp_may)\n",
    "ppv_wday = get_precision(tp_wday, fp_wday)\n",
    "\n",
    "plot_figure(all_data=ppv_all, may_data=ppv_may, wday_data=ppv_wday,\n",
    "            xlabel='Macro zone', ylabel='PPV', title='PPV by macro zone',\n",
    "           n_groups=mae_all.size)"
   ]
  },
  {
   "cell_type": "code",
   "execution_count": 13,
   "metadata": {},
   "outputs": [
    {
     "data": {
      "text/plain": [
       "KruskalResult(statistic=0.08342997323817555, pvalue=0.9591431102399561)"
      ]
     },
     "execution_count": 13,
     "metadata": {},
     "output_type": "execute_result"
    }
   ],
   "source": [
    "stats.kruskal(ppv_all, ppv_may, ppv_wday)"
   ]
  },
  {
   "cell_type": "markdown",
   "metadata": {},
   "source": [
    "In this experiment, we can conclude that has no statistical difference between the algorithms tested."
   ]
  }
 ],
 "metadata": {
  "kernelspec": {
   "display_name": "Python 3",
   "language": "python",
   "name": "python3"
  },
  "language_info": {
   "codemirror_mode": {
    "name": "ipython",
    "version": 3
   },
   "file_extension": ".py",
   "mimetype": "text/x-python",
   "name": "python",
   "nbconvert_exporter": "python",
   "pygments_lexer": "ipython3",
   "version": "3.7.1"
  }
 },
 "nbformat": 4,
 "nbformat_minor": 2
}
